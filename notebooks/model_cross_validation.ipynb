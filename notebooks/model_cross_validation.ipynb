{
 "cells": [
  {
   "cell_type": "code",
   "execution_count": 1,
   "metadata": {},
   "outputs": [],
   "source": [
    "import pandas as pd\n",
    "import numpy as np\n",
    "import datetime\n",
    "import sklearn\n",
    "from sklearn.model_selection import TimeSeriesSplit\n",
    "\n",
    "from collections import Counter\n",
    "from sklearn.base import BaseEstimator\n",
    "from tqdm import trange\n",
    "from imblearn.combine import SMOTETomek\n",
    "from sklearn.linear_model import LogisticRegression\n",
    "import copy\n",
    "\n",
    "from sklearn.metrics import average_precision_score\n",
    "from sklearn.metrics import precision_recall_curve\n",
    "import matplotlib.pyplot as plt\n",
    "%matplotlib inline\n",
    "from sklearn.metrics import precision_recall_curve\n",
    "import matplotlib.pyplot as plt\n",
    "from sklearn import metrics\n",
    "from sklearn.metrics import f1_score\n",
    "from sklearn.model_selection import GridSearchCV\n",
    "from imblearn.pipeline import make_pipeline, Pipeline\n",
    "from imblearn.under_sampling import     OneSidedSelection \n",
    "from xgboost import XGBClassifier\n",
    "from imblearn.under_sampling import ClusterCentroids \n",
    "from sklearn.preprocessing import StandardScaler"
   ]
  },
  {
   "cell_type": "code",
   "execution_count": 2,
   "metadata": {},
   "outputs": [],
   "source": [
    "def train_val_ts_split(X, th=0.7, split_target=None): # X - датафрейм, в котором есть  TS_indexer\n",
    "    unique_TS_split = np.array(sorted(X.TS_indexer.unique()))\n",
    "    batchsize = int(len(unique_TS_split)*th)\n",
    "    excerpt_train = np.arange(0, batchsize)\n",
    "    excerpt_val =  np.arange(batchsize, len(unique_TS_split))\n",
    "    d_train =  X[X.TS_indexer.isin(unique_TS_split[excerpt_train])]\n",
    "    d_val = X[X.TS_indexer.isin(unique_TS_split[excerpt_val])]\n",
    "    if split_target is None:\n",
    "        return d_train, d_val\n",
    "    else:\n",
    "        return d_train.drop('label', axis=1), d_train.label, d_val.drop('label', axis=1), d_val.label"
   ]
  },
  {
   "cell_type": "markdown",
   "metadata": {},
   "source": [
    "### Подготовка данных"
   ]
  },
  {
   "cell_type": "markdown",
   "metadata": {},
   "source": [
    "Загружаем данные с фичами."
   ]
  },
  {
   "cell_type": "code",
   "execution_count": 4,
   "metadata": {},
   "outputs": [],
   "source": [
    "data = pd.read_feather(\"../data/combined_dataset/train_v1.fth\")\n",
    "\n",
    "data['TS_indexer'] = data.short_date\n",
    "data.fillna(0, inplace=True)\n",
    "data.drop(['event_id', 'event_time'], axis = 1, inplace=True)\n",
    "\n",
    "data = data[data.label>=0]"
   ]
  },
  {
   "cell_type": "markdown",
   "metadata": {},
   "source": [
    "Разбиваем на трейн и валидацию."
   ]
  },
  {
   "cell_type": "code",
   "execution_count": 5,
   "metadata": {},
   "outputs": [],
   "source": [
    "X_train, X_val = train_val_ts_split(data , th=0.7, split_target=None)\n",
    "y_val = X_val['label'].values\n",
    "y_train = X_train['label']#.values\n",
    "x_train = X_train.drop(['label', 'short_date','TS_indexer', 'user_id'], axis=1)"
   ]
  },
  {
   "cell_type": "markdown",
   "metadata": {},
   "source": [
    "Трейн разбиваем на фолды для временной кросс-валидации."
   ]
  },
  {
   "cell_type": "code",
   "execution_count": 6,
   "metadata": {},
   "outputs": [],
   "source": [
    "unique_TS_split_train = np.array(sorted(X_train.TS_indexer.unique()))"
   ]
  },
  {
   "cell_type": "code",
   "execution_count": 7,
   "metadata": {},
   "outputs": [],
   "source": [
    "tscv = TimeSeriesSplit(n_splits=3, max_train_size=21)"
   ]
  },
  {
   "cell_type": "code",
   "execution_count": 8,
   "metadata": {},
   "outputs": [
    {
     "name": "stdout",
     "output_type": "stream",
     "text": [
      "TRAIN LEN: 6 TEST LEN: 5\n",
      "TRAIN LEN: 11 TEST LEN: 5\n",
      "TRAIN LEN: 16 TEST LEN: 5\n"
     ]
    }
   ],
   "source": [
    "for train_index, test_index in tscv.split(unique_TS_split_train):\n",
    "    print(\"TRAIN LEN:\", len(unique_TS_split_train[train_index]), \"TEST LEN:\", len(unique_TS_split_train[test_index]))"
   ]
  },
  {
   "cell_type": "markdown",
   "metadata": {},
   "source": [
    "Делаем разбиение для кросс-валидации."
   ]
  },
  {
   "cell_type": "code",
   "execution_count": 9,
   "metadata": {},
   "outputs": [],
   "source": [
    "X_train_id = X_train.reset_index(drop=True)\n",
    "\n",
    "temp_TS_cv = [\n",
    "    (X_train_id[X_train_id.TS_indexer.isin(unique_TS_split_train[train_index])].index.tolist(), \n",
    "     X_train_id[X_train_id.TS_indexer.isin(unique_TS_split_train[test_index])].index.tolist()) for (train_index, test_index) in tscv.split(unique_TS_split_train) if len(train_index)>=2]\n",
    "\n",
    "completed_TS_cv = [(train, test) for (train, test) in temp_TS_cv if X_train_id.iloc[test].label.sum() >= 1]"
   ]
  },
  {
   "cell_type": "code",
   "execution_count": 10,
   "metadata": {},
   "outputs": [
    {
     "data": {
      "text/plain": [
       "3"
      ]
     },
     "execution_count": 10,
     "metadata": {},
     "output_type": "execute_result"
    }
   ],
   "source": [
    "len(completed_TS_cv)"
   ]
  },
  {
   "cell_type": "code",
   "execution_count": 11,
   "metadata": {
    "scrolled": true
   },
   "outputs": [
    {
     "name": "stdout",
     "output_type": "stream",
     "text": [
      "Train period: 20171029 - 20171103\n",
      "Test period: 20171104 - 20171108\n",
      "\n",
      "\n",
      "Train period: 20171029 - 20171108\n",
      "Test period: 20171109 - 20171113\n",
      "\n",
      "\n",
      "Train period: 20171029 - 20171113\n",
      "Test period: 20171114 - 20171118\n",
      "\n",
      "\n"
     ]
    }
   ],
   "source": [
    "for i in range(len(completed_TS_cv)):\n",
    "    print(\"Train period: \" + str(X_train_id.loc[completed_TS_cv[i][0]].short_date.min())+' - '+str(X_train_id.loc[completed_TS_cv[i][0]].short_date.max()))\n",
    "    print(\"Test period: \" + str(X_train_id.loc[completed_TS_cv[i][1]].short_date.min())+' - '+str(X_train_id.loc[completed_TS_cv[i][1]].short_date.max()))\n",
    "    print(\"\\r\\n\")"
   ]
  },
  {
   "cell_type": "code",
   "execution_count": 12,
   "metadata": {},
   "outputs": [],
   "source": [
    "X = X_train_id.drop(['user_id' ,'short_date','TS_indexer', 'label'], axis=1).as_matrix()"
   ]
  },
  {
   "cell_type": "code",
   "execution_count": 13,
   "metadata": {},
   "outputs": [],
   "source": [
    "y_train = y_train.values"
   ]
  },
  {
   "cell_type": "markdown",
   "metadata": {},
   "source": [
    "### GridSearchCV"
   ]
  },
  {
   "cell_type": "markdown",
   "metadata": {},
   "source": [
    "Будем искать вокруг значений из ноутбука с заданием.\n",
    "Порядок поиска:\n",
    "* Первоначальное приближение learning_rate\n",
    "* Оптимальный learning_rate около предыдущего лучшего\n",
    "* max_depth около текущего оптимального\n",
    "* n_estimators около текущего оптимального"
   ]
  },
  {
   "cell_type": "code",
   "execution_count": 16,
   "metadata": {},
   "outputs": [
    {
     "name": "stdout",
     "output_type": "stream",
     "text": [
      "Model with grid search\n"
     ]
    }
   ],
   "source": [
    "print('Model with grid search')\n",
    "# \n",
    "params={\n",
    "'learning_rate' : np.logspace(np.log(0.01), np.log(0.9), 5)\n",
    "}\n",
    "\n",
    "xgb = XGBClassifier(base_score=0.5, colsample_bylevel=1, colsample_bytree=0.5,\n",
    "       gamma=0, learning_rate=0.1, max_delta_step=0, max_depth=8,\n",
    "       min_child_weight=1, missing=None, n_estimators=200,\n",
    "       objective='binary:logistic', reg_alpha=8, reg_lambda=1,\n",
    "       scale_pos_weight=1, seed=0, silent=True, subsample=0.6, n_jobs=-1)\n",
    "\n",
    "rs = GridSearchCV(xgb,\n",
    "                  params,\n",
    "                  cv=completed_TS_cv,\n",
    "                  scoring=\"neg_log_loss\",\n",
    "                  verbose=2)"
   ]
  },
  {
   "cell_type": "code",
   "execution_count": 19,
   "metadata": {},
   "outputs": [
    {
     "name": "stdout",
     "output_type": "stream",
     "text": [
      "Model with grid search\n"
     ]
    }
   ],
   "source": [
    "print('Model with grid search')\n",
    "# \n",
    "params={\n",
    "'learning_rate' : np.linspace(0.05, 0.2, 5)\n",
    "}\n",
    "\n",
    "xgb = XGBClassifier(base_score=0.5, colsample_bylevel=1, colsample_bytree=0.5,\n",
    "       gamma=0, learning_rate=0.1, max_delta_step=0, max_depth=8,\n",
    "       min_child_weight=1, missing=None, n_estimators=200, nthread=-1,\n",
    "       objective='binary:logistic', reg_alpha=8, reg_lambda=1,\n",
    "       scale_pos_weight=1, seed=0, silent=True, subsample=0.6, n_jobs=16)\n",
    "rs = GridSearchCV(xgb,\n",
    "                  params,\n",
    "                  cv=completed_TS_cv,\n",
    "                  scoring=\"neg_log_loss\",\n",
    "                  verbose=2)"
   ]
  },
  {
   "cell_type": "code",
   "execution_count": 24,
   "metadata": {},
   "outputs": [
    {
     "name": "stdout",
     "output_type": "stream",
     "text": [
      "Model with grid search\n"
     ]
    }
   ],
   "source": [
    "print('Model with grid search')\n",
    "# \n",
    "params={\n",
    "'max_depth' : [ 3, 5, 6, 7, 8]\n",
    "}\n",
    "xgb = XGBClassifier(n_jobs=-1,learning_rate=0.32222, n_estimators=200)\n",
    "rs = GridSearchCV(xgb,\n",
    "                  params,\n",
    "                  cv=completed_TS_cv,\n",
    "                  scoring=\"neg_log_loss\",\n",
    "                  n_jobs=1,\n",
    "                  verbose=2)"
   ]
  },
  {
   "cell_type": "code",
   "execution_count": 182,
   "metadata": {},
   "outputs": [
    {
     "name": "stdout",
     "output_type": "stream",
     "text": [
      "Model with grid search\n"
     ]
    }
   ],
   "source": [
    "print('Model with grid search')\n",
    "# \n",
    "params={\n",
    "'n_estimators' : [100, 150, 200, 250, 300]\n",
    "}\n",
    "xgb = XGBClassifier(n_jobs=-1,learning_rate=0.32)\n",
    "rs = GridSearchCV(xgb,\n",
    "                  params,\n",
    "                  cv=completed_TS_cv,\n",
    "                  scoring=\"neg_log_loss\",\n",
    "                  n_jobs=1,\n",
    "                  verbose=2)"
   ]
  },
  {
   "cell_type": "code",
   "execution_count": 201,
   "metadata": {},
   "outputs": [
    {
     "name": "stdout",
     "output_type": "stream",
     "text": [
      "Model with grid search\n"
     ]
    }
   ],
   "source": [
    "print('Model with grid search')\n",
    "# \n",
    "params={\n",
    "'reg_alpha' : np.logspace(np.log(0.001), np.log(2), 10)\n",
    "}\n",
    "xgb = XGBClassifier(n_jobs=-1,learning_rate=0.32222, n_estimators=200)\n",
    "rs = GridSearchCV(xgb,\n",
    "                  params,\n",
    "                  cv=completed_TS_cv,\n",
    "                  scoring=\"neg_log_loss\",\n",
    "                  n_jobs=1,\n",
    "                  verbose=2)"
   ]
  },
  {
   "cell_type": "code",
   "execution_count": 205,
   "metadata": {},
   "outputs": [
    {
     "name": "stdout",
     "output_type": "stream",
     "text": [
      "Model with grid search\n"
     ]
    }
   ],
   "source": [
    "print('Model with grid search')\n",
    "# \n",
    "params={\n",
    "'reg_alpha' : np.linspace(4, 10, 10)\n",
    "}\n",
    "xgb = XGBClassifier(n_jobs=-1,learning_rate=0.32222, n_estimators=200)\n",
    "rs = GridSearchCV(xgb,\n",
    "                  params,\n",
    "                  cv=completed_TS_cv,\n",
    "                  scoring=\"neg_log_loss\",\n",
    "                  n_jobs=1,\n",
    "                  verbose=2)"
   ]
  },
  {
   "cell_type": "code",
   "execution_count": 20,
   "metadata": {
    "scrolled": true
   },
   "outputs": [
    {
     "name": "stdout",
     "output_type": "stream",
     "text": [
      "Fitting 3 folds for each of 5 candidates, totalling 15 fits\n",
      "[CV] learning_rate=0.05 ..............................................\n",
      "[CV] ............................... learning_rate=0.05, total= 1.2min\n",
      "[CV] learning_rate=0.05 ..............................................\n"
     ]
    },
    {
     "name": "stderr",
     "output_type": "stream",
     "text": [
      "[Parallel(n_jobs=1)]: Done   1 out of   1 | elapsed:  1.2min remaining:    0.0s\n"
     ]
    },
    {
     "name": "stdout",
     "output_type": "stream",
     "text": [
      "[CV] ............................... learning_rate=0.05, total= 2.1min\n",
      "[CV] learning_rate=0.05 ..............................................\n",
      "[CV] ............................... learning_rate=0.05, total= 3.2min\n",
      "[CV] learning_rate=0.08750000000000001 ...............................\n",
      "[CV] ................ learning_rate=0.08750000000000001, total= 1.2min\n",
      "[CV] learning_rate=0.08750000000000001 ...............................\n",
      "[CV] ................ learning_rate=0.08750000000000001, total= 2.2min\n",
      "[CV] learning_rate=0.08750000000000001 ...............................\n",
      "[CV] ................ learning_rate=0.08750000000000001, total= 3.8min\n",
      "[CV] learning_rate=0.125 .............................................\n",
      "[CV] .............................. learning_rate=0.125, total= 1.2min\n",
      "[CV] learning_rate=0.125 .............................................\n",
      "[CV] .............................. learning_rate=0.125, total= 2.3min\n",
      "[CV] learning_rate=0.125 .............................................\n",
      "[CV] .............................. learning_rate=0.125, total= 5.1min\n",
      "[CV] learning_rate=0.16250000000000003 ...............................\n",
      "[CV] ................ learning_rate=0.16250000000000003, total= 2.8min\n",
      "[CV] learning_rate=0.16250000000000003 ...............................\n",
      "[CV] ................ learning_rate=0.16250000000000003, total= 4.6min\n",
      "[CV] learning_rate=0.16250000000000003 ...............................\n",
      "[CV] ................ learning_rate=0.16250000000000003, total= 6.8min\n",
      "[CV] learning_rate=0.2 ...............................................\n",
      "[CV] ................................ learning_rate=0.2, total= 2.8min\n",
      "[CV] learning_rate=0.2 ...............................................\n",
      "[CV] ................................ learning_rate=0.2, total= 4.7min\n",
      "[CV] learning_rate=0.2 ...............................................\n",
      "[CV] ................................ learning_rate=0.2, total= 6.1min\n"
     ]
    },
    {
     "name": "stderr",
     "output_type": "stream",
     "text": [
      "[Parallel(n_jobs=1)]: Done  15 out of  15 | elapsed: 51.2min finished\n"
     ]
    },
    {
     "data": {
      "text/plain": [
       "({'learning_rate': 0.08750000000000001}, -0.013116185204664198)"
      ]
     },
     "execution_count": 20,
     "metadata": {},
     "output_type": "execute_result"
    }
   ],
   "source": [
    "rs.fit(X, y_train)\n",
    "rs.best_params_, rs.best_score_"
   ]
  },
  {
   "cell_type": "code",
   "execution_count": 207,
   "metadata": {},
   "outputs": [
    {
     "name": "stderr",
     "output_type": "stream",
     "text": [
      "/anaconda3/lib/python3.6/site-packages/sklearn/preprocessing/label.py:151: DeprecationWarning: The truth value of an empty array is ambiguous. Returning False, but in future this will result in an error. Use `array.size > 0` to check that an array is not empty.\n",
      "  if diff:\n"
     ]
    }
   ],
   "source": [
    "xgb = XGBClassifier(n_jobs=-1, learning_rate=0.322222, n_estimators=200, max_depth=3, reg_alpha=8.0)\n",
    "\n",
    "xgb.fit(X ,y_train)\n",
    "preds_proba = xgb.predict_proba(X_val.drop(['label', 'short_date','TS_indexer', 'user_id'], axis=1).values\n",
    "                             )\n",
    "preds = xgb.predict(X_val.drop(['label', 'short_date','TS_indexer', 'user_id'], axis=1).values\n",
    "                 )"
   ]
  },
  {
   "cell_type": "code",
   "execution_count": 21,
   "metadata": {},
   "outputs": [
    {
     "name": "stderr",
     "output_type": "stream",
     "text": [
      "/anaconda3/lib/python3.6/site-packages/sklearn/preprocessing/label.py:151: DeprecationWarning: The truth value of an empty array is ambiguous. Returning False, but in future this will result in an error. Use `array.size > 0` to check that an array is not empty.\n",
      "  if diff:\n"
     ]
    }
   ],
   "source": [
    "xgb = XGBClassifier(base_score=0.5, colsample_bylevel=1, colsample_bytree=0.5,\n",
    "       gamma=0, learning_rate=0.0875, max_delta_step=0, max_depth=8,\n",
    "       min_child_weight=1, missing=None, n_estimators=200,\n",
    "       objective='binary:logistic', reg_alpha=8, reg_lambda=1,\n",
    "       scale_pos_weight=1, seed=0, silent=True, subsample=0.6, n_jobs=-1)\n",
    "xgb.fit(X ,y_train)\n",
    "\n",
    "preds_proba = xgb.predict_proba(X_val.drop(['label', 'short_date','TS_indexer', 'user_id'], axis=1).values\n",
    "                             )\n",
    "preds = xgb.predict(X_val.drop(['label', 'short_date','TS_indexer', 'user_id'], axis=1).values\n",
    "                 )"
   ]
  },
  {
   "cell_type": "code",
   "execution_count": 22,
   "metadata": {},
   "outputs": [
    {
     "data": {
      "image/png": "[encoded data removed]",
      "text/plain": [
       "<matplotlib.figure.Figure at 0x7f88250922b0>"
      ]
     },
     "metadata": {},
     "output_type": "display_data"
    },
    {
     "data": {
      "text/plain": [
       "0.4469886696215203"
      ]
     },
     "execution_count": 22,
     "metadata": {},
     "output_type": "execute_result"
    }
   ],
   "source": [
    "average_precision = average_precision_score(y_val, preds)\n",
    "precision, recall, thresholds = precision_recall_curve(y_val, preds_proba[:, 1])\n",
    "\n",
    "plt.step(recall, precision, color='b', alpha=0.2,\n",
    "         where='post')\n",
    "plt.fill_between(recall, precision, step='post', alpha=0.2,\n",
    "                 color='b')\n",
    "\n",
    "plt.xlabel('Recall')\n",
    "plt.ylabel('Precision')\n",
    "plt.ylim([0.0, 1.05])\n",
    "plt.xlim([0.0, 1.0])\n",
    "plt.title('2-class Precision-Recall curve: AP={0:0.2f}'.format(\n",
    "          average_precision))\n",
    "plt.show()\n",
    "\n",
    "metrics.auc(recall, precision)"
   ]
  }
 ],
 "metadata": {
  "kernelspec": {
   "display_name": "Python 3",
   "language": "python",
   "name": "python3"
  },
  "language_info": {
   "codemirror_mode": {
    "name": "ipython",
    "version": 3
   },
   "file_extension": ".py",
   "mimetype": "text/x-python",
   "name": "python",
   "nbconvert_exporter": "python",
   "pygments_lexer": "ipython3",
   "version": "3.6.4"
  }
 },
 "nbformat": 4,
 "nbformat_minor": 2
}
