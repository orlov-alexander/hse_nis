{
 "cells": [
  {
   "cell_type": "code",
   "execution_count": 706,
   "metadata": {
    "collapsed": true
   },
   "outputs": [],
   "source": [
    "import pandas as pd\n",
    "import numpy as np\n",
    "import sqlite3\n",
    "import datetime\n",
    "import sklearn\n",
    "import sqlalchemy as sa\n",
    "from sklearn.model_selection import TimeSeriesSplit\n",
    "from kmeans_smote import KMeansSMOTE\n",
    "from imblearn.over_sampling import RandomOverSampler\n",
    "from imblearn.over_sampling import SMOTE "
   ]
  },
  {
   "cell_type": "code",
   "execution_count": 667,
   "metadata": {
    "collapsed": true
   },
   "outputs": [],
   "source": [
    "from collections import Counter\n",
    "from sklearn.base import BaseEstimator\n",
    "from tqdm import trange\n",
    "from imblearn.combine import SMOTETomek\n",
    "from sklearn.linear_model import LogisticRegression"
   ]
  },
  {
   "cell_type": "code",
   "execution_count": 668,
   "metadata": {
    "collapsed": true
   },
   "outputs": [],
   "source": [
    "data = pd.read_csv(\"../data/coms_sep/train_cntrs.csv\", index_col=0)"
   ]
  },
  {
   "cell_type": "code",
   "execution_count": 707,
   "metadata": {
    "collapsed": true
   },
   "outputs": [],
   "source": [
    "class forget_model(BaseEstimator):\n",
    "    def __init__(self, model=LogisticRegression(),n_splits=4, balance=None):\n",
    "        self.models = [] # лист, в котором будут храниться обученные модели для каждого сплита\n",
    "        self.n_splits = n_splits # число сплитов\n",
    "        self.balance = balance # должен поддерживать большинство \n",
    "        # методов из imbalanced-learn, которые поддерживают fit_sample\n",
    "        self.model = model # модели, поддерживающие fit, predict и predict_proba\n",
    "    \n",
    "    # inputs - уникальные значения дат\n",
    "    def _iterate_megabatches(self, inputs, n_splits): # делает разбиение по времени без пересечений\n",
    "        batchsize = len(inputs)//n_splits\n",
    "        for start_idx in trange(0, len(inputs) - batchsize + 1, batchsize):\n",
    "            excerpt = np.arange(start_idx, start_idx + batchsize-1)\n",
    "            yield inputs[excerpt]\n",
    "\n",
    "    \n",
    "    # X - это весь датафрейм за два месяца ВМЕСТЕ с таргетом\n",
    "    def fit(self, X):\n",
    "        models = [] # пустой список моделей\n",
    "        batch_df_i_neg = pd.DataFrame() # заготовки для не фрода в итом сплите\n",
    "        batch_df_pos = pd.DataFrame() #  заготовка для фрода\n",
    "        unique_TS_split = np.array(sorted(X.TS_indexer.unique())) # получаем число уникальных дат\n",
    "        \n",
    "        for train_index in self._iterate_megabatches(inputs=unique_TS_split, n_splits=self.n_splits): \n",
    "            batch_df_i_old_neg = batch_df_i_neg # сохраняем прошлуб базу не фрода\n",
    "            batch_df_i = X[X.TS_indexer.isin(train_index)] # получаем базу данных итого сплита\n",
    "            batch_df_i_pos = batch_df_i[batch_df_i.label==1] #  разбиваем ее на фрод\n",
    "            batch_df_i_neg = batch_df_i[batch_df_i.label==0] #  и не фрод\n",
    "            batch_df_pos = pd.concat([batch_df_pos, batch_df_i_pos]) # получаем данные не фрода для обучения\n",
    "            batch_df_neg = pd.concat([batch_df_i_old_neg, batch_df_i_neg]) # получаем данные фрода для обучения\n",
    "            df_i = pd.concat([batch_df_pos, batch_df_neg]) #  объединяем фрод и не фрод\n",
    "            X_df_i = df_i.drop(['label', 'short_date','TS_indexer', 'user_id'], axis=1) #  выделяем обучение\n",
    "            y_df_i = df_i.label #  и таргет\n",
    "            if self.balance is None: #  без балансировки просто продолжаем\n",
    "                pass\n",
    "            else: \n",
    "                balancing = self.balance \n",
    "                X_df_balanced_i, y_df_balanced_i = balancing.fit_sample(X_df_i, y_df_i) # делаем перебалансировку\n",
    "                X_df_i = X_df_balanced_i\n",
    "                y_df_i = y_df_balanced_i\n",
    "\n",
    "            model_i = self.model # итая модель\n",
    "            model_i.fit(X_df_i, y_df_i) # обучаем итую модель\n",
    "\n",
    "            \n",
    "            models.append(model_i) #  сохраняем ее в лист\n",
    "        self.models = models #  возвращаем в селф\n",
    "\n",
    "\n",
    "    def predict(self, X_test): \n",
    "        pr = np.zeros(len(X_test)) # заготовка\n",
    "        for model_i in self.models:\n",
    "            pr_i = model_i.predict(X_test) # предсказания итой модели\n",
    "            pr = np.vstack([pr,pr_i]) # объединяем предсказания\n",
    "        predictions = np.array([Counter(x).most_common(1)[0][0] for x in pr[1:].T]) #  простое голосвание\n",
    "        return predictions\n",
    "    \n",
    "    def predict_proba(self, X_test):\n",
    "        pr = np.array([np.zeros(len(X_test))]*2).T #заготовка\n",
    "        for model_i in self.models:\n",
    "            pr_i = model_i.predict_proba(X_test) #  получаем вероятности итой модели\n",
    "            pr = np.sum([pr, pr_i], axis = 0) \n",
    "        predictions = pr/len(self.models) #  получаем усредненные вероятности\n",
    "        return predictions\n"
   ]
  },
  {
   "cell_type": "code",
   "execution_count": 670,
   "metadata": {},
   "outputs": [],
   "source": [
    "data['TS_indexer'] = data.short_date\n",
    "data.fillna(0, inplace=True)\n",
    "data.drop(['event_id', 'event_time'], axis = 1, inplace=True)"
   ]
  },
  {
   "cell_type": "code",
   "execution_count": 708,
   "metadata": {
    "collapsed": true
   },
   "outputs": [],
   "source": [
    "m = forget_model(model=LogisticRegression(class_weight='balanced'), n_splits=2, balance=SMOTE(random_state = 42))"
   ]
  },
  {
   "cell_type": "code",
   "execution_count": 709,
   "metadata": {
    "collapsed": true
   },
   "outputs": [],
   "source": [
    "def train_val_ts_split(X, th=0.7, split_target=None): # X - датафрейм, в котором есть  TS_indexer\n",
    "    unique_TS_split = np.array(sorted(X.TS_indexer.unique()))\n",
    "    batchsize = int(len(unique_TS_split)*th)\n",
    "    excerpt_train = np.arange(0, batchsize)\n",
    "    excerpt_val =  np.arange(batchsize, len(unique_TS_split))\n",
    "    d_train =  X[X.TS_indexer.isin(unique_TS_split[excerpt_train])]\n",
    "    d_val = X[X.TS_indexer.isin(unique_TS_split[excerpt_val])]\n",
    "    if split_target is None:\n",
    "        return d_train, d_val\n",
    "    else:\n",
    "        return d_train.drop('label', axis=1), d_train.label, d_val.drop('label', axis=1), d_val.label"
   ]
  },
  {
   "cell_type": "code",
   "execution_count": 710,
   "metadata": {
    "collapsed": true
   },
   "outputs": [],
   "source": [
    "X1, X2 = train_val_ts_split(data , th=0.7, split_target=None)"
   ]
  },
  {
   "cell_type": "code",
   "execution_count": 711,
   "metadata": {},
   "outputs": [
    {
     "name": "stderr",
     "output_type": "stream",
     "text": [
      "100%|██████████| 2/2 [00:01<00:00,  1.22it/s]\n"
     ]
    }
   ],
   "source": [
    "m.fit(X1)"
   ]
  },
  {
   "cell_type": "code",
   "execution_count": 712,
   "metadata": {
    "collapsed": true
   },
   "outputs": [],
   "source": [
    "from sklearn.metrics import average_precision_score\n",
    "from sklearn.metrics import precision_recall_curve\n",
    "import matplotlib.pyplot as plt\n",
    "%matplotlib inline"
   ]
  },
  {
   "cell_type": "code",
   "execution_count": 713,
   "metadata": {
    "collapsed": true
   },
   "outputs": [],
   "source": [
    "y2 = X2['label'].values"
   ]
  },
  {
   "cell_type": "code",
   "execution_count": 714,
   "metadata": {
    "collapsed": true
   },
   "outputs": [],
   "source": [
    "preds_proba = m.predict_proba(X2.drop(['label', 'short_date','TS_indexer', 'user_id'], axis=1))\n",
    "preds = m.predict(X2.drop(['label', 'short_date','TS_indexer', 'user_id'], axis=1))"
   ]
  },
  {
   "cell_type": "code",
   "execution_count": 715,
   "metadata": {
    "collapsed": true
   },
   "outputs": [],
   "source": [
    "average_precision = average_precision_score(y2, preds)"
   ]
  },
  {
   "cell_type": "code",
   "execution_count": 716,
   "metadata": {},
   "outputs": [
    {
     "data": {
      "text/plain": [
       "<matplotlib.text.Text at 0x7f2b77ba24e0>"
      ]
     },
     "execution_count": 716,
     "metadata": {},
     "output_type": "execute_result"
    },
    {
     "data": {
      "image/png": "[encoded data removed]",
      "text/plain": [
       "<matplotlib.figure.Figure at 0x7f2b86360940>"
      ]
     },
     "metadata": {},
     "output_type": "display_data"
    }
   ],
   "source": [
    "from sklearn.metrics import precision_recall_curve\n",
    "import matplotlib.pyplot as plt\n",
    "\n",
    "precision, recall, thresholds = precision_recall_curve(y2, preds_proba[:, 1])\n",
    "\n",
    "plt.step(recall, precision, color='b', alpha=0.2,\n",
    "         where='post')\n",
    "plt.fill_between(recall, precision, step='post', alpha=0.2,\n",
    "                 color='b')\n",
    "\n",
    "plt.xlabel('Recall')\n",
    "plt.ylabel('Precision')\n",
    "plt.ylim([0.0, 1.05])\n",
    "plt.xlim([0.0, 1.0])\n",
    "plt.title('2-class Precision-Recall curve: AP={0:0.2f}'.format(\n",
    "          average_precision))"
   ]
  },
  {
   "cell_type": "code",
   "execution_count": 717,
   "metadata": {
    "collapsed": true
   },
   "outputs": [],
   "source": [
    "from sklearn.metrics import f1_score"
   ]
  },
  {
   "cell_type": "code",
   "execution_count": 718,
   "metadata": {},
   "outputs": [
    {
     "data": {
      "text/plain": [
       "0.4515534254864552"
      ]
     },
     "execution_count": 718,
     "metadata": {},
     "output_type": "execute_result"
    }
   ],
   "source": [
    "from sklearn import metrics\n",
    "metrics.auc(recall, precision)"
   ]
  },
  {
   "cell_type": "code",
   "execution_count": 719,
   "metadata": {
    "collapsed": true
   },
   "outputs": [],
   "source": [
    "def f1sc(pr, rec):\n",
    "    return 2 * (pr * rec)/(pr + rec)"
   ]
  },
  {
   "cell_type": "code",
   "execution_count": 720,
   "metadata": {},
   "outputs": [
    {
     "name": "stderr",
     "output_type": "stream",
     "text": [
      "/home/alex/anaconda3/lib/python3.6/site-packages/ipykernel_launcher.py:2: RuntimeWarning: invalid value encountered in double_scalars\n",
      "  \n"
     ]
    }
   ],
   "source": [
    "f1sc_log = []\n",
    "for pr, rec in zip(precision, recall):\n",
    "    f1sc_log.append(f1sc(pr, rec))"
   ]
  },
  {
   "cell_type": "code",
   "execution_count": 721,
   "metadata": {},
   "outputs": [
    {
     "data": {
      "text/plain": [
       "[<matplotlib.lines.Line2D at 0x7f2b91366470>]"
      ]
     },
     "execution_count": 721,
     "metadata": {},
     "output_type": "execute_result"
    },
    {
     "data": {
      "image/png": "[encoded data removed]",
      "text/plain": [
       "<matplotlib.figure.Figure at 0x7f2b77b73eb8>"
      ]
     },
     "metadata": {},
     "output_type": "display_data"
    }
   ],
   "source": [
    "plt.plot(thresholds[:-1], f1sc_log[:-2])"
   ]
  },
  {
   "cell_type": "code",
   "execution_count": 722,
   "metadata": {},
   "outputs": [
    {
     "data": {
      "text/plain": [
       "0.9711964935871417"
      ]
     },
     "execution_count": 722,
     "metadata": {},
     "output_type": "execute_result"
    }
   ],
   "source": [
    "# лучший трешхолд с точки зрения F1 меры\n",
    "optim_thresh = thresholds[:-1][np.argmax(f1sc_log[:-2])]\n",
    "optim_thresh"
   ]
  },
  {
   "cell_type": "code",
   "execution_count": 723,
   "metadata": {},
   "outputs": [
    {
     "data": {
      "text/plain": [
       "array([0., 0., 0., ..., 0., 0., 1.])"
      ]
     },
     "execution_count": 723,
     "metadata": {},
     "output_type": "execute_result"
    }
   ],
   "source": [
    "preds"
   ]
  },
  {
   "cell_type": "markdown",
   "metadata": {},
   "source": [
    "Ищем число срабатываний"
   ]
  },
  {
   "cell_type": "markdown",
   "metadata": {},
   "source": [
    "$$ recall = \\frac{TP}{l_+} $$\n",
    "\n",
    "$$ precision = \\frac{TP}{TP + FP} $$\n",
    "\n",
    "Число срабатываний: $ TP + FP $\n",
    "\n",
    "Еще пару формул:\n",
    "$$ TP = recall \\cdot l_+ $$\n",
    "$$ FP = (\\frac{TP}{precision} - TP) $$"
   ]
  },
  {
   "cell_type": "code",
   "execution_count": 687,
   "metadata": {
    "collapsed": true
   },
   "outputs": [],
   "source": [
    "pr = precision[:-2][np.argmax(f1sc_log[:-2])]\n",
    "rec = recall[:-2][np.argmax(f1sc_log[:-2])]"
   ]
  },
  {
   "cell_type": "code",
   "execution_count": 688,
   "metadata": {},
   "outputs": [
    {
     "name": "stdout",
     "output_type": "stream",
     "text": [
      "Число срабатываиний: nan\n"
     ]
    },
    {
     "name": "stderr",
     "output_type": "stream",
     "text": [
      "/home/alex/anaconda3/lib/python3.6/site-packages/ipykernel_launcher.py:2: RuntimeWarning: invalid value encountered in double_scalars\n",
      "  \n"
     ]
    }
   ],
   "source": [
    "TP = rec * np.sum(y2)\n",
    "FP = (TP/pr) - TP\n",
    "print(\"Число срабатываиний: {}\".format(TP+FP))"
   ]
  },
  {
   "cell_type": "code",
   "execution_count": 665,
   "metadata": {},
   "outputs": [
    {
     "data": {
      "text/plain": [
       "4952"
      ]
     },
     "execution_count": 665,
     "metadata": {},
     "output_type": "execute_result"
    }
   ],
   "source": [
    "np.sum(preds_proba[:, 1] >= optim_thresh)"
   ]
  },
  {
   "cell_type": "code",
   "execution_count": null,
   "metadata": {
    "collapsed": true
   },
   "outputs": [],
   "source": []
  },
  {
   "cell_type": "code",
   "execution_count": null,
   "metadata": {
    "collapsed": true
   },
   "outputs": [],
   "source": []
  }
 ],
 "metadata": {
  "kernelspec": {
   "display_name": "Python 3",
   "language": "python",
   "name": "python3"
  },
  "language_info": {
   "codemirror_mode": {
    "name": "ipython",
    "version": 3
   },
   "file_extension": ".py",
   "mimetype": "text/x-python",
   "name": "python",
   "nbconvert_exporter": "python",
   "pygments_lexer": "ipython3",
   "version": "3.6.1"
  }
 },
 "nbformat": 4,
 "nbformat_minor": 2
}
