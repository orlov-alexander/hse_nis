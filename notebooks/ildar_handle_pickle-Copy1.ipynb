{
 "cells": [
  {
   "cell_type": "code",
   "execution_count": 1,
   "metadata": {
    "collapsed": true
   },
   "outputs": [],
   "source": [
    "file_names = !ls ../data/raw_splits/train/"
   ]
  },
  {
   "cell_type": "code",
   "execution_count": 2,
   "metadata": {
    "collapsed": true
   },
   "outputs": [],
   "source": [
    "chunk_names = []\n",
    "for i in file_names:\n",
    "    if \"chunk_\" in i:\n",
    "        chunk_names.append(i)\n",
    "chunk_names = sorted(chunk_names)"
   ]
  },
  {
   "cell_type": "code",
   "execution_count": 3,
   "metadata": {
    "collapsed": true
   },
   "outputs": [],
   "source": [
    "import pandas as pd\n",
    "import numpy as np\n",
    "import datetime\n",
    "import imp\n",
    "import scripts as scr"
   ]
  },
  {
   "cell_type": "code",
   "execution_count": 4,
   "metadata": {},
   "outputs": [
    {
     "data": {
      "text/plain": [
       "<module 'scripts' from '/data/hse_nis/notebooks/scripts.py'>"
      ]
     },
     "execution_count": 4,
     "metadata": {},
     "output_type": "execute_result"
    }
   ],
   "source": [
    "imp.reload(scr)"
   ]
  },
  {
   "cell_type": "code",
   "execution_count": 5,
   "metadata": {
    "collapsed": true
   },
   "outputs": [],
   "source": [
    "# data = pd.read_feather('../data/raw_splits/train/{}'.format(chunk_names[0]))"
   ]
  },
  {
   "cell_type": "code",
   "execution_count": 6,
   "metadata": {
    "collapsed": true
   },
   "outputs": [],
   "source": [
    "# data.columns"
   ]
  },
  {
   "cell_type": "code",
   "execution_count": 7,
   "metadata": {
    "collapsed": true
   },
   "outputs": [],
   "source": [
    "include_channels = ['Перевод частному лицу', 'Оплата услуг', 'Перевод между своими счетами и картами']"
   ]
  },
  {
   "cell_type": "code",
   "execution_count": 8,
   "metadata": {},
   "outputs": [
    {
     "data": {
      "text/plain": [
       "['Перевод частному лицу',\n",
       " 'Оплата услуг',\n",
       " 'Перевод между своими счетами и картами']"
      ]
     },
     "execution_count": 8,
     "metadata": {},
     "output_type": "execute_result"
    }
   ],
   "source": [
    "include_channels"
   ]
  },
  {
   "cell_type": "code",
   "execution_count": 9,
   "metadata": {
    "collapsed": true
   },
   "outputs": [],
   "source": [
    "start_date = 20171029\n",
    "end_date = 20171128"
   ]
  },
  {
   "cell_type": "code",
   "execution_count": 10,
   "metadata": {},
   "outputs": [
    {
     "name": "stderr",
     "output_type": "stream",
     "text": [
      "/data/hse_nis/notebooks/scripts.py:96: FutureWarning: pandas.tslib is deprecated and will be removed in a future version.\n",
      "You can access NaTType as type(pandas.NaT)\n",
      "  feat_matrix['recip_card_age'] = [x.days if type(x) is not pd.tslib.NaTType else 912321 for x in (data.event_time - data.cdf_s_124)]\n"
     ]
    }
   ],
   "source": [
    "#del feat_test\n",
    "# feat_test = scr.features_handler(\n",
    "#     chunk_names=[chunk_names[9]],\n",
    "#     calc_feat = scr.calc_base_features,\n",
    "#     query=(\"event_description in {incl}  and short_date > {start} and short_date < {end}\"\n",
    "#            .format(incl=include_channels, start=start_date, end=end_date)))"
   ]
  },
  {
   "cell_type": "code",
   "execution_count": 48,
   "metadata": {
    "collapsed": true
   },
   "outputs": [],
   "source": [
    "import multiprocessing as mlp"
   ]
  },
  {
   "cell_type": "code",
   "execution_count": 49,
   "metadata": {
    "collapsed": true
   },
   "outputs": [],
   "source": [
    "def get_data(chunk_name):\n",
    "    #del feat_test\n",
    "    feat_test = scr.features_handler(\n",
    "        chunk_names=[chunk_name],\n",
    "        calc_feat = scr.calc_base_features,\n",
    "        query=(\"event_description in {incl}  and short_date > {start} and short_date < {end}\"\n",
    "               .format(incl=include_channels, start=start_date, end=end_date)))\n",
    "    return feat_test"
   ]
  },
  {
   "cell_type": "code",
   "execution_count": 53,
   "metadata": {
    "collapsed": true
   },
   "outputs": [],
   "source": [
    "# жрет вплоть более 70 гигов оперативки, осторожнее\n",
    "with mlp.Pool(processes=15) as pool:\n",
    "    results = pool.map(get_data, chunk_names)"
   ]
  },
  {
   "cell_type": "code",
   "execution_count": 54,
   "metadata": {
    "collapsed": true
   },
   "outputs": [],
   "source": [
    "total_df = pd.DataFrame()\n",
    "for i, df in enumerate(results):\n",
    "    total_df = pd.concat([total_df, df])\n",
    "    results[i] = 'bye'"
   ]
  },
  {
   "cell_type": "code",
   "execution_count": 58,
   "metadata": {
    "collapsed": true
   },
   "outputs": [],
   "source": [
    "total_df['short_date'] = total_df.event_time.apply(lambda x: x.date())\n",
    "total_df.rename(columns={\"custom_mark\": \"label\"}, inplace=True)\n",
    "total_df['label'] = total_df.label.apply(lambda x: scr.cust_mark_to_class(x))"
   ]
  },
  {
   "cell_type": "code",
   "execution_count": 66,
   "metadata": {
    "collapsed": true
   },
   "outputs": [],
   "source": [
    "total_df = total_df.query(\"label != -1\")"
   ]
  },
  {
   "cell_type": "code",
   "execution_count": 74,
   "metadata": {
    "collapsed": true
   },
   "outputs": [],
   "source": [
    "global_mean = np.mean(total_df['label'])"
   ]
  },
  {
   "cell_type": "code",
   "execution_count": 79,
   "metadata": {
    "collapsed": true
   },
   "outputs": [],
   "source": [
    "n_uniques = np.apply_along_axis(lambda x: len(np.unique(x)), axis=0, arr=total_df)"
   ]
  },
  {
   "cell_type": "code",
   "execution_count": 100,
   "metadata": {
    "collapsed": true
   },
   "outputs": [],
   "source": [
    "# total_df.to_csv(\"../data/coms_sep/train.csv\")\n",
    "total_df = pd.read_csv(\"../data/coms_sep/train.csv\", index_col=0)"
   ]
  },
  {
   "cell_type": "code",
   "execution_count": 101,
   "metadata": {
    "collapsed": true
   },
   "outputs": [],
   "source": [
    "def map_counter(data, field_name, target_name, alpha, global_mean=None):\n",
    "    if global_mean is None:\n",
    "        global_mean = data[target_name].mean()\n",
    "    counters = data.groupby(field_name)[target_name].mean()\n",
    "    n_counters = data.groupby(field_name)[target_name].count()\n",
    "    out = ((data[field_name].map(counters) + global_mean * alpha)/ \\\n",
    "           (data[field_name].map(n_counters) + alpha))\n",
    "    return out"
   ]
  },
  {
   "cell_type": "code",
   "execution_count": 110,
   "metadata": {},
   "outputs": [
    {
     "data": {
      "text/plain": [
       "array([77143, 44679,     2, 75294, 13327, 18268,     3,     3,     1,\n",
       "           3,     2, 34704, 25670,   605,     2,   704,     8,     8,\n",
       "           8,     8,     8,   689,     8,     1,  5304,     2,   704,\n",
       "       13327,    14, 19904,    30])"
      ]
     },
     "execution_count": 110,
     "metadata": {},
     "output_type": "execute_result"
    }
   ],
   "source": [
    "n_uniques"
   ]
  },
  {
   "cell_type": "code",
   "execution_count": 103,
   "metadata": {},
   "outputs": [
    {
     "data": {
      "text/plain": [
       "Index(['event_id', 'user_id', 'label', 'event_time', 'amount', 'client_age',\n",
       "       'cat_new_ip', 'cat_new_prov', 'channel_op', 'op_type', 'recip_age',\n",
       "       'age_diff', 'cumulative_sum_total', 'data_i_120', 'relative',\n",
       "       'know_recip_power', 'cdf_s_127', 'cdf_s_135', 'cdf_s_130', 'cdf_s_129',\n",
       "       'cdf_s_134', 'data_i_154', 'cdf_s_133', 'know_recip_card_age',\n",
       "       'recip_card_age', 'one_region', 'krp_pow2', 'log_amount', 'ip_isp',\n",
       "       'amnt2chnls', 'short_date'],\n",
       "      dtype='object')"
      ]
     },
     "execution_count": 103,
     "metadata": {},
     "output_type": "execute_result"
    }
   ],
   "source": [
    "total_df.columns"
   ]
  },
  {
   "cell_type": "code",
   "execution_count": 105,
   "metadata": {
    "collapsed": true
   },
   "outputs": [],
   "source": [
    "for col in total_df.columns:\n",
    "    col_name = total_df.columns[i]\n",
    "    if col_name not in ['event_id', \"user_id\", \"event_time\", \"label\", \"short_date\"]:\n",
    "        total_df[col] = map_counter(total_df, col, 'label',\n",
    "                                    alpha=1000,\n",
    "                                    global_mean=global_mean)"
   ]
  },
  {
   "cell_type": "code",
   "execution_count": 108,
   "metadata": {
    "collapsed": true
   },
   "outputs": [],
   "source": [
    "#total_df.to_csv(\"../data/coms_sep/train_cntrs.csv\")\n",
    "#total_df = pd.read_csv(\"../data/coms_sep/train_cntrs.csv\", index_col=0)"
   ]
  },
  {
   "cell_type": "code",
   "execution_count": 1,
   "metadata": {},
   "outputs": [
    {
     "ename": "NameError",
     "evalue": "name 'total_df' is not defined",
     "output_type": "error",
     "traceback": [
      "\u001b[0;31m---------------------------------------------------------------------------\u001b[0m",
      "\u001b[0;31mNameError\u001b[0m                                 Traceback (most recent call last)",
      "\u001b[0;32m<ipython-input-1-b5004dadc14b>\u001b[0m in \u001b[0;36m<module>\u001b[0;34m()\u001b[0m\n\u001b[0;32m----> 1\u001b[0;31m \u001b[0mtotal_df\u001b[0m\u001b[0;34m.\u001b[0m\u001b[0mlabel\u001b[0m\u001b[0;34m.\u001b[0m\u001b[0mvalue_count\u001b[0m\u001b[0;34m\u001b[0m\u001b[0m\n\u001b[0m",
      "\u001b[0;31mNameError\u001b[0m: name 'total_df' is not defined"
     ]
    }
   ],
   "source": [
    "total_df.label.value_count"
   ]
  },
  {
   "cell_type": "code",
   "execution_count": null,
   "metadata": {
    "collapsed": true
   },
   "outputs": [],
   "source": []
  }
 ],
 "metadata": {
  "kernelspec": {
   "display_name": "Python 3",
   "language": "python",
   "name": "python3"
  },
  "language_info": {
   "codemirror_mode": {
    "name": "ipython",
    "version": 3
   },
   "file_extension": ".py",
   "mimetype": "text/x-python",
   "name": "python",
   "nbconvert_exporter": "python",
   "pygments_lexer": "ipython3",
   "version": "3.6.1"
  }
 },
 "nbformat": 4,
 "nbformat_minor": 2
}
