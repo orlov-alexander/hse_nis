{
 "cells": [
  {
   "cell_type": "code",
   "execution_count": 220,
   "metadata": {
    "collapsed": true
   },
   "outputs": [],
   "source": [
    "import pandas as pd\n",
    "import numpy as np\n",
    "import datetime\n",
    "import imp\n",
    "import scripts as scr\n",
    "import os\n",
    "import re\n",
    "import multiprocessing\n",
    "import numpy as np\n",
    "import pandas as pd\n",
    "from pytictoc import TicToc\n",
    "from IPython.display import display\n",
    "import itertools\n",
    "import matplotlib.pyplot as plt"
   ]
  },
  {
   "cell_type": "code",
   "execution_count": 4,
   "metadata": {
    "collapsed": true
   },
   "outputs": [],
   "source": [
    "import numpy as np\n",
    "import pandas as pd\n",
    "# import datetime\n",
    "\n",
    "\n",
    "def transform_cols (df, dict_col_types = None):\n",
    "    # Расширяйте для необходимых столбцов и их явной типизации\n",
    "    if dict_col_types is None:\n",
    "        dict_col_types = {\n",
    "        'amount_original':(float, 0.0),\n",
    "        'channel_indicator_desc':(str, u'null'),\n",
    "        'event_description':(str, u'null'),\n",
    "        'short_date':(int, 0),\n",
    "        'cdf_s_20':(str, u'null'),\n",
    "        'cdf_s_126':(str, u'null'),\n",
    "        'cdf_s_127':(int, 30),\n",
    "        'cdf_s_129':(int, 30),\n",
    "        'cdf_s_138':(str, u'null'),\n",
    "        'cdf_s_130':(int, 30),\n",
    "        'cdf_s_133':(int, 30),\n",
    "        'cdf_s_134':(int, 30),\n",
    "        'cdf_s_135':(int, 30),\n",
    "        'cdf_s_140':(float, 0.0),\n",
    "        'cdf_s_218':(str, u'null'),\n",
    "        'cdf_s_294':(int, 0),\n",
    "        'cdf_s_299':(str, u'null'),\n",
    "        'data_s_65':(int, 0),\n",
    "        'data_i_120':(int, 0),\n",
    "        'data_i_154':(float, -150)\n",
    "        }\n",
    "                \n",
    "    if df.shape[0] == 0:\n",
    "        return df\n",
    "    \n",
    "    df.replace(u'null', np.nan, inplace=True)\n",
    "\n",
    "    for i in dict_col_types:\n",
    "        if i in df.columns:\n",
    "            change_type, fill_value = dict_col_types[i]\n",
    "            df[i] = df[i].fillna(fill_value).astype(change_type)\n",
    "    \n",
    "    return df\n",
    "\n",
    "def calc_base_features(data):\n",
    "    feat_matrix = pd.DataFrame()\n",
    "    #data = data[data.event_description.isin([u'Перевод частному лицу',u'Оплата услуг',u'Перевод между своими счетами и картами'])]\n",
    "    \n",
    "    if data.shape[0] == 0:\n",
    "        return feat_matrix\n",
    "    \n",
    "    # заполняем ряд пропусков\n",
    "\n",
    "    # кумулятивная сумма опреаций за сутки, если не заполнена, то значит это первая операций, т.е. = 0\n",
    "    data.cdf_s_140 = data.cdf_s_140.fillna(0).astype(float)/1000\n",
    "    data.data_i_120.fillna(1, inplace=True)\n",
    "\n",
    "    \n",
    "    feat_matrix['event_id'] = data.event_id\n",
    "    feat_matrix['user_id'] = data.user_id\n",
    "    feat_matrix['custom_mark'] = data.custom_mark    \n",
    "    feat_matrix['event_time'] = data.event_time\n",
    "    feat_matrix['amount'] = data.amount_original\n",
    "\n",
    "    feat_matrix['data_i_120'] = data.data_i_120\n",
    "    cdf_keep_cols = ['cdf_s_127', 'cdf_s_129', 'cdf_s_130', 'cdf_s_133', 'cdf_s_134', 'cdf_s_135']\n",
    "    feat_matrix.loc[:, cdf_keep_cols] = data[cdf_keep_cols]\n",
    "    feat_matrix['data_i_120'] = data.data_i_120\n",
    "\n",
    "    # кумулятивная сумма операций за сутки в каналах web и МП\n",
    "    feat_matrix['cumulative_sum_total'] = data.cdf_s_140\n",
    "\n",
    "    \n",
    "    feat_matrix['client_age'] = [x.days/360 for x in (data.event_time - data.cdf_s_19)]\n",
    "  \n",
    "        \n",
    "    feat_matrix['cat_new_ip'] = [1 if x == u'ДА' else 0 if x == u'НЕТ' else 2 for x in data.cdf_s_126]\n",
    "    feat_matrix['cat_new_prov'] =  [1 if x == u'ДА' else 0 if x == u'НЕТ' else 2 for x in data.cdf_s_138]\n",
    "    feat_matrix['channel_op'] =  [0 if x == u'MOBILE' else 1 if x == u'WEB' else 2 for x in data.channel_indicator_desc]\n",
    "    feat_matrix['op_type'] = [0 if x == u'Перевод частному лицу' else 1 if x==u'Оплата услуг' else 2 if x ==u'Перевод между своими счетами и картами' else 3 for x in data.event_description]\n",
    "\n",
    "\n",
    "    # бинарный флаг определяющий наличие возраста получателя\n",
    "    # (полезен для линейных моделей,  менее для деревьев с учетом следующего признака)\n",
    "    feat_matrix['recip_age'] = [1 if x == 0 else 0 for x in data.cdf_s_294]\n",
    "    # разница возорастов получателей и отправителей, если отсутствует/неприменимо, то padding 500\n",
    "    feat_matrix['age_diff'] = feat_matrix.client_age - [int(x) if x != 0 else 1000 for x in data.cdf_s_294]\n",
    "    \n",
    "    feat_matrix['relative'] = [1 if x == u'ДА' else 0 for x in data.cdf_s_218] # перевод родственнику\n",
    "    \n",
    "    feat_matrix['know_recip_power'] = [ x if x is not None else 0 for x in data.data_s_65] # сила связи отправителя и получателя\n",
    "    \n",
    "\n",
    "    feat_matrix['data_i_154'] = [ x if x is not None else -150 for x in data.data_i_154]\n",
    "    feat_matrix['know_recip_card_age'] = [1 if x is not None else 0 for x in data.cdf_s_124]\n",
    "    \n",
    "    \n",
    "    feat_matrix['recip_card_age'] = [x.days if type(x) is not pd.tslib.NaTType else 912321 for x in (data.event_time - data.cdf_s_124)]\n",
    "    \n",
    "    # feat_matrix['cat_client_region'] = [x if x.isdigit() else 912321 for x in data.cdf_s_20]\n",
    "    feat_matrix['one_region'] = (data.cdf_s_20 == data.cdf_s_299).astype(int) # сравнение регионов\n",
    "    \n",
    "\n",
    "    #ADD NEW FEATURES\n",
    "    feat_matrix['krp_pow2'] = (feat_matrix['know_recip_power']) ** 2\n",
    "    feat_matrix['log_amount'] = np.log(feat_matrix['amount'] + 1)\n",
    "    feat_matrix['ip_isp'] = np.array([x if x.isdigit() else 912321 for x in data.cdf_s_20], dtype=float)\n",
    "    feat_matrix['amnt2chnls'] = (data[\"amount_original\"].fillna(0).astype(float) / \\\n",
    "        (data[\"cdf_s_136\"].fillna(0).astype(float) + data[\"amount_original\"].fillna(0).astype(float) + \\\n",
    "            data[\"amount_original\"].fillna(0) + 1))\n",
    "    \n",
    "    # поставил order_cols временно, чтобы сохранить такой же порядок как в оригинальном\n",
    "    order_cols = ['event_id', 'user_id', 'custom_mark', 'event_time', 'amount',\n",
    "                  'client_age', 'cat_new_ip', 'cat_new_prov', 'channel_op', 'op_type',\n",
    "                  'recip_age', 'age_diff', 'cumulative_sum_total', 'data_i_120',\n",
    "                  'relative', 'know_recip_power', 'cdf_s_127', 'cdf_s_135', 'cdf_s_130',\n",
    "                  'cdf_s_129', 'cdf_s_134', 'data_i_154', 'cdf_s_133',\n",
    "                  'know_recip_card_age', 'recip_card_age', 'one_region', 'krp_pow2',\n",
    "                  'log_amount', 'ip_isp', 'amnt2chnls']\n",
    "    feat_mat = feat_mat[order_cols].copy()\n",
    "    return feat_matrix\n",
    "\n",
    "\n",
    "def load_data(chunk_fnames, fields=None, query=None, sample='train', dict_col_types=None):\n",
    "    df = pd.DataFrame({})\n",
    "    if isinstance(chunk_fnames, str):\n",
    "        chunk_fnames = [chunk_fnames]\n",
    "        \n",
    "    for filename in chunk_fnames:\n",
    "        chunk_df = pd.read_feather(filename)\n",
    "            \n",
    "        if fields is None:\n",
    "            fields = chunk_df.columns.tolist()\n",
    "        \n",
    "        transormed = transform_cols(chunk_df)\n",
    "        \n",
    "        if query:\n",
    "            transormed = transormed.query(query)\n",
    " \n",
    "        df = pd.concat([df, transormed[fields], ignore_index=True\n",
    "    return df\n",
    "\n",
    "\n",
    "def features_handler(chunk_names, calc_feat, query=None, chunk_size=5000):\n",
    "    res_df = pd.DataFrame()\n",
    "    \n",
    "    for chunk_name in chunk_names:\n",
    "        loaded_data = load_data(chunk_name, query=query, dict_col_types=None)\n",
    "        feat_chunk = calc_feat(loaded_data)\n",
    "        res_df = pd.concat([res_df, feat_chunk], ignore_index=True)\n",
    "\n",
    "    return res_df\n",
    "\n",
    "\n",
    "def cust_mark_to_class(custom_mark):\n",
    "    \"\"\"\n",
    "    Преобразует входящее значение CUSTOM_MARK в класс\n",
    "    return:\n",
    "        1 - фрод\n",
    "        0 - легитимная\n",
    "        -1 - неизвестно\n",
    "    \"\"\"\n",
    "    ret = -1\n",
    "    if custom_mark in ['F','S']:\n",
    "        ret = 1\n",
    "    elif custom_mark in ['A','G', np.NaN]:\n",
    "        ret = 0\n",
    "    \n",
    "    return ret"
   ]
  },
  {
   "cell_type": "code",
   "execution_count": 8,
   "metadata": {
    "scrolled": true
   },
   "outputs": [
    {
     "name": "stdout",
     "output_type": "stream",
     "text": [
      "Length of train files is 51\n"
     ]
    },
    {
     "data": {
      "text/plain": [
       "['../../data/raw_splits/train/chunk_0.fth',\n",
       " '../../data/raw_splits/train/chunk_1.fth',\n",
       " '../../data/raw_splits/train/chunk_2.fth',\n",
       " '../../data/raw_splits/train/chunk_3.fth',\n",
       " '../../data/raw_splits/train/chunk_4.fth']"
      ]
     },
     "execution_count": 8,
     "metadata": {},
     "output_type": "execute_result"
    }
   ],
   "source": [
    "FIRST_N = 100\n",
    "N_THREADS = 16\n",
    "train_folder = '../../data/raw_splits/train/'\n",
    "train_files = sorted([x for x in os.listdir(train_folder) if not '.pkl' in x], key = lambda x: int(re.sub('[^0-9]', '', x)))\n",
    "train_files = [os.path.join(train_folder, x) for x in train_files]\n",
    "print(f'Length of train files is {len(train_files)}')\n",
    "train_files[:5]"
   ]
  },
  {
   "cell_type": "raw",
   "metadata": {},
   "source": [
    "imp.reload(scr)"
   ]
  },
  {
   "cell_type": "code",
   "execution_count": 27,
   "metadata": {},
   "outputs": [
    {
     "name": "stdout",
     "output_type": "stream",
     "text": [
      "CPU times: user 4.13 s, sys: 2.24 s, total: 6.36 s\n",
      "Wall time: 6.6 s\n"
     ]
    }
   ],
   "source": [
    "%%time\n",
    "data_raw = pd.read_feather(train_files[0])"
   ]
  },
  {
   "cell_type": "code",
   "execution_count": null,
   "metadata": {
    "collapsed": true
   },
   "outputs": [],
   "source": [
    "data.loc[data['ip_isp'] == '912321']"
   ]
  },
  {
   "cell_type": "code",
   "execution_count": 15,
   "metadata": {
    "collapsed": true
   },
   "outputs": [],
   "source": [
    "def quick_isp(fname):\n",
    "    data = pd.read_feather(fname)\n",
    "    return data.loc[data['ip_isp'] == '912321'].copy()\n",
    "    "
   ]
  },
  {
   "cell_type": "code",
   "execution_count": 17,
   "metadata": {
    "collapsed": true
   },
   "outputs": [],
   "source": [
    "with multiprocessing.Pool(min(N_THREADS, FIRST_N)) as pool:\n",
    "    isp = pool.map(quick_isp, train_files)"
   ]
  },
  {
   "cell_type": "code",
   "execution_count": 19,
   "metadata": {
    "scrolled": true
   },
   "outputs": [
    {
     "data": {
      "text/html": [
       "<div>\n",
       "<style>\n",
       "    .dataframe thead tr:only-child th {\n",
       "        text-align: right;\n",
       "    }\n",
       "\n",
       "    .dataframe thead th {\n",
       "        text-align: left;\n",
       "    }\n",
       "\n",
       "    .dataframe tbody tr th {\n",
       "        vertical-align: top;\n",
       "    }\n",
       "</style>\n",
       "<table border=\"1\" class=\"dataframe\">\n",
       "  <thead>\n",
       "    <tr style=\"text-align: right;\">\n",
       "      <th></th>\n",
       "      <th>cdf_s_123</th>\n",
       "      <th>cdf_s_124</th>\n",
       "      <th>cdf_s_127</th>\n",
       "      <th>cdf_s_135</th>\n",
       "      <th>cdf_s_130</th>\n",
       "      <th>cdf_s_129</th>\n",
       "      <th>cdf_s_134</th>\n",
       "      <th>cdf_s_128</th>\n",
       "      <th>cdf_s_138</th>\n",
       "      <th>cdf_s_126</th>\n",
       "      <th>...</th>\n",
       "      <th>user_acct_number_hashed</th>\n",
       "      <th>user_agent_string_hash</th>\n",
       "      <th>browser_plugins_hash</th>\n",
       "      <th>screen_hash</th>\n",
       "      <th>user_id</th>\n",
       "      <th>ip_address</th>\n",
       "      <th>ip_country</th>\n",
       "      <th>ip_region</th>\n",
       "      <th>ip_city</th>\n",
       "      <th>ip_isp</th>\n",
       "    </tr>\n",
       "  </thead>\n",
       "  <tbody>\n",
       "  </tbody>\n",
       "</table>\n",
       "<p>0 rows × 44 columns</p>\n",
       "</div>"
      ],
      "text/plain": [
       "Empty DataFrame\n",
       "Columns: [cdf_s_123, cdf_s_124, cdf_s_127, cdf_s_135, cdf_s_130, cdf_s_129, cdf_s_134, cdf_s_128, cdf_s_138, cdf_s_126, cdf_s_133, cdf_s_136, cdf_s_137, cdf_s_140, cdf_s_178_hashed, cdf_s_19, cdf_s_20, cdf_s_218, cdf_s_294, cdf_s_299, amount_original, channel_indicator_desc, custom_mark, data_i_118, data_i_119, data_i_120, data_i_154, data_s_65, event_description, event_id, event_time, ext_acct_number_hashed, hardwareid, short_date, user_acct_number_hashed, user_agent_string_hash, browser_plugins_hash, screen_hash, user_id, ip_address, ip_country, ip_region, ip_city, ip_isp]\n",
       "Index: []\n",
       "\n",
       "[0 rows x 44 columns]"
      ]
     },
     "execution_count": 19,
     "metadata": {},
     "output_type": "execute_result"
    }
   ],
   "source": [
    "pd.concat(isp)"
   ]
  },
  {
   "cell_type": "markdown",
   "metadata": {},
   "source": [
    "---"
   ]
  },
  {
   "cell_type": "code",
   "execution_count": 28,
   "metadata": {},
   "outputs": [
    {
     "name": "stdout",
     "output_type": "stream",
     "text": [
      "CPU times: user 38.6 s, sys: 8.8 s, total: 47.4 s\n",
      "Wall time: 47.4 s\n"
     ]
    }
   ],
   "source": [
    "%%time\n",
    "data = transform_cols(data_raw)"
   ]
  },
  {
   "cell_type": "code",
   "execution_count": 30,
   "metadata": {},
   "outputs": [
    {
     "data": {
      "text/plain": [
       "Index(['cdf_s_123', 'cdf_s_124', 'cdf_s_127', 'cdf_s_135', 'cdf_s_130',\n",
       "       'cdf_s_129', 'cdf_s_134', 'cdf_s_128', 'cdf_s_138', 'cdf_s_126',\n",
       "       'cdf_s_133', 'cdf_s_136', 'cdf_s_137', 'cdf_s_140', 'cdf_s_178_hashed',\n",
       "       'cdf_s_19', 'cdf_s_20', 'cdf_s_218', 'cdf_s_294', 'cdf_s_299',\n",
       "       'amount_original', 'channel_indicator_desc', 'custom_mark',\n",
       "       'data_i_118', 'data_i_119', 'data_i_120', 'data_i_154', 'data_s_65',\n",
       "       'event_description', 'event_id', 'event_time', 'ext_acct_number_hashed',\n",
       "       'hardwareid', 'short_date', 'user_acct_number_hashed',\n",
       "       'user_agent_string_hash', 'browser_plugins_hash', 'screen_hash',\n",
       "       'user_id', 'ip_address', 'ip_country', 'ip_region', 'ip_city',\n",
       "       'ip_isp'],\n",
       "      dtype='object')"
      ]
     },
     "execution_count": 30,
     "metadata": {},
     "output_type": "execute_result"
    }
   ],
   "source": [
    "data.columns"
   ]
  },
  {
   "cell_type": "markdown",
   "metadata": {},
   "source": [
    "### Подробнее что есть что\n",
    "\n",
    "'event_id'- уникальный id транзакции\n",
    "\n",
    "'short_date' - дата (для удобства поиска/агрегации)\n",
    "\n",
    "'user_id' - уникальный идентификатор клиента\n",
    "\n",
    "'event_time' - дата и время собятия\n",
    "\n",
    "'custom_mark'- результат разбора события\n",
    "\n",
    "'channel_indicator_desc' - канал проведения операции (web, мобильное приложение, SMS-банк и пр.)\n",
    "\n",
    "'event_description' - описание непосредственно события (например, вход в систему или перевод, оплата услуг)\n",
    "\n",
    "'amount_original' - сумма в рублях\n",
    "\n",
    "'user_agent_string_hash', 'browser_plugins_hash', 'screen_hash' - различные признаки устройства (с определенной степенью точности позволяет понять уникальность устройства в разрезе пользователя)\n",
    "\n",
    "ip_address', 'ip_country', 'ip_region', 'ip_city', 'ip_isp' - данные, связанные с IP (регион, город и интернет-провадйер по БД гео-IP)\n",
    "'hardwareid' - уникальный идентификатор устройства для канала мобильных приложений\n",
    "\n",
    "'user_acct_number_hashed'- счет отправителя (хэшированный)\n",
    "'ext_acct_number_hashed'- счет получателя (хэшированный)\n",
    "\n",
    "\n",
    "'data_s_65' - результат определения связи между отправителем и получателем (чем больше, тем сильнее связь) \n",
    "'data_i_118', 'data_i_119’, 'data_i_120', 'data_i_154' - ряд признаков, которые описывают устройство, с которого проводятся операции\n",
    " \n",
    "\n",
    "\n",
    " 'cdf_s_136','cdf_s_137','cdf_s_140'- кумулятивные суммы операций за сутки в web, МП, web + МП\n",
    " 'cdf_s_218'- предполагаемое наличие родственной связи \n",
    " 'cdf_s_127', 'cdf_s_135', 'cdf_s_130', 'cdf_s_129', 'cdf_s_134', 'cdf_s_128', 'cdf_s_138', 'cdf_s_126' - дней с момента различных рисковых событий\n",
    "\n",
    "\n",
    "\n",
    " 'cdf_s_19'- ДР клиента\n",
    " 'cdf_s_20'- Территориальный банк клиента (региональный признак)\n",
    " 'cdf_s_299'- Тер банк получателя (региональный признак)\n",
    "\n",
    " 'cdf_s_294'- возраст получателя\n",
    "\n",
    " 'cdf_s_123'- региональный признак получателя (более локальный по сравнению с ТБ)<br>\n",
    " 'cdf_s_124'- дата выдачи карты получателя\n",
    "\n",
    " 'cdf_s_178_hashed' - реквизит получателя"
   ]
  },
  {
   "cell_type": "code",
   "execution_count": 68,
   "metadata": {},
   "outputs": [
    {
     "name": "stdout",
     "output_type": "stream",
     "text": [
      "CPU times: user 4.64 s, sys: 87.9 ms, total: 4.73 s\n",
      "Wall time: 4.73 s\n"
     ]
    }
   ],
   "source": [
    "%%time\n",
    "feat_matrix['user_id_digit_only'] = feat_matrix['user_id'].apply(lambda x: x.isdigit())\n",
    "user_id_what_suffix = pd.Series([re.sub('[0-9]', '', x) for x in data['user_id']])\n",
    "for suffix in ['MBK', 'VSP', 'CRM', 'IVR', 'other']:\n",
    "    if suffix == 'other':\n",
    "        result = ~user_id_what_suffix.isin(['MBK', 'VSP', 'CRM', 'IVR', ''])\n",
    "    else:\n",
    "        result = (user_id_what_suffix == suffix).astype(int)\n",
    "    feat_matrix[f'user_id_{suffix}'] = result"
   ]
  },
  {
   "cell_type": "code",
   "execution_count": 97,
   "metadata": {
    "collapsed": true
   },
   "outputs": [],
   "source": [
    "feat_matrix['event_hour'] = [x.hour for x in feat_matrix['event_time']]\n",
    "feat_matrix['event_hour_night'] = [1 if ((hour >= 23) or (hour <= 7)) else 0 for hour in feat_matrix['event_hour']]\n",
    "feat_matrix['event_hour_workhour'] = [1 if ((hour >= 8) or (hour <= 17)) else 0 for hour in feat_matrix['event_hour']]\n",
    "feat_matrix['event_hour_evening'] = [1 if ((hour >= 18) or (hour <= 22)) else 0 for hour in feat_matrix['event_hour']]"
   ]
  },
  {
   "cell_type": "code",
   "execution_count": null,
   "metadata": {
    "collapsed": true
   },
   "outputs": [],
   "source": [
    "feat_matrix['event_day'] = [x.dayofweek for x in feat_matrix['event_time']]\n",
    "feat_matrix['event_day_is_weekend'] = [1 if day >= 6 else 0 for day in feat_matrix['event_day']]"
   ]
  },
  {
   "cell_type": "code",
   "execution_count": 109,
   "metadata": {
    "collapsed": true
   },
   "outputs": [],
   "source": [
    "data['is_fraud'] = [cust_mark_to_class(x) for x in data['custom_mark']]"
   ]
  },
  {
   "cell_type": "code",
   "execution_count": 110,
   "metadata": {},
   "outputs": [
    {
     "data": {
      "text/plain": [
       " 0    1368638\n",
       " 1        686\n",
       "-1        291\n",
       "Name: is_fraud, dtype: int64"
      ]
     },
     "execution_count": 110,
     "metadata": {},
     "output_type": "execute_result"
    }
   ],
   "source": [
    "data['is_fraud'].value_counts()"
   ]
  },
  {
   "cell_type": "code",
   "execution_count": 111,
   "metadata": {
    "collapsed": true
   },
   "outputs": [],
   "source": [
    "fraud_users = set(data.loc[data['is_fraud'] == 1, 'user_id'])"
   ]
  },
  {
   "cell_type": "code",
   "execution_count": 112,
   "metadata": {
    "collapsed": true
   },
   "outputs": [],
   "source": [
    "fraud = data.loc[data['user_id'].isin(fraud_users)]"
   ]
  },
  {
   "cell_type": "code",
   "execution_count": 113,
   "metadata": {},
   "outputs": [
    {
     "data": {
      "text/plain": [
       "(52300, 46)"
      ]
     },
     "execution_count": 113,
     "metadata": {},
     "output_type": "execute_result"
    }
   ],
   "source": [
    "fraud.shape"
   ]
  },
  {
   "cell_type": "code",
   "execution_count": 115,
   "metadata": {},
   "outputs": [
    {
     "data": {
      "text/plain": [
       "user_id\n",
       "18489906       -3\n",
       "67460713        0\n",
       "83860916        0\n",
       "21263096        0\n",
       "42854692        0\n",
       "24514106        0\n",
       "33288296        1\n",
       "33440349        1\n",
       "71930875        1\n",
       "41448307        1\n",
       "38163388        1\n",
       "3911617         1\n",
       "32395611        1\n",
       "69471360        1\n",
       "31561397        1\n",
       "7410167         1\n",
       "71418046        1\n",
       "VSP707918       1\n",
       "66439478        1\n",
       "53927523        1\n",
       "60246553        1\n",
       "5289558         1\n",
       "61274376        1\n",
       "5081144         1\n",
       "62193631        1\n",
       "62995357        1\n",
       "63049459        1\n",
       "49035582        1\n",
       "64366597        1\n",
       "66179947        1\n",
       "               ..\n",
       "24595964        6\n",
       "19803224        6\n",
       "22030688        6\n",
       "12049024        6\n",
       "87986988        7\n",
       "18199100        7\n",
       "28179889        7\n",
       "84725370        7\n",
       "49699331        7\n",
       "21139877        7\n",
       "13997765        7\n",
       "MBK10980439     8\n",
       "34866101        8\n",
       "32409671        8\n",
       "39619880        8\n",
       "23852680        9\n",
       "51169350        9\n",
       "20082021        9\n",
       "MBK7852085     12\n",
       "56534514       12\n",
       "15802598       13\n",
       "89644674       13\n",
       "63928242       13\n",
       "30773086       17\n",
       "58286198       19\n",
       "4057426        19\n",
       "9181009        20\n",
       "61975453       23\n",
       "166271         24\n",
       "77365411       39\n",
       "Name: is_fraud, Length: 172, dtype: int64"
      ]
     },
     "execution_count": 115,
     "metadata": {},
     "output_type": "execute_result"
    }
   ],
   "source": [
    "fraud.groupby('user_id')['is_fraud'].agg(np.sum).sort_values()"
   ]
  },
  {
   "cell_type": "code",
   "execution_count": 124,
   "metadata": {},
   "outputs": [
    {
     "data": {
      "text/plain": [
       "Index(['cdf_s_123', 'cdf_s_124', 'cdf_s_127', 'cdf_s_135', 'cdf_s_130',\n",
       "       'cdf_s_129', 'cdf_s_134', 'cdf_s_128', 'cdf_s_138', 'cdf_s_126',\n",
       "       'cdf_s_133', 'cdf_s_136', 'cdf_s_137', 'cdf_s_140', 'cdf_s_178_hashed',\n",
       "       'cdf_s_19', 'cdf_s_20', 'cdf_s_218', 'cdf_s_294', 'cdf_s_299',\n",
       "       'amount_original', 'channel_indicator_desc', 'custom_mark',\n",
       "       'data_i_118', 'data_i_119', 'data_i_120', 'data_i_154', 'data_s_65',\n",
       "       'event_description', 'event_id', 'event_time', 'ext_acct_number_hashed',\n",
       "       'hardwareid', 'short_date', 'user_acct_number_hashed',\n",
       "       'user_agent_string_hash', 'browser_plugins_hash', 'screen_hash',\n",
       "       'user_id', 'ip_address', 'ip_country', 'ip_region', 'ip_city', 'ip_isp',\n",
       "       'is_frad', 'is_fraud'],\n",
       "      dtype='object')"
      ]
     },
     "execution_count": 124,
     "metadata": {},
     "output_type": "execute_result"
    }
   ],
   "source": [
    "fraud.columns"
   ]
  },
  {
   "cell_type": "code",
   "execution_count": 140,
   "metadata": {
    "collapsed": true
   },
   "outputs": [],
   "source": [
    "#, ['user_id', 'amount_original', 'event_time']\n",
    "one_fraud = fraud.loc[fraud['user_id'] == '77365411', [x for x in fraud.columns if (not x.startswith('cdf')) and (not x.startswith('data_'))]].sort_values('event_time')"
   ]
  },
  {
   "cell_type": "raw",
   "metadata": {},
   "source": [
    "vf = fraud.loc[fraud['is_fraud'] == 1, 'event_description'].value_counts(normalize=True) * 100\n",
    "vf"
   ]
  },
  {
   "cell_type": "raw",
   "metadata": {},
   "source": [
    "rfraud_users"
   ]
  },
  {
   "cell_type": "code",
   "execution_count": 154,
   "metadata": {
    "collapsed": true
   },
   "outputs": [],
   "source": [
    "not_fraud = data.loc[~data['user_id'].isin(fraud_users)]"
   ]
  },
  {
   "cell_type": "code",
   "execution_count": 174,
   "metadata": {},
   "outputs": [],
   "source": [
    "not_fraud_mean_cities = []\n",
    "for key, group in itertools.groupby(zip(not_fraud['user_id'], not_fraud['ip_city']), key = lambda x: x[0]):\n",
    "    a = []\n",
    "    for k, v in group:\n",
    "        a.append(v)\n",
    "    not_fraud_mean_cities.append(len(set(a) - set([np.nan, 'empty'])))"
   ]
  },
  {
   "cell_type": "code",
   "execution_count": 175,
   "metadata": {},
   "outputs": [
    {
     "data": {
      "text/plain": [
       "3.900859752821064"
      ]
     },
     "execution_count": 175,
     "metadata": {},
     "output_type": "execute_result"
    }
   ],
   "source": [
    "np.mean(not_fraud_mean_cities)"
   ]
  },
  {
   "cell_type": "code",
   "execution_count": 176,
   "metadata": {},
   "outputs": [
    {
     "data": {
      "text/plain": [
       "3.0"
      ]
     },
     "execution_count": 176,
     "metadata": {},
     "output_type": "execute_result"
    }
   ],
   "source": [
    "np.median(not_fraud_mean_cities)"
   ]
  },
  {
   "cell_type": "code",
   "execution_count": 181,
   "metadata": {},
   "outputs": [
    {
     "data": {
      "text/plain": [
       "3.7151162790697674"
      ]
     },
     "execution_count": 181,
     "metadata": {},
     "output_type": "execute_result"
    }
   ],
   "source": [
    "fraud.groupby('user_id')['ip_city'].agg(lambda a: len(set(a) - set([np.nan, 'empty']))).mean()"
   ]
  },
  {
   "cell_type": "code",
   "execution_count": 165,
   "metadata": {},
   "outputs": [
    {
     "data": {
      "text/plain": [
       "<itertools._grouper at 0x7f2aeaed8ac8>"
      ]
     },
     "execution_count": 165,
     "metadata": {},
     "output_type": "execute_result"
    }
   ],
   "source": []
  },
  {
   "cell_type": "code",
   "execution_count": 100,
   "metadata": {},
   "outputs": [
    {
     "data": {
      "text/plain": [
       "Вход в систему с одноразовым паролем                                                                     600275\n",
       "Перевод частному лицу                                                                                    202202\n",
       "Просмотр документа                                                                                       180245\n",
       "Оплата услуг                                                                                             129055\n",
       "Перевод между своими счетами и картами                                                                    84047\n",
       "Вход в систему без одноразового пароля                                                                    32511\n",
       "MobileOffer                                                                                               21192\n",
       "mP2P                                                                                                      20001\n",
       "Неуспешный вход в систему                                                                                 15689\n",
       "Запрос баланса карты                                                                                       9738\n",
       "Изменение логина клиента                                                                                   7648\n",
       "Выдана новая карта                                                                                         6266\n",
       "Завершение регистрации                                                                                     5357\n",
       "Оплата ТЕЛЕ2                                                                                               4911\n",
       "Регистрация нового мобильного приложения                                                                   4495\n",
       "Оплата MTS                                                                                                 4279\n",
       "Оплата Билайн                                                                                              3634\n",
       "Регистрация клиента                                                                                        3349\n",
       "Изменение услуг SMS-информирования и \\ или E-Mail информирования                                           2652\n",
       "Аутентификация пользователя                                                                                2562\n",
       "Оферта оплаты мобильного телефона без шаблона                                                              2219\n",
       "Создание автоплатежа (регулярной операции)                                                                 1792\n",
       "Запрос информации о зарегистрированных платёжных поручениях                                                1756\n",
       "Смена устройства: андроид - андроид                                                                        1383\n",
       "Создание шаблона - Оплата услуг                                                                            1287\n",
       "Запрос получения регистрационной информации                                                                1254\n",
       "Оплата Megafon                                                                                             1229\n",
       "Смена устройства: другая ОС - другая ОС                                                                    1206\n",
       "Оплата Мегафон-Хабаровск                                                                                   1118\n",
       "Оплата Мегафон-Кавказ                                                                                      1069\n",
       "                                                                                                          ...  \n",
       "Перевод с карты на карту                                                                                     43\n",
       "Сброс постоянного пароля                                                                                     38\n",
       "Подключение УДБО                                                                                             31\n",
       "Сброс кода клиента                                                                                           31\n",
       "Перевод звонка в IVR для автоматического создания Кода Клиента                                               28\n",
       "Заявка на кредитную карту                                                                                    26\n",
       "Запрос на токенизацию карты Apple Wallet                                                                     26\n",
       "Перевод звонка в IVR для самостоятельного создания Кода Клиента                                              25\n",
       "Создание шаблона - Перевод между своими счетами и картами                                                    22\n",
       "Согласие на выдачу кредита                                                                                   22\n",
       "PlainOffer                                                                                                   20\n",
       "Выписка ПФР                                                                                                  19\n",
       "Заявка на предодобренный кредит                                                                              16\n",
       "Подписка на Автоплатежи МТС                                                                                  10\n",
       "MNP. Абонент больше не обслуживается у Оператора, т.к. он воспользовался MNP.                                 8\n",
       "Закрытие абонента по инициативе Оператора                                                                     8\n",
       "Подписка на Автоплатежи Мегафон                                                                               7\n",
       "Приостановка копилки                                                                                          7\n",
       "Удаление идентификатора СБОЛ                                                                                  6\n",
       "Смена владельца номера MSISDN \\ переоформление номера MSISDN Физ.Лицо- Физ.Лицо (инициатива Абонента)         6\n",
       "Запрещение Быстрых сервисов для телефона                                                                      6\n",
       "Оплата Ростелеком                                                                                             6\n",
       "Запрос на смену номера карты                                                                                  5\n",
       "Смена владельца\\переоформление Физ.Лицо – Юр.Лицо (инициатива Абонента)                                       5\n",
       "Подписка на Автоплатежи Теле2                                                                                 4\n",
       "Расторжение абонентом договора с Оператором                                                                   2\n",
       "Подписка на Автоплатежи Билайн                                                                                1\n",
       "Удаление Автоплатежа Мегафон                                                                                  1\n",
       "Запрос изменения кода клиента                                                                                 1\n",
       "Оплата МГТС                                                                                                   1\n",
       "Name: event_description, Length: 101, dtype: int64"
      ]
     },
     "execution_count": 100,
     "metadata": {},
     "output_type": "execute_result"
    }
   ],
   "source": [
    "with pd.\n",
    "data['event_description'].value_counts()"
   ]
  },
  {
   "cell_type": "code",
   "execution_count": 99,
   "metadata": {
    "collapsed": true
   },
   "outputs": [],
   "source": [
    "for suffix in ['MOBILEAPI', 'WEBAPI', 'ATMAPI', 'MBK', 'other']:\n",
    "    if suffix == 'other':\n",
    "        result = ~user_id_what_suffix.isin(['MOBILEAPI', 'WEBAPI', 'ATMAPI', 'MBK'])\n",
    "    else:\n",
    "        result = (user_id_what_suffix == suffix).astype(int)\n",
    "    feat_matrix[f'channel_indicator_desc_is_{suffix}'] = result"
   ]
  },
  {
   "cell_type": "code",
   "execution_count": 44,
   "metadata": {},
   "outputs": [
    {
     "name": "stdout",
     "output_type": "stream",
     "text": [
      "First 2.044484 seconds.\n"
     ]
    }
   ],
   "source": [
    "#%%time\n",
    "tt = TicToc()\n",
    "tt.tic()\n",
    "\n",
    "feat_matrix = pd.DataFrame()\n",
    "#data = data[data.event_description.isin([u'Перевод частному лицу',u'Оплата услуг',u'Перевод между своими счетами и картами'])]\n",
    "\n",
    "if data.shape[0] == 0:\n",
    "    raise 'shape is 0'\n",
    "\n",
    "# заполняем ряд пропусков\n",
    "data.cdf_s_140 = data.cdf_s_140.fillna(0).astype(float) / 1000\n",
    "data.data_i_120.fillna(1, inplace=True)\n",
    "\n",
    "feat_matrix['amount'] = data['amount_original']\n",
    "same_columns = ['event_id', 'user_id', 'custom_mark', 'event_time', \n",
    "                'cdf_s_127', 'cdf_s_129', 'cdf_s_130', 'cdf_s_133', 'cdf_s_134', 'cdf_s_135', 'data_i_120']\n",
    "for column in same_columns:\n",
    "    feat_matrix.loc[:, column] = data[column]\n",
    "\n",
    "tt.toc('First')"
   ]
  },
  {
   "cell_type": "raw",
   "metadata": {
    "scrolled": false
   },
   "source": [
    "for col in ['cdf_s_127', 'cdf_s_129', 'cdf_s_130', 'cdf_s_133', 'cdf_s_134', 'cdf_s_135', 'data_i_120']:\n",
    "    print(col)\n",
    "    try:\n",
    "        display(data[col].value_counts(dropna=False)[:10])\n",
    "    except:\n",
    "        pass"
   ]
  },
  {
   "cell_type": "raw",
   "metadata": {},
   "source": [
    "data.cdf_s_140"
   ]
  },
  {
   "cell_type": "code",
   "execution_count": 197,
   "metadata": {
    "scrolled": true
   },
   "outputs": [
    {
     "data": {
      "text/plain": [
       "0         1977-02-15\n",
       "1         1977-02-15\n",
       "2         1977-02-15\n",
       "3         1977-02-15\n",
       "4         1977-02-15\n",
       "5         1977-02-15\n",
       "6         1977-02-15\n",
       "7         1977-02-15\n",
       "8         1977-02-15\n",
       "9         1977-02-15\n",
       "10        1977-02-15\n",
       "11        1977-02-15\n",
       "12        1977-02-15\n",
       "13        1977-02-15\n",
       "14        1977-02-15\n",
       "15        1977-02-15\n",
       "16        1977-02-15\n",
       "17        1977-02-15\n",
       "18        1977-02-15\n",
       "19        1977-02-15\n",
       "20        1977-02-15\n",
       "21        1977-02-15\n",
       "22        1977-02-15\n",
       "23        1977-02-15\n",
       "24        1977-02-15\n",
       "25        1977-02-15\n",
       "26        1977-02-15\n",
       "27        1977-02-15\n",
       "28        1977-02-15\n",
       "29        1977-02-15\n",
       "             ...    \n",
       "1369585   1968-02-13\n",
       "1369586   1968-02-13\n",
       "1369587   1968-02-13\n",
       "1369588          NaT\n",
       "1369589   1968-02-13\n",
       "1369590   1968-02-13\n",
       "1369591   1968-02-13\n",
       "1369592   1968-02-13\n",
       "1369593   1968-02-13\n",
       "1369594   1968-02-13\n",
       "1369595   1968-02-13\n",
       "1369596   1968-02-13\n",
       "1369597   1968-02-13\n",
       "1369598          NaT\n",
       "1369599   1968-02-13\n",
       "1369600   1968-02-13\n",
       "1369601   1968-02-13\n",
       "1369602   1968-02-13\n",
       "1369603   1968-02-13\n",
       "1369604   1968-02-13\n",
       "1369605   1968-02-13\n",
       "1369606   1968-02-13\n",
       "1369607   1968-02-13\n",
       "1369608   1968-02-13\n",
       "1369609   1968-02-13\n",
       "1369610   1968-02-13\n",
       "1369611   1968-02-13\n",
       "1369612   1968-02-13\n",
       "1369613   1968-02-13\n",
       "1369614   1968-02-13\n",
       "Name: cdf_s_19, Length: 1369615, dtype: datetime64[ns]"
      ]
     },
     "execution_count": 197,
     "metadata": {},
     "output_type": "execute_result"
    }
   ],
   "source": [
    "data.cdf_s_19"
   ]
  },
  {
   "cell_type": "code",
   "execution_count": 207,
   "metadata": {},
   "outputs": [
    {
     "data": {
      "text/plain": [
       "213058"
      ]
     },
     "execution_count": 207,
     "metadata": {},
     "output_type": "execute_result"
    }
   ],
   "source": [
    "feat_matrix['client_age'].isnull().sum()"
   ]
  },
  {
   "cell_type": "code",
   "execution_count": 208,
   "metadata": {},
   "outputs": [
    {
     "data": {
      "text/plain": [
       "null    981523\n",
       "ДА      234106\n",
       "НЕТ     153986\n",
       "Name: cdf_s_126, dtype: int64"
      ]
     },
     "execution_count": 208,
     "metadata": {},
     "output_type": "execute_result"
    }
   ],
   "source": [
    "data.cdf_s_126.value_counts(dropna=False)"
   ]
  },
  {
   "cell_type": "code",
   "execution_count": 211,
   "metadata": {},
   "outputs": [
    {
     "data": {
      "text/plain": [
       "2    981523\n",
       "0    373021\n",
       "1     15071\n",
       "Name: cat_new_prov, dtype: int64"
      ]
     },
     "execution_count": 211,
     "metadata": {},
     "output_type": "execute_result"
    }
   ],
   "source": [
    "feat_matrix['cat_new_prov'].value_counts()"
   ]
  },
  {
   "cell_type": "code",
   "execution_count": 212,
   "metadata": {},
   "outputs": [
    {
     "data": {
      "text/plain": [
       "MOBILEAPI     1017473\n",
       "WEBAPI         132591\n",
       "ATMAPI         127791\n",
       "MBK             79184\n",
       "CRM              8380\n",
       "IVR              2503\n",
       "VSP              1213\n",
       "CALLCENTER        402\n",
       "UFS.WEBAPI         54\n",
       "INTERNET           24\n",
       "Name: channel_indicator_desc, dtype: int64"
      ]
     },
     "execution_count": 212,
     "metadata": {},
     "output_type": "execute_result"
    }
   ],
   "source": [
    "data.channel_indicator_desc.value_counts(dropna=False)"
   ]
  },
  {
   "cell_type": "code",
   "execution_count": 213,
   "metadata": {},
   "outputs": [
    {
     "name": "stdout",
     "output_type": "stream",
     "text": [
      "Second 31526.561997 seconds.\n"
     ]
    }
   ],
   "source": [
    "# кумулятивная сумма операций за сутки в каналах web и МП, умножил на 1e15 из-за того, что там сильно маленькие числа\n",
    "feat_matrix['cumulative_sum_total'] = data.cdf_s_140 * 1e15\n",
    "\n",
    "\n",
    "feat_matrix['client_age'] = [x.days / 365.25 for x in (data.event_time - data.cdf_s_19)]\n",
    "feat_matrix['client_age_isnull'] = feat_matrix['client_age'].isnull().astype(int)\n",
    "\n",
    "#заменил на -1\n",
    "feat_matrix['cat_new_ip'] = [1 if x == 'ДА' else 0 if x == 'НЕТ' else -1 for x in data.cdf_s_126]\n",
    "feat_matrix['cat_new_prov'] =  [1 if x == 'ДА' else 0 if x == 'НЕТ' else -1 for x in data.cdf_s_138]\n",
    "feat_matrix['channel_op'] =  [0 if x == 'MOBILE' else 1 if x == 'WEB' else -1 for x in data.channel_indicator_desc]\n",
    "feat_matrix['op_type'] = [0 if x == 'Перевод частному лицу' else\n",
    "                          1 if x == 'Оплата услуг' else\n",
    "                          2 if x == 'Перевод между своими счетами и картами' else\n",
    "                          3 for x in data.event_description]\n",
    "\n",
    "tt.toc('Second')"
   ]
  },
  {
   "cell_type": "code",
   "execution_count": 214,
   "metadata": {},
   "outputs": [
    {
     "data": {
      "text/plain": [
       "3    954311\n",
       "0    202202\n",
       "1    129055\n",
       "2     84047\n",
       "Name: op_type, dtype: int64"
      ]
     },
     "execution_count": 214,
     "metadata": {},
     "output_type": "execute_result"
    }
   ],
   "source": [
    "feat_matrix['op_type'].value_counts()"
   ]
  },
  {
   "cell_type": "code",
   "execution_count": 196,
   "metadata": {},
   "outputs": [
    {
     "data": {
      "text/plain": [
       "354.9999999999999"
      ]
     },
     "execution_count": 196,
     "metadata": {},
     "output_type": "execute_result"
    }
   ],
   "source": [
    "(data.cdf_s_140 * 1e15).max()#.value_counts(dropna=False)"
   ]
  },
  {
   "cell_type": "code",
   "execution_count": 217,
   "metadata": {},
   "outputs": [
    {
     "data": {
      "text/plain": [
       "1    1279563\n",
       "0      90052\n",
       "Name: recip_age, dtype: int64"
      ]
     },
     "execution_count": 217,
     "metadata": {},
     "output_type": "execute_result"
    }
   ],
   "source": [
    "feat_matrix['recip_age'].value_counts()"
   ]
  },
  {
   "cell_type": "code",
   "execution_count": 223,
   "metadata": {},
   "outputs": [
    {
     "data": {
      "image/png": "[encoded data removed]",
      "text/plain": [
       "<matplotlib.figure.Figure at 0x7f2b73fba4e0>"
      ]
     },
     "metadata": {},
     "output_type": "display_data"
    }
   ],
   "source": [
    "plt.hist(feat_matrix['age_diff'].dropna())\n",
    "plt.show()"
   ]
  },
  {
   "cell_type": "code",
   "execution_count": 230,
   "metadata": {},
   "outputs": [
    {
     "data": {
      "text/plain": [
       "0"
      ]
     },
     "execution_count": 230,
     "metadata": {},
     "output_type": "execute_result"
    }
   ],
   "source": [
    "data.data_i_154.isnull().sum()"
   ]
  },
  {
   "cell_type": "code",
   "execution_count": 231,
   "metadata": {},
   "outputs": [
    {
     "data": {
      "text/plain": [
       "1    1369615\n",
       "Name: know_recip_card_age, dtype: int64"
      ]
     },
     "execution_count": 231,
     "metadata": {},
     "output_type": "execute_result"
    }
   ],
   "source": [
    "feat_matrix['know_recip_card_age'].value_counts(dropna=False)"
   ]
  },
  {
   "cell_type": "code",
   "execution_count": 235,
   "metadata": {},
   "outputs": [
    {
     "data": {
      "text/plain": [
       "0.9822446453930485"
      ]
     },
     "execution_count": 235,
     "metadata": {},
     "output_type": "execute_result"
    }
   ],
   "source": []
  },
  {
   "cell_type": "code",
   "execution_count": 236,
   "metadata": {
    "scrolled": true
   },
   "outputs": [
    {
     "data": {
      "text/plain": [
       "912321    1345297\n",
       "19             95\n",
       "14             87\n",
       "18             86\n",
       "74             80\n",
       "62             80\n",
       "75             76\n",
       "21             75\n",
       "42             74\n",
       "17             74\n",
       "51             73\n",
       "34             73\n",
       "24             72\n",
       "28             72\n",
       "82             72\n",
       "16             72\n",
       "20             72\n",
       "90             72\n",
       "36             71\n",
       "64             71\n",
       "41             71\n",
       "85             71\n",
       "58             71\n",
       "50             70\n",
       "239            70\n",
       "12             70\n",
       "61             70\n",
       "69             69\n",
       "56             69\n",
       "33             68\n",
       "           ...   \n",
       "20077           1\n",
       "9824            1\n",
       "17004           1\n",
       "14947           1\n",
       "17003           1\n",
       "10854           1\n",
       "9830            1\n",
       "9837            1\n",
       "13932           1\n",
       "9838            1\n",
       "8820            1\n",
       "7798            1\n",
       "17020           1\n",
       "10865           1\n",
       "10870           1\n",
       "14964           1\n",
       "17018           1\n",
       "11892           1\n",
       "12918           1\n",
       "10858           1\n",
       "21089           1\n",
       "27234           1\n",
       "13930           1\n",
       "11881           1\n",
       "10857           1\n",
       "9839            1\n",
       "13933           1\n",
       "7784            1\n",
       "6760            1\n",
       "13318           1\n",
       "Name: recip_card_age, Length: 3363, dtype: int64"
      ]
     },
     "execution_count": 236,
     "metadata": {},
     "output_type": "execute_result"
    }
   ],
   "source": [
    "feat_matrix['recip_card_age'].value_counts()"
   ]
  },
  {
   "cell_type": "code",
   "execution_count": 237,
   "metadata": {},
   "outputs": [
    {
     "data": {
      "text/plain": [
       "74.61369863013698"
      ]
     },
     "execution_count": 237,
     "metadata": {},
     "output_type": "execute_result"
    }
   ],
   "source": [
    "27234 / 365"
   ]
  },
  {
   "cell_type": "code",
   "execution_count": 239,
   "metadata": {},
   "outputs": [
    {
     "data": {
      "text/plain": [
       "Timestamp('2017-11-24 00:00:00')"
      ]
     },
     "execution_count": 239,
     "metadata": {},
     "output_type": "execute_result"
    }
   ],
   "source": [
    "data.cdf_s_124.max()"
   ]
  },
  {
   "cell_type": "code",
   "execution_count": 246,
   "metadata": {},
   "outputs": [
    {
     "data": {
      "image/png": "[encoded data removed]",
      "text/plain": [
       "<matplotlib.figure.Figure at 0x7f2b73bf7cc0>"
      ]
     },
     "metadata": {},
     "output_type": "display_data"
    }
   ],
   "source": [
    "plt.hist(feat_matrix['recip_card_age'], bins = 100)\n",
    "plt.show()"
   ]
  },
  {
   "cell_type": "code",
   "execution_count": 255,
   "metadata": {},
   "outputs": [
    {
     "data": {
      "image/png": "[encoded data removed]",
      "text/plain": [
       "<matplotlib.figure.Figure at 0x7f2b73a9e588>"
      ]
     },
     "metadata": {},
     "output_type": "display_data"
    }
   ],
   "source": [
    "plt.hist(data.event_time.astype(int).dropna())\n",
    "plt.show()"
   ]
  },
  {
   "cell_type": "code",
   "execution_count": 259,
   "metadata": {},
   "outputs": [
    {
     "data": {
      "image/png": "[encoded data removed]",
      "text/plain": [
       "<matplotlib.figure.Figure at 0x7f2b73a206d8>"
      ]
     },
     "metadata": {},
     "output_type": "display_data"
    }
   ],
   "source": [
    "data.cdf_s_124.hist(bins = 100)\n",
    "plt.show()"
   ]
  },
  {
   "cell_type": "code",
   "execution_count": 264,
   "metadata": {},
   "outputs": [
    {
     "ename": "TypeError",
     "evalue": "invalid type comparison",
     "output_type": "error",
     "traceback": [
      "\u001b[0;31m---------------------------------------------------------------------------\u001b[0m",
      "\u001b[0;31mTypeError\u001b[0m                                 Traceback (most recent call last)",
      "\u001b[0;32m<ipython-input-264-b1f50a5810b4>\u001b[0m in \u001b[0;36m<module>\u001b[0;34m()\u001b[0m\n\u001b[0;32m----> 1\u001b[0;31m \u001b[0;34m(\u001b[0m\u001b[0mdata\u001b[0m\u001b[0;34m.\u001b[0m\u001b[0mcdf_s_124\u001b[0m \u001b[0;34m<\u001b[0m \u001b[0mnp\u001b[0m\u001b[0;34m.\u001b[0m\u001b[0mnan\u001b[0m\u001b[0;34m)\u001b[0m\u001b[0;34m.\u001b[0m\u001b[0mmean\u001b[0m\u001b[0;34m(\u001b[0m\u001b[0;34m)\u001b[0m\u001b[0;34m\u001b[0m\u001b[0m\n\u001b[0m",
      "\u001b[0;32m/home/alex/anaconda3/lib/python3.6/site-packages/pandas/core/ops.py\u001b[0m in \u001b[0;36mwrapper\u001b[0;34m(self, other, axis)\u001b[0m\n\u001b[1;32m    859\u001b[0m \u001b[0;34m\u001b[0m\u001b[0m\n\u001b[1;32m    860\u001b[0m             \u001b[0;32mwith\u001b[0m \u001b[0mnp\u001b[0m\u001b[0;34m.\u001b[0m\u001b[0merrstate\u001b[0m\u001b[0;34m(\u001b[0m\u001b[0mall\u001b[0m\u001b[0;34m=\u001b[0m\u001b[0;34m'ignore'\u001b[0m\u001b[0;34m)\u001b[0m\u001b[0;34m:\u001b[0m\u001b[0;34m\u001b[0m\u001b[0m\n\u001b[0;32m--> 861\u001b[0;31m                 \u001b[0mres\u001b[0m \u001b[0;34m=\u001b[0m \u001b[0mna_op\u001b[0m\u001b[0;34m(\u001b[0m\u001b[0mvalues\u001b[0m\u001b[0;34m,\u001b[0m \u001b[0mother\u001b[0m\u001b[0;34m)\u001b[0m\u001b[0;34m\u001b[0m\u001b[0m\n\u001b[0m\u001b[1;32m    862\u001b[0m             \u001b[0;32mif\u001b[0m \u001b[0mis_scalar\u001b[0m\u001b[0;34m(\u001b[0m\u001b[0mres\u001b[0m\u001b[0;34m)\u001b[0m\u001b[0;34m:\u001b[0m\u001b[0;34m\u001b[0m\u001b[0m\n\u001b[1;32m    863\u001b[0m                 raise TypeError('Could not compare %s type with Series' %\n",
      "\u001b[0;32m/home/alex/anaconda3/lib/python3.6/site-packages/pandas/core/ops.py\u001b[0m in \u001b[0;36mna_op\u001b[0;34m(x, y)\u001b[0m\n\u001b[1;32m    772\u001b[0m             \u001b[0;31m# integer comparisons\u001b[0m\u001b[0;34m\u001b[0m\u001b[0;34m\u001b[0m\u001b[0m\n\u001b[1;32m    773\u001b[0m             \u001b[0;32mif\u001b[0m \u001b[0mis_datetimelike_v_numeric\u001b[0m\u001b[0;34m(\u001b[0m\u001b[0mx\u001b[0m\u001b[0;34m,\u001b[0m \u001b[0my\u001b[0m\u001b[0;34m)\u001b[0m\u001b[0;34m:\u001b[0m\u001b[0;34m\u001b[0m\u001b[0m\n\u001b[0;32m--> 774\u001b[0;31m                 \u001b[0;32mraise\u001b[0m \u001b[0mTypeError\u001b[0m\u001b[0;34m(\u001b[0m\u001b[0;34m\"invalid type comparison\"\u001b[0m\u001b[0;34m)\u001b[0m\u001b[0;34m\u001b[0m\u001b[0m\n\u001b[0m\u001b[1;32m    775\u001b[0m \u001b[0;34m\u001b[0m\u001b[0m\n\u001b[1;32m    776\u001b[0m             \u001b[0;31m# numpy does not like comparisons vs None\u001b[0m\u001b[0;34m\u001b[0m\u001b[0;34m\u001b[0m\u001b[0m\n",
      "\u001b[0;31mTypeError\u001b[0m: invalid type comparison"
     ]
    }
   ],
   "source": [
    "(data.cdf_s_124 < '2010-10-10').mean()"
   ]
  },
  {
   "cell_type": "code",
   "execution_count": 265,
   "metadata": {},
   "outputs": [
    {
     "data": {
      "text/plain": [
       "0          True\n",
       "1          True\n",
       "2          True\n",
       "3          True\n",
       "4          True\n",
       "5          True\n",
       "6          True\n",
       "7          True\n",
       "8          True\n",
       "9          True\n",
       "10         True\n",
       "11         True\n",
       "12         True\n",
       "13         True\n",
       "14         True\n",
       "15         True\n",
       "16         True\n",
       "17         True\n",
       "18         True\n",
       "19         True\n",
       "20         True\n",
       "21         True\n",
       "22         True\n",
       "23         True\n",
       "24         True\n",
       "25         True\n",
       "26         True\n",
       "27         True\n",
       "28         True\n",
       "29         True\n",
       "           ... \n",
       "1369585    True\n",
       "1369586    True\n",
       "1369587    True\n",
       "1369588    True\n",
       "1369589    True\n",
       "1369590    True\n",
       "1369591    True\n",
       "1369592    True\n",
       "1369593    True\n",
       "1369594    True\n",
       "1369595    True\n",
       "1369596    True\n",
       "1369597    True\n",
       "1369598    True\n",
       "1369599    True\n",
       "1369600    True\n",
       "1369601    True\n",
       "1369602    True\n",
       "1369603    True\n",
       "1369604    True\n",
       "1369605    True\n",
       "1369606    True\n",
       "1369607    True\n",
       "1369608    True\n",
       "1369609    True\n",
       "1369610    True\n",
       "1369611    True\n",
       "1369612    True\n",
       "1369613    True\n",
       "1369614    True\n",
       "Length: 1369615, dtype: bool"
      ]
     },
     "execution_count": 265,
     "metadata": {},
     "output_type": "execute_result"
    }
   ],
   "source": [
    "(data.event_time - data.cdf_s_124).isnull()"
   ]
  },
  {
   "cell_type": "code",
   "execution_count": 273,
   "metadata": {},
   "outputs": [
    {
     "ename": "TypeError",
     "evalue": "ufunc 'isnan' not supported for the input types, and the inputs could not be safely coerced to any supported types according to the casting rule ''safe''",
     "output_type": "error",
     "traceback": [
      "\u001b[0;31m---------------------------------------------------------------------------\u001b[0m",
      "\u001b[0;31mTypeError\u001b[0m                                 Traceback (most recent call last)",
      "\u001b[0;32m<ipython-input-273-019b621ea6ad>\u001b[0m in \u001b[0;36m<module>\u001b[0;34m()\u001b[0m\n\u001b[0;32m----> 1\u001b[0;31m \u001b[0mnp\u001b[0m\u001b[0;34m.\u001b[0m\u001b[0misnan\u001b[0m\u001b[0;34m(\u001b[0m\u001b[0;34m(\u001b[0m\u001b[0mdata\u001b[0m\u001b[0;34m.\u001b[0m\u001b[0mevent_time\u001b[0m \u001b[0;34m-\u001b[0m \u001b[0mdata\u001b[0m\u001b[0;34m.\u001b[0m\u001b[0mcdf_s_124\u001b[0m\u001b[0;34m)\u001b[0m\u001b[0;34m[\u001b[0m\u001b[0;36m0\u001b[0m\u001b[0;34m]\u001b[0m\u001b[0;34m)\u001b[0m\u001b[0;34m\u001b[0m\u001b[0m\n\u001b[0m",
      "\u001b[0;31mTypeError\u001b[0m: ufunc 'isnan' not supported for the input types, and the inputs could not be safely coerced to any supported types according to the casting rule ''safe''"
     ]
    }
   ],
   "source": [
    "np.isnan((data.event_time - data.cdf_s_124)[0])"
   ]
  },
  {
   "cell_type": "code",
   "execution_count": 275,
   "metadata": {},
   "outputs": [
    {
     "data": {
      "image/png": "[encoded data removed]",
      "text/plain": [
       "<matplotlib.figure.Figure at 0x7f2b73985eb8>"
      ]
     },
     "metadata": {},
     "output_type": "display_data"
    }
   ],
   "source": [
    "feat_matrix['recip_card_age'].hist()\n",
    "plt.show()"
   ]
  },
  {
   "cell_type": "code",
   "execution_count": 317,
   "metadata": {},
   "outputs": [
    {
     "name": "stdout",
     "output_type": "stream",
     "text": [
      "Third 36312.678047 seconds.\n"
     ]
    }
   ],
   "source": [
    "# бинарный флаг определяющий наличие возраста получателя\n",
    "# (полезен для линейных моделей,  менее для деревьев с учетом следующего признака)\n",
    "feat_matrix['transfer_recip_age'] = [1 if x == 0 else 0 for x in data.cdf_s_294]\n",
    "# разница возрастов получателей и отправителей, если отсутствует/неприменимо, то padding 500\n",
    "feat_matrix['transfer_age_diff'] = feat_matrix.client_age - [int(x) if x != 0 else 1000 for x in data.cdf_s_294]\n",
    "# перевод родственнику\n",
    "feat_matrix['transfer_for_relative'] = [1 if x == 'ДА' else 0 for x in data.cdf_s_218] \n",
    "# сила связи отправителя и получателя\n",
    "feat_matrix['transfer_know_recip_squared'] = [ x if x is not None else 0 for x in data.data_s_65]\n",
    "# 'data_i_154' - ряд признаков, которые описывают устройство, с которого проводятся операции\n",
    "feat_matrix['data_i_154'] = [ x if x is not None else -150 for x in data.data_i_154]\n",
    "# 'cdf_s_124'- дата выдачи карты получателя\n",
    "feat_matrix['know_recip_card_age'] = ~data.cdf_s_124.isnull().astype(int)\n",
    "# в cdf_s_124 подмешана дата рождения, поэтому и max\n",
    "feat_matrix['recip_card_age'] = [max(x.days, 1000) if type(x) is not pd.tslib.NaTType else 1000 \n",
    "                                 for x in (data.event_time - data.cdf_s_124)]\n",
    "\n",
    "# feat_matrix['cat_client_region'] = [x if x.isdigit() else 912321 for x in data.cdf_s_20]\n",
    "feat_matrix['one_region'] = (data.cdf_s_20 == data.cdf_s_299).astype(int) # сравнение регионов\n",
    "\n",
    "# там с провайдером какая-то фигня до этого была (использовалась левая переменная)\n",
    "feat_matrix['ip_isp'] = data['ip_isp'].fillna(-1000000).astype(int)\n",
    "tt.toc('Third')"
   ]
  },
  {
   "cell_type": "raw",
   "metadata": {},
   "source": [
    "%%time\n",
    "!whois 31.173.86.8"
   ]
  },
  {
   "cell_type": "raw",
   "metadata": {},
   "source": [
    "data['ip_address'].value_counts(dropna=False)"
   ]
  },
  {
   "cell_type": "raw",
   "metadata": {},
   "source": [
    "data['ip_isp'].value_counts(dropna=False)"
   ]
  },
  {
   "cell_type": "code",
   "execution_count": 283,
   "metadata": {},
   "outputs": [
    {
     "data": {
      "text/plain": [
       "Index(['cdf_s_123', 'cdf_s_124', 'cdf_s_127', 'cdf_s_135', 'cdf_s_130',\n",
       "       'cdf_s_129', 'cdf_s_134', 'cdf_s_128', 'cdf_s_138', 'cdf_s_126',\n",
       "       'cdf_s_133', 'cdf_s_136', 'cdf_s_137', 'cdf_s_140', 'cdf_s_178_hashed',\n",
       "       'cdf_s_19', 'cdf_s_20', 'cdf_s_218', 'cdf_s_294', 'cdf_s_299',\n",
       "       'amount_original', 'channel_indicator_desc', 'custom_mark',\n",
       "       'data_i_118', 'data_i_119', 'data_i_120', 'data_i_154', 'data_s_65',\n",
       "       'event_description', 'event_id', 'event_time', 'ext_acct_number_hashed',\n",
       "       'hardwareid', 'short_date', 'user_acct_number_hashed',\n",
       "       'user_agent_string_hash', 'browser_plugins_hash', 'screen_hash',\n",
       "       'user_id', 'ip_address', 'ip_country', 'ip_region', 'ip_city', 'ip_isp',\n",
       "       'is_frad', 'is_fraud'],\n",
       "      dtype='object')"
      ]
     },
     "execution_count": 283,
     "metadata": {},
     "output_type": "execute_result"
    }
   ],
   "source": [
    "data.columns"
   ]
  },
  {
   "cell_type": "raw",
   "metadata": {},
   "source": [
    "data.cdf_s_20[:5], data.cdf_s_299[:5]"
   ]
  },
  {
   "cell_type": "raw",
   "metadata": {},
   "source": [
    "data.cdf_s_20 == data.cdf_s_299"
   ]
  },
  {
   "cell_type": "raw",
   "metadata": {},
   "source": [
    "feat_matrix['know_recip_power'].value_counts()"
   ]
  },
  {
   "cell_type": "raw",
   "metadata": {},
   "source": [
    "feat_matrix['ip_isp'].max()"
   ]
  },
  {
   "cell_type": "raw",
   "metadata": {},
   "source": [
    "pd.Series(data.cdf_s_20.apply(lambda x: len(str(x)))).value_counts()"
   ]
  },
  {
   "cell_type": "raw",
   "metadata": {},
   "source": [
    "data.cdf_s_20.value_counts(dropna=False)"
   ]
  },
  {
   "cell_type": "code",
   "execution_count": null,
   "metadata": {
    "collapsed": true
   },
   "outputs": [],
   "source": []
  },
  {
   "cell_type": "code",
   "execution_count": null,
   "metadata": {
    "collapsed": true
   },
   "outputs": [],
   "source": [
    "#ADD NEW FEATURES\n",
    "feat_matrix['krp_pow2'] = (feat_matrix['know_recip_power']) ** 2\n",
    "feat_matrix['log_amount'] = np.log(feat_matrix['amount'] + 1)\n",
    "\n",
    "feat_matrix['client_region_len'] = data.cdf_s_20.apply(lambda x: len(str(x)))\n",
    "feat_matrix['client_region'] = np.array([x if x.isdigit() else 999999 for x in data.cdf_s_20], dtype=float)\n",
    "# там какая-то фигня была, переписал по смыслу\n",
    "# 'cdf_s_136','cdf_s_137','cdf_s_140'- кумулятивные суммы операций за сутки в web, МП, web + МП \n",
    "feat_matrix['amnt2chnls'] = (data[\"amount_original\"].fillna(0) / \\\n",
    "    (data[\"cdf_s_136\"].fillna(0) + \\\n",
    "     data[\"cdf_s_136\"].fillna(0) + \\\n",
    "     data[\"cdf_s_140\"].fillna(0) + 1))\n",
    "tt.toc('Fourth')"
   ]
  },
  {
   "cell_type": "code",
   "execution_count": 40,
   "metadata": {},
   "outputs": [
    {
     "name": "stdout",
     "output_type": "stream",
     "text": [
      "First 0.839069 seconds.\n",
      "Second 13.242162 seconds.\n"
     ]
    },
    {
     "name": "stderr",
     "output_type": "stream",
     "text": [
      "/home/alex/anaconda3/lib/python3.6/site-packages/ipykernel_launcher.py:58: FutureWarning: pandas.tslib is deprecated and will be removed in a future version.\n",
      "You can access NaTType as type(pandas.NaT)\n"
     ]
    },
    {
     "name": "stdout",
     "output_type": "stream",
     "text": [
      "Third 27.763675 seconds.\n",
      "Fourth 28.399431 seconds.\n"
     ]
    },
    {
     "ename": "NameError",
     "evalue": "name 'feat_mat' is not defined",
     "output_type": "error",
     "traceback": [
      "\u001b[0;31m---------------------------------------------------------------------------\u001b[0m",
      "\u001b[0;31mNameError\u001b[0m                                 Traceback (most recent call last)",
      "\u001b[0;32m<ipython-input-40-0eba551b540f>\u001b[0m in \u001b[0;36m<module>\u001b[0;34m()\u001b[0m\n\u001b[1;32m     77\u001b[0m               \u001b[0;34m'know_recip_card_age'\u001b[0m\u001b[0;34m,\u001b[0m \u001b[0;34m'recip_card_age'\u001b[0m\u001b[0;34m,\u001b[0m \u001b[0;34m'one_region'\u001b[0m\u001b[0;34m,\u001b[0m \u001b[0;34m'krp_pow2'\u001b[0m\u001b[0;34m,\u001b[0m\u001b[0;34m\u001b[0m\u001b[0m\n\u001b[1;32m     78\u001b[0m               'log_amount', 'ip_isp', 'amnt2chnls']\n\u001b[0;32m---> 79\u001b[0;31m \u001b[0mfeat_mat\u001b[0m \u001b[0;34m=\u001b[0m \u001b[0mfeat_mat\u001b[0m\u001b[0;34m[\u001b[0m\u001b[0morder_cols\u001b[0m\u001b[0;34m]\u001b[0m\u001b[0;34m.\u001b[0m\u001b[0mcopy\u001b[0m\u001b[0;34m(\u001b[0m\u001b[0;34m)\u001b[0m\u001b[0;34m\u001b[0m\u001b[0m\n\u001b[0m",
      "\u001b[0;31mNameError\u001b[0m: name 'feat_mat' is not defined"
     ]
    }
   ],
   "source": [
    "# поставил order_cols временно, чтобы сохранить такой же порядок как в оригинальном\n",
    "order_cols = ['event_id', 'user_id', 'custom_mark', 'event_time', 'amount',\n",
    "              'client_age', 'cat_new_ip', 'cat_new_prov', 'channel_op', 'op_type',\n",
    "              'recip_age', 'age_diff', 'cumulative_sum_total', 'data_i_120',\n",
    "              'relative', 'know_recip_power', 'cdf_s_127', 'cdf_s_135', 'cdf_s_130',\n",
    "              'cdf_s_129', 'cdf_s_134', 'data_i_154', 'cdf_s_133',\n",
    "              'know_recip_card_age', 'recip_card_age', 'one_region', 'krp_pow2',\n",
    "              'log_amount', 'ip_isp', 'amnt2chnls']\n",
    "feat_matrix = feat_matrix[order_cols].copy()"
   ]
  },
  {
   "cell_type": "markdown",
   "metadata": {},
   "source": [
    "---"
   ]
  },
  {
   "cell_type": "code",
   "execution_count": 14,
   "metadata": {},
   "outputs": [
    {
     "data": {
      "text/plain": [
       "str"
      ]
     },
     "execution_count": 14,
     "metadata": {},
     "output_type": "execute_result"
    }
   ],
   "source": [
    "type(data['ip_isp'][1])"
   ]
  },
  {
   "cell_type": "code",
   "execution_count": 10,
   "metadata": {},
   "outputs": [
    {
     "data": {
      "text/html": [
       "<div>\n",
       "<style>\n",
       "    .dataframe thead tr:only-child th {\n",
       "        text-align: right;\n",
       "    }\n",
       "\n",
       "    .dataframe thead th {\n",
       "        text-align: left;\n",
       "    }\n",
       "\n",
       "    .dataframe tbody tr th {\n",
       "        vertical-align: top;\n",
       "    }\n",
       "</style>\n",
       "<table border=\"1\" class=\"dataframe\">\n",
       "  <thead>\n",
       "    <tr style=\"text-align: right;\">\n",
       "      <th></th>\n",
       "      <th>cdf_s_123</th>\n",
       "      <th>cdf_s_124</th>\n",
       "      <th>cdf_s_127</th>\n",
       "      <th>cdf_s_135</th>\n",
       "      <th>cdf_s_130</th>\n",
       "      <th>cdf_s_129</th>\n",
       "      <th>cdf_s_134</th>\n",
       "      <th>cdf_s_128</th>\n",
       "      <th>cdf_s_138</th>\n",
       "      <th>cdf_s_126</th>\n",
       "      <th>...</th>\n",
       "      <th>user_acct_number_hashed</th>\n",
       "      <th>user_agent_string_hash</th>\n",
       "      <th>browser_plugins_hash</th>\n",
       "      <th>screen_hash</th>\n",
       "      <th>user_id</th>\n",
       "      <th>ip_address</th>\n",
       "      <th>ip_country</th>\n",
       "      <th>ip_region</th>\n",
       "      <th>ip_city</th>\n",
       "      <th>ip_isp</th>\n",
       "    </tr>\n",
       "  </thead>\n",
       "  <tbody>\n",
       "  </tbody>\n",
       "</table>\n",
       "<p>0 rows × 44 columns</p>\n",
       "</div>"
      ],
      "text/plain": [
       "Empty DataFrame\n",
       "Columns: [cdf_s_123, cdf_s_124, cdf_s_127, cdf_s_135, cdf_s_130, cdf_s_129, cdf_s_134, cdf_s_128, cdf_s_138, cdf_s_126, cdf_s_133, cdf_s_136, cdf_s_137, cdf_s_140, cdf_s_178_hashed, cdf_s_19, cdf_s_20, cdf_s_218, cdf_s_294, cdf_s_299, amount_original, channel_indicator_desc, custom_mark, data_i_118, data_i_119, data_i_120, data_i_154, data_s_65, event_description, event_id, event_time, ext_acct_number_hashed, hardwareid, short_date, user_acct_number_hashed, user_agent_string_hash, browser_plugins_hash, screen_hash, user_id, ip_address, ip_country, ip_region, ip_city, ip_isp]\n",
       "Index: []\n",
       "\n",
       "[0 rows x 44 columns]"
      ]
     },
     "execution_count": 10,
     "metadata": {},
     "output_type": "execute_result"
    }
   ],
   "source": [
    "data.loc[a] == 912321]"
   ]
  },
  {
   "cell_type": "code",
   "execution_count": 65,
   "metadata": {},
   "outputs": [
    {
     "data": {
      "text/plain": [
       "7255229    234220\n",
       "null       222162\n",
       "4834278    170531\n",
       "7255560    169346\n",
       "7042071    137015\n",
       "7320382     58893\n",
       "7318189     36420\n",
       "7255662     23472\n",
       "132348      12599\n",
       "7335751     12328\n",
       "2523190     12322\n",
       "6095671     11681\n",
       "4986478      8846\n",
       "1885336      7378\n",
       "5140495      7310\n",
       "7561994      6634\n",
       "6884157      6083\n",
       "4737439      4696\n",
       "200327       4308\n",
       "5720372      4105\n",
       "171794       3734\n",
       "3695467      3708\n",
       "2798008      3681\n",
       "2266255      3671\n",
       "178935       3650\n",
       "4776159      3633\n",
       "220572       3344\n",
       "4697132      3055\n",
       "2186252      2749\n",
       "5007587      2564\n",
       "            ...  \n",
       "7929783         1\n",
       "7687368         1\n",
       "4769282         1\n",
       "5320427         1\n",
       "5471182         1\n",
       "4372884         1\n",
       "7433021         1\n",
       "5457963         1\n",
       "7788886         1\n",
       "5375360         1\n",
       "2267955         1\n",
       "2357392         1\n",
       "2072980         1\n",
       "218346          1\n",
       "2359892         1\n",
       "8360917         1\n",
       "6516459         1\n",
       "7154844         1\n",
       "2383798         1\n",
       "5129198         1\n",
       "5178692         1\n",
       "5332676         1\n",
       "5714583         1\n",
       "225356          1\n",
       "2105276         1\n",
       "8560897         1\n",
       "260631          1\n",
       "2527299         1\n",
       "8052291         1\n",
       "4777764         1\n",
       "Name: ip_isp, Length: 1638, dtype: int64"
      ]
     },
     "execution_count": 65,
     "metadata": {},
     "output_type": "execute_result"
    }
   ],
   "source": [
    "data['ip_isp'].value_counts()"
   ]
  },
  {
   "cell_type": "raw",
   "metadata": {
    "collapsed": true
   },
   "source": [
    "# data.columns"
   ]
  },
  {
   "cell_type": "code",
   "execution_count": 52,
   "metadata": {
    "collapsed": true
   },
   "outputs": [],
   "source": [
    "include_channels = ['Перевод частному лицу', 'Оплата услуг', 'Перевод между своими счетами и картами']"
   ]
  },
  {
   "cell_type": "code",
   "execution_count": 53,
   "metadata": {},
   "outputs": [
    {
     "data": {
      "text/plain": [
       "['Перевод частному лицу',\n",
       " 'Оплата услуг',\n",
       " 'Перевод между своими счетами и картами']"
      ]
     },
     "execution_count": 53,
     "metadata": {},
     "output_type": "execute_result"
    }
   ],
   "source": [
    "include_channels"
   ]
  },
  {
   "cell_type": "code",
   "execution_count": 54,
   "metadata": {
    "collapsed": true
   },
   "outputs": [],
   "source": [
    "start_date = 20171029\n",
    "end_date = 20171128"
   ]
  },
  {
   "cell_type": "code",
   "execution_count": 55,
   "metadata": {
    "scrolled": false
   },
   "outputs": [
    {
     "name": "stdout",
     "output_type": "stream",
     "text": [
      "chunk_name is ../../data/raw_splits/train/chunk_9.fth\n",
      "chunk_fnames is ../../data/raw_splits/train/chunk_9.fth\n",
      "chunk_fnames type is <class 'str'>\n",
      "chunk_fnames is ['../../data/raw_splits/train/chunk_9.fth']\n",
      "../../data/raw_splits/train/chunk_9.fth\n"
     ]
    },
    {
     "name": "stderr",
     "output_type": "stream",
     "text": [
      "/home/alex/anaconda3/lib/python3.6/site-packages/ipykernel_launcher.py:96: FutureWarning: pandas.tslib is deprecated and will be removed in a future version.\n",
      "You can access NaTType as type(pandas.NaT)\n"
     ]
    }
   ],
   "source": [
    "feat_test = features_handler(\n",
    "    chunk_names=[train_files[9]],\n",
    "    calc_feat = calc_base_features,\n",
    "    query=(\"event_description in {incl}  and short_date > {start} and short_date < {end}\"\n",
    "           .format(incl=include_channels, start=start_date, end=end_date)))"
   ]
  },
  {
   "cell_type": "code",
   "execution_count": 59,
   "metadata": {},
   "outputs": [
    {
     "data": {
      "text/plain": [
       "(71785, 30)"
      ]
     },
     "execution_count": 59,
     "metadata": {},
     "output_type": "execute_result"
    }
   ],
   "source": [
    "feat_test.shape"
   ]
  },
  {
   "cell_type": "code",
   "execution_count": 60,
   "metadata": {},
   "outputs": [
    {
     "data": {
      "text/plain": [
       "Index(['event_id', 'user_id', 'custom_mark', 'event_time', 'amount',\n",
       "       'client_age', 'cat_new_ip', 'cat_new_prov', 'channel_op', 'op_type',\n",
       "       'recip_age', 'age_diff', 'cumulative_sum_total', 'data_i_120',\n",
       "       'relative', 'know_recip_power', 'cdf_s_127', 'cdf_s_135', 'cdf_s_130',\n",
       "       'cdf_s_129', 'cdf_s_134', 'data_i_154', 'cdf_s_133',\n",
       "       'know_recip_card_age', 'recip_card_age', 'one_region', 'krp_pow2',\n",
       "       'log_amount', 'ip_isp', 'amnt2chnls'],\n",
       "      dtype='object')"
      ]
     },
     "execution_count": 60,
     "metadata": {},
     "output_type": "execute_result"
    }
   ],
   "source": [
    "feat_test.columns"
   ]
  },
  {
   "cell_type": "code",
   "execution_count": null,
   "metadata": {
    "collapsed": true
   },
   "outputs": [],
   "source": [
    "def get_data(chunk_name):\n",
    "    #del feat_test\n",
    "    feat_test = features_handler(\n",
    "        chunk_names=[chunk_name],\n",
    "        calc_feat = calc_base_features,\n",
    "        # заменил > на >=\n",
    "        query=(\"event_description in {incl}  and short_date >= {start} and short_date =< {end}\"\n",
    "               .format(incl=include_channels, start=start_date, end=end_date)))\n",
    "    return feat_test"
   ]
  },
  {
   "cell_type": "code",
   "execution_count": null,
   "metadata": {
    "collapsed": true
   },
   "outputs": [],
   "source": []
  },
  {
   "cell_type": "code",
   "execution_count": null,
   "metadata": {
    "collapsed": true
   },
   "outputs": [],
   "source": [
    "%%time\n",
    "# жрет вплоть более 70 гигов оперативки, осторожнее\n",
    "with multiprocessing.Pool(processes=min(N_THREADS, FIRST_N)) as pool:\n",
    "    results = pool.map(get_data, train_files)"
   ]
  },
  {
   "cell_type": "code",
   "execution_count": null,
   "metadata": {
    "collapsed": true
   },
   "outputs": [],
   "source": [
    "total_df = pd.DataFrame()\n",
    "for i, df in enumerate(results):\n",
    "    total_df = pd.concat([total_df, df])\n",
    "    results[i] = 'bye'"
   ]
  },
  {
   "cell_type": "code",
   "execution_count": null,
   "metadata": {
    "collapsed": true
   },
   "outputs": [],
   "source": [
    "total_df['short_date'] = total_df.event_time.apply(lambda x: x.date())\n",
    "total_df.rename(columns={\"custom_mark\": \"label\"}, inplace=True)\n",
    "total_df['label'] = total_df.label.apply(lambda x: scr.cust_mark_to_class(x))"
   ]
  },
  {
   "cell_type": "code",
   "execution_count": null,
   "metadata": {
    "collapsed": true
   },
   "outputs": [],
   "source": [
    "total_df = total_df.query(\"label != -1\")"
   ]
  },
  {
   "cell_type": "code",
   "execution_count": null,
   "metadata": {
    "collapsed": true
   },
   "outputs": [],
   "source": [
    "global_mean = np.mean(total_df['label'])"
   ]
  },
  {
   "cell_type": "code",
   "execution_count": null,
   "metadata": {
    "collapsed": true
   },
   "outputs": [],
   "source": [
    "n_uniques = np.apply_along_axis(lambda x: len(np.unique(x)), axis=0, arr=total_df)"
   ]
  },
  {
   "cell_type": "code",
   "execution_count": null,
   "metadata": {
    "collapsed": true
   },
   "outputs": [],
   "source": [
    "# total_df.to_csv(\"../data/coms_sep/train.csv\")\n",
    "total_df = pd.read_csv(\"../data/coms_sep/train.csv\", index_col=0)"
   ]
  },
  {
   "cell_type": "code",
   "execution_count": null,
   "metadata": {
    "collapsed": true
   },
   "outputs": [],
   "source": [
    "def map_counter(data, field_name, target_name, alpha, global_mean=None):\n",
    "    if global_mean is None:\n",
    "        global_mean = data[target_name].mean()\n",
    "    counters = data.groupby(field_name)[target_name].mean()\n",
    "    n_counters = data.groupby(field_name)[target_name].count()\n",
    "    out = ((data[field_name].map(counters) + global_mean * alpha)/ \\\n",
    "           (data[field_name].map(n_counters) + alpha))\n",
    "    return out"
   ]
  },
  {
   "cell_type": "code",
   "execution_count": null,
   "metadata": {
    "collapsed": true
   },
   "outputs": [],
   "source": [
    "n_uniques"
   ]
  },
  {
   "cell_type": "code",
   "execution_count": null,
   "metadata": {
    "collapsed": true
   },
   "outputs": [],
   "source": [
    "total_df.columns"
   ]
  },
  {
   "cell_type": "code",
   "execution_count": null,
   "metadata": {
    "collapsed": true
   },
   "outputs": [],
   "source": [
    "for col in total_df.columns:\n",
    "    col_name = total_df.columns[i]\n",
    "    if col_name not in ['event_id', \"user_id\", \"event_time\", \"label\", \"short_date\"]:\n",
    "        total_df[col] = map_counter(total_df, col, 'label',\n",
    "                                    alpha=1000,\n",
    "                                    global_mean=global_mean)"
   ]
  },
  {
   "cell_type": "code",
   "execution_count": null,
   "metadata": {
    "collapsed": true
   },
   "outputs": [],
   "source": [
    "#total_df.to_csv(\"../data/coms_sep/train_cntrs.csv\")\n",
    "#total_df = pd.read_csv(\"../data/coms_sep/train_cntrs.csv\", index_col=0)"
   ]
  },
  {
   "cell_type": "code",
   "execution_count": null,
   "metadata": {
    "collapsed": true
   },
   "outputs": [],
   "source": [
    "total_df.label.value_counts()"
   ]
  },
  {
   "cell_type": "code",
   "execution_count": null,
   "metadata": {
    "collapsed": true
   },
   "outputs": [],
   "source": []
  }
 ],
 "metadata": {
  "kernelspec": {
   "display_name": "Python 3",
   "language": "python",
   "name": "python3"
  },
  "language_info": {
   "codemirror_mode": {
    "name": "ipython",
    "version": 3
   },
   "file_extension": ".py",
   "mimetype": "text/x-python",
   "name": "python",
   "nbconvert_exporter": "python",
   "pygments_lexer": "ipython3",
   "version": "3.6.4"
  }
 },
 "nbformat": 4,
 "nbformat_minor": 2
}
