{
 "cells": [
  {
   "cell_type": "code",
   "execution_count": 35,
   "metadata": {},
   "outputs": [],
   "source": [
    "import pandas as pd\n",
    "import os"
   ]
  },
  {
   "cell_type": "code",
   "execution_count": 3,
   "metadata": {},
   "outputs": [],
   "source": [
    "folder = '../../data/combined_dataset'\n",
    "!mkdir -p $folder"
   ]
  },
  {
   "cell_type": "code",
   "execution_count": 4,
   "metadata": {},
   "outputs": [
    {
     "name": "stdout",
     "output_type": "stream",
     "text": [
      "test_v2.fth  test_v3.fth  train_v2.fth\ttrain_v3.fth\r\n"
     ]
    }
   ],
   "source": [
    "!ls '../../data/prepaired_dataset'"
   ]
  },
  {
   "cell_type": "code",
   "execution_count": 30,
   "metadata": {},
   "outputs": [],
   "source": [
    "train_normal_filename = '../../data/prepaired_dataset/train_v3.fth'\n",
    "test_normal_filename = '../../data/prepaired_dataset/test_v3.fth'"
   ]
  },
  {
   "cell_type": "code",
   "execution_count": 31,
   "metadata": {},
   "outputs": [],
   "source": [
    "train_normal = pd.read_feather(train_normal_filename)"
   ]
  },
  {
   "cell_type": "code",
   "execution_count": 33,
   "metadata": {},
   "outputs": [
    {
     "data": {
      "text/plain": [
       "3820319"
      ]
     },
     "execution_count": 33,
     "metadata": {},
     "output_type": "execute_result"
    }
   ],
   "source": [
    "train_normal['event_id'].nunique()"
   ]
  },
  {
   "cell_type": "code",
   "execution_count": 34,
   "metadata": {},
   "outputs": [
    {
     "data": {
      "text/plain": [
       "(3820319, 68)"
      ]
     },
     "execution_count": 34,
     "metadata": {},
     "output_type": "execute_result"
    }
   ],
   "source": [
    "train_normal.shape"
   ]
  },
  {
   "cell_type": "code",
   "execution_count": 7,
   "metadata": {},
   "outputs": [
    {
     "name": "stdout",
     "output_type": "stream",
     "text": [
      "for_quantiles.csv\t\t  qnts_test_30_WEBAPI.csv\r\n",
      "for_quantiles_test.csv\t\t  qnts_train_30_amount.csv\r\n",
      "qnts_test_30_amount.csv\t\t  qnts_train_30_amount_original.csv\r\n",
      "qnts_test_30_amount_original.csv  qnts_train_30_ATMAPI.csv\r\n",
      "qnts_test_30_ATMAPI.csv\t\t  qnts_train_30_MBK.csv\r\n",
      "qnts_test_30_MBK.csv\t\t  qnts_train_30_MOBILEAPI.csv\r\n",
      "qnts_test_30_MOBILEAPI.csv\t  qnts_train_30_UFS.csv\r\n",
      "qnts_test_30_UFS.csv\t\t  qnts_train_30_WEBAPI.csv\r\n"
     ]
    }
   ],
   "source": [
    "!ls '../../data/coms_sep/quantiles_data'"
   ]
  },
  {
   "cell_type": "code",
   "execution_count": 53,
   "metadata": {},
   "outputs": [],
   "source": [
    "quantiles_folder = '../../data/coms_sep/quantiles_data'\n",
    "quantiles_train_files = [os.path.join(quantiles_folder, x) for x in os.listdir(quantiles_folder) \n",
    "                         if (x.count('qnts_train')) and (not x.count('amount.csv'))]\n",
    "quantiles_test_files = [os.path.join(quantiles_folder, x) for x in os.listdir(quantiles_folder)\n",
    "                        if (x.count('qnts_test')) and (not x.count('amount.csv'))]"
   ]
  },
  {
   "cell_type": "code",
   "execution_count": 54,
   "metadata": {},
   "outputs": [
    {
     "name": "stderr",
     "output_type": "stream",
     "text": [
      "/anaconda3/lib/python3.6/site-packages/numpy/lib/arraysetops.py:472: FutureWarning: elementwise comparison failed; returning scalar instead, but in the future will perform elementwise comparison\n",
      "  mask |= (ar1 == a)\n"
     ]
    }
   ],
   "source": [
    "quantiles_train_list = [pd.read_csv(x, low_memory = False, index_col = 0) for x in quantiles_train_files]"
   ]
  },
  {
   "cell_type": "code",
   "execution_count": 55,
   "metadata": {},
   "outputs": [],
   "source": [
    "quantiles_test_list = [pd.read_csv(x, low_memory = False, index_col = 0) for x in quantiles_test_files]"
   ]
  },
  {
   "cell_type": "code",
   "execution_count": 51,
   "metadata": {},
   "outputs": [
    {
     "data": {
      "text/plain": [
       "['../../data/coms_sep/quantiles_data/qnts_test_30_amount_original.csv',\n",
       " '../../data/coms_sep/quantiles_data/qnts_test_30_ATMAPI.csv',\n",
       " '../../data/coms_sep/quantiles_data/qnts_test_30_WEBAPI.csv',\n",
       " '../../data/coms_sep/quantiles_data/qnts_test_30_amount.csv',\n",
       " '../../data/coms_sep/quantiles_data/qnts_test_30_MBK.csv',\n",
       " '../../data/coms_sep/quantiles_data/qnts_test_30_UFS.csv',\n",
       " '../../data/coms_sep/quantiles_data/qnts_test_30_MOBILEAPI.csv']"
      ]
     },
     "execution_count": 51,
     "metadata": {},
     "output_type": "execute_result"
    }
   ],
   "source": [
    "quantiles_test_files"
   ]
  },
  {
   "cell_type": "code",
   "execution_count": 57,
   "metadata": {},
   "outputs": [
    {
     "data": {
      "text/plain": [
       "[(600334, 12),\n",
       " (172179, 12),\n",
       " (242473, 12),\n",
       " (203756, 12),\n",
       " (5117, 12),\n",
       " (494970, 12)]"
      ]
     },
     "execution_count": 57,
     "metadata": {},
     "output_type": "execute_result"
    }
   ],
   "source": [
    "[x.shape for x in quantiles_test_list]"
   ]
  },
  {
   "cell_type": "code",
   "execution_count": 44,
   "metadata": {},
   "outputs": [
    {
     "data": {
      "text/plain": [
       "['../../data/coms_sep/quantiles_data/qnts_train_30_ATMAPI.csv',\n",
       " '../../data/coms_sep/quantiles_data/qnts_train_30_amount_original.csv',\n",
       " '../../data/coms_sep/quantiles_data/qnts_train_30_MBK.csv',\n",
       " '../../data/coms_sep/quantiles_data/qnts_train_30_MOBILEAPI.csv',\n",
       " '../../data/coms_sep/quantiles_data/qnts_train_30_amount.csv',\n",
       " '../../data/coms_sep/quantiles_data/qnts_train_30_UFS.csv',\n",
       " '../../data/coms_sep/quantiles_data/qnts_train_30_WEBAPI.csv']"
      ]
     },
     "execution_count": 44,
     "metadata": {},
     "output_type": "execute_result"
    }
   ],
   "source": [
    "quantiles_train_files"
   ]
  },
  {
   "cell_type": "code",
   "execution_count": 49,
   "metadata": {},
   "outputs": [],
   "source": [
    "uniq_ids_dates = lambda q_list: pd.concat([x[['user_id', 'short_date']] for x in q_list]).drop_duplicates().sort_values(['user_id', 'short_date'])"
   ]
  },
  {
   "cell_type": "code",
   "execution_count": 50,
   "metadata": {},
   "outputs": [],
   "source": [
    "train_ids_dates = uniq_ids_dates(quantiles_train_list)\n",
    "test_ids_dates = uniq_ids_dates(quantiles_test_list)"
   ]
  },
  {
   "cell_type": "code",
   "execution_count": 43,
   "metadata": {},
   "outputs": [
    {
     "data": {
      "text/plain": [
       "[(4513977, 12),\n",
       " (7550673, 12),\n",
       " (3774888, 12),\n",
       " (5533125, 12),\n",
       " (1742598, 12),\n",
       " (56199, 12),\n",
       " (3877029, 12)]"
      ]
     },
     "execution_count": 43,
     "metadata": {},
     "output_type": "execute_result"
    }
   ],
   "source": [
    "[x.shape for x in quantiles_train_list]"
   ]
  },
  {
   "cell_type": "code",
   "execution_count": null,
   "metadata": {},
   "outputs": [],
   "source": []
  },
  {
   "cell_type": "code",
   "execution_count": 14,
   "metadata": {
    "scrolled": false
   },
   "outputs": [
    {
     "name": "stderr",
     "output_type": "stream",
     "text": [
      "/anaconda3/lib/python3.6/site-packages/numpy/lib/arraysetops.py:472: FutureWarning: elementwise comparison failed; returning scalar instead, but in the future will perform elementwise comparison\n",
      "  mask |= (ar1 == a)\n"
     ]
    }
   ],
   "source": [
    "d1 = pd.read_csv('../../data/coms_sep/quantiles_data/qnts_train_30_amount_original.csv', low_memory = False, index_col = 0)"
   ]
  },
  {
   "cell_type": "code",
   "execution_count": 15,
   "metadata": {},
   "outputs": [
    {
     "name": "stderr",
     "output_type": "stream",
     "text": [
      "/anaconda3/lib/python3.6/site-packages/numpy/lib/arraysetops.py:472: FutureWarning: elementwise comparison failed; returning scalar instead, but in the future will perform elementwise comparison\n",
      "  mask |= (ar1 == a)\n"
     ]
    }
   ],
   "source": [
    "d2 = pd.read_csv('../../data/coms_sep/quantiles_data/qnts_train_30_amount.csv', low_memory = False, index_col = 0)"
   ]
  },
  {
   "cell_type": "code",
   "execution_count": 17,
   "metadata": {},
   "outputs": [
    {
     "data": {
      "text/html": [
       "<div>\n",
       "<style scoped>\n",
       "    .dataframe tbody tr th:only-of-type {\n",
       "        vertical-align: middle;\n",
       "    }\n",
       "\n",
       "    .dataframe tbody tr th {\n",
       "        vertical-align: top;\n",
       "    }\n",
       "\n",
       "    .dataframe thead th {\n",
       "        text-align: right;\n",
       "    }\n",
       "</style>\n",
       "<table border=\"1\" class=\"dataframe\">\n",
       "  <thead>\n",
       "    <tr style=\"text-align: right;\">\n",
       "      <th></th>\n",
       "      <th>user_id</th>\n",
       "      <th>short_date</th>\n",
       "      <th>amount_original_30_days_quantile_0.1</th>\n",
       "      <th>amount_original_30_days_quantile_0.2</th>\n",
       "      <th>amount_original_30_days_quantile_0.3</th>\n",
       "      <th>amount_original_30_days_quantile_0.4</th>\n",
       "      <th>amount_original_30_days_quantile_0.5</th>\n",
       "      <th>amount_original_30_days_quantile_0.6</th>\n",
       "      <th>amount_original_30_days_quantile_0.7</th>\n",
       "      <th>amount_original_30_days_quantile_0.8</th>\n",
       "      <th>amount_original_30_days_quantile_0.9</th>\n",
       "      <th>amount_original_30_days_quantile_1.0</th>\n",
       "    </tr>\n",
       "  </thead>\n",
       "  <tbody>\n",
       "    <tr>\n",
       "      <th>0</th>\n",
       "      <td>100197</td>\n",
       "      <td>20171028</td>\n",
       "      <td>0.0</td>\n",
       "      <td>0.0</td>\n",
       "      <td>0.0</td>\n",
       "      <td>0.0</td>\n",
       "      <td>0.0</td>\n",
       "      <td>0.0</td>\n",
       "      <td>0.0</td>\n",
       "      <td>0.0</td>\n",
       "      <td>0.0</td>\n",
       "      <td>0.0</td>\n",
       "    </tr>\n",
       "    <tr>\n",
       "      <th>1</th>\n",
       "      <td>100197</td>\n",
       "      <td>20171029</td>\n",
       "      <td>0.0</td>\n",
       "      <td>0.0</td>\n",
       "      <td>0.0</td>\n",
       "      <td>0.0</td>\n",
       "      <td>0.0</td>\n",
       "      <td>0.0</td>\n",
       "      <td>0.0</td>\n",
       "      <td>0.0</td>\n",
       "      <td>0.0</td>\n",
       "      <td>0.0</td>\n",
       "    </tr>\n",
       "    <tr>\n",
       "      <th>2</th>\n",
       "      <td>100197</td>\n",
       "      <td>20171030</td>\n",
       "      <td>0.0</td>\n",
       "      <td>0.0</td>\n",
       "      <td>0.0</td>\n",
       "      <td>0.0</td>\n",
       "      <td>0.0</td>\n",
       "      <td>0.0</td>\n",
       "      <td>0.0</td>\n",
       "      <td>0.0</td>\n",
       "      <td>0.0</td>\n",
       "      <td>0.0</td>\n",
       "    </tr>\n",
       "    <tr>\n",
       "      <th>3</th>\n",
       "      <td>100197</td>\n",
       "      <td>20171031</td>\n",
       "      <td>0.0</td>\n",
       "      <td>0.0</td>\n",
       "      <td>0.0</td>\n",
       "      <td>0.0</td>\n",
       "      <td>0.0</td>\n",
       "      <td>0.0</td>\n",
       "      <td>0.0</td>\n",
       "      <td>0.0</td>\n",
       "      <td>0.0</td>\n",
       "      <td>0.0</td>\n",
       "    </tr>\n",
       "    <tr>\n",
       "      <th>4</th>\n",
       "      <td>100197</td>\n",
       "      <td>20171101</td>\n",
       "      <td>0.0</td>\n",
       "      <td>0.0</td>\n",
       "      <td>0.0</td>\n",
       "      <td>0.0</td>\n",
       "      <td>0.0</td>\n",
       "      <td>0.0</td>\n",
       "      <td>0.0</td>\n",
       "      <td>0.0</td>\n",
       "      <td>0.0</td>\n",
       "      <td>0.0</td>\n",
       "    </tr>\n",
       "  </tbody>\n",
       "</table>\n",
       "</div>"
      ],
      "text/plain": [
       "  user_id  short_date  amount_original_30_days_quantile_0.1  \\\n",
       "0  100197    20171028                                   0.0   \n",
       "1  100197    20171029                                   0.0   \n",
       "2  100197    20171030                                   0.0   \n",
       "3  100197    20171031                                   0.0   \n",
       "4  100197    20171101                                   0.0   \n",
       "\n",
       "   amount_original_30_days_quantile_0.2  amount_original_30_days_quantile_0.3  \\\n",
       "0                                   0.0                                   0.0   \n",
       "1                                   0.0                                   0.0   \n",
       "2                                   0.0                                   0.0   \n",
       "3                                   0.0                                   0.0   \n",
       "4                                   0.0                                   0.0   \n",
       "\n",
       "   amount_original_30_days_quantile_0.4  amount_original_30_days_quantile_0.5  \\\n",
       "0                                   0.0                                   0.0   \n",
       "1                                   0.0                                   0.0   \n",
       "2                                   0.0                                   0.0   \n",
       "3                                   0.0                                   0.0   \n",
       "4                                   0.0                                   0.0   \n",
       "\n",
       "   amount_original_30_days_quantile_0.6  amount_original_30_days_quantile_0.7  \\\n",
       "0                                   0.0                                   0.0   \n",
       "1                                   0.0                                   0.0   \n",
       "2                                   0.0                                   0.0   \n",
       "3                                   0.0                                   0.0   \n",
       "4                                   0.0                                   0.0   \n",
       "\n",
       "   amount_original_30_days_quantile_0.8  amount_original_30_days_quantile_0.9  \\\n",
       "0                                   0.0                                   0.0   \n",
       "1                                   0.0                                   0.0   \n",
       "2                                   0.0                                   0.0   \n",
       "3                                   0.0                                   0.0   \n",
       "4                                   0.0                                   0.0   \n",
       "\n",
       "   amount_original_30_days_quantile_1.0  \n",
       "0                                   0.0  \n",
       "1                                   0.0  \n",
       "2                                   0.0  \n",
       "3                                   0.0  \n",
       "4                                   0.0  "
      ]
     },
     "execution_count": 17,
     "metadata": {},
     "output_type": "execute_result"
    }
   ],
   "source": [
    "d1.head(5)"
   ]
  },
  {
   "cell_type": "code",
   "execution_count": 18,
   "metadata": {},
   "outputs": [
    {
     "data": {
      "text/html": [
       "<div>\n",
       "<style scoped>\n",
       "    .dataframe tbody tr th:only-of-type {\n",
       "        vertical-align: middle;\n",
       "    }\n",
       "\n",
       "    .dataframe tbody tr th {\n",
       "        vertical-align: top;\n",
       "    }\n",
       "\n",
       "    .dataframe thead th {\n",
       "        text-align: right;\n",
       "    }\n",
       "</style>\n",
       "<table border=\"1\" class=\"dataframe\">\n",
       "  <thead>\n",
       "    <tr style=\"text-align: right;\">\n",
       "      <th></th>\n",
       "      <th>user_id</th>\n",
       "      <th>short_date</th>\n",
       "      <th>amount_30_days_quantile_0.1</th>\n",
       "      <th>amount_30_days_quantile_0.2</th>\n",
       "      <th>amount_30_days_quantile_0.3</th>\n",
       "      <th>amount_30_days_quantile_0.4</th>\n",
       "      <th>amount_30_days_quantile_0.5</th>\n",
       "      <th>amount_30_days_quantile_0.6</th>\n",
       "      <th>amount_30_days_quantile_0.7</th>\n",
       "      <th>amount_30_days_quantile_0.8</th>\n",
       "      <th>amount_30_days_quantile_0.9</th>\n",
       "      <th>amount_30_days_quantile_1.0</th>\n",
       "    </tr>\n",
       "  </thead>\n",
       "  <tbody>\n",
       "    <tr>\n",
       "      <th>0</th>\n",
       "      <td>66</td>\n",
       "      <td>20171127</td>\n",
       "      <td>319.3</td>\n",
       "      <td>632.2</td>\n",
       "      <td>1000.0</td>\n",
       "      <td>1208.6</td>\n",
       "      <td>1643.0</td>\n",
       "      <td>2345.4</td>\n",
       "      <td>4739.6</td>\n",
       "      <td>5000.0</td>\n",
       "      <td>10000.0</td>\n",
       "      <td>200000.0</td>\n",
       "    </tr>\n",
       "    <tr>\n",
       "      <th>1</th>\n",
       "      <td>66</td>\n",
       "      <td>20171128</td>\n",
       "      <td>328.6</td>\n",
       "      <td>693.4</td>\n",
       "      <td>1000.0</td>\n",
       "      <td>1254.2</td>\n",
       "      <td>1780.0</td>\n",
       "      <td>2656.8</td>\n",
       "      <td>5000.0</td>\n",
       "      <td>7592.6</td>\n",
       "      <td>26480.0</td>\n",
       "      <td>200000.0</td>\n",
       "    </tr>\n",
       "    <tr>\n",
       "      <th>2</th>\n",
       "      <td>66</td>\n",
       "      <td>20171129</td>\n",
       "      <td>375.1</td>\n",
       "      <td>926.2</td>\n",
       "      <td>1000.0</td>\n",
       "      <td>1254.2</td>\n",
       "      <td>1860.5</td>\n",
       "      <td>2656.8</td>\n",
       "      <td>5000.0</td>\n",
       "      <td>6000.0</td>\n",
       "      <td>22430.0</td>\n",
       "      <td>200000.0</td>\n",
       "    </tr>\n",
       "    <tr>\n",
       "      <th>3</th>\n",
       "      <td>66</td>\n",
       "      <td>20171130</td>\n",
       "      <td>310.0</td>\n",
       "      <td>877.0</td>\n",
       "      <td>1000.0</td>\n",
       "      <td>1000.0</td>\n",
       "      <td>1506.0</td>\n",
       "      <td>2007.0</td>\n",
       "      <td>4132.0</td>\n",
       "      <td>6000.0</td>\n",
       "      <td>20000.0</td>\n",
       "      <td>200000.0</td>\n",
       "    </tr>\n",
       "    <tr>\n",
       "      <th>4</th>\n",
       "      <td>66</td>\n",
       "      <td>20171201</td>\n",
       "      <td>319.3</td>\n",
       "      <td>632.2</td>\n",
       "      <td>1000.0</td>\n",
       "      <td>1000.0</td>\n",
       "      <td>1457.5</td>\n",
       "      <td>1981.8</td>\n",
       "      <td>4092.4</td>\n",
       "      <td>5000.0</td>\n",
       "      <td>18932.1</td>\n",
       "      <td>200000.0</td>\n",
       "    </tr>\n",
       "  </tbody>\n",
       "</table>\n",
       "</div>"
      ],
      "text/plain": [
       "  user_id  short_date  amount_30_days_quantile_0.1  \\\n",
       "0      66    20171127                        319.3   \n",
       "1      66    20171128                        328.6   \n",
       "2      66    20171129                        375.1   \n",
       "3      66    20171130                        310.0   \n",
       "4      66    20171201                        319.3   \n",
       "\n",
       "   amount_30_days_quantile_0.2  amount_30_days_quantile_0.3  \\\n",
       "0                        632.2                       1000.0   \n",
       "1                        693.4                       1000.0   \n",
       "2                        926.2                       1000.0   \n",
       "3                        877.0                       1000.0   \n",
       "4                        632.2                       1000.0   \n",
       "\n",
       "   amount_30_days_quantile_0.4  amount_30_days_quantile_0.5  \\\n",
       "0                       1208.6                       1643.0   \n",
       "1                       1254.2                       1780.0   \n",
       "2                       1254.2                       1860.5   \n",
       "3                       1000.0                       1506.0   \n",
       "4                       1000.0                       1457.5   \n",
       "\n",
       "   amount_30_days_quantile_0.6  amount_30_days_quantile_0.7  \\\n",
       "0                       2345.4                       4739.6   \n",
       "1                       2656.8                       5000.0   \n",
       "2                       2656.8                       5000.0   \n",
       "3                       2007.0                       4132.0   \n",
       "4                       1981.8                       4092.4   \n",
       "\n",
       "   amount_30_days_quantile_0.8  amount_30_days_quantile_0.9  \\\n",
       "0                       5000.0                      10000.0   \n",
       "1                       7592.6                      26480.0   \n",
       "2                       6000.0                      22430.0   \n",
       "3                       6000.0                      20000.0   \n",
       "4                       5000.0                      18932.1   \n",
       "\n",
       "   amount_30_days_quantile_1.0  \n",
       "0                     200000.0  \n",
       "1                     200000.0  \n",
       "2                     200000.0  \n",
       "3                     200000.0  \n",
       "4                     200000.0  "
      ]
     },
     "execution_count": 18,
     "metadata": {},
     "output_type": "execute_result"
    }
   ],
   "source": [
    "d2.head(5)"
   ]
  },
  {
   "cell_type": "code",
   "execution_count": 19,
   "metadata": {},
   "outputs": [
    {
     "name": "stdout",
     "output_type": "stream",
     "text": [
      "quantiles_data\ttest_no_cnts.csv  train.csv\t     train_woe.csv\r\n",
      "test.csv\ttest_woe.csv\t  train_no_cnts.csv\r\n"
     ]
    }
   ],
   "source": [
    "!ls '../../data/coms_sep/'"
   ]
  },
  {
   "cell_type": "code",
   "execution_count": 22,
   "metadata": {},
   "outputs": [
    {
     "name": "stderr",
     "output_type": "stream",
     "text": [
      "/anaconda3/lib/python3.6/site-packages/numpy/lib/arraysetops.py:472: FutureWarning: elementwise comparison failed; returning scalar instead, but in the future will perform elementwise comparison\n",
      "  mask |= (ar1 == a)\n"
     ]
    }
   ],
   "source": [
    "w = pd.read_csv('../../data/coms_sep/train_woe.csv', index_col = 0, low_memory = False)"
   ]
  },
  {
   "cell_type": "code",
   "execution_count": 24,
   "metadata": {},
   "outputs": [
    {
     "data": {
      "text/plain": [
       "Index(['event_description', 'user_id', 'label', 'event_time', 'data_i_154',\n",
       "       'ip_isp', 'amnt2chnls', 'short_date', 'cat_new_ip', 'cat_new_prov',\n",
       "       'op_type', 'relative', 'cdf_s_127', 'cdf_s_135', 'cdf_s_130',\n",
       "       'cdf_s_129', 'cdf_s_134', 'cdf_s_133', 'know_recip_card_age',\n",
       "       'one_region', 'amount', 'client_age', 'age_diff',\n",
       "       'cumulative_sum_total', 'cumulative_sum_total.1', 'data_i_120',\n",
       "       'know_recip_power', 'data_i_120.1', 'recip_card_age', 'krp_pow2',\n",
       "       'log_amount'],\n",
       "      dtype='object')"
      ]
     },
     "execution_count": 24,
     "metadata": {},
     "output_type": "execute_result"
    }
   ],
   "source": [
    "w.columns"
   ]
  },
  {
   "cell_type": "code",
   "execution_count": 29,
   "metadata": {},
   "outputs": [
    {
     "data": {
      "text/plain": [
       "(7546812, 2)"
      ]
     },
     "execution_count": 29,
     "metadata": {},
     "output_type": "execute_result"
    }
   ],
   "source": [
    "d1[['user_id', 'short_date']].drop_duplicates().shape"
   ]
  },
  {
   "cell_type": "code",
   "execution_count": 27,
   "metadata": {},
   "outputs": [
    {
     "data": {
      "text/plain": [
       "(7550673, 12)"
      ]
     },
     "execution_count": 27,
     "metadata": {},
     "output_type": "execute_result"
    }
   ],
   "source": [
    "d1.shape"
   ]
  },
  {
   "cell_type": "code",
   "execution_count": 26,
   "metadata": {},
   "outputs": [
    {
     "data": {
      "text/plain": [
       "(3816655, 31)"
      ]
     },
     "execution_count": 26,
     "metadata": {},
     "output_type": "execute_result"
    }
   ],
   "source": [
    "w.shape"
   ]
  },
  {
   "cell_type": "code",
   "execution_count": null,
   "metadata": {},
   "outputs": [],
   "source": [
    "w.drop(['event_description', 'label', ], axis = 1)"
   ]
  },
  {
   "cell_type": "code",
   "execution_count": 25,
   "metadata": {},
   "outputs": [
    {
     "data": {
      "text/html": [
       "<div>\n",
       "<style scoped>\n",
       "    .dataframe tbody tr th:only-of-type {\n",
       "        vertical-align: middle;\n",
       "    }\n",
       "\n",
       "    .dataframe tbody tr th {\n",
       "        vertical-align: top;\n",
       "    }\n",
       "\n",
       "    .dataframe thead th {\n",
       "        text-align: right;\n",
       "    }\n",
       "</style>\n",
       "<table border=\"1\" class=\"dataframe\">\n",
       "  <thead>\n",
       "    <tr style=\"text-align: right;\">\n",
       "      <th></th>\n",
       "      <th>event_description</th>\n",
       "      <th>user_id</th>\n",
       "      <th>label</th>\n",
       "      <th>event_time</th>\n",
       "      <th>data_i_154</th>\n",
       "      <th>ip_isp</th>\n",
       "      <th>amnt2chnls</th>\n",
       "      <th>short_date</th>\n",
       "      <th>cat_new_ip</th>\n",
       "      <th>cat_new_prov</th>\n",
       "      <th>...</th>\n",
       "      <th>client_age</th>\n",
       "      <th>age_diff</th>\n",
       "      <th>cumulative_sum_total</th>\n",
       "      <th>cumulative_sum_total.1</th>\n",
       "      <th>data_i_120</th>\n",
       "      <th>know_recip_power</th>\n",
       "      <th>data_i_120.1</th>\n",
       "      <th>recip_card_age</th>\n",
       "      <th>krp_pow2</th>\n",
       "      <th>log_amount</th>\n",
       "    </tr>\n",
       "  </thead>\n",
       "  <tbody>\n",
       "    <tr>\n",
       "      <th>0</th>\n",
       "      <td>Перевод между своими счетами и картами</td>\n",
       "      <td>100197</td>\n",
       "      <td>NaN</td>\n",
       "      <td>2017-11-10 15:22:46</td>\n",
       "      <td>196.0</td>\n",
       "      <td>7255229</td>\n",
       "      <td>3774.000000</td>\n",
       "      <td>2017-11-10</td>\n",
       "      <td>-5.334714</td>\n",
       "      <td>-6.439216</td>\n",
       "      <td>...</td>\n",
       "      <td>-5.947735</td>\n",
       "      <td>-5.727923</td>\n",
       "      <td>-6.633544</td>\n",
       "      <td>-6.633544</td>\n",
       "      <td>-6.273876</td>\n",
       "      <td>-7.565464</td>\n",
       "      <td>-6.273876</td>\n",
       "      <td>-5.587413</td>\n",
       "      <td>-7.565464</td>\n",
       "      <td>-5.161287</td>\n",
       "    </tr>\n",
       "    <tr>\n",
       "      <th>1</th>\n",
       "      <td>Перевод частному лицу</td>\n",
       "      <td>100197</td>\n",
       "      <td>NaN</td>\n",
       "      <td>2017-11-28 17:34:53</td>\n",
       "      <td>181.0</td>\n",
       "      <td>7255560</td>\n",
       "      <td>9.998000</td>\n",
       "      <td>2017-11-28</td>\n",
       "      <td>-5.334714</td>\n",
       "      <td>-6.439216</td>\n",
       "      <td>...</td>\n",
       "      <td>-5.947735</td>\n",
       "      <td>-6.480887</td>\n",
       "      <td>-5.103841</td>\n",
       "      <td>-5.103841</td>\n",
       "      <td>-6.273876</td>\n",
       "      <td>-8.008094</td>\n",
       "      <td>-6.273876</td>\n",
       "      <td>-6.189584</td>\n",
       "      <td>-8.008094</td>\n",
       "      <td>-5.054978</td>\n",
       "    </tr>\n",
       "    <tr>\n",
       "      <th>2</th>\n",
       "      <td>Оплата услуг</td>\n",
       "      <td>100197</td>\n",
       "      <td>NaN</td>\n",
       "      <td>2017-11-04 15:37:57</td>\n",
       "      <td>190.0</td>\n",
       "      <td>7255560</td>\n",
       "      <td>9.900990</td>\n",
       "      <td>2017-11-04</td>\n",
       "      <td>-5.334714</td>\n",
       "      <td>-6.439216</td>\n",
       "      <td>...</td>\n",
       "      <td>-5.947735</td>\n",
       "      <td>-5.727923</td>\n",
       "      <td>-5.527454</td>\n",
       "      <td>-5.527454</td>\n",
       "      <td>-6.273876</td>\n",
       "      <td>-7.565464</td>\n",
       "      <td>-6.273876</td>\n",
       "      <td>-5.587413</td>\n",
       "      <td>-7.565464</td>\n",
       "      <td>-5.772775</td>\n",
       "    </tr>\n",
       "    <tr>\n",
       "      <th>3</th>\n",
       "      <td>Перевод между своими счетами и картами</td>\n",
       "      <td>100197</td>\n",
       "      <td>NaN</td>\n",
       "      <td>2017-11-24 10:25:52</td>\n",
       "      <td>177.0</td>\n",
       "      <td>7255560</td>\n",
       "      <td>3000.000000</td>\n",
       "      <td>2017-11-24</td>\n",
       "      <td>-5.334714</td>\n",
       "      <td>-6.439216</td>\n",
       "      <td>...</td>\n",
       "      <td>-5.947735</td>\n",
       "      <td>-5.727923</td>\n",
       "      <td>-6.633544</td>\n",
       "      <td>-6.633544</td>\n",
       "      <td>-6.273876</td>\n",
       "      <td>-7.084345</td>\n",
       "      <td>-6.273876</td>\n",
       "      <td>-5.587413</td>\n",
       "      <td>-7.084345</td>\n",
       "      <td>-5.161287</td>\n",
       "    </tr>\n",
       "    <tr>\n",
       "      <th>4</th>\n",
       "      <td>Перевод частному лицу</td>\n",
       "      <td>100197</td>\n",
       "      <td>NaN</td>\n",
       "      <td>2017-11-21 21:54:00</td>\n",
       "      <td>174.0</td>\n",
       "      <td>6468578</td>\n",
       "      <td>9.983361</td>\n",
       "      <td>2017-11-21</td>\n",
       "      <td>-6.850543</td>\n",
       "      <td>-6.439216</td>\n",
       "      <td>...</td>\n",
       "      <td>-5.947735</td>\n",
       "      <td>-6.480887</td>\n",
       "      <td>-5.103841</td>\n",
       "      <td>-5.103841</td>\n",
       "      <td>-6.273876</td>\n",
       "      <td>-8.008094</td>\n",
       "      <td>-6.273876</td>\n",
       "      <td>-6.189584</td>\n",
       "      <td>-8.008094</td>\n",
       "      <td>-5.305270</td>\n",
       "    </tr>\n",
       "  </tbody>\n",
       "</table>\n",
       "<p>5 rows × 31 columns</p>\n",
       "</div>"
      ],
      "text/plain": [
       "                        event_description user_id  label           event_time  \\\n",
       "0  Перевод между своими счетами и картами  100197    NaN  2017-11-10 15:22:46   \n",
       "1                   Перевод частному лицу  100197    NaN  2017-11-28 17:34:53   \n",
       "2                            Оплата услуг  100197    NaN  2017-11-04 15:37:57   \n",
       "3  Перевод между своими счетами и картами  100197    NaN  2017-11-24 10:25:52   \n",
       "4                   Перевод частному лицу  100197    NaN  2017-11-21 21:54:00   \n",
       "\n",
       "   data_i_154   ip_isp   amnt2chnls  short_date  cat_new_ip  cat_new_prov  \\\n",
       "0       196.0  7255229  3774.000000  2017-11-10   -5.334714     -6.439216   \n",
       "1       181.0  7255560     9.998000  2017-11-28   -5.334714     -6.439216   \n",
       "2       190.0  7255560     9.900990  2017-11-04   -5.334714     -6.439216   \n",
       "3       177.0  7255560  3000.000000  2017-11-24   -5.334714     -6.439216   \n",
       "4       174.0  6468578     9.983361  2017-11-21   -6.850543     -6.439216   \n",
       "\n",
       "      ...      client_age  age_diff  cumulative_sum_total  \\\n",
       "0     ...       -5.947735 -5.727923             -6.633544   \n",
       "1     ...       -5.947735 -6.480887             -5.103841   \n",
       "2     ...       -5.947735 -5.727923             -5.527454   \n",
       "3     ...       -5.947735 -5.727923             -6.633544   \n",
       "4     ...       -5.947735 -6.480887             -5.103841   \n",
       "\n",
       "   cumulative_sum_total.1  data_i_120  know_recip_power  data_i_120.1  \\\n",
       "0               -6.633544   -6.273876         -7.565464     -6.273876   \n",
       "1               -5.103841   -6.273876         -8.008094     -6.273876   \n",
       "2               -5.527454   -6.273876         -7.565464     -6.273876   \n",
       "3               -6.633544   -6.273876         -7.084345     -6.273876   \n",
       "4               -5.103841   -6.273876         -8.008094     -6.273876   \n",
       "\n",
       "   recip_card_age  krp_pow2  log_amount  \n",
       "0       -5.587413 -7.565464   -5.161287  \n",
       "1       -6.189584 -8.008094   -5.054978  \n",
       "2       -5.587413 -7.565464   -5.772775  \n",
       "3       -5.587413 -7.084345   -5.161287  \n",
       "4       -6.189584 -8.008094   -5.305270  \n",
       "\n",
       "[5 rows x 31 columns]"
      ]
     },
     "execution_count": 25,
     "metadata": {},
     "output_type": "execute_result"
    }
   ],
   "source": [
    "w.head(5)"
   ]
  },
  {
   "cell_type": "code",
   "execution_count": null,
   "metadata": {},
   "outputs": [],
   "source": [
    "train = '../../data/prepaired_dataset/train_v3.fth'\n",
    "test_normal_filename = '../../data/prepaired_dataset/test_v3.fth'"
   ]
  }
 ],
 "metadata": {
  "kernelspec": {
   "display_name": "Python 3",
   "language": "python",
   "name": "python3"
  },
  "language_info": {
   "codemirror_mode": {
    "name": "ipython",
    "version": 3
   },
   "file_extension": ".py",
   "mimetype": "text/x-python",
   "name": "python",
   "nbconvert_exporter": "python",
   "pygments_lexer": "ipython3",
   "version": "3.6.4"
  }
 },
 "nbformat": 4,
 "nbformat_minor": 2
}
