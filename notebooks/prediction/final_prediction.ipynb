{
 "cells": [
  {
   "cell_type": "code",
   "execution_count": 1,
   "metadata": {},
   "outputs": [],
   "source": [
    "import pandas as pd\n",
    "import numpy as np\n",
    "import sqlite3\n",
    "import datetime\n",
    "import sklearn\n",
    "import sqlalchemy as sa\n",
    "from tqdm import tqdm_notebook\n",
    "import itertools\n",
    "import pickle\n",
    "from sklearn.metrics import average_precision_score\n",
    "from sklearn.metrics import precision_recall_curve\n",
    "from sklearn import metrics"
   ]
  },
  {
   "cell_type": "code",
   "execution_count": 2,
   "metadata": {},
   "outputs": [],
   "source": [
    "from sklearn.model_selection import TimeSeriesSplit\n",
    "from sklearn.model_selection import train_test_split\n",
    "import xgboost as xgb\n",
    "from sklearn.model_selection import GridSearchCV\n",
    "from sklearn.metrics import roc_auc_score\n",
    "\n",
    "import matplotlib.pyplot as plt\n",
    "from sklearn.metrics import precision_recall_curve, auc\n",
    "\n",
    "import operator\n",
    "import gc"
   ]
  },
  {
   "cell_type": "code",
   "execution_count": 3,
   "metadata": {},
   "outputs": [
    {
     "data": {
      "text/html": [
       "<style>.container { width:100% !important; }</style>"
      ],
      "text/plain": [
       "<IPython.core.display.HTML object>"
      ]
     },
     "metadata": {},
     "output_type": "display_data"
    }
   ],
   "source": [
    "from IPython.core.display import display, HTML\n",
    "display(HTML(\"<style>.container { width:100% !important; }</style>\"))\n",
    "\n",
    "pd.set_option('display.max_rows', 50)\n",
    "pd.set_option('display.max_columns', 500)\n",
    "pd.set_option('display.max_colwidth', -1)"
   ]
  },
  {
   "cell_type": "code",
   "execution_count": 4,
   "metadata": {},
   "outputs": [],
   "source": [
    "%matplotlib inline"
   ]
  },
  {
   "cell_type": "markdown",
   "metadata": {},
   "source": [
    "---"
   ]
  },
  {
   "cell_type": "markdown",
   "metadata": {},
   "source": [
    "для обучения берем только данные с 20171029 по 20171128<br>\n",
    "для теста с 20171129 по 20171205"
   ]
  },
  {
   "cell_type": "code",
   "execution_count": 5,
   "metadata": {
    "scrolled": true
   },
   "outputs": [
    {
     "name": "stdout",
     "output_type": "stream",
     "text": [
      "CPU times: user 1.67 s, sys: 5.07 s, total: 6.74 s\n",
      "Wall time: 14.7 s\n"
     ]
    }
   ],
   "source": [
    "%%time\n",
    "!mkdir -p ../../data/predictions/\n",
    "train_df = pd.read_feather('../../data/combined_dataset/train_v1.fth')\n",
    "test_df = pd.read_feather('../../data/combined_dataset/test_v1.fth')"
   ]
  },
  {
   "cell_type": "code",
   "execution_count": 6,
   "metadata": {},
   "outputs": [
    {
     "name": "stdout",
     "output_type": "stream",
     "text": [
      "CPU times: user 1.13 s, sys: 3.42 s, total: 4.55 s\n",
      "Wall time: 4.53 s\n"
     ]
    }
   ],
   "source": [
    "%%time\n",
    "drop_cols = ['event_id', 'user_id', 'short_date', 'event_time']\n",
    "train_df.drop(columns = drop_cols, inplace = True)\n",
    "test_df.drop(columns = drop_cols, inplace = True)"
   ]
  },
  {
   "cell_type": "code",
   "execution_count": 7,
   "metadata": {},
   "outputs": [],
   "source": [
    "train_df = train_df.loc[train_df['label'].isin([0, 1])].copy()"
   ]
  },
  {
   "cell_type": "markdown",
   "metadata": {},
   "source": [
    "параметры для xgboost были подобраны в другом ноутбуке через GridSearch"
   ]
  },
  {
   "cell_type": "raw",
   "metadata": {},
   "source": [
    "%%time\n",
    "dtrain = xgb.DMatrix(train_df.drop('label', axis = 1), label=train_df['label'], missing=np.NAN)\n",
    "dtest = xgb.DMatrix(test_df, missing=np.NAN)"
   ]
  },
  {
   "cell_type": "code",
   "execution_count": 8,
   "metadata": {},
   "outputs": [],
   "source": [
    "model = xgb.XGBClassifier(base_score=0.5, colsample_bylevel=1, colsample_bytree=0.5,\n",
    "                          gamma=0, learning_rate=0.1, max_delta_step=0, max_depth=8,\n",
    "                          min_child_weight=1, missing=None, n_estimators=200,\n",
    "                          objective='binary:logistic', reg_alpha=8, reg_lambda=1,\n",
    "                          scale_pos_weight=1, seed=0, silent=True, subsample=0.6, n_jobs=16)"
   ]
  },
  {
   "cell_type": "code",
   "execution_count": 9,
   "metadata": {},
   "outputs": [
    {
     "name": "stdout",
     "output_type": "stream",
     "text": [
      "CPU times: user 1h 39min 5s, sys: 20.5 s, total: 1h 39min 25s\n",
      "Wall time: 8min 31s\n"
     ]
    }
   ],
   "source": [
    "%%time\n",
    "predictor = model.fit(train_df.drop('label', axis = 1), train_df['label'])"
   ]
  },
  {
   "cell_type": "markdown",
   "metadata": {},
   "source": [
    "some sanity checks"
   ]
  },
  {
   "cell_type": "code",
   "execution_count": 10,
   "metadata": {},
   "outputs": [],
   "source": [
    "train_proba = predictor.predict_proba(train_df.drop('label', axis = 1))"
   ]
  },
  {
   "cell_type": "code",
   "execution_count": 15,
   "metadata": {},
   "outputs": [
    {
     "name": "stdout",
     "output_type": "stream",
     "text": [
      "Обычный ROC-AUC: 0.984947000484716\n"
     ]
    },
    {
     "data": {
      "image/png": "[encoded data removed]",
      "text/plain": [
       "<matplotlib.figure.Figure at 0x7f7190161ef0>"
      ]
     },
     "metadata": {},
     "output_type": "display_data"
    },
    {
     "name": "stdout",
     "output_type": "stream",
     "text": [
      "PR-curve AUC 0.5730626955234419\n"
     ]
    }
   ],
   "source": [
    "y_train = [1 if x == 1 else 0 for x in train_df['label']]\n",
    "preds = train_proba[:, 1]\n",
    "\n",
    "print(f'Обычный ROC-AUC: {roc_auc_score(y_train, preds)}')\n",
    "average_precision = average_precision_score(y_train, preds)\n",
    "precision, recall, thresholds = precision_recall_curve(y_train, preds)\n",
    "\n",
    "plt.step(recall, precision, color='b', alpha=0.2,\n",
    "         where='post')\n",
    "plt.fill_between(recall, precision, step='post', alpha=0.2,\n",
    "                 color='b')\n",
    "\n",
    "plt.xlabel('Recall')\n",
    "plt.ylabel('Precision')\n",
    "plt.ylim([0.0, 1.05])\n",
    "plt.xlim([0.0, 1.0])\n",
    "plt.title('2-class Precision-Recall curve: AP={0:0.2f}'.format(\n",
    "          average_precision))\n",
    "plt.show()\n",
    "\n",
    "print(f'PR-curve AUC {metrics.auc(recall, precision)}')"
   ]
  },
  {
   "cell_type": "markdown",
   "metadata": {
    "scrolled": true
   },
   "source": [
    "теперь собственно делаем предсказания"
   ]
  },
  {
   "cell_type": "code",
   "execution_count": 19,
   "metadata": {
    "scrolled": true
   },
   "outputs": [
    {
     "data": {
      "text/plain": [
       "set()"
      ]
     },
     "execution_count": 19,
     "metadata": {},
     "output_type": "execute_result"
    }
   ],
   "source": [
    "set(train_df.drop('label', axis = 1).columns) - set(test_df.columns)"
   ]
  },
  {
   "cell_type": "code",
   "execution_count": 22,
   "metadata": {},
   "outputs": [],
   "source": [
    "test_proba = predictor.predict_proba(test_df[train_df.drop('label', axis = 1).columns.values])[:, 1]"
   ]
  },
  {
   "cell_type": "code",
   "execution_count": 26,
   "metadata": {
    "scrolled": true
   },
   "outputs": [
    {
     "data": {
      "text/plain": [
       "['amount',\n",
       " 'client_age',\n",
       " 'cat_new_ip',\n",
       " 'cat_new_prov',\n",
       " 'channel_op',\n",
       " 'op_type',\n",
       " 'cumulative_sum_total',\n",
       " 'data_i_120',\n",
       " 'data_i_154',\n",
       " 'cdf_s_127',\n",
       " 'cdf_s_129',\n",
       " 'cdf_s_130',\n",
       " 'cdf_s_133',\n",
       " 'cdf_s_134',\n",
       " 'cdf_s_135',\n",
       " 'know_recip_card_age',\n",
       " 'recip_card_age',\n",
       " 'one_region',\n",
       " 'log_amount',\n",
       " 'ip_isp',\n",
       " 'amnt2chnls',\n",
       " 'is_mts',\n",
       " 'is_beeline',\n",
       " 'is_megafon',\n",
       " 'is_tele2',\n",
       " 'is_ru_mobile',\n",
       " 'ip_contry_ru',\n",
       " 'ip_contry_kz',\n",
       " 'ip_contry_ua',\n",
       " 'ip_contry_br',\n",
       " 'ip_contry_tr',\n",
       " 'ip_contry_th',\n",
       " 'ip_contry_null',\n",
       " 'ip_contry_is_unknown',\n",
       " 'ip_contry_is_other',\n",
       " 'hardwareid_notnull',\n",
       " 'user_agent_string_hash_notnull',\n",
       " 'browser_plugins_hash_notnull',\n",
       " 'screen_hash_notnull',\n",
       " 'user_id_MBK',\n",
       " 'user_id_VSP',\n",
       " 'user_id_CRM',\n",
       " 'user_id_IVR',\n",
       " 'user_id_other',\n",
       " 'user_id_digit_only',\n",
       " 'channel_indicator_desc_is_MOBILEAPI',\n",
       " 'channel_indicator_desc_is_WEBAPI',\n",
       " 'channel_indicator_desc_is_ATMAPI',\n",
       " 'channel_indicator_desc_is_MBK',\n",
       " 'channel_indicator_desc_is_other',\n",
       " 'event_hour',\n",
       " 'event_hour_night',\n",
       " 'event_hour_workhour',\n",
       " 'event_hour_evening',\n",
       " 'event_day',\n",
       " 'event_day_is_weekend',\n",
       " 'client_age_isnull',\n",
       " 'transfer_recip_age',\n",
       " 'transfer_age_diff',\n",
       " 'transfer_for_relative',\n",
       " 'transfer_know_recip_squared',\n",
       " 'client_region_len',\n",
       " 'client_region',\n",
       " 'woe_data_i_154',\n",
       " 'woe_ip_isp',\n",
       " 'woe_amnt2chnls',\n",
       " 'woe_cat_new_ip',\n",
       " 'woe_cat_new_prov',\n",
       " 'woe_op_type',\n",
       " 'woe_relative',\n",
       " 'woe_cdf_s_127',\n",
       " 'woe_cdf_s_135',\n",
       " 'woe_cdf_s_130',\n",
       " 'woe_cdf_s_129',\n",
       " 'woe_cdf_s_134',\n",
       " 'woe_cdf_s_133',\n",
       " 'woe_know_recip_card_age',\n",
       " 'woe_one_region',\n",
       " 'woe_amount',\n",
       " 'woe_client_age',\n",
       " 'woe_age_diff',\n",
       " 'woe_cumulative_sum_total',\n",
       " 'woe_cumulative_sum_total.1',\n",
       " 'woe_data_i_120',\n",
       " 'woe_know_recip_power',\n",
       " 'woe_data_i_120.1',\n",
       " 'woe_recip_card_age',\n",
       " 'woe_krp_pow2',\n",
       " 'woe_log_amount',\n",
       " 'amount_original_30_days_quantile_0.1',\n",
       " 'amount_original_30_days_quantile_0.2',\n",
       " 'amount_original_30_days_quantile_0.3',\n",
       " 'amount_original_30_days_quantile_0.4',\n",
       " 'amount_original_30_days_quantile_0.5',\n",
       " 'amount_original_30_days_quantile_0.6',\n",
       " 'amount_original_30_days_quantile_0.7',\n",
       " 'amount_original_30_days_quantile_0.8',\n",
       " 'amount_original_30_days_quantile_0.9',\n",
       " 'amount_original_30_days_quantile_1.0',\n",
       " 'ATMAPI_30_days_quantile_0.1',\n",
       " 'ATMAPI_30_days_quantile_0.2',\n",
       " 'ATMAPI_30_days_quantile_0.3',\n",
       " 'ATMAPI_30_days_quantile_0.4',\n",
       " 'ATMAPI_30_days_quantile_0.5',\n",
       " 'ATMAPI_30_days_quantile_0.6',\n",
       " 'ATMAPI_30_days_quantile_0.7',\n",
       " 'ATMAPI_30_days_quantile_0.8',\n",
       " 'ATMAPI_30_days_quantile_0.9',\n",
       " 'ATMAPI_30_days_quantile_1.0',\n",
       " 'WEBAPI_30_days_quantile_0.1',\n",
       " 'WEBAPI_30_days_quantile_0.2',\n",
       " 'WEBAPI_30_days_quantile_0.3',\n",
       " 'WEBAPI_30_days_quantile_0.4',\n",
       " 'WEBAPI_30_days_quantile_0.5',\n",
       " 'WEBAPI_30_days_quantile_0.6',\n",
       " 'WEBAPI_30_days_quantile_0.7',\n",
       " 'WEBAPI_30_days_quantile_0.8',\n",
       " 'WEBAPI_30_days_quantile_0.9',\n",
       " 'WEBAPI_30_days_quantile_1.0',\n",
       " 'MBK_30_days_quantile_0.1',\n",
       " 'MBK_30_days_quantile_0.2',\n",
       " 'MBK_30_days_quantile_0.3',\n",
       " 'MBK_30_days_quantile_0.4',\n",
       " 'MBK_30_days_quantile_0.5',\n",
       " 'MBK_30_days_quantile_0.6',\n",
       " 'MBK_30_days_quantile_0.7',\n",
       " 'MBK_30_days_quantile_0.8',\n",
       " 'MBK_30_days_quantile_0.9',\n",
       " 'MBK_30_days_quantile_1.0',\n",
       " 'UFS_30_days_quantile_0.1',\n",
       " 'UFS_30_days_quantile_0.2',\n",
       " 'UFS_30_days_quantile_0.3',\n",
       " 'UFS_30_days_quantile_0.4',\n",
       " 'UFS_30_days_quantile_0.5',\n",
       " 'UFS_30_days_quantile_0.6',\n",
       " 'UFS_30_days_quantile_0.7',\n",
       " 'UFS_30_days_quantile_0.8',\n",
       " 'UFS_30_days_quantile_0.9',\n",
       " 'UFS_30_days_quantile_1.0',\n",
       " 'MOBILEAPI_30_days_quantile_0.1',\n",
       " 'MOBILEAPI_30_days_quantile_0.2',\n",
       " 'MOBILEAPI_30_days_quantile_0.3',\n",
       " 'MOBILEAPI_30_days_quantile_0.4',\n",
       " 'MOBILEAPI_30_days_quantile_0.5',\n",
       " 'MOBILEAPI_30_days_quantile_0.6',\n",
       " 'MOBILEAPI_30_days_quantile_0.7',\n",
       " 'MOBILEAPI_30_days_quantile_0.8',\n",
       " 'MOBILEAPI_30_days_quantile_0.9',\n",
       " 'MOBILEAPI_30_days_quantile_1.0']"
      ]
     },
     "execution_count": 26,
     "metadata": {},
     "output_type": "execute_result"
    }
   ],
   "source": [
    "test_df.columns.tolist()"
   ]
  },
  {
   "cell_type": "code",
   "execution_count": 27,
   "metadata": {},
   "outputs": [],
   "source": [
    "test_df_raw = pd.read_feather('../../data/combined_dataset/test_v1.fth')"
   ]
  },
  {
   "cell_type": "code",
   "execution_count": 31,
   "metadata": {},
   "outputs": [],
   "source": [
    "final = test_df_raw[['event_id']].copy()\n",
    "final['label_1_prob'] = test_proba"
   ]
  },
  {
   "cell_type": "code",
   "execution_count": 32,
   "metadata": {
    "scrolled": true
   },
   "outputs": [
    {
     "data": {
      "text/html": [
       "<div>\n",
       "<style scoped>\n",
       "    .dataframe tbody tr th:only-of-type {\n",
       "        vertical-align: middle;\n",
       "    }\n",
       "\n",
       "    .dataframe tbody tr th {\n",
       "        vertical-align: top;\n",
       "    }\n",
       "\n",
       "    .dataframe thead th {\n",
       "        text-align: right;\n",
       "    }\n",
       "</style>\n",
       "<table border=\"1\" class=\"dataframe\">\n",
       "  <thead>\n",
       "    <tr style=\"text-align: right;\">\n",
       "      <th></th>\n",
       "      <th>event_id</th>\n",
       "      <th>label_1_prob</th>\n",
       "    </tr>\n",
       "  </thead>\n",
       "  <tbody>\n",
       "    <tr>\n",
       "      <th>0</th>\n",
       "      <td>e264-:4fbd8d52061:1c81f046_TRX</td>\n",
       "      <td>0.055129</td>\n",
       "    </tr>\n",
       "    <tr>\n",
       "      <th>1</th>\n",
       "      <td>54e7:e19e2b52061:3cbd98c1-_TRX</td>\n",
       "      <td>0.028082</td>\n",
       "    </tr>\n",
       "    <tr>\n",
       "      <th>2</th>\n",
       "      <td>7581-:454f5d52061:e838eec1_TRX</td>\n",
       "      <td>0.038442</td>\n",
       "    </tr>\n",
       "    <tr>\n",
       "      <th>3</th>\n",
       "      <td>5ec-:763a2f62061:7ecf1c37_TRX</td>\n",
       "      <td>0.035923</td>\n",
       "    </tr>\n",
       "    <tr>\n",
       "      <th>4</th>\n",
       "      <td>cd72:c03d2b52061:d95998d3_TRX</td>\n",
       "      <td>0.049398</td>\n",
       "    </tr>\n",
       "  </tbody>\n",
       "</table>\n",
       "</div>"
      ],
      "text/plain": [
       "                         event_id  label_1_prob\n",
       "0  e264-:4fbd8d52061:1c81f046_TRX  0.055129    \n",
       "1  54e7:e19e2b52061:3cbd98c1-_TRX  0.028082    \n",
       "2  7581-:454f5d52061:e838eec1_TRX  0.038442    \n",
       "3  5ec-:763a2f62061:7ecf1c37_TRX   0.035923    \n",
       "4  cd72:c03d2b52061:d95998d3_TRX   0.049398    "
      ]
     },
     "execution_count": 32,
     "metadata": {},
     "output_type": "execute_result"
    }
   ],
   "source": [
    "final.head(5)"
   ]
  },
  {
   "cell_type": "code",
   "execution_count": 34,
   "metadata": {},
   "outputs": [
    {
     "data": {
      "text/plain": [
       "<matplotlib.axes._subplots.AxesSubplot at 0x7f717a60cc88>"
      ]
     },
     "execution_count": 34,
     "metadata": {},
     "output_type": "execute_result"
    },
    {
     "data": {
      "image/png": "[encoded data removed]",
      "text/plain": [
       "<matplotlib.figure.Figure at 0x7f70b87219b0>"
      ]
     },
     "metadata": {},
     "output_type": "display_data"
    }
   ],
   "source": [
    "final['label_1_prob'].hist(bins = 100)"
   ]
  },
  {
   "cell_type": "code",
   "execution_count": 35,
   "metadata": {},
   "outputs": [],
   "source": [
    "final.to_csv('../../data/predictions/test_prediction_team1.csv', index = None)"
   ]
  }
 ],
 "metadata": {
  "kernelspec": {
   "display_name": "Python 3",
   "language": "python",
   "name": "python3"
  },
  "language_info": {
   "codemirror_mode": {
    "name": "ipython",
    "version": 3
   },
   "file_extension": ".py",
   "mimetype": "text/x-python",
   "name": "python",
   "nbconvert_exporter": "python",
   "pygments_lexer": "ipython3",
   "version": "3.6.4"
  }
 },
 "nbformat": 4,
 "nbformat_minor": 2
}
