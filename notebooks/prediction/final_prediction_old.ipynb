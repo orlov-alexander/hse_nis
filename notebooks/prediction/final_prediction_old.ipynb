{
 "cells": [
  {
   "cell_type": "code",
   "execution_count": 1,
   "metadata": {},
   "outputs": [],
   "source": [
    "import pandas as pd\n",
    "import numpy as np\n",
    "import sqlite3\n",
    "import datetime\n",
    "import sklearn\n",
    "import sqlalchemy as sa\n",
    "from tqdm import tqdm_notebook\n",
    "import itertools\n",
    "import pickle\n",
    "from sklearn.metrics import average_precision_score\n",
    "from sklearn.metrics import precision_recall_curve\n",
    "from sklearn import metrics"
   ]
  },
  {
   "cell_type": "code",
   "execution_count": 2,
   "metadata": {},
   "outputs": [],
   "source": [
    "from sklearn.model_selection import TimeSeriesSplit\n",
    "from sklearn.model_selection import train_test_split\n",
    "import xgboost as xgb\n",
    "from sklearn.model_selection import GridSearchCV\n",
    "from sklearn.metrics import roc_auc_score\n",
    "\n",
    "import matplotlib.pyplot as plt\n",
    "from sklearn.metrics import precision_recall_curve, auc\n",
    "\n",
    "import operator\n",
    "import gc"
   ]
  },
  {
   "cell_type": "code",
   "execution_count": 12,
   "metadata": {},
   "outputs": [
    {
     "data": {
      "text/html": [
       "<style>.container { width:100% !important; }</style>"
      ],
      "text/plain": [
       "<IPython.core.display.HTML object>"
      ]
     },
     "metadata": {},
     "output_type": "display_data"
    }
   ],
   "source": [
    "from IPython.core.display import display, HTML\n",
    "display(HTML(\"<style>.container { width:100% !important; }</style>\"))\n",
    "\n",
    "pd.set_option('display.max_rows', 50)\n",
    "pd.set_option('display.max_columns', 500)\n",
    "pd.set_option('display.max_colwidth', -1)"
   ]
  },
  {
   "cell_type": "code",
   "execution_count": 4,
   "metadata": {},
   "outputs": [],
   "source": [
    "%matplotlib inline"
   ]
  },
  {
   "cell_type": "markdown",
   "metadata": {},
   "source": [
    "---"
   ]
  },
  {
   "cell_type": "markdown",
   "metadata": {},
   "source": [
    "для обучения берем только данные с 20171029 по 20171128<br>\n",
    "для теста с 20171129 по 20171205"
   ]
  },
  {
   "cell_type": "code",
   "execution_count": 48,
   "metadata": {
    "scrolled": true
   },
   "outputs": [
    {
     "name": "stdout",
     "output_type": "stream",
     "text": [
      "CPU times: user 2.51 s, sys: 7.8 s, total: 10.3 s\n",
      "Wall time: 17.7 s\n"
     ]
    }
   ],
   "source": [
    "%%time\n",
    "!mkdir -p ../../data/predictions/\n",
    "train_df = pd.read_feather('../../data/combined_dataset/train_v1.fth')\n",
    "test_df = pd.read_feather('../../data/combined_dataset/test_v1.fth')"
   ]
  },
  {
   "cell_type": "code",
   "execution_count": 49,
   "metadata": {},
   "outputs": [
    {
     "name": "stdout",
     "output_type": "stream",
     "text": [
      "CPU times: user 1.39 s, sys: 3.76 s, total: 5.15 s\n",
      "Wall time: 5.12 s\n"
     ]
    }
   ],
   "source": [
    "%%time\n",
    "drop_cols = ['event_id', 'user_id', 'short_date', 'event_time']\n",
    "train_df.drop(columns = drop_cols, inplace = True)\n",
    "test_df.drop(columns = drop_cols, inplace = True)"
   ]
  },
  {
   "cell_type": "code",
   "execution_count": 71,
   "metadata": {},
   "outputs": [
    {
     "data": {
      "text/plain": [
       "7"
      ]
     },
     "execution_count": 71,
     "metadata": {},
     "output_type": "execute_result"
    }
   ],
   "source": [
    "del train_df, test_df\n",
    "gc.collect()"
   ]
  },
  {
   "cell_type": "code",
   "execution_count": null,
   "metadata": {},
   "outputs": [],
   "source": []
  },
  {
   "cell_type": "markdown",
   "metadata": {},
   "source": [
    "параметры для xgboost были подобраны в другом ноутбуке через GridSearch"
   ]
  },
  {
   "cell_type": "raw",
   "metadata": {},
   "source": [
    "%%time\n",
    "dtrain = xgb.DMatrix(train_df.drop('label', axis = 1), label=train_df['label'], missing=np.NAN)\n",
    "dtest = xgb.DMatrix(test_df, missing=np.NAN)"
   ]
  },
  {
   "cell_type": "code",
   "execution_count": 50,
   "metadata": {},
   "outputs": [],
   "source": [
    "model = xgb.XGBClassifier(base_score=0.5, colsample_bylevel=1, colsample_bytree=0.5,\n",
    "                          gamma=0, learning_rate=0.1, max_delta_step=0, max_depth=8,\n",
    "                          min_child_weight=1, missing=None, n_estimators=200,\n",
    "                          objective='binary:logistic', reg_alpha=8, reg_lambda=1,\n",
    "                          scale_pos_weight=1, seed=0, silent=True, subsample=0.6, n_jobs=16)"
   ]
  },
  {
   "cell_type": "code",
   "execution_count": 53,
   "metadata": {},
   "outputs": [
    {
     "name": "stdout",
     "output_type": "stream",
     "text": [
      "CPU times: user 5h 53min 40s, sys: 38.1 s, total: 5h 54min 18s\n",
      "Wall time: 31min 11s\n"
     ]
    }
   ],
   "source": [
    "%%time\n",
    "predictor = model.fit(train_df.drop('label', axis = 1), train_df['label'])"
   ]
  },
  {
   "cell_type": "markdown",
   "metadata": {},
   "source": [
    "some sanity checks"
   ]
  },
  {
   "cell_type": "code",
   "execution_count": 56,
   "metadata": {},
   "outputs": [],
   "source": [
    "train_proba = predictor.predict_proba(train_df.drop('label', axis = 1))"
   ]
  },
  {
   "cell_type": "code",
   "execution_count": 67,
   "metadata": {},
   "outputs": [
    {
     "data": {
      "text/plain": [
       "0.9832089666371764"
      ]
     },
     "execution_count": 67,
     "metadata": {},
     "output_type": "execute_result"
    }
   ],
   "source": [
    "roc_auc_score(y_train, preds)"
   ]
  },
  {
   "cell_type": "code",
   "execution_count": 69,
   "metadata": {},
   "outputs": [
    {
     "data": {
      "text/plain": [
       "0.9853628902540555"
      ]
     },
     "execution_count": 69,
     "metadata": {},
     "output_type": "execute_result"
    }
   ],
   "source": [
    "roc_auc_score(y_train, preds)"
   ]
  },
  {
   "cell_type": "code",
   "execution_count": 68,
   "metadata": {},
   "outputs": [
    {
     "data": {
      "image/png": "[encoded data removed]",
      "text/plain": [
       "<matplotlib.figure.Figure at 0x7f7d1ace2ef0>"
      ]
     },
     "metadata": {},
     "output_type": "display_data"
    },
    {
     "data": {
      "text/plain": [
       "0.5797506022336302"
      ]
     },
     "execution_count": 68,
     "metadata": {},
     "output_type": "execute_result"
    }
   ],
   "source": [
    "y_train = [1 if x == 1 else 0 for x in train_df['label']]\n",
    "preds = train_proba[:, 2]\n",
    "average_precision = average_precision_score(y_train, preds)\n",
    "precision, recall, thresholds = precision_recall_curve(y_train, preds)\n",
    "\n",
    "plt.step(recall, precision, color='b', alpha=0.2,\n",
    "         where='post')\n",
    "plt.fill_between(recall, precision, step='post', alpha=0.2,\n",
    "                 color='b')\n",
    "\n",
    "plt.xlabel('Recall')\n",
    "plt.ylabel('Precision')\n",
    "plt.ylim([0.0, 1.05])\n",
    "plt.xlim([0.0, 1.0])\n",
    "plt.title('2-class Precision-Recall curve: AP={0:0.2f}'.format(\n",
    "          average_precision))\n",
    "plt.show()\n",
    "\n",
    "metrics.auc(recall, precision)"
   ]
  },
  {
   "cell_type": "code",
   "execution_count": 58,
   "metadata": {
    "scrolled": true
   },
   "outputs": [
    {
     "data": {
      "text/plain": [
       "array([8.7942590e-07, 1.2060659e-06, 8.6193307e-07, ..., 9.6656277e-07,\n",
       "       1.1605683e-06, 3.6948761e-05], dtype=float32)"
      ]
     },
     "execution_count": 58,
     "metadata": {},
     "output_type": "execute_result"
    }
   ],
   "source": []
  },
  {
   "cell_type": "raw",
   "metadata": {},
   "source": [
    "train_df"
   ]
  },
  {
   "cell_type": "code",
   "execution_count": 41,
   "metadata": {
    "scrolled": true
   },
   "outputs": [
    {
     "data": {
      "text/plain": [
       "[20171129, 20171130, 20171201, 20171202, 20171203, 20171204, 20171205]"
      ]
     },
     "execution_count": 41,
     "metadata": {},
     "output_type": "execute_result"
    }
   ],
   "source": [
    "sorted(test_df['short_date'].unique())"
   ]
  },
  {
   "cell_type": "code",
   "execution_count": null,
   "metadata": {},
   "outputs": [],
   "source": [
    "score_dates = [20170]"
   ]
  },
  {
   "cell_type": "code",
   "execution_count": 17,
   "metadata": {},
   "outputs": [
    {
     "name": "stderr",
     "output_type": "stream",
     "text": [
      "Exception ignored in: <bound method DMatrix.__del__ of <xgboost.core.DMatrix object at 0x7f7d62c86d68>>\n",
      "Traceback (most recent call last):\n",
      "  File \"/anaconda3/lib/python3.6/site-packages/xgboost/core.py\", line 368, in __del__\n",
      "    if self.handle is not None:\n",
      "AttributeError: 'DMatrix' object has no attribute 'handle'\n"
     ]
    },
    {
     "ename": "NameError",
     "evalue": "name 'drop_cols' is not defined",
     "output_type": "error",
     "traceback": [
      "\u001b[0;31m---------------------------------------------------------------------------\u001b[0m",
      "\u001b[0;31mNameError\u001b[0m                                 Traceback (most recent call last)",
      "\u001b[0;32m<ipython-input-17-6db815ba3b5e>\u001b[0m in \u001b[0;36m<module>\u001b[0;34m()\u001b[0m\n\u001b[0;32m----> 1\u001b[0;31m \u001b[0mtrain_df\u001b[0m\u001b[0;34m[\u001b[0m\u001b[0;34m:\u001b[0m\u001b[0;34m,\u001b[0m \u001b[0mdrop_cols\u001b[0m\u001b[0;34m]\u001b[0m\u001b[0;34m\u001b[0m\u001b[0m\n\u001b[0m",
      "\u001b[0;31mNameError\u001b[0m: name 'drop_cols' is not defined"
     ]
    }
   ],
   "source": [
    "train_df[:, drop_cols]"
   ]
  },
  {
   "cell_type": "raw",
   "metadata": {},
   "source": [
    "list(train_df.columns)"
   ]
  },
  {
   "cell_type": "code",
   "execution_count": 103,
   "metadata": {},
   "outputs": [
    {
     "name": "stdout",
     "output_type": "stream",
     "text": [
      "CPU times: user 811 ms, sys: 2.19 s, total: 3.01 s\n",
      "Wall time: 5.76 s\n"
     ]
    }
   ],
   "source": [
    "%%time\n",
    "train_raw = pd.read_feather('../../data/prepaired_dataset/train_v2.fth')"
   ]
  },
  {
   "cell_type": "raw",
   "metadata": {},
   "source": [
    "%%time\n",
    "train_raw = pd.read_feather('../../data/prepaired_dataset/train_v2.fth')"
   ]
  },
  {
   "cell_type": "code",
   "execution_count": 104,
   "metadata": {},
   "outputs": [],
   "source": [
    "train_raw = train_raw.loc[train_raw.label != -1].copy()"
   ]
  },
  {
   "cell_type": "code",
   "execution_count": 105,
   "metadata": {},
   "outputs": [],
   "source": [
    "rng = np.random.RandomState(seed=1)"
   ]
  },
  {
   "cell_type": "code",
   "execution_count": 106,
   "metadata": {},
   "outputs": [],
   "source": [
    "uid_train, uid_val = train_test_split(sorted(train_raw['user_id'].unique()), test_size = 0.2, random_state = rng)"
   ]
  },
  {
   "cell_type": "code",
   "execution_count": 111,
   "metadata": {},
   "outputs": [
    {
     "data": {
      "text/plain": [
       "set()"
      ]
     },
     "execution_count": 111,
     "metadata": {},
     "output_type": "execute_result"
    }
   ],
   "source": [
    "set(uid_train) & set(uid_val)"
   ]
  },
  {
   "cell_type": "code",
   "execution_count": 107,
   "metadata": {},
   "outputs": [],
   "source": [
    "drop_cols = ['event_id', 'user_id', 'event_time', 'short_date']"
   ]
  },
  {
   "cell_type": "code",
   "execution_count": 113,
   "metadata": {},
   "outputs": [
    {
     "data": {
      "text/plain": [
       "(20171029, 20171128)"
      ]
     },
     "execution_count": 113,
     "metadata": {},
     "output_type": "execute_result"
    }
   ],
   "source": [
    "train_raw['short_date'].min(), train_raw['short_date'].max()"
   ]
  },
  {
   "cell_type": "code",
   "execution_count": 17,
   "metadata": {},
   "outputs": [
    {
     "name": "stdout",
     "output_type": "stream",
     "text": [
      "CPU times: user 5.27 s, sys: 6.24 s, total: 11.5 s\n",
      "Wall time: 11.5 s\n"
     ]
    }
   ],
   "source": [
    "%%time\n",
    "t = train_raw.loc[train_raw['user_id'].isin(uid_train)].drop(drop_cols, axis = 1)\n",
    "dtrain = xgb.DMatrix(t.drop('label', axis = 1), label=t['label'], missing=np.NAN)\n",
    "t = train_raw.loc[train_raw['user_id'].isin(uid_val)].drop(drop_cols, axis = 1)\n",
    "dval = xgb.DMatrix(t.drop('label', axis = 1), label=t['label'], missing=np.NAN)"
   ]
  },
  {
   "cell_type": "code",
   "execution_count": 18,
   "metadata": {},
   "outputs": [
    {
     "data": {
      "text/plain": [
       "311"
      ]
     },
     "execution_count": 18,
     "metadata": {},
     "output_type": "execute_result"
    }
   ],
   "source": [
    "del t, train_raw\n",
    "gc.collect()"
   ]
  },
  {
   "cell_type": "code",
   "execution_count": 49,
   "metadata": {},
   "outputs": [],
   "source": [
    "params={\n",
    "    'max_depth': [3, 5], \n",
    "    'subsample': [0.4, 0.6], \n",
    "    'colsample_bytree': [0.5, 0.7], \n",
    "    'n_estimators': [150, 250],\n",
    "    'reg_alpha': [0.01, 0.03] \n",
    "}"
   ]
  },
  {
   "cell_type": "code",
   "execution_count": 73,
   "metadata": {
    "scrolled": true
   },
   "outputs": [
    {
     "data": {
      "text/plain": [
       "32"
      ]
     },
     "execution_count": 73,
     "metadata": {},
     "output_type": "execute_result"
    }
   ],
   "source": [
    "cv_params_list = []\n",
    "def cv_get(nxt, already = []):\n",
    "    global cv_params_list\n",
    "    if len(nxt) == 0:\n",
    "        return None\n",
    "    if len(nxt) == 1:\n",
    "        for k, v in nxt:\n",
    "            for vv in v:\n",
    "                cv_params_list.append(already + [(k, vv)])\n",
    "    else:\n",
    "        k, v = nxt.pop()\n",
    "        for vv in v:\n",
    "            already_cp = already.copy()\n",
    "            already_cp.append((k, vv))\n",
    "            cv_get(nxt.copy(), already_cp)\n",
    "            \n",
    "cv_get([(k, v) for k,v in sorted(params.items(), key = lambda x: x[0])])\n",
    "len(cv_params_list)"
   ]
  },
  {
   "cell_type": "code",
   "execution_count": 81,
   "metadata": {
    "scrolled": false
   },
   "outputs": [
    {
     "name": "stdout",
     "output_type": "stream",
     "text": [
      "XGBoost with grid search and early stopping\n"
     ]
    },
    {
     "data": {
      "application/vnd.jupyter.widget-view+json": {
       "model_id": "1aa2087b98af4fd19f59a0cdb64b7293",
       "version_major": 2,
       "version_minor": 0
      },
      "text/html": [
       "<p>Failed to display Jupyter Widget of type <code>HBox</code>.</p>\n",
       "<p>\n",
       "  If you're reading this message in the Jupyter Notebook or JupyterLab Notebook, it may mean\n",
       "  that the widgets JavaScript is still loading. If this message persists, it\n",
       "  likely means that the widgets JavaScript library is either not installed or\n",
       "  not enabled. See the <a href=\"https://ipywidgets.readthedocs.io/en/stable/user_install.html\">Jupyter\n",
       "  Widgets Documentation</a> for setup instructions.\n",
       "</p>\n",
       "<p>\n",
       "  If you're reading this message in another frontend (for example, a static\n",
       "  rendering on GitHub or <a href=\"https://nbviewer.jupyter.org/\">NBViewer</a>),\n",
       "  it may mean that your frontend doesn't currently support widgets.\n",
       "</p>\n"
      ],
      "text/plain": [
       "HBox(children=(IntProgress(value=0, max=32), HTML(value='')))"
      ]
     },
     "metadata": {},
     "output_type": "display_data"
    },
    {
     "name": "stdout",
     "output_type": "stream",
     "text": [
      "[0]\ttrain-error:0.003682\teval-error:0.003629\n",
      "Multiple eval metrics have been passed: 'eval-error' will be used for early stopping.\n",
      "\n",
      "Will train until eval-error hasn't improved in 20 rounds.\n",
      "[100]\ttrain-error:0.003036\teval-error:0.003088\n",
      "Stopping. Best iteration:\n",
      "[97]\ttrain-error:0.003045\teval-error:0.003068\n",
      "\n",
      "[0]\ttrain-error:0.003682\teval-error:0.003629\n",
      "Multiple eval metrics have been passed: 'eval-error' will be used for early stopping.\n",
      "\n",
      "Will train until eval-error hasn't improved in 20 rounds.\n",
      "[100]\ttrain-error:0.003021\teval-error:0.003094\n",
      "Stopping. Best iteration:\n",
      "[87]\ttrain-error:0.003049\teval-error:0.003066\n",
      "\n",
      "[0]\ttrain-error:0.003682\teval-error:0.003629\n",
      "Multiple eval metrics have been passed: 'eval-error' will be used for early stopping.\n",
      "\n",
      "Will train until eval-error hasn't improved in 20 rounds.\n",
      "Stopping. Best iteration:\n",
      "[64]\ttrain-error:0.002855\teval-error:0.003021\n",
      "\n",
      "[0]\ttrain-error:0.003677\teval-error:0.00364\n",
      "Multiple eval metrics have been passed: 'eval-error' will be used for early stopping.\n",
      "\n",
      "Will train until eval-error hasn't improved in 20 rounds.\n",
      "[100]\ttrain-error:0.002755\teval-error:0.003037\n",
      "Stopping. Best iteration:\n",
      "[94]\ttrain-error:0.002772\teval-error:0.003028\n",
      "\n",
      "[0]\ttrain-error:0.003682\teval-error:0.003629\n",
      "Multiple eval metrics have been passed: 'eval-error' will be used for early stopping.\n",
      "\n",
      "Will train until eval-error hasn't improved in 20 rounds.\n",
      "[100]\ttrain-error:0.003036\teval-error:0.003088\n",
      "Stopping. Best iteration:\n",
      "[97]\ttrain-error:0.003045\teval-error:0.003068\n",
      "\n",
      "[0]\ttrain-error:0.003682\teval-error:0.003629\n",
      "Multiple eval metrics have been passed: 'eval-error' will be used for early stopping.\n",
      "\n",
      "Will train until eval-error hasn't improved in 20 rounds.\n",
      "[100]\ttrain-error:0.003021\teval-error:0.003094\n",
      "Stopping. Best iteration:\n",
      "[87]\ttrain-error:0.003049\teval-error:0.003066\n",
      "\n",
      "[0]\ttrain-error:0.003682\teval-error:0.003629\n",
      "Multiple eval metrics have been passed: 'eval-error' will be used for early stopping.\n",
      "\n",
      "Will train until eval-error hasn't improved in 20 rounds.\n",
      "Stopping. Best iteration:\n",
      "[64]\ttrain-error:0.002855\teval-error:0.003021\n",
      "\n",
      "[0]\ttrain-error:0.003677\teval-error:0.00364\n",
      "Multiple eval metrics have been passed: 'eval-error' will be used for early stopping.\n",
      "\n",
      "Will train until eval-error hasn't improved in 20 rounds.\n",
      "[100]\ttrain-error:0.002755\teval-error:0.003037\n",
      "Stopping. Best iteration:\n",
      "[94]\ttrain-error:0.002772\teval-error:0.003028\n",
      "\n",
      "[0]\ttrain-error:0.003682\teval-error:0.003629\n",
      "Multiple eval metrics have been passed: 'eval-error' will be used for early stopping.\n",
      "\n",
      "Will train until eval-error hasn't improved in 20 rounds.\n",
      "[100]\ttrain-error:0.003036\teval-error:0.003086\n",
      "Stopping. Best iteration:\n",
      "[93]\ttrain-error:0.003054\teval-error:0.003071\n",
      "\n",
      "[0]\ttrain-error:0.003682\teval-error:0.003629\n",
      "Multiple eval metrics have been passed: 'eval-error' will be used for early stopping.\n",
      "\n",
      "Will train until eval-error hasn't improved in 20 rounds.\n",
      "[100]\ttrain-error:0.003034\teval-error:0.003078\n",
      "Stopping. Best iteration:\n",
      "[93]\ttrain-error:0.003041\teval-error:0.003064\n",
      "\n",
      "[0]\ttrain-error:0.003682\teval-error:0.003629\n",
      "Multiple eval metrics have been passed: 'eval-error' will be used for early stopping.\n",
      "\n",
      "Will train until eval-error hasn't improved in 20 rounds.\n",
      "Stopping. Best iteration:\n",
      "[67]\ttrain-error:0.002836\teval-error:0.00301\n",
      "\n",
      "[0]\ttrain-error:0.003677\teval-error:0.00364\n",
      "Multiple eval metrics have been passed: 'eval-error' will be used for early stopping.\n",
      "\n",
      "Will train until eval-error hasn't improved in 20 rounds.\n",
      "Stopping. Best iteration:\n",
      "[42]\ttrain-error:0.002923\teval-error:0.003084\n",
      "\n",
      "[0]\ttrain-error:0.003682\teval-error:0.003629\n",
      "Multiple eval metrics have been passed: 'eval-error' will be used for early stopping.\n",
      "\n",
      "Will train until eval-error hasn't improved in 20 rounds.\n",
      "[100]\ttrain-error:0.003036\teval-error:0.003086\n",
      "Stopping. Best iteration:\n",
      "[93]\ttrain-error:0.003054\teval-error:0.003071\n",
      "\n",
      "[0]\ttrain-error:0.003682\teval-error:0.003629\n",
      "Multiple eval metrics have been passed: 'eval-error' will be used for early stopping.\n",
      "\n",
      "Will train until eval-error hasn't improved in 20 rounds.\n",
      "[100]\ttrain-error:0.003034\teval-error:0.003078\n",
      "Stopping. Best iteration:\n",
      "[93]\ttrain-error:0.003041\teval-error:0.003064\n",
      "\n",
      "[0]\ttrain-error:0.003682\teval-error:0.003629\n",
      "Multiple eval metrics have been passed: 'eval-error' will be used for early stopping.\n",
      "\n",
      "Will train until eval-error hasn't improved in 20 rounds.\n",
      "Stopping. Best iteration:\n",
      "[67]\ttrain-error:0.002836\teval-error:0.00301\n",
      "\n",
      "[0]\ttrain-error:0.003677\teval-error:0.00364\n",
      "Multiple eval metrics have been passed: 'eval-error' will be used for early stopping.\n",
      "\n",
      "Will train until eval-error hasn't improved in 20 rounds.\n",
      "Stopping. Best iteration:\n",
      "[42]\ttrain-error:0.002923\teval-error:0.003084\n",
      "\n",
      "[0]\ttrain-error:0.003682\teval-error:0.003629\n",
      "Multiple eval metrics have been passed: 'eval-error' will be used for early stopping.\n",
      "\n",
      "Will train until eval-error hasn't improved in 20 rounds.\n",
      "[100]\ttrain-error:0.003047\teval-error:0.003073\n",
      "Stopping. Best iteration:\n",
      "[89]\ttrain-error:0.003076\teval-error:0.003038\n",
      "\n",
      "[0]\ttrain-error:0.003682\teval-error:0.003629\n",
      "Multiple eval metrics have been passed: 'eval-error' will be used for early stopping.\n",
      "\n",
      "Will train until eval-error hasn't improved in 20 rounds.\n",
      "[100]\ttrain-error:0.003042\teval-error:0.003104\n",
      "Stopping. Best iteration:\n",
      "[127]\ttrain-error:0.002978\teval-error:0.003051\n",
      "\n",
      "[0]\ttrain-error:0.003625\teval-error:0.003613\n",
      "Multiple eval metrics have been passed: 'eval-error' will be used for early stopping.\n",
      "\n",
      "Will train until eval-error hasn't improved in 20 rounds.\n",
      "Stopping. Best iteration:\n",
      "[65]\ttrain-error:0.002845\teval-error:0.003002\n",
      "\n",
      "[0]\ttrain-error:0.003675\teval-error:0.003627\n",
      "Multiple eval metrics have been passed: 'eval-error' will be used for early stopping.\n",
      "\n",
      "Will train until eval-error hasn't improved in 20 rounds.\n",
      "Stopping. Best iteration:\n",
      "[73]\ttrain-error:0.002813\teval-error:0.003031\n",
      "\n",
      "[0]\ttrain-error:0.003682\teval-error:0.003629\n",
      "Multiple eval metrics have been passed: 'eval-error' will be used for early stopping.\n",
      "\n",
      "Will train until eval-error hasn't improved in 20 rounds.\n",
      "[100]\ttrain-error:0.003047\teval-error:0.003073\n",
      "Stopping. Best iteration:\n",
      "[89]\ttrain-error:0.003076\teval-error:0.003038\n",
      "\n",
      "[0]\ttrain-error:0.003682\teval-error:0.003629\n",
      "Multiple eval metrics have been passed: 'eval-error' will be used for early stopping.\n",
      "\n",
      "Will train until eval-error hasn't improved in 20 rounds.\n",
      "[100]\ttrain-error:0.003042\teval-error:0.003104\n",
      "Stopping. Best iteration:\n",
      "[127]\ttrain-error:0.002978\teval-error:0.003051\n",
      "\n",
      "[0]\ttrain-error:0.003625\teval-error:0.003613\n",
      "Multiple eval metrics have been passed: 'eval-error' will be used for early stopping.\n",
      "\n",
      "Will train until eval-error hasn't improved in 20 rounds.\n",
      "Stopping. Best iteration:\n",
      "[65]\ttrain-error:0.002845\teval-error:0.003002\n",
      "\n",
      "[0]\ttrain-error:0.003675\teval-error:0.003627\n",
      "Multiple eval metrics have been passed: 'eval-error' will be used for early stopping.\n",
      "\n",
      "Will train until eval-error hasn't improved in 20 rounds.\n",
      "Stopping. Best iteration:\n",
      "[73]\ttrain-error:0.002813\teval-error:0.003031\n",
      "\n",
      "[0]\ttrain-error:0.003682\teval-error:0.003629\n",
      "Multiple eval metrics have been passed: 'eval-error' will be used for early stopping.\n",
      "\n",
      "Will train until eval-error hasn't improved in 20 rounds.\n",
      "[100]\ttrain-error:0.00305\teval-error:0.003069\n",
      "Stopping. Best iteration:\n",
      "[89]\ttrain-error:0.003077\teval-error:0.003038\n",
      "\n",
      "[0]\ttrain-error:0.003682\teval-error:0.003629\n",
      "Multiple eval metrics have been passed: 'eval-error' will be used for early stopping.\n",
      "\n",
      "Will train until eval-error hasn't improved in 20 rounds.\n",
      "[100]\ttrain-error:0.003035\teval-error:0.00312\n",
      "Stopping. Best iteration:\n",
      "[90]\ttrain-error:0.003058\teval-error:0.00311\n",
      "\n",
      "[0]\ttrain-error:0.003625\teval-error:0.003613\n",
      "Multiple eval metrics have been passed: 'eval-error' will be used for early stopping.\n",
      "\n",
      "Will train until eval-error hasn't improved in 20 rounds.\n",
      "Stopping. Best iteration:\n",
      "[58]\ttrain-error:0.002861\teval-error:0.002994\n",
      "\n",
      "[0]\ttrain-error:0.003675\teval-error:0.003627\n",
      "Multiple eval metrics have been passed: 'eval-error' will be used for early stopping.\n",
      "\n",
      "Will train until eval-error hasn't improved in 20 rounds.\n",
      "Stopping. Best iteration:\n",
      "[61]\ttrain-error:0.002846\teval-error:0.003046\n",
      "\n",
      "[0]\ttrain-error:0.003682\teval-error:0.003629\n",
      "Multiple eval metrics have been passed: 'eval-error' will be used for early stopping.\n",
      "\n"
     ]
    },
    {
     "name": "stdout",
     "output_type": "stream",
     "text": [
      "Will train until eval-error hasn't improved in 20 rounds.\n",
      "[100]\ttrain-error:0.00305\teval-error:0.003069\n",
      "Stopping. Best iteration:\n",
      "[89]\ttrain-error:0.003077\teval-error:0.003038\n",
      "\n",
      "[0]\ttrain-error:0.003682\teval-error:0.003629\n",
      "Multiple eval metrics have been passed: 'eval-error' will be used for early stopping.\n",
      "\n",
      "Will train until eval-error hasn't improved in 20 rounds.\n",
      "[100]\ttrain-error:0.003035\teval-error:0.00312\n",
      "Stopping. Best iteration:\n",
      "[90]\ttrain-error:0.003058\teval-error:0.00311\n",
      "\n",
      "[0]\ttrain-error:0.003625\teval-error:0.003613\n",
      "Multiple eval metrics have been passed: 'eval-error' will be used for early stopping.\n",
      "\n",
      "Will train until eval-error hasn't improved in 20 rounds.\n",
      "Stopping. Best iteration:\n",
      "[58]\ttrain-error:0.002861\teval-error:0.002994\n",
      "\n",
      "[0]\ttrain-error:0.003675\teval-error:0.003627\n",
      "Multiple eval metrics have been passed: 'eval-error' will be used for early stopping.\n",
      "\n",
      "Will train until eval-error hasn't improved in 20 rounds.\n",
      "Stopping. Best iteration:\n",
      "[61]\ttrain-error:0.002846\teval-error:0.003046\n",
      "\n",
      "\n"
     ]
    }
   ],
   "source": [
    "print('XGBoost with grid search and early stopping')\n",
    "# \n",
    "evallist = [(dtrain, 'train'), (dval, 'eval')]\n",
    "num_round = 250\n",
    "models = []\n",
    "\n",
    "for chunk_params in tqdm_notebook([{k:v for k, v in x} for x in cv_params_list]):\n",
    "    i_params = chunk_params.copy()\n",
    "    i_params['n_jobs'] = 16\n",
    "    i_params['objective'] = 'binary:logistic'\n",
    "    bst = xgb.train(i_params, dtrain, num_round, evallist, verbose_eval=100, early_stopping_rounds = 20)\n",
    "    models.append((chunk_params, bst))"
   ]
  },
  {
   "cell_type": "code",
   "execution_count": 86,
   "metadata": {},
   "outputs": [],
   "source": [
    "from sklearn.metrics import roc_auc_score"
   ]
  },
  {
   "cell_type": "code",
   "execution_count": 124,
   "metadata": {},
   "outputs": [
    {
     "name": "stdout",
     "output_type": "stream",
     "text": [
      "0 0.9704324466873154\n",
      "1 0.9703810300955136\n",
      "2 0.9710333956722436\n",
      "3 0.9709251706344146\n",
      "4 0.9704324466873154\n",
      "5 0.9703810300955136\n",
      "6 0.9710333956722436\n",
      "7 0.9709251706344146\n",
      "8 0.9705974924834623\n",
      "9 0.9704145120931789\n",
      "10 0.9712938856512467\n",
      "11 0.9704445573355049\n",
      "12 0.9705974924834623\n",
      "13 0.9704145120931789\n",
      "14 0.9712938856512467\n",
      "15 0.9704445573355049\n",
      "16 0.9711788472703512\n",
      "17 0.9713224253094613\n",
      "18 0.9716453218776682\n",
      "19 0.9714534164702587\n",
      "20 0.9711788472703512\n",
      "21 0.9713224253094613\n",
      "22 0.9716453218776682\n",
      "23 0.9714534164702587\n",
      "24 0.9713626103041888\n",
      "25 0.9711393336439436\n",
      "26 0.9712842783473541\n",
      "27 0.9719205963627728\n",
      "28 0.9713626103041888\n",
      "29 0.9711393336439436\n",
      "30 0.9712842783473541\n",
      "31 0.9719205963627728\n"
     ]
    }
   ],
   "source": [
    "aucs = []\n",
    "for n, (_, m) in enumerate(models):\n",
    "    auc = roc_auc_score(dval.get_label(), m.predict(dval))\n",
    "    aucs.append(auc)\n",
    "    print(n, auc)"
   ]
  },
  {
   "cell_type": "code",
   "execution_count": 97,
   "metadata": {},
   "outputs": [
    {
     "data": {
      "text/plain": [
       "{'age_diff': 194,\n",
       " 'amnt2chnls': 162,\n",
       " 'amount': 163,\n",
       " 'cat_new_ip': 47,\n",
       " 'cat_new_prov': 37,\n",
       " 'cdf_s_127': 43,\n",
       " 'cdf_s_129': 43,\n",
       " 'cdf_s_130': 66,\n",
       " 'cdf_s_133': 31,\n",
       " 'cdf_s_134': 47,\n",
       " 'cdf_s_135': 26,\n",
       " 'channel_indicator_desc_is_MOBILEAPI': 8,\n",
       " 'channel_indicator_desc_is_WEBAPI': 9,\n",
       " 'client_age': 254,\n",
       " 'client_region': 85,\n",
       " 'cumulative_sum_total': 144,\n",
       " 'data_i_120': 67,\n",
       " 'data_i_154': 120,\n",
       " 'event_day': 56,\n",
       " 'event_day_is_weekend': 2,\n",
       " 'event_hour': 78,\n",
       " 'event_hour_night': 6,\n",
       " 'ip_isp': 117,\n",
       " 'know_recip_card_age': 8,\n",
       " 'know_recip_power': 75,\n",
       " 'krp_pow2': 31,\n",
       " 'log_amount': 53,\n",
       " 'one_region': 25,\n",
       " 'op_type': 36,\n",
       " 'recip_card_age': 18,\n",
       " 'relative': 12,\n",
       " 'transfer_age_diff': 57,\n",
       " 'transfer_for_relative': 5,\n",
       " 'transfer_know_recip_squared': 15,\n",
       " 'user_id_CRM': 1,\n",
       " 'user_id_MBK': 8,\n",
       " 'user_id_digit_only': 7}"
      ]
     },
     "execution_count": 97,
     "metadata": {},
     "output_type": "execute_result"
    }
   ],
   "source": [
    "bst.get_score()"
   ]
  },
  {
   "cell_type": "code",
   "execution_count": 121,
   "metadata": {},
   "outputs": [],
   "source": [
    "folder = '../../data/models/simple_baseline/v1/'\n",
    "!mkdir -p $folder"
   ]
  },
  {
   "cell_type": "code",
   "execution_count": 122,
   "metadata": {},
   "outputs": [],
   "source": [
    "with open(folder + 'models.pkl', 'wb') as f:\n",
    "    pickle.dump(models, f)"
   ]
  },
  {
   "cell_type": "code",
   "execution_count": 134,
   "metadata": {},
   "outputs": [
    {
     "data": {
      "text/plain": [
       "{'colsample_bytree': 0.7,\n",
       " 'max_depth': 5,\n",
       " 'n_estimators': 150,\n",
       " 'reg_alpha': 0.03,\n",
       " 'subsample': 0.6}"
      ]
     },
     "execution_count": 134,
     "metadata": {},
     "output_type": "execute_result"
    }
   ],
   "source": [
    "models[27][0]"
   ]
  },
  {
   "cell_type": "code",
   "execution_count": 133,
   "metadata": {},
   "outputs": [
    {
     "data": {
      "image/png": "[encoded data removed]",
      "text/plain": [
       "<matplotlib.figure.Figure at 0x7f72c8f0fe80>"
      ]
     },
     "metadata": {},
     "output_type": "display_data"
    },
    {
     "data": {
      "text/plain": [
       "0.41220502375777257"
      ]
     },
     "execution_count": 133,
     "metadata": {},
     "output_type": "execute_result"
    }
   ],
   "source": [
    "y_val = dval.get_label()\n",
    "preds = models[27][1].predict(dval)\n",
    "average_precision = average_precision_score(y_val, preds)\n",
    "precision, recall, thresholds = precision_recall_curve(y_val, preds)\n",
    "\n",
    "plt.step(recall, precision, color='b', alpha=0.2,\n",
    "         where='post')\n",
    "plt.fill_between(recall, precision, step='post', alpha=0.2,\n",
    "                 color='b')\n",
    "\n",
    "plt.xlabel('Recall')\n",
    "plt.ylabel('Precision')\n",
    "plt.ylim([0.0, 1.05])\n",
    "plt.xlim([0.0, 1.0])\n",
    "plt.title('2-class Precision-Recall curve: AP={0:0.2f}'.format(\n",
    "          average_precision))\n",
    "plt.show()\n",
    "\n",
    "metrics.auc(recall, precision)"
   ]
  }
 ],
 "metadata": {
  "kernelspec": {
   "display_name": "Python 3",
   "language": "python",
   "name": "python3"
  },
  "language_info": {
   "codemirror_mode": {
    "name": "ipython",
    "version": 3
   },
   "file_extension": ".py",
   "mimetype": "text/x-python",
   "name": "python",
   "nbconvert_exporter": "python",
   "pygments_lexer": "ipython3",
   "version": "3.6.4"
  }
 },
 "nbformat": 4,
 "nbformat_minor": 2
}
