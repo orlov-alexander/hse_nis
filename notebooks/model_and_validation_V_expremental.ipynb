{
 "cells": [
  {
   "cell_type": "code",
   "execution_count": 129,
   "metadata": {},
   "outputs": [],
   "source": [
    "import pandas as pd\n",
    "import numpy as np\n",
    "import datetime\n",
    "import sklearn\n",
    "from sklearn.model_selection import TimeSeriesSplit\n",
    "\n",
    "from collections import Counter\n",
    "from sklearn.base import BaseEstimator\n",
    "from tqdm import trange\n",
    "from imblearn.combine import SMOTETomek\n",
    "from sklearn.linear_model import LogisticRegression\n",
    "import copy\n",
    "\n",
    "from sklearn.metrics import average_precision_score\n",
    "from sklearn.metrics import precision_recall_curve\n",
    "import matplotlib.pyplot as plt\n",
    "%matplotlib inline\n",
    "from sklearn.metrics import precision_recall_curve\n",
    "import matplotlib.pyplot as plt\n",
    "from sklearn import metrics\n",
    "from sklearn.metrics import f1_score\n",
    "from sklearn.model_selection import GridSearchCV\n",
    "from imblearn.pipeline import make_pipeline, Pipeline\n",
    "\n",
    "from xgboost import XGBClassifier"
   ]
  },
  {
   "cell_type": "code",
   "execution_count": 166,
   "metadata": {},
   "outputs": [
    {
     "data": {
      "text/plain": [
       "22       2017-11-08\n",
       "41       2017-11-16\n",
       "134      2017-11-01\n",
       "135      2017-11-01\n",
       "150      2017-11-01\n",
       "215      2017-11-07\n",
       "336      2017-11-14\n",
       "369      2017-11-27\n",
       "386      2017-11-01\n",
       "400      2017-11-15\n",
       "420      2017-11-19\n",
       "421      2017-11-01\n",
       "484      2017-11-12\n",
       "516      2017-11-10\n",
       "634      2017-11-25\n",
       "652      2017-11-22\n",
       "700      2017-11-26\n",
       "701      2017-11-16\n",
       "702      2017-11-26\n",
       "817      2017-11-03\n",
       "1044     2017-11-10\n",
       "1144     2017-11-07\n",
       "1363     2017-11-27\n",
       "1372     2017-11-07\n",
       "1396     2017-11-08\n",
       "1445     2017-11-20\n",
       "1460     2017-11-27\n",
       "1618     2017-11-13\n",
       "1631     2017-11-17\n",
       "1646     2017-10-30\n",
       "            ...    \n",
       "69539    2017-11-11\n",
       "69544    2017-11-11\n",
       "69626    2017-11-13\n",
       "69646    2017-11-14\n",
       "69647    2017-11-27\n",
       "69789    2017-11-23\n",
       "69790    2017-11-23\n",
       "69791    2017-11-23\n",
       "69794    2017-11-23\n",
       "69796    2017-11-23\n",
       "69964    2017-11-10\n",
       "70081    2017-11-04\n",
       "70104    2017-11-08\n",
       "70110    2017-11-14\n",
       "70180    2017-11-09\n",
       "70198    2017-11-23\n",
       "70206    2017-11-19\n",
       "70227    2017-11-13\n",
       "70419    2017-11-12\n",
       "71138    2017-11-06\n",
       "71220    2017-11-20\n",
       "71319    2017-11-21\n",
       "71340    2017-11-07\n",
       "71372    2017-10-31\n",
       "71409    2017-11-02\n",
       "71449    2017-11-21\n",
       "71652    2017-11-09\n",
       "71668    2017-10-31\n",
       "71680    2017-11-26\n",
       "71748    2017-11-02\n",
       "Name: TS_indexer, Length: 77143, dtype: object"
      ]
     },
     "execution_count": 166,
     "metadata": {},
     "output_type": "execute_result"
    }
   ],
   "source": [
    "data.TS_indexer"
   ]
  },
  {
   "cell_type": "code",
   "execution_count": 283,
   "metadata": {},
   "outputs": [],
   "source": [
    "class forget_model(BaseEstimator):\n",
    "    def __init__(self, model=LogisticRegression(),n_splits=4, balance=None):\n",
    "        self._models = [] # лист, в котором будут храниться обученные модели для каждого сплита\n",
    "        self.n_splits = n_splits # число сплитов\n",
    "        self.balance = balance # должен поддерживать большинство \n",
    "        # методов из imbalanced-learn, которые поддерживают fit_sample\n",
    "        self.model = model # модели, поддерживающие fit, predict и predict_proba\n",
    "        self.data = []\n",
    "    # inputs - уникальные значения дат\n",
    "    def _iterate_megabatches(self, inputs, n_splits): # делает разбиение по времени без пересечений\n",
    "        batchsize = len(inputs)//n_splits\n",
    "        for start_idx in trange(0, len(inputs) - batchsize + 1, batchsize):\n",
    "            excerpt = np.arange(start_idx, start_idx + batchsize)\n",
    "            yield inputs[excerpt]\n",
    "    \n",
    "    # X - это весь датафрейм за два месяца ВМЕСТЕ с таргетом\n",
    "    def fit(self, Z, y):\n",
    "        if type(Z) == pd.core.frame.DataFrame:\n",
    "            pass\n",
    "        else:\n",
    "            X = pd.DataFrame(Z, columns = np.array(['user_id', 'label', 'amount', 'client_age', 'cat_new_ip',\n",
    "                                                              'cat_new_prov', 'channel_op', 'op_type', 'recip_age', 'age_diff',\n",
    "                                                              'cumulative_sum_total', 'data_i_120', 'relative',\n",
    "                                                              'know_recip_power', 'cdf_s_127', 'cdf_s_135', 'cdf_s_130',\n",
    "                                                              'cdf_s_129', 'cdf_s_134', 'data_i_154', 'cdf_s_133',\n",
    "                                                              'know_recip_card_age', 'recip_card_age', 'one_region', 'krp_pow2',\n",
    "                                                              'log_amount', 'ip_isp', 'amnt2chnls', 'short_date', 'TS_indexer']))\n",
    "            X.label = np.array(X.label.values, dtype=int)\n",
    "            X.TS_indexer = np.array(X.TS_indexer.values, dtype=object)\n",
    "        models = [] # пустой список моделей\n",
    "        batch_df_i_neg = pd.DataFrame() # заготовки для не фрода в итом сплите\n",
    "        batch_df_pos = pd.DataFrame() #  заготовка для фрода\n",
    "        unique_TS_split = np.array(sorted(X.TS_indexer.unique())) # получаем число уникальных дат\n",
    "        \n",
    "        for train_index in self._iterate_megabatches(inputs=unique_TS_split, n_splits=self.n_splits): \n",
    "            batch_df_i_old_neg = batch_df_i_neg # сохраняем прошлуб базу не фрода\n",
    "            batch_df_i = X[X.TS_indexer.isin(train_index)] # получаем базу данных итого сплита\n",
    "            batch_df_i_pos = batch_df_i[batch_df_i.label==1] #  разбиваем ее на фрод\n",
    "            batch_df_i_neg = batch_df_i[batch_df_i.label==0] #  и не фрод\n",
    "            batch_df_pos = pd.concat([batch_df_pos, batch_df_i_pos]) # получаем данные не фрода для обучения\n",
    "            batch_df_neg = pd.concat([batch_df_i_old_neg, batch_df_i_neg]) # получаем данные фрода для обучения\n",
    "            df_i = pd.concat([batch_df_pos, batch_df_neg]) #  объединяем фрод и не фрод\n",
    "            X_df_i = df_i.drop(['label', 'short_date','TS_indexer', 'user_id'], axis=1) #  выделяем обучение\n",
    "            y_df_i = df_i.label #  и таргет\n",
    "            if self.balance is None: #  без балансировки просто продолжаем\n",
    "                pass\n",
    "            else: \n",
    "                balancing = self.balance \n",
    "                X_df_balanced_i, y_df_balanced_i = balancing.fit_sample(X_df_i.values, y_df_i.values) # делаем перебалансировку\n",
    "                X_df_i = X_df_balanced_i\n",
    "                y_df_i = y_df_balanced_i\n",
    "            self.data.append(df_i)\n",
    "            model_i = copy.copy(self.model) # итая модель\n",
    "            model_i.fit(X_df_i.values, y_df_i.values) # обучаем итую модель\n",
    "\n",
    "            \n",
    "            models.append(copy.copy(model_i)) #  сохраняем ее в лист\n",
    "        self._models = copy.copy(models) #  возвращаем в селф\n",
    "\n",
    "\n",
    "    def predict(self, X_test2):\n",
    "        if X_test2.shape[1] == 30:                \n",
    "            if type(X_test2) == pd.core.frame.DataFrame:\n",
    "                X_test = X_test2\n",
    "            else:\n",
    "                X_test = pd.DataFrame(X_test2, columns = np.array(['user_id', 'label', 'amount', 'client_age', 'cat_new_ip',\n",
    "                                                                  'cat_new_prov', 'channel_op', 'op_type', 'recip_age', 'age_diff',\n",
    "                                                                  'cumulative_sum_total', 'data_i_120', 'relative',\n",
    "                                                                  'know_recip_power', 'cdf_s_127', 'cdf_s_135', 'cdf_s_130',\n",
    "                                                                  'cdf_s_129', 'cdf_s_134', 'data_i_154', 'cdf_s_133',\n",
    "                                                                  'know_recip_card_age', 'recip_card_age', 'one_region', 'krp_pow2',\n",
    "                                                                  'log_amount', 'ip_isp', 'amnt2chnls', 'short_date', 'TS_indexer']))\n",
    "            X_test = X_test.drop(['label', 'short_date','TS_indexer', 'user_id'], axis=1)\n",
    "        else:\n",
    "            if type(X_test2) == pd.core.frame.DataFrame:\n",
    "                X_test = X_test2\n",
    "            else:\n",
    "                X_test = pd.DataFrame(X_test2, columns = np.array(['amount', 'client_age', 'cat_new_ip',\n",
    "                                                                  'cat_new_prov', 'channel_op', 'op_type', 'recip_age', 'age_diff',\n",
    "                                                                  'cumulative_sum_total', 'data_i_120', 'relative',\n",
    "                                                                  'know_recip_power', 'cdf_s_127', 'cdf_s_135', 'cdf_s_130',\n",
    "                                                                  'cdf_s_129', 'cdf_s_134', 'data_i_154', 'cdf_s_133',\n",
    "                                                                  'know_recip_card_age', 'recip_card_age', 'one_region', 'krp_pow2',\n",
    "                                                                  'log_amount', 'ip_isp', 'amnt2chnls']))     \n",
    "        pr = np.zeros(len(X_test)) # заготовка\n",
    "        if self.n_splits==1:\n",
    "            predictions = self._models[0].predict(X_test.values)\n",
    "        else:\n",
    "            for model_i in self._models:\n",
    "                pr_i = model_i.predict(X_test.values) # предсказания итой модели\n",
    "                pr = np.vstack([pr,pr_i]) # объединяем предсказания\n",
    "            predictions = np.array([Counter(x).most_common(1)[0][0] for x in pr[1:].T]) #  простое голосвание\n",
    "        return predictions\n",
    "    \n",
    "    def predict_proba(self, X_test2):\n",
    "        if X_test2.shape[1] == 30:                \n",
    "            if type(X_test2) == pd.core.frame.DataFrame:\n",
    "                X_test = X_test2\n",
    "            else:\n",
    "                X_test = pd.DataFrame(X_test2, columns = np.array(['user_id', 'label', 'amount', 'client_age', 'cat_new_ip',\n",
    "                                                                  'cat_new_prov', 'channel_op', 'op_type', 'recip_age', 'age_diff',\n",
    "                                                                  'cumulative_sum_total', 'data_i_120', 'relative',\n",
    "                                                                  'know_recip_power', 'cdf_s_127', 'cdf_s_135', 'cdf_s_130',\n",
    "                                                                  'cdf_s_129', 'cdf_s_134', 'data_i_154', 'cdf_s_133',\n",
    "                                                                  'know_recip_card_age', 'recip_card_age', 'one_region', 'krp_pow2',\n",
    "                                                                  'log_amount', 'ip_isp', 'amnt2chnls', 'short_date', 'TS_indexer']))\n",
    "            X_test = X_test.drop(['label', 'short_date','TS_indexer', 'user_id'], axis=1)\n",
    "        else:\n",
    "            if type(X_test2) == pd.core.frame.DataFrame:\n",
    "                X_test = X_test2\n",
    "            else:\n",
    "                X_test = pd.DataFrame(X_test2, columns = np.array(['amount', 'client_age', 'cat_new_ip',\n",
    "                                                                  'cat_new_prov', 'channel_op', 'op_type', 'recip_age', 'age_diff',\n",
    "                                                                  'cumulative_sum_total', 'data_i_120', 'relative',\n",
    "                                                                  'know_recip_power', 'cdf_s_127', 'cdf_s_135', 'cdf_s_130',\n",
    "                                                                  'cdf_s_129', 'cdf_s_134', 'data_i_154', 'cdf_s_133',\n",
    "                                                                  'know_recip_card_age', 'recip_card_age', 'one_region', 'krp_pow2',\n",
    "                                                                  'log_amount', 'ip_isp', 'amnt2chnls']))\n",
    "\n",
    "        pr = np.array([np.zeros(len(X_test))]*2).T #заготовка\n",
    "        if self.n_splits==1:\n",
    "            predictions = self._models[0].predict_proba(X_test.values)\n",
    "        else:\n",
    "            for model_i in self._models:\n",
    "                pr_i = model_i.predict_proba(X_test.values) #  получаем вероятности итой модели\n",
    "                pr = np.sum([pr, pr_i], axis = 0) \n",
    "            predictions = pr/len(self._models) #  получаем усредненные вероятности\n",
    "        return predictions\n",
    "\n",
    "\n",
    "def train_val_ts_split(X, th=0.7, split_target=None): # X - датафрейм, в котором есть  TS_indexer\n",
    "    unique_TS_split = np.array(sorted(X.TS_indexer.unique()))\n",
    "    batchsize = int(len(unique_TS_split)*th)\n",
    "    excerpt_train = np.arange(0, batchsize)\n",
    "    excerpt_val =  np.arange(batchsize, len(unique_TS_split))\n",
    "    d_train =  X[X.TS_indexer.isin(unique_TS_split[excerpt_train])]\n",
    "    d_val = X[X.TS_indexer.isin(unique_TS_split[excerpt_val])]\n",
    "    if split_target is None:\n",
    "        return d_train, d_val\n",
    "    else:\n",
    "        return d_train.drop('label', axis=1), d_train.label, d_val.drop('label', axis=1), d_val.label"
   ]
  },
  {
   "cell_type": "markdown",
   "metadata": {},
   "source": [
    "Загружаем данные с фичами."
   ]
  },
  {
   "cell_type": "code",
   "execution_count": 138,
   "metadata": {},
   "outputs": [],
   "source": [
    "data = pd.read_csv(\"../data/coms_sep/train.csv\", index_col=0)\n",
    "\n",
    "data['TS_indexer'] = data.short_date\n",
    "data.fillna(0, inplace=True)\n",
    "data.drop(['event_id', 'event_time'], axis = 1, inplace=True)"
   ]
  },
  {
   "cell_type": "markdown",
   "metadata": {},
   "source": [
    "Разбиваем на трейн и валидацию."
   ]
  },
  {
   "cell_type": "code",
   "execution_count": 284,
   "metadata": {},
   "outputs": [],
   "source": [
    "X_train, X_val = train_val_ts_split(data , th=0.7, split_target=None)\n",
    "y_val = X_val['label'].values\n",
    "y_train = X_train['label'].values\n",
    "x_train = X_train.drop(['label', 'short_date','TS_indexer', 'user_id'], axis=1)"
   ]
  },
  {
   "cell_type": "markdown",
   "metadata": {},
   "source": [
    "Трейн разбиваем на фолды для временной кросс-валидации."
   ]
  },
  {
   "cell_type": "code",
   "execution_count": 140,
   "metadata": {},
   "outputs": [],
   "source": [
    "unique_TS_split_train = np.array(sorted(X_train.TS_indexer.unique()))"
   ]
  },
  {
   "cell_type": "code",
   "execution_count": 143,
   "metadata": {},
   "outputs": [],
   "source": [
    "tscv = TimeSeriesSplit(n_splits=3, max_train_size=21)"
   ]
  },
  {
   "cell_type": "code",
   "execution_count": 144,
   "metadata": {},
   "outputs": [
    {
     "name": "stdout",
     "output_type": "stream",
     "text": [
      "TRAIN LEN: 6 TEST LEN: 5\n",
      "TRAIN LEN: 11 TEST LEN: 5\n",
      "TRAIN LEN: 16 TEST LEN: 5\n"
     ]
    }
   ],
   "source": [
    "for train_index, test_index in tscv.split(unique_TS_split_train):\n",
    "    print(\"TRAIN LEN:\", len(unique_TS_split_train[train_index]), \"TEST LEN:\", len(unique_TS_split_train[test_index]))"
   ]
  },
  {
   "cell_type": "markdown",
   "metadata": {},
   "source": [
    "Делаем разбиение для кросс-валидации."
   ]
  },
  {
   "cell_type": "code",
   "execution_count": 145,
   "metadata": {},
   "outputs": [],
   "source": [
    "X_train_id = X_train.reset_index(drop=True)\n",
    "\n",
    "temp_TS_cv = [\n",
    "    (X_train_id[X_train_id.TS_indexer.isin(unique_TS_split_train[train_index])].index.tolist(), \n",
    "     X_train_id[X_train_id.TS_indexer.isin(unique_TS_split_train[test_index])].index.tolist()) for (train_index, test_index) in tscv.split(unique_TS_split_train) if len(train_index)>=2]\n",
    "\n",
    "completed_TS_cv = [(train, test) for (train, test) in temp_TS_cv if X_train_id.iloc[test].label.sum() >= 1]"
   ]
  },
  {
   "cell_type": "code",
   "execution_count": 146,
   "metadata": {},
   "outputs": [
    {
     "data": {
      "text/plain": [
       "3"
      ]
     },
     "execution_count": 146,
     "metadata": {},
     "output_type": "execute_result"
    }
   ],
   "source": [
    "len(completed_TS_cv)"
   ]
  },
  {
   "cell_type": "code",
   "execution_count": 147,
   "metadata": {},
   "outputs": [
    {
     "name": "stdout",
     "output_type": "stream",
     "text": [
      "Train period: 2017-10-30 - 2017-11-04\n",
      "Test period: 2017-11-05 - 2017-11-09\n",
      "\r\n",
      "\n",
      "Train period: 2017-10-30 - 2017-11-09\n",
      "Test period: 2017-11-10 - 2017-11-14\n",
      "\r\n",
      "\n",
      "Train period: 2017-10-30 - 2017-11-14\n",
      "Test period: 2017-11-15 - 2017-11-19\n",
      "\r\n",
      "\n"
     ]
    }
   ],
   "source": [
    "for i in range(len(completed_TS_cv)):\n",
    "    print(\"Train period: \" + str(X_train_id.loc[completed_TS_cv[i][0]].short_date.min())+' - '+str(X_train_id.loc[completed_TS_cv[i][0]].short_date.max()))\n",
    "    print(\"Test period: \" + str(X_train_id.loc[completed_TS_cv[i][1]].short_date.min())+' - '+str(X_train_id.loc[completed_TS_cv[i][1]].short_date.max()))\n",
    "    print(\"\\r\\n\")"
   ]
  },
  {
   "cell_type": "code",
   "execution_count": 37,
   "metadata": {},
   "outputs": [],
   "source": [
    "smotek = SMOTETomek(random_state=42)\n",
    "xgb = XGBClassifier(n_jobs=10)\n",
    "smotkxgb = Pipeline([('smt', smotek), ('xgb', xgb)] \n",
    "                    ,memory=\"../data/cashed_gs/\" \n",
    "                   )"
   ]
  },
  {
   "cell_type": "code",
   "execution_count": 38,
   "metadata": {},
   "outputs": [
    {
     "name": "stdout",
     "output_type": "stream",
     "text": [
      "Model with grid search\n"
     ]
    }
   ],
   "source": [
    "print('Model with grid search')\n",
    "# \n",
    "params={\n",
    "    'xgb__max_depth': [3, 5, 8], \n",
    "    'xgb__subsample': [0.4, 0.6], \n",
    "    'xgb__colsample_bytree': [0.5, 0.7], \n",
    "    'xgb__n_estimators': [150, 250],\n",
    "    'xgb__reg_alpha': [0.01, 0.03] \n",
    "}\n",
    "\n",
    "fm = smotkxgb\n",
    "rs = GridSearchCV(fm,\n",
    "                  params,\n",
    "                  cv=completed_TS_cv,\n",
    "                  scoring=\"neg_log_loss\",\n",
    "                  n_jobs=10,\n",
    "                  verbose=2)"
   ]
  },
  {
   "cell_type": "code",
   "execution_count": 39,
   "metadata": {},
   "outputs": [],
   "source": [
    "X = X_train_id.drop(['user_id' ,'short_date','TS_indexer', 'label'], axis=1).as_matrix()"
   ]
  },
  {
   "cell_type": "code",
   "execution_count": 290,
   "metadata": {},
   "outputs": [
    {
     "name": "stdout",
     "output_type": "stream",
     "text": [
      "Fitting 3 folds for each of 48 candidates, totalling 144 fits\n",
      "[CV] xgb__colsample_bytree=0.5, xgb__max_depth=3, xgb__n_estimators=150, xgb__reg_alpha=0.01, xgb__subsample=0.4 \n",
      "[CV] xgb__colsample_bytree=0.5, xgb__max_depth=3, xgb__n_estimators=150, xgb__reg_alpha=0.01, xgb__subsample=0.4 \n",
      "[CV] xgb__colsample_bytree=0.5, xgb__max_depth=3, xgb__n_estimators=150, xgb__reg_alpha=0.01, xgb__subsample=0.4 \n",
      "[CV] xgb__colsample_bytree=0.5, xgb__max_depth=3, xgb__n_estimators=150, xgb__reg_alpha=0.01, xgb__subsample=0.6 \n",
      "[CV] xgb__colsample_bytree=0.5, xgb__max_depth=3, xgb__n_estimators=150, xgb__reg_alpha=0.01, xgb__subsample=0.6 \n",
      "[CV]  xgb__colsample_bytree=0.5, xgb__max_depth=3, xgb__n_estimators=150, xgb__reg_alpha=0.01, xgb__subsample=0.4, total=   1.2s\n",
      "[CV] xgb__colsample_bytree=0.5, xgb__max_depth=3, xgb__n_estimators=150, xgb__reg_alpha=0.01, xgb__subsample=0.6 \n",
      "[CV] xgb__colsample_bytree=0.5, xgb__max_depth=3, xgb__n_estimators=150, xgb__reg_alpha=0.03, xgb__subsample=0.4 \n",
      "[CV] xgb__colsample_bytree=0.5, xgb__max_depth=3, xgb__n_estimators=150, xgb__reg_alpha=0.03, xgb__subsample=0.4 \n",
      "[CV] xgb__colsample_bytree=0.5, xgb__max_depth=3, xgb__n_estimators=150, xgb__reg_alpha=0.03, xgb__subsample=0.4 \n",
      "[CV] xgb__colsample_bytree=0.5, xgb__max_depth=3, xgb__n_estimators=150, xgb__reg_alpha=0.03, xgb__subsample=0.6 \n",
      "[CV] xgb__colsample_bytree=0.5, xgb__max_depth=3, xgb__n_estimators=150, xgb__reg_alpha=0.03, xgb__subsample=0.6 \n",
      "[CV]  xgb__colsample_bytree=0.5, xgb__max_depth=3, xgb__n_estimators=150, xgb__reg_alpha=0.01, xgb__subsample=0.4, total=   4.3s\n",
      "[CV]  xgb__colsample_bytree=0.5, xgb__max_depth=3, xgb__n_estimators=150, xgb__reg_alpha=0.01, xgb__subsample=0.6, total=   4.1s\n",
      "[CV] xgb__colsample_bytree=0.5, xgb__max_depth=3, xgb__n_estimators=150, xgb__reg_alpha=0.03, xgb__subsample=0.6 \n",
      "[CV] xgb__colsample_bytree=0.5, xgb__max_depth=3, xgb__n_estimators=250, xgb__reg_alpha=0.01, xgb__subsample=0.4 \n",
      "[CV]  xgb__colsample_bytree=0.5, xgb__max_depth=3, xgb__n_estimators=150, xgb__reg_alpha=0.03, xgb__subsample=0.4, total=   4.8s\n",
      "[CV] xgb__colsample_bytree=0.5, xgb__max_depth=3, xgb__n_estimators=250, xgb__reg_alpha=0.01, xgb__subsample=0.4 \n",
      "[CV]  xgb__colsample_bytree=0.5, xgb__max_depth=3, xgb__n_estimators=150, xgb__reg_alpha=0.01, xgb__subsample=0.6, total=   6.9s\n",
      "[CV] xgb__colsample_bytree=0.5, xgb__max_depth=3, xgb__n_estimators=250, xgb__reg_alpha=0.01, xgb__subsample=0.4 \n",
      "[CV]  xgb__colsample_bytree=0.5, xgb__max_depth=3, xgb__n_estimators=150, xgb__reg_alpha=0.03, xgb__subsample=0.6, total=   5.3s\n",
      "[CV] xgb__colsample_bytree=0.5, xgb__max_depth=3, xgb__n_estimators=250, xgb__reg_alpha=0.01, xgb__subsample=0.6 \n",
      "[CV]  xgb__colsample_bytree=0.5, xgb__max_depth=3, xgb__n_estimators=150, xgb__reg_alpha=0.01, xgb__subsample=0.4, total=   8.4s\n",
      "[CV] xgb__colsample_bytree=0.5, xgb__max_depth=3, xgb__n_estimators=250, xgb__reg_alpha=0.01, xgb__subsample=0.6 \n",
      "[CV]  xgb__colsample_bytree=0.5, xgb__max_depth=3, xgb__n_estimators=150, xgb__reg_alpha=0.03, xgb__subsample=0.4, total=   8.1s\n",
      "[CV] xgb__colsample_bytree=0.5, xgb__max_depth=3, xgb__n_estimators=250, xgb__reg_alpha=0.01, xgb__subsample=0.6 \n",
      "[CV]  xgb__colsample_bytree=0.5, xgb__max_depth=3, xgb__n_estimators=150, xgb__reg_alpha=0.03, xgb__subsample=0.6, total=   8.3s\n",
      "[CV] xgb__colsample_bytree=0.5, xgb__max_depth=3, xgb__n_estimators=250, xgb__reg_alpha=0.03, xgb__subsample=0.4 \n",
      "[CV]  xgb__colsample_bytree=0.5, xgb__max_depth=3, xgb__n_estimators=150, xgb__reg_alpha=0.01, xgb__subsample=0.6, total=  11.2s\n",
      "[CV] xgb__colsample_bytree=0.5, xgb__max_depth=3, xgb__n_estimators=250, xgb__reg_alpha=0.03, xgb__subsample=0.4 \n",
      "[CV]  xgb__colsample_bytree=0.5, xgb__max_depth=3, xgb__n_estimators=150, xgb__reg_alpha=0.03, xgb__subsample=0.4, total=  10.4s\n",
      "[CV] xgb__colsample_bytree=0.5, xgb__max_depth=3, xgb__n_estimators=250, xgb__reg_alpha=0.03, xgb__subsample=0.4 \n",
      "[CV]  xgb__colsample_bytree=0.5, xgb__max_depth=3, xgb__n_estimators=250, xgb__reg_alpha=0.01, xgb__subsample=0.4, total=   9.5s\n",
      "[CV] xgb__colsample_bytree=0.5, xgb__max_depth=3, xgb__n_estimators=250, xgb__reg_alpha=0.03, xgb__subsample=0.6 \n",
      "[CV]  xgb__colsample_bytree=0.5, xgb__max_depth=3, xgb__n_estimators=150, xgb__reg_alpha=0.03, xgb__subsample=0.6, total=  10.9s\n",
      "[CV] xgb__colsample_bytree=0.5, xgb__max_depth=3, xgb__n_estimators=250, xgb__reg_alpha=0.03, xgb__subsample=0.6 \n",
      "[CV]  xgb__colsample_bytree=0.5, xgb__max_depth=3, xgb__n_estimators=250, xgb__reg_alpha=0.01, xgb__subsample=0.6, total=   8.3s\n",
      "[CV] xgb__colsample_bytree=0.5, xgb__max_depth=3, xgb__n_estimators=250, xgb__reg_alpha=0.03, xgb__subsample=0.6 \n",
      "[CV]  xgb__colsample_bytree=0.5, xgb__max_depth=3, xgb__n_estimators=250, xgb__reg_alpha=0.01, xgb__subsample=0.6, total=   8.7s\n",
      "[CV] xgb__colsample_bytree=0.5, xgb__max_depth=5, xgb__n_estimators=150, xgb__reg_alpha=0.01, xgb__subsample=0.4 \n",
      "[CV]  xgb__colsample_bytree=0.5, xgb__max_depth=3, xgb__n_estimators=250, xgb__reg_alpha=0.01, xgb__subsample=0.4, total=  12.5s\n",
      "[CV] xgb__colsample_bytree=0.5, xgb__max_depth=5, xgb__n_estimators=150, xgb__reg_alpha=0.01, xgb__subsample=0.4 \n",
      "[CV]  xgb__colsample_bytree=0.5, xgb__max_depth=3, xgb__n_estimators=250, xgb__reg_alpha=0.03, xgb__subsample=0.4, total=   7.6s\n",
      "[CV] xgb__colsample_bytree=0.5, xgb__max_depth=5, xgb__n_estimators=150, xgb__reg_alpha=0.01, xgb__subsample=0.4 \n",
      "[CV]  xgb__colsample_bytree=0.5, xgb__max_depth=3, xgb__n_estimators=250, xgb__reg_alpha=0.01, xgb__subsample=0.4, total=  12.4s\n",
      "[CV] xgb__colsample_bytree=0.5, xgb__max_depth=5, xgb__n_estimators=150, xgb__reg_alpha=0.01, xgb__subsample=0.6 \n",
      "[CV]  xgb__colsample_bytree=0.5, xgb__max_depth=3, xgb__n_estimators=250, xgb__reg_alpha=0.03, xgb__subsample=0.6, total=   8.6s\n",
      "[CV] xgb__colsample_bytree=0.5, xgb__max_depth=5, xgb__n_estimators=150, xgb__reg_alpha=0.01, xgb__subsample=0.6 \n",
      "[CV]  xgb__colsample_bytree=0.5, xgb__max_depth=5, xgb__n_estimators=150, xgb__reg_alpha=0.01, xgb__subsample=0.4, total=   6.2s\n",
      "[CV] xgb__colsample_bytree=0.5, xgb__max_depth=5, xgb__n_estimators=150, xgb__reg_alpha=0.01, xgb__subsample=0.6 \n",
      "[CV]  xgb__colsample_bytree=0.5, xgb__max_depth=3, xgb__n_estimators=250, xgb__reg_alpha=0.03, xgb__subsample=0.4, total=  12.8s\n",
      "[CV] xgb__colsample_bytree=0.5, xgb__max_depth=5, xgb__n_estimators=150, xgb__reg_alpha=0.03, xgb__subsample=0.4 \n"
     ]
    },
    {
     "name": "stderr",
     "output_type": "stream",
     "text": [
      "[Parallel(n_jobs=10)]: Done  21 tasks      | elapsed:   26.7s\n"
     ]
    },
    {
     "name": "stdout",
     "output_type": "stream",
     "text": [
      "[CV]  xgb__colsample_bytree=0.5, xgb__max_depth=5, xgb__n_estimators=150, xgb__reg_alpha=0.01, xgb__subsample=0.6, total=   6.7s\n",
      "[CV] xgb__colsample_bytree=0.5, xgb__max_depth=5, xgb__n_estimators=150, xgb__reg_alpha=0.03, xgb__subsample=0.4 \n",
      "[CV]  xgb__colsample_bytree=0.5, xgb__max_depth=3, xgb__n_estimators=250, xgb__reg_alpha=0.03, xgb__subsample=0.4, total=  15.3s\n",
      "[CV]  xgb__colsample_bytree=0.5, xgb__max_depth=3, xgb__n_estimators=250, xgb__reg_alpha=0.01, xgb__subsample=0.6, total=  18.3s\n",
      "[CV]  xgb__colsample_bytree=0.5, xgb__max_depth=3, xgb__n_estimators=250, xgb__reg_alpha=0.03, xgb__subsample=0.6, total=  13.2s\n",
      "[CV] xgb__colsample_bytree=0.5, xgb__max_depth=5, xgb__n_estimators=150, xgb__reg_alpha=0.03, xgb__subsample=0.4 \n",
      "[CV] xgb__colsample_bytree=0.5, xgb__max_depth=5, xgb__n_estimators=150, xgb__reg_alpha=0.03, xgb__subsample=0.6 \n",
      "[CV] xgb__colsample_bytree=0.5, xgb__max_depth=5, xgb__n_estimators=150, xgb__reg_alpha=0.03, xgb__subsample=0.6 \n",
      "[CV]  xgb__colsample_bytree=0.5, xgb__max_depth=5, xgb__n_estimators=150, xgb__reg_alpha=0.01, xgb__subsample=0.4, total=  11.9s\n",
      "[CV] xgb__colsample_bytree=0.5, xgb__max_depth=5, xgb__n_estimators=150, xgb__reg_alpha=0.03, xgb__subsample=0.6 \n",
      "[CV]  xgb__colsample_bytree=0.5, xgb__max_depth=5, xgb__n_estimators=150, xgb__reg_alpha=0.01, xgb__subsample=0.4, total=  12.3s\n",
      "[CV] xgb__colsample_bytree=0.5, xgb__max_depth=5, xgb__n_estimators=250, xgb__reg_alpha=0.01, xgb__subsample=0.4 \n",
      "[CV]  xgb__colsample_bytree=0.5, xgb__max_depth=5, xgb__n_estimators=150, xgb__reg_alpha=0.03, xgb__subsample=0.4, total=   8.5s\n",
      "[CV] xgb__colsample_bytree=0.5, xgb__max_depth=5, xgb__n_estimators=250, xgb__reg_alpha=0.01, xgb__subsample=0.4 \n",
      "[CV]  xgb__colsample_bytree=0.5, xgb__max_depth=3, xgb__n_estimators=250, xgb__reg_alpha=0.03, xgb__subsample=0.6, total=  18.0s\n",
      "[CV] xgb__colsample_bytree=0.5, xgb__max_depth=5, xgb__n_estimators=250, xgb__reg_alpha=0.01, xgb__subsample=0.4 \n",
      "[CV]  xgb__colsample_bytree=0.5, xgb__max_depth=5, xgb__n_estimators=150, xgb__reg_alpha=0.03, xgb__subsample=0.6, total=   6.9s\n",
      "[CV] xgb__colsample_bytree=0.5, xgb__max_depth=5, xgb__n_estimators=250, xgb__reg_alpha=0.01, xgb__subsample=0.6 \n",
      "[CV]  xgb__colsample_bytree=0.5, xgb__max_depth=5, xgb__n_estimators=150, xgb__reg_alpha=0.03, xgb__subsample=0.4, total=   8.7s\n",
      "[CV] xgb__colsample_bytree=0.5, xgb__max_depth=5, xgb__n_estimators=250, xgb__reg_alpha=0.01, xgb__subsample=0.6 \n",
      "[CV]  xgb__colsample_bytree=0.5, xgb__max_depth=5, xgb__n_estimators=150, xgb__reg_alpha=0.01, xgb__subsample=0.6, total=  13.6s\n",
      "[CV]  xgb__colsample_bytree=0.5, xgb__max_depth=5, xgb__n_estimators=150, xgb__reg_alpha=0.01, xgb__subsample=0.6, total=  13.4s\n",
      "[CV] xgb__colsample_bytree=0.5, xgb__max_depth=5, xgb__n_estimators=250, xgb__reg_alpha=0.01, xgb__subsample=0.6 \n",
      "[CV] xgb__colsample_bytree=0.5, xgb__max_depth=5, xgb__n_estimators=250, xgb__reg_alpha=0.03, xgb__subsample=0.4 \n",
      "[CV]  xgb__colsample_bytree=0.5, xgb__max_depth=5, xgb__n_estimators=150, xgb__reg_alpha=0.03, xgb__subsample=0.6, total=  11.9s\n",
      "[CV] xgb__colsample_bytree=0.5, xgb__max_depth=5, xgb__n_estimators=250, xgb__reg_alpha=0.03, xgb__subsample=0.4 \n",
      "[CV]  xgb__colsample_bytree=0.5, xgb__max_depth=5, xgb__n_estimators=250, xgb__reg_alpha=0.01, xgb__subsample=0.4, total=  10.7s\n",
      "[CV] xgb__colsample_bytree=0.5, xgb__max_depth=5, xgb__n_estimators=250, xgb__reg_alpha=0.03, xgb__subsample=0.4 \n",
      "[CV]  xgb__colsample_bytree=0.5, xgb__max_depth=5, xgb__n_estimators=150, xgb__reg_alpha=0.03, xgb__subsample=0.4, total=  16.5s\n",
      "[CV] xgb__colsample_bytree=0.5, xgb__max_depth=5, xgb__n_estimators=250, xgb__reg_alpha=0.03, xgb__subsample=0.6 \n",
      "[CV]  xgb__colsample_bytree=0.5, xgb__max_depth=5, xgb__n_estimators=150, xgb__reg_alpha=0.03, xgb__subsample=0.6, total=  16.0s\n",
      "[CV] xgb__colsample_bytree=0.5, xgb__max_depth=5, xgb__n_estimators=250, xgb__reg_alpha=0.03, xgb__subsample=0.6 \n",
      "[CV]  xgb__colsample_bytree=0.5, xgb__max_depth=5, xgb__n_estimators=250, xgb__reg_alpha=0.01, xgb__subsample=0.6, total=  11.8s\n",
      "[CV] xgb__colsample_bytree=0.5, xgb__max_depth=5, xgb__n_estimators=250, xgb__reg_alpha=0.03, xgb__subsample=0.6 \n",
      "[CV]  xgb__colsample_bytree=0.5, xgb__max_depth=5, xgb__n_estimators=250, xgb__reg_alpha=0.03, xgb__subsample=0.4, total=  10.7s\n",
      "[CV] xgb__colsample_bytree=0.5, xgb__max_depth=8, xgb__n_estimators=150, xgb__reg_alpha=0.01, xgb__subsample=0.4 \n",
      "[CV]  xgb__colsample_bytree=0.5, xgb__max_depth=5, xgb__n_estimators=250, xgb__reg_alpha=0.01, xgb__subsample=0.6, total=  15.1s\n",
      "[CV] xgb__colsample_bytree=0.5, xgb__max_depth=8, xgb__n_estimators=150, xgb__reg_alpha=0.01, xgb__subsample=0.4 \n",
      "[CV]  xgb__colsample_bytree=0.5, xgb__max_depth=5, xgb__n_estimators=250, xgb__reg_alpha=0.01, xgb__subsample=0.4, total=  19.3s\n",
      "[CV] xgb__colsample_bytree=0.5, xgb__max_depth=8, xgb__n_estimators=150, xgb__reg_alpha=0.01, xgb__subsample=0.4 \n",
      "[CV]  xgb__colsample_bytree=0.5, xgb__max_depth=8, xgb__n_estimators=150, xgb__reg_alpha=0.01, xgb__subsample=0.4, total=   9.1s\n",
      "[CV] xgb__colsample_bytree=0.5, xgb__max_depth=8, xgb__n_estimators=150, xgb__reg_alpha=0.01, xgb__subsample=0.6 \n",
      "[CV]  xgb__colsample_bytree=0.5, xgb__max_depth=5, xgb__n_estimators=250, xgb__reg_alpha=0.01, xgb__subsample=0.4, total=  23.4s\n",
      "[CV] xgb__colsample_bytree=0.5, xgb__max_depth=8, xgb__n_estimators=150, xgb__reg_alpha=0.01, xgb__subsample=0.6 \n",
      "[CV]  xgb__colsample_bytree=0.5, xgb__max_depth=5, xgb__n_estimators=250, xgb__reg_alpha=0.03, xgb__subsample=0.4, total=  18.2s\n",
      "[CV]  xgb__colsample_bytree=0.5, xgb__max_depth=5, xgb__n_estimators=250, xgb__reg_alpha=0.03, xgb__subsample=0.6, total=  14.9s\n",
      "[CV] xgb__colsample_bytree=0.5, xgb__max_depth=8, xgb__n_estimators=150, xgb__reg_alpha=0.01, xgb__subsample=0.6 \n",
      "[CV] xgb__colsample_bytree=0.5, xgb__max_depth=8, xgb__n_estimators=150, xgb__reg_alpha=0.03, xgb__subsample=0.4 \n",
      "[CV]  xgb__colsample_bytree=0.5, xgb__max_depth=5, xgb__n_estimators=250, xgb__reg_alpha=0.03, xgb__subsample=0.4, total=  21.9s\n",
      "[CV] xgb__colsample_bytree=0.5, xgb__max_depth=8, xgb__n_estimators=150, xgb__reg_alpha=0.03, xgb__subsample=0.4 \n",
      "[CV]  xgb__colsample_bytree=0.5, xgb__max_depth=5, xgb__n_estimators=250, xgb__reg_alpha=0.01, xgb__subsample=0.6, total=  27.8s\n",
      "[CV]  xgb__colsample_bytree=0.5, xgb__max_depth=8, xgb__n_estimators=150, xgb__reg_alpha=0.01, xgb__subsample=0.4, total=  13.9s\n",
      "[CV] xgb__colsample_bytree=0.5, xgb__max_depth=8, xgb__n_estimators=150, xgb__reg_alpha=0.03, xgb__subsample=0.4 \n",
      "[CV] xgb__colsample_bytree=0.5, xgb__max_depth=8, xgb__n_estimators=150, xgb__reg_alpha=0.03, xgb__subsample=0.6 \n",
      "[CV]  xgb__colsample_bytree=0.5, xgb__max_depth=5, xgb__n_estimators=250, xgb__reg_alpha=0.03, xgb__subsample=0.6, total=  19.6s\n",
      "[CV] xgb__colsample_bytree=0.5, xgb__max_depth=8, xgb__n_estimators=150, xgb__reg_alpha=0.03, xgb__subsample=0.6 \n",
      "[CV]  xgb__colsample_bytree=0.5, xgb__max_depth=8, xgb__n_estimators=150, xgb__reg_alpha=0.01, xgb__subsample=0.6, total=   9.9s\n",
      "[CV]  xgb__colsample_bytree=0.5, xgb__max_depth=5, xgb__n_estimators=250, xgb__reg_alpha=0.03, xgb__subsample=0.6, total=  19.2s\n",
      "[CV] xgb__colsample_bytree=0.5, xgb__max_depth=8, xgb__n_estimators=150, xgb__reg_alpha=0.03, xgb__subsample=0.6 \n",
      "[CV] xgb__colsample_bytree=0.5, xgb__max_depth=8, xgb__n_estimators=250, xgb__reg_alpha=0.01, xgb__subsample=0.4 \n",
      "[CV]  xgb__colsample_bytree=0.5, xgb__max_depth=8, xgb__n_estimators=150, xgb__reg_alpha=0.03, xgb__subsample=0.4, total=  13.3s\n",
      "[CV] xgb__colsample_bytree=0.5, xgb__max_depth=8, xgb__n_estimators=250, xgb__reg_alpha=0.01, xgb__subsample=0.4 \n",
      "[CV]  xgb__colsample_bytree=0.5, xgb__max_depth=8, xgb__n_estimators=150, xgb__reg_alpha=0.03, xgb__subsample=0.6, total=  10.5s\n",
      "[CV] xgb__colsample_bytree=0.5, xgb__max_depth=8, xgb__n_estimators=250, xgb__reg_alpha=0.01, xgb__subsample=0.4 \n",
      "[CV]  xgb__colsample_bytree=0.5, xgb__max_depth=8, xgb__n_estimators=150, xgb__reg_alpha=0.01, xgb__subsample=0.4, total=  25.1s\n",
      "[CV] xgb__colsample_bytree=0.5, xgb__max_depth=8, xgb__n_estimators=250, xgb__reg_alpha=0.01, xgb__subsample=0.6 \n",
      "[CV]  xgb__colsample_bytree=0.5, xgb__max_depth=8, xgb__n_estimators=150, xgb__reg_alpha=0.01, xgb__subsample=0.6, total=  20.3s\n",
      "[CV]  xgb__colsample_bytree=0.5, xgb__max_depth=8, xgb__n_estimators=150, xgb__reg_alpha=0.03, xgb__subsample=0.4, total=  14.0s\n"
     ]
    },
    {
     "name": "stdout",
     "output_type": "stream",
     "text": [
      "[CV] xgb__colsample_bytree=0.5, xgb__max_depth=8, xgb__n_estimators=250, xgb__reg_alpha=0.01, xgb__subsample=0.6 \n",
      "[CV] xgb__colsample_bytree=0.5, xgb__max_depth=8, xgb__n_estimators=250, xgb__reg_alpha=0.01, xgb__subsample=0.6 \n",
      "[CV]  xgb__colsample_bytree=0.5, xgb__max_depth=8, xgb__n_estimators=250, xgb__reg_alpha=0.01, xgb__subsample=0.4, total=  16.5s\n",
      "[CV] xgb__colsample_bytree=0.5, xgb__max_depth=8, xgb__n_estimators=250, xgb__reg_alpha=0.03, xgb__subsample=0.4 \n",
      "[CV]  xgb__colsample_bytree=0.5, xgb__max_depth=8, xgb__n_estimators=150, xgb__reg_alpha=0.03, xgb__subsample=0.6, total=  18.8s\n",
      "[CV] xgb__colsample_bytree=0.5, xgb__max_depth=8, xgb__n_estimators=250, xgb__reg_alpha=0.03, xgb__subsample=0.4 \n",
      "[CV]  xgb__colsample_bytree=0.5, xgb__max_depth=8, xgb__n_estimators=150, xgb__reg_alpha=0.01, xgb__subsample=0.6, total=  25.6s\n",
      "[CV] xgb__colsample_bytree=0.5, xgb__max_depth=8, xgb__n_estimators=250, xgb__reg_alpha=0.03, xgb__subsample=0.4 \n",
      "[CV]  xgb__colsample_bytree=0.5, xgb__max_depth=8, xgb__n_estimators=150, xgb__reg_alpha=0.03, xgb__subsample=0.6, total=  20.0s\n",
      "[CV] xgb__colsample_bytree=0.5, xgb__max_depth=8, xgb__n_estimators=250, xgb__reg_alpha=0.03, xgb__subsample=0.6 \n",
      "[CV]  xgb__colsample_bytree=0.5, xgb__max_depth=8, xgb__n_estimators=150, xgb__reg_alpha=0.03, xgb__subsample=0.4, total=  23.9s\n",
      "[CV] xgb__colsample_bytree=0.5, xgb__max_depth=8, xgb__n_estimators=250, xgb__reg_alpha=0.03, xgb__subsample=0.6 \n",
      "[CV]  xgb__colsample_bytree=0.5, xgb__max_depth=8, xgb__n_estimators=250, xgb__reg_alpha=0.01, xgb__subsample=0.6, total=  21.6s\n",
      "[CV]  xgb__colsample_bytree=0.5, xgb__max_depth=8, xgb__n_estimators=250, xgb__reg_alpha=0.03, xgb__subsample=0.4, total=  15.0s\n",
      "[CV] xgb__colsample_bytree=0.5, xgb__max_depth=8, xgb__n_estimators=250, xgb__reg_alpha=0.03, xgb__subsample=0.6 \n",
      "[CV] xgb__colsample_bytree=0.7, xgb__max_depth=3, xgb__n_estimators=150, xgb__reg_alpha=0.01, xgb__subsample=0.4 \n",
      "[CV]  xgb__colsample_bytree=0.5, xgb__max_depth=8, xgb__n_estimators=250, xgb__reg_alpha=0.01, xgb__subsample=0.4, total=  28.2s\n",
      "[CV] xgb__colsample_bytree=0.7, xgb__max_depth=3, xgb__n_estimators=150, xgb__reg_alpha=0.01, xgb__subsample=0.4 \n",
      "[CV]  xgb__colsample_bytree=0.5, xgb__max_depth=8, xgb__n_estimators=250, xgb__reg_alpha=0.03, xgb__subsample=0.6, total=  16.2s\n",
      "[CV] xgb__colsample_bytree=0.7, xgb__max_depth=3, xgb__n_estimators=150, xgb__reg_alpha=0.01, xgb__subsample=0.4 \n",
      "[CV]  xgb__colsample_bytree=0.7, xgb__max_depth=3, xgb__n_estimators=150, xgb__reg_alpha=0.01, xgb__subsample=0.4, total=   4.9s\n",
      "[CV] xgb__colsample_bytree=0.7, xgb__max_depth=3, xgb__n_estimators=150, xgb__reg_alpha=0.01, xgb__subsample=0.6 \n",
      "[CV]  xgb__colsample_bytree=0.5, xgb__max_depth=8, xgb__n_estimators=250, xgb__reg_alpha=0.01, xgb__subsample=0.6, total=  26.9s\n",
      "[CV] xgb__colsample_bytree=0.7, xgb__max_depth=3, xgb__n_estimators=150, xgb__reg_alpha=0.01, xgb__subsample=0.6 \n",
      "[CV]  xgb__colsample_bytree=0.5, xgb__max_depth=8, xgb__n_estimators=250, xgb__reg_alpha=0.01, xgb__subsample=0.4, total=  30.7s\n",
      "[CV] xgb__colsample_bytree=0.7, xgb__max_depth=3, xgb__n_estimators=150, xgb__reg_alpha=0.01, xgb__subsample=0.6 \n",
      "[CV]  xgb__colsample_bytree=0.7, xgb__max_depth=3, xgb__n_estimators=150, xgb__reg_alpha=0.01, xgb__subsample=0.6, total=   6.0s\n",
      "[CV] xgb__colsample_bytree=0.7, xgb__max_depth=3, xgb__n_estimators=150, xgb__reg_alpha=0.03, xgb__subsample=0.4 \n",
      "[CV]  xgb__colsample_bytree=0.7, xgb__max_depth=3, xgb__n_estimators=150, xgb__reg_alpha=0.01, xgb__subsample=0.4, total=   9.1s\n",
      "[CV] xgb__colsample_bytree=0.7, xgb__max_depth=3, xgb__n_estimators=150, xgb__reg_alpha=0.03, xgb__subsample=0.4 \n",
      "[CV]  xgb__colsample_bytree=0.7, xgb__max_depth=3, xgb__n_estimators=150, xgb__reg_alpha=0.01, xgb__subsample=0.4, total=   8.9s\n",
      "[CV] xgb__colsample_bytree=0.7, xgb__max_depth=3, xgb__n_estimators=150, xgb__reg_alpha=0.03, xgb__subsample=0.4 \n",
      "[CV]  xgb__colsample_bytree=0.7, xgb__max_depth=3, xgb__n_estimators=150, xgb__reg_alpha=0.01, xgb__subsample=0.6, total=   7.9s\n",
      "[CV] xgb__colsample_bytree=0.7, xgb__max_depth=3, xgb__n_estimators=150, xgb__reg_alpha=0.03, xgb__subsample=0.6 \n",
      "[CV]  xgb__colsample_bytree=0.7, xgb__max_depth=3, xgb__n_estimators=150, xgb__reg_alpha=0.03, xgb__subsample=0.4, total=   4.6s\n",
      "[CV] xgb__colsample_bytree=0.7, xgb__max_depth=3, xgb__n_estimators=150, xgb__reg_alpha=0.03, xgb__subsample=0.6 \n",
      "[CV]  xgb__colsample_bytree=0.7, xgb__max_depth=3, xgb__n_estimators=150, xgb__reg_alpha=0.01, xgb__subsample=0.6, total=   9.6s\n",
      "[CV] xgb__colsample_bytree=0.7, xgb__max_depth=3, xgb__n_estimators=150, xgb__reg_alpha=0.03, xgb__subsample=0.6 \n",
      "[CV]  xgb__colsample_bytree=0.5, xgb__max_depth=8, xgb__n_estimators=250, xgb__reg_alpha=0.03, xgb__subsample=0.4, total=  32.0s\n",
      "[CV] xgb__colsample_bytree=0.7, xgb__max_depth=3, xgb__n_estimators=250, xgb__reg_alpha=0.01, xgb__subsample=0.4 \n",
      "[CV]  xgb__colsample_bytree=0.7, xgb__max_depth=3, xgb__n_estimators=150, xgb__reg_alpha=0.03, xgb__subsample=0.6, total=   4.5s\n",
      "[CV] xgb__colsample_bytree=0.7, xgb__max_depth=3, xgb__n_estimators=250, xgb__reg_alpha=0.01, xgb__subsample=0.4 \n",
      "[CV]  xgb__colsample_bytree=0.7, xgb__max_depth=3, xgb__n_estimators=150, xgb__reg_alpha=0.03, xgb__subsample=0.4, total=   9.2s\n",
      "[CV] xgb__colsample_bytree=0.7, xgb__max_depth=3, xgb__n_estimators=250, xgb__reg_alpha=0.01, xgb__subsample=0.4 \n",
      "[CV]  xgb__colsample_bytree=0.7, xgb__max_depth=3, xgb__n_estimators=150, xgb__reg_alpha=0.03, xgb__subsample=0.4, total=   9.3s\n",
      "[CV] xgb__colsample_bytree=0.7, xgb__max_depth=3, xgb__n_estimators=250, xgb__reg_alpha=0.01, xgb__subsample=0.6 \n",
      "[CV]  xgb__colsample_bytree=0.7, xgb__max_depth=3, xgb__n_estimators=150, xgb__reg_alpha=0.03, xgb__subsample=0.6, total=   7.6s\n",
      "[CV]  xgb__colsample_bytree=0.5, xgb__max_depth=8, xgb__n_estimators=250, xgb__reg_alpha=0.01, xgb__subsample=0.6, total=  42.6s\n",
      "[CV] xgb__colsample_bytree=0.7, xgb__max_depth=3, xgb__n_estimators=250, xgb__reg_alpha=0.01, xgb__subsample=0.6 \n",
      "[CV]  xgb__colsample_bytree=0.5, xgb__max_depth=8, xgb__n_estimators=250, xgb__reg_alpha=0.03, xgb__subsample=0.6, total=  35.2s\n",
      "[CV] xgb__colsample_bytree=0.7, xgb__max_depth=3, xgb__n_estimators=250, xgb__reg_alpha=0.01, xgb__subsample=0.6 \n",
      "[CV]  xgb__colsample_bytree=0.7, xgb__max_depth=3, xgb__n_estimators=150, xgb__reg_alpha=0.03, xgb__subsample=0.6, total=   9.1s\n",
      "[CV]  xgb__colsample_bytree=0.7, xgb__max_depth=3, xgb__n_estimators=250, xgb__reg_alpha=0.01, xgb__subsample=0.4, total=   9.1s\n",
      "[CV] xgb__colsample_bytree=0.7, xgb__max_depth=3, xgb__n_estimators=250, xgb__reg_alpha=0.03, xgb__subsample=0.4 \n",
      "[CV] xgb__colsample_bytree=0.7, xgb__max_depth=3, xgb__n_estimators=250, xgb__reg_alpha=0.03, xgb__subsample=0.4 \n",
      "[CV] xgb__colsample_bytree=0.7, xgb__max_depth=3, xgb__n_estimators=250, xgb__reg_alpha=0.03, xgb__subsample=0.4 \n",
      "[CV]  xgb__colsample_bytree=0.5, xgb__max_depth=8, xgb__n_estimators=250, xgb__reg_alpha=0.03, xgb__subsample=0.4, total=  40.7s\n",
      "[CV] xgb__colsample_bytree=0.7, xgb__max_depth=3, xgb__n_estimators=250, xgb__reg_alpha=0.03, xgb__subsample=0.6 \n",
      "[CV]  xgb__colsample_bytree=0.7, xgb__max_depth=3, xgb__n_estimators=250, xgb__reg_alpha=0.01, xgb__subsample=0.4, total=  10.3s\n",
      "[CV] xgb__colsample_bytree=0.7, xgb__max_depth=3, xgb__n_estimators=250, xgb__reg_alpha=0.03, xgb__subsample=0.6 \n",
      "[CV]  xgb__colsample_bytree=0.7, xgb__max_depth=3, xgb__n_estimators=250, xgb__reg_alpha=0.01, xgb__subsample=0.6, total=   7.0s\n",
      "[CV] xgb__colsample_bytree=0.7, xgb__max_depth=3, xgb__n_estimators=250, xgb__reg_alpha=0.03, xgb__subsample=0.6 \n",
      "[CV]  xgb__colsample_bytree=0.7, xgb__max_depth=3, xgb__n_estimators=250, xgb__reg_alpha=0.03, xgb__subsample=0.4, total=  10.3s\n",
      "[CV] xgb__colsample_bytree=0.7, xgb__max_depth=5, xgb__n_estimators=150, xgb__reg_alpha=0.01, xgb__subsample=0.4 \n",
      "[CV]  xgb__colsample_bytree=0.7, xgb__max_depth=3, xgb__n_estimators=250, xgb__reg_alpha=0.03, xgb__subsample=0.4, total=  10.7s\n",
      "[CV] xgb__colsample_bytree=0.7, xgb__max_depth=5, xgb__n_estimators=150, xgb__reg_alpha=0.01, xgb__subsample=0.4 \n",
      "[CV]  xgb__colsample_bytree=0.7, xgb__max_depth=3, xgb__n_estimators=250, xgb__reg_alpha=0.03, xgb__subsample=0.6, total=  10.4s\n",
      "[CV]  xgb__colsample_bytree=0.7, xgb__max_depth=3, xgb__n_estimators=250, xgb__reg_alpha=0.01, xgb__subsample=0.4, total=  16.5s\n"
     ]
    },
    {
     "name": "stdout",
     "output_type": "stream",
     "text": [
      "[CV]  xgb__colsample_bytree=0.7, xgb__max_depth=3, xgb__n_estimators=250, xgb__reg_alpha=0.01, xgb__subsample=0.6, total=  14.6s\n",
      "[CV] xgb__colsample_bytree=0.7, xgb__max_depth=5, xgb__n_estimators=150, xgb__reg_alpha=0.01, xgb__subsample=0.4 \n",
      "[CV] xgb__colsample_bytree=0.7, xgb__max_depth=5, xgb__n_estimators=150, xgb__reg_alpha=0.01, xgb__subsample=0.6 \n",
      "[CV] xgb__colsample_bytree=0.7, xgb__max_depth=5, xgb__n_estimators=150, xgb__reg_alpha=0.01, xgb__subsample=0.6 \n",
      "[CV]  xgb__colsample_bytree=0.7, xgb__max_depth=3, xgb__n_estimators=250, xgb__reg_alpha=0.01, xgb__subsample=0.6, total=  14.8s\n",
      "[CV] xgb__colsample_bytree=0.7, xgb__max_depth=5, xgb__n_estimators=150, xgb__reg_alpha=0.01, xgb__subsample=0.6 \n",
      "[CV]  xgb__colsample_bytree=0.7, xgb__max_depth=3, xgb__n_estimators=250, xgb__reg_alpha=0.03, xgb__subsample=0.6, total=  11.4s\n",
      "[CV] xgb__colsample_bytree=0.7, xgb__max_depth=5, xgb__n_estimators=150, xgb__reg_alpha=0.03, xgb__subsample=0.4 \n",
      "[CV]  xgb__colsample_bytree=0.5, xgb__max_depth=8, xgb__n_estimators=250, xgb__reg_alpha=0.03, xgb__subsample=0.6, total=  44.4s\n",
      "[CV]  xgb__colsample_bytree=0.7, xgb__max_depth=3, xgb__n_estimators=250, xgb__reg_alpha=0.03, xgb__subsample=0.4, total=  16.8s\n",
      "[CV]  xgb__colsample_bytree=0.7, xgb__max_depth=3, xgb__n_estimators=250, xgb__reg_alpha=0.03, xgb__subsample=0.6, total=  14.1s\n",
      "[CV] xgb__colsample_bytree=0.7, xgb__max_depth=5, xgb__n_estimators=150, xgb__reg_alpha=0.03, xgb__subsample=0.4 \n",
      "[CV]  xgb__colsample_bytree=0.7, xgb__max_depth=5, xgb__n_estimators=150, xgb__reg_alpha=0.01, xgb__subsample=0.4, total=   8.7s\n",
      "[CV] xgb__colsample_bytree=0.7, xgb__max_depth=5, xgb__n_estimators=150, xgb__reg_alpha=0.03, xgb__subsample=0.4 \n",
      "[CV] xgb__colsample_bytree=0.7, xgb__max_depth=5, xgb__n_estimators=150, xgb__reg_alpha=0.03, xgb__subsample=0.6 \n",
      "[CV] xgb__colsample_bytree=0.7, xgb__max_depth=5, xgb__n_estimators=150, xgb__reg_alpha=0.03, xgb__subsample=0.6 \n",
      "[CV]  xgb__colsample_bytree=0.7, xgb__max_depth=5, xgb__n_estimators=150, xgb__reg_alpha=0.01, xgb__subsample=0.4, total=  10.3s\n",
      "[CV] xgb__colsample_bytree=0.7, xgb__max_depth=5, xgb__n_estimators=150, xgb__reg_alpha=0.03, xgb__subsample=0.6 \n",
      "[CV]  xgb__colsample_bytree=0.7, xgb__max_depth=5, xgb__n_estimators=150, xgb__reg_alpha=0.01, xgb__subsample=0.6, total=   9.6s\n",
      "[CV] xgb__colsample_bytree=0.7, xgb__max_depth=5, xgb__n_estimators=250, xgb__reg_alpha=0.01, xgb__subsample=0.4 \n",
      "[CV]  xgb__colsample_bytree=0.7, xgb__max_depth=5, xgb__n_estimators=150, xgb__reg_alpha=0.03, xgb__subsample=0.4, total=   7.8s\n",
      "[CV] xgb__colsample_bytree=0.7, xgb__max_depth=5, xgb__n_estimators=250, xgb__reg_alpha=0.01, xgb__subsample=0.4 \n",
      "[CV]  xgb__colsample_bytree=0.7, xgb__max_depth=5, xgb__n_estimators=150, xgb__reg_alpha=0.01, xgb__subsample=0.6, total=  13.3s\n",
      "[CV] xgb__colsample_bytree=0.7, xgb__max_depth=5, xgb__n_estimators=250, xgb__reg_alpha=0.01, xgb__subsample=0.4 \n",
      "[CV]  xgb__colsample_bytree=0.7, xgb__max_depth=5, xgb__n_estimators=150, xgb__reg_alpha=0.03, xgb__subsample=0.6, total=   8.0s\n",
      "[CV] xgb__colsample_bytree=0.7, xgb__max_depth=5, xgb__n_estimators=250, xgb__reg_alpha=0.01, xgb__subsample=0.6 \n",
      "[CV]  xgb__colsample_bytree=0.7, xgb__max_depth=5, xgb__n_estimators=150, xgb__reg_alpha=0.01, xgb__subsample=0.6, total=  14.7s\n",
      "[CV] xgb__colsample_bytree=0.7, xgb__max_depth=5, xgb__n_estimators=250, xgb__reg_alpha=0.01, xgb__subsample=0.6 \n",
      "[CV]  xgb__colsample_bytree=0.7, xgb__max_depth=5, xgb__n_estimators=150, xgb__reg_alpha=0.01, xgb__subsample=0.4, total=  16.8s\n",
      "[CV] xgb__colsample_bytree=0.7, xgb__max_depth=5, xgb__n_estimators=250, xgb__reg_alpha=0.01, xgb__subsample=0.6 \n",
      "[CV]  xgb__colsample_bytree=0.7, xgb__max_depth=5, xgb__n_estimators=150, xgb__reg_alpha=0.03, xgb__subsample=0.4, total=  13.5s\n",
      "[CV] xgb__colsample_bytree=0.7, xgb__max_depth=5, xgb__n_estimators=250, xgb__reg_alpha=0.03, xgb__subsample=0.4 \n",
      "[CV]  xgb__colsample_bytree=0.7, xgb__max_depth=5, xgb__n_estimators=150, xgb__reg_alpha=0.03, xgb__subsample=0.6, total=  15.7s\n",
      "[CV] xgb__colsample_bytree=0.7, xgb__max_depth=5, xgb__n_estimators=250, xgb__reg_alpha=0.03, xgb__subsample=0.4 \n",
      "[CV]  xgb__colsample_bytree=0.7, xgb__max_depth=5, xgb__n_estimators=150, xgb__reg_alpha=0.03, xgb__subsample=0.6, total=  14.7s\n",
      "[CV] xgb__colsample_bytree=0.7, xgb__max_depth=5, xgb__n_estimators=250, xgb__reg_alpha=0.03, xgb__subsample=0.4 \n",
      "[CV]  xgb__colsample_bytree=0.7, xgb__max_depth=5, xgb__n_estimators=250, xgb__reg_alpha=0.01, xgb__subsample=0.4, total=  15.3s\n",
      "[CV] xgb__colsample_bytree=0.7, xgb__max_depth=5, xgb__n_estimators=250, xgb__reg_alpha=0.03, xgb__subsample=0.6 \n",
      "[CV]  xgb__colsample_bytree=0.7, xgb__max_depth=5, xgb__n_estimators=150, xgb__reg_alpha=0.03, xgb__subsample=0.4, total=  18.8s\n",
      "[CV] xgb__colsample_bytree=0.7, xgb__max_depth=5, xgb__n_estimators=250, xgb__reg_alpha=0.03, xgb__subsample=0.6 \n",
      "[CV]  xgb__colsample_bytree=0.7, xgb__max_depth=5, xgb__n_estimators=250, xgb__reg_alpha=0.01, xgb__subsample=0.6, total=  12.7s\n",
      "[CV] xgb__colsample_bytree=0.7, xgb__max_depth=5, xgb__n_estimators=250, xgb__reg_alpha=0.03, xgb__subsample=0.6 \n",
      "[CV]  xgb__colsample_bytree=0.7, xgb__max_depth=5, xgb__n_estimators=250, xgb__reg_alpha=0.01, xgb__subsample=0.4, total=  17.3s\n",
      "[CV] xgb__colsample_bytree=0.7, xgb__max_depth=8, xgb__n_estimators=150, xgb__reg_alpha=0.01, xgb__subsample=0.4 \n",
      "[CV]  xgb__colsample_bytree=0.7, xgb__max_depth=5, xgb__n_estimators=250, xgb__reg_alpha=0.03, xgb__subsample=0.4, total=  15.7s\n",
      "[CV] xgb__colsample_bytree=0.7, xgb__max_depth=8, xgb__n_estimators=150, xgb__reg_alpha=0.01, xgb__subsample=0.4 \n",
      "[CV]  xgb__colsample_bytree=0.7, xgb__max_depth=5, xgb__n_estimators=250, xgb__reg_alpha=0.01, xgb__subsample=0.6, total=  19.0s\n",
      "[CV] xgb__colsample_bytree=0.7, xgb__max_depth=8, xgb__n_estimators=150, xgb__reg_alpha=0.01, xgb__subsample=0.4 \n",
      "[CV]  xgb__colsample_bytree=0.7, xgb__max_depth=8, xgb__n_estimators=150, xgb__reg_alpha=0.01, xgb__subsample=0.4, total=  12.1s\n",
      "[CV] xgb__colsample_bytree=0.7, xgb__max_depth=8, xgb__n_estimators=150, xgb__reg_alpha=0.01, xgb__subsample=0.6 \n",
      "[CV]  xgb__colsample_bytree=0.7, xgb__max_depth=5, xgb__n_estimators=250, xgb__reg_alpha=0.03, xgb__subsample=0.6, total=  15.4s\n",
      "[CV] xgb__colsample_bytree=0.7, xgb__max_depth=8, xgb__n_estimators=150, xgb__reg_alpha=0.01, xgb__subsample=0.6 \n",
      "[CV]  xgb__colsample_bytree=0.7, xgb__max_depth=5, xgb__n_estimators=250, xgb__reg_alpha=0.01, xgb__subsample=0.4, total=  29.7s\n",
      "[CV] xgb__colsample_bytree=0.7, xgb__max_depth=8, xgb__n_estimators=150, xgb__reg_alpha=0.01, xgb__subsample=0.6 \n",
      "[CV]  xgb__colsample_bytree=0.7, xgb__max_depth=5, xgb__n_estimators=250, xgb__reg_alpha=0.03, xgb__subsample=0.4, total=  24.0s\n",
      "[CV] xgb__colsample_bytree=0.7, xgb__max_depth=8, xgb__n_estimators=150, xgb__reg_alpha=0.03, xgb__subsample=0.4 \n",
      "[CV]  xgb__colsample_bytree=0.7, xgb__max_depth=5, xgb__n_estimators=250, xgb__reg_alpha=0.03, xgb__subsample=0.4, total=  23.3s\n",
      "[CV] xgb__colsample_bytree=0.7, xgb__max_depth=8, xgb__n_estimators=150, xgb__reg_alpha=0.03, xgb__subsample=0.4 \n",
      "[CV]  xgb__colsample_bytree=0.7, xgb__max_depth=5, xgb__n_estimators=250, xgb__reg_alpha=0.01, xgb__subsample=0.6, total=  32.6s\n",
      "[CV] xgb__colsample_bytree=0.7, xgb__max_depth=8, xgb__n_estimators=150, xgb__reg_alpha=0.03, xgb__subsample=0.4 \n",
      "[CV]  xgb__colsample_bytree=0.7, xgb__max_depth=5, xgb__n_estimators=250, xgb__reg_alpha=0.03, xgb__subsample=0.6, total=  24.5s\n",
      "[CV] xgb__colsample_bytree=0.7, xgb__max_depth=8, xgb__n_estimators=150, xgb__reg_alpha=0.03, xgb__subsample=0.6 \n",
      "[CV]  xgb__colsample_bytree=0.7, xgb__max_depth=5, xgb__n_estimators=250, xgb__reg_alpha=0.03, xgb__subsample=0.6, total=  25.7s\n",
      "[CV] xgb__colsample_bytree=0.7, xgb__max_depth=8, xgb__n_estimators=150, xgb__reg_alpha=0.03, xgb__subsample=0.6 \n",
      "[CV]  xgb__colsample_bytree=0.7, xgb__max_depth=8, xgb__n_estimators=150, xgb__reg_alpha=0.01, xgb__subsample=0.6, total=  14.2s\n",
      "[CV] xgb__colsample_bytree=0.7, xgb__max_depth=8, xgb__n_estimators=150, xgb__reg_alpha=0.03, xgb__subsample=0.6 \n",
      "[CV]  xgb__colsample_bytree=0.7, xgb__max_depth=8, xgb__n_estimators=150, xgb__reg_alpha=0.01, xgb__subsample=0.4, total=  23.5s\n",
      "[CV] xgb__colsample_bytree=0.7, xgb__max_depth=8, xgb__n_estimators=250, xgb__reg_alpha=0.01, xgb__subsample=0.4 \n"
     ]
    },
    {
     "name": "stdout",
     "output_type": "stream",
     "text": [
      "[CV]  xgb__colsample_bytree=0.7, xgb__max_depth=8, xgb__n_estimators=150, xgb__reg_alpha=0.01, xgb__subsample=0.4, total=  24.5s\n",
      "[CV] xgb__colsample_bytree=0.7, xgb__max_depth=8, xgb__n_estimators=250, xgb__reg_alpha=0.01, xgb__subsample=0.4 \n",
      "[CV]  xgb__colsample_bytree=0.7, xgb__max_depth=8, xgb__n_estimators=150, xgb__reg_alpha=0.03, xgb__subsample=0.4, total=  15.9s\n",
      "[CV] xgb__colsample_bytree=0.7, xgb__max_depth=8, xgb__n_estimators=250, xgb__reg_alpha=0.01, xgb__subsample=0.4 \n",
      "[CV]  xgb__colsample_bytree=0.7, xgb__max_depth=8, xgb__n_estimators=150, xgb__reg_alpha=0.01, xgb__subsample=0.6, total=  23.8s\n",
      "[CV] xgb__colsample_bytree=0.7, xgb__max_depth=8, xgb__n_estimators=250, xgb__reg_alpha=0.01, xgb__subsample=0.6 \n",
      "[CV]  xgb__colsample_bytree=0.7, xgb__max_depth=8, xgb__n_estimators=150, xgb__reg_alpha=0.03, xgb__subsample=0.6, total=  17.8s\n",
      "[CV]  xgb__colsample_bytree=0.7, xgb__max_depth=8, xgb__n_estimators=150, xgb__reg_alpha=0.03, xgb__subsample=0.4, total=  20.4s\n",
      "[CV] xgb__colsample_bytree=0.7, xgb__max_depth=8, xgb__n_estimators=250, xgb__reg_alpha=0.01, xgb__subsample=0.6 \n",
      "[CV] xgb__colsample_bytree=0.7, xgb__max_depth=8, xgb__n_estimators=250, xgb__reg_alpha=0.01, xgb__subsample=0.6 \n",
      "[CV]  xgb__colsample_bytree=0.7, xgb__max_depth=8, xgb__n_estimators=150, xgb__reg_alpha=0.03, xgb__subsample=0.6, total=  18.2s\n",
      "[CV] xgb__colsample_bytree=0.7, xgb__max_depth=8, xgb__n_estimators=250, xgb__reg_alpha=0.03, xgb__subsample=0.4 \n",
      "[CV]  xgb__colsample_bytree=0.7, xgb__max_depth=8, xgb__n_estimators=150, xgb__reg_alpha=0.01, xgb__subsample=0.6, total=  31.8s\n",
      "[CV] xgb__colsample_bytree=0.7, xgb__max_depth=8, xgb__n_estimators=250, xgb__reg_alpha=0.03, xgb__subsample=0.4 \n",
      "[CV]  xgb__colsample_bytree=0.7, xgb__max_depth=8, xgb__n_estimators=150, xgb__reg_alpha=0.03, xgb__subsample=0.4, total=  28.2s\n",
      "[CV] xgb__colsample_bytree=0.7, xgb__max_depth=8, xgb__n_estimators=250, xgb__reg_alpha=0.03, xgb__subsample=0.4 \n",
      "[CV]  xgb__colsample_bytree=0.7, xgb__max_depth=8, xgb__n_estimators=150, xgb__reg_alpha=0.03, xgb__subsample=0.6, total=  24.9s\n",
      "[CV] xgb__colsample_bytree=0.7, xgb__max_depth=8, xgb__n_estimators=250, xgb__reg_alpha=0.03, xgb__subsample=0.6 \n",
      "[CV]  xgb__colsample_bytree=0.7, xgb__max_depth=8, xgb__n_estimators=250, xgb__reg_alpha=0.01, xgb__subsample=0.4, total=  26.2s\n",
      "[CV] xgb__colsample_bytree=0.7, xgb__max_depth=8, xgb__n_estimators=250, xgb__reg_alpha=0.03, xgb__subsample=0.6 \n",
      "[CV]  xgb__colsample_bytree=0.7, xgb__max_depth=8, xgb__n_estimators=250, xgb__reg_alpha=0.01, xgb__subsample=0.4, total=  30.3s\n",
      "[CV] xgb__colsample_bytree=0.7, xgb__max_depth=8, xgb__n_estimators=250, xgb__reg_alpha=0.03, xgb__subsample=0.6 \n",
      "[CV]  xgb__colsample_bytree=0.7, xgb__max_depth=8, xgb__n_estimators=250, xgb__reg_alpha=0.03, xgb__subsample=0.4, total=  20.1s\n",
      "[CV]  xgb__colsample_bytree=0.7, xgb__max_depth=8, xgb__n_estimators=250, xgb__reg_alpha=0.01, xgb__subsample=0.6, total=  26.9s\n",
      "[CV]  xgb__colsample_bytree=0.7, xgb__max_depth=8, xgb__n_estimators=250, xgb__reg_alpha=0.03, xgb__subsample=0.6, total=  20.0s\n",
      "[CV]  xgb__colsample_bytree=0.7, xgb__max_depth=8, xgb__n_estimators=250, xgb__reg_alpha=0.01, xgb__subsample=0.6, total=  36.0s\n",
      "[CV]  xgb__colsample_bytree=0.7, xgb__max_depth=8, xgb__n_estimators=250, xgb__reg_alpha=0.01, xgb__subsample=0.6, total=  36.5s\n",
      "[CV]  xgb__colsample_bytree=0.7, xgb__max_depth=8, xgb__n_estimators=250, xgb__reg_alpha=0.01, xgb__subsample=0.4, total=  43.8s\n",
      "[CV]  xgb__colsample_bytree=0.7, xgb__max_depth=8, xgb__n_estimators=250, xgb__reg_alpha=0.03, xgb__subsample=0.4, total=  31.8s\n",
      "[CV]  xgb__colsample_bytree=0.7, xgb__max_depth=8, xgb__n_estimators=250, xgb__reg_alpha=0.03, xgb__subsample=0.6, total=  25.4s\n",
      "[CV]  xgb__colsample_bytree=0.7, xgb__max_depth=8, xgb__n_estimators=250, xgb__reg_alpha=0.03, xgb__subsample=0.4, total=  31.3s\n",
      "[CV]  xgb__colsample_bytree=0.7, xgb__max_depth=8, xgb__n_estimators=250, xgb__reg_alpha=0.03, xgb__subsample=0.6, total=  20.5s\n"
     ]
    },
    {
     "name": "stderr",
     "output_type": "stream",
     "text": [
      "[Parallel(n_jobs=10)]: Done 144 out of 144 | elapsed:  4.3min finished\n"
     ]
    },
    {
     "name": "stdout",
     "output_type": "stream",
     "text": [
      "Pipeline(memory='../data/cashed_gs/',\n",
      "     steps=[('smt', SMOTETomek(k=None, kind_smote=None, m=None, n_jobs=None, out_step=None,\n",
      "      random_state=42, ratio='auto', smote=None, tomek=None)), ('xgb', XGBClassifier(base_score=0.5, booster='gbtree', colsample_bylevel=1,\n",
      "       colsample_bytree=0.5, gamma=0, learning_rate=0.1, max_delta_step=0...0, reg_alpha=0.01, reg_lambda=1, scale_pos_weight=1,\n",
      "       seed=None, silent=True, subsample=0.6))])\n"
     ]
    }
   ],
   "source": [
    "rs.fit(X, y_train)\n",
    "best_est = rs.best_estimator_\n",
    "print(best_est)"
   ]
  },
  {
   "cell_type": "code",
   "execution_count": 234,
   "metadata": {
    "scrolled": true
   },
   "outputs": [
    {
     "name": "stdout",
     "output_type": "stream",
     "text": [
      "Model with grid search\n",
      "Fitting 3 folds for each of 192 candidates, totalling 576 fits\n",
      "[CV] model__colsample_bytree=0.5, model__max_depth=3, model__n_estimators=150, model__reg_alpha=0.01, model__subsample=0.4, n_splits=2 \n"
     ]
    },
    {
     "name": "stderr",
     "output_type": "stream",
     "text": [
      "\r",
      "  0%|          | 0/2 [00:00<?, ?it/s]"
     ]
    },
    {
     "name": "stdout",
     "output_type": "stream",
     "text": [
      "[CV] model__colsample_bytree=0.5, model__max_depth=3, model__n_estimators=150, model__reg_alpha=0.01, model__subsample=0.4, n_splits=2 \n"
     ]
    },
    {
     "name": "stderr",
     "output_type": "stream",
     "text": [
      " 50%|█████     | 1/2 [00:00<00:00,  3.55it/s]"
     ]
    },
    {
     "name": "stdout",
     "output_type": "stream",
     "text": [
      "[CV] model__colsample_bytree=0.5, model__max_depth=3, model__n_estimators=150, model__reg_alpha=0.01, model__subsample=0.4, n_splits=2 \n"
     ]
    },
    {
     "name": "stderr",
     "output_type": "stream",
     "text": [
      " 50%|█████     | 1/2 [00:00<00:00,  2.23it/s]"
     ]
    },
    {
     "name": "stdout",
     "output_type": "stream",
     "text": [
      "[CV] model__colsample_bytree=0.5, model__max_depth=3, model__n_estimators=150, model__reg_alpha=0.01, model__subsample=0.4, n_splits=3 \n"
     ]
    },
    {
     "name": "stderr",
     "output_type": "stream",
     "text": [
      "\n",
      "100%|██████████| 2/2 [00:00<00:00,  2.43it/s]"
     ]
    },
    {
     "name": "stdout",
     "output_type": "stream",
     "text": [
      "[CV] model__colsample_bytree=0.5, model__max_depth=3, model__n_estimators=150, model__reg_alpha=0.01, model__subsample=0.4, n_splits=3 \n"
     ]
    },
    {
     "name": "stderr",
     "output_type": "stream",
     "text": [
      "\r",
      "  0%|          | 0/3 [00:00<?, ?it/s]"
     ]
    },
    {
     "name": "stdout",
     "output_type": "stream",
     "text": [
      "[CV]  model__colsample_bytree=0.5, model__max_depth=3, model__n_estimators=150, model__reg_alpha=0.01, model__subsample=0.4, n_splits=2, total=   1.0s\n",
      "[CV] model__colsample_bytree=0.5, model__max_depth=3, model__n_estimators=150, model__reg_alpha=0.01, model__subsample=0.4, n_splits=3 \n"
     ]
    },
    {
     "name": "stderr",
     "output_type": "stream",
     "text": [
      "\r",
      "  0%|          | 0/3 [00:00<?, ?it/s]"
     ]
    },
    {
     "name": "stdout",
     "output_type": "stream",
     "text": [
      "[CV] model__colsample_bytree=0.5, model__max_depth=3, model__n_estimators=150, model__reg_alpha=0.01, model__subsample=0.4, n_splits=4 \n"
     ]
    },
    {
     "name": "stderr",
     "output_type": "stream",
     "text": [
      "\r",
      "  0%|          | 0/6 [00:00<?, ?it/s]"
     ]
    },
    {
     "name": "stdout",
     "output_type": "stream",
     "text": [
      "[CV] model__colsample_bytree=0.5, model__max_depth=3, model__n_estimators=150, model__reg_alpha=0.01, model__subsample=0.4, n_splits=4 \n"
     ]
    },
    {
     "name": "stderr",
     "output_type": "stream",
     "text": [
      "\r",
      "  0%|          | 0/5 [00:00<?, ?it/s]"
     ]
    },
    {
     "name": "stdout",
     "output_type": "stream",
     "text": [
      "[CV] model__colsample_bytree=0.5, model__max_depth=3, model__n_estimators=150, model__reg_alpha=0.01, model__subsample=0.4, n_splits=4 \n"
     ]
    },
    {
     "name": "stderr",
     "output_type": "stream",
     "text": [
      "\r",
      "  0%|          | 0/4 [00:00<?, ?it/s]"
     ]
    },
    {
     "name": "stdout",
     "output_type": "stream",
     "text": [
      "[CV] model__colsample_bytree=0.5, model__max_depth=3, model__n_estimators=150, model__reg_alpha=0.01, model__subsample=0.4, n_splits=5 \n",
      "[CV] model__colsample_bytree=0.5, model__max_depth=3, model__n_estimators=150, model__reg_alpha=0.01, model__subsample=0.4, n_splits=5 \n"
     ]
    },
    {
     "name": "stderr",
     "output_type": "stream",
     "text": [
      "100%|██████████| 2/2 [00:20<00:00, 10.34s/it]\n"
     ]
    },
    {
     "name": "stdout",
     "output_type": "stream",
     "text": [
      "[CV]  model__colsample_bytree=0.5, model__max_depth=3, model__n_estimators=150, model__reg_alpha=0.01, model__subsample=0.4, n_splits=2, total=  21.0s\n",
      "[CV] model__colsample_bytree=0.5, model__max_depth=3, model__n_estimators=150, model__reg_alpha=0.01, model__subsample=0.4, n_splits=5 \n"
     ]
    },
    {
     "name": "stderr",
     "output_type": "stream",
     "text": [
      "100%|██████████| 2/2 [00:42<00:00, 21.20s/it]\n"
     ]
    },
    {
     "name": "stdout",
     "output_type": "stream",
     "text": [
      "[CV]  model__colsample_bytree=0.5, model__max_depth=3, model__n_estimators=150, model__reg_alpha=0.01, model__subsample=0.4, n_splits=2, total=  42.8s\n",
      "[CV] model__colsample_bytree=0.5, model__max_depth=3, model__n_estimators=150, model__reg_alpha=0.01, model__subsample=0.6, n_splits=2 \n"
     ]
    },
    {
     "name": "stderr",
     "output_type": "stream",
     "text": [
      "100%|██████████| 3/3 [01:08<00:00, 22.97s/it]\n"
     ]
    },
    {
     "name": "stdout",
     "output_type": "stream",
     "text": [
      "[CV]  model__colsample_bytree=0.5, model__max_depth=3, model__n_estimators=150, model__reg_alpha=0.01, model__subsample=0.4, n_splits=3, total= 1.2min\n",
      "[CV] model__colsample_bytree=0.5, model__max_depth=3, model__n_estimators=150, model__reg_alpha=0.01, model__subsample=0.6, n_splits=2 \n"
     ]
    },
    {
     "name": "stderr",
     "output_type": "stream",
     "text": [
      "100%|██████████| 3/3 [01:20<00:00, 26.72s/it]\n"
     ]
    },
    {
     "name": "stdout",
     "output_type": "stream",
     "text": [
      "[CV]  model__colsample_bytree=0.5, model__max_depth=3, model__n_estimators=150, model__reg_alpha=0.01, model__subsample=0.4, n_splits=3, total= 1.3min\n",
      "[CV] model__colsample_bytree=0.5, model__max_depth=3, model__n_estimators=150, model__reg_alpha=0.01, model__subsample=0.6, n_splits=2 \n"
     ]
    },
    {
     "name": "stderr",
     "output_type": "stream",
     "text": [
      "100%|██████████| 3/3 [01:29<00:00, 29.94s/it]\n"
     ]
    },
    {
     "name": "stdout",
     "output_type": "stream",
     "text": [
      "[CV]  model__colsample_bytree=0.5, model__max_depth=3, model__n_estimators=150, model__reg_alpha=0.01, model__subsample=0.4, n_splits=3, total= 1.5min\n",
      "[CV] model__colsample_bytree=0.5, model__max_depth=3, model__n_estimators=150, model__reg_alpha=0.01, model__subsample=0.6, n_splits=3 \n"
     ]
    },
    {
     "name": "stderr",
     "output_type": "stream",
     "text": [
      "100%|██████████| 2/2 [00:57<00:00, 28.76s/it]\n"
     ]
    },
    {
     "name": "stdout",
     "output_type": "stream",
     "text": [
      "[CV]  model__colsample_bytree=0.5, model__max_depth=3, model__n_estimators=150, model__reg_alpha=0.01, model__subsample=0.6, n_splits=2, total=  57.8s\n",
      "[CV] model__colsample_bytree=0.5, model__max_depth=3, model__n_estimators=150, model__reg_alpha=0.01, model__subsample=0.6, n_splits=3 \n"
     ]
    },
    {
     "name": "stderr",
     "output_type": "stream",
     "text": [
      "100%|██████████| 4/4 [01:58<00:00, 29.69s/it]\n",
      " 33%|███▎      | 1/3 [00:28<00:57, 28.88s/it]"
     ]
    },
    {
     "name": "stdout",
     "output_type": "stream",
     "text": [
      "[CV]  model__colsample_bytree=0.5, model__max_depth=3, model__n_estimators=150, model__reg_alpha=0.01, model__subsample=0.4, n_splits=4, total= 2.0min\n",
      "[CV] model__colsample_bytree=0.5, model__max_depth=3, model__n_estimators=150, model__reg_alpha=0.01, model__subsample=0.6, n_splits=3 \n"
     ]
    },
    {
     "name": "stderr",
     "output_type": "stream",
     "text": [
      "100%|██████████| 2/2 [00:58<00:00, 29.13s/it]\n"
     ]
    },
    {
     "name": "stdout",
     "output_type": "stream",
     "text": [
      "[CV]  model__colsample_bytree=0.5, model__max_depth=3, model__n_estimators=150, model__reg_alpha=0.01, model__subsample=0.6, n_splits=2, total=  58.6s\n",
      "[CV] model__colsample_bytree=0.5, model__max_depth=3, model__n_estimators=150, model__reg_alpha=0.01, model__subsample=0.6, n_splits=4 \n"
     ]
    },
    {
     "name": "stderr",
     "output_type": "stream",
     "text": [
      "100%|██████████| 2/2 [00:59<00:00, 29.81s/it]\n"
     ]
    },
    {
     "name": "stdout",
     "output_type": "stream",
     "text": [
      "[CV]  model__colsample_bytree=0.5, model__max_depth=3, model__n_estimators=150, model__reg_alpha=0.01, model__subsample=0.6, n_splits=2, total= 1.0min\n",
      "[CV] model__colsample_bytree=0.5, model__max_depth=3, model__n_estimators=150, model__reg_alpha=0.01, model__subsample=0.6, n_splits=4 \n"
     ]
    },
    {
     "name": "stderr",
     "output_type": "stream",
     "text": [
      "100%|██████████| 5/5 [02:22<00:00, 28.57s/it]\n",
      " 83%|████████▎ | 5/6 [02:22<00:28, 28.58s/it]"
     ]
    },
    {
     "name": "stdout",
     "output_type": "stream",
     "text": [
      "[CV]  model__colsample_bytree=0.5, model__max_depth=3, model__n_estimators=150, model__reg_alpha=0.01, model__subsample=0.4, n_splits=4, total= 2.4min\n",
      "[CV] model__colsample_bytree=0.5, model__max_depth=3, model__n_estimators=150, model__reg_alpha=0.01, model__subsample=0.6, n_splits=4 \n"
     ]
    },
    {
     "name": "stderr",
     "output_type": "stream",
     "text": [
      "100%|██████████| 5/5 [02:24<00:00, 28.81s/it]\n",
      "  0%|          | 0/4 [00:00<?, ?it/s]"
     ]
    },
    {
     "name": "stdout",
     "output_type": "stream",
     "text": [
      "[CV]  model__colsample_bytree=0.5, model__max_depth=3, model__n_estimators=150, model__reg_alpha=0.01, model__subsample=0.4, n_splits=5, total= 2.4min\n",
      "[CV] model__colsample_bytree=0.5, model__max_depth=3, model__n_estimators=150, model__reg_alpha=0.01, model__subsample=0.6, n_splits=5 \n"
     ]
    },
    {
     "name": "stderr",
     "output_type": "stream",
     "text": [
      "100%|██████████| 6/6 [02:47<00:00, 27.99s/it]\n"
     ]
    },
    {
     "name": "stdout",
     "output_type": "stream",
     "text": [
      "[CV]  model__colsample_bytree=0.5, model__max_depth=3, model__n_estimators=150, model__reg_alpha=0.01, model__subsample=0.4, n_splits=4, total= 2.8min\n",
      "[CV] model__colsample_bytree=0.5, model__max_depth=3, model__n_estimators=150, model__reg_alpha=0.01, model__subsample=0.6, n_splits=5 \n"
     ]
    },
    {
     "name": "stderr",
     "output_type": "stream",
     "text": [
      "100%|██████████| 5/5 [02:29<00:00, 29.82s/it]\n",
      " 20%|██        | 1/5 [00:28<01:52, 28.06s/it]"
     ]
    },
    {
     "name": "stdout",
     "output_type": "stream",
     "text": [
      "[CV]  model__colsample_bytree=0.5, model__max_depth=3, model__n_estimators=150, model__reg_alpha=0.01, model__subsample=0.4, n_splits=5, total= 2.5min\n",
      "[CV] model__colsample_bytree=0.5, model__max_depth=3, model__n_estimators=150, model__reg_alpha=0.01, model__subsample=0.6, n_splits=5 \n"
     ]
    },
    {
     "name": "stderr",
     "output_type": "stream",
     "text": [
      "100%|██████████| 6/6 [02:52<00:00, 28.74s/it]\n",
      " 25%|██▌       | 1/4 [00:28<01:24, 28.21s/it]"
     ]
    },
    {
     "name": "stdout",
     "output_type": "stream",
     "text": [
      "[CV]  model__colsample_bytree=0.5, model__max_depth=3, model__n_estimators=150, model__reg_alpha=0.01, model__subsample=0.4, n_splits=5, total= 2.9min\n"
     ]
    },
    {
     "name": "stderr",
     "output_type": "stream",
     "text": [
      "\r",
      " 17%|█▋        | 1/6 [00:27<02:18, 27.78s/it]"
     ]
    },
    {
     "name": "stdout",
     "output_type": "stream",
     "text": [
      "[CV] model__colsample_bytree=0.5, model__max_depth=3, model__n_estimators=150, model__reg_alpha=0.03, model__subsample=0.4, n_splits=2 \n"
     ]
    },
    {
     "name": "stderr",
     "output_type": "stream",
     "text": [
      "100%|██████████| 3/3 [01:27<00:00, 29.05s/it]\n"
     ]
    },
    {
     "name": "stdout",
     "output_type": "stream",
     "text": [
      "[CV]  model__colsample_bytree=0.5, model__max_depth=3, model__n_estimators=150, model__reg_alpha=0.01, model__subsample=0.6, n_splits=3, total= 1.5min\n",
      "[CV] model__colsample_bytree=0.5, model__max_depth=3, model__n_estimators=150, model__reg_alpha=0.03, model__subsample=0.4, n_splits=2 \n"
     ]
    },
    {
     "name": "stderr",
     "output_type": "stream",
     "text": [
      "100%|██████████| 3/3 [01:27<00:00, 29.25s/it]\n"
     ]
    },
    {
     "name": "stdout",
     "output_type": "stream",
     "text": [
      "[CV]  model__colsample_bytree=0.5, model__max_depth=3, model__n_estimators=150, model__reg_alpha=0.01, model__subsample=0.6, n_splits=3, total= 1.5min\n",
      "[CV] model__colsample_bytree=0.5, model__max_depth=3, model__n_estimators=150, model__reg_alpha=0.03, model__subsample=0.4, n_splits=2 \n"
     ]
    },
    {
     "name": "stderr",
     "output_type": "stream",
     "text": [
      "100%|██████████| 3/3 [01:29<00:00, 29.96s/it]\n"
     ]
    },
    {
     "name": "stdout",
     "output_type": "stream",
     "text": [
      "[CV]  model__colsample_bytree=0.5, model__max_depth=3, model__n_estimators=150, model__reg_alpha=0.01, model__subsample=0.6, n_splits=3, total= 1.5min\n",
      "[CV] model__colsample_bytree=0.5, model__max_depth=3, model__n_estimators=150, model__reg_alpha=0.03, model__subsample=0.4, n_splits=3 \n"
     ]
    },
    {
     "name": "stderr",
     "output_type": "stream",
     "text": [
      "100%|██████████| 2/2 [00:59<00:00, 29.70s/it]\n"
     ]
    },
    {
     "name": "stdout",
     "output_type": "stream",
     "text": [
      "[CV]  model__colsample_bytree=0.5, model__max_depth=3, model__n_estimators=150, model__reg_alpha=0.03, model__subsample=0.4, n_splits=2, total=  59.7s\n",
      "[CV] model__colsample_bytree=0.5, model__max_depth=3, model__n_estimators=150, model__reg_alpha=0.03, model__subsample=0.4, n_splits=3 \n"
     ]
    },
    {
     "name": "stderr",
     "output_type": "stream",
     "text": [
      "100%|██████████| 2/2 [00:59<00:00, 29.70s/it]\n"
     ]
    },
    {
     "name": "stdout",
     "output_type": "stream",
     "text": [
      "[CV]  model__colsample_bytree=0.5, model__max_depth=3, model__n_estimators=150, model__reg_alpha=0.03, model__subsample=0.4, n_splits=2, total=  59.8s\n",
      "[CV] model__colsample_bytree=0.5, model__max_depth=3, model__n_estimators=150, model__reg_alpha=0.03, model__subsample=0.4, n_splits=3 \n"
     ]
    },
    {
     "name": "stderr",
     "output_type": "stream",
     "text": [
      "100%|██████████| 2/2 [00:59<00:00, 29.77s/it]\n"
     ]
    },
    {
     "name": "stdout",
     "output_type": "stream",
     "text": [
      "[CV]  model__colsample_bytree=0.5, model__max_depth=3, model__n_estimators=150, model__reg_alpha=0.03, model__subsample=0.4, n_splits=2, total=  59.9s\n"
     ]
    },
    {
     "name": "stderr",
     "output_type": "stream",
     "text": [
      "[Parallel(n_jobs=10)]: Done  21 tasks      | elapsed:  4.2min\n"
     ]
    },
    {
     "name": "stdout",
     "output_type": "stream",
     "text": [
      "[CV] model__colsample_bytree=0.5, model__max_depth=3, model__n_estimators=150, model__reg_alpha=0.03, model__subsample=0.4, n_splits=4 \n"
     ]
    },
    {
     "name": "stderr",
     "output_type": "stream",
     "text": [
      "100%|██████████| 4/4 [01:56<00:00, 29.22s/it]\n",
      " 33%|███▎      | 1/3 [00:28<00:56, 28.47s/it]"
     ]
    },
    {
     "name": "stdout",
     "output_type": "stream",
     "text": [
      "[CV]  model__colsample_bytree=0.5, model__max_depth=3, model__n_estimators=150, model__reg_alpha=0.01, model__subsample=0.6, n_splits=4, total= 2.0min\n",
      "[CV] model__colsample_bytree=0.5, model__max_depth=3, model__n_estimators=150, model__reg_alpha=0.03, model__subsample=0.4, n_splits=4 \n"
     ]
    },
    {
     "name": "stderr",
     "output_type": "stream",
     "text": [
      "100%|██████████| 5/5 [02:23<00:00, 28.72s/it]\n"
     ]
    },
    {
     "name": "stdout",
     "output_type": "stream",
     "text": [
      "[CV]  model__colsample_bytree=0.5, model__max_depth=3, model__n_estimators=150, model__reg_alpha=0.01, model__subsample=0.6, n_splits=4, total= 2.4min\n",
      "[CV] model__colsample_bytree=0.5, model__max_depth=3, model__n_estimators=150, model__reg_alpha=0.03, model__subsample=0.4, n_splits=4 \n"
     ]
    },
    {
     "name": "stderr",
     "output_type": "stream",
     "text": [
      "100%|██████████| 3/3 [01:27<00:00, 29.28s/it]\n",
      "100%|██████████| 6/6 [02:52<00:00, 28.75s/it]\n"
     ]
    },
    {
     "name": "stdout",
     "output_type": "stream",
     "text": [
      "[CV]  model__colsample_bytree=0.5, model__max_depth=3, model__n_estimators=150, model__reg_alpha=0.03, model__subsample=0.4, n_splits=3, total= 1.5min\n",
      "[CV] model__colsample_bytree=0.5, model__max_depth=3, model__n_estimators=150, model__reg_alpha=0.03, model__subsample=0.4, n_splits=5 \n"
     ]
    },
    {
     "name": "stderr",
     "output_type": "stream",
     "text": [
      "\r",
      "  0%|          | 0/6 [00:00<?, ?it/s]"
     ]
    },
    {
     "name": "stdout",
     "output_type": "stream",
     "text": [
      "[CV]  model__colsample_bytree=0.5, model__max_depth=3, model__n_estimators=150, model__reg_alpha=0.01, model__subsample=0.6, n_splits=4, total= 2.9min\n",
      "[CV] model__colsample_bytree=0.5, model__max_depth=3, model__n_estimators=150, model__reg_alpha=0.03, model__subsample=0.4, n_splits=5 \n"
     ]
    },
    {
     "name": "stderr",
     "output_type": "stream",
     "text": [
      "100%|██████████| 5/5 [02:23<00:00, 28.63s/it]\n"
     ]
    },
    {
     "name": "stdout",
     "output_type": "stream",
     "text": [
      "[CV]  model__colsample_bytree=0.5, model__max_depth=3, model__n_estimators=150, model__reg_alpha=0.01, model__subsample=0.6, n_splits=5, total= 2.4min\n",
      "[CV] model__colsample_bytree=0.5, model__max_depth=3, model__n_estimators=150, model__reg_alpha=0.03, model__subsample=0.4, n_splits=5 \n"
     ]
    },
    {
     "name": "stderr",
     "output_type": "stream",
     "text": [
      "100%|██████████| 6/6 [02:50<00:00, 28.36s/it]\n"
     ]
    },
    {
     "name": "stdout",
     "output_type": "stream",
     "text": [
      "[CV]  model__colsample_bytree=0.5, model__max_depth=3, model__n_estimators=150, model__reg_alpha=0.01, model__subsample=0.6, n_splits=5, total= 2.8min\n",
      "[CV] model__colsample_bytree=0.5, model__max_depth=3, model__n_estimators=150, model__reg_alpha=0.03, model__subsample=0.6, n_splits=2 \n"
     ]
    },
    {
     "name": "stderr",
     "output_type": "stream",
     "text": [
      "100%|██████████| 5/5 [02:26<00:00, 29.28s/it]\n"
     ]
    },
    {
     "name": "stdout",
     "output_type": "stream",
     "text": [
      "[CV]  model__colsample_bytree=0.5, model__max_depth=3, model__n_estimators=150, model__reg_alpha=0.01, model__subsample=0.6, n_splits=5, total= 2.4min\n",
      "[CV] model__colsample_bytree=0.5, model__max_depth=3, model__n_estimators=150, model__reg_alpha=0.03, model__subsample=0.6, n_splits=2 \n"
     ]
    },
    {
     "name": "stderr",
     "output_type": "stream",
     "text": [
      "100%|██████████| 3/3 [01:26<00:00, 29.00s/it]\n"
     ]
    },
    {
     "name": "stdout",
     "output_type": "stream",
     "text": [
      "[CV]  model__colsample_bytree=0.5, model__max_depth=3, model__n_estimators=150, model__reg_alpha=0.03, model__subsample=0.4, n_splits=3, total= 1.5min\n",
      "[CV] model__colsample_bytree=0.5, model__max_depth=3, model__n_estimators=150, model__reg_alpha=0.03, model__subsample=0.6, n_splits=2 \n"
     ]
    },
    {
     "name": "stderr",
     "output_type": "stream",
     "text": [
      "100%|██████████| 3/3 [01:28<00:00, 29.59s/it]\n",
      " 17%|█▋        | 1/6 [00:27<02:18, 27.78s/it]"
     ]
    },
    {
     "name": "stdout",
     "output_type": "stream",
     "text": [
      "[CV]  model__colsample_bytree=0.5, model__max_depth=3, model__n_estimators=150, model__reg_alpha=0.03, model__subsample=0.4, n_splits=3, total= 1.5min\n"
     ]
    },
    {
     "name": "stderr",
     "output_type": "stream",
     "text": [
      "\r",
      " 20%|██        | 1/5 [00:27<01:51, 27.78s/it]"
     ]
    },
    {
     "name": "stdout",
     "output_type": "stream",
     "text": [
      "[CV] model__colsample_bytree=0.5, model__max_depth=3, model__n_estimators=150, model__reg_alpha=0.03, model__subsample=0.6, n_splits=3 \n"
     ]
    },
    {
     "name": "stderr",
     "output_type": "stream",
     "text": [
      "100%|██████████| 2/2 [00:57<00:00, 28.90s/it]\n"
     ]
    },
    {
     "name": "stdout",
     "output_type": "stream",
     "text": [
      "[CV]  model__colsample_bytree=0.5, model__max_depth=3, model__n_estimators=150, model__reg_alpha=0.03, model__subsample=0.6, n_splits=2, total=  58.0s\n",
      "[CV] model__colsample_bytree=0.5, model__max_depth=3, model__n_estimators=150, model__reg_alpha=0.03, model__subsample=0.6, n_splits=3 \n"
     ]
    },
    {
     "name": "stderr",
     "output_type": "stream",
     "text": [
      "100%|██████████| 2/2 [01:00<00:00, 30.01s/it]\n"
     ]
    },
    {
     "name": "stdout",
     "output_type": "stream",
     "text": [
      "[CV]  model__colsample_bytree=0.5, model__max_depth=3, model__n_estimators=150, model__reg_alpha=0.03, model__subsample=0.6, n_splits=2, total= 1.0min\n",
      "[CV] model__colsample_bytree=0.5, model__max_depth=3, model__n_estimators=150, model__reg_alpha=0.03, model__subsample=0.6, n_splits=3 \n"
     ]
    },
    {
     "name": "stderr",
     "output_type": "stream",
     "text": [
      "100%|██████████| 2/2 [01:00<00:00, 30.39s/it]\n"
     ]
    },
    {
     "name": "stdout",
     "output_type": "stream",
     "text": [
      "[CV]  model__colsample_bytree=0.5, model__max_depth=3, model__n_estimators=150, model__reg_alpha=0.03, model__subsample=0.6, n_splits=2, total= 1.0min\n",
      "[CV] model__colsample_bytree=0.5, model__max_depth=3, model__n_estimators=150, model__reg_alpha=0.03, model__subsample=0.6, n_splits=4 \n"
     ]
    },
    {
     "name": "stderr",
     "output_type": "stream",
     "text": [
      "100%|██████████| 4/4 [01:56<00:00, 29.14s/it]\n"
     ]
    },
    {
     "name": "stdout",
     "output_type": "stream",
     "text": [
      "[CV]  model__colsample_bytree=0.5, model__max_depth=3, model__n_estimators=150, model__reg_alpha=0.03, model__subsample=0.4, n_splits=4, total= 2.0min\n"
     ]
    },
    {
     "name": "stderr",
     "output_type": "stream",
     "text": [
      "\r",
      " 33%|███▎      | 1/3 [00:28<00:57, 28.64s/it]"
     ]
    },
    {
     "name": "stdout",
     "output_type": "stream",
     "text": [
      "[CV] model__colsample_bytree=0.5, model__max_depth=3, model__n_estimators=150, model__reg_alpha=0.03, model__subsample=0.6, n_splits=4 \n"
     ]
    },
    {
     "name": "stderr",
     "output_type": "stream",
     "text": [
      "100%|██████████| 5/5 [02:23<00:00, 28.79s/it]\n"
     ]
    },
    {
     "name": "stdout",
     "output_type": "stream",
     "text": [
      "[CV]  model__colsample_bytree=0.5, model__max_depth=3, model__n_estimators=150, model__reg_alpha=0.03, model__subsample=0.4, n_splits=4, total= 2.4min\n",
      "[CV] model__colsample_bytree=0.5, model__max_depth=3, model__n_estimators=150, model__reg_alpha=0.03, model__subsample=0.6, n_splits=4 \n"
     ]
    },
    {
     "name": "stderr",
     "output_type": "stream",
     "text": [
      "100%|██████████| 3/3 [01:27<00:00, 29.16s/it]\n"
     ]
    },
    {
     "name": "stdout",
     "output_type": "stream",
     "text": [
      "[CV]  model__colsample_bytree=0.5, model__max_depth=3, model__n_estimators=150, model__reg_alpha=0.03, model__subsample=0.6, n_splits=3, total= 1.5min\n",
      "[CV] model__colsample_bytree=0.5, model__max_depth=3, model__n_estimators=150, model__reg_alpha=0.03, model__subsample=0.6, n_splits=5 \n"
     ]
    },
    {
     "name": "stderr",
     "output_type": "stream",
     "text": [
      "100%|██████████| 6/6 [02:51<00:00, 28.66s/it]\n"
     ]
    },
    {
     "name": "stdout",
     "output_type": "stream",
     "text": [
      "[CV]  model__colsample_bytree=0.5, model__max_depth=3, model__n_estimators=150, model__reg_alpha=0.03, model__subsample=0.4, n_splits=4, total= 2.9min\n",
      "[CV] model__colsample_bytree=0.5, model__max_depth=3, model__n_estimators=150, model__reg_alpha=0.03, model__subsample=0.6, n_splits=5 \n"
     ]
    },
    {
     "name": "stderr",
     "output_type": "stream",
     "text": [
      "100%|██████████| 5/5 [02:21<00:00, 28.35s/it]\n"
     ]
    },
    {
     "name": "stdout",
     "output_type": "stream",
     "text": [
      "[CV]  model__colsample_bytree=0.5, model__max_depth=3, model__n_estimators=150, model__reg_alpha=0.03, model__subsample=0.4, n_splits=5, total= 2.4min\n",
      "[CV] model__colsample_bytree=0.5, model__max_depth=3, model__n_estimators=150, model__reg_alpha=0.03, model__subsample=0.6, n_splits=5 \n"
     ]
    },
    {
     "name": "stderr",
     "output_type": "stream",
     "text": [
      "100%|██████████| 5/5 [02:26<00:00, 29.20s/it]\n"
     ]
    },
    {
     "name": "stdout",
     "output_type": "stream",
     "text": [
      "[CV]  model__colsample_bytree=0.5, model__max_depth=3, model__n_estimators=150, model__reg_alpha=0.03, model__subsample=0.4, n_splits=5, total= 2.4min\n",
      "[CV] model__colsample_bytree=0.5, model__max_depth=3, model__n_estimators=250, model__reg_alpha=0.01, model__subsample=0.4, n_splits=2 \n"
     ]
    },
    {
     "name": "stderr",
     "output_type": "stream",
     "text": [
      "100%|██████████| 3/3 [01:26<00:00, 28.77s/it]\n",
      " 40%|████      | 2/5 [00:57<01:26, 28.86s/it]"
     ]
    },
    {
     "name": "stdout",
     "output_type": "stream",
     "text": [
      "[CV]  model__colsample_bytree=0.5, model__max_depth=3, model__n_estimators=150, model__reg_alpha=0.03, model__subsample=0.6, n_splits=3, total= 1.4min\n",
      "[CV] model__colsample_bytree=0.5, model__max_depth=3, model__n_estimators=250, model__reg_alpha=0.01, model__subsample=0.4, n_splits=2 \n"
     ]
    },
    {
     "name": "stderr",
     "output_type": "stream",
     "text": [
      "100%|██████████| 3/3 [01:30<00:00, 30.02s/it]\n",
      " 50%|█████     | 3/6 [01:26<01:26, 28.83s/it]"
     ]
    },
    {
     "name": "stdout",
     "output_type": "stream",
     "text": [
      "[CV]  model__colsample_bytree=0.5, model__max_depth=3, model__n_estimators=150, model__reg_alpha=0.03, model__subsample=0.6, n_splits=3, total= 1.5min\n",
      "[CV] model__colsample_bytree=0.5, model__max_depth=3, model__n_estimators=250, model__reg_alpha=0.01, model__subsample=0.4, n_splits=2 \n"
     ]
    },
    {
     "name": "stderr",
     "output_type": "stream",
     "text": [
      "100%|██████████| 6/6 [02:53<00:00, 28.98s/it]\n",
      " 33%|███▎      | 2/6 [00:56<01:53, 28.42s/it]"
     ]
    },
    {
     "name": "stdout",
     "output_type": "stream",
     "text": [
      "[CV]  model__colsample_bytree=0.5, model__max_depth=3, model__n_estimators=150, model__reg_alpha=0.03, model__subsample=0.4, n_splits=5, total= 2.9min\n",
      "[CV] model__colsample_bytree=0.5, model__max_depth=3, model__n_estimators=250, model__reg_alpha=0.01, model__subsample=0.4, n_splits=3 \n"
     ]
    },
    {
     "name": "stderr",
     "output_type": "stream",
     "text": [
      "100%|██████████| 4/4 [01:57<00:00, 29.46s/it]\n"
     ]
    },
    {
     "name": "stdout",
     "output_type": "stream",
     "text": [
      "[CV]  model__colsample_bytree=0.5, model__max_depth=3, model__n_estimators=150, model__reg_alpha=0.03, model__subsample=0.6, n_splits=4, total= 2.0min\n",
      "[CV] model__colsample_bytree=0.5, model__max_depth=3, model__n_estimators=250, model__reg_alpha=0.01, model__subsample=0.4, n_splits=3 \n"
     ]
    },
    {
     "name": "stderr",
     "output_type": "stream",
     "text": [
      "100%|██████████| 5/5 [02:25<00:00, 29.03s/it]\n"
     ]
    },
    {
     "name": "stdout",
     "output_type": "stream",
     "text": [
      "[CV]  model__colsample_bytree=0.5, model__max_depth=3, model__n_estimators=150, model__reg_alpha=0.03, model__subsample=0.6, n_splits=4, total= 2.4min\n",
      "[CV] model__colsample_bytree=0.5, model__max_depth=3, model__n_estimators=250, model__reg_alpha=0.01, model__subsample=0.4, n_splits=3 \n"
     ]
    },
    {
     "name": "stderr",
     "output_type": "stream",
     "text": [
      "100%|██████████| 2/2 [01:34<00:00, 47.26s/it]\n"
     ]
    },
    {
     "name": "stdout",
     "output_type": "stream",
     "text": [
      "[CV]  model__colsample_bytree=0.5, model__max_depth=3, model__n_estimators=250, model__reg_alpha=0.01, model__subsample=0.4, n_splits=2, total= 1.6min\n",
      "[CV] model__colsample_bytree=0.5, model__max_depth=3, model__n_estimators=250, model__reg_alpha=0.01, model__subsample=0.4, n_splits=4 \n"
     ]
    },
    {
     "name": "stderr",
     "output_type": "stream",
     "text": [
      "100%|██████████| 6/6 [02:53<00:00, 28.96s/it]\n"
     ]
    },
    {
     "name": "stdout",
     "output_type": "stream",
     "text": [
      "[CV]  model__colsample_bytree=0.5, model__max_depth=3, model__n_estimators=150, model__reg_alpha=0.03, model__subsample=0.6, n_splits=4, total= 2.9min\n",
      "[CV] model__colsample_bytree=0.5, model__max_depth=3, model__n_estimators=250, model__reg_alpha=0.01, model__subsample=0.4, n_splits=4 \n"
     ]
    },
    {
     "name": "stderr",
     "output_type": "stream",
     "text": [
      "100%|██████████| 2/2 [01:36<00:00, 48.44s/it]\n"
     ]
    },
    {
     "name": "stdout",
     "output_type": "stream",
     "text": [
      "[CV]  model__colsample_bytree=0.5, model__max_depth=3, model__n_estimators=250, model__reg_alpha=0.01, model__subsample=0.4, n_splits=2, total= 1.6min\n",
      "[CV] model__colsample_bytree=0.5, model__max_depth=3, model__n_estimators=250, model__reg_alpha=0.01, model__subsample=0.4, n_splits=4 \n"
     ]
    },
    {
     "name": "stderr",
     "output_type": "stream",
     "text": [
      "100%|██████████| 5/5 [02:24<00:00, 28.95s/it]\n"
     ]
    },
    {
     "name": "stdout",
     "output_type": "stream",
     "text": [
      "[CV]  model__colsample_bytree=0.5, model__max_depth=3, model__n_estimators=150, model__reg_alpha=0.03, model__subsample=0.6, n_splits=5, total= 2.4min\n",
      "[CV] model__colsample_bytree=0.5, model__max_depth=3, model__n_estimators=250, model__reg_alpha=0.01, model__subsample=0.4, n_splits=5 \n"
     ]
    },
    {
     "name": "stderr",
     "output_type": "stream",
     "text": [
      "100%|██████████| 2/2 [01:40<00:00, 50.08s/it]\n",
      " 67%|██████▋   | 2/3 [01:37<00:48, 48.51s/it]"
     ]
    },
    {
     "name": "stdout",
     "output_type": "stream",
     "text": [
      "[CV]  model__colsample_bytree=0.5, model__max_depth=3, model__n_estimators=250, model__reg_alpha=0.01, model__subsample=0.4, n_splits=2, total= 1.7min\n",
      "[CV] model__colsample_bytree=0.5, model__max_depth=3, model__n_estimators=250, model__reg_alpha=0.01, model__subsample=0.4, n_splits=5 \n"
     ]
    },
    {
     "name": "stderr",
     "output_type": "stream",
     "text": [
      "100%|██████████| 6/6 [02:54<00:00, 29.04s/it]\n",
      "100%|██████████| 5/5 [02:27<00:00, 29.50s/it]\n"
     ]
    },
    {
     "name": "stdout",
     "output_type": "stream",
     "text": [
      "[CV]  model__colsample_bytree=0.5, model__max_depth=3, model__n_estimators=150, model__reg_alpha=0.03, model__subsample=0.6, n_splits=5, total= 2.9min\n",
      "[CV] model__colsample_bytree=0.5, model__max_depth=3, model__n_estimators=250, model__reg_alpha=0.01, model__subsample=0.4, n_splits=5 \n"
     ]
    },
    {
     "name": "stderr",
     "output_type": "stream",
     "text": [
      "\r",
      "  0%|          | 0/5 [00:00<?, ?it/s]"
     ]
    },
    {
     "name": "stdout",
     "output_type": "stream",
     "text": [
      "[CV]  model__colsample_bytree=0.5, model__max_depth=3, model__n_estimators=150, model__reg_alpha=0.03, model__subsample=0.6, n_splits=5, total= 2.5min\n",
      "[CV] model__colsample_bytree=0.5, model__max_depth=3, model__n_estimators=250, model__reg_alpha=0.01, model__subsample=0.6, n_splits=2 \n"
     ]
    },
    {
     "name": "stderr",
     "output_type": "stream",
     "text": [
      "100%|██████████| 3/3 [02:25<00:00, 48.49s/it]\n",
      " 20%|██        | 1/5 [00:48<03:12, 48.04s/it]"
     ]
    },
    {
     "name": "stdout",
     "output_type": "stream",
     "text": [
      "[CV]  model__colsample_bytree=0.5, model__max_depth=3, model__n_estimators=250, model__reg_alpha=0.01, model__subsample=0.4, n_splits=3, total= 2.4min\n",
      "[CV] model__colsample_bytree=0.5, model__max_depth=3, model__n_estimators=250, model__reg_alpha=0.01, model__subsample=0.6, n_splits=2 \n"
     ]
    },
    {
     "name": "stderr",
     "output_type": "stream",
     "text": [
      "100%|██████████| 3/3 [02:25<00:00, 48.65s/it]\n"
     ]
    },
    {
     "name": "stdout",
     "output_type": "stream",
     "text": [
      "[CV]  model__colsample_bytree=0.5, model__max_depth=3, model__n_estimators=250, model__reg_alpha=0.01, model__subsample=0.4, n_splits=3, total= 2.4min\n",
      "[CV] model__colsample_bytree=0.5, model__max_depth=3, model__n_estimators=250, model__reg_alpha=0.01, model__subsample=0.6, n_splits=2 \n"
     ]
    },
    {
     "name": "stderr",
     "output_type": "stream",
     "text": [
      "100%|██████████| 2/2 [01:35<00:00, 47.60s/it]\n"
     ]
    },
    {
     "name": "stdout",
     "output_type": "stream",
     "text": [
      "[CV]  model__colsample_bytree=0.5, model__max_depth=3, model__n_estimators=250, model__reg_alpha=0.01, model__subsample=0.6, n_splits=2, total= 1.6min\n",
      "[CV] model__colsample_bytree=0.5, model__max_depth=3, model__n_estimators=250, model__reg_alpha=0.01, model__subsample=0.6, n_splits=3 \n"
     ]
    },
    {
     "name": "stderr",
     "output_type": "stream",
     "text": [
      "100%|██████████| 3/3 [02:25<00:00, 48.39s/it]\n"
     ]
    },
    {
     "name": "stdout",
     "output_type": "stream",
     "text": [
      "[CV]  model__colsample_bytree=0.5, model__max_depth=3, model__n_estimators=250, model__reg_alpha=0.01, model__subsample=0.4, n_splits=3, total= 2.4min\n",
      "[CV] model__colsample_bytree=0.5, model__max_depth=3, model__n_estimators=250, model__reg_alpha=0.01, model__subsample=0.6, n_splits=3 \n"
     ]
    },
    {
     "name": "stderr",
     "output_type": "stream",
     "text": [
      "100%|██████████| 2/2 [01:40<00:00, 50.25s/it]\n",
      " 50%|█████     | 1/2 [00:47<00:47, 47.49s/it]"
     ]
    },
    {
     "name": "stdout",
     "output_type": "stream",
     "text": [
      "[CV]  model__colsample_bytree=0.5, model__max_depth=3, model__n_estimators=250, model__reg_alpha=0.01, model__subsample=0.6, n_splits=2, total= 1.7min\n",
      "[CV] model__colsample_bytree=0.5, model__max_depth=3, model__n_estimators=250, model__reg_alpha=0.01, model__subsample=0.6, n_splits=3 \n"
     ]
    },
    {
     "name": "stderr",
     "output_type": "stream",
     "text": [
      "100%|██████████| 4/4 [03:15<00:00, 48.99s/it]\n",
      " 67%|██████▋   | 4/6 [03:08<01:34, 47.07s/it]"
     ]
    },
    {
     "name": "stdout",
     "output_type": "stream",
     "text": [
      "[CV]  model__colsample_bytree=0.5, model__max_depth=3, model__n_estimators=250, model__reg_alpha=0.01, model__subsample=0.4, n_splits=4, total= 3.3min\n",
      "[CV] model__colsample_bytree=0.5, model__max_depth=3, model__n_estimators=250, model__reg_alpha=0.01, model__subsample=0.6, n_splits=4 \n"
     ]
    },
    {
     "name": "stderr",
     "output_type": "stream",
     "text": [
      "100%|██████████| 2/2 [01:38<00:00, 49.26s/it]\n"
     ]
    },
    {
     "name": "stdout",
     "output_type": "stream",
     "text": [
      "[CV]  model__colsample_bytree=0.5, model__max_depth=3, model__n_estimators=250, model__reg_alpha=0.01, model__subsample=0.6, n_splits=2, total= 1.6min\n",
      "[CV] model__colsample_bytree=0.5, model__max_depth=3, model__n_estimators=250, model__reg_alpha=0.01, model__subsample=0.6, n_splits=4 \n"
     ]
    },
    {
     "name": "stderr",
     "output_type": "stream",
     "text": [
      "100%|██████████| 5/5 [04:03<00:00, 48.67s/it]\n"
     ]
    },
    {
     "name": "stdout",
     "output_type": "stream",
     "text": [
      "[CV]  model__colsample_bytree=0.5, model__max_depth=3, model__n_estimators=250, model__reg_alpha=0.01, model__subsample=0.4, n_splits=4, total= 4.1min\n",
      "[CV] model__colsample_bytree=0.5, model__max_depth=3, model__n_estimators=250, model__reg_alpha=0.01, model__subsample=0.6, n_splits=4 \n"
     ]
    },
    {
     "name": "stderr",
     "output_type": "stream",
     "text": [
      "100%|██████████| 5/5 [04:04<00:00, 48.86s/it]\n"
     ]
    },
    {
     "name": "stdout",
     "output_type": "stream",
     "text": [
      "[CV]  model__colsample_bytree=0.5, model__max_depth=3, model__n_estimators=250, model__reg_alpha=0.01, model__subsample=0.4, n_splits=5, total= 4.1min\n",
      "[CV] model__colsample_bytree=0.5, model__max_depth=3, model__n_estimators=250, model__reg_alpha=0.01, model__subsample=0.6, n_splits=5 \n"
     ]
    },
    {
     "name": "stderr",
     "output_type": "stream",
     "text": [
      "100%|██████████| 3/3 [02:24<00:00, 48.01s/it]\n"
     ]
    },
    {
     "name": "stdout",
     "output_type": "stream",
     "text": [
      "[CV]  model__colsample_bytree=0.5, model__max_depth=3, model__n_estimators=250, model__reg_alpha=0.01, model__subsample=0.6, n_splits=3, total= 2.4min\n",
      "[CV] model__colsample_bytree=0.5, model__max_depth=3, model__n_estimators=250, model__reg_alpha=0.01, model__subsample=0.6, n_splits=5 \n"
     ]
    },
    {
     "name": "stderr",
     "output_type": "stream",
     "text": [
      "100%|██████████| 5/5 [04:05<00:00, 49.15s/it]\n"
     ]
    },
    {
     "name": "stdout",
     "output_type": "stream",
     "text": [
      "[CV]  model__colsample_bytree=0.5, model__max_depth=3, model__n_estimators=250, model__reg_alpha=0.01, model__subsample=0.4, n_splits=5, total= 4.1min\n",
      "[CV] model__colsample_bytree=0.5, model__max_depth=3, model__n_estimators=250, model__reg_alpha=0.01, model__subsample=0.6, n_splits=5 \n"
     ]
    },
    {
     "name": "stderr",
     "output_type": "stream",
     "text": [
      "100%|██████████| 3/3 [02:23<00:00, 47.86s/it]\n",
      "100%|██████████| 6/6 [04:45<00:00, 47.59s/it]\n"
     ]
    },
    {
     "name": "stdout",
     "output_type": "stream",
     "text": [
      "[CV]  model__colsample_bytree=0.5, model__max_depth=3, model__n_estimators=250, model__reg_alpha=0.01, model__subsample=0.6, n_splits=3, total= 2.4min\n",
      "[CV] model__colsample_bytree=0.5, model__max_depth=3, model__n_estimators=250, model__reg_alpha=0.03, model__subsample=0.4, n_splits=2 \n"
     ]
    },
    {
     "name": "stderr",
     "output_type": "stream",
     "text": [
      "\r",
      "  0%|          | 0/2 [00:00<?, ?it/s]"
     ]
    },
    {
     "name": "stdout",
     "output_type": "stream",
     "text": [
      "[CV]  model__colsample_bytree=0.5, model__max_depth=3, model__n_estimators=250, model__reg_alpha=0.01, model__subsample=0.4, n_splits=4, total= 4.8min\n",
      "[CV] model__colsample_bytree=0.5, model__max_depth=3, model__n_estimators=250, model__reg_alpha=0.03, model__subsample=0.4, n_splits=2 \n"
     ]
    },
    {
     "name": "stderr",
     "output_type": "stream",
     "text": [
      "100%|██████████| 6/6 [04:43<00:00, 47.20s/it]\n",
      " 25%|██▌       | 1/4 [00:49<02:27, 49.23s/it]"
     ]
    },
    {
     "name": "stdout",
     "output_type": "stream",
     "text": [
      "[CV]  model__colsample_bytree=0.5, model__max_depth=3, model__n_estimators=250, model__reg_alpha=0.01, model__subsample=0.4, n_splits=5, total= 4.7min\n",
      "[CV] model__colsample_bytree=0.5, model__max_depth=3, model__n_estimators=250, model__reg_alpha=0.03, model__subsample=0.4, n_splits=2 \n"
     ]
    },
    {
     "name": "stderr",
     "output_type": "stream",
     "text": [
      "100%|██████████| 3/3 [02:29<00:00, 49.90s/it]\n"
     ]
    },
    {
     "name": "stdout",
     "output_type": "stream",
     "text": [
      "[CV]  model__colsample_bytree=0.5, model__max_depth=3, model__n_estimators=250, model__reg_alpha=0.01, model__subsample=0.6, n_splits=3, total= 2.5min\n",
      "[CV] model__colsample_bytree=0.5, model__max_depth=3, model__n_estimators=250, model__reg_alpha=0.03, model__subsample=0.4, n_splits=3 \n"
     ]
    },
    {
     "name": "stderr",
     "output_type": "stream",
     "text": [
      "100%|██████████| 2/2 [01:37<00:00, 48.65s/it]\n"
     ]
    },
    {
     "name": "stdout",
     "output_type": "stream",
     "text": [
      "[CV]  model__colsample_bytree=0.5, model__max_depth=3, model__n_estimators=250, model__reg_alpha=0.03, model__subsample=0.4, n_splits=2, total= 1.6min\n",
      "[CV] model__colsample_bytree=0.5, model__max_depth=3, model__n_estimators=250, model__reg_alpha=0.03, model__subsample=0.4, n_splits=3 \n"
     ]
    },
    {
     "name": "stderr",
     "output_type": "stream",
     "text": [
      "100%|██████████| 2/2 [01:38<00:00, 49.06s/it]\n"
     ]
    },
    {
     "name": "stdout",
     "output_type": "stream",
     "text": [
      "[CV]  model__colsample_bytree=0.5, model__max_depth=3, model__n_estimators=250, model__reg_alpha=0.03, model__subsample=0.4, n_splits=2, total= 1.6min\n",
      "[CV] model__colsample_bytree=0.5, model__max_depth=3, model__n_estimators=250, model__reg_alpha=0.03, model__subsample=0.4, n_splits=3 \n"
     ]
    },
    {
     "name": "stderr",
     "output_type": "stream",
     "text": [
      "100%|██████████| 2/2 [01:39<00:00, 49.65s/it]\n"
     ]
    },
    {
     "name": "stdout",
     "output_type": "stream",
     "text": [
      "[CV]  model__colsample_bytree=0.5, model__max_depth=3, model__n_estimators=250, model__reg_alpha=0.03, model__subsample=0.4, n_splits=2, total= 1.7min\n",
      "[CV] model__colsample_bytree=0.5, model__max_depth=3, model__n_estimators=250, model__reg_alpha=0.03, model__subsample=0.4, n_splits=4 \n"
     ]
    },
    {
     "name": "stderr",
     "output_type": "stream",
     "text": [
      "100%|██████████| 4/4 [03:19<00:00, 49.77s/it]\n"
     ]
    },
    {
     "name": "stdout",
     "output_type": "stream",
     "text": [
      "[CV]  model__colsample_bytree=0.5, model__max_depth=3, model__n_estimators=250, model__reg_alpha=0.01, model__subsample=0.6, n_splits=4, total= 3.3min\n",
      "[CV] model__colsample_bytree=0.5, model__max_depth=3, model__n_estimators=250, model__reg_alpha=0.03, model__subsample=0.4, n_splits=4 \n"
     ]
    },
    {
     "name": "stderr",
     "output_type": "stream",
     "text": [
      "100%|██████████| 5/5 [03:59<00:00, 47.86s/it]\n"
     ]
    },
    {
     "name": "stdout",
     "output_type": "stream",
     "text": [
      "[CV]  model__colsample_bytree=0.5, model__max_depth=3, model__n_estimators=250, model__reg_alpha=0.01, model__subsample=0.6, n_splits=4, total= 4.0min\n",
      "[CV] model__colsample_bytree=0.5, model__max_depth=3, model__n_estimators=250, model__reg_alpha=0.03, model__subsample=0.4, n_splits=4 \n"
     ]
    },
    {
     "name": "stderr",
     "output_type": "stream",
     "text": [
      "100%|██████████| 3/3 [02:26<00:00, 48.74s/it]\n"
     ]
    },
    {
     "name": "stdout",
     "output_type": "stream",
     "text": [
      "[CV]  model__colsample_bytree=0.5, model__max_depth=3, model__n_estimators=250, model__reg_alpha=0.03, model__subsample=0.4, n_splits=3, total= 2.4min\n",
      "[CV] model__colsample_bytree=0.5, model__max_depth=3, model__n_estimators=250, model__reg_alpha=0.03, model__subsample=0.4, n_splits=5 \n"
     ]
    },
    {
     "name": "stderr",
     "output_type": "stream",
     "text": [
      "100%|██████████| 6/6 [04:41<00:00, 46.99s/it]\n"
     ]
    },
    {
     "name": "stdout",
     "output_type": "stream",
     "text": [
      "[CV]  model__colsample_bytree=0.5, model__max_depth=3, model__n_estimators=250, model__reg_alpha=0.01, model__subsample=0.6, n_splits=4, total= 4.7min\n",
      "[CV] model__colsample_bytree=0.5, model__max_depth=3, model__n_estimators=250, model__reg_alpha=0.03, model__subsample=0.4, n_splits=5 \n"
     ]
    },
    {
     "name": "stderr",
     "output_type": "stream",
     "text": [
      "100%|██████████| 5/5 [04:00<00:00, 48.13s/it]\n"
     ]
    },
    {
     "name": "stdout",
     "output_type": "stream",
     "text": [
      "[CV]  model__colsample_bytree=0.5, model__max_depth=3, model__n_estimators=250, model__reg_alpha=0.01, model__subsample=0.6, n_splits=5, total= 4.0min\n",
      "[CV] model__colsample_bytree=0.5, model__max_depth=3, model__n_estimators=250, model__reg_alpha=0.03, model__subsample=0.4, n_splits=5 \n"
     ]
    },
    {
     "name": "stderr",
     "output_type": "stream",
     "text": [
      "100%|██████████| 3/3 [02:24<00:00, 48.27s/it]\n"
     ]
    },
    {
     "name": "stdout",
     "output_type": "stream",
     "text": [
      "[CV]  model__colsample_bytree=0.5, model__max_depth=3, model__n_estimators=250, model__reg_alpha=0.03, model__subsample=0.4, n_splits=3, total= 2.4min\n",
      "[CV] model__colsample_bytree=0.5, model__max_depth=3, model__n_estimators=250, model__reg_alpha=0.03, model__subsample=0.6, n_splits=2 \n"
     ]
    },
    {
     "name": "stderr",
     "output_type": "stream",
     "text": [
      "100%|██████████| 3/3 [02:25<00:00, 48.58s/it]\n",
      "100%|██████████| 5/5 [04:08<00:00, 49.61s/it]\n",
      " 20%|██        | 1/5 [00:46<03:07, 46.84s/it]"
     ]
    },
    {
     "name": "stdout",
     "output_type": "stream",
     "text": [
      "[CV]  model__colsample_bytree=0.5, model__max_depth=3, model__n_estimators=250, model__reg_alpha=0.03, model__subsample=0.4, n_splits=3, total= 2.4min\n",
      "[CV] model__colsample_bytree=0.5, model__max_depth=3, model__n_estimators=250, model__reg_alpha=0.03, model__subsample=0.6, n_splits=2 \n"
     ]
    },
    {
     "name": "stderr",
     "output_type": "stream",
     "text": [
      "\r",
      "  0%|          | 0/2 [00:00<?, ?it/s]"
     ]
    },
    {
     "name": "stdout",
     "output_type": "stream",
     "text": [
      "[CV]  model__colsample_bytree=0.5, model__max_depth=3, model__n_estimators=250, model__reg_alpha=0.01, model__subsample=0.6, n_splits=5, total= 4.1min\n",
      "[CV] model__colsample_bytree=0.5, model__max_depth=3, model__n_estimators=250, model__reg_alpha=0.03, model__subsample=0.6, n_splits=2 \n"
     ]
    },
    {
     "name": "stderr",
     "output_type": "stream",
     "text": [
      "100%|██████████| 6/6 [04:52<00:00, 48.67s/it]\n"
     ]
    },
    {
     "name": "stdout",
     "output_type": "stream",
     "text": [
      "[CV]  model__colsample_bytree=0.5, model__max_depth=3, model__n_estimators=250, model__reg_alpha=0.01, model__subsample=0.6, n_splits=5, total= 4.9min\n",
      "[CV] model__colsample_bytree=0.5, model__max_depth=3, model__n_estimators=250, model__reg_alpha=0.03, model__subsample=0.6, n_splits=3 \n"
     ]
    },
    {
     "name": "stderr",
     "output_type": "stream",
     "text": [
      "100%|██████████| 2/2 [01:36<00:00, 48.09s/it]\n"
     ]
    },
    {
     "name": "stdout",
     "output_type": "stream",
     "text": [
      "[CV]  model__colsample_bytree=0.5, model__max_depth=3, model__n_estimators=250, model__reg_alpha=0.03, model__subsample=0.6, n_splits=2, total= 1.6min\n",
      "[CV] model__colsample_bytree=0.5, model__max_depth=3, model__n_estimators=250, model__reg_alpha=0.03, model__subsample=0.6, n_splits=3 \n"
     ]
    },
    {
     "name": "stderr",
     "output_type": "stream",
     "text": [
      "100%|██████████| 2/2 [01:37<00:00, 48.63s/it]\n"
     ]
    },
    {
     "name": "stdout",
     "output_type": "stream",
     "text": [
      "[CV]  model__colsample_bytree=0.5, model__max_depth=3, model__n_estimators=250, model__reg_alpha=0.03, model__subsample=0.6, n_splits=2, total= 1.6min\n",
      "[CV] model__colsample_bytree=0.5, model__max_depth=3, model__n_estimators=250, model__reg_alpha=0.03, model__subsample=0.6, n_splits=3 \n"
     ]
    },
    {
     "name": "stderr",
     "output_type": "stream",
     "text": [
      "100%|██████████| 2/2 [01:42<00:00, 51.08s/it]\n"
     ]
    },
    {
     "name": "stdout",
     "output_type": "stream",
     "text": [
      "[CV]  model__colsample_bytree=0.5, model__max_depth=3, model__n_estimators=250, model__reg_alpha=0.03, model__subsample=0.6, n_splits=2, total= 1.7min\n",
      "[CV] model__colsample_bytree=0.5, model__max_depth=3, model__n_estimators=250, model__reg_alpha=0.03, model__subsample=0.6, n_splits=4 \n"
     ]
    },
    {
     "name": "stderr",
     "output_type": "stream",
     "text": [
      "100%|██████████| 4/4 [03:14<00:00, 48.61s/it]\n",
      " 67%|██████▋   | 2/3 [01:38<00:49, 49.16s/it]"
     ]
    },
    {
     "name": "stdout",
     "output_type": "stream",
     "text": [
      "[CV]  model__colsample_bytree=0.5, model__max_depth=3, model__n_estimators=250, model__reg_alpha=0.03, model__subsample=0.4, n_splits=4, total= 3.2min\n",
      "[CV] model__colsample_bytree=0.5, model__max_depth=3, model__n_estimators=250, model__reg_alpha=0.03, model__subsample=0.6, n_splits=4 \n"
     ]
    },
    {
     "name": "stderr",
     "output_type": "stream",
     "text": [
      "100%|██████████| 6/6 [04:44<00:00, 47.50s/it]\n"
     ]
    },
    {
     "name": "stdout",
     "output_type": "stream",
     "text": [
      "[CV]  model__colsample_bytree=0.5, model__max_depth=3, model__n_estimators=250, model__reg_alpha=0.03, model__subsample=0.4, n_splits=4, total= 4.8min\n",
      "[CV] model__colsample_bytree=0.5, model__max_depth=3, model__n_estimators=250, model__reg_alpha=0.03, model__subsample=0.6, n_splits=4 \n"
     ]
    },
    {
     "name": "stderr",
     "output_type": "stream",
     "text": [
      "100%|██████████| 5/5 [04:06<00:00, 49.38s/it]\n"
     ]
    },
    {
     "name": "stdout",
     "output_type": "stream",
     "text": [
      "[CV]  model__colsample_bytree=0.5, model__max_depth=3, model__n_estimators=250, model__reg_alpha=0.03, model__subsample=0.4, n_splits=4, total= 4.1min\n",
      "[CV] model__colsample_bytree=0.5, model__max_depth=3, model__n_estimators=250, model__reg_alpha=0.03, model__subsample=0.6, n_splits=5 \n"
     ]
    },
    {
     "name": "stderr",
     "output_type": "stream",
     "text": [
      "100%|██████████| 3/3 [02:27<00:00, 49.21s/it]\n"
     ]
    },
    {
     "name": "stdout",
     "output_type": "stream",
     "text": [
      "[CV]  model__colsample_bytree=0.5, model__max_depth=3, model__n_estimators=250, model__reg_alpha=0.03, model__subsample=0.6, n_splits=3, total= 2.5min\n",
      "[CV] model__colsample_bytree=0.5, model__max_depth=3, model__n_estimators=250, model__reg_alpha=0.03, model__subsample=0.6, n_splits=5 \n"
     ]
    },
    {
     "name": "stderr",
     "output_type": "stream",
     "text": [
      "100%|██████████| 5/5 [04:01<00:00, 48.21s/it]\n"
     ]
    },
    {
     "name": "stdout",
     "output_type": "stream",
     "text": [
      "[CV]  model__colsample_bytree=0.5, model__max_depth=3, model__n_estimators=250, model__reg_alpha=0.03, model__subsample=0.4, n_splits=5, total= 4.0min\n",
      "[CV] model__colsample_bytree=0.5, model__max_depth=3, model__n_estimators=250, model__reg_alpha=0.03, model__subsample=0.6, n_splits=5 \n"
     ]
    },
    {
     "name": "stderr",
     "output_type": "stream",
     "text": [
      "100%|██████████| 6/6 [04:52<00:00, 48.73s/it]\n"
     ]
    },
    {
     "name": "stdout",
     "output_type": "stream",
     "text": [
      "[CV]  model__colsample_bytree=0.5, model__max_depth=3, model__n_estimators=250, model__reg_alpha=0.03, model__subsample=0.4, n_splits=5, total= 4.9min\n",
      "[CV] model__colsample_bytree=0.5, model__max_depth=5, model__n_estimators=150, model__reg_alpha=0.01, model__subsample=0.4, n_splits=2 \n"
     ]
    },
    {
     "name": "stderr",
     "output_type": "stream",
     "text": [
      "100%|██████████| 5/5 [04:00<00:00, 48.13s/it]\n"
     ]
    },
    {
     "name": "stdout",
     "output_type": "stream",
     "text": [
      "[CV]  model__colsample_bytree=0.5, model__max_depth=3, model__n_estimators=250, model__reg_alpha=0.03, model__subsample=0.4, n_splits=5, total= 4.0min\n",
      "[CV] model__colsample_bytree=0.5, model__max_depth=5, model__n_estimators=150, model__reg_alpha=0.01, model__subsample=0.4, n_splits=2 \n"
     ]
    },
    {
     "name": "stderr",
     "output_type": "stream",
     "text": [
      "100%|██████████| 3/3 [02:23<00:00, 47.89s/it]\n"
     ]
    },
    {
     "name": "stdout",
     "output_type": "stream",
     "text": [
      "[CV]  model__colsample_bytree=0.5, model__max_depth=3, model__n_estimators=250, model__reg_alpha=0.03, model__subsample=0.6, n_splits=3, total= 2.4min\n",
      "[CV] model__colsample_bytree=0.5, model__max_depth=5, model__n_estimators=150, model__reg_alpha=0.01, model__subsample=0.4, n_splits=2 \n"
     ]
    },
    {
     "name": "stderr",
     "output_type": "stream",
     "text": [
      "100%|██████████| 3/3 [02:26<00:00, 48.77s/it]\n"
     ]
    },
    {
     "name": "stdout",
     "output_type": "stream",
     "text": [
      "[CV]  model__colsample_bytree=0.5, model__max_depth=3, model__n_estimators=250, model__reg_alpha=0.03, model__subsample=0.6, n_splits=3, total= 2.4min\n",
      "[CV] model__colsample_bytree=0.5, model__max_depth=5, model__n_estimators=150, model__reg_alpha=0.01, model__subsample=0.4, n_splits=3 \n"
     ]
    },
    {
     "name": "stderr",
     "output_type": "stream",
     "text": [
      "100%|██████████| 2/2 [01:50<00:00, 55.34s/it]\n"
     ]
    },
    {
     "name": "stdout",
     "output_type": "stream",
     "text": [
      "[CV]  model__colsample_bytree=0.5, model__max_depth=5, model__n_estimators=150, model__reg_alpha=0.01, model__subsample=0.4, n_splits=2, total= 1.8min\n",
      "[CV] model__colsample_bytree=0.5, model__max_depth=5, model__n_estimators=150, model__reg_alpha=0.01, model__subsample=0.4, n_splits=3 \n"
     ]
    },
    {
     "name": "stderr",
     "output_type": "stream",
     "text": [
      "100%|██████████| 2/2 [01:49<00:00, 54.99s/it]\n"
     ]
    },
    {
     "name": "stdout",
     "output_type": "stream",
     "text": [
      "[CV]  model__colsample_bytree=0.5, model__max_depth=5, model__n_estimators=150, model__reg_alpha=0.01, model__subsample=0.4, n_splits=2, total= 1.8min\n"
     ]
    },
    {
     "name": "stderr",
     "output_type": "stream",
     "text": [
      "\r",
      " 60%|██████    | 3/5 [02:25<01:37, 48.57s/it]"
     ]
    },
    {
     "name": "stdout",
     "output_type": "stream",
     "text": [
      "[CV] model__colsample_bytree=0.5, model__max_depth=5, model__n_estimators=150, model__reg_alpha=0.01, model__subsample=0.4, n_splits=3 \n"
     ]
    },
    {
     "name": "stderr",
     "output_type": "stream",
     "text": [
      "100%|██████████| 4/4 [03:15<00:00, 48.81s/it]\n"
     ]
    },
    {
     "name": "stdout",
     "output_type": "stream",
     "text": [
      "[CV]  model__colsample_bytree=0.5, model__max_depth=3, model__n_estimators=250, model__reg_alpha=0.03, model__subsample=0.6, n_splits=4, total= 3.3min\n",
      "[CV] model__colsample_bytree=0.5, model__max_depth=5, model__n_estimators=150, model__reg_alpha=0.01, model__subsample=0.4, n_splits=4 \n"
     ]
    },
    {
     "name": "stderr",
     "output_type": "stream",
     "text": [
      "100%|██████████| 2/2 [01:51<00:00, 55.77s/it]\n"
     ]
    },
    {
     "name": "stdout",
     "output_type": "stream",
     "text": [
      "[CV]  model__colsample_bytree=0.5, model__max_depth=5, model__n_estimators=150, model__reg_alpha=0.01, model__subsample=0.4, n_splits=2, total= 1.9min\n",
      "[CV] model__colsample_bytree=0.5, model__max_depth=5, model__n_estimators=150, model__reg_alpha=0.01, model__subsample=0.4, n_splits=4 \n"
     ]
    },
    {
     "name": "stderr",
     "output_type": "stream",
     "text": [
      "100%|██████████| 5/5 [03:58<00:00, 47.60s/it]\n"
     ]
    },
    {
     "name": "stdout",
     "output_type": "stream",
     "text": [
      "[CV]  model__colsample_bytree=0.5, model__max_depth=3, model__n_estimators=250, model__reg_alpha=0.03, model__subsample=0.6, n_splits=4, total= 4.0min\n",
      "[CV] model__colsample_bytree=0.5, model__max_depth=5, model__n_estimators=150, model__reg_alpha=0.01, model__subsample=0.4, n_splits=4 \n"
     ]
    },
    {
     "name": "stderr",
     "output_type": "stream",
     "text": [
      "100%|██████████| 6/6 [04:49<00:00, 48.21s/it]\n"
     ]
    },
    {
     "name": "stdout",
     "output_type": "stream",
     "text": [
      "[CV]  model__colsample_bytree=0.5, model__max_depth=3, model__n_estimators=250, model__reg_alpha=0.03, model__subsample=0.6, n_splits=4, total= 4.8min\n",
      "[CV] model__colsample_bytree=0.5, model__max_depth=5, model__n_estimators=150, model__reg_alpha=0.01, model__subsample=0.4, n_splits=5 \n"
     ]
    },
    {
     "name": "stderr",
     "output_type": "stream",
     "text": [
      "100%|██████████| 3/3 [02:37<00:00, 52.45s/it]\n"
     ]
    },
    {
     "name": "stdout",
     "output_type": "stream",
     "text": [
      "[CV]  model__colsample_bytree=0.5, model__max_depth=5, model__n_estimators=150, model__reg_alpha=0.01, model__subsample=0.4, n_splits=3, total= 2.6min\n",
      "[CV] model__colsample_bytree=0.5, model__max_depth=5, model__n_estimators=150, model__reg_alpha=0.01, model__subsample=0.4, n_splits=5 \n"
     ]
    },
    {
     "name": "stderr",
     "output_type": "stream",
     "text": [
      "100%|██████████| 5/5 [04:02<00:00, 48.56s/it]\n",
      " 25%|██▌       | 1/4 [00:52<02:37, 52.46s/it]"
     ]
    },
    {
     "name": "stdout",
     "output_type": "stream",
     "text": [
      "[CV]  model__colsample_bytree=0.5, model__max_depth=3, model__n_estimators=250, model__reg_alpha=0.03, model__subsample=0.6, n_splits=5, total= 4.1min\n",
      "[CV] model__colsample_bytree=0.5, model__max_depth=5, model__n_estimators=150, model__reg_alpha=0.01, model__subsample=0.4, n_splits=5 \n"
     ]
    },
    {
     "name": "stderr",
     "output_type": "stream",
     "text": [
      "100%|██████████| 5/5 [04:03<00:00, 48.60s/it]\n"
     ]
    },
    {
     "name": "stdout",
     "output_type": "stream",
     "text": [
      "[CV]  model__colsample_bytree=0.5, model__max_depth=3, model__n_estimators=250, model__reg_alpha=0.03, model__subsample=0.6, n_splits=5, total= 4.1min\n",
      "[CV] model__colsample_bytree=0.5, model__max_depth=5, model__n_estimators=150, model__reg_alpha=0.01, model__subsample=0.6, n_splits=2 \n"
     ]
    },
    {
     "name": "stderr",
     "output_type": "stream",
     "text": [
      "100%|██████████| 6/6 [04:49<00:00, 48.27s/it]\n",
      " 40%|████      | 2/5 [01:42<02:33, 51.23s/it]"
     ]
    },
    {
     "name": "stdout",
     "output_type": "stream",
     "text": [
      "[CV]  model__colsample_bytree=0.5, model__max_depth=3, model__n_estimators=250, model__reg_alpha=0.03, model__subsample=0.6, n_splits=5, total= 4.8min\n",
      "[CV] model__colsample_bytree=0.5, model__max_depth=5, model__n_estimators=150, model__reg_alpha=0.01, model__subsample=0.6, n_splits=2 \n"
     ]
    },
    {
     "name": "stderr",
     "output_type": "stream",
     "text": [
      "100%|██████████| 3/3 [02:45<00:00, 55.06s/it]\n"
     ]
    },
    {
     "name": "stdout",
     "output_type": "stream",
     "text": [
      "[CV]  model__colsample_bytree=0.5, model__max_depth=5, model__n_estimators=150, model__reg_alpha=0.01, model__subsample=0.4, n_splits=3, total= 2.8min\n",
      "[CV] model__colsample_bytree=0.5, model__max_depth=5, model__n_estimators=150, model__reg_alpha=0.01, model__subsample=0.6, n_splits=2 \n"
     ]
    },
    {
     "name": "stderr",
     "output_type": "stream",
     "text": [
      "100%|██████████| 3/3 [02:46<00:00, 55.51s/it]\n"
     ]
    },
    {
     "name": "stdout",
     "output_type": "stream",
     "text": [
      "[CV]  model__colsample_bytree=0.5, model__max_depth=5, model__n_estimators=150, model__reg_alpha=0.01, model__subsample=0.4, n_splits=3, total= 2.8min\n",
      "[CV] model__colsample_bytree=0.5, model__max_depth=5, model__n_estimators=150, model__reg_alpha=0.01, model__subsample=0.6, n_splits=3 \n"
     ]
    },
    {
     "name": "stderr",
     "output_type": "stream",
     "text": [
      "100%|██████████| 2/2 [01:47<00:00, 53.66s/it]\n"
     ]
    },
    {
     "name": "stdout",
     "output_type": "stream",
     "text": [
      "[CV]  model__colsample_bytree=0.5, model__max_depth=5, model__n_estimators=150, model__reg_alpha=0.01, model__subsample=0.6, n_splits=2, total= 1.8min\n",
      "[CV] model__colsample_bytree=0.5, model__max_depth=5, model__n_estimators=150, model__reg_alpha=0.01, model__subsample=0.6, n_splits=3 \n"
     ]
    },
    {
     "name": "stderr",
     "output_type": "stream",
     "text": [
      "100%|██████████| 2/2 [01:52<00:00, 56.26s/it]\n"
     ]
    },
    {
     "name": "stdout",
     "output_type": "stream",
     "text": [
      "[CV]  model__colsample_bytree=0.5, model__max_depth=5, model__n_estimators=150, model__reg_alpha=0.01, model__subsample=0.6, n_splits=2, total= 1.9min\n",
      "[CV] model__colsample_bytree=0.5, model__max_depth=5, model__n_estimators=150, model__reg_alpha=0.01, model__subsample=0.6, n_splits=3 \n"
     ]
    },
    {
     "name": "stderr",
     "output_type": "stream",
     "text": [
      "100%|██████████| 4/4 [03:39<00:00, 54.94s/it]\n"
     ]
    },
    {
     "name": "stdout",
     "output_type": "stream",
     "text": [
      "[CV]  model__colsample_bytree=0.5, model__max_depth=5, model__n_estimators=150, model__reg_alpha=0.01, model__subsample=0.4, n_splits=4, total= 3.7min\n",
      "[CV] model__colsample_bytree=0.5, model__max_depth=5, model__n_estimators=150, model__reg_alpha=0.01, model__subsample=0.6, n_splits=4 \n"
     ]
    },
    {
     "name": "stderr",
     "output_type": "stream",
     "text": [
      "100%|██████████| 5/5 [04:24<00:00, 52.98s/it]\n",
      "100%|██████████| 2/2 [01:53<00:00, 56.82s/it]\n"
     ]
    },
    {
     "name": "stdout",
     "output_type": "stream",
     "text": [
      "[CV]  model__colsample_bytree=0.5, model__max_depth=5, model__n_estimators=150, model__reg_alpha=0.01, model__subsample=0.4, n_splits=4, total= 4.4min\n",
      "[CV] model__colsample_bytree=0.5, model__max_depth=5, model__n_estimators=150, model__reg_alpha=0.01, model__subsample=0.6, n_splits=4 \n"
     ]
    },
    {
     "name": "stderr",
     "output_type": "stream",
     "text": [
      "\r",
      "  0%|          | 0/5 [00:00<?, ?it/s]"
     ]
    },
    {
     "name": "stdout",
     "output_type": "stream",
     "text": [
      "[CV]  model__colsample_bytree=0.5, model__max_depth=5, model__n_estimators=150, model__reg_alpha=0.01, model__subsample=0.6, n_splits=2, total= 1.9min\n",
      "[CV] model__colsample_bytree=0.5, model__max_depth=5, model__n_estimators=150, model__reg_alpha=0.01, model__subsample=0.6, n_splits=4 \n"
     ]
    },
    {
     "name": "stderr",
     "output_type": "stream",
     "text": [
      "100%|██████████| 6/6 [05:14<00:00, 52.34s/it]\n"
     ]
    },
    {
     "name": "stdout",
     "output_type": "stream",
     "text": [
      "[CV]  model__colsample_bytree=0.5, model__max_depth=5, model__n_estimators=150, model__reg_alpha=0.01, model__subsample=0.4, n_splits=4, total= 5.2min\n",
      "[CV] model__colsample_bytree=0.5, model__max_depth=5, model__n_estimators=150, model__reg_alpha=0.01, model__subsample=0.6, n_splits=5 \n"
     ]
    },
    {
     "name": "stderr",
     "output_type": "stream",
     "text": [
      "100%|██████████| 3/3 [02:36<00:00, 52.13s/it]\n"
     ]
    },
    {
     "name": "stdout",
     "output_type": "stream",
     "text": [
      "[CV]  model__colsample_bytree=0.5, model__max_depth=5, model__n_estimators=150, model__reg_alpha=0.01, model__subsample=0.6, n_splits=3, total= 2.6min\n",
      "[CV] model__colsample_bytree=0.5, model__max_depth=5, model__n_estimators=150, model__reg_alpha=0.01, model__subsample=0.6, n_splits=5 \n"
     ]
    },
    {
     "name": "stderr",
     "output_type": "stream",
     "text": [
      "100%|██████████| 5/5 [04:26<00:00, 53.27s/it]\n"
     ]
    },
    {
     "name": "stdout",
     "output_type": "stream",
     "text": [
      "[CV]  model__colsample_bytree=0.5, model__max_depth=5, model__n_estimators=150, model__reg_alpha=0.01, model__subsample=0.4, n_splits=5, total= 4.4min\n",
      "[CV] model__colsample_bytree=0.5, model__max_depth=5, model__n_estimators=150, model__reg_alpha=0.01, model__subsample=0.6, n_splits=5 \n"
     ]
    },
    {
     "name": "stderr",
     "output_type": "stream",
     "text": [
      "100%|██████████| 5/5 [04:36<00:00, 55.39s/it]\n"
     ]
    },
    {
     "name": "stdout",
     "output_type": "stream",
     "text": [
      "[CV]  model__colsample_bytree=0.5, model__max_depth=5, model__n_estimators=150, model__reg_alpha=0.01, model__subsample=0.4, n_splits=5, total= 4.6min\n",
      "[CV] model__colsample_bytree=0.5, model__max_depth=5, model__n_estimators=150, model__reg_alpha=0.03, model__subsample=0.4, n_splits=2 \n"
     ]
    },
    {
     "name": "stderr",
     "output_type": "stream",
     "text": [
      "100%|██████████| 3/3 [02:42<00:00, 54.27s/it]\n",
      "100%|██████████| 6/6 [05:16<00:00, 52.72s/it]\n",
      " 17%|█▋        | 1/6 [00:48<04:01, 48.25s/it]"
     ]
    },
    {
     "name": "stdout",
     "output_type": "stream",
     "text": [
      "[CV]  model__colsample_bytree=0.5, model__max_depth=5, model__n_estimators=150, model__reg_alpha=0.01, model__subsample=0.6, n_splits=3, total= 2.7min\n",
      "[CV] model__colsample_bytree=0.5, model__max_depth=5, model__n_estimators=150, model__reg_alpha=0.03, model__subsample=0.4, n_splits=2 \n"
     ]
    },
    {
     "name": "stderr",
     "output_type": "stream",
     "text": [
      "\r",
      "  0%|          | 0/2 [00:00<?, ?it/s]"
     ]
    },
    {
     "name": "stdout",
     "output_type": "stream",
     "text": [
      "[CV]  model__colsample_bytree=0.5, model__max_depth=5, model__n_estimators=150, model__reg_alpha=0.01, model__subsample=0.4, n_splits=5, total= 5.3min\n",
      "[CV] model__colsample_bytree=0.5, model__max_depth=5, model__n_estimators=150, model__reg_alpha=0.03, model__subsample=0.4, n_splits=2 \n"
     ]
    },
    {
     "name": "stderr",
     "output_type": "stream",
     "text": [
      "100%|██████████| 3/3 [02:49<00:00, 56.64s/it]\n"
     ]
    },
    {
     "name": "stdout",
     "output_type": "stream",
     "text": [
      "[CV]  model__colsample_bytree=0.5, model__max_depth=5, model__n_estimators=150, model__reg_alpha=0.01, model__subsample=0.6, n_splits=3, total= 2.8min\n",
      "[CV] model__colsample_bytree=0.5, model__max_depth=5, model__n_estimators=150, model__reg_alpha=0.03, model__subsample=0.4, n_splits=3 \n"
     ]
    },
    {
     "name": "stderr",
     "output_type": "stream",
     "text": [
      "100%|██████████| 2/2 [01:49<00:00, 54.77s/it]\n"
     ]
    },
    {
     "name": "stdout",
     "output_type": "stream",
     "text": [
      "[CV]  model__colsample_bytree=0.5, model__max_depth=5, model__n_estimators=150, model__reg_alpha=0.03, model__subsample=0.4, n_splits=2, total= 1.8min\n",
      "[CV] model__colsample_bytree=0.5, model__max_depth=5, model__n_estimators=150, model__reg_alpha=0.03, model__subsample=0.4, n_splits=3 \n"
     ]
    },
    {
     "name": "stderr",
     "output_type": "stream",
     "text": [
      "100%|██████████| 2/2 [01:48<00:00, 54.35s/it]\n"
     ]
    },
    {
     "name": "stdout",
     "output_type": "stream",
     "text": [
      "[CV]  model__colsample_bytree=0.5, model__max_depth=5, model__n_estimators=150, model__reg_alpha=0.03, model__subsample=0.4, n_splits=2, total= 1.8min\n",
      "[CV] model__colsample_bytree=0.5, model__max_depth=5, model__n_estimators=150, model__reg_alpha=0.03, model__subsample=0.4, n_splits=3 \n"
     ]
    },
    {
     "name": "stderr",
     "output_type": "stream",
     "text": [
      "100%|██████████| 2/2 [01:54<00:00, 57.10s/it]\n"
     ]
    },
    {
     "name": "stdout",
     "output_type": "stream",
     "text": [
      "[CV]  model__colsample_bytree=0.5, model__max_depth=5, model__n_estimators=150, model__reg_alpha=0.03, model__subsample=0.4, n_splits=2, total= 1.9min\n",
      "[CV] model__colsample_bytree=0.5, model__max_depth=5, model__n_estimators=150, model__reg_alpha=0.03, model__subsample=0.4, n_splits=4 \n"
     ]
    },
    {
     "name": "stderr",
     "output_type": "stream",
     "text": [
      "100%|██████████| 4/4 [03:44<00:00, 56.12s/it]\n"
     ]
    },
    {
     "name": "stdout",
     "output_type": "stream",
     "text": [
      "[CV]  model__colsample_bytree=0.5, model__max_depth=5, model__n_estimators=150, model__reg_alpha=0.01, model__subsample=0.6, n_splits=4, total= 3.8min\n",
      "[CV] model__colsample_bytree=0.5, model__max_depth=5, model__n_estimators=150, model__reg_alpha=0.03, model__subsample=0.4, n_splits=4 \n"
     ]
    },
    {
     "name": "stderr",
     "output_type": "stream",
     "text": [
      "100%|██████████| 5/5 [04:28<00:00, 53.79s/it]\n"
     ]
    },
    {
     "name": "stdout",
     "output_type": "stream",
     "text": [
      "[CV]  model__colsample_bytree=0.5, model__max_depth=5, model__n_estimators=150, model__reg_alpha=0.01, model__subsample=0.6, n_splits=4, total= 4.5min\n",
      "[CV] model__colsample_bytree=0.5, model__max_depth=5, model__n_estimators=150, model__reg_alpha=0.03, model__subsample=0.4, n_splits=4 \n"
     ]
    },
    {
     "name": "stderr",
     "output_type": "stream",
     "text": [
      "100%|██████████| 6/6 [05:11<00:00, 51.86s/it]\n"
     ]
    },
    {
     "name": "stdout",
     "output_type": "stream",
     "text": [
      "[CV]  model__colsample_bytree=0.5, model__max_depth=5, model__n_estimators=150, model__reg_alpha=0.01, model__subsample=0.6, n_splits=4, total= 5.2min\n",
      "[CV] model__colsample_bytree=0.5, model__max_depth=5, model__n_estimators=150, model__reg_alpha=0.03, model__subsample=0.4, n_splits=5 \n"
     ]
    },
    {
     "name": "stderr",
     "output_type": "stream",
     "text": [
      "100%|██████████| 3/3 [02:41<00:00, 53.94s/it]\n"
     ]
    },
    {
     "name": "stdout",
     "output_type": "stream",
     "text": [
      "[CV]  model__colsample_bytree=0.5, model__max_depth=5, model__n_estimators=150, model__reg_alpha=0.03, model__subsample=0.4, n_splits=3, total= 2.7min\n",
      "[CV] model__colsample_bytree=0.5, model__max_depth=5, model__n_estimators=150, model__reg_alpha=0.03, model__subsample=0.4, n_splits=5 \n"
     ]
    },
    {
     "name": "stderr",
     "output_type": "stream",
     "text": [
      "100%|██████████| 5/5 [04:28<00:00, 53.72s/it]\n"
     ]
    },
    {
     "name": "stdout",
     "output_type": "stream",
     "text": [
      "[CV]  model__colsample_bytree=0.5, model__max_depth=5, model__n_estimators=150, model__reg_alpha=0.01, model__subsample=0.6, n_splits=5, total= 4.5min\n",
      "[CV] model__colsample_bytree=0.5, model__max_depth=5, model__n_estimators=150, model__reg_alpha=0.03, model__subsample=0.4, n_splits=5 \n"
     ]
    },
    {
     "name": "stderr",
     "output_type": "stream",
     "text": [
      "100%|██████████| 5/5 [04:34<00:00, 54.97s/it]\n"
     ]
    },
    {
     "name": "stdout",
     "output_type": "stream",
     "text": [
      "[CV]  model__colsample_bytree=0.5, model__max_depth=5, model__n_estimators=150, model__reg_alpha=0.01, model__subsample=0.6, n_splits=5, total= 4.6min\n",
      "[CV] model__colsample_bytree=0.5, model__max_depth=5, model__n_estimators=150, model__reg_alpha=0.03, model__subsample=0.6, n_splits=2 \n"
     ]
    },
    {
     "name": "stderr",
     "output_type": "stream",
     "text": [
      "100%|██████████| 3/3 [02:43<00:00, 54.49s/it]\n"
     ]
    },
    {
     "name": "stdout",
     "output_type": "stream",
     "text": [
      "[CV]  model__colsample_bytree=0.5, model__max_depth=5, model__n_estimators=150, model__reg_alpha=0.03, model__subsample=0.4, n_splits=3, total= 2.7min\n",
      "[CV] model__colsample_bytree=0.5, model__max_depth=5, model__n_estimators=150, model__reg_alpha=0.03, model__subsample=0.6, n_splits=2 \n"
     ]
    },
    {
     "name": "stderr",
     "output_type": "stream",
     "text": [
      "100%|██████████| 6/6 [05:13<00:00, 52.33s/it]\n"
     ]
    },
    {
     "name": "stdout",
     "output_type": "stream",
     "text": [
      "[CV]  model__colsample_bytree=0.5, model__max_depth=5, model__n_estimators=150, model__reg_alpha=0.01, model__subsample=0.6, n_splits=5, total= 5.2min\n",
      "[CV] model__colsample_bytree=0.5, model__max_depth=5, model__n_estimators=150, model__reg_alpha=0.03, model__subsample=0.6, n_splits=2 \n"
     ]
    },
    {
     "name": "stderr",
     "output_type": "stream",
     "text": [
      "100%|██████████| 3/3 [02:44<00:00, 54.98s/it]\n"
     ]
    },
    {
     "name": "stdout",
     "output_type": "stream",
     "text": [
      "[CV]  model__colsample_bytree=0.5, model__max_depth=5, model__n_estimators=150, model__reg_alpha=0.03, model__subsample=0.4, n_splits=3, total= 2.8min\n",
      "[CV] model__colsample_bytree=0.5, model__max_depth=5, model__n_estimators=150, model__reg_alpha=0.03, model__subsample=0.6, n_splits=3 \n"
     ]
    },
    {
     "name": "stderr",
     "output_type": "stream",
     "text": [
      "100%|██████████| 2/2 [01:46<00:00, 53.45s/it]\n"
     ]
    },
    {
     "name": "stdout",
     "output_type": "stream",
     "text": [
      "[CV]  model__colsample_bytree=0.5, model__max_depth=5, model__n_estimators=150, model__reg_alpha=0.03, model__subsample=0.6, n_splits=2, total= 1.8min\n",
      "[CV] model__colsample_bytree=0.5, model__max_depth=5, model__n_estimators=150, model__reg_alpha=0.03, model__subsample=0.6, n_splits=3 \n"
     ]
    },
    {
     "name": "stderr",
     "output_type": "stream",
     "text": [
      "100%|██████████| 2/2 [01:53<00:00, 56.61s/it]\n"
     ]
    },
    {
     "name": "stdout",
     "output_type": "stream",
     "text": [
      "[CV]  model__colsample_bytree=0.5, model__max_depth=5, model__n_estimators=150, model__reg_alpha=0.03, model__subsample=0.6, n_splits=2, total= 1.9min\n",
      "[CV] model__colsample_bytree=0.5, model__max_depth=5, model__n_estimators=150, model__reg_alpha=0.03, model__subsample=0.6, n_splits=3 \n"
     ]
    },
    {
     "name": "stderr",
     "output_type": "stream",
     "text": [
      "100%|██████████| 2/2 [01:52<00:00, 56.18s/it]\n",
      " 83%|████████▎ | 5/6 [04:23<00:52, 52.70s/it]"
     ]
    },
    {
     "name": "stdout",
     "output_type": "stream",
     "text": [
      "[CV]  model__colsample_bytree=0.5, model__max_depth=5, model__n_estimators=150, model__reg_alpha=0.03, model__subsample=0.6, n_splits=2, total= 1.9min\n",
      "[CV] model__colsample_bytree=0.5, model__max_depth=5, model__n_estimators=150, model__reg_alpha=0.03, model__subsample=0.6, n_splits=4 \n"
     ]
    },
    {
     "name": "stderr",
     "output_type": "stream",
     "text": [
      "100%|██████████| 4/4 [03:39<00:00, 54.89s/it]\n",
      " 33%|███▎      | 1/3 [00:53<01:46, 53.17s/it]"
     ]
    },
    {
     "name": "stdout",
     "output_type": "stream",
     "text": [
      "[CV]  model__colsample_bytree=0.5, model__max_depth=5, model__n_estimators=150, model__reg_alpha=0.03, model__subsample=0.4, n_splits=4, total= 3.7min\n",
      "[CV] model__colsample_bytree=0.5, model__max_depth=5, model__n_estimators=150, model__reg_alpha=0.03, model__subsample=0.6, n_splits=4 \n"
     ]
    },
    {
     "name": "stderr",
     "output_type": "stream",
     "text": [
      "100%|██████████| 5/5 [04:30<00:00, 54.07s/it]\n"
     ]
    },
    {
     "name": "stdout",
     "output_type": "stream",
     "text": [
      "[CV]  model__colsample_bytree=0.5, model__max_depth=5, model__n_estimators=150, model__reg_alpha=0.03, model__subsample=0.4, n_splits=4, total= 4.5min\n",
      "[CV] model__colsample_bytree=0.5, model__max_depth=5, model__n_estimators=150, model__reg_alpha=0.03, model__subsample=0.6, n_splits=4 \n"
     ]
    },
    {
     "name": "stderr",
     "output_type": "stream",
     "text": [
      "100%|██████████| 6/6 [05:18<00:00, 53.10s/it]\n"
     ]
    },
    {
     "name": "stdout",
     "output_type": "stream",
     "text": [
      "[CV]  model__colsample_bytree=0.5, model__max_depth=5, model__n_estimators=150, model__reg_alpha=0.03, model__subsample=0.4, n_splits=4, total= 5.3min\n"
     ]
    },
    {
     "name": "stderr",
     "output_type": "stream",
     "text": [
      "100%|██████████| 3/3 [02:39<00:00, 53.15s/it]\n"
     ]
    },
    {
     "name": "stdout",
     "output_type": "stream",
     "text": [
      "[CV] model__colsample_bytree=0.5, model__max_depth=5, model__n_estimators=150, model__reg_alpha=0.03, model__subsample=0.6, n_splits=5 \n"
     ]
    },
    {
     "name": "stderr",
     "output_type": "stream",
     "text": [
      "\r",
      "  0%|          | 0/6 [00:00<?, ?it/s]"
     ]
    },
    {
     "name": "stdout",
     "output_type": "stream",
     "text": [
      "[CV]  model__colsample_bytree=0.5, model__max_depth=5, model__n_estimators=150, model__reg_alpha=0.03, model__subsample=0.6, n_splits=3, total= 2.7min\n",
      "[CV] model__colsample_bytree=0.5, model__max_depth=5, model__n_estimators=150, model__reg_alpha=0.03, model__subsample=0.6, n_splits=5 \n"
     ]
    },
    {
     "name": "stderr",
     "output_type": "stream",
     "text": [
      "100%|██████████| 5/5 [04:31<00:00, 54.31s/it]\n"
     ]
    },
    {
     "name": "stdout",
     "output_type": "stream",
     "text": [
      "[CV]  model__colsample_bytree=0.5, model__max_depth=5, model__n_estimators=150, model__reg_alpha=0.03, model__subsample=0.4, n_splits=5, total= 4.5min\n",
      "[CV] model__colsample_bytree=0.5, model__max_depth=5, model__n_estimators=150, model__reg_alpha=0.03, model__subsample=0.6, n_splits=5 \n"
     ]
    },
    {
     "name": "stderr",
     "output_type": "stream",
     "text": [
      "100%|██████████| 6/6 [05:10<00:00, 51.78s/it]\n"
     ]
    },
    {
     "name": "stdout",
     "output_type": "stream",
     "text": [
      "[CV]  model__colsample_bytree=0.5, model__max_depth=5, model__n_estimators=150, model__reg_alpha=0.03, model__subsample=0.4, n_splits=5, total= 5.2min\n",
      "[CV] model__colsample_bytree=0.5, model__max_depth=5, model__n_estimators=250, model__reg_alpha=0.01, model__subsample=0.4, n_splits=2 \n"
     ]
    },
    {
     "name": "stderr",
     "output_type": "stream",
     "text": [
      "100%|██████████| 5/5 [04:32<00:00, 54.41s/it]\n"
     ]
    },
    {
     "name": "stdout",
     "output_type": "stream",
     "text": [
      "[CV]  model__colsample_bytree=0.5, model__max_depth=5, model__n_estimators=150, model__reg_alpha=0.03, model__subsample=0.4, n_splits=5, total= 4.5min\n",
      "[CV] model__colsample_bytree=0.5, model__max_depth=5, model__n_estimators=250, model__reg_alpha=0.01, model__subsample=0.4, n_splits=2 \n"
     ]
    },
    {
     "name": "stderr",
     "output_type": "stream",
     "text": [
      "100%|██████████| 3/3 [02:40<00:00, 53.37s/it]\n"
     ]
    },
    {
     "name": "stdout",
     "output_type": "stream",
     "text": [
      "[CV]  model__colsample_bytree=0.5, model__max_depth=5, model__n_estimators=150, model__reg_alpha=0.03, model__subsample=0.6, n_splits=3, total= 2.7min\n",
      "[CV] model__colsample_bytree=0.5, model__max_depth=5, model__n_estimators=250, model__reg_alpha=0.01, model__subsample=0.4, n_splits=2 \n"
     ]
    },
    {
     "name": "stderr",
     "output_type": "stream",
     "text": [
      "100%|██████████| 3/3 [02:48<00:00, 56.17s/it]\n"
     ]
    },
    {
     "name": "stdout",
     "output_type": "stream",
     "text": [
      "[CV]  model__colsample_bytree=0.5, model__max_depth=5, model__n_estimators=150, model__reg_alpha=0.03, model__subsample=0.6, n_splits=3, total= 2.8min\n",
      "[CV] model__colsample_bytree=0.5, model__max_depth=5, model__n_estimators=250, model__reg_alpha=0.01, model__subsample=0.4, n_splits=3 \n"
     ]
    },
    {
     "name": "stderr",
     "output_type": "stream",
     "text": [
      "100%|██████████| 4/4 [03:46<00:00, 56.68s/it]\n"
     ]
    },
    {
     "name": "stdout",
     "output_type": "stream",
     "text": [
      "[CV]  model__colsample_bytree=0.5, model__max_depth=5, model__n_estimators=150, model__reg_alpha=0.03, model__subsample=0.6, n_splits=4, total= 3.8min\n",
      "[CV] model__colsample_bytree=0.5, model__max_depth=5, model__n_estimators=250, model__reg_alpha=0.01, model__subsample=0.4, n_splits=3 \n"
     ]
    },
    {
     "name": "stderr",
     "output_type": "stream",
     "text": [
      "100%|██████████| 5/5 [04:27<00:00, 53.46s/it]\n"
     ]
    },
    {
     "name": "stdout",
     "output_type": "stream",
     "text": [
      "[CV]  model__colsample_bytree=0.5, model__max_depth=5, model__n_estimators=150, model__reg_alpha=0.03, model__subsample=0.6, n_splits=4, total= 4.5min\n",
      "[CV] model__colsample_bytree=0.5, model__max_depth=5, model__n_estimators=250, model__reg_alpha=0.01, model__subsample=0.4, n_splits=3 \n"
     ]
    },
    {
     "name": "stderr",
     "output_type": "stream",
     "text": [
      "100%|██████████| 2/2 [02:56<00:00, 88.03s/it]\n"
     ]
    },
    {
     "name": "stdout",
     "output_type": "stream",
     "text": [
      "[CV]  model__colsample_bytree=0.5, model__max_depth=5, model__n_estimators=250, model__reg_alpha=0.01, model__subsample=0.4, n_splits=2, total= 2.9min\n",
      "[CV] model__colsample_bytree=0.5, model__max_depth=5, model__n_estimators=250, model__reg_alpha=0.01, model__subsample=0.4, n_splits=4 \n"
     ]
    },
    {
     "name": "stderr",
     "output_type": "stream",
     "text": [
      "100%|██████████| 2/2 [03:00<00:00, 90.04s/it]\n"
     ]
    },
    {
     "name": "stdout",
     "output_type": "stream",
     "text": [
      "[CV]  model__colsample_bytree=0.5, model__max_depth=5, model__n_estimators=250, model__reg_alpha=0.01, model__subsample=0.4, n_splits=2, total= 3.0min\n"
     ]
    },
    {
     "name": "stderr",
     "output_type": "stream",
     "text": [
      "[Parallel(n_jobs=10)]: Done 142 tasks      | elapsed: 41.4min\n"
     ]
    },
    {
     "name": "stdout",
     "output_type": "stream",
     "text": [
      "[CV] model__colsample_bytree=0.5, model__max_depth=5, model__n_estimators=250, model__reg_alpha=0.01, model__subsample=0.4, n_splits=4 \n"
     ]
    },
    {
     "name": "stderr",
     "output_type": "stream",
     "text": [
      "100%|██████████| 2/2 [03:02<00:00, 91.45s/it]\n"
     ]
    },
    {
     "name": "stdout",
     "output_type": "stream",
     "text": [
      "[CV]  model__colsample_bytree=0.5, model__max_depth=5, model__n_estimators=250, model__reg_alpha=0.01, model__subsample=0.4, n_splits=2, total= 3.1min\n",
      "[CV] model__colsample_bytree=0.5, model__max_depth=5, model__n_estimators=250, model__reg_alpha=0.01, model__subsample=0.4, n_splits=4 \n"
     ]
    },
    {
     "name": "stderr",
     "output_type": "stream",
     "text": [
      "100%|██████████| 6/6 [05:11<00:00, 51.98s/it]\n"
     ]
    },
    {
     "name": "stdout",
     "output_type": "stream",
     "text": [
      "[CV]  model__colsample_bytree=0.5, model__max_depth=5, model__n_estimators=150, model__reg_alpha=0.03, model__subsample=0.6, n_splits=4, total= 5.2min\n",
      "[CV] model__colsample_bytree=0.5, model__max_depth=5, model__n_estimators=250, model__reg_alpha=0.01, model__subsample=0.4, n_splits=5 \n"
     ]
    },
    {
     "name": "stderr",
     "output_type": "stream",
     "text": [
      "100%|██████████| 5/5 [04:29<00:00, 53.91s/it]\n"
     ]
    },
    {
     "name": "stdout",
     "output_type": "stream",
     "text": [
      "[CV]  model__colsample_bytree=0.5, model__max_depth=5, model__n_estimators=150, model__reg_alpha=0.03, model__subsample=0.6, n_splits=5, total= 4.5min\n",
      "[CV] model__colsample_bytree=0.5, model__max_depth=5, model__n_estimators=250, model__reg_alpha=0.01, model__subsample=0.4, n_splits=5 \n"
     ]
    },
    {
     "name": "stderr",
     "output_type": "stream",
     "text": [
      "100%|██████████| 5/5 [04:37<00:00, 55.54s/it]\n"
     ]
    },
    {
     "name": "stdout",
     "output_type": "stream",
     "text": [
      "[CV]  model__colsample_bytree=0.5, model__max_depth=5, model__n_estimators=150, model__reg_alpha=0.03, model__subsample=0.6, n_splits=5, total= 4.6min\n",
      "[CV] model__colsample_bytree=0.5, model__max_depth=5, model__n_estimators=250, model__reg_alpha=0.01, model__subsample=0.4, n_splits=5 \n"
     ]
    },
    {
     "name": "stderr",
     "output_type": "stream",
     "text": [
      "100%|██████████| 6/6 [05:20<00:00, 53.46s/it]\n"
     ]
    },
    {
     "name": "stdout",
     "output_type": "stream",
     "text": [
      "[CV]  model__colsample_bytree=0.5, model__max_depth=5, model__n_estimators=150, model__reg_alpha=0.03, model__subsample=0.6, n_splits=5, total= 5.4min\n",
      "[CV] model__colsample_bytree=0.5, model__max_depth=5, model__n_estimators=250, model__reg_alpha=0.01, model__subsample=0.6, n_splits=2 \n"
     ]
    },
    {
     "name": "stderr",
     "output_type": "stream",
     "text": [
      "100%|██████████| 3/3 [04:25<00:00, 88.52s/it]\n"
     ]
    },
    {
     "name": "stdout",
     "output_type": "stream",
     "text": [
      "[CV]  model__colsample_bytree=0.5, model__max_depth=5, model__n_estimators=250, model__reg_alpha=0.01, model__subsample=0.4, n_splits=3, total= 4.4min\n",
      "[CV] model__colsample_bytree=0.5, model__max_depth=5, model__n_estimators=250, model__reg_alpha=0.01, model__subsample=0.6, n_splits=2 \n"
     ]
    },
    {
     "name": "stderr",
     "output_type": "stream",
     "text": [
      "100%|██████████| 3/3 [04:30<00:00, 90.25s/it]\n"
     ]
    },
    {
     "name": "stdout",
     "output_type": "stream",
     "text": [
      "[CV]  model__colsample_bytree=0.5, model__max_depth=5, model__n_estimators=250, model__reg_alpha=0.01, model__subsample=0.4, n_splits=3, total= 4.5min\n",
      "[CV] model__colsample_bytree=0.5, model__max_depth=5, model__n_estimators=250, model__reg_alpha=0.01, model__subsample=0.6, n_splits=2 \n"
     ]
    },
    {
     "name": "stderr",
     "output_type": "stream",
     "text": [
      "100%|██████████| 3/3 [04:31<00:00, 90.59s/it]\n",
      "100%|██████████| 2/2 [03:00<00:00, 90.46s/it]\n"
     ]
    },
    {
     "name": "stdout",
     "output_type": "stream",
     "text": [
      "[CV]  model__colsample_bytree=0.5, model__max_depth=5, model__n_estimators=250, model__reg_alpha=0.01, model__subsample=0.6, n_splits=2, total= 3.0min\n",
      "[CV] model__colsample_bytree=0.5, model__max_depth=5, model__n_estimators=250, model__reg_alpha=0.01, model__subsample=0.6, n_splits=3 \n"
     ]
    },
    {
     "name": "stderr",
     "output_type": "stream",
     "text": [
      "\r",
      "  0%|          | 0/3 [00:00<?, ?it/s]"
     ]
    },
    {
     "name": "stdout",
     "output_type": "stream",
     "text": [
      "[CV]  model__colsample_bytree=0.5, model__max_depth=5, model__n_estimators=250, model__reg_alpha=0.01, model__subsample=0.4, n_splits=3, total= 4.5min\n"
     ]
    },
    {
     "name": "stderr",
     "output_type": "stream",
     "text": [
      "\r",
      " 60%|██████    | 3/5 [04:20<02:53, 86.91s/it]"
     ]
    },
    {
     "name": "stdout",
     "output_type": "stream",
     "text": [
      "[CV] model__colsample_bytree=0.5, model__max_depth=5, model__n_estimators=250, model__reg_alpha=0.01, model__subsample=0.6, n_splits=3 \n"
     ]
    },
    {
     "name": "stderr",
     "output_type": "stream",
     "text": [
      "100%|██████████| 2/2 [03:06<00:00, 93.27s/it]\n"
     ]
    },
    {
     "name": "stdout",
     "output_type": "stream",
     "text": [
      "[CV]  model__colsample_bytree=0.5, model__max_depth=5, model__n_estimators=250, model__reg_alpha=0.01, model__subsample=0.6, n_splits=2, total= 3.1min\n",
      "[CV] model__colsample_bytree=0.5, model__max_depth=5, model__n_estimators=250, model__reg_alpha=0.01, model__subsample=0.6, n_splits=3 \n"
     ]
    },
    {
     "name": "stderr",
     "output_type": "stream",
     "text": [
      "100%|██████████| 4/4 [06:01<00:00, 90.26s/it]\n"
     ]
    },
    {
     "name": "stdout",
     "output_type": "stream",
     "text": [
      "[CV]  model__colsample_bytree=0.5, model__max_depth=5, model__n_estimators=250, model__reg_alpha=0.01, model__subsample=0.4, n_splits=4, total= 6.0min\n",
      "[CV] model__colsample_bytree=0.5, model__max_depth=5, model__n_estimators=250, model__reg_alpha=0.01, model__subsample=0.6, n_splits=4 \n"
     ]
    },
    {
     "name": "stderr",
     "output_type": "stream",
     "text": [
      "100%|██████████| 2/2 [03:12<00:00, 96.10s/it]\n"
     ]
    },
    {
     "name": "stdout",
     "output_type": "stream",
     "text": [
      "[CV]  model__colsample_bytree=0.5, model__max_depth=5, model__n_estimators=250, model__reg_alpha=0.01, model__subsample=0.6, n_splits=2, total= 3.2min\n",
      "[CV] model__colsample_bytree=0.5, model__max_depth=5, model__n_estimators=250, model__reg_alpha=0.01, model__subsample=0.6, n_splits=4 \n"
     ]
    },
    {
     "name": "stderr",
     "output_type": "stream",
     "text": [
      "100%|██████████| 5/5 [07:20<00:00, 88.09s/it]\n"
     ]
    },
    {
     "name": "stdout",
     "output_type": "stream",
     "text": [
      "[CV]  model__colsample_bytree=0.5, model__max_depth=5, model__n_estimators=250, model__reg_alpha=0.01, model__subsample=0.4, n_splits=4, total= 7.4min\n",
      "[CV] model__colsample_bytree=0.5, model__max_depth=5, model__n_estimators=250, model__reg_alpha=0.01, model__subsample=0.6, n_splits=4 \n"
     ]
    },
    {
     "name": "stderr",
     "output_type": "stream",
     "text": [
      "100%|██████████| 5/5 [07:19<00:00, 87.87s/it]\n"
     ]
    },
    {
     "name": "stdout",
     "output_type": "stream",
     "text": [
      "[CV]  model__colsample_bytree=0.5, model__max_depth=5, model__n_estimators=250, model__reg_alpha=0.01, model__subsample=0.4, n_splits=5, total= 7.3min\n",
      "[CV] model__colsample_bytree=0.5, model__max_depth=5, model__n_estimators=250, model__reg_alpha=0.01, model__subsample=0.6, n_splits=5 \n"
     ]
    },
    {
     "name": "stderr",
     "output_type": "stream",
     "text": [
      "100%|██████████| 6/6 [08:29<00:00, 84.89s/it]\n"
     ]
    },
    {
     "name": "stdout",
     "output_type": "stream",
     "text": [
      "[CV]  model__colsample_bytree=0.5, model__max_depth=5, model__n_estimators=250, model__reg_alpha=0.01, model__subsample=0.4, n_splits=4, total= 8.5min\n",
      "[CV] model__colsample_bytree=0.5, model__max_depth=5, model__n_estimators=250, model__reg_alpha=0.01, model__subsample=0.6, n_splits=5 \n"
     ]
    },
    {
     "name": "stderr",
     "output_type": "stream",
     "text": [
      "100%|██████████| 5/5 [07:38<00:00, 91.70s/it]\n",
      "100%|██████████| 3/3 [04:23<00:00, 87.83s/it]\n",
      "100%|██████████| 6/6 [08:31<00:00, 85.29s/it]\n"
     ]
    },
    {
     "name": "stdout",
     "output_type": "stream",
     "text": [
      "[CV]  model__colsample_bytree=0.5, model__max_depth=5, model__n_estimators=250, model__reg_alpha=0.01, model__subsample=0.4, n_splits=5, total= 7.7min\n",
      "[CV] model__colsample_bytree=0.5, model__max_depth=5, model__n_estimators=250, model__reg_alpha=0.01, model__subsample=0.6, n_splits=5 \n"
     ]
    },
    {
     "name": "stderr",
     "output_type": "stream",
     "text": [
      "\r",
      "  0%|          | 0/5 [00:00<?, ?it/s]"
     ]
    },
    {
     "name": "stdout",
     "output_type": "stream",
     "text": [
      "[CV]  model__colsample_bytree=0.5, model__max_depth=5, model__n_estimators=250, model__reg_alpha=0.01, model__subsample=0.6, n_splits=3, total= 4.4min\n",
      "[CV] model__colsample_bytree=0.5, model__max_depth=5, model__n_estimators=250, model__reg_alpha=0.03, model__subsample=0.4, n_splits=2 \n"
     ]
    },
    {
     "name": "stderr",
     "output_type": "stream",
     "text": [
      "\r",
      "  0%|          | 0/2 [00:00<?, ?it/s]"
     ]
    },
    {
     "name": "stdout",
     "output_type": "stream",
     "text": [
      "[CV]  model__colsample_bytree=0.5, model__max_depth=5, model__n_estimators=250, model__reg_alpha=0.01, model__subsample=0.4, n_splits=5, total= 8.5min\n",
      "[CV] model__colsample_bytree=0.5, model__max_depth=5, model__n_estimators=250, model__reg_alpha=0.03, model__subsample=0.4, n_splits=2 \n"
     ]
    },
    {
     "name": "stderr",
     "output_type": "stream",
     "text": [
      "100%|██████████| 3/3 [04:28<00:00, 89.61s/it]\n"
     ]
    },
    {
     "name": "stdout",
     "output_type": "stream",
     "text": [
      "[CV]  model__colsample_bytree=0.5, model__max_depth=5, model__n_estimators=250, model__reg_alpha=0.01, model__subsample=0.6, n_splits=3, total= 4.5min\n",
      "[CV] model__colsample_bytree=0.5, model__max_depth=5, model__n_estimators=250, model__reg_alpha=0.03, model__subsample=0.4, n_splits=2 \n"
     ]
    },
    {
     "name": "stderr",
     "output_type": "stream",
     "text": [
      "100%|██████████| 3/3 [04:39<00:00, 93.07s/it]\n",
      " 40%|████      | 2/5 [02:57<04:25, 88.59s/it]"
     ]
    },
    {
     "name": "stdout",
     "output_type": "stream",
     "text": [
      "[CV]  model__colsample_bytree=0.5, model__max_depth=5, model__n_estimators=250, model__reg_alpha=0.01, model__subsample=0.6, n_splits=3, total= 4.7min\n",
      "[CV] model__colsample_bytree=0.5, model__max_depth=5, model__n_estimators=250, model__reg_alpha=0.03, model__subsample=0.4, n_splits=3 \n"
     ]
    },
    {
     "name": "stderr",
     "output_type": "stream",
     "text": [
      "100%|██████████| 2/2 [02:55<00:00, 87.69s/it]\n"
     ]
    },
    {
     "name": "stdout",
     "output_type": "stream",
     "text": [
      "[CV]  model__colsample_bytree=0.5, model__max_depth=5, model__n_estimators=250, model__reg_alpha=0.03, model__subsample=0.4, n_splits=2, total= 2.9min\n",
      "[CV] model__colsample_bytree=0.5, model__max_depth=5, model__n_estimators=250, model__reg_alpha=0.03, model__subsample=0.4, n_splits=3 \n"
     ]
    },
    {
     "name": "stderr",
     "output_type": "stream",
     "text": [
      "100%|██████████| 2/2 [03:00<00:00, 90.12s/it]\n"
     ]
    },
    {
     "name": "stdout",
     "output_type": "stream",
     "text": [
      "[CV]  model__colsample_bytree=0.5, model__max_depth=5, model__n_estimators=250, model__reg_alpha=0.03, model__subsample=0.4, n_splits=2, total= 3.0min\n",
      "[CV] model__colsample_bytree=0.5, model__max_depth=5, model__n_estimators=250, model__reg_alpha=0.03, model__subsample=0.4, n_splits=3 \n"
     ]
    },
    {
     "name": "stderr",
     "output_type": "stream",
     "text": [
      "100%|██████████| 2/2 [03:09<00:00, 94.75s/it]\n"
     ]
    },
    {
     "name": "stdout",
     "output_type": "stream",
     "text": [
      "[CV]  model__colsample_bytree=0.5, model__max_depth=5, model__n_estimators=250, model__reg_alpha=0.03, model__subsample=0.4, n_splits=2, total= 3.2min\n",
      "[CV] model__colsample_bytree=0.5, model__max_depth=5, model__n_estimators=250, model__reg_alpha=0.03, model__subsample=0.4, n_splits=4 \n"
     ]
    },
    {
     "name": "stderr",
     "output_type": "stream",
     "text": [
      "100%|██████████| 4/4 [06:05<00:00, 91.38s/it]\n"
     ]
    },
    {
     "name": "stdout",
     "output_type": "stream",
     "text": [
      "[CV]  model__colsample_bytree=0.5, model__max_depth=5, model__n_estimators=250, model__reg_alpha=0.01, model__subsample=0.6, n_splits=4, total= 6.1min\n",
      "[CV] model__colsample_bytree=0.5, model__max_depth=5, model__n_estimators=250, model__reg_alpha=0.03, model__subsample=0.4, n_splits=4 \n"
     ]
    },
    {
     "name": "stderr",
     "output_type": "stream",
     "text": [
      "100%|██████████| 3/3 [04:30<00:00, 90.03s/it]\n"
     ]
    },
    {
     "name": "stdout",
     "output_type": "stream",
     "text": [
      "[CV]  model__colsample_bytree=0.5, model__max_depth=5, model__n_estimators=250, model__reg_alpha=0.03, model__subsample=0.4, n_splits=3, total= 4.5min\n",
      "[CV] model__colsample_bytree=0.5, model__max_depth=5, model__n_estimators=250, model__reg_alpha=0.03, model__subsample=0.4, n_splits=4 \n"
     ]
    },
    {
     "name": "stderr",
     "output_type": "stream",
     "text": [
      "100%|██████████| 5/5 [07:31<00:00, 90.21s/it]\n"
     ]
    },
    {
     "name": "stdout",
     "output_type": "stream",
     "text": [
      "[CV]  model__colsample_bytree=0.5, model__max_depth=5, model__n_estimators=250, model__reg_alpha=0.01, model__subsample=0.6, n_splits=4, total= 7.5min\n",
      "[CV] model__colsample_bytree=0.5, model__max_depth=5, model__n_estimators=250, model__reg_alpha=0.03, model__subsample=0.4, n_splits=5 \n"
     ]
    },
    {
     "name": "stderr",
     "output_type": "stream",
     "text": [
      "100%|██████████| 6/6 [08:39<00:00, 86.60s/it]\n"
     ]
    },
    {
     "name": "stdout",
     "output_type": "stream",
     "text": [
      "[CV]  model__colsample_bytree=0.5, model__max_depth=5, model__n_estimators=250, model__reg_alpha=0.01, model__subsample=0.6, n_splits=4, total= 8.7min\n",
      "[CV] model__colsample_bytree=0.5, model__max_depth=5, model__n_estimators=250, model__reg_alpha=0.03, model__subsample=0.4, n_splits=5 \n"
     ]
    },
    {
     "name": "stderr",
     "output_type": "stream",
     "text": [
      "100%|██████████| 5/5 [07:17<00:00, 87.50s/it]\n"
     ]
    },
    {
     "name": "stdout",
     "output_type": "stream",
     "text": [
      "[CV]  model__colsample_bytree=0.5, model__max_depth=5, model__n_estimators=250, model__reg_alpha=0.01, model__subsample=0.6, n_splits=5, total= 7.3min\n",
      "[CV] model__colsample_bytree=0.5, model__max_depth=5, model__n_estimators=250, model__reg_alpha=0.03, model__subsample=0.4, n_splits=5 \n"
     ]
    },
    {
     "name": "stderr",
     "output_type": "stream",
     "text": [
      "100%|██████████| 3/3 [04:26<00:00, 88.71s/it]\n"
     ]
    },
    {
     "name": "stdout",
     "output_type": "stream",
     "text": [
      "[CV]  model__colsample_bytree=0.5, model__max_depth=5, model__n_estimators=250, model__reg_alpha=0.03, model__subsample=0.4, n_splits=3, total= 4.4min\n",
      "[CV] model__colsample_bytree=0.5, model__max_depth=5, model__n_estimators=250, model__reg_alpha=0.03, model__subsample=0.6, n_splits=2 \n"
     ]
    },
    {
     "name": "stderr",
     "output_type": "stream",
     "text": [
      "100%|██████████| 3/3 [04:29<00:00, 89.67s/it]\n",
      " 50%|█████     | 3/6 [04:17<04:17, 85.81s/it]"
     ]
    },
    {
     "name": "stdout",
     "output_type": "stream",
     "text": [
      "[CV]  model__colsample_bytree=0.5, model__max_depth=5, model__n_estimators=250, model__reg_alpha=0.03, model__subsample=0.4, n_splits=3, total= 4.5min\n"
     ]
    },
    {
     "name": "stderr",
     "output_type": "stream",
     "text": [
      "\r",
      " 20%|██        | 1/5 [01:23<05:34, 83.65s/it]"
     ]
    },
    {
     "name": "stdout",
     "output_type": "stream",
     "text": [
      "[CV] model__colsample_bytree=0.5, model__max_depth=5, model__n_estimators=250, model__reg_alpha=0.03, model__subsample=0.6, n_splits=2 \n"
     ]
    },
    {
     "name": "stderr",
     "output_type": "stream",
     "text": [
      "100%|██████████| 5/5 [07:35<00:00, 91.12s/it]\n",
      " 40%|████      | 2/5 [02:52<04:18, 86.20s/it]"
     ]
    },
    {
     "name": "stdout",
     "output_type": "stream",
     "text": [
      "[CV]  model__colsample_bytree=0.5, model__max_depth=5, model__n_estimators=250, model__reg_alpha=0.01, model__subsample=0.6, n_splits=5, total= 7.6min\n",
      "[CV] model__colsample_bytree=0.5, model__max_depth=5, model__n_estimators=250, model__reg_alpha=0.03, model__subsample=0.6, n_splits=2 \n"
     ]
    },
    {
     "name": "stderr",
     "output_type": "stream",
     "text": [
      "100%|██████████| 6/6 [08:35<00:00, 85.95s/it]\n"
     ]
    },
    {
     "name": "stdout",
     "output_type": "stream",
     "text": [
      "[CV]  model__colsample_bytree=0.5, model__max_depth=5, model__n_estimators=250, model__reg_alpha=0.01, model__subsample=0.6, n_splits=5, total= 8.6min\n",
      "[CV] model__colsample_bytree=0.5, model__max_depth=5, model__n_estimators=250, model__reg_alpha=0.03, model__subsample=0.6, n_splits=3 \n"
     ]
    },
    {
     "name": "stderr",
     "output_type": "stream",
     "text": [
      "100%|██████████| 2/2 [02:56<00:00, 88.21s/it]\n"
     ]
    },
    {
     "name": "stdout",
     "output_type": "stream",
     "text": [
      "[CV]  model__colsample_bytree=0.5, model__max_depth=5, model__n_estimators=250, model__reg_alpha=0.03, model__subsample=0.6, n_splits=2, total= 2.9min\n",
      "[CV] model__colsample_bytree=0.5, model__max_depth=5, model__n_estimators=250, model__reg_alpha=0.03, model__subsample=0.6, n_splits=3 \n"
     ]
    },
    {
     "name": "stderr",
     "output_type": "stream",
     "text": [
      "100%|██████████| 2/2 [03:01<00:00, 90.83s/it]\n",
      " 80%|████████  | 4/5 [05:50<01:27, 87.61s/it]"
     ]
    },
    {
     "name": "stdout",
     "output_type": "stream",
     "text": [
      "[CV]  model__colsample_bytree=0.5, model__max_depth=5, model__n_estimators=250, model__reg_alpha=0.03, model__subsample=0.6, n_splits=2, total= 3.0min\n",
      "[CV] model__colsample_bytree=0.5, model__max_depth=5, model__n_estimators=250, model__reg_alpha=0.03, model__subsample=0.6, n_splits=3 \n"
     ]
    },
    {
     "name": "stderr",
     "output_type": "stream",
     "text": [
      "100%|██████████| 2/2 [03:09<00:00, 94.76s/it]\n"
     ]
    },
    {
     "name": "stdout",
     "output_type": "stream",
     "text": [
      "[CV]  model__colsample_bytree=0.5, model__max_depth=5, model__n_estimators=250, model__reg_alpha=0.03, model__subsample=0.6, n_splits=2, total= 3.2min\n",
      "[CV] model__colsample_bytree=0.5, model__max_depth=5, model__n_estimators=250, model__reg_alpha=0.03, model__subsample=0.6, n_splits=4 \n"
     ]
    },
    {
     "name": "stderr",
     "output_type": "stream",
     "text": [
      "100%|██████████| 4/4 [06:12<00:00, 93.06s/it]\n"
     ]
    },
    {
     "name": "stdout",
     "output_type": "stream",
     "text": [
      "[CV]  model__colsample_bytree=0.5, model__max_depth=5, model__n_estimators=250, model__reg_alpha=0.03, model__subsample=0.4, n_splits=4, total= 6.2min\n",
      "[CV] model__colsample_bytree=0.5, model__max_depth=5, model__n_estimators=250, model__reg_alpha=0.03, model__subsample=0.6, n_splits=4 \n"
     ]
    },
    {
     "name": "stderr",
     "output_type": "stream",
     "text": [
      "100%|██████████| 6/6 [08:44<00:00, 87.48s/it]\n"
     ]
    },
    {
     "name": "stdout",
     "output_type": "stream",
     "text": [
      "[CV]  model__colsample_bytree=0.5, model__max_depth=5, model__n_estimators=250, model__reg_alpha=0.03, model__subsample=0.4, n_splits=4, total= 8.8min\n",
      "[CV] model__colsample_bytree=0.5, model__max_depth=5, model__n_estimators=250, model__reg_alpha=0.03, model__subsample=0.6, n_splits=4 \n"
     ]
    },
    {
     "name": "stderr",
     "output_type": "stream",
     "text": [
      "100%|██████████| 3/3 [04:20<00:00, 86.99s/it]\n"
     ]
    },
    {
     "name": "stdout",
     "output_type": "stream",
     "text": [
      "[CV]  model__colsample_bytree=0.5, model__max_depth=5, model__n_estimators=250, model__reg_alpha=0.03, model__subsample=0.6, n_splits=3, total= 4.4min\n",
      "[CV] model__colsample_bytree=0.5, model__max_depth=5, model__n_estimators=250, model__reg_alpha=0.03, model__subsample=0.6, n_splits=5 \n"
     ]
    },
    {
     "name": "stderr",
     "output_type": "stream",
     "text": [
      "100%|██████████| 5/5 [07:18<00:00, 87.77s/it]\n",
      " 33%|███▎      | 1/3 [01:29<02:58, 89.21s/it]"
     ]
    },
    {
     "name": "stdout",
     "output_type": "stream",
     "text": [
      "[CV]  model__colsample_bytree=0.5, model__max_depth=5, model__n_estimators=250, model__reg_alpha=0.03, model__subsample=0.4, n_splits=4, total= 7.3min\n",
      "[CV] model__colsample_bytree=0.5, model__max_depth=5, model__n_estimators=250, model__reg_alpha=0.03, model__subsample=0.6, n_splits=5 \n"
     ]
    },
    {
     "name": "stderr",
     "output_type": "stream",
     "text": [
      "100%|██████████| 5/5 [07:19<00:00, 87.82s/it]\n"
     ]
    },
    {
     "name": "stdout",
     "output_type": "stream",
     "text": [
      "[CV]  model__colsample_bytree=0.5, model__max_depth=5, model__n_estimators=250, model__reg_alpha=0.03, model__subsample=0.4, n_splits=5, total= 7.3min\n",
      "[CV] model__colsample_bytree=0.5, model__max_depth=5, model__n_estimators=250, model__reg_alpha=0.03, model__subsample=0.6, n_splits=5 \n"
     ]
    },
    {
     "name": "stderr",
     "output_type": "stream",
     "text": [
      "100%|██████████| 5/5 [07:24<00:00, 88.95s/it]\n"
     ]
    },
    {
     "name": "stdout",
     "output_type": "stream",
     "text": [
      "[CV]  model__colsample_bytree=0.5, model__max_depth=5, model__n_estimators=250, model__reg_alpha=0.03, model__subsample=0.4, n_splits=5, total= 7.4min\n",
      "[CV] model__colsample_bytree=0.5, model__max_depth=8, model__n_estimators=150, model__reg_alpha=0.01, model__subsample=0.4, n_splits=2 \n"
     ]
    },
    {
     "name": "stderr",
     "output_type": "stream",
     "text": [
      "100%|██████████| 6/6 [08:48<00:00, 88.03s/it]\n"
     ]
    },
    {
     "name": "stdout",
     "output_type": "stream",
     "text": [
      "[CV]  model__colsample_bytree=0.5, model__max_depth=5, model__n_estimators=250, model__reg_alpha=0.03, model__subsample=0.4, n_splits=5, total= 8.8min\n",
      "[CV] model__colsample_bytree=0.5, model__max_depth=8, model__n_estimators=150, model__reg_alpha=0.01, model__subsample=0.4, n_splits=2 \n"
     ]
    },
    {
     "name": "stderr",
     "output_type": "stream",
     "text": [
      "100%|██████████| 3/3 [04:27<00:00, 89.14s/it]\n"
     ]
    },
    {
     "name": "stdout",
     "output_type": "stream",
     "text": [
      "[CV]  model__colsample_bytree=0.5, model__max_depth=5, model__n_estimators=250, model__reg_alpha=0.03, model__subsample=0.6, n_splits=3, total= 4.5min\n",
      "[CV] model__colsample_bytree=0.5, model__max_depth=8, model__n_estimators=150, model__reg_alpha=0.01, model__subsample=0.4, n_splits=2 \n"
     ]
    },
    {
     "name": "stderr",
     "output_type": "stream",
     "text": [
      "100%|██████████| 3/3 [04:33<00:00, 91.32s/it]\n",
      " 50%|█████     | 3/6 [04:22<04:22, 87.44s/it]"
     ]
    },
    {
     "name": "stdout",
     "output_type": "stream",
     "text": [
      "[CV]  model__colsample_bytree=0.5, model__max_depth=5, model__n_estimators=250, model__reg_alpha=0.03, model__subsample=0.6, n_splits=3, total= 4.6min\n",
      "[CV] model__colsample_bytree=0.5, model__max_depth=8, model__n_estimators=150, model__reg_alpha=0.01, model__subsample=0.4, n_splits=3 \n"
     ]
    },
    {
     "name": "stderr",
     "output_type": "stream",
     "text": [
      "100%|██████████| 2/2 [03:13<00:00, 96.65s/it]\n"
     ]
    },
    {
     "name": "stdout",
     "output_type": "stream",
     "text": [
      "[CV]  model__colsample_bytree=0.5, model__max_depth=8, model__n_estimators=150, model__reg_alpha=0.01, model__subsample=0.4, n_splits=2, total= 3.2min\n",
      "[CV] model__colsample_bytree=0.5, model__max_depth=8, model__n_estimators=150, model__reg_alpha=0.01, model__subsample=0.4, n_splits=3 \n"
     ]
    },
    {
     "name": "stderr",
     "output_type": "stream",
     "text": [
      "100%|██████████| 2/2 [03:24<00:00, 102.19s/it]\n"
     ]
    },
    {
     "name": "stdout",
     "output_type": "stream",
     "text": [
      "[CV]  model__colsample_bytree=0.5, model__max_depth=8, model__n_estimators=150, model__reg_alpha=0.01, model__subsample=0.4, n_splits=2, total= 3.4min\n",
      "[CV] model__colsample_bytree=0.5, model__max_depth=8, model__n_estimators=150, model__reg_alpha=0.01, model__subsample=0.4, n_splits=3 \n"
     ]
    },
    {
     "name": "stderr",
     "output_type": "stream",
     "text": [
      "100%|██████████| 4/4 [06:10<00:00, 92.67s/it]\n",
      "100%|██████████| 2/2 [03:23<00:00, 101.91s/it]\n"
     ]
    },
    {
     "name": "stdout",
     "output_type": "stream",
     "text": [
      "[CV]  model__colsample_bytree=0.5, model__max_depth=5, model__n_estimators=250, model__reg_alpha=0.03, model__subsample=0.6, n_splits=4, total= 6.2min\n",
      "[CV] model__colsample_bytree=0.5, model__max_depth=8, model__n_estimators=150, model__reg_alpha=0.01, model__subsample=0.4, n_splits=4 \n"
     ]
    },
    {
     "name": "stderr",
     "output_type": "stream",
     "text": [
      "\r",
      "  0%|          | 0/6 [00:00<?, ?it/s]"
     ]
    },
    {
     "name": "stdout",
     "output_type": "stream",
     "text": [
      "[CV]  model__colsample_bytree=0.5, model__max_depth=8, model__n_estimators=150, model__reg_alpha=0.01, model__subsample=0.4, n_splits=2, total= 3.4min\n",
      "[CV] model__colsample_bytree=0.5, model__max_depth=8, model__n_estimators=150, model__reg_alpha=0.01, model__subsample=0.4, n_splits=4 \n"
     ]
    },
    {
     "name": "stderr",
     "output_type": "stream",
     "text": [
      "100%|██████████| 5/5 [07:18<00:00, 87.77s/it]\n",
      "100%|██████████| 5/5 [07:27<00:00, 89.47s/it]\n"
     ]
    },
    {
     "name": "stdout",
     "output_type": "stream",
     "text": [
      "[CV]  model__colsample_bytree=0.5, model__max_depth=5, model__n_estimators=250, model__reg_alpha=0.03, model__subsample=0.6, n_splits=5, total= 7.3min\n",
      "[CV] model__colsample_bytree=0.5, model__max_depth=8, model__n_estimators=150, model__reg_alpha=0.01, model__subsample=0.4, n_splits=4 \n"
     ]
    },
    {
     "name": "stderr",
     "output_type": "stream",
     "text": [
      "\r",
      "  0%|          | 0/4 [00:00<?, ?it/s]"
     ]
    },
    {
     "name": "stdout",
     "output_type": "stream",
     "text": [
      "[CV]  model__colsample_bytree=0.5, model__max_depth=5, model__n_estimators=250, model__reg_alpha=0.03, model__subsample=0.6, n_splits=4, total= 7.5min\n",
      "[CV] model__colsample_bytree=0.5, model__max_depth=8, model__n_estimators=150, model__reg_alpha=0.01, model__subsample=0.4, n_splits=5 \n"
     ]
    },
    {
     "name": "stderr",
     "output_type": "stream",
     "text": [
      "100%|██████████| 6/6 [08:50<00:00, 88.34s/it]\n",
      " 33%|███▎      | 1/3 [01:37<03:14, 97.19s/it]"
     ]
    },
    {
     "name": "stdout",
     "output_type": "stream",
     "text": [
      "[CV]  model__colsample_bytree=0.5, model__max_depth=5, model__n_estimators=250, model__reg_alpha=0.03, model__subsample=0.6, n_splits=4, total= 8.8min\n",
      "[CV] model__colsample_bytree=0.5, model__max_depth=8, model__n_estimators=150, model__reg_alpha=0.01, model__subsample=0.4, n_splits=5 \n"
     ]
    },
    {
     "name": "stderr",
     "output_type": "stream",
     "text": [
      "100%|██████████| 3/3 [04:37<00:00, 92.37s/it]\n"
     ]
    },
    {
     "name": "stdout",
     "output_type": "stream",
     "text": [
      "[CV]  model__colsample_bytree=0.5, model__max_depth=8, model__n_estimators=150, model__reg_alpha=0.01, model__subsample=0.4, n_splits=3, total= 4.6min\n",
      "[CV] model__colsample_bytree=0.5, model__max_depth=8, model__n_estimators=150, model__reg_alpha=0.01, model__subsample=0.4, n_splits=5 \n"
     ]
    },
    {
     "name": "stderr",
     "output_type": "stream",
     "text": [
      "100%|██████████| 6/6 [08:37<00:00, 86.18s/it]\n"
     ]
    },
    {
     "name": "stdout",
     "output_type": "stream",
     "text": [
      "[CV]  model__colsample_bytree=0.5, model__max_depth=5, model__n_estimators=250, model__reg_alpha=0.03, model__subsample=0.6, n_splits=5, total= 8.6min\n",
      "[CV] model__colsample_bytree=0.5, model__max_depth=8, model__n_estimators=150, model__reg_alpha=0.01, model__subsample=0.6, n_splits=2 \n"
     ]
    },
    {
     "name": "stderr",
     "output_type": "stream",
     "text": [
      "100%|██████████| 5/5 [07:31<00:00, 90.28s/it]\n"
     ]
    },
    {
     "name": "stdout",
     "output_type": "stream",
     "text": [
      "[CV]  model__colsample_bytree=0.5, model__max_depth=5, model__n_estimators=250, model__reg_alpha=0.03, model__subsample=0.6, n_splits=5, total= 7.5min\n",
      "[CV] model__colsample_bytree=0.5, model__max_depth=8, model__n_estimators=150, model__reg_alpha=0.01, model__subsample=0.6, n_splits=2 \n"
     ]
    },
    {
     "name": "stderr",
     "output_type": "stream",
     "text": [
      "100%|██████████| 3/3 [04:52<00:00, 97.54s/it]]\n"
     ]
    },
    {
     "name": "stdout",
     "output_type": "stream",
     "text": [
      "[CV]  model__colsample_bytree=0.5, model__max_depth=8, model__n_estimators=150, model__reg_alpha=0.01, model__subsample=0.4, n_splits=3, total= 4.9min\n",
      "[CV] model__colsample_bytree=0.5, model__max_depth=8, model__n_estimators=150, model__reg_alpha=0.01, model__subsample=0.6, n_splits=2 \n"
     ]
    },
    {
     "name": "stderr",
     "output_type": "stream",
     "text": [
      "100%|██████████| 3/3 [05:07<00:00, 102.49s/it]\n"
     ]
    },
    {
     "name": "stdout",
     "output_type": "stream",
     "text": [
      "[CV]  model__colsample_bytree=0.5, model__max_depth=8, model__n_estimators=150, model__reg_alpha=0.01, model__subsample=0.4, n_splits=3, total= 5.1min\n",
      "[CV] model__colsample_bytree=0.5, model__max_depth=8, model__n_estimators=150, model__reg_alpha=0.01, model__subsample=0.6, n_splits=3 \n"
     ]
    },
    {
     "name": "stderr",
     "output_type": "stream",
     "text": [
      "100%|██████████| 2/2 [03:16<00:00, 98.14s/it]\n"
     ]
    },
    {
     "name": "stdout",
     "output_type": "stream",
     "text": [
      "[CV]  model__colsample_bytree=0.5, model__max_depth=8, model__n_estimators=150, model__reg_alpha=0.01, model__subsample=0.6, n_splits=2, total= 3.3min\n",
      "[CV] model__colsample_bytree=0.5, model__max_depth=8, model__n_estimators=150, model__reg_alpha=0.01, model__subsample=0.6, n_splits=3 \n"
     ]
    },
    {
     "name": "stderr",
     "output_type": "stream",
     "text": [
      "100%|██████████| 2/2 [03:22<00:00, 101.16s/it]\n",
      " 60%|██████    | 3/5 [04:46<03:10, 95.45s/it]"
     ]
    },
    {
     "name": "stdout",
     "output_type": "stream",
     "text": [
      "[CV]  model__colsample_bytree=0.5, model__max_depth=8, model__n_estimators=150, model__reg_alpha=0.01, model__subsample=0.6, n_splits=2, total= 3.4min\n",
      "[CV] model__colsample_bytree=0.5, model__max_depth=8, model__n_estimators=150, model__reg_alpha=0.01, model__subsample=0.6, n_splits=3 \n"
     ]
    },
    {
     "name": "stderr",
     "output_type": "stream",
     "text": [
      "100%|██████████| 2/2 [03:28<00:00, 104.48s/it]\n"
     ]
    },
    {
     "name": "stdout",
     "output_type": "stream",
     "text": [
      "[CV]  model__colsample_bytree=0.5, model__max_depth=8, model__n_estimators=150, model__reg_alpha=0.01, model__subsample=0.6, n_splits=2, total= 3.5min\n"
     ]
    },
    {
     "name": "stderr",
     "output_type": "stream",
     "text": [
      "\r",
      "100%|██████████| 5/5 [07:48<00:00, 93.72s/it]"
     ]
    },
    {
     "name": "stdout",
     "output_type": "stream",
     "text": [
      "[CV] model__colsample_bytree=0.5, model__max_depth=8, model__n_estimators=150, model__reg_alpha=0.01, model__subsample=0.6, n_splits=4 \n"
     ]
    },
    {
     "name": "stderr",
     "output_type": "stream",
     "text": [
      "\n",
      "  0%|          | 0/6 [00:00<?, ?it/s]"
     ]
    },
    {
     "name": "stdout",
     "output_type": "stream",
     "text": [
      "[CV]  model__colsample_bytree=0.5, model__max_depth=8, model__n_estimators=150, model__reg_alpha=0.01, model__subsample=0.4, n_splits=4, total= 7.8min\n",
      "[CV] model__colsample_bytree=0.5, model__max_depth=8, model__n_estimators=150, model__reg_alpha=0.01, model__subsample=0.6, n_splits=4 \n"
     ]
    },
    {
     "name": "stderr",
     "output_type": "stream",
     "text": [
      "100%|██████████| 4/4 [06:41<00:00, 100.43s/it]\n",
      " 80%|████████  | 4/5 [06:29<01:37, 97.38s/it]"
     ]
    },
    {
     "name": "stdout",
     "output_type": "stream",
     "text": [
      "[CV]  model__colsample_bytree=0.5, model__max_depth=8, model__n_estimators=150, model__reg_alpha=0.01, model__subsample=0.4, n_splits=4, total= 6.7min\n",
      "[CV] model__colsample_bytree=0.5, model__max_depth=8, model__n_estimators=150, model__reg_alpha=0.01, model__subsample=0.6, n_splits=4 \n"
     ]
    },
    {
     "name": "stderr",
     "output_type": "stream",
     "text": [
      "100%|██████████| 6/6 [09:16<00:00, 92.80s/it]\n"
     ]
    },
    {
     "name": "stdout",
     "output_type": "stream",
     "text": [
      "[CV]  model__colsample_bytree=0.5, model__max_depth=8, model__n_estimators=150, model__reg_alpha=0.01, model__subsample=0.4, n_splits=4, total= 9.3min\n",
      "[CV] model__colsample_bytree=0.5, model__max_depth=8, model__n_estimators=150, model__reg_alpha=0.01, model__subsample=0.6, n_splits=5 \n"
     ]
    },
    {
     "name": "stderr",
     "output_type": "stream",
     "text": [
      "100%|██████████| 5/5 [08:11<00:00, 98.30s/it]]\n"
     ]
    },
    {
     "name": "stdout",
     "output_type": "stream",
     "text": [
      "[CV]  model__colsample_bytree=0.5, model__max_depth=8, model__n_estimators=150, model__reg_alpha=0.01, model__subsample=0.4, n_splits=5, total= 8.2min\n",
      "[CV] model__colsample_bytree=0.5, model__max_depth=8, model__n_estimators=150, model__reg_alpha=0.01, model__subsample=0.6, n_splits=5 \n"
     ]
    },
    {
     "name": "stderr",
     "output_type": "stream",
     "text": [
      "100%|██████████| 3/3 [04:46<00:00, 95.49s/it]\n"
     ]
    },
    {
     "name": "stdout",
     "output_type": "stream",
     "text": [
      "[CV]  model__colsample_bytree=0.5, model__max_depth=8, model__n_estimators=150, model__reg_alpha=0.01, model__subsample=0.6, n_splits=3, total= 4.8min\n",
      "[CV] model__colsample_bytree=0.5, model__max_depth=8, model__n_estimators=150, model__reg_alpha=0.01, model__subsample=0.6, n_splits=5 \n"
     ]
    },
    {
     "name": "stderr",
     "output_type": "stream",
     "text": [
      "100%|██████████| 5/5 [08:12<00:00, 98.46s/it]\n"
     ]
    },
    {
     "name": "stdout",
     "output_type": "stream",
     "text": [
      "[CV]  model__colsample_bytree=0.5, model__max_depth=8, model__n_estimators=150, model__reg_alpha=0.01, model__subsample=0.4, n_splits=5, total= 8.2min\n",
      "[CV] model__colsample_bytree=0.5, model__max_depth=8, model__n_estimators=150, model__reg_alpha=0.03, model__subsample=0.4, n_splits=2 \n"
     ]
    },
    {
     "name": "stderr",
     "output_type": "stream",
     "text": [
      "100%|██████████| 6/6 [09:15<00:00, 92.53s/it]\n"
     ]
    },
    {
     "name": "stdout",
     "output_type": "stream",
     "text": [
      "[CV]  model__colsample_bytree=0.5, model__max_depth=8, model__n_estimators=150, model__reg_alpha=0.01, model__subsample=0.4, n_splits=5, total= 9.3min\n",
      "[CV] model__colsample_bytree=0.5, model__max_depth=8, model__n_estimators=150, model__reg_alpha=0.03, model__subsample=0.4, n_splits=2 \n"
     ]
    },
    {
     "name": "stderr",
     "output_type": "stream",
     "text": [
      "100%|██████████| 3/3 [04:52<00:00, 97.57s/it]\n"
     ]
    },
    {
     "name": "stdout",
     "output_type": "stream",
     "text": [
      "[CV]  model__colsample_bytree=0.5, model__max_depth=8, model__n_estimators=150, model__reg_alpha=0.01, model__subsample=0.6, n_splits=3, total= 4.9min\n"
     ]
    },
    {
     "name": "stderr",
     "output_type": "stream",
     "text": [
      "\r",
      " 17%|█▋        | 1/6 [01:19<06:39, 79.99s/it]"
     ]
    },
    {
     "name": "stdout",
     "output_type": "stream",
     "text": [
      "[CV] model__colsample_bytree=0.5, model__max_depth=8, model__n_estimators=150, model__reg_alpha=0.03, model__subsample=0.4, n_splits=2 \n"
     ]
    },
    {
     "name": "stderr",
     "output_type": "stream",
     "text": [
      "100%|██████████| 3/3 [05:06<00:00, 102.01s/it]\n"
     ]
    },
    {
     "name": "stdout",
     "output_type": "stream",
     "text": [
      "[CV]  model__colsample_bytree=0.5, model__max_depth=8, model__n_estimators=150, model__reg_alpha=0.01, model__subsample=0.6, n_splits=3, total= 5.1min\n",
      "[CV] model__colsample_bytree=0.5, model__max_depth=8, model__n_estimators=150, model__reg_alpha=0.03, model__subsample=0.4, n_splits=3 \n"
     ]
    },
    {
     "name": "stderr",
     "output_type": "stream",
     "text": [
      "100%|██████████| 2/2 [03:11<00:00, 95.64s/it]]\n"
     ]
    },
    {
     "name": "stdout",
     "output_type": "stream",
     "text": [
      "[CV]  model__colsample_bytree=0.5, model__max_depth=8, model__n_estimators=150, model__reg_alpha=0.03, model__subsample=0.4, n_splits=2, total= 3.2min\n",
      "[CV] model__colsample_bytree=0.5, model__max_depth=8, model__n_estimators=150, model__reg_alpha=0.03, model__subsample=0.4, n_splits=3 \n"
     ]
    },
    {
     "name": "stderr",
     "output_type": "stream",
     "text": [
      "100%|██████████| 2/2 [03:22<00:00, 101.44s/it]\n"
     ]
    },
    {
     "name": "stdout",
     "output_type": "stream",
     "text": [
      "[CV]  model__colsample_bytree=0.5, model__max_depth=8, model__n_estimators=150, model__reg_alpha=0.03, model__subsample=0.4, n_splits=2, total= 3.4min\n",
      "[CV] model__colsample_bytree=0.5, model__max_depth=8, model__n_estimators=150, model__reg_alpha=0.03, model__subsample=0.4, n_splits=3 \n"
     ]
    },
    {
     "name": "stderr",
     "output_type": "stream",
     "text": [
      "100%|██████████| 2/2 [03:27<00:00, 103.52s/it]\n"
     ]
    },
    {
     "name": "stdout",
     "output_type": "stream",
     "text": [
      "[CV]  model__colsample_bytree=0.5, model__max_depth=8, model__n_estimators=150, model__reg_alpha=0.03, model__subsample=0.4, n_splits=2, total= 3.5min\n",
      "[CV] model__colsample_bytree=0.5, model__max_depth=8, model__n_estimators=150, model__reg_alpha=0.03, model__subsample=0.4, n_splits=4 \n"
     ]
    },
    {
     "name": "stderr",
     "output_type": "stream",
     "text": [
      "100%|██████████| 4/4 [06:47<00:00, 101.98s/it]\n",
      " 60%|██████    | 3/5 [05:00<03:20, 100.24s/it]"
     ]
    },
    {
     "name": "stdout",
     "output_type": "stream",
     "text": [
      "[CV]  model__colsample_bytree=0.5, model__max_depth=8, model__n_estimators=150, model__reg_alpha=0.01, model__subsample=0.6, n_splits=4, total= 6.8min\n",
      "[CV] model__colsample_bytree=0.5, model__max_depth=8, model__n_estimators=150, model__reg_alpha=0.03, model__subsample=0.4, n_splits=4 \n"
     ]
    },
    {
     "name": "stderr",
     "output_type": "stream",
     "text": [
      "100%|██████████| 5/5 [08:01<00:00, 96.24s/it]\n"
     ]
    },
    {
     "name": "stdout",
     "output_type": "stream",
     "text": [
      "[CV]  model__colsample_bytree=0.5, model__max_depth=8, model__n_estimators=150, model__reg_alpha=0.01, model__subsample=0.6, n_splits=4, total= 8.0min\n",
      "[CV] model__colsample_bytree=0.5, model__max_depth=8, model__n_estimators=150, model__reg_alpha=0.03, model__subsample=0.4, n_splits=4 \n"
     ]
    },
    {
     "name": "stderr",
     "output_type": "stream",
     "text": [
      "100%|██████████| 3/3 [04:40<00:00, 93.53s/it]\n"
     ]
    },
    {
     "name": "stdout",
     "output_type": "stream",
     "text": [
      "[CV]  model__colsample_bytree=0.5, model__max_depth=8, model__n_estimators=150, model__reg_alpha=0.03, model__subsample=0.4, n_splits=3, total= 4.7min\n",
      "[CV] model__colsample_bytree=0.5, model__max_depth=8, model__n_estimators=150, model__reg_alpha=0.03, model__subsample=0.4, n_splits=5 \n"
     ]
    },
    {
     "name": "stderr",
     "output_type": "stream",
     "text": [
      "100%|██████████| 6/6 [09:06<00:00, 91.06s/it]]\n"
     ]
    },
    {
     "name": "stdout",
     "output_type": "stream",
     "text": [
      "[CV]  model__colsample_bytree=0.5, model__max_depth=8, model__n_estimators=150, model__reg_alpha=0.01, model__subsample=0.6, n_splits=4, total= 9.1min\n",
      "[CV] model__colsample_bytree=0.5, model__max_depth=8, model__n_estimators=150, model__reg_alpha=0.03, model__subsample=0.4, n_splits=5 \n"
     ]
    },
    {
     "name": "stderr",
     "output_type": "stream",
     "text": [
      "100%|██████████| 5/5 [08:11<00:00, 98.31s/it]]\n"
     ]
    },
    {
     "name": "stdout",
     "output_type": "stream",
     "text": [
      "[CV]  model__colsample_bytree=0.5, model__max_depth=8, model__n_estimators=150, model__reg_alpha=0.01, model__subsample=0.6, n_splits=5, total= 8.2min\n",
      "[CV] model__colsample_bytree=0.5, model__max_depth=8, model__n_estimators=150, model__reg_alpha=0.03, model__subsample=0.4, n_splits=5 \n"
     ]
    },
    {
     "name": "stderr",
     "output_type": "stream",
     "text": [
      "100%|██████████| 3/3 [04:52<00:00, 97.34s/it]\n"
     ]
    },
    {
     "name": "stdout",
     "output_type": "stream",
     "text": [
      "[CV]  model__colsample_bytree=0.5, model__max_depth=8, model__n_estimators=150, model__reg_alpha=0.03, model__subsample=0.4, n_splits=3, total= 4.9min\n",
      "[CV] model__colsample_bytree=0.5, model__max_depth=8, model__n_estimators=150, model__reg_alpha=0.03, model__subsample=0.6, n_splits=2 \n"
     ]
    },
    {
     "name": "stderr",
     "output_type": "stream",
     "text": [
      "100%|██████████| 5/5 [08:31<00:00, 102.33s/it]\n"
     ]
    },
    {
     "name": "stdout",
     "output_type": "stream",
     "text": [
      "[CV]  model__colsample_bytree=0.5, model__max_depth=8, model__n_estimators=150, model__reg_alpha=0.01, model__subsample=0.6, n_splits=5, total= 8.5min\n",
      "[CV] model__colsample_bytree=0.5, model__max_depth=8, model__n_estimators=150, model__reg_alpha=0.03, model__subsample=0.6, n_splits=2 \n"
     ]
    },
    {
     "name": "stderr",
     "output_type": "stream",
     "text": [
      "100%|██████████| 6/6 [09:16<00:00, 92.79s/it]\n"
     ]
    },
    {
     "name": "stdout",
     "output_type": "stream",
     "text": [
      "[CV]  model__colsample_bytree=0.5, model__max_depth=8, model__n_estimators=150, model__reg_alpha=0.01, model__subsample=0.6, n_splits=5, total= 9.3min\n",
      "[CV] model__colsample_bytree=0.5, model__max_depth=8, model__n_estimators=150, model__reg_alpha=0.03, model__subsample=0.6, n_splits=2 \n"
     ]
    },
    {
     "name": "stderr",
     "output_type": "stream",
     "text": [
      "100%|██████████| 3/3 [05:07<00:00, 102.36s/it]\n"
     ]
    },
    {
     "name": "stdout",
     "output_type": "stream",
     "text": [
      "[CV]  model__colsample_bytree=0.5, model__max_depth=8, model__n_estimators=150, model__reg_alpha=0.03, model__subsample=0.4, n_splits=3, total= 5.1min\n",
      "[CV] model__colsample_bytree=0.5, model__max_depth=8, model__n_estimators=150, model__reg_alpha=0.03, model__subsample=0.6, n_splits=3 \n"
     ]
    },
    {
     "name": "stderr",
     "output_type": "stream",
     "text": [
      "100%|██████████| 2/2 [03:12<00:00, 96.18s/it]]\n",
      " 40%|████      | 2/5 [03:14<04:52, 97.47s/it]"
     ]
    },
    {
     "name": "stdout",
     "output_type": "stream",
     "text": [
      "[CV]  model__colsample_bytree=0.5, model__max_depth=8, model__n_estimators=150, model__reg_alpha=0.03, model__subsample=0.6, n_splits=2, total= 3.2min\n",
      "[CV] model__colsample_bytree=0.5, model__max_depth=8, model__n_estimators=150, model__reg_alpha=0.03, model__subsample=0.6, n_splits=3 \n"
     ]
    },
    {
     "name": "stderr",
     "output_type": "stream",
     "text": [
      "100%|██████████| 2/2 [03:26<00:00, 103.20s/it]\n"
     ]
    },
    {
     "name": "stdout",
     "output_type": "stream",
     "text": [
      "[CV]  model__colsample_bytree=0.5, model__max_depth=8, model__n_estimators=150, model__reg_alpha=0.03, model__subsample=0.6, n_splits=2, total= 3.4min\n",
      "[CV] model__colsample_bytree=0.5, model__max_depth=8, model__n_estimators=150, model__reg_alpha=0.03, model__subsample=0.6, n_splits=3 \n"
     ]
    },
    {
     "name": "stderr",
     "output_type": "stream",
     "text": [
      "100%|██████████| 2/2 [03:33<00:00, 106.87s/it]\n"
     ]
    },
    {
     "name": "stdout",
     "output_type": "stream",
     "text": [
      "[CV]  model__colsample_bytree=0.5, model__max_depth=8, model__n_estimators=150, model__reg_alpha=0.03, model__subsample=0.6, n_splits=2, total= 3.6min\n",
      "[CV] model__colsample_bytree=0.5, model__max_depth=8, model__n_estimators=150, model__reg_alpha=0.03, model__subsample=0.6, n_splits=4 \n"
     ]
    },
    {
     "name": "stderr",
     "output_type": "stream",
     "text": [
      "100%|██████████| 4/4 [06:45<00:00, 101.45s/it]\n"
     ]
    },
    {
     "name": "stdout",
     "output_type": "stream",
     "text": [
      "[CV]  model__colsample_bytree=0.5, model__max_depth=8, model__n_estimators=150, model__reg_alpha=0.03, model__subsample=0.4, n_splits=4, total= 6.8min\n"
     ]
    },
    {
     "name": "stderr",
     "output_type": "stream",
     "text": [
      "  0%|          | 0/5 [00:00<?, ?it/s].52s/it]"
     ]
    },
    {
     "name": "stdout",
     "output_type": "stream",
     "text": [
      "[CV] model__colsample_bytree=0.5, model__max_depth=8, model__n_estimators=150, model__reg_alpha=0.03, model__subsample=0.6, n_splits=4 \n"
     ]
    },
    {
     "name": "stderr",
     "output_type": "stream",
     "text": [
      "100%|██████████| 5/5 [07:57<00:00, 95.52s/it]\n"
     ]
    },
    {
     "name": "stdout",
     "output_type": "stream",
     "text": [
      "[CV]  model__colsample_bytree=0.5, model__max_depth=8, model__n_estimators=150, model__reg_alpha=0.03, model__subsample=0.4, n_splits=4, total= 8.0min\n",
      "[CV] model__colsample_bytree=0.5, model__max_depth=8, model__n_estimators=150, model__reg_alpha=0.03, model__subsample=0.6, n_splits=4 \n"
     ]
    },
    {
     "name": "stderr",
     "output_type": "stream",
     "text": [
      "100%|██████████| 6/6 [08:59<00:00, 89.95s/it]\n"
     ]
    },
    {
     "name": "stdout",
     "output_type": "stream",
     "text": [
      "[CV]  model__colsample_bytree=0.5, model__max_depth=8, model__n_estimators=150, model__reg_alpha=0.03, model__subsample=0.4, n_splits=4, total= 9.0min\n",
      "[CV] model__colsample_bytree=0.5, model__max_depth=8, model__n_estimators=150, model__reg_alpha=0.03, model__subsample=0.6, n_splits=5 \n"
     ]
    },
    {
     "name": "stderr",
     "output_type": "stream",
     "text": [
      "100%|██████████| 3/3 [04:51<00:00, 97.02s/it]]\n"
     ]
    },
    {
     "name": "stdout",
     "output_type": "stream",
     "text": [
      "[CV]  model__colsample_bytree=0.5, model__max_depth=8, model__n_estimators=150, model__reg_alpha=0.03, model__subsample=0.6, n_splits=3, total= 4.9min\n",
      "[CV] model__colsample_bytree=0.5, model__max_depth=8, model__n_estimators=150, model__reg_alpha=0.03, model__subsample=0.6, n_splits=5 \n"
     ]
    },
    {
     "name": "stderr",
     "output_type": "stream",
     "text": [
      "100%|██████████| 5/5 [07:55<00:00, 95.16s/it]]\n"
     ]
    },
    {
     "name": "stdout",
     "output_type": "stream",
     "text": [
      "[CV]  model__colsample_bytree=0.5, model__max_depth=8, model__n_estimators=150, model__reg_alpha=0.03, model__subsample=0.4, n_splits=5, total= 7.9min\n",
      "[CV] model__colsample_bytree=0.5, model__max_depth=8, model__n_estimators=150, model__reg_alpha=0.03, model__subsample=0.6, n_splits=5 \n"
     ]
    },
    {
     "name": "stderr",
     "output_type": "stream",
     "text": [
      "100%|██████████| 6/6 [09:04<00:00, 90.73s/it]\n"
     ]
    },
    {
     "name": "stdout",
     "output_type": "stream",
     "text": [
      "[CV]  model__colsample_bytree=0.5, model__max_depth=8, model__n_estimators=150, model__reg_alpha=0.03, model__subsample=0.4, n_splits=5, total= 9.1min\n",
      "[CV] model__colsample_bytree=0.5, model__max_depth=8, model__n_estimators=250, model__reg_alpha=0.01, model__subsample=0.4, n_splits=2 \n"
     ]
    },
    {
     "name": "stderr",
     "output_type": "stream",
     "text": [
      "100%|██████████| 3/3 [04:52<00:00, 97.46s/it]]\n"
     ]
    },
    {
     "name": "stdout",
     "output_type": "stream",
     "text": [
      "[CV]  model__colsample_bytree=0.5, model__max_depth=8, model__n_estimators=150, model__reg_alpha=0.03, model__subsample=0.6, n_splits=3, total= 4.9min\n",
      "[CV] model__colsample_bytree=0.5, model__max_depth=8, model__n_estimators=250, model__reg_alpha=0.01, model__subsample=0.4, n_splits=2 \n"
     ]
    },
    {
     "name": "stderr",
     "output_type": "stream",
     "text": [
      "100%|██████████| 5/5 [08:25<00:00, 101.07s/it]\n"
     ]
    },
    {
     "name": "stdout",
     "output_type": "stream",
     "text": [
      "[CV]  model__colsample_bytree=0.5, model__max_depth=8, model__n_estimators=150, model__reg_alpha=0.03, model__subsample=0.4, n_splits=5, total= 8.4min\n",
      "[CV] model__colsample_bytree=0.5, model__max_depth=8, model__n_estimators=250, model__reg_alpha=0.01, model__subsample=0.4, n_splits=2 \n"
     ]
    },
    {
     "name": "stderr",
     "output_type": "stream",
     "text": [
      "100%|██████████| 3/3 [05:10<00:00, 103.54s/it]\n"
     ]
    },
    {
     "name": "stdout",
     "output_type": "stream",
     "text": [
      "[CV]  model__colsample_bytree=0.5, model__max_depth=8, model__n_estimators=150, model__reg_alpha=0.03, model__subsample=0.6, n_splits=3, total= 5.2min\n",
      "[CV] model__colsample_bytree=0.5, model__max_depth=8, model__n_estimators=250, model__reg_alpha=0.01, model__subsample=0.4, n_splits=3 \n"
     ]
    },
    {
     "name": "stderr",
     "output_type": "stream",
     "text": [
      "100%|██████████| 4/4 [06:45<00:00, 101.45s/it]\n"
     ]
    },
    {
     "name": "stdout",
     "output_type": "stream",
     "text": [
      "[CV]  model__colsample_bytree=0.5, model__max_depth=8, model__n_estimators=150, model__reg_alpha=0.03, model__subsample=0.6, n_splits=4, total= 6.8min\n",
      "[CV] model__colsample_bytree=0.5, model__max_depth=8, model__n_estimators=250, model__reg_alpha=0.01, model__subsample=0.4, n_splits=3 \n"
     ]
    },
    {
     "name": "stderr",
     "output_type": "stream",
     "text": [
      "100%|██████████| 2/2 [05:11<00:00, 155.68s/it]\n"
     ]
    },
    {
     "name": "stdout",
     "output_type": "stream",
     "text": [
      "[CV]  model__colsample_bytree=0.5, model__max_depth=8, model__n_estimators=250, model__reg_alpha=0.01, model__subsample=0.4, n_splits=2, total= 5.2min\n",
      "[CV] model__colsample_bytree=0.5, model__max_depth=8, model__n_estimators=250, model__reg_alpha=0.01, model__subsample=0.4, n_splits=3 \n"
     ]
    },
    {
     "name": "stderr",
     "output_type": "stream",
     "text": [
      "100%|██████████| 5/5 [08:00<00:00, 96.11s/it]\n"
     ]
    },
    {
     "name": "stdout",
     "output_type": "stream",
     "text": [
      "[CV]  model__colsample_bytree=0.5, model__max_depth=8, model__n_estimators=150, model__reg_alpha=0.03, model__subsample=0.6, n_splits=4, total= 8.0min\n",
      "[CV] model__colsample_bytree=0.5, model__max_depth=8, model__n_estimators=250, model__reg_alpha=0.01, model__subsample=0.4, n_splits=4 \n"
     ]
    },
    {
     "name": "stderr",
     "output_type": "stream",
     "text": [
      "100%|██████████| 2/2 [05:27<00:00, 163.51s/it]\n"
     ]
    },
    {
     "name": "stdout",
     "output_type": "stream",
     "text": [
      "[CV]  model__colsample_bytree=0.5, model__max_depth=8, model__n_estimators=250, model__reg_alpha=0.01, model__subsample=0.4, n_splits=2, total= 5.5min\n",
      "[CV] model__colsample_bytree=0.5, model__max_depth=8, model__n_estimators=250, model__reg_alpha=0.01, model__subsample=0.4, n_splits=4 \n"
     ]
    },
    {
     "name": "stderr",
     "output_type": "stream",
     "text": [
      "100%|██████████| 6/6 [09:20<00:00, 93.36s/it]\n"
     ]
    },
    {
     "name": "stdout",
     "output_type": "stream",
     "text": [
      "[CV]  model__colsample_bytree=0.5, model__max_depth=8, model__n_estimators=150, model__reg_alpha=0.03, model__subsample=0.6, n_splits=4, total= 9.3min\n",
      "[CV] model__colsample_bytree=0.5, model__max_depth=8, model__n_estimators=250, model__reg_alpha=0.01, model__subsample=0.4, n_splits=4 \n"
     ]
    },
    {
     "name": "stderr",
     "output_type": "stream",
     "text": [
      "100%|██████████| 5/5 [08:12<00:00, 98.56s/it]]\n",
      "100%|██████████| 2/2 [05:46<00:00, 173.31s/it]\n"
     ]
    },
    {
     "name": "stdout",
     "output_type": "stream",
     "text": [
      "[CV]  model__colsample_bytree=0.5, model__max_depth=8, model__n_estimators=150, model__reg_alpha=0.03, model__subsample=0.6, n_splits=5, total= 8.2min\n",
      "[CV] model__colsample_bytree=0.5, model__max_depth=8, model__n_estimators=250, model__reg_alpha=0.01, model__subsample=0.4, n_splits=5 \n"
     ]
    },
    {
     "name": "stderr",
     "output_type": "stream",
     "text": [
      "\r",
      "  0%|          | 0/6 [00:00<?, ?it/s]"
     ]
    },
    {
     "name": "stdout",
     "output_type": "stream",
     "text": [
      "[CV]  model__colsample_bytree=0.5, model__max_depth=8, model__n_estimators=250, model__reg_alpha=0.01, model__subsample=0.4, n_splits=2, total= 5.8min\n",
      "[CV] model__colsample_bytree=0.5, model__max_depth=8, model__n_estimators=250, model__reg_alpha=0.01, model__subsample=0.4, n_splits=5 \n"
     ]
    },
    {
     "name": "stderr",
     "output_type": "stream",
     "text": [
      "100%|██████████| 6/6 [09:08<00:00, 91.40s/it]\n"
     ]
    },
    {
     "name": "stdout",
     "output_type": "stream",
     "text": [
      "[CV]  model__colsample_bytree=0.5, model__max_depth=8, model__n_estimators=150, model__reg_alpha=0.03, model__subsample=0.6, n_splits=5, total= 9.2min\n",
      "[CV] model__colsample_bytree=0.5, model__max_depth=8, model__n_estimators=250, model__reg_alpha=0.01, model__subsample=0.4, n_splits=5 \n"
     ]
    },
    {
     "name": "stderr",
     "output_type": "stream",
     "text": [
      "100%|██████████| 5/5 [08:13<00:00, 98.70s/it]]\n"
     ]
    },
    {
     "name": "stdout",
     "output_type": "stream",
     "text": [
      "[CV]  model__colsample_bytree=0.5, model__max_depth=8, model__n_estimators=150, model__reg_alpha=0.03, model__subsample=0.6, n_splits=5, total= 8.2min\n",
      "[CV] model__colsample_bytree=0.5, model__max_depth=8, model__n_estimators=250, model__reg_alpha=0.01, model__subsample=0.6, n_splits=2 \n"
     ]
    },
    {
     "name": "stderr",
     "output_type": "stream",
     "text": [
      "100%|██████████| 3/3 [07:49<00:00, 156.61s/it]\n"
     ]
    },
    {
     "name": "stdout",
     "output_type": "stream",
     "text": [
      "[CV]  model__colsample_bytree=0.5, model__max_depth=8, model__n_estimators=250, model__reg_alpha=0.01, model__subsample=0.4, n_splits=3, total= 7.8min\n",
      "[CV] model__colsample_bytree=0.5, model__max_depth=8, model__n_estimators=250, model__reg_alpha=0.01, model__subsample=0.6, n_splits=2 \n"
     ]
    },
    {
     "name": "stderr",
     "output_type": "stream",
     "text": [
      "100%|██████████| 3/3 [07:57<00:00, 159.23s/it]\n"
     ]
    },
    {
     "name": "stdout",
     "output_type": "stream",
     "text": [
      "[CV]  model__colsample_bytree=0.5, model__max_depth=8, model__n_estimators=250, model__reg_alpha=0.01, model__subsample=0.4, n_splits=3, total= 8.0min\n",
      "[CV] model__colsample_bytree=0.5, model__max_depth=8, model__n_estimators=250, model__reg_alpha=0.01, model__subsample=0.6, n_splits=2 \n"
     ]
    },
    {
     "name": "stderr",
     "output_type": "stream",
     "text": [
      "100%|██████████| 2/2 [05:15<00:00, 157.78s/it]\n"
     ]
    },
    {
     "name": "stdout",
     "output_type": "stream",
     "text": [
      "[CV]  model__colsample_bytree=0.5, model__max_depth=8, model__n_estimators=250, model__reg_alpha=0.01, model__subsample=0.6, n_splits=2, total= 5.3min\n",
      "[CV] model__colsample_bytree=0.5, model__max_depth=8, model__n_estimators=250, model__reg_alpha=0.01, model__subsample=0.6, n_splits=3 \n"
     ]
    },
    {
     "name": "stderr",
     "output_type": "stream",
     "text": [
      "100%|██████████| 3/3 [08:19<00:00, 166.56s/it]\n"
     ]
    },
    {
     "name": "stdout",
     "output_type": "stream",
     "text": [
      "[CV]  model__colsample_bytree=0.5, model__max_depth=8, model__n_estimators=250, model__reg_alpha=0.01, model__subsample=0.4, n_splits=3, total= 8.3min\n",
      "[CV] model__colsample_bytree=0.5, model__max_depth=8, model__n_estimators=250, model__reg_alpha=0.01, model__subsample=0.6, n_splits=3 \n"
     ]
    },
    {
     "name": "stderr",
     "output_type": "stream",
     "text": [
      "100%|██████████| 2/2 [05:34<00:00, 167.26s/it]\n"
     ]
    },
    {
     "name": "stdout",
     "output_type": "stream",
     "text": [
      "[CV]  model__colsample_bytree=0.5, model__max_depth=8, model__n_estimators=250, model__reg_alpha=0.01, model__subsample=0.6, n_splits=2, total= 5.6min\n",
      "[CV] model__colsample_bytree=0.5, model__max_depth=8, model__n_estimators=250, model__reg_alpha=0.01, model__subsample=0.6, n_splits=3 \n"
     ]
    },
    {
     "name": "stderr",
     "output_type": "stream",
     "text": [
      "100%|██████████| 4/4 [11:14<00:00, 168.72s/it]\n"
     ]
    },
    {
     "name": "stdout",
     "output_type": "stream",
     "text": [
      "[CV]  model__colsample_bytree=0.5, model__max_depth=8, model__n_estimators=250, model__reg_alpha=0.01, model__subsample=0.4, n_splits=4, total=11.3min\n",
      "[CV] model__colsample_bytree=0.5, model__max_depth=8, model__n_estimators=250, model__reg_alpha=0.01, model__subsample=0.6, n_splits=4 \n"
     ]
    },
    {
     "name": "stderr",
     "output_type": "stream",
     "text": [
      "100%|██████████| 2/2 [05:41<00:00, 170.54s/it]\n"
     ]
    },
    {
     "name": "stdout",
     "output_type": "stream",
     "text": [
      "[CV]  model__colsample_bytree=0.5, model__max_depth=8, model__n_estimators=250, model__reg_alpha=0.01, model__subsample=0.6, n_splits=2, total= 5.7min\n",
      "[CV] model__colsample_bytree=0.5, model__max_depth=8, model__n_estimators=250, model__reg_alpha=0.01, model__subsample=0.6, n_splits=4 \n"
     ]
    },
    {
     "name": "stderr",
     "output_type": "stream",
     "text": [
      "100%|██████████| 5/5 [12:58<00:00, 155.71s/it]\n"
     ]
    },
    {
     "name": "stdout",
     "output_type": "stream",
     "text": [
      "[CV]  model__colsample_bytree=0.5, model__max_depth=8, model__n_estimators=250, model__reg_alpha=0.01, model__subsample=0.4, n_splits=4, total=13.0min\n",
      "[CV] model__colsample_bytree=0.5, model__max_depth=8, model__n_estimators=250, model__reg_alpha=0.01, model__subsample=0.6, n_splits=4 \n"
     ]
    },
    {
     "name": "stderr",
     "output_type": "stream",
     "text": [
      "100%|██████████| 6/6 [14:35<00:00, 145.95s/it]\n"
     ]
    },
    {
     "name": "stdout",
     "output_type": "stream",
     "text": [
      "[CV]  model__colsample_bytree=0.5, model__max_depth=8, model__n_estimators=250, model__reg_alpha=0.01, model__subsample=0.4, n_splits=4, total=14.6min\n",
      "[CV] model__colsample_bytree=0.5, model__max_depth=8, model__n_estimators=250, model__reg_alpha=0.01, model__subsample=0.6, n_splits=5 \n"
     ]
    },
    {
     "name": "stderr",
     "output_type": "stream",
     "text": [
      "100%|██████████| 5/5 [13:23<00:00, 160.72s/it]\n"
     ]
    },
    {
     "name": "stdout",
     "output_type": "stream",
     "text": [
      "[CV]  model__colsample_bytree=0.5, model__max_depth=8, model__n_estimators=250, model__reg_alpha=0.01, model__subsample=0.4, n_splits=5, total=13.4min\n",
      "[CV] model__colsample_bytree=0.5, model__max_depth=8, model__n_estimators=250, model__reg_alpha=0.01, model__subsample=0.6, n_splits=5 \n"
     ]
    },
    {
     "name": "stderr",
     "output_type": "stream",
     "text": [
      "100%|██████████| 5/5 [13:31<00:00, 162.28s/it]\n"
     ]
    },
    {
     "name": "stdout",
     "output_type": "stream",
     "text": [
      "[CV]  model__colsample_bytree=0.5, model__max_depth=8, model__n_estimators=250, model__reg_alpha=0.01, model__subsample=0.4, n_splits=5, total=13.5min\n",
      "[CV] model__colsample_bytree=0.5, model__max_depth=8, model__n_estimators=250, model__reg_alpha=0.01, model__subsample=0.6, n_splits=5 \n"
     ]
    },
    {
     "name": "stderr",
     "output_type": "stream",
     "text": [
      "100%|██████████| 3/3 [07:39<00:00, 153.13s/it]\n"
     ]
    },
    {
     "name": "stdout",
     "output_type": "stream",
     "text": [
      "[CV]  model__colsample_bytree=0.5, model__max_depth=8, model__n_estimators=250, model__reg_alpha=0.01, model__subsample=0.6, n_splits=3, total= 7.7min\n",
      "[CV] model__colsample_bytree=0.5, model__max_depth=8, model__n_estimators=250, model__reg_alpha=0.03, model__subsample=0.4, n_splits=2 \n"
     ]
    },
    {
     "name": "stderr",
     "output_type": "stream",
     "text": [
      "100%|██████████| 3/3 [08:02<00:00, 160.75s/it]\n"
     ]
    },
    {
     "name": "stdout",
     "output_type": "stream",
     "text": [
      "[CV]  model__colsample_bytree=0.5, model__max_depth=8, model__n_estimators=250, model__reg_alpha=0.01, model__subsample=0.6, n_splits=3, total= 8.0min\n",
      "[CV] model__colsample_bytree=0.5, model__max_depth=8, model__n_estimators=250, model__reg_alpha=0.03, model__subsample=0.4, n_splits=2 \n"
     ]
    },
    {
     "name": "stderr",
     "output_type": "stream",
     "text": [
      "100%|██████████| 6/6 [14:59<00:00, 149.90s/it]\n",
      " 25%|██▌       | 1/4 [02:36<07:50, 156.98s/it]"
     ]
    },
    {
     "name": "stdout",
     "output_type": "stream",
     "text": [
      "[CV]  model__colsample_bytree=0.5, model__max_depth=8, model__n_estimators=250, model__reg_alpha=0.01, model__subsample=0.4, n_splits=5, total=15.0min\n",
      "[CV] model__colsample_bytree=0.5, model__max_depth=8, model__n_estimators=250, model__reg_alpha=0.03, model__subsample=0.4, n_splits=2 \n"
     ]
    },
    {
     "name": "stderr",
     "output_type": "stream",
     "text": [
      "100%|██████████| 3/3 [08:35<00:00, 171.94s/it]\n"
     ]
    },
    {
     "name": "stdout",
     "output_type": "stream",
     "text": [
      "[CV]  model__colsample_bytree=0.5, model__max_depth=8, model__n_estimators=250, model__reg_alpha=0.01, model__subsample=0.6, n_splits=3, total= 8.6min\n",
      "[CV] model__colsample_bytree=0.5, model__max_depth=8, model__n_estimators=250, model__reg_alpha=0.03, model__subsample=0.4, n_splits=3 \n"
     ]
    },
    {
     "name": "stderr",
     "output_type": "stream",
     "text": [
      "100%|██████████| 2/2 [05:14<00:00, 157.14s/it]\n"
     ]
    },
    {
     "name": "stdout",
     "output_type": "stream",
     "text": [
      "[CV]  model__colsample_bytree=0.5, model__max_depth=8, model__n_estimators=250, model__reg_alpha=0.03, model__subsample=0.4, n_splits=2, total= 5.2min\n",
      "[CV] model__colsample_bytree=0.5, model__max_depth=8, model__n_estimators=250, model__reg_alpha=0.03, model__subsample=0.4, n_splits=3 \n"
     ]
    },
    {
     "name": "stderr",
     "output_type": "stream",
     "text": [
      "100%|██████████| 2/2 [05:28<00:00, 164.40s/it]\n"
     ]
    },
    {
     "name": "stdout",
     "output_type": "stream",
     "text": [
      "[CV]  model__colsample_bytree=0.5, model__max_depth=8, model__n_estimators=250, model__reg_alpha=0.03, model__subsample=0.4, n_splits=2, total= 5.5min\n",
      "[CV] model__colsample_bytree=0.5, model__max_depth=8, model__n_estimators=250, model__reg_alpha=0.03, model__subsample=0.4, n_splits=3 \n"
     ]
    },
    {
     "name": "stderr",
     "output_type": "stream",
     "text": [
      "100%|██████████| 2/2 [05:46<00:00, 173.10s/it]\n"
     ]
    },
    {
     "name": "stdout",
     "output_type": "stream",
     "text": [
      "[CV]  model__colsample_bytree=0.5, model__max_depth=8, model__n_estimators=250, model__reg_alpha=0.03, model__subsample=0.4, n_splits=2, total= 5.8min\n",
      "[CV] model__colsample_bytree=0.5, model__max_depth=8, model__n_estimators=250, model__reg_alpha=0.03, model__subsample=0.4, n_splits=4 \n"
     ]
    },
    {
     "name": "stderr",
     "output_type": "stream",
     "text": [
      "100%|██████████| 4/4 [11:04<00:00, 166.04s/it]\n"
     ]
    },
    {
     "name": "stdout",
     "output_type": "stream",
     "text": [
      "[CV]  model__colsample_bytree=0.5, model__max_depth=8, model__n_estimators=250, model__reg_alpha=0.01, model__subsample=0.6, n_splits=4, total=11.1min\n",
      "[CV] model__colsample_bytree=0.5, model__max_depth=8, model__n_estimators=250, model__reg_alpha=0.03, model__subsample=0.4, n_splits=4 \n"
     ]
    },
    {
     "name": "stderr",
     "output_type": "stream",
     "text": [
      "100%|██████████| 5/5 [13:08<00:00, 157.75s/it]\n"
     ]
    },
    {
     "name": "stdout",
     "output_type": "stream",
     "text": [
      "[CV]  model__colsample_bytree=0.5, model__max_depth=8, model__n_estimators=250, model__reg_alpha=0.01, model__subsample=0.6, n_splits=4, total=13.2min\n",
      "[CV] model__colsample_bytree=0.5, model__max_depth=8, model__n_estimators=250, model__reg_alpha=0.03, model__subsample=0.4, n_splits=4 \n"
     ]
    },
    {
     "name": "stderr",
     "output_type": "stream",
     "text": [
      "100%|██████████| 3/3 [07:47<00:00, 155.84s/it]\n"
     ]
    },
    {
     "name": "stdout",
     "output_type": "stream",
     "text": [
      "[CV]  model__colsample_bytree=0.5, model__max_depth=8, model__n_estimators=250, model__reg_alpha=0.03, model__subsample=0.4, n_splits=3, total= 7.8min\n",
      "[CV] model__colsample_bytree=0.5, model__max_depth=8, model__n_estimators=250, model__reg_alpha=0.03, model__subsample=0.4, n_splits=5 \n"
     ]
    },
    {
     "name": "stderr",
     "output_type": "stream",
     "text": [
      "100%|██████████| 6/6 [15:19<00:00, 153.22s/it]\n"
     ]
    },
    {
     "name": "stdout",
     "output_type": "stream",
     "text": [
      "[CV]  model__colsample_bytree=0.5, model__max_depth=8, model__n_estimators=250, model__reg_alpha=0.01, model__subsample=0.6, n_splits=4, total=15.3min\n",
      "[CV] model__colsample_bytree=0.5, model__max_depth=8, model__n_estimators=250, model__reg_alpha=0.03, model__subsample=0.4, n_splits=5 \n"
     ]
    },
    {
     "name": "stderr",
     "output_type": "stream",
     "text": [
      "100%|██████████| 5/5 [13:26<00:00, 161.28s/it]\n"
     ]
    },
    {
     "name": "stdout",
     "output_type": "stream",
     "text": [
      "[CV]  model__colsample_bytree=0.5, model__max_depth=8, model__n_estimators=250, model__reg_alpha=0.01, model__subsample=0.6, n_splits=5, total=13.5min\n",
      "[CV] model__colsample_bytree=0.5, model__max_depth=8, model__n_estimators=250, model__reg_alpha=0.03, model__subsample=0.4, n_splits=5 \n"
     ]
    },
    {
     "name": "stderr",
     "output_type": "stream",
     "text": [
      "100%|██████████| 3/3 [07:59<00:00, 159.98s/it]\n"
     ]
    },
    {
     "name": "stdout",
     "output_type": "stream",
     "text": [
      "[CV]  model__colsample_bytree=0.5, model__max_depth=8, model__n_estimators=250, model__reg_alpha=0.03, model__subsample=0.4, n_splits=3, total= 8.0min\n",
      "[CV] model__colsample_bytree=0.5, model__max_depth=8, model__n_estimators=250, model__reg_alpha=0.03, model__subsample=0.6, n_splits=2 \n"
     ]
    },
    {
     "name": "stderr",
     "output_type": "stream",
     "text": [
      "100%|██████████| 5/5 [13:33<00:00, 162.76s/it]\n"
     ]
    },
    {
     "name": "stdout",
     "output_type": "stream",
     "text": [
      "[CV]  model__colsample_bytree=0.5, model__max_depth=8, model__n_estimators=250, model__reg_alpha=0.01, model__subsample=0.6, n_splits=5, total=13.6min\n",
      "[CV] model__colsample_bytree=0.5, model__max_depth=8, model__n_estimators=250, model__reg_alpha=0.03, model__subsample=0.6, n_splits=2 \n"
     ]
    },
    {
     "name": "stderr",
     "output_type": "stream",
     "text": [
      "100%|██████████| 6/6 [14:52<00:00, 148.83s/it]\n"
     ]
    },
    {
     "name": "stdout",
     "output_type": "stream",
     "text": [
      "[CV]  model__colsample_bytree=0.5, model__max_depth=8, model__n_estimators=250, model__reg_alpha=0.01, model__subsample=0.6, n_splits=5, total=14.9min\n",
      "[CV] model__colsample_bytree=0.5, model__max_depth=8, model__n_estimators=250, model__reg_alpha=0.03, model__subsample=0.6, n_splits=2 \n"
     ]
    },
    {
     "name": "stderr",
     "output_type": "stream",
     "text": [
      "100%|██████████| 3/3 [08:16<00:00, 165.50s/it]\n"
     ]
    },
    {
     "name": "stdout",
     "output_type": "stream",
     "text": [
      "[CV]  model__colsample_bytree=0.5, model__max_depth=8, model__n_estimators=250, model__reg_alpha=0.03, model__subsample=0.4, n_splits=3, total= 8.3min\n",
      "[CV] model__colsample_bytree=0.5, model__max_depth=8, model__n_estimators=250, model__reg_alpha=0.03, model__subsample=0.6, n_splits=3 \n"
     ]
    },
    {
     "name": "stderr",
     "output_type": "stream",
     "text": [
      "100%|██████████| 2/2 [05:16<00:00, 158.31s/it]\n"
     ]
    },
    {
     "name": "stdout",
     "output_type": "stream",
     "text": [
      "[CV]  model__colsample_bytree=0.5, model__max_depth=8, model__n_estimators=250, model__reg_alpha=0.03, model__subsample=0.6, n_splits=2, total= 5.3min\n",
      "[CV] model__colsample_bytree=0.5, model__max_depth=8, model__n_estimators=250, model__reg_alpha=0.03, model__subsample=0.6, n_splits=3 \n"
     ]
    },
    {
     "name": "stderr",
     "output_type": "stream",
     "text": [
      "100%|██████████| 2/2 [05:26<00:00, 163.32s/it]\n"
     ]
    },
    {
     "name": "stdout",
     "output_type": "stream",
     "text": [
      "[CV]  model__colsample_bytree=0.5, model__max_depth=8, model__n_estimators=250, model__reg_alpha=0.03, model__subsample=0.6, n_splits=2, total= 5.5min\n",
      "[CV] model__colsample_bytree=0.5, model__max_depth=8, model__n_estimators=250, model__reg_alpha=0.03, model__subsample=0.6, n_splits=3 \n"
     ]
    },
    {
     "name": "stderr",
     "output_type": "stream",
     "text": [
      "100%|██████████| 2/2 [05:43<00:00, 171.76s/it]\n"
     ]
    },
    {
     "name": "stdout",
     "output_type": "stream",
     "text": [
      "[CV]  model__colsample_bytree=0.5, model__max_depth=8, model__n_estimators=250, model__reg_alpha=0.03, model__subsample=0.6, n_splits=2, total= 5.7min\n",
      "[CV] model__colsample_bytree=0.5, model__max_depth=8, model__n_estimators=250, model__reg_alpha=0.03, model__subsample=0.6, n_splits=4 \n"
     ]
    },
    {
     "name": "stderr",
     "output_type": "stream",
     "text": [
      "100%|██████████| 4/4 [11:03<00:00, 166.00s/it]\n"
     ]
    },
    {
     "name": "stdout",
     "output_type": "stream",
     "text": [
      "[CV]  model__colsample_bytree=0.5, model__max_depth=8, model__n_estimators=250, model__reg_alpha=0.03, model__subsample=0.4, n_splits=4, total=11.1min\n",
      "[CV] model__colsample_bytree=0.5, model__max_depth=8, model__n_estimators=250, model__reg_alpha=0.03, model__subsample=0.6, n_splits=4 \n"
     ]
    },
    {
     "name": "stderr",
     "output_type": "stream",
     "text": [
      "100%|██████████| 6/6 [15:06<00:00, 151.16s/it]\n"
     ]
    },
    {
     "name": "stdout",
     "output_type": "stream",
     "text": [
      "[CV]  model__colsample_bytree=0.5, model__max_depth=8, model__n_estimators=250, model__reg_alpha=0.03, model__subsample=0.4, n_splits=4, total=15.1min\n",
      "[CV] model__colsample_bytree=0.5, model__max_depth=8, model__n_estimators=250, model__reg_alpha=0.03, model__subsample=0.6, n_splits=4 \n"
     ]
    },
    {
     "name": "stderr",
     "output_type": "stream",
     "text": [
      "100%|██████████| 3/3 [07:44<00:00, 154.76s/it]\n"
     ]
    },
    {
     "name": "stdout",
     "output_type": "stream",
     "text": [
      "[CV]  model__colsample_bytree=0.5, model__max_depth=8, model__n_estimators=250, model__reg_alpha=0.03, model__subsample=0.6, n_splits=3, total= 7.7min\n",
      "[CV] model__colsample_bytree=0.5, model__max_depth=8, model__n_estimators=250, model__reg_alpha=0.03, model__subsample=0.6, n_splits=5 \n"
     ]
    },
    {
     "name": "stderr",
     "output_type": "stream",
     "text": [
      "100%|██████████| 5/5 [13:04<00:00, 156.92s/it]\n"
     ]
    },
    {
     "name": "stdout",
     "output_type": "stream",
     "text": [
      "[CV]  model__colsample_bytree=0.5, model__max_depth=8, model__n_estimators=250, model__reg_alpha=0.03, model__subsample=0.4, n_splits=4, total=13.1min\n",
      "[CV] model__colsample_bytree=0.5, model__max_depth=8, model__n_estimators=250, model__reg_alpha=0.03, model__subsample=0.6, n_splits=5 \n"
     ]
    },
    {
     "name": "stderr",
     "output_type": "stream",
     "text": [
      "100%|██████████| 5/5 [13:27<00:00, 161.51s/it]\n"
     ]
    },
    {
     "name": "stdout",
     "output_type": "stream",
     "text": [
      "[CV]  model__colsample_bytree=0.5, model__max_depth=8, model__n_estimators=250, model__reg_alpha=0.03, model__subsample=0.4, n_splits=5, total=13.5min\n",
      "[CV] model__colsample_bytree=0.5, model__max_depth=8, model__n_estimators=250, model__reg_alpha=0.03, model__subsample=0.6, n_splits=5 \n"
     ]
    },
    {
     "name": "stderr",
     "output_type": "stream",
     "text": [
      "100%|██████████| 6/6 [14:59<00:00, 149.90s/it]\n"
     ]
    },
    {
     "name": "stdout",
     "output_type": "stream",
     "text": [
      "[CV]  model__colsample_bytree=0.5, model__max_depth=8, model__n_estimators=250, model__reg_alpha=0.03, model__subsample=0.4, n_splits=5, total=15.0min\n",
      "[CV] model__colsample_bytree=0.7, model__max_depth=3, model__n_estimators=150, model__reg_alpha=0.01, model__subsample=0.4, n_splits=2 \n"
     ]
    },
    {
     "name": "stderr",
     "output_type": "stream",
     "text": [
      "100%|██████████| 3/3 [07:59<00:00, 159.86s/it]\n"
     ]
    },
    {
     "name": "stdout",
     "output_type": "stream",
     "text": [
      "[CV]  model__colsample_bytree=0.5, model__max_depth=8, model__n_estimators=250, model__reg_alpha=0.03, model__subsample=0.6, n_splits=3, total= 8.0min\n",
      "[CV] model__colsample_bytree=0.7, model__max_depth=3, model__n_estimators=150, model__reg_alpha=0.01, model__subsample=0.4, n_splits=2 \n"
     ]
    },
    {
     "name": "stderr",
     "output_type": "stream",
     "text": [
      "100%|██████████| 2/2 [01:00<00:00, 30.13s/it]\n"
     ]
    },
    {
     "name": "stdout",
     "output_type": "stream",
     "text": [
      "[CV]  model__colsample_bytree=0.7, model__max_depth=3, model__n_estimators=150, model__reg_alpha=0.01, model__subsample=0.4, n_splits=2, total= 1.0min\n",
      "[CV] model__colsample_bytree=0.7, model__max_depth=3, model__n_estimators=150, model__reg_alpha=0.01, model__subsample=0.4, n_splits=2 \n"
     ]
    },
    {
     "name": "stderr",
     "output_type": "stream",
     "text": [
      "100%|██████████| 5/5 [14:01<00:00, 168.22s/it]\n"
     ]
    },
    {
     "name": "stdout",
     "output_type": "stream",
     "text": [
      "[CV]  model__colsample_bytree=0.5, model__max_depth=8, model__n_estimators=250, model__reg_alpha=0.03, model__subsample=0.4, n_splits=5, total=14.0min\n",
      "[CV] model__colsample_bytree=0.7, model__max_depth=3, model__n_estimators=150, model__reg_alpha=0.01, model__subsample=0.4, n_splits=3 \n"
     ]
    },
    {
     "name": "stderr",
     "output_type": "stream",
     "text": [
      "100%|██████████| 3/3 [08:22<00:00, 167.46s/it]\n"
     ]
    },
    {
     "name": "stdout",
     "output_type": "stream",
     "text": [
      "[CV]  model__colsample_bytree=0.5, model__max_depth=8, model__n_estimators=250, model__reg_alpha=0.03, model__subsample=0.6, n_splits=3, total= 8.4min\n",
      "[CV] model__colsample_bytree=0.7, model__max_depth=3, model__n_estimators=150, model__reg_alpha=0.01, model__subsample=0.4, n_splits=3 \n"
     ]
    },
    {
     "name": "stderr",
     "output_type": "stream",
     "text": [
      "100%|██████████| 2/2 [01:00<00:00, 30.09s/it]]\n"
     ]
    },
    {
     "name": "stdout",
     "output_type": "stream",
     "text": [
      "[CV]  model__colsample_bytree=0.7, model__max_depth=3, model__n_estimators=150, model__reg_alpha=0.01, model__subsample=0.4, n_splits=2, total= 1.0min\n",
      "[CV] model__colsample_bytree=0.7, model__max_depth=3, model__n_estimators=150, model__reg_alpha=0.01, model__subsample=0.4, n_splits=3 \n"
     ]
    },
    {
     "name": "stderr",
     "output_type": "stream",
     "text": [
      "100%|██████████| 2/2 [01:01<00:00, 30.93s/it]]\n"
     ]
    },
    {
     "name": "stdout",
     "output_type": "stream",
     "text": [
      "[CV]  model__colsample_bytree=0.7, model__max_depth=3, model__n_estimators=150, model__reg_alpha=0.01, model__subsample=0.4, n_splits=2, total= 1.0min\n",
      "[CV] model__colsample_bytree=0.7, model__max_depth=3, model__n_estimators=150, model__reg_alpha=0.01, model__subsample=0.4, n_splits=4 \n"
     ]
    },
    {
     "name": "stderr",
     "output_type": "stream",
     "text": [
      "100%|██████████| 3/3 [01:29<00:00, 29.84s/it]]\n"
     ]
    },
    {
     "name": "stdout",
     "output_type": "stream",
     "text": [
      "[CV]  model__colsample_bytree=0.7, model__max_depth=3, model__n_estimators=150, model__reg_alpha=0.01, model__subsample=0.4, n_splits=3, total= 1.5min\n",
      "[CV] model__colsample_bytree=0.7, model__max_depth=3, model__n_estimators=150, model__reg_alpha=0.01, model__subsample=0.4, n_splits=4 \n"
     ]
    },
    {
     "name": "stderr",
     "output_type": "stream",
     "text": [
      "100%|██████████| 3/3 [01:28<00:00, 29.50s/it]\n"
     ]
    },
    {
     "name": "stdout",
     "output_type": "stream",
     "text": [
      "[CV]  model__colsample_bytree=0.7, model__max_depth=3, model__n_estimators=150, model__reg_alpha=0.01, model__subsample=0.4, n_splits=3, total= 1.5min\n",
      "[CV] model__colsample_bytree=0.7, model__max_depth=3, model__n_estimators=150, model__reg_alpha=0.01, model__subsample=0.4, n_splits=4 \n"
     ]
    },
    {
     "name": "stderr",
     "output_type": "stream",
     "text": [
      "100%|██████████| 3/3 [01:28<00:00, 29.58s/it]\n"
     ]
    },
    {
     "name": "stdout",
     "output_type": "stream",
     "text": [
      "[CV]  model__colsample_bytree=0.7, model__max_depth=3, model__n_estimators=150, model__reg_alpha=0.01, model__subsample=0.4, n_splits=3, total= 1.5min\n",
      "[CV] model__colsample_bytree=0.7, model__max_depth=3, model__n_estimators=150, model__reg_alpha=0.01, model__subsample=0.4, n_splits=5 \n"
     ]
    },
    {
     "name": "stderr",
     "output_type": "stream",
     "text": [
      "100%|██████████| 4/4 [01:59<00:00, 30.00s/it]]\n"
     ]
    },
    {
     "name": "stdout",
     "output_type": "stream",
     "text": [
      "[CV]  model__colsample_bytree=0.7, model__max_depth=3, model__n_estimators=150, model__reg_alpha=0.01, model__subsample=0.4, n_splits=4, total= 2.0min\n",
      "[CV] model__colsample_bytree=0.7, model__max_depth=3, model__n_estimators=150, model__reg_alpha=0.01, model__subsample=0.4, n_splits=5 \n"
     ]
    },
    {
     "name": "stderr",
     "output_type": "stream",
     "text": [
      "100%|██████████| 6/6 [02:57<00:00, 29.54s/it]\n"
     ]
    },
    {
     "name": "stdout",
     "output_type": "stream",
     "text": [
      "[CV]  model__colsample_bytree=0.7, model__max_depth=3, model__n_estimators=150, model__reg_alpha=0.01, model__subsample=0.4, n_splits=4, total= 3.0min\n",
      "[CV] model__colsample_bytree=0.7, model__max_depth=3, model__n_estimators=150, model__reg_alpha=0.01, model__subsample=0.4, n_splits=5 \n"
     ]
    },
    {
     "name": "stderr",
     "output_type": "stream",
     "text": [
      "100%|██████████| 5/5 [02:29<00:00, 29.90s/it]]\n",
      " 67%|██████▋   | 4/6 [01:55<00:57, 28.80s/it]"
     ]
    },
    {
     "name": "stdout",
     "output_type": "stream",
     "text": [
      "[CV]  model__colsample_bytree=0.7, model__max_depth=3, model__n_estimators=150, model__reg_alpha=0.01, model__subsample=0.4, n_splits=4, total= 2.5min\n",
      "[CV] model__colsample_bytree=0.7, model__max_depth=3, model__n_estimators=150, model__reg_alpha=0.01, model__subsample=0.6, n_splits=2 \n"
     ]
    },
    {
     "name": "stderr",
     "output_type": "stream",
     "text": [
      "100%|██████████| 6/6 [02:53<00:00, 28.95s/it]]\n"
     ]
    },
    {
     "name": "stdout",
     "output_type": "stream",
     "text": [
      "[CV]  model__colsample_bytree=0.7, model__max_depth=3, model__n_estimators=150, model__reg_alpha=0.01, model__subsample=0.4, n_splits=5, total= 2.9min\n",
      "[CV] model__colsample_bytree=0.7, model__max_depth=3, model__n_estimators=150, model__reg_alpha=0.01, model__subsample=0.6, n_splits=2 \n"
     ]
    },
    {
     "name": "stderr",
     "output_type": "stream",
     "text": [
      "100%|██████████| 2/2 [01:00<00:00, 30.20s/it]\n"
     ]
    },
    {
     "name": "stdout",
     "output_type": "stream",
     "text": [
      "[CV]  model__colsample_bytree=0.7, model__max_depth=3, model__n_estimators=150, model__reg_alpha=0.01, model__subsample=0.6, n_splits=2, total= 1.0min\n",
      "[CV] model__colsample_bytree=0.7, model__max_depth=3, model__n_estimators=150, model__reg_alpha=0.01, model__subsample=0.6, n_splits=2 \n"
     ]
    },
    {
     "name": "stderr",
     "output_type": "stream",
     "text": [
      "100%|██████████| 2/2 [01:00<00:00, 30.02s/it]]\n"
     ]
    },
    {
     "name": "stdout",
     "output_type": "stream",
     "text": [
      "[CV]  model__colsample_bytree=0.7, model__max_depth=3, model__n_estimators=150, model__reg_alpha=0.01, model__subsample=0.6, n_splits=2, total= 1.0min\n",
      "[CV] model__colsample_bytree=0.7, model__max_depth=3, model__n_estimators=150, model__reg_alpha=0.01, model__subsample=0.6, n_splits=3 \n"
     ]
    },
    {
     "name": "stderr",
     "output_type": "stream",
     "text": [
      "100%|██████████| 2/2 [01:02<00:00, 31.44s/it]\n"
     ]
    },
    {
     "name": "stdout",
     "output_type": "stream",
     "text": [
      "[CV]  model__colsample_bytree=0.7, model__max_depth=3, model__n_estimators=150, model__reg_alpha=0.01, model__subsample=0.6, n_splits=2, total= 1.1min\n",
      "[CV] model__colsample_bytree=0.7, model__max_depth=3, model__n_estimators=150, model__reg_alpha=0.01, model__subsample=0.6, n_splits=3 \n"
     ]
    },
    {
     "name": "stderr",
     "output_type": "stream",
     "text": [
      "100%|██████████| 5/5 [02:27<00:00, 29.41s/it]\n"
     ]
    },
    {
     "name": "stdout",
     "output_type": "stream",
     "text": [
      "[CV]  model__colsample_bytree=0.7, model__max_depth=3, model__n_estimators=150, model__reg_alpha=0.01, model__subsample=0.4, n_splits=5, total= 2.5min\n",
      "[CV] model__colsample_bytree=0.7, model__max_depth=3, model__n_estimators=150, model__reg_alpha=0.01, model__subsample=0.6, n_splits=3 \n"
     ]
    },
    {
     "name": "stderr",
     "output_type": "stream",
     "text": [
      "100%|██████████| 5/5 [02:31<00:00, 30.26s/it]\n"
     ]
    },
    {
     "name": "stdout",
     "output_type": "stream",
     "text": [
      "[CV]  model__colsample_bytree=0.7, model__max_depth=3, model__n_estimators=150, model__reg_alpha=0.01, model__subsample=0.4, n_splits=5, total= 2.5min\n"
     ]
    },
    {
     "name": "stderr",
     "output_type": "stream",
     "text": [
      "100%|██████████| 4/4 [11:22<00:00, 170.63s/it]\n"
     ]
    },
    {
     "name": "stdout",
     "output_type": "stream",
     "text": [
      "[CV] model__colsample_bytree=0.7, model__max_depth=3, model__n_estimators=150, model__reg_alpha=0.01, model__subsample=0.6, n_splits=4 \n"
     ]
    },
    {
     "name": "stderr",
     "output_type": "stream",
     "text": [
      "\r",
      "  0%|          | 0/6 [00:00<?, ?it/s]"
     ]
    },
    {
     "name": "stdout",
     "output_type": "stream",
     "text": [
      "[CV]  model__colsample_bytree=0.5, model__max_depth=8, model__n_estimators=250, model__reg_alpha=0.03, model__subsample=0.6, n_splits=4, total=11.4min\n",
      "[CV] model__colsample_bytree=0.7, model__max_depth=3, model__n_estimators=150, model__reg_alpha=0.01, model__subsample=0.6, n_splits=4 \n"
     ]
    },
    {
     "name": "stderr",
     "output_type": "stream",
     "text": [
      "100%|██████████| 3/3 [01:27<00:00, 29.05s/it]]\n"
     ]
    },
    {
     "name": "stdout",
     "output_type": "stream",
     "text": [
      "[CV]  model__colsample_bytree=0.7, model__max_depth=3, model__n_estimators=150, model__reg_alpha=0.01, model__subsample=0.6, n_splits=3, total= 1.5min\n",
      "[CV] model__colsample_bytree=0.7, model__max_depth=3, model__n_estimators=150, model__reg_alpha=0.01, model__subsample=0.6, n_splits=4 \n"
     ]
    },
    {
     "name": "stderr",
     "output_type": "stream",
     "text": [
      "100%|██████████| 5/5 [13:11<00:00, 158.21s/it]\n",
      "100%|██████████| 3/3 [01:29<00:00, 29.82s/it]\n"
     ]
    },
    {
     "name": "stdout",
     "output_type": "stream",
     "text": [
      "[CV]  model__colsample_bytree=0.7, model__max_depth=3, model__n_estimators=150, model__reg_alpha=0.01, model__subsample=0.6, n_splits=3, total= 1.5min\n",
      "[CV] model__colsample_bytree=0.7, model__max_depth=3, model__n_estimators=150, model__reg_alpha=0.01, model__subsample=0.6, n_splits=5 \n"
     ]
    },
    {
     "name": "stderr",
     "output_type": "stream",
     "text": [
      "\r",
      "  0%|          | 0/6 [00:00<?, ?it/s]"
     ]
    },
    {
     "name": "stdout",
     "output_type": "stream",
     "text": [
      "[CV]  model__colsample_bytree=0.5, model__max_depth=8, model__n_estimators=250, model__reg_alpha=0.03, model__subsample=0.6, n_splits=4, total=13.2min\n",
      "[CV] model__colsample_bytree=0.7, model__max_depth=3, model__n_estimators=150, model__reg_alpha=0.01, model__subsample=0.6, n_splits=5 \n"
     ]
    },
    {
     "name": "stderr",
     "output_type": "stream",
     "text": [
      "100%|██████████| 3/3 [01:29<00:00, 29.72s/it]\n"
     ]
    },
    {
     "name": "stdout",
     "output_type": "stream",
     "text": [
      "[CV]  model__colsample_bytree=0.7, model__max_depth=3, model__n_estimators=150, model__reg_alpha=0.01, model__subsample=0.6, n_splits=3, total= 1.5min\n",
      "[CV] model__colsample_bytree=0.7, model__max_depth=3, model__n_estimators=150, model__reg_alpha=0.01, model__subsample=0.6, n_splits=5 \n"
     ]
    },
    {
     "name": "stderr",
     "output_type": "stream",
     "text": [
      "100%|██████████| 6/6 [14:53<00:00, 148.99s/it]\n",
      " 50%|█████     | 3/6 [01:28<01:28, 29.43s/it]"
     ]
    },
    {
     "name": "stdout",
     "output_type": "stream",
     "text": [
      "[CV]  model__colsample_bytree=0.5, model__max_depth=8, model__n_estimators=250, model__reg_alpha=0.03, model__subsample=0.6, n_splits=4, total=14.9min\n",
      "[CV] model__colsample_bytree=0.7, model__max_depth=3, model__n_estimators=150, model__reg_alpha=0.03, model__subsample=0.4, n_splits=2 \n"
     ]
    },
    {
     "name": "stderr",
     "output_type": "stream",
     "text": [
      "100%|██████████| 5/5 [13:08<00:00, 157.72s/it]\n",
      " 83%|████████▎ | 5/6 [02:27<00:29, 29.46s/it]"
     ]
    },
    {
     "name": "stdout",
     "output_type": "stream",
     "text": [
      "[CV]  model__colsample_bytree=0.5, model__max_depth=8, model__n_estimators=250, model__reg_alpha=0.03, model__subsample=0.6, n_splits=5, total=13.2min\n",
      "[CV] model__colsample_bytree=0.7, model__max_depth=3, model__n_estimators=150, model__reg_alpha=0.03, model__subsample=0.4, n_splits=2 \n"
     ]
    },
    {
     "name": "stderr",
     "output_type": "stream",
     "text": [
      "100%|██████████| 2/2 [00:59<00:00, 29.71s/it]\n"
     ]
    },
    {
     "name": "stdout",
     "output_type": "stream",
     "text": [
      "[CV]  model__colsample_bytree=0.7, model__max_depth=3, model__n_estimators=150, model__reg_alpha=0.03, model__subsample=0.4, n_splits=2, total=  59.7s\n",
      "[CV] model__colsample_bytree=0.7, model__max_depth=3, model__n_estimators=150, model__reg_alpha=0.03, model__subsample=0.4, n_splits=2 \n"
     ]
    },
    {
     "name": "stderr",
     "output_type": "stream",
     "text": [
      "100%|██████████| 5/5 [02:28<00:00, 29.72s/it]\n"
     ]
    },
    {
     "name": "stdout",
     "output_type": "stream",
     "text": [
      "[CV]  model__colsample_bytree=0.7, model__max_depth=3, model__n_estimators=150, model__reg_alpha=0.01, model__subsample=0.6, n_splits=4, total= 2.5min\n",
      "[CV] model__colsample_bytree=0.7, model__max_depth=3, model__n_estimators=150, model__reg_alpha=0.03, model__subsample=0.4, n_splits=3 \n"
     ]
    },
    {
     "name": "stderr",
     "output_type": "stream",
     "text": [
      "100%|██████████| 6/6 [02:57<00:00, 29.50s/it]\n",
      " 50%|█████     | 1/2 [00:29<00:29, 29.49s/it]"
     ]
    },
    {
     "name": "stdout",
     "output_type": "stream",
     "text": [
      "[CV]  model__colsample_bytree=0.7, model__max_depth=3, model__n_estimators=150, model__reg_alpha=0.01, model__subsample=0.6, n_splits=4, total= 3.0min\n",
      "[CV] model__colsample_bytree=0.7, model__max_depth=3, model__n_estimators=150, model__reg_alpha=0.03, model__subsample=0.4, n_splits=3 \n"
     ]
    },
    {
     "name": "stderr",
     "output_type": "stream",
     "text": [
      "100%|██████████| 4/4 [01:59<00:00, 29.82s/it]\n"
     ]
    },
    {
     "name": "stdout",
     "output_type": "stream",
     "text": [
      "[CV]  model__colsample_bytree=0.7, model__max_depth=3, model__n_estimators=150, model__reg_alpha=0.01, model__subsample=0.6, n_splits=4, total= 2.0min\n",
      "[CV] model__colsample_bytree=0.7, model__max_depth=3, model__n_estimators=150, model__reg_alpha=0.03, model__subsample=0.4, n_splits=3 \n"
     ]
    },
    {
     "name": "stderr",
     "output_type": "stream",
     "text": [
      "100%|██████████| 2/2 [00:58<00:00, 29.39s/it]]\n"
     ]
    },
    {
     "name": "stdout",
     "output_type": "stream",
     "text": [
      "[CV]  model__colsample_bytree=0.7, model__max_depth=3, model__n_estimators=150, model__reg_alpha=0.03, model__subsample=0.4, n_splits=2, total=  59.1s\n"
     ]
    },
    {
     "name": "stderr",
     "output_type": "stream",
     "text": [
      "\r",
      " 33%|███▎      | 1/3 [00:29<00:58, 29.27s/it]"
     ]
    },
    {
     "name": "stdout",
     "output_type": "stream",
     "text": [
      "[CV] model__colsample_bytree=0.7, model__max_depth=3, model__n_estimators=150, model__reg_alpha=0.03, model__subsample=0.4, n_splits=4 \n"
     ]
    },
    {
     "name": "stderr",
     "output_type": "stream",
     "text": [
      "100%|██████████| 2/2 [01:00<00:00, 30.31s/it]\n"
     ]
    },
    {
     "name": "stdout",
     "output_type": "stream",
     "text": [
      "[CV]  model__colsample_bytree=0.7, model__max_depth=3, model__n_estimators=150, model__reg_alpha=0.03, model__subsample=0.4, n_splits=2, total= 1.0min\n",
      "[CV] model__colsample_bytree=0.7, model__max_depth=3, model__n_estimators=150, model__reg_alpha=0.03, model__subsample=0.4, n_splits=4 \n"
     ]
    },
    {
     "name": "stderr",
     "output_type": "stream",
     "text": [
      "100%|██████████| 6/6 [14:54<00:00, 149.01s/it]\n",
      "100%|██████████| 5/5 [02:27<00:00, 29.44s/it]\n"
     ]
    },
    {
     "name": "stdout",
     "output_type": "stream",
     "text": [
      "[CV]  model__colsample_bytree=0.5, model__max_depth=8, model__n_estimators=250, model__reg_alpha=0.03, model__subsample=0.6, n_splits=5, total=14.9min\n",
      "[CV] model__colsample_bytree=0.7, model__max_depth=3, model__n_estimators=150, model__reg_alpha=0.03, model__subsample=0.4, n_splits=4 \n"
     ]
    },
    {
     "name": "stderr",
     "output_type": "stream",
     "text": [
      "\r",
      "  0%|          | 0/4 [00:00<?, ?it/s]"
     ]
    },
    {
     "name": "stdout",
     "output_type": "stream",
     "text": [
      "[CV]  model__colsample_bytree=0.7, model__max_depth=3, model__n_estimators=150, model__reg_alpha=0.01, model__subsample=0.6, n_splits=5, total= 2.5min\n",
      "[CV] model__colsample_bytree=0.7, model__max_depth=3, model__n_estimators=150, model__reg_alpha=0.03, model__subsample=0.4, n_splits=5 \n"
     ]
    },
    {
     "name": "stderr",
     "output_type": "stream",
     "text": [
      "100%|██████████| 5/5 [02:29<00:00, 29.92s/it]\n"
     ]
    },
    {
     "name": "stdout",
     "output_type": "stream",
     "text": [
      "[CV]  model__colsample_bytree=0.7, model__max_depth=3, model__n_estimators=150, model__reg_alpha=0.01, model__subsample=0.6, n_splits=5, total= 2.5min\n",
      "[CV] model__colsample_bytree=0.7, model__max_depth=3, model__n_estimators=150, model__reg_alpha=0.03, model__subsample=0.4, n_splits=5 \n"
     ]
    },
    {
     "name": "stderr",
     "output_type": "stream",
     "text": [
      "100%|██████████| 3/3 [01:29<00:00, 29.74s/it]\n"
     ]
    },
    {
     "name": "stdout",
     "output_type": "stream",
     "text": [
      "[CV]  model__colsample_bytree=0.7, model__max_depth=3, model__n_estimators=150, model__reg_alpha=0.03, model__subsample=0.4, n_splits=3, total= 1.5min\n",
      "[CV] model__colsample_bytree=0.7, model__max_depth=3, model__n_estimators=150, model__reg_alpha=0.03, model__subsample=0.4, n_splits=5 \n"
     ]
    },
    {
     "name": "stderr",
     "output_type": "stream",
     "text": [
      "100%|██████████| 6/6 [02:56<00:00, 29.34s/it]\n"
     ]
    },
    {
     "name": "stdout",
     "output_type": "stream",
     "text": [
      "[CV]  model__colsample_bytree=0.7, model__max_depth=3, model__n_estimators=150, model__reg_alpha=0.01, model__subsample=0.6, n_splits=5, total= 2.9min\n",
      "[CV] model__colsample_bytree=0.7, model__max_depth=3, model__n_estimators=150, model__reg_alpha=0.03, model__subsample=0.6, n_splits=2 \n"
     ]
    },
    {
     "name": "stderr",
     "output_type": "stream",
     "text": [
      "100%|██████████| 3/3 [01:30<00:00, 30.05s/it]\n",
      " 40%|████      | 2/5 [00:58<01:27, 29.10s/it]"
     ]
    },
    {
     "name": "stdout",
     "output_type": "stream",
     "text": [
      "[CV]  model__colsample_bytree=0.7, model__max_depth=3, model__n_estimators=150, model__reg_alpha=0.03, model__subsample=0.4, n_splits=3, total= 1.5min\n",
      "[CV] model__colsample_bytree=0.7, model__max_depth=3, model__n_estimators=150, model__reg_alpha=0.03, model__subsample=0.6, n_splits=2 \n"
     ]
    },
    {
     "name": "stderr",
     "output_type": "stream",
     "text": [
      "100%|██████████| 3/3 [01:29<00:00, 29.70s/it]\n"
     ]
    },
    {
     "name": "stdout",
     "output_type": "stream",
     "text": [
      "[CV]  model__colsample_bytree=0.7, model__max_depth=3, model__n_estimators=150, model__reg_alpha=0.03, model__subsample=0.4, n_splits=3, total= 1.5min\n",
      "[CV] model__colsample_bytree=0.7, model__max_depth=3, model__n_estimators=150, model__reg_alpha=0.03, model__subsample=0.6, n_splits=2 \n"
     ]
    },
    {
     "name": "stderr",
     "output_type": "stream",
     "text": [
      "100%|██████████| 2/2 [01:01<00:00, 30.54s/it]\n",
      " 75%|███████▌  | 3/4 [01:29<00:29, 29.68s/it]"
     ]
    },
    {
     "name": "stdout",
     "output_type": "stream",
     "text": [
      "[CV]  model__colsample_bytree=0.7, model__max_depth=3, model__n_estimators=150, model__reg_alpha=0.03, model__subsample=0.6, n_splits=2, total= 1.0min\n",
      "[CV] model__colsample_bytree=0.7, model__max_depth=3, model__n_estimators=150, model__reg_alpha=0.03, model__subsample=0.6, n_splits=3 \n"
     ]
    },
    {
     "name": "stderr",
     "output_type": "stream",
     "text": [
      "100%|██████████| 2/2 [01:01<00:00, 30.90s/it]\n"
     ]
    },
    {
     "name": "stdout",
     "output_type": "stream",
     "text": [
      "[CV]  model__colsample_bytree=0.7, model__max_depth=3, model__n_estimators=150, model__reg_alpha=0.03, model__subsample=0.6, n_splits=2, total= 1.0min\n",
      "[CV] model__colsample_bytree=0.7, model__max_depth=3, model__n_estimators=150, model__reg_alpha=0.03, model__subsample=0.6, n_splits=3 \n"
     ]
    },
    {
     "name": "stderr",
     "output_type": "stream",
     "text": [
      "100%|██████████| 2/2 [01:00<00:00, 30.26s/it]\n"
     ]
    },
    {
     "name": "stdout",
     "output_type": "stream",
     "text": [
      "[CV]  model__colsample_bytree=0.7, model__max_depth=3, model__n_estimators=150, model__reg_alpha=0.03, model__subsample=0.6, n_splits=2, total= 1.0min\n",
      "[CV] model__colsample_bytree=0.7, model__max_depth=3, model__n_estimators=150, model__reg_alpha=0.03, model__subsample=0.6, n_splits=3 \n"
     ]
    },
    {
     "name": "stderr",
     "output_type": "stream",
     "text": [
      "100%|██████████| 4/4 [01:59<00:00, 29.78s/it]\n"
     ]
    },
    {
     "name": "stdout",
     "output_type": "stream",
     "text": [
      "[CV]  model__colsample_bytree=0.7, model__max_depth=3, model__n_estimators=150, model__reg_alpha=0.03, model__subsample=0.4, n_splits=4, total= 2.0min\n",
      "[CV] model__colsample_bytree=0.7, model__max_depth=3, model__n_estimators=150, model__reg_alpha=0.03, model__subsample=0.6, n_splits=4 \n"
     ]
    },
    {
     "name": "stderr",
     "output_type": "stream",
     "text": [
      "100%|██████████| 5/5 [02:25<00:00, 29.17s/it]\n"
     ]
    },
    {
     "name": "stdout",
     "output_type": "stream",
     "text": [
      "[CV]  model__colsample_bytree=0.7, model__max_depth=3, model__n_estimators=150, model__reg_alpha=0.03, model__subsample=0.4, n_splits=4, total= 2.4min\n",
      "[CV] model__colsample_bytree=0.7, model__max_depth=3, model__n_estimators=150, model__reg_alpha=0.03, model__subsample=0.6, n_splits=4 \n"
     ]
    },
    {
     "name": "stderr",
     "output_type": "stream",
     "text": [
      "100%|██████████| 5/5 [13:49<00:00, 165.97s/it]\n",
      " 80%|████████  | 4/5 [02:01<00:30, 30.39s/it]"
     ]
    },
    {
     "name": "stdout",
     "output_type": "stream",
     "text": [
      "[CV]  model__colsample_bytree=0.5, model__max_depth=8, model__n_estimators=250, model__reg_alpha=0.03, model__subsample=0.6, n_splits=5, total=13.8min\n",
      "[CV] model__colsample_bytree=0.7, model__max_depth=3, model__n_estimators=150, model__reg_alpha=0.03, model__subsample=0.6, n_splits=4 \n"
     ]
    },
    {
     "name": "stderr",
     "output_type": "stream",
     "text": [
      "100%|██████████| 6/6 [02:53<00:00, 28.87s/it]\n"
     ]
    },
    {
     "name": "stdout",
     "output_type": "stream",
     "text": [
      "[CV]  model__colsample_bytree=0.7, model__max_depth=3, model__n_estimators=150, model__reg_alpha=0.03, model__subsample=0.4, n_splits=4, total= 2.9min\n",
      "[CV] model__colsample_bytree=0.7, model__max_depth=3, model__n_estimators=150, model__reg_alpha=0.03, model__subsample=0.6, n_splits=5 \n"
     ]
    },
    {
     "name": "stderr",
     "output_type": "stream",
     "text": [
      "100%|██████████| 5/5 [02:27<00:00, 29.40s/it]\n"
     ]
    },
    {
     "name": "stdout",
     "output_type": "stream",
     "text": [
      "[CV]  model__colsample_bytree=0.7, model__max_depth=3, model__n_estimators=150, model__reg_alpha=0.03, model__subsample=0.4, n_splits=5, total= 2.5min\n",
      "[CV] model__colsample_bytree=0.7, model__max_depth=3, model__n_estimators=150, model__reg_alpha=0.03, model__subsample=0.6, n_splits=5 \n"
     ]
    },
    {
     "name": "stderr",
     "output_type": "stream",
     "text": [
      "100%|██████████| 5/5 [02:32<00:00, 30.49s/it]\n",
      " 25%|██▌       | 1/4 [00:29<01:29, 29.67s/it]"
     ]
    },
    {
     "name": "stdout",
     "output_type": "stream",
     "text": [
      "[CV]  model__colsample_bytree=0.7, model__max_depth=3, model__n_estimators=150, model__reg_alpha=0.03, model__subsample=0.4, n_splits=5, total= 2.6min\n",
      "[CV] model__colsample_bytree=0.7, model__max_depth=3, model__n_estimators=150, model__reg_alpha=0.03, model__subsample=0.6, n_splits=5 \n"
     ]
    },
    {
     "name": "stderr",
     "output_type": "stream",
     "text": [
      "100%|██████████| 6/6 [02:53<00:00, 28.88s/it]\n",
      " 67%|██████▋   | 2/3 [00:59<00:29, 29.54s/it]"
     ]
    },
    {
     "name": "stdout",
     "output_type": "stream",
     "text": [
      "[CV]  model__colsample_bytree=0.7, model__max_depth=3, model__n_estimators=150, model__reg_alpha=0.03, model__subsample=0.4, n_splits=5, total= 2.9min\n",
      "[CV] model__colsample_bytree=0.7, model__max_depth=3, model__n_estimators=250, model__reg_alpha=0.01, model__subsample=0.4, n_splits=2 \n"
     ]
    },
    {
     "name": "stderr",
     "output_type": "stream",
     "text": [
      "100%|██████████| 3/3 [01:29<00:00, 29.73s/it]\n"
     ]
    },
    {
     "name": "stdout",
     "output_type": "stream",
     "text": [
      "[CV]  model__colsample_bytree=0.7, model__max_depth=3, model__n_estimators=150, model__reg_alpha=0.03, model__subsample=0.6, n_splits=3, total= 1.5min\n",
      "[CV] model__colsample_bytree=0.7, model__max_depth=3, model__n_estimators=250, model__reg_alpha=0.01, model__subsample=0.4, n_splits=2 \n"
     ]
    },
    {
     "name": "stderr",
     "output_type": "stream",
     "text": [
      "100%|██████████| 3/3 [01:30<00:00, 30.21s/it]\n"
     ]
    },
    {
     "name": "stdout",
     "output_type": "stream",
     "text": [
      "[CV]  model__colsample_bytree=0.7, model__max_depth=3, model__n_estimators=150, model__reg_alpha=0.03, model__subsample=0.6, n_splits=3, total= 1.5min\n",
      "[CV] model__colsample_bytree=0.7, model__max_depth=3, model__n_estimators=250, model__reg_alpha=0.01, model__subsample=0.4, n_splits=2 \n"
     ]
    },
    {
     "name": "stderr",
     "output_type": "stream",
     "text": [
      "100%|██████████| 3/3 [01:29<00:00, 29.96s/it]\n"
     ]
    },
    {
     "name": "stdout",
     "output_type": "stream",
     "text": [
      "[CV]  model__colsample_bytree=0.7, model__max_depth=3, model__n_estimators=150, model__reg_alpha=0.03, model__subsample=0.6, n_splits=3, total= 1.5min\n"
     ]
    },
    {
     "name": "stderr",
     "output_type": "stream",
     "text": [
      "\r",
      " 50%|█████     | 3/6 [01:25<01:25, 28.56s/it]"
     ]
    },
    {
     "name": "stdout",
     "output_type": "stream",
     "text": [
      "[CV] model__colsample_bytree=0.7, model__max_depth=3, model__n_estimators=250, model__reg_alpha=0.01, model__subsample=0.4, n_splits=3 \n"
     ]
    },
    {
     "name": "stderr",
     "output_type": "stream",
     "text": [
      "100%|██████████| 4/4 [02:02<00:00, 30.60s/it]\n"
     ]
    },
    {
     "name": "stdout",
     "output_type": "stream",
     "text": [
      "[CV]  model__colsample_bytree=0.7, model__max_depth=3, model__n_estimators=150, model__reg_alpha=0.03, model__subsample=0.6, n_splits=4, total= 2.0min\n",
      "[CV] model__colsample_bytree=0.7, model__max_depth=3, model__n_estimators=250, model__reg_alpha=0.01, model__subsample=0.4, n_splits=3 \n"
     ]
    },
    {
     "name": "stderr",
     "output_type": "stream",
     "text": [
      "100%|██████████| 2/2 [01:36<00:00, 48.47s/it]\n"
     ]
    },
    {
     "name": "stdout",
     "output_type": "stream",
     "text": [
      "[CV]  model__colsample_bytree=0.7, model__max_depth=3, model__n_estimators=250, model__reg_alpha=0.01, model__subsample=0.4, n_splits=2, total= 1.6min\n",
      "[CV] model__colsample_bytree=0.7, model__max_depth=3, model__n_estimators=250, model__reg_alpha=0.01, model__subsample=0.4, n_splits=3 \n"
     ]
    },
    {
     "name": "stderr",
     "output_type": "stream",
     "text": [
      "100%|██████████| 5/5 [02:25<00:00, 29.19s/it]\n"
     ]
    },
    {
     "name": "stdout",
     "output_type": "stream",
     "text": [
      "[CV]  model__colsample_bytree=0.7, model__max_depth=3, model__n_estimators=150, model__reg_alpha=0.03, model__subsample=0.6, n_splits=4, total= 2.4min\n",
      "[CV] model__colsample_bytree=0.7, model__max_depth=3, model__n_estimators=250, model__reg_alpha=0.01, model__subsample=0.4, n_splits=4 \n"
     ]
    },
    {
     "name": "stderr",
     "output_type": "stream",
     "text": [
      "100%|██████████| 2/2 [01:41<00:00, 50.64s/it]\n"
     ]
    },
    {
     "name": "stdout",
     "output_type": "stream",
     "text": [
      "[CV]  model__colsample_bytree=0.7, model__max_depth=3, model__n_estimators=250, model__reg_alpha=0.01, model__subsample=0.4, n_splits=2, total= 1.7min\n",
      "[CV] model__colsample_bytree=0.7, model__max_depth=3, model__n_estimators=250, model__reg_alpha=0.01, model__subsample=0.4, n_splits=4 \n"
     ]
    },
    {
     "name": "stderr",
     "output_type": "stream",
     "text": [
      "100%|██████████| 6/6 [02:52<00:00, 28.75s/it]\n"
     ]
    },
    {
     "name": "stdout",
     "output_type": "stream",
     "text": [
      "[CV]  model__colsample_bytree=0.7, model__max_depth=3, model__n_estimators=150, model__reg_alpha=0.03, model__subsample=0.6, n_splits=4, total= 2.9min\n",
      "[CV] model__colsample_bytree=0.7, model__max_depth=3, model__n_estimators=250, model__reg_alpha=0.01, model__subsample=0.4, n_splits=4 \n"
     ]
    },
    {
     "name": "stderr",
     "output_type": "stream",
     "text": [
      "100%|██████████| 2/2 [01:42<00:00, 51.21s/it]\n",
      " 83%|████████▎ | 5/6 [02:25<00:29, 29.08s/it]"
     ]
    },
    {
     "name": "stdout",
     "output_type": "stream",
     "text": [
      "[CV]  model__colsample_bytree=0.7, model__max_depth=3, model__n_estimators=250, model__reg_alpha=0.01, model__subsample=0.4, n_splits=2, total= 1.7min\n",
      "[CV] model__colsample_bytree=0.7, model__max_depth=3, model__n_estimators=250, model__reg_alpha=0.01, model__subsample=0.4, n_splits=5 \n"
     ]
    },
    {
     "name": "stderr",
     "output_type": "stream",
     "text": [
      "100%|██████████| 5/5 [02:25<00:00, 29.19s/it]\n",
      " 67%|██████▋   | 2/3 [01:36<00:48, 48.39s/it]"
     ]
    },
    {
     "name": "stdout",
     "output_type": "stream",
     "text": [
      "[CV]  model__colsample_bytree=0.7, model__max_depth=3, model__n_estimators=150, model__reg_alpha=0.03, model__subsample=0.6, n_splits=5, total= 2.4min\n",
      "[CV] model__colsample_bytree=0.7, model__max_depth=3, model__n_estimators=250, model__reg_alpha=0.01, model__subsample=0.4, n_splits=5 \n"
     ]
    },
    {
     "name": "stderr",
     "output_type": "stream",
     "text": [
      "100%|██████████| 5/5 [02:31<00:00, 30.39s/it]\n"
     ]
    },
    {
     "name": "stdout",
     "output_type": "stream",
     "text": [
      "[CV]  model__colsample_bytree=0.7, model__max_depth=3, model__n_estimators=150, model__reg_alpha=0.03, model__subsample=0.6, n_splits=5, total= 2.5min\n",
      "[CV] model__colsample_bytree=0.7, model__max_depth=3, model__n_estimators=250, model__reg_alpha=0.01, model__subsample=0.4, n_splits=5 \n"
     ]
    },
    {
     "name": "stderr",
     "output_type": "stream",
     "text": [
      "100%|██████████| 6/6 [02:54<00:00, 29.06s/it]\n"
     ]
    },
    {
     "name": "stdout",
     "output_type": "stream",
     "text": [
      "[CV]  model__colsample_bytree=0.7, model__max_depth=3, model__n_estimators=150, model__reg_alpha=0.03, model__subsample=0.6, n_splits=5, total= 2.9min\n",
      "[CV] model__colsample_bytree=0.7, model__max_depth=3, model__n_estimators=250, model__reg_alpha=0.01, model__subsample=0.6, n_splits=2 \n"
     ]
    },
    {
     "name": "stderr",
     "output_type": "stream",
     "text": [
      "100%|██████████| 3/3 [02:25<00:00, 48.49s/it]\n"
     ]
    },
    {
     "name": "stdout",
     "output_type": "stream",
     "text": [
      "[CV]  model__colsample_bytree=0.7, model__max_depth=3, model__n_estimators=250, model__reg_alpha=0.01, model__subsample=0.4, n_splits=3, total= 2.4min\n",
      "[CV] model__colsample_bytree=0.7, model__max_depth=3, model__n_estimators=250, model__reg_alpha=0.01, model__subsample=0.6, n_splits=2 \n"
     ]
    },
    {
     "name": "stderr",
     "output_type": "stream",
     "text": [
      "100%|██████████| 3/3 [02:31<00:00, 50.45s/it]\n"
     ]
    },
    {
     "name": "stdout",
     "output_type": "stream",
     "text": [
      "[CV]  model__colsample_bytree=0.7, model__max_depth=3, model__n_estimators=250, model__reg_alpha=0.01, model__subsample=0.4, n_splits=3, total= 2.5min\n",
      "[CV] model__colsample_bytree=0.7, model__max_depth=3, model__n_estimators=250, model__reg_alpha=0.01, model__subsample=0.6, n_splits=2 \n"
     ]
    },
    {
     "name": "stderr",
     "output_type": "stream",
     "text": [
      "100%|██████████| 3/3 [02:28<00:00, 49.39s/it]\n"
     ]
    },
    {
     "name": "stdout",
     "output_type": "stream",
     "text": [
      "[CV]  model__colsample_bytree=0.7, model__max_depth=3, model__n_estimators=250, model__reg_alpha=0.01, model__subsample=0.4, n_splits=3, total= 2.5min\n"
     ]
    },
    {
     "name": "stderr",
     "output_type": "stream",
     "text": [
      "\r",
      " 50%|█████     | 3/6 [02:23<02:23, 47.88s/it]"
     ]
    },
    {
     "name": "stdout",
     "output_type": "stream",
     "text": [
      "[CV] model__colsample_bytree=0.7, model__max_depth=3, model__n_estimators=250, model__reg_alpha=0.01, model__subsample=0.6, n_splits=3 \n"
     ]
    },
    {
     "name": "stderr",
     "output_type": "stream",
     "text": [
      "100%|██████████| 2/2 [01:38<00:00, 49.06s/it]\n"
     ]
    },
    {
     "name": "stdout",
     "output_type": "stream",
     "text": [
      "[CV]  model__colsample_bytree=0.7, model__max_depth=3, model__n_estimators=250, model__reg_alpha=0.01, model__subsample=0.6, n_splits=2, total= 1.6min\n",
      "[CV] model__colsample_bytree=0.7, model__max_depth=3, model__n_estimators=250, model__reg_alpha=0.01, model__subsample=0.6, n_splits=3 \n"
     ]
    },
    {
     "name": "stderr",
     "output_type": "stream",
     "text": [
      "100%|██████████| 2/2 [01:39<00:00, 49.92s/it]\n"
     ]
    },
    {
     "name": "stdout",
     "output_type": "stream",
     "text": [
      "[CV]  model__colsample_bytree=0.7, model__max_depth=3, model__n_estimators=250, model__reg_alpha=0.01, model__subsample=0.6, n_splits=2, total= 1.7min\n",
      "[CV] model__colsample_bytree=0.7, model__max_depth=3, model__n_estimators=250, model__reg_alpha=0.01, model__subsample=0.6, n_splits=3 \n"
     ]
    },
    {
     "name": "stderr",
     "output_type": "stream",
     "text": [
      "100%|██████████| 4/4 [03:18<00:00, 49.62s/it]\n"
     ]
    },
    {
     "name": "stdout",
     "output_type": "stream",
     "text": [
      "[CV]  model__colsample_bytree=0.7, model__max_depth=3, model__n_estimators=250, model__reg_alpha=0.01, model__subsample=0.4, n_splits=4, total= 3.3min\n"
     ]
    },
    {
     "name": "stderr",
     "output_type": "stream",
     "text": [
      "[Parallel(n_jobs=10)]: Done 345 tasks      | elapsed: 160.0min\n"
     ]
    },
    {
     "name": "stdout",
     "output_type": "stream",
     "text": [
      "[CV] model__colsample_bytree=0.7, model__max_depth=3, model__n_estimators=250, model__reg_alpha=0.01, model__subsample=0.6, n_splits=4 \n"
     ]
    },
    {
     "name": "stderr",
     "output_type": "stream",
     "text": [
      "100%|██████████| 2/2 [01:42<00:00, 51.45s/it]\n",
      " 83%|████████▎ | 5/6 [04:01<00:48, 48.25s/it]"
     ]
    },
    {
     "name": "stdout",
     "output_type": "stream",
     "text": [
      "[CV]  model__colsample_bytree=0.7, model__max_depth=3, model__n_estimators=250, model__reg_alpha=0.01, model__subsample=0.6, n_splits=2, total= 1.7min\n",
      "[CV] model__colsample_bytree=0.7, model__max_depth=3, model__n_estimators=250, model__reg_alpha=0.01, model__subsample=0.6, n_splits=4 \n"
     ]
    },
    {
     "name": "stderr",
     "output_type": "stream",
     "text": [
      "100%|██████████| 5/5 [04:09<00:00, 49.88s/it]\n"
     ]
    },
    {
     "name": "stdout",
     "output_type": "stream",
     "text": [
      "[CV]  model__colsample_bytree=0.7, model__max_depth=3, model__n_estimators=250, model__reg_alpha=0.01, model__subsample=0.4, n_splits=4, total= 4.2min\n",
      "[CV] model__colsample_bytree=0.7, model__max_depth=3, model__n_estimators=250, model__reg_alpha=0.01, model__subsample=0.6, n_splits=4 \n"
     ]
    },
    {
     "name": "stderr",
     "output_type": "stream",
     "text": [
      "100%|██████████| 5/5 [04:03<00:00, 48.66s/it]\n"
     ]
    },
    {
     "name": "stdout",
     "output_type": "stream",
     "text": [
      "[CV]  model__colsample_bytree=0.7, model__max_depth=3, model__n_estimators=250, model__reg_alpha=0.01, model__subsample=0.4, n_splits=5, total= 4.1min\n",
      "[CV] model__colsample_bytree=0.7, model__max_depth=3, model__n_estimators=250, model__reg_alpha=0.01, model__subsample=0.6, n_splits=5 \n"
     ]
    },
    {
     "name": "stderr",
     "output_type": "stream",
     "text": [
      "100%|██████████| 3/3 [02:25<00:00, 48.56s/it]\n",
      "100%|██████████| 6/6 [04:49<00:00, 48.29s/it]\n"
     ]
    },
    {
     "name": "stdout",
     "output_type": "stream",
     "text": [
      "[CV]  model__colsample_bytree=0.7, model__max_depth=3, model__n_estimators=250, model__reg_alpha=0.01, model__subsample=0.6, n_splits=3, total= 2.4min\n",
      "[CV] model__colsample_bytree=0.7, model__max_depth=3, model__n_estimators=250, model__reg_alpha=0.01, model__subsample=0.6, n_splits=5 \n"
     ]
    },
    {
     "name": "stderr",
     "output_type": "stream",
     "text": [
      "\r",
      "  0%|          | 0/5 [00:00<?, ?it/s]"
     ]
    },
    {
     "name": "stdout",
     "output_type": "stream",
     "text": [
      "[CV]  model__colsample_bytree=0.7, model__max_depth=3, model__n_estimators=250, model__reg_alpha=0.01, model__subsample=0.4, n_splits=4, total= 4.8min\n"
     ]
    },
    {
     "name": "stderr",
     "output_type": "stream",
     "text": [
      "\r",
      " 20%|██        | 1/5 [00:49<03:17, 49.28s/it]"
     ]
    },
    {
     "name": "stdout",
     "output_type": "stream",
     "text": [
      "[CV] model__colsample_bytree=0.7, model__max_depth=3, model__n_estimators=250, model__reg_alpha=0.01, model__subsample=0.6, n_splits=5 \n"
     ]
    },
    {
     "name": "stderr",
     "output_type": "stream",
     "text": [
      "100%|██████████| 5/5 [04:11<00:00, 50.38s/it]\n",
      "100%|██████████| 3/3 [02:28<00:00, 49.40s/it]\n"
     ]
    },
    {
     "name": "stdout",
     "output_type": "stream",
     "text": [
      "[CV]  model__colsample_bytree=0.7, model__max_depth=3, model__n_estimators=250, model__reg_alpha=0.01, model__subsample=0.6, n_splits=3, total= 2.5min\n",
      "[CV]  model__colsample_bytree=0.7, model__max_depth=3, model__n_estimators=250, model__reg_alpha=0.01, model__subsample=0.4, n_splits=5, total= 4.2min\n",
      "[CV] model__colsample_bytree=0.7, model__max_depth=3, model__n_estimators=250, model__reg_alpha=0.03, model__subsample=0.4, n_splits=2 \n"
     ]
    },
    {
     "name": "stderr",
     "output_type": "stream",
     "text": [
      "\r",
      "  0%|          | 0/2 [00:00<?, ?it/s]"
     ]
    },
    {
     "name": "stdout",
     "output_type": "stream",
     "text": [
      "[CV] model__colsample_bytree=0.7, model__max_depth=3, model__n_estimators=250, model__reg_alpha=0.03, model__subsample=0.4, n_splits=2 \n"
     ]
    },
    {
     "name": "stderr",
     "output_type": "stream",
     "text": [
      "100%|██████████| 6/6 [04:54<00:00, 49.06s/it]\n"
     ]
    },
    {
     "name": "stdout",
     "output_type": "stream",
     "text": [
      "[CV]  model__colsample_bytree=0.7, model__max_depth=3, model__n_estimators=250, model__reg_alpha=0.01, model__subsample=0.4, n_splits=5, total= 4.9min\n",
      "[CV] model__colsample_bytree=0.7, model__max_depth=3, model__n_estimators=250, model__reg_alpha=0.03, model__subsample=0.4, n_splits=2 \n"
     ]
    },
    {
     "name": "stderr",
     "output_type": "stream",
     "text": [
      "100%|██████████| 3/3 [02:30<00:00, 50.05s/it]\n"
     ]
    },
    {
     "name": "stdout",
     "output_type": "stream",
     "text": [
      "[CV]  model__colsample_bytree=0.7, model__max_depth=3, model__n_estimators=250, model__reg_alpha=0.01, model__subsample=0.6, n_splits=3, total= 2.5min\n",
      "[CV] model__colsample_bytree=0.7, model__max_depth=3, model__n_estimators=250, model__reg_alpha=0.03, model__subsample=0.4, n_splits=3 \n"
     ]
    },
    {
     "name": "stderr",
     "output_type": "stream",
     "text": [
      "100%|██████████| 2/2 [01:38<00:00, 49.38s/it]\n"
     ]
    },
    {
     "name": "stdout",
     "output_type": "stream",
     "text": [
      "[CV]  model__colsample_bytree=0.7, model__max_depth=3, model__n_estimators=250, model__reg_alpha=0.03, model__subsample=0.4, n_splits=2, total= 1.7min\n",
      "[CV] model__colsample_bytree=0.7, model__max_depth=3, model__n_estimators=250, model__reg_alpha=0.03, model__subsample=0.4, n_splits=3 \n"
     ]
    },
    {
     "name": "stderr",
     "output_type": "stream",
     "text": [
      "100%|██████████| 2/2 [01:41<00:00, 50.74s/it]\n"
     ]
    },
    {
     "name": "stdout",
     "output_type": "stream",
     "text": [
      "[CV]  model__colsample_bytree=0.7, model__max_depth=3, model__n_estimators=250, model__reg_alpha=0.03, model__subsample=0.4, n_splits=2, total= 1.7min\n",
      "[CV] model__colsample_bytree=0.7, model__max_depth=3, model__n_estimators=250, model__reg_alpha=0.03, model__subsample=0.4, n_splits=3 \n"
     ]
    },
    {
     "name": "stderr",
     "output_type": "stream",
     "text": [
      "100%|██████████| 2/2 [01:43<00:00, 51.90s/it]\n"
     ]
    },
    {
     "name": "stdout",
     "output_type": "stream",
     "text": [
      "[CV]  model__colsample_bytree=0.7, model__max_depth=3, model__n_estimators=250, model__reg_alpha=0.03, model__subsample=0.4, n_splits=2, total= 1.7min\n",
      "[CV] model__colsample_bytree=0.7, model__max_depth=3, model__n_estimators=250, model__reg_alpha=0.03, model__subsample=0.4, n_splits=4 \n"
     ]
    },
    {
     "name": "stderr",
     "output_type": "stream",
     "text": [
      "100%|██████████| 4/4 [03:21<00:00, 50.32s/it]\n",
      " 83%|████████▎ | 5/6 [04:00<00:48, 48.08s/it]"
     ]
    },
    {
     "name": "stdout",
     "output_type": "stream",
     "text": [
      "[CV]  model__colsample_bytree=0.7, model__max_depth=3, model__n_estimators=250, model__reg_alpha=0.01, model__subsample=0.6, n_splits=4, total= 3.4min\n",
      "[CV] model__colsample_bytree=0.7, model__max_depth=3, model__n_estimators=250, model__reg_alpha=0.03, model__subsample=0.4, n_splits=4 \n"
     ]
    },
    {
     "name": "stderr",
     "output_type": "stream",
     "text": [
      "100%|██████████| 3/3 [02:22<00:00, 47.54s/it]\n"
     ]
    },
    {
     "name": "stdout",
     "output_type": "stream",
     "text": [
      "[CV]  model__colsample_bytree=0.7, model__max_depth=3, model__n_estimators=250, model__reg_alpha=0.03, model__subsample=0.4, n_splits=3, total= 2.4min\n",
      "[CV] model__colsample_bytree=0.7, model__max_depth=3, model__n_estimators=250, model__reg_alpha=0.03, model__subsample=0.4, n_splits=4 \n"
     ]
    },
    {
     "name": "stderr",
     "output_type": "stream",
     "text": [
      "100%|██████████| 5/5 [04:08<00:00, 49.80s/it]\n"
     ]
    },
    {
     "name": "stdout",
     "output_type": "stream",
     "text": [
      "[CV]  model__colsample_bytree=0.7, model__max_depth=3, model__n_estimators=250, model__reg_alpha=0.01, model__subsample=0.6, n_splits=4, total= 4.2min\n",
      "[CV] model__colsample_bytree=0.7, model__max_depth=3, model__n_estimators=250, model__reg_alpha=0.03, model__subsample=0.4, n_splits=5 \n"
     ]
    },
    {
     "name": "stderr",
     "output_type": "stream",
     "text": [
      "100%|██████████| 6/6 [04:48<00:00, 48.08s/it]\n",
      " 67%|██████▋   | 2/3 [01:42<00:51, 51.18s/it]"
     ]
    },
    {
     "name": "stdout",
     "output_type": "stream",
     "text": [
      "[CV]  model__colsample_bytree=0.7, model__max_depth=3, model__n_estimators=250, model__reg_alpha=0.01, model__subsample=0.6, n_splits=4, total= 4.8min\n",
      "[CV] model__colsample_bytree=0.7, model__max_depth=3, model__n_estimators=250, model__reg_alpha=0.03, model__subsample=0.4, n_splits=5 \n"
     ]
    },
    {
     "name": "stderr",
     "output_type": "stream",
     "text": [
      "100%|██████████| 5/5 [04:02<00:00, 48.53s/it]\n"
     ]
    },
    {
     "name": "stdout",
     "output_type": "stream",
     "text": [
      "[CV]  model__colsample_bytree=0.7, model__max_depth=3, model__n_estimators=250, model__reg_alpha=0.01, model__subsample=0.6, n_splits=5, total= 4.1min\n",
      "[CV] model__colsample_bytree=0.7, model__max_depth=3, model__n_estimators=250, model__reg_alpha=0.03, model__subsample=0.4, n_splits=5 \n"
     ]
    },
    {
     "name": "stderr",
     "output_type": "stream",
     "text": [
      "100%|██████████| 5/5 [04:07<00:00, 49.47s/it]\n"
     ]
    },
    {
     "name": "stdout",
     "output_type": "stream",
     "text": [
      "[CV]  model__colsample_bytree=0.7, model__max_depth=3, model__n_estimators=250, model__reg_alpha=0.01, model__subsample=0.6, n_splits=5, total= 4.1min\n",
      "[CV] model__colsample_bytree=0.7, model__max_depth=3, model__n_estimators=250, model__reg_alpha=0.03, model__subsample=0.6, n_splits=2 \n"
     ]
    },
    {
     "name": "stderr",
     "output_type": "stream",
     "text": [
      "100%|██████████| 3/3 [02:25<00:00, 48.62s/it]\n"
     ]
    },
    {
     "name": "stdout",
     "output_type": "stream",
     "text": [
      "[CV]  model__colsample_bytree=0.7, model__max_depth=3, model__n_estimators=250, model__reg_alpha=0.03, model__subsample=0.4, n_splits=3, total= 2.4min\n",
      "[CV] model__colsample_bytree=0.7, model__max_depth=3, model__n_estimators=250, model__reg_alpha=0.03, model__subsample=0.6, n_splits=2 \n"
     ]
    },
    {
     "name": "stderr",
     "output_type": "stream",
     "text": [
      "100%|██████████| 3/3 [02:32<00:00, 50.99s/it]\n",
      " 40%|████      | 2/5 [01:39<02:28, 49.59s/it]"
     ]
    },
    {
     "name": "stdout",
     "output_type": "stream",
     "text": [
      "[CV]  model__colsample_bytree=0.7, model__max_depth=3, model__n_estimators=250, model__reg_alpha=0.03, model__subsample=0.4, n_splits=3, total= 2.6min\n",
      "[CV] model__colsample_bytree=0.7, model__max_depth=3, model__n_estimators=250, model__reg_alpha=0.03, model__subsample=0.6, n_splits=2 \n"
     ]
    },
    {
     "name": "stderr",
     "output_type": "stream",
     "text": [
      "100%|██████████| 6/6 [04:48<00:00, 48.09s/it]\n"
     ]
    },
    {
     "name": "stdout",
     "output_type": "stream",
     "text": [
      "[CV]  model__colsample_bytree=0.7, model__max_depth=3, model__n_estimators=250, model__reg_alpha=0.01, model__subsample=0.6, n_splits=5, total= 4.8min\n",
      "[CV] model__colsample_bytree=0.7, model__max_depth=3, model__n_estimators=250, model__reg_alpha=0.03, model__subsample=0.6, n_splits=3 \n"
     ]
    },
    {
     "name": "stderr",
     "output_type": "stream",
     "text": [
      "100%|██████████| 2/2 [01:38<00:00, 49.46s/it]\n"
     ]
    },
    {
     "name": "stdout",
     "output_type": "stream",
     "text": [
      "[CV]  model__colsample_bytree=0.7, model__max_depth=3, model__n_estimators=250, model__reg_alpha=0.03, model__subsample=0.6, n_splits=2, total= 1.7min\n",
      "[CV] model__colsample_bytree=0.7, model__max_depth=3, model__n_estimators=250, model__reg_alpha=0.03, model__subsample=0.6, n_splits=3 \n"
     ]
    },
    {
     "name": "stderr",
     "output_type": "stream",
     "text": [
      "100%|██████████| 2/2 [01:39<00:00, 49.58s/it]\n"
     ]
    },
    {
     "name": "stdout",
     "output_type": "stream",
     "text": [
      "[CV]  model__colsample_bytree=0.7, model__max_depth=3, model__n_estimators=250, model__reg_alpha=0.03, model__subsample=0.6, n_splits=2, total= 1.7min\n",
      "[CV] model__colsample_bytree=0.7, model__max_depth=3, model__n_estimators=250, model__reg_alpha=0.03, model__subsample=0.6, n_splits=3 \n"
     ]
    },
    {
     "name": "stderr",
     "output_type": "stream",
     "text": [
      "100%|██████████| 2/2 [01:43<00:00, 51.86s/it]\n"
     ]
    },
    {
     "name": "stdout",
     "output_type": "stream",
     "text": [
      "[CV]  model__colsample_bytree=0.7, model__max_depth=3, model__n_estimators=250, model__reg_alpha=0.03, model__subsample=0.6, n_splits=2, total= 1.7min\n",
      "[CV] model__colsample_bytree=0.7, model__max_depth=3, model__n_estimators=250, model__reg_alpha=0.03, model__subsample=0.6, n_splits=4 \n"
     ]
    },
    {
     "name": "stderr",
     "output_type": "stream",
     "text": [
      "100%|██████████| 4/4 [03:18<00:00, 49.59s/it]\n"
     ]
    },
    {
     "name": "stdout",
     "output_type": "stream",
     "text": [
      "[CV]  model__colsample_bytree=0.7, model__max_depth=3, model__n_estimators=250, model__reg_alpha=0.03, model__subsample=0.4, n_splits=4, total= 3.3min\n"
     ]
    },
    {
     "name": "stderr",
     "output_type": "stream",
     "text": [
      "\r",
      " 83%|████████▎ | 5/6 [04:07<00:49, 49.53s/it]"
     ]
    },
    {
     "name": "stdout",
     "output_type": "stream",
     "text": [
      "[CV] model__colsample_bytree=0.7, model__max_depth=3, model__n_estimators=250, model__reg_alpha=0.03, model__subsample=0.6, n_splits=4 \n"
     ]
    },
    {
     "name": "stderr",
     "output_type": "stream",
     "text": [
      "100%|██████████| 3/3 [02:25<00:00, 48.59s/it]\n"
     ]
    },
    {
     "name": "stdout",
     "output_type": "stream",
     "text": [
      "[CV]  model__colsample_bytree=0.7, model__max_depth=3, model__n_estimators=250, model__reg_alpha=0.03, model__subsample=0.6, n_splits=3, total= 2.4min\n"
     ]
    },
    {
     "name": "stderr",
     "output_type": "stream",
     "text": [
      "\r",
      "100%|██████████| 5/5 [04:09<00:00, 49.90s/it]"
     ]
    },
    {
     "name": "stdout",
     "output_type": "stream",
     "text": [
      "[CV] model__colsample_bytree=0.7, model__max_depth=3, model__n_estimators=250, model__reg_alpha=0.03, model__subsample=0.6, n_splits=4 \n"
     ]
    },
    {
     "name": "stderr",
     "output_type": "stream",
     "text": [
      "\n",
      "  0%|          | 0/4 [00:00<?, ?it/s]"
     ]
    },
    {
     "name": "stdout",
     "output_type": "stream",
     "text": [
      "[CV]  model__colsample_bytree=0.7, model__max_depth=3, model__n_estimators=250, model__reg_alpha=0.03, model__subsample=0.4, n_splits=4, total= 4.2min\n",
      "[CV] model__colsample_bytree=0.7, model__max_depth=3, model__n_estimators=250, model__reg_alpha=0.03, model__subsample=0.6, n_splits=5 \n"
     ]
    },
    {
     "name": "stderr",
     "output_type": "stream",
     "text": [
      "100%|██████████| 6/6 [04:57<00:00, 49.54s/it]\n"
     ]
    },
    {
     "name": "stdout",
     "output_type": "stream",
     "text": [
      "[CV]  model__colsample_bytree=0.7, model__max_depth=3, model__n_estimators=250, model__reg_alpha=0.03, model__subsample=0.4, n_splits=4, total= 5.0min\n",
      "[CV] model__colsample_bytree=0.7, model__max_depth=3, model__n_estimators=250, model__reg_alpha=0.03, model__subsample=0.6, n_splits=5 \n"
     ]
    },
    {
     "name": "stderr",
     "output_type": "stream",
     "text": [
      "100%|██████████| 5/5 [04:02<00:00, 48.58s/it]\n"
     ]
    },
    {
     "name": "stdout",
     "output_type": "stream",
     "text": [
      "[CV]  model__colsample_bytree=0.7, model__max_depth=3, model__n_estimators=250, model__reg_alpha=0.03, model__subsample=0.4, n_splits=5, total= 4.1min\n",
      "[CV] model__colsample_bytree=0.7, model__max_depth=3, model__n_estimators=250, model__reg_alpha=0.03, model__subsample=0.6, n_splits=5 \n"
     ]
    },
    {
     "name": "stderr",
     "output_type": "stream",
     "text": [
      "100%|██████████| 5/5 [04:04<00:00, 48.93s/it]\n"
     ]
    },
    {
     "name": "stdout",
     "output_type": "stream",
     "text": [
      "[CV]  model__colsample_bytree=0.7, model__max_depth=3, model__n_estimators=250, model__reg_alpha=0.03, model__subsample=0.4, n_splits=5, total= 4.1min\n",
      "[CV] model__colsample_bytree=0.7, model__max_depth=5, model__n_estimators=150, model__reg_alpha=0.01, model__subsample=0.4, n_splits=2 \n"
     ]
    },
    {
     "name": "stderr",
     "output_type": "stream",
     "text": [
      "100%|██████████| 3/3 [02:26<00:00, 48.76s/it]\n"
     ]
    },
    {
     "name": "stdout",
     "output_type": "stream",
     "text": [
      "[CV]  model__colsample_bytree=0.7, model__max_depth=3, model__n_estimators=250, model__reg_alpha=0.03, model__subsample=0.6, n_splits=3, total= 2.4min\n",
      "[CV] model__colsample_bytree=0.7, model__max_depth=5, model__n_estimators=150, model__reg_alpha=0.01, model__subsample=0.4, n_splits=2 \n"
     ]
    },
    {
     "name": "stderr",
     "output_type": "stream",
     "text": [
      "100%|██████████| 6/6 [04:58<00:00, 49.77s/it]\n"
     ]
    },
    {
     "name": "stdout",
     "output_type": "stream",
     "text": [
      "[CV]  model__colsample_bytree=0.7, model__max_depth=3, model__n_estimators=250, model__reg_alpha=0.03, model__subsample=0.4, n_splits=5, total= 5.0min\n",
      "[CV] model__colsample_bytree=0.7, model__max_depth=5, model__n_estimators=150, model__reg_alpha=0.01, model__subsample=0.4, n_splits=2 \n"
     ]
    },
    {
     "name": "stderr",
     "output_type": "stream",
     "text": [
      "100%|██████████| 3/3 [02:29<00:00, 49.91s/it]\n"
     ]
    },
    {
     "name": "stdout",
     "output_type": "stream",
     "text": [
      "[CV]  model__colsample_bytree=0.7, model__max_depth=3, model__n_estimators=250, model__reg_alpha=0.03, model__subsample=0.6, n_splits=3, total= 2.5min\n",
      "[CV] model__colsample_bytree=0.7, model__max_depth=5, model__n_estimators=150, model__reg_alpha=0.01, model__subsample=0.4, n_splits=3 \n"
     ]
    },
    {
     "name": "stderr",
     "output_type": "stream",
     "text": [
      "100%|██████████| 2/2 [01:52<00:00, 56.33s/it]\n"
     ]
    },
    {
     "name": "stdout",
     "output_type": "stream",
     "text": [
      "[CV]  model__colsample_bytree=0.7, model__max_depth=5, model__n_estimators=150, model__reg_alpha=0.01, model__subsample=0.4, n_splits=2, total= 1.9min\n",
      "[CV] model__colsample_bytree=0.7, model__max_depth=5, model__n_estimators=150, model__reg_alpha=0.01, model__subsample=0.4, n_splits=3 \n"
     ]
    },
    {
     "name": "stderr",
     "output_type": "stream",
     "text": [
      "100%|██████████| 2/2 [01:55<00:00, 57.80s/it]\n"
     ]
    },
    {
     "name": "stdout",
     "output_type": "stream",
     "text": [
      "[CV]  model__colsample_bytree=0.7, model__max_depth=5, model__n_estimators=150, model__reg_alpha=0.01, model__subsample=0.4, n_splits=2, total= 1.9min\n",
      "[CV] model__colsample_bytree=0.7, model__max_depth=5, model__n_estimators=150, model__reg_alpha=0.01, model__subsample=0.4, n_splits=3 \n"
     ]
    },
    {
     "name": "stderr",
     "output_type": "stream",
     "text": [
      "100%|██████████| 4/4 [03:18<00:00, 49.69s/it]\n"
     ]
    },
    {
     "name": "stdout",
     "output_type": "stream",
     "text": [
      "[CV]  model__colsample_bytree=0.7, model__max_depth=3, model__n_estimators=250, model__reg_alpha=0.03, model__subsample=0.6, n_splits=4, total= 3.3min\n",
      "[CV] model__colsample_bytree=0.7, model__max_depth=5, model__n_estimators=150, model__reg_alpha=0.01, model__subsample=0.4, n_splits=4 \n"
     ]
    },
    {
     "name": "stderr",
     "output_type": "stream",
     "text": [
      "100%|██████████| 2/2 [02:01<00:00, 60.99s/it]\n",
      "100%|██████████| 5/5 [04:04<00:00, 48.89s/it]\n"
     ]
    },
    {
     "name": "stdout",
     "output_type": "stream",
     "text": [
      "[CV]  model__colsample_bytree=0.7, model__max_depth=5, model__n_estimators=150, model__reg_alpha=0.01, model__subsample=0.4, n_splits=2, total= 2.0min\n",
      "[CV] model__colsample_bytree=0.7, model__max_depth=5, model__n_estimators=150, model__reg_alpha=0.01, model__subsample=0.4, n_splits=4 \n"
     ]
    },
    {
     "name": "stderr",
     "output_type": "stream",
     "text": [
      "\r",
      "  0%|          | 0/5 [00:00<?, ?it/s]"
     ]
    },
    {
     "name": "stdout",
     "output_type": "stream",
     "text": [
      "[CV]  model__colsample_bytree=0.7, model__max_depth=3, model__n_estimators=250, model__reg_alpha=0.03, model__subsample=0.6, n_splits=4, total= 4.1min\n",
      "[CV] model__colsample_bytree=0.7, model__max_depth=5, model__n_estimators=150, model__reg_alpha=0.01, model__subsample=0.4, n_splits=4 \n"
     ]
    },
    {
     "name": "stderr",
     "output_type": "stream",
     "text": [
      "100%|██████████| 6/6 [04:57<00:00, 49.62s/it]\n"
     ]
    },
    {
     "name": "stdout",
     "output_type": "stream",
     "text": [
      "[CV]  model__colsample_bytree=0.7, model__max_depth=3, model__n_estimators=250, model__reg_alpha=0.03, model__subsample=0.6, n_splits=4, total= 5.0min\n",
      "[CV] model__colsample_bytree=0.7, model__max_depth=5, model__n_estimators=150, model__reg_alpha=0.01, model__subsample=0.4, n_splits=5 \n"
     ]
    },
    {
     "name": "stderr",
     "output_type": "stream",
     "text": [
      "100%|██████████| 3/3 [02:47<00:00, 55.78s/it]\n"
     ]
    },
    {
     "name": "stdout",
     "output_type": "stream",
     "text": [
      "[CV]  model__colsample_bytree=0.7, model__max_depth=5, model__n_estimators=150, model__reg_alpha=0.01, model__subsample=0.4, n_splits=3, total= 2.8min\n",
      "[CV] model__colsample_bytree=0.7, model__max_depth=5, model__n_estimators=150, model__reg_alpha=0.01, model__subsample=0.4, n_splits=5 \n"
     ]
    },
    {
     "name": "stderr",
     "output_type": "stream",
     "text": [
      "100%|██████████| 5/5 [04:09<00:00, 49.81s/it]\n",
      " 20%|██        | 1/5 [00:55<03:40, 55.11s/it]"
     ]
    },
    {
     "name": "stdout",
     "output_type": "stream",
     "text": [
      "[CV]  model__colsample_bytree=0.7, model__max_depth=3, model__n_estimators=250, model__reg_alpha=0.03, model__subsample=0.6, n_splits=5, total= 4.2min\n",
      "[CV] model__colsample_bytree=0.7, model__max_depth=5, model__n_estimators=150, model__reg_alpha=0.01, model__subsample=0.4, n_splits=5 \n"
     ]
    },
    {
     "name": "stderr",
     "output_type": "stream",
     "text": [
      "100%|██████████| 5/5 [04:06<00:00, 49.35s/it]\n"
     ]
    },
    {
     "name": "stdout",
     "output_type": "stream",
     "text": [
      "[CV]  model__colsample_bytree=0.7, model__max_depth=3, model__n_estimators=250, model__reg_alpha=0.03, model__subsample=0.6, n_splits=5, total= 4.1min\n",
      "[CV] model__colsample_bytree=0.7, model__max_depth=5, model__n_estimators=150, model__reg_alpha=0.01, model__subsample=0.6, n_splits=2 \n"
     ]
    },
    {
     "name": "stderr",
     "output_type": "stream",
     "text": [
      "100%|██████████| 6/6 [04:55<00:00, 49.26s/it]\n"
     ]
    },
    {
     "name": "stdout",
     "output_type": "stream",
     "text": [
      "[CV]  model__colsample_bytree=0.7, model__max_depth=3, model__n_estimators=250, model__reg_alpha=0.03, model__subsample=0.6, n_splits=5, total= 4.9min\n",
      "[CV] model__colsample_bytree=0.7, model__max_depth=5, model__n_estimators=150, model__reg_alpha=0.01, model__subsample=0.6, n_splits=2 \n"
     ]
    },
    {
     "name": "stderr",
     "output_type": "stream",
     "text": [
      "100%|██████████| 3/3 [02:48<00:00, 56.30s/it]\n",
      " 50%|█████     | 1/2 [00:58<00:58, 58.70s/it]"
     ]
    },
    {
     "name": "stdout",
     "output_type": "stream",
     "text": [
      "[CV]  model__colsample_bytree=0.7, model__max_depth=5, model__n_estimators=150, model__reg_alpha=0.01, model__subsample=0.4, n_splits=3, total= 2.8min\n",
      "[CV] model__colsample_bytree=0.7, model__max_depth=5, model__n_estimators=150, model__reg_alpha=0.01, model__subsample=0.6, n_splits=2 \n"
     ]
    },
    {
     "name": "stderr",
     "output_type": "stream",
     "text": [
      "100%|██████████| 3/3 [02:51<00:00, 57.27s/it]\n"
     ]
    },
    {
     "name": "stdout",
     "output_type": "stream",
     "text": [
      "[CV]  model__colsample_bytree=0.7, model__max_depth=5, model__n_estimators=150, model__reg_alpha=0.01, model__subsample=0.4, n_splits=3, total= 2.9min\n",
      "[CV] model__colsample_bytree=0.7, model__max_depth=5, model__n_estimators=150, model__reg_alpha=0.01, model__subsample=0.6, n_splits=3 \n"
     ]
    },
    {
     "name": "stderr",
     "output_type": "stream",
     "text": [
      "100%|██████████| 2/2 [01:53<00:00, 56.69s/it]\n"
     ]
    },
    {
     "name": "stdout",
     "output_type": "stream",
     "text": [
      "[CV]  model__colsample_bytree=0.7, model__max_depth=5, model__n_estimators=150, model__reg_alpha=0.01, model__subsample=0.6, n_splits=2, total= 1.9min\n",
      "[CV] model__colsample_bytree=0.7, model__max_depth=5, model__n_estimators=150, model__reg_alpha=0.01, model__subsample=0.6, n_splits=3 \n"
     ]
    },
    {
     "name": "stderr",
     "output_type": "stream",
     "text": [
      "100%|██████████| 2/2 [01:58<00:00, 59.40s/it]\n"
     ]
    },
    {
     "name": "stdout",
     "output_type": "stream",
     "text": [
      "[CV]  model__colsample_bytree=0.7, model__max_depth=5, model__n_estimators=150, model__reg_alpha=0.01, model__subsample=0.6, n_splits=2, total= 2.0min\n",
      "[CV] model__colsample_bytree=0.7, model__max_depth=5, model__n_estimators=150, model__reg_alpha=0.01, model__subsample=0.6, n_splits=3 \n"
     ]
    },
    {
     "name": "stderr",
     "output_type": "stream",
     "text": [
      "100%|██████████| 4/4 [03:47<00:00, 56.97s/it]\n",
      " 60%|██████    | 3/5 [02:53<01:55, 57.69s/it]"
     ]
    },
    {
     "name": "stdout",
     "output_type": "stream",
     "text": [
      "[CV]  model__colsample_bytree=0.7, model__max_depth=5, model__n_estimators=150, model__reg_alpha=0.01, model__subsample=0.4, n_splits=4, total= 3.8min\n",
      "[CV] model__colsample_bytree=0.7, model__max_depth=5, model__n_estimators=150, model__reg_alpha=0.01, model__subsample=0.6, n_splits=4 \n"
     ]
    },
    {
     "name": "stderr",
     "output_type": "stream",
     "text": [
      "100%|██████████| 2/2 [01:59<00:00, 59.78s/it]\n",
      " 67%|██████▋   | 2/3 [01:47<00:53, 53.79s/it]"
     ]
    },
    {
     "name": "stdout",
     "output_type": "stream",
     "text": [
      "[CV]  model__colsample_bytree=0.7, model__max_depth=5, model__n_estimators=150, model__reg_alpha=0.01, model__subsample=0.6, n_splits=2, total= 2.0min\n",
      "[CV] model__colsample_bytree=0.7, model__max_depth=5, model__n_estimators=150, model__reg_alpha=0.01, model__subsample=0.6, n_splits=4 \n"
     ]
    },
    {
     "name": "stderr",
     "output_type": "stream",
     "text": [
      "100%|██████████| 5/5 [04:46<00:00, 57.40s/it]\n"
     ]
    },
    {
     "name": "stdout",
     "output_type": "stream",
     "text": [
      "[CV]  model__colsample_bytree=0.7, model__max_depth=5, model__n_estimators=150, model__reg_alpha=0.01, model__subsample=0.4, n_splits=4, total= 4.8min\n",
      "[CV] model__colsample_bytree=0.7, model__max_depth=5, model__n_estimators=150, model__reg_alpha=0.01, model__subsample=0.6, n_splits=4 \n"
     ]
    },
    {
     "name": "stderr",
     "output_type": "stream",
     "text": [
      "100%|██████████| 6/6 [05:24<00:00, 54.16s/it]\n"
     ]
    },
    {
     "name": "stdout",
     "output_type": "stream",
     "text": [
      "[CV]  model__colsample_bytree=0.7, model__max_depth=5, model__n_estimators=150, model__reg_alpha=0.01, model__subsample=0.4, n_splits=4, total= 5.4min\n",
      "[CV] model__colsample_bytree=0.7, model__max_depth=5, model__n_estimators=150, model__reg_alpha=0.01, model__subsample=0.6, n_splits=5 \n"
     ]
    },
    {
     "name": "stderr",
     "output_type": "stream",
     "text": [
      "100%|██████████| 3/3 [02:44<00:00, 54.78s/it]\n"
     ]
    },
    {
     "name": "stdout",
     "output_type": "stream",
     "text": [
      "[CV]  model__colsample_bytree=0.7, model__max_depth=5, model__n_estimators=150, model__reg_alpha=0.01, model__subsample=0.6, n_splits=3, total= 2.7min\n",
      "[CV] model__colsample_bytree=0.7, model__max_depth=5, model__n_estimators=150, model__reg_alpha=0.01, model__subsample=0.6, n_splits=5 \n"
     ]
    },
    {
     "name": "stderr",
     "output_type": "stream",
     "text": [
      "100%|██████████| 5/5 [04:39<00:00, 55.82s/it]\n"
     ]
    },
    {
     "name": "stdout",
     "output_type": "stream",
     "text": [
      "[CV]  model__colsample_bytree=0.7, model__max_depth=5, model__n_estimators=150, model__reg_alpha=0.01, model__subsample=0.4, n_splits=5, total= 4.7min\n",
      "[CV] model__colsample_bytree=0.7, model__max_depth=5, model__n_estimators=150, model__reg_alpha=0.01, model__subsample=0.6, n_splits=5 \n"
     ]
    },
    {
     "name": "stderr",
     "output_type": "stream",
     "text": [
      "100%|██████████| 5/5 [04:52<00:00, 58.54s/it]\n"
     ]
    },
    {
     "name": "stdout",
     "output_type": "stream",
     "text": [
      "[CV]  model__colsample_bytree=0.7, model__max_depth=5, model__n_estimators=150, model__reg_alpha=0.01, model__subsample=0.4, n_splits=5, total= 4.9min\n",
      "[CV] model__colsample_bytree=0.7, model__max_depth=5, model__n_estimators=150, model__reg_alpha=0.03, model__subsample=0.4, n_splits=2 \n"
     ]
    },
    {
     "name": "stderr",
     "output_type": "stream",
     "text": [
      "100%|██████████| 3/3 [02:48<00:00, 56.23s/it]\n"
     ]
    },
    {
     "name": "stdout",
     "output_type": "stream",
     "text": [
      "[CV]  model__colsample_bytree=0.7, model__max_depth=5, model__n_estimators=150, model__reg_alpha=0.01, model__subsample=0.6, n_splits=3, total= 2.8min\n",
      "[CV] model__colsample_bytree=0.7, model__max_depth=5, model__n_estimators=150, model__reg_alpha=0.03, model__subsample=0.4, n_splits=2 \n"
     ]
    },
    {
     "name": "stderr",
     "output_type": "stream",
     "text": [
      "100%|██████████| 6/6 [05:31<00:00, 55.22s/it]\n"
     ]
    },
    {
     "name": "stdout",
     "output_type": "stream",
     "text": [
      "[CV]  model__colsample_bytree=0.7, model__max_depth=5, model__n_estimators=150, model__reg_alpha=0.01, model__subsample=0.4, n_splits=5, total= 5.5min\n",
      "[CV] model__colsample_bytree=0.7, model__max_depth=5, model__n_estimators=150, model__reg_alpha=0.03, model__subsample=0.4, n_splits=2 \n"
     ]
    },
    {
     "name": "stderr",
     "output_type": "stream",
     "text": [
      "100%|██████████| 3/3 [02:59<00:00, 59.69s/it]\n"
     ]
    },
    {
     "name": "stdout",
     "output_type": "stream",
     "text": [
      "[CV]  model__colsample_bytree=0.7, model__max_depth=5, model__n_estimators=150, model__reg_alpha=0.01, model__subsample=0.6, n_splits=3, total= 3.0min\n",
      "[CV] model__colsample_bytree=0.7, model__max_depth=5, model__n_estimators=150, model__reg_alpha=0.03, model__subsample=0.4, n_splits=3 \n"
     ]
    },
    {
     "name": "stderr",
     "output_type": "stream",
     "text": [
      "100%|██████████| 2/2 [01:53<00:00, 56.88s/it]\n"
     ]
    },
    {
     "name": "stdout",
     "output_type": "stream",
     "text": [
      "[CV]  model__colsample_bytree=0.7, model__max_depth=5, model__n_estimators=150, model__reg_alpha=0.03, model__subsample=0.4, n_splits=2, total= 1.9min\n",
      "[CV] model__colsample_bytree=0.7, model__max_depth=5, model__n_estimators=150, model__reg_alpha=0.03, model__subsample=0.4, n_splits=3 \n"
     ]
    },
    {
     "name": "stderr",
     "output_type": "stream",
     "text": [
      "100%|██████████| 2/2 [01:55<00:00, 57.75s/it]\n"
     ]
    },
    {
     "name": "stdout",
     "output_type": "stream",
     "text": [
      "[CV]  model__colsample_bytree=0.7, model__max_depth=5, model__n_estimators=150, model__reg_alpha=0.03, model__subsample=0.4, n_splits=2, total= 1.9min\n",
      "[CV] model__colsample_bytree=0.7, model__max_depth=5, model__n_estimators=150, model__reg_alpha=0.03, model__subsample=0.4, n_splits=3 \n"
     ]
    },
    {
     "name": "stderr",
     "output_type": "stream",
     "text": [
      "100%|██████████| 2/2 [01:59<00:00, 59.51s/it]\n"
     ]
    },
    {
     "name": "stdout",
     "output_type": "stream",
     "text": [
      "[CV]  model__colsample_bytree=0.7, model__max_depth=5, model__n_estimators=150, model__reg_alpha=0.03, model__subsample=0.4, n_splits=2, total= 2.0min\n",
      "[CV] model__colsample_bytree=0.7, model__max_depth=5, model__n_estimators=150, model__reg_alpha=0.03, model__subsample=0.4, n_splits=4 \n"
     ]
    },
    {
     "name": "stderr",
     "output_type": "stream",
     "text": [
      "100%|██████████| 4/4 [03:55<00:00, 58.82s/it]\n"
     ]
    },
    {
     "name": "stdout",
     "output_type": "stream",
     "text": [
      "[CV]  model__colsample_bytree=0.7, model__max_depth=5, model__n_estimators=150, model__reg_alpha=0.01, model__subsample=0.6, n_splits=4, total= 3.9min\n",
      "[CV] model__colsample_bytree=0.7, model__max_depth=5, model__n_estimators=150, model__reg_alpha=0.03, model__subsample=0.4, n_splits=4 \n"
     ]
    },
    {
     "name": "stderr",
     "output_type": "stream",
     "text": [
      "100%|██████████| 5/5 [04:37<00:00, 55.41s/it]\n"
     ]
    },
    {
     "name": "stdout",
     "output_type": "stream",
     "text": [
      "[CV]  model__colsample_bytree=0.7, model__max_depth=5, model__n_estimators=150, model__reg_alpha=0.01, model__subsample=0.6, n_splits=4, total= 4.6min\n",
      "[CV] model__colsample_bytree=0.7, model__max_depth=5, model__n_estimators=150, model__reg_alpha=0.03, model__subsample=0.4, n_splits=4 \n"
     ]
    },
    {
     "name": "stderr",
     "output_type": "stream",
     "text": [
      "100%|██████████| 6/6 [05:24<00:00, 54.01s/it]\n"
     ]
    },
    {
     "name": "stdout",
     "output_type": "stream",
     "text": [
      "[CV]  model__colsample_bytree=0.7, model__max_depth=5, model__n_estimators=150, model__reg_alpha=0.01, model__subsample=0.6, n_splits=4, total= 5.4min\n",
      "[CV] model__colsample_bytree=0.7, model__max_depth=5, model__n_estimators=150, model__reg_alpha=0.03, model__subsample=0.4, n_splits=5 \n"
     ]
    },
    {
     "name": "stderr",
     "output_type": "stream",
     "text": [
      "100%|██████████| 3/3 [02:48<00:00, 56.04s/it]\n"
     ]
    },
    {
     "name": "stdout",
     "output_type": "stream",
     "text": [
      "[CV]  model__colsample_bytree=0.7, model__max_depth=5, model__n_estimators=150, model__reg_alpha=0.03, model__subsample=0.4, n_splits=3, total= 2.8min\n",
      "[CV] model__colsample_bytree=0.7, model__max_depth=5, model__n_estimators=150, model__reg_alpha=0.03, model__subsample=0.4, n_splits=5 \n"
     ]
    },
    {
     "name": "stderr",
     "output_type": "stream",
     "text": [
      "100%|██████████| 5/5 [04:39<00:00, 55.83s/it]\n"
     ]
    },
    {
     "name": "stdout",
     "output_type": "stream",
     "text": [
      "[CV]  model__colsample_bytree=0.7, model__max_depth=5, model__n_estimators=150, model__reg_alpha=0.01, model__subsample=0.6, n_splits=5, total= 4.7min\n",
      "[CV] model__colsample_bytree=0.7, model__max_depth=5, model__n_estimators=150, model__reg_alpha=0.03, model__subsample=0.4, n_splits=5 \n"
     ]
    },
    {
     "name": "stderr",
     "output_type": "stream",
     "text": [
      "100%|██████████| 5/5 [04:45<00:00, 57.13s/it]\n"
     ]
    },
    {
     "name": "stdout",
     "output_type": "stream",
     "text": [
      "[CV]  model__colsample_bytree=0.7, model__max_depth=5, model__n_estimators=150, model__reg_alpha=0.01, model__subsample=0.6, n_splits=5, total= 4.8min\n",
      "[CV] model__colsample_bytree=0.7, model__max_depth=5, model__n_estimators=150, model__reg_alpha=0.03, model__subsample=0.6, n_splits=2 \n"
     ]
    },
    {
     "name": "stderr",
     "output_type": "stream",
     "text": [
      "100%|██████████| 3/3 [02:52<00:00, 57.63s/it]\n",
      "100%|██████████| 6/6 [05:21<00:00, 53.51s/it]\n"
     ]
    },
    {
     "name": "stdout",
     "output_type": "stream",
     "text": [
      "[CV]  model__colsample_bytree=0.7, model__max_depth=5, model__n_estimators=150, model__reg_alpha=0.03, model__subsample=0.4, n_splits=3, total= 2.9min\n",
      "[CV] model__colsample_bytree=0.7, model__max_depth=5, model__n_estimators=150, model__reg_alpha=0.03, model__subsample=0.6, n_splits=2 \n"
     ]
    },
    {
     "name": "stderr",
     "output_type": "stream",
     "text": [
      "\r",
      "  0%|          | 0/2 [00:00<?, ?it/s]"
     ]
    },
    {
     "name": "stdout",
     "output_type": "stream",
     "text": [
      "[CV]  model__colsample_bytree=0.7, model__max_depth=5, model__n_estimators=150, model__reg_alpha=0.01, model__subsample=0.6, n_splits=5, total= 5.4min\n",
      "[CV] model__colsample_bytree=0.7, model__max_depth=5, model__n_estimators=150, model__reg_alpha=0.03, model__subsample=0.6, n_splits=2 \n"
     ]
    },
    {
     "name": "stderr",
     "output_type": "stream",
     "text": [
      "100%|██████████| 3/3 [02:52<00:00, 57.61s/it]\n",
      " 33%|███▎      | 2/6 [01:42<03:24, 51.21s/it]"
     ]
    },
    {
     "name": "stdout",
     "output_type": "stream",
     "text": [
      "[CV]  model__colsample_bytree=0.7, model__max_depth=5, model__n_estimators=150, model__reg_alpha=0.03, model__subsample=0.4, n_splits=3, total= 2.9min\n",
      "[CV] model__colsample_bytree=0.7, model__max_depth=5, model__n_estimators=150, model__reg_alpha=0.03, model__subsample=0.6, n_splits=3 \n"
     ]
    },
    {
     "name": "stderr",
     "output_type": "stream",
     "text": [
      "100%|██████████| 2/2 [01:50<00:00, 55.24s/it]\n"
     ]
    },
    {
     "name": "stdout",
     "output_type": "stream",
     "text": [
      "[CV]  model__colsample_bytree=0.7, model__max_depth=5, model__n_estimators=150, model__reg_alpha=0.03, model__subsample=0.6, n_splits=2, total= 1.8min\n",
      "[CV] model__colsample_bytree=0.7, model__max_depth=5, model__n_estimators=150, model__reg_alpha=0.03, model__subsample=0.6, n_splits=3 \n"
     ]
    },
    {
     "name": "stderr",
     "output_type": "stream",
     "text": [
      "100%|██████████| 2/2 [01:58<00:00, 59.44s/it]\n",
      "100%|██████████| 2/2 [01:58<00:00, 59.42s/it]\n"
     ]
    },
    {
     "name": "stdout",
     "output_type": "stream",
     "text": [
      "[CV]  model__colsample_bytree=0.7, model__max_depth=5, model__n_estimators=150, model__reg_alpha=0.03, model__subsample=0.6, n_splits=2, total= 2.0min\n",
      "[CV] model__colsample_bytree=0.7, model__max_depth=5, model__n_estimators=150, model__reg_alpha=0.03, model__subsample=0.6, n_splits=3 \n"
     ]
    },
    {
     "name": "stderr",
     "output_type": "stream",
     "text": [
      "\r",
      "  0%|          | 0/3 [00:00<?, ?it/s]"
     ]
    },
    {
     "name": "stdout",
     "output_type": "stream",
     "text": [
      "[CV]  model__colsample_bytree=0.7, model__max_depth=5, model__n_estimators=150, model__reg_alpha=0.03, model__subsample=0.6, n_splits=2, total= 2.0min\n",
      "[CV] model__colsample_bytree=0.7, model__max_depth=5, model__n_estimators=150, model__reg_alpha=0.03, model__subsample=0.6, n_splits=4 \n"
     ]
    },
    {
     "name": "stderr",
     "output_type": "stream",
     "text": [
      "100%|██████████| 4/4 [03:48<00:00, 57.21s/it]\n"
     ]
    },
    {
     "name": "stdout",
     "output_type": "stream",
     "text": [
      "[CV]  model__colsample_bytree=0.7, model__max_depth=5, model__n_estimators=150, model__reg_alpha=0.03, model__subsample=0.4, n_splits=4, total= 3.8min\n",
      "[CV] model__colsample_bytree=0.7, model__max_depth=5, model__n_estimators=150, model__reg_alpha=0.03, model__subsample=0.6, n_splits=4 \n"
     ]
    },
    {
     "name": "stderr",
     "output_type": "stream",
     "text": [
      "100%|██████████| 5/5 [04:47<00:00, 57.59s/it]\n"
     ]
    },
    {
     "name": "stdout",
     "output_type": "stream",
     "text": [
      "[CV]  model__colsample_bytree=0.7, model__max_depth=5, model__n_estimators=150, model__reg_alpha=0.03, model__subsample=0.4, n_splits=4, total= 4.8min\n",
      "[CV] model__colsample_bytree=0.7, model__max_depth=5, model__n_estimators=150, model__reg_alpha=0.03, model__subsample=0.6, n_splits=4 \n"
     ]
    },
    {
     "name": "stderr",
     "output_type": "stream",
     "text": [
      "100%|██████████| 3/3 [02:47<00:00, 55.94s/it]\n"
     ]
    },
    {
     "name": "stdout",
     "output_type": "stream",
     "text": [
      "[CV]  model__colsample_bytree=0.7, model__max_depth=5, model__n_estimators=150, model__reg_alpha=0.03, model__subsample=0.6, n_splits=3, total= 2.8min\n",
      "[CV] model__colsample_bytree=0.7, model__max_depth=5, model__n_estimators=150, model__reg_alpha=0.03, model__subsample=0.6, n_splits=5 \n"
     ]
    },
    {
     "name": "stderr",
     "output_type": "stream",
     "text": [
      "100%|██████████| 6/6 [05:31<00:00, 55.21s/it]\n"
     ]
    },
    {
     "name": "stdout",
     "output_type": "stream",
     "text": [
      "[CV]  model__colsample_bytree=0.7, model__max_depth=5, model__n_estimators=150, model__reg_alpha=0.03, model__subsample=0.4, n_splits=4, total= 5.5min\n",
      "[CV] model__colsample_bytree=0.7, model__max_depth=5, model__n_estimators=150, model__reg_alpha=0.03, model__subsample=0.6, n_splits=5 \n"
     ]
    },
    {
     "name": "stderr",
     "output_type": "stream",
     "text": [
      "100%|██████████| 5/5 [04:46<00:00, 57.40s/it]\n"
     ]
    },
    {
     "name": "stdout",
     "output_type": "stream",
     "text": [
      "[CV]  model__colsample_bytree=0.7, model__max_depth=5, model__n_estimators=150, model__reg_alpha=0.03, model__subsample=0.4, n_splits=5, total= 4.8min\n",
      "[CV] model__colsample_bytree=0.7, model__max_depth=5, model__n_estimators=150, model__reg_alpha=0.03, model__subsample=0.6, n_splits=5 \n"
     ]
    },
    {
     "name": "stderr",
     "output_type": "stream",
     "text": [
      "100%|██████████| 6/6 [05:19<00:00, 53.26s/it]\n"
     ]
    },
    {
     "name": "stdout",
     "output_type": "stream",
     "text": [
      "[CV]  model__colsample_bytree=0.7, model__max_depth=5, model__n_estimators=150, model__reg_alpha=0.03, model__subsample=0.4, n_splits=5, total= 5.3min\n",
      "[CV] model__colsample_bytree=0.7, model__max_depth=5, model__n_estimators=250, model__reg_alpha=0.01, model__subsample=0.4, n_splits=2 \n"
     ]
    },
    {
     "name": "stderr",
     "output_type": "stream",
     "text": [
      "100%|██████████| 5/5 [04:45<00:00, 57.09s/it]\n"
     ]
    },
    {
     "name": "stdout",
     "output_type": "stream",
     "text": [
      "[CV]  model__colsample_bytree=0.7, model__max_depth=5, model__n_estimators=150, model__reg_alpha=0.03, model__subsample=0.4, n_splits=5, total= 4.8min\n",
      "[CV] model__colsample_bytree=0.7, model__max_depth=5, model__n_estimators=250, model__reg_alpha=0.01, model__subsample=0.4, n_splits=2 \n"
     ]
    },
    {
     "name": "stderr",
     "output_type": "stream",
     "text": [
      "100%|██████████| 3/3 [02:48<00:00, 56.25s/it]\n"
     ]
    },
    {
     "name": "stdout",
     "output_type": "stream",
     "text": [
      "[CV]  model__colsample_bytree=0.7, model__max_depth=5, model__n_estimators=150, model__reg_alpha=0.03, model__subsample=0.6, n_splits=3, total= 2.8min\n",
      "[CV] model__colsample_bytree=0.7, model__max_depth=5, model__n_estimators=250, model__reg_alpha=0.01, model__subsample=0.4, n_splits=2 \n"
     ]
    },
    {
     "name": "stderr",
     "output_type": "stream",
     "text": [
      "100%|██████████| 3/3 [02:59<00:00, 59.76s/it]\n"
     ]
    },
    {
     "name": "stdout",
     "output_type": "stream",
     "text": [
      "[CV]  model__colsample_bytree=0.7, model__max_depth=5, model__n_estimators=150, model__reg_alpha=0.03, model__subsample=0.6, n_splits=3, total= 3.0min\n",
      "[CV] model__colsample_bytree=0.7, model__max_depth=5, model__n_estimators=250, model__reg_alpha=0.01, model__subsample=0.4, n_splits=3 \n"
     ]
    },
    {
     "name": "stderr",
     "output_type": "stream",
     "text": [
      "100%|██████████| 4/4 [03:59<00:00, 59.85s/it]\n"
     ]
    },
    {
     "name": "stdout",
     "output_type": "stream",
     "text": [
      "[CV]  model__colsample_bytree=0.7, model__max_depth=5, model__n_estimators=150, model__reg_alpha=0.03, model__subsample=0.6, n_splits=4, total= 4.0min\n",
      "[CV] model__colsample_bytree=0.7, model__max_depth=5, model__n_estimators=250, model__reg_alpha=0.01, model__subsample=0.4, n_splits=3 \n"
     ]
    },
    {
     "name": "stderr",
     "output_type": "stream",
     "text": [
      "100%|██████████| 5/5 [04:37<00:00, 55.57s/it]\n"
     ]
    },
    {
     "name": "stdout",
     "output_type": "stream",
     "text": [
      "[CV]  model__colsample_bytree=0.7, model__max_depth=5, model__n_estimators=150, model__reg_alpha=0.03, model__subsample=0.6, n_splits=4, total= 4.6min\n",
      "[CV] model__colsample_bytree=0.7, model__max_depth=5, model__n_estimators=250, model__reg_alpha=0.01, model__subsample=0.4, n_splits=3 \n"
     ]
    },
    {
     "name": "stderr",
     "output_type": "stream",
     "text": [
      "100%|██████████| 2/2 [03:05<00:00, 92.72s/it]\n"
     ]
    },
    {
     "name": "stdout",
     "output_type": "stream",
     "text": [
      "[CV]  model__colsample_bytree=0.7, model__max_depth=5, model__n_estimators=250, model__reg_alpha=0.01, model__subsample=0.4, n_splits=2, total= 3.1min\n",
      "[CV] model__colsample_bytree=0.7, model__max_depth=5, model__n_estimators=250, model__reg_alpha=0.01, model__subsample=0.4, n_splits=4 \n"
     ]
    },
    {
     "name": "stderr",
     "output_type": "stream",
     "text": [
      "100%|██████████| 2/2 [03:08<00:00, 94.48s/it]\n"
     ]
    },
    {
     "name": "stdout",
     "output_type": "stream",
     "text": [
      "[CV]  model__colsample_bytree=0.7, model__max_depth=5, model__n_estimators=250, model__reg_alpha=0.01, model__subsample=0.4, n_splits=2, total= 3.2min\n",
      "[CV] model__colsample_bytree=0.7, model__max_depth=5, model__n_estimators=250, model__reg_alpha=0.01, model__subsample=0.4, n_splits=4 \n"
     ]
    },
    {
     "name": "stderr",
     "output_type": "stream",
     "text": [
      "100%|██████████| 6/6 [05:27<00:00, 54.53s/it]\n"
     ]
    },
    {
     "name": "stdout",
     "output_type": "stream",
     "text": [
      "[CV]  model__colsample_bytree=0.7, model__max_depth=5, model__n_estimators=150, model__reg_alpha=0.03, model__subsample=0.6, n_splits=4, total= 5.5min\n",
      "[CV] model__colsample_bytree=0.7, model__max_depth=5, model__n_estimators=250, model__reg_alpha=0.01, model__subsample=0.4, n_splits=4 \n"
     ]
    },
    {
     "name": "stderr",
     "output_type": "stream",
     "text": [
      "100%|██████████| 2/2 [03:11<00:00, 95.98s/it]\n"
     ]
    },
    {
     "name": "stdout",
     "output_type": "stream",
     "text": [
      "[CV]  model__colsample_bytree=0.7, model__max_depth=5, model__n_estimators=250, model__reg_alpha=0.01, model__subsample=0.4, n_splits=2, total= 3.2min\n",
      "[CV] model__colsample_bytree=0.7, model__max_depth=5, model__n_estimators=250, model__reg_alpha=0.01, model__subsample=0.4, n_splits=5 \n"
     ]
    },
    {
     "name": "stderr",
     "output_type": "stream",
     "text": [
      "100%|██████████| 5/5 [04:46<00:00, 57.38s/it]\n"
     ]
    },
    {
     "name": "stdout",
     "output_type": "stream",
     "text": [
      "[CV]  model__colsample_bytree=0.7, model__max_depth=5, model__n_estimators=150, model__reg_alpha=0.03, model__subsample=0.6, n_splits=5, total= 4.8min\n",
      "[CV] model__colsample_bytree=0.7, model__max_depth=5, model__n_estimators=250, model__reg_alpha=0.01, model__subsample=0.4, n_splits=5 \n"
     ]
    },
    {
     "name": "stderr",
     "output_type": "stream",
     "text": [
      "100%|██████████| 5/5 [04:58<00:00, 59.60s/it]\n",
      " 17%|█▋        | 1/6 [01:23<06:59, 83.91s/it]"
     ]
    },
    {
     "name": "stdout",
     "output_type": "stream",
     "text": [
      "[CV]  model__colsample_bytree=0.7, model__max_depth=5, model__n_estimators=150, model__reg_alpha=0.03, model__subsample=0.6, n_splits=5, total= 5.0min\n",
      "[CV] model__colsample_bytree=0.7, model__max_depth=5, model__n_estimators=250, model__reg_alpha=0.01, model__subsample=0.4, n_splits=5 \n"
     ]
    },
    {
     "name": "stderr",
     "output_type": "stream",
     "text": [
      "100%|██████████| 6/6 [05:27<00:00, 54.59s/it]\n"
     ]
    },
    {
     "name": "stdout",
     "output_type": "stream",
     "text": [
      "[CV]  model__colsample_bytree=0.7, model__max_depth=5, model__n_estimators=150, model__reg_alpha=0.03, model__subsample=0.6, n_splits=5, total= 5.5min\n",
      "[CV] model__colsample_bytree=0.7, model__max_depth=5, model__n_estimators=250, model__reg_alpha=0.01, model__subsample=0.6, n_splits=2 \n"
     ]
    },
    {
     "name": "stderr",
     "output_type": "stream",
     "text": [
      "100%|██████████| 3/3 [04:43<00:00, 94.34s/it]\n"
     ]
    },
    {
     "name": "stdout",
     "output_type": "stream",
     "text": [
      "[CV]  model__colsample_bytree=0.7, model__max_depth=5, model__n_estimators=250, model__reg_alpha=0.01, model__subsample=0.4, n_splits=3, total= 4.7min\n",
      "[CV] model__colsample_bytree=0.7, model__max_depth=5, model__n_estimators=250, model__reg_alpha=0.01, model__subsample=0.6, n_splits=2 \n"
     ]
    },
    {
     "name": "stderr",
     "output_type": "stream",
     "text": [
      "100%|██████████| 2/2 [03:04<00:00, 92.44s/it]\n"
     ]
    },
    {
     "name": "stdout",
     "output_type": "stream",
     "text": [
      "[CV]  model__colsample_bytree=0.7, model__max_depth=5, model__n_estimators=250, model__reg_alpha=0.01, model__subsample=0.6, n_splits=2, total= 3.1min\n",
      "[CV] model__colsample_bytree=0.7, model__max_depth=5, model__n_estimators=250, model__reg_alpha=0.01, model__subsample=0.6, n_splits=2 \n"
     ]
    },
    {
     "name": "stderr",
     "output_type": "stream",
     "text": [
      "100%|██████████| 3/3 [04:45<00:00, 95.02s/it]\n"
     ]
    },
    {
     "name": "stdout",
     "output_type": "stream",
     "text": [
      "[CV]  model__colsample_bytree=0.7, model__max_depth=5, model__n_estimators=250, model__reg_alpha=0.01, model__subsample=0.4, n_splits=3, total= 4.8min\n",
      "[CV] model__colsample_bytree=0.7, model__max_depth=5, model__n_estimators=250, model__reg_alpha=0.01, model__subsample=0.6, n_splits=3 \n"
     ]
    },
    {
     "name": "stderr",
     "output_type": "stream",
     "text": [
      "100%|██████████| 3/3 [04:45<00:00, 95.28s/it]\n"
     ]
    },
    {
     "name": "stdout",
     "output_type": "stream",
     "text": [
      "[CV]  model__colsample_bytree=0.7, model__max_depth=5, model__n_estimators=250, model__reg_alpha=0.01, model__subsample=0.4, n_splits=3, total= 4.8min\n",
      "[CV] model__colsample_bytree=0.7, model__max_depth=5, model__n_estimators=250, model__reg_alpha=0.01, model__subsample=0.6, n_splits=3 \n"
     ]
    },
    {
     "name": "stderr",
     "output_type": "stream",
     "text": [
      "100%|██████████| 2/2 [03:12<00:00, 96.24s/it]\n"
     ]
    },
    {
     "name": "stdout",
     "output_type": "stream",
     "text": [
      "[CV]  model__colsample_bytree=0.7, model__max_depth=5, model__n_estimators=250, model__reg_alpha=0.01, model__subsample=0.6, n_splits=2, total= 3.2min\n",
      "[CV] model__colsample_bytree=0.7, model__max_depth=5, model__n_estimators=250, model__reg_alpha=0.01, model__subsample=0.6, n_splits=3 \n"
     ]
    },
    {
     "name": "stderr",
     "output_type": "stream",
     "text": [
      "100%|██████████| 4/4 [06:18<00:00, 94.70s/it]\n"
     ]
    },
    {
     "name": "stdout",
     "output_type": "stream",
     "text": [
      "[CV]  model__colsample_bytree=0.7, model__max_depth=5, model__n_estimators=250, model__reg_alpha=0.01, model__subsample=0.4, n_splits=4, total= 6.3min\n",
      "[CV] model__colsample_bytree=0.7, model__max_depth=5, model__n_estimators=250, model__reg_alpha=0.01, model__subsample=0.6, n_splits=4 \n"
     ]
    },
    {
     "name": "stderr",
     "output_type": "stream",
     "text": [
      "100%|██████████| 2/2 [03:13<00:00, 96.67s/it]\n"
     ]
    },
    {
     "name": "stdout",
     "output_type": "stream",
     "text": [
      "[CV]  model__colsample_bytree=0.7, model__max_depth=5, model__n_estimators=250, model__reg_alpha=0.01, model__subsample=0.6, n_splits=2, total= 3.2min\n",
      "[CV] model__colsample_bytree=0.7, model__max_depth=5, model__n_estimators=250, model__reg_alpha=0.01, model__subsample=0.6, n_splits=4 \n"
     ]
    },
    {
     "name": "stderr",
     "output_type": "stream",
     "text": [
      "100%|██████████| 5/5 [07:41<00:00, 92.23s/it]\n"
     ]
    },
    {
     "name": "stdout",
     "output_type": "stream",
     "text": [
      "[CV]  model__colsample_bytree=0.7, model__max_depth=5, model__n_estimators=250, model__reg_alpha=0.01, model__subsample=0.4, n_splits=4, total= 7.7min\n",
      "[CV] model__colsample_bytree=0.7, model__max_depth=5, model__n_estimators=250, model__reg_alpha=0.01, model__subsample=0.6, n_splits=4 \n"
     ]
    },
    {
     "name": "stderr",
     "output_type": "stream",
     "text": [
      "100%|██████████| 5/5 [07:50<00:00, 94.15s/it]\n"
     ]
    },
    {
     "name": "stdout",
     "output_type": "stream",
     "text": [
      "[CV]  model__colsample_bytree=0.7, model__max_depth=5, model__n_estimators=250, model__reg_alpha=0.01, model__subsample=0.4, n_splits=5, total= 7.9min\n",
      "[CV] model__colsample_bytree=0.7, model__max_depth=5, model__n_estimators=250, model__reg_alpha=0.01, model__subsample=0.6, n_splits=5 \n"
     ]
    },
    {
     "name": "stderr",
     "output_type": "stream",
     "text": [
      "100%|██████████| 6/6 [08:56<00:00, 89.46s/it]\n"
     ]
    },
    {
     "name": "stdout",
     "output_type": "stream",
     "text": [
      "[CV]  model__colsample_bytree=0.7, model__max_depth=5, model__n_estimators=250, model__reg_alpha=0.01, model__subsample=0.4, n_splits=4, total= 9.0min\n",
      "[CV] model__colsample_bytree=0.7, model__max_depth=5, model__n_estimators=250, model__reg_alpha=0.01, model__subsample=0.6, n_splits=5 \n"
     ]
    },
    {
     "name": "stderr",
     "output_type": "stream",
     "text": [
      "100%|██████████| 3/3 [04:41<00:00, 93.77s/it]\n",
      " 20%|██        | 1/5 [01:28<05:55, 88.90s/it]"
     ]
    },
    {
     "name": "stdout",
     "output_type": "stream",
     "text": [
      "[CV]  model__colsample_bytree=0.7, model__max_depth=5, model__n_estimators=250, model__reg_alpha=0.01, model__subsample=0.6, n_splits=3, total= 4.7min\n",
      "[CV] model__colsample_bytree=0.7, model__max_depth=5, model__n_estimators=250, model__reg_alpha=0.01, model__subsample=0.6, n_splits=5 \n"
     ]
    },
    {
     "name": "stderr",
     "output_type": "stream",
     "text": [
      "100%|██████████| 3/3 [04:39<00:00, 93.14s/it]\n",
      "  0%|          | 0/5 [00:00<?, ?it/s]"
     ]
    },
    {
     "name": "stdout",
     "output_type": "stream",
     "text": [
      "[CV]  model__colsample_bytree=0.7, model__max_depth=5, model__n_estimators=250, model__reg_alpha=0.01, model__subsample=0.6, n_splits=3, total= 4.7min\n",
      "[CV] model__colsample_bytree=0.7, model__max_depth=5, model__n_estimators=250, model__reg_alpha=0.03, model__subsample=0.4, n_splits=2 \n"
     ]
    },
    {
     "name": "stderr",
     "output_type": "stream",
     "text": [
      "100%|██████████| 5/5 [08:00<00:00, 96.07s/it]\n",
      "100%|██████████| 6/6 [08:57<00:00, 89.54s/it]\n"
     ]
    },
    {
     "name": "stdout",
     "output_type": "stream",
     "text": [
      "[CV]  model__colsample_bytree=0.7, model__max_depth=5, model__n_estimators=250, model__reg_alpha=0.01, model__subsample=0.4, n_splits=5, total= 8.0min\n",
      "[CV] model__colsample_bytree=0.7, model__max_depth=5, model__n_estimators=250, model__reg_alpha=0.03, model__subsample=0.4, n_splits=2 \n"
     ]
    },
    {
     "name": "stderr",
     "output_type": "stream",
     "text": [
      "\r",
      "  0%|          | 0/2 [00:00<?, ?it/s]"
     ]
    },
    {
     "name": "stdout",
     "output_type": "stream",
     "text": [
      "[CV]  model__colsample_bytree=0.7, model__max_depth=5, model__n_estimators=250, model__reg_alpha=0.01, model__subsample=0.4, n_splits=5, total= 9.0min\n",
      "[CV] model__colsample_bytree=0.7, model__max_depth=5, model__n_estimators=250, model__reg_alpha=0.03, model__subsample=0.4, n_splits=2 \n"
     ]
    },
    {
     "name": "stderr",
     "output_type": "stream",
     "text": [
      "100%|██████████| 3/3 [04:51<00:00, 97.03s/it]\n"
     ]
    },
    {
     "name": "stdout",
     "output_type": "stream",
     "text": [
      "[CV]  model__colsample_bytree=0.7, model__max_depth=5, model__n_estimators=250, model__reg_alpha=0.01, model__subsample=0.6, n_splits=3, total= 4.9min\n",
      "[CV] model__colsample_bytree=0.7, model__max_depth=5, model__n_estimators=250, model__reg_alpha=0.03, model__subsample=0.4, n_splits=3 \n"
     ]
    },
    {
     "name": "stderr",
     "output_type": "stream",
     "text": [
      "100%|██████████| 2/2 [03:04<00:00, 92.29s/it]\n"
     ]
    },
    {
     "name": "stdout",
     "output_type": "stream",
     "text": [
      "[CV]  model__colsample_bytree=0.7, model__max_depth=5, model__n_estimators=250, model__reg_alpha=0.03, model__subsample=0.4, n_splits=2, total= 3.1min\n",
      "[CV] model__colsample_bytree=0.7, model__max_depth=5, model__n_estimators=250, model__reg_alpha=0.03, model__subsample=0.4, n_splits=3 \n"
     ]
    },
    {
     "name": "stderr",
     "output_type": "stream",
     "text": [
      "100%|██████████| 2/2 [03:13<00:00, 96.75s/it]\n",
      " 67%|██████▋   | 4/6 [05:56<02:58, 89.02s/it]"
     ]
    },
    {
     "name": "stdout",
     "output_type": "stream",
     "text": [
      "[CV]  model__colsample_bytree=0.7, model__max_depth=5, model__n_estimators=250, model__reg_alpha=0.03, model__subsample=0.4, n_splits=2, total= 3.2min\n",
      "[CV] model__colsample_bytree=0.7, model__max_depth=5, model__n_estimators=250, model__reg_alpha=0.03, model__subsample=0.4, n_splits=3 \n"
     ]
    },
    {
     "name": "stderr",
     "output_type": "stream",
     "text": [
      "100%|██████████| 2/2 [03:15<00:00, 97.78s/it]\n"
     ]
    },
    {
     "name": "stdout",
     "output_type": "stream",
     "text": [
      "[CV]  model__colsample_bytree=0.7, model__max_depth=5, model__n_estimators=250, model__reg_alpha=0.03, model__subsample=0.4, n_splits=2, total= 3.3min\n",
      "[CV] model__colsample_bytree=0.7, model__max_depth=5, model__n_estimators=250, model__reg_alpha=0.03, model__subsample=0.4, n_splits=4 \n"
     ]
    },
    {
     "name": "stderr",
     "output_type": "stream",
     "text": [
      "100%|██████████| 4/4 [06:19<00:00, 94.91s/it]\n"
     ]
    },
    {
     "name": "stdout",
     "output_type": "stream",
     "text": [
      "[CV]  model__colsample_bytree=0.7, model__max_depth=5, model__n_estimators=250, model__reg_alpha=0.01, model__subsample=0.6, n_splits=4, total= 6.3min\n",
      "[CV] model__colsample_bytree=0.7, model__max_depth=5, model__n_estimators=250, model__reg_alpha=0.03, model__subsample=0.4, n_splits=4 \n"
     ]
    },
    {
     "name": "stderr",
     "output_type": "stream",
     "text": [
      "100%|██████████| 3/3 [04:40<00:00, 93.49s/it]\n"
     ]
    },
    {
     "name": "stdout",
     "output_type": "stream",
     "text": [
      "[CV]  model__colsample_bytree=0.7, model__max_depth=5, model__n_estimators=250, model__reg_alpha=0.03, model__subsample=0.4, n_splits=3, total= 4.7min\n",
      "[CV] model__colsample_bytree=0.7, model__max_depth=5, model__n_estimators=250, model__reg_alpha=0.03, model__subsample=0.4, n_splits=4 \n"
     ]
    },
    {
     "name": "stderr",
     "output_type": "stream",
     "text": [
      "100%|██████████| 5/5 [07:38<00:00, 91.76s/it]\n"
     ]
    },
    {
     "name": "stdout",
     "output_type": "stream",
     "text": [
      "[CV]  model__colsample_bytree=0.7, model__max_depth=5, model__n_estimators=250, model__reg_alpha=0.01, model__subsample=0.6, n_splits=4, total= 7.7min\n",
      "[CV] model__colsample_bytree=0.7, model__max_depth=5, model__n_estimators=250, model__reg_alpha=0.03, model__subsample=0.4, n_splits=5 \n"
     ]
    },
    {
     "name": "stderr",
     "output_type": "stream",
     "text": [
      "100%|██████████| 6/6 [08:59<00:00, 89.84s/it]\n"
     ]
    },
    {
     "name": "stdout",
     "output_type": "stream",
     "text": [
      "[CV]  model__colsample_bytree=0.7, model__max_depth=5, model__n_estimators=250, model__reg_alpha=0.01, model__subsample=0.6, n_splits=4, total= 9.0min\n",
      "[CV] model__colsample_bytree=0.7, model__max_depth=5, model__n_estimators=250, model__reg_alpha=0.03, model__subsample=0.4, n_splits=5 \n"
     ]
    },
    {
     "name": "stderr",
     "output_type": "stream",
     "text": [
      "100%|██████████| 5/5 [07:39<00:00, 91.94s/it]\n"
     ]
    },
    {
     "name": "stdout",
     "output_type": "stream",
     "text": [
      "[CV]  model__colsample_bytree=0.7, model__max_depth=5, model__n_estimators=250, model__reg_alpha=0.01, model__subsample=0.6, n_splits=5, total= 7.7min\n",
      "[CV] model__colsample_bytree=0.7, model__max_depth=5, model__n_estimators=250, model__reg_alpha=0.03, model__subsample=0.4, n_splits=5 \n"
     ]
    },
    {
     "name": "stderr",
     "output_type": "stream",
     "text": [
      "100%|██████████| 3/3 [04:38<00:00, 93.00s/it]\n"
     ]
    },
    {
     "name": "stdout",
     "output_type": "stream",
     "text": [
      "[CV]  model__colsample_bytree=0.7, model__max_depth=5, model__n_estimators=250, model__reg_alpha=0.03, model__subsample=0.4, n_splits=3, total= 4.7min\n",
      "[CV] model__colsample_bytree=0.7, model__max_depth=5, model__n_estimators=250, model__reg_alpha=0.03, model__subsample=0.6, n_splits=2 \n"
     ]
    },
    {
     "name": "stderr",
     "output_type": "stream",
     "text": [
      "100%|██████████| 5/5 [08:02<00:00, 96.54s/it]\n",
      " 40%|████      | 2/5 [02:58<04:27, 89.30s/it]"
     ]
    },
    {
     "name": "stdout",
     "output_type": "stream",
     "text": [
      "[CV]  model__colsample_bytree=0.7, model__max_depth=5, model__n_estimators=250, model__reg_alpha=0.01, model__subsample=0.6, n_splits=5, total= 8.1min\n",
      "[CV] model__colsample_bytree=0.7, model__max_depth=5, model__n_estimators=250, model__reg_alpha=0.03, model__subsample=0.6, n_splits=2 \n"
     ]
    },
    {
     "name": "stderr",
     "output_type": "stream",
     "text": [
      "100%|██████████| 3/3 [04:46<00:00, 95.40s/it]\n"
     ]
    },
    {
     "name": "stdout",
     "output_type": "stream",
     "text": [
      "[CV]  model__colsample_bytree=0.7, model__max_depth=5, model__n_estimators=250, model__reg_alpha=0.03, model__subsample=0.4, n_splits=3, total= 4.8min\n",
      "[CV] model__colsample_bytree=0.7, model__max_depth=5, model__n_estimators=250, model__reg_alpha=0.03, model__subsample=0.6, n_splits=2 \n"
     ]
    },
    {
     "name": "stderr",
     "output_type": "stream",
     "text": [
      "100%|██████████| 6/6 [09:16<00:00, 92.77s/it]\n"
     ]
    },
    {
     "name": "stdout",
     "output_type": "stream",
     "text": [
      "[CV]  model__colsample_bytree=0.7, model__max_depth=5, model__n_estimators=250, model__reg_alpha=0.01, model__subsample=0.6, n_splits=5, total= 9.3min\n",
      "[CV] model__colsample_bytree=0.7, model__max_depth=5, model__n_estimators=250, model__reg_alpha=0.03, model__subsample=0.6, n_splits=3 \n"
     ]
    },
    {
     "name": "stderr",
     "output_type": "stream",
     "text": [
      "100%|██████████| 2/2 [03:06<00:00, 93.43s/it]\n",
      " 75%|███████▌  | 3/4 [04:48<01:36, 96.01s/it]"
     ]
    },
    {
     "name": "stdout",
     "output_type": "stream",
     "text": [
      "[CV]  model__colsample_bytree=0.7, model__max_depth=5, model__n_estimators=250, model__reg_alpha=0.03, model__subsample=0.6, n_splits=2, total= 3.1min\n",
      "[CV] model__colsample_bytree=0.7, model__max_depth=5, model__n_estimators=250, model__reg_alpha=0.03, model__subsample=0.6, n_splits=3 \n"
     ]
    },
    {
     "name": "stderr",
     "output_type": "stream",
     "text": [
      "100%|██████████| 2/2 [03:12<00:00, 96.40s/it]\n"
     ]
    },
    {
     "name": "stdout",
     "output_type": "stream",
     "text": [
      "[CV]  model__colsample_bytree=0.7, model__max_depth=5, model__n_estimators=250, model__reg_alpha=0.03, model__subsample=0.6, n_splits=2, total= 3.2min\n",
      "[CV] model__colsample_bytree=0.7, model__max_depth=5, model__n_estimators=250, model__reg_alpha=0.03, model__subsample=0.6, n_splits=3 \n"
     ]
    },
    {
     "name": "stderr",
     "output_type": "stream",
     "text": [
      "100%|██████████| 2/2 [03:12<00:00, 96.47s/it]\n"
     ]
    },
    {
     "name": "stdout",
     "output_type": "stream",
     "text": [
      "[CV]  model__colsample_bytree=0.7, model__max_depth=5, model__n_estimators=250, model__reg_alpha=0.03, model__subsample=0.6, n_splits=2, total= 3.2min\n",
      "[CV] model__colsample_bytree=0.7, model__max_depth=5, model__n_estimators=250, model__reg_alpha=0.03, model__subsample=0.6, n_splits=4 \n"
     ]
    },
    {
     "name": "stderr",
     "output_type": "stream",
     "text": [
      "100%|██████████| 6/6 [09:07<00:00, 91.26s/it]\n",
      " 80%|████████  | 4/5 [06:05<01:31, 91.41s/it]"
     ]
    },
    {
     "name": "stdout",
     "output_type": "stream",
     "text": [
      "[CV]  model__colsample_bytree=0.7, model__max_depth=5, model__n_estimators=250, model__reg_alpha=0.03, model__subsample=0.4, n_splits=4, total= 9.1min\n",
      "[CV] model__colsample_bytree=0.7, model__max_depth=5, model__n_estimators=250, model__reg_alpha=0.03, model__subsample=0.6, n_splits=4 \n"
     ]
    },
    {
     "name": "stderr",
     "output_type": "stream",
     "text": [
      "100%|██████████| 4/4 [06:27<00:00, 96.78s/it]\n"
     ]
    },
    {
     "name": "stdout",
     "output_type": "stream",
     "text": [
      "[CV]  model__colsample_bytree=0.7, model__max_depth=5, model__n_estimators=250, model__reg_alpha=0.03, model__subsample=0.4, n_splits=4, total= 6.5min\n",
      "[CV] model__colsample_bytree=0.7, model__max_depth=5, model__n_estimators=250, model__reg_alpha=0.03, model__subsample=0.6, n_splits=4 \n"
     ]
    },
    {
     "name": "stderr",
     "output_type": "stream",
     "text": [
      "100%|██████████| 5/5 [07:39<00:00, 91.87s/it]\n"
     ]
    },
    {
     "name": "stdout",
     "output_type": "stream",
     "text": [
      "[CV]  model__colsample_bytree=0.7, model__max_depth=5, model__n_estimators=250, model__reg_alpha=0.03, model__subsample=0.4, n_splits=4, total= 7.7min\n",
      "[CV] model__colsample_bytree=0.7, model__max_depth=5, model__n_estimators=250, model__reg_alpha=0.03, model__subsample=0.6, n_splits=5 \n"
     ]
    },
    {
     "name": "stderr",
     "output_type": "stream",
     "text": [
      "100%|██████████| 3/3 [04:37<00:00, 92.45s/it]\n"
     ]
    },
    {
     "name": "stdout",
     "output_type": "stream",
     "text": [
      "[CV]  model__colsample_bytree=0.7, model__max_depth=5, model__n_estimators=250, model__reg_alpha=0.03, model__subsample=0.6, n_splits=3, total= 4.6min\n",
      "[CV] model__colsample_bytree=0.7, model__max_depth=5, model__n_estimators=250, model__reg_alpha=0.03, model__subsample=0.6, n_splits=5 \n"
     ]
    },
    {
     "name": "stderr",
     "output_type": "stream",
     "text": [
      "100%|██████████| 5/5 [07:38<00:00, 91.77s/it]\n",
      " 20%|██        | 1/5 [01:32<06:11, 92.79s/it]"
     ]
    },
    {
     "name": "stdout",
     "output_type": "stream",
     "text": [
      "[CV]  model__colsample_bytree=0.7, model__max_depth=5, model__n_estimators=250, model__reg_alpha=0.03, model__subsample=0.4, n_splits=5, total= 7.7min\n",
      "[CV] model__colsample_bytree=0.7, model__max_depth=5, model__n_estimators=250, model__reg_alpha=0.03, model__subsample=0.6, n_splits=5 \n"
     ]
    },
    {
     "name": "stderr",
     "output_type": "stream",
     "text": [
      "100%|██████████| 5/5 [07:47<00:00, 93.57s/it]\n"
     ]
    },
    {
     "name": "stdout",
     "output_type": "stream",
     "text": [
      "[CV]  model__colsample_bytree=0.7, model__max_depth=5, model__n_estimators=250, model__reg_alpha=0.03, model__subsample=0.4, n_splits=5, total= 7.8min\n",
      "[CV] model__colsample_bytree=0.7, model__max_depth=8, model__n_estimators=150, model__reg_alpha=0.01, model__subsample=0.4, n_splits=2 \n"
     ]
    },
    {
     "name": "stderr",
     "output_type": "stream",
     "text": [
      "100%|██████████| 6/6 [08:56<00:00, 89.46s/it]\n"
     ]
    },
    {
     "name": "stdout",
     "output_type": "stream",
     "text": [
      "[CV]  model__colsample_bytree=0.7, model__max_depth=5, model__n_estimators=250, model__reg_alpha=0.03, model__subsample=0.4, n_splits=5, total= 9.0min\n",
      "[CV] model__colsample_bytree=0.7, model__max_depth=8, model__n_estimators=150, model__reg_alpha=0.01, model__subsample=0.4, n_splits=2 \n"
     ]
    },
    {
     "name": "stderr",
     "output_type": "stream",
     "text": [
      "100%|██████████| 3/3 [04:38<00:00, 92.73s/it]\n"
     ]
    },
    {
     "name": "stdout",
     "output_type": "stream",
     "text": [
      "[CV]  model__colsample_bytree=0.7, model__max_depth=5, model__n_estimators=250, model__reg_alpha=0.03, model__subsample=0.6, n_splits=3, total= 4.6min\n",
      "[CV] model__colsample_bytree=0.7, model__max_depth=8, model__n_estimators=150, model__reg_alpha=0.01, model__subsample=0.4, n_splits=2 \n"
     ]
    },
    {
     "name": "stderr",
     "output_type": "stream",
     "text": [
      "100%|██████████| 3/3 [04:53<00:00, 97.97s/it]\n"
     ]
    },
    {
     "name": "stdout",
     "output_type": "stream",
     "text": [
      "[CV]  model__colsample_bytree=0.7, model__max_depth=5, model__n_estimators=250, model__reg_alpha=0.03, model__subsample=0.6, n_splits=3, total= 4.9min\n",
      "[CV] model__colsample_bytree=0.7, model__max_depth=8, model__n_estimators=150, model__reg_alpha=0.01, model__subsample=0.4, n_splits=3 \n"
     ]
    },
    {
     "name": "stderr",
     "output_type": "stream",
     "text": [
      "100%|██████████| 2/2 [03:25<00:00, 102.77s/it]\n"
     ]
    },
    {
     "name": "stdout",
     "output_type": "stream",
     "text": [
      "[CV]  model__colsample_bytree=0.7, model__max_depth=8, model__n_estimators=150, model__reg_alpha=0.01, model__subsample=0.4, n_splits=2, total= 3.4min\n",
      "[CV] model__colsample_bytree=0.7, model__max_depth=8, model__n_estimators=150, model__reg_alpha=0.01, model__subsample=0.4, n_splits=3 \n"
     ]
    },
    {
     "name": "stderr",
     "output_type": "stream",
     "text": [
      "100%|██████████| 2/2 [03:38<00:00, 109.13s/it]\n"
     ]
    },
    {
     "name": "stdout",
     "output_type": "stream",
     "text": [
      "[CV]  model__colsample_bytree=0.7, model__max_depth=8, model__n_estimators=150, model__reg_alpha=0.01, model__subsample=0.4, n_splits=2, total= 3.6min\n",
      "[CV] model__colsample_bytree=0.7, model__max_depth=8, model__n_estimators=150, model__reg_alpha=0.01, model__subsample=0.4, n_splits=3 \n"
     ]
    },
    {
     "name": "stderr",
     "output_type": "stream",
     "text": [
      "100%|██████████| 4/4 [06:24<00:00, 96.19s/it]\n"
     ]
    },
    {
     "name": "stdout",
     "output_type": "stream",
     "text": [
      "[CV]  model__colsample_bytree=0.7, model__max_depth=5, model__n_estimators=250, model__reg_alpha=0.03, model__subsample=0.6, n_splits=4, total= 6.4min\n",
      "[CV] model__colsample_bytree=0.7, model__max_depth=8, model__n_estimators=150, model__reg_alpha=0.01, model__subsample=0.4, n_splits=4 \n"
     ]
    },
    {
     "name": "stderr",
     "output_type": "stream",
     "text": [
      "100%|██████████| 2/2 [03:47<00:00, 113.84s/it]\n"
     ]
    },
    {
     "name": "stdout",
     "output_type": "stream",
     "text": [
      "[CV]  model__colsample_bytree=0.7, model__max_depth=8, model__n_estimators=150, model__reg_alpha=0.01, model__subsample=0.4, n_splits=2, total= 3.8min\n",
      "[CV] model__colsample_bytree=0.7, model__max_depth=8, model__n_estimators=150, model__reg_alpha=0.01, model__subsample=0.4, n_splits=4 \n"
     ]
    },
    {
     "name": "stderr",
     "output_type": "stream",
     "text": [
      "100%|██████████| 5/5 [07:49<00:00, 93.80s/it]]\n",
      " 80%|████████  | 4/5 [06:15<01:33, 93.82s/it]"
     ]
    },
    {
     "name": "stdout",
     "output_type": "stream",
     "text": [
      "[CV]  model__colsample_bytree=0.7, model__max_depth=5, model__n_estimators=250, model__reg_alpha=0.03, model__subsample=0.6, n_splits=4, total= 7.8min\n",
      "[CV] model__colsample_bytree=0.7, model__max_depth=8, model__n_estimators=150, model__reg_alpha=0.01, model__subsample=0.4, n_splits=4 \n"
     ]
    },
    {
     "name": "stderr",
     "output_type": "stream",
     "text": [
      "100%|██████████| 6/6 [09:02<00:00, 90.42s/it]\n",
      " 17%|█▋        | 1/6 [01:22<06:53, 82.79s/it]"
     ]
    },
    {
     "name": "stdout",
     "output_type": "stream",
     "text": [
      "[CV]  model__colsample_bytree=0.7, model__max_depth=5, model__n_estimators=250, model__reg_alpha=0.03, model__subsample=0.6, n_splits=4, total= 9.1min\n",
      "[CV] model__colsample_bytree=0.7, model__max_depth=8, model__n_estimators=150, model__reg_alpha=0.01, model__subsample=0.4, n_splits=5 \n"
     ]
    },
    {
     "name": "stderr",
     "output_type": "stream",
     "text": [
      "100%|██████████| 5/5 [07:48<00:00, 93.62s/it]]\n"
     ]
    },
    {
     "name": "stdout",
     "output_type": "stream",
     "text": [
      "[CV]  model__colsample_bytree=0.7, model__max_depth=5, model__n_estimators=250, model__reg_alpha=0.03, model__subsample=0.6, n_splits=5, total= 7.8min\n",
      "[CV] model__colsample_bytree=0.7, model__max_depth=8, model__n_estimators=150, model__reg_alpha=0.01, model__subsample=0.4, n_splits=5 \n"
     ]
    },
    {
     "name": "stderr",
     "output_type": "stream",
     "text": [
      "100%|██████████| 3/3 [05:13<00:00, 104.58s/it]\n"
     ]
    },
    {
     "name": "stdout",
     "output_type": "stream",
     "text": [
      "[CV]  model__colsample_bytree=0.7, model__max_depth=8, model__n_estimators=150, model__reg_alpha=0.01, model__subsample=0.4, n_splits=3, total= 5.2min\n",
      "[CV] model__colsample_bytree=0.7, model__max_depth=8, model__n_estimators=150, model__reg_alpha=0.01, model__subsample=0.4, n_splits=5 \n"
     ]
    },
    {
     "name": "stderr",
     "output_type": "stream",
     "text": [
      "100%|██████████| 6/6 [09:01<00:00, 90.19s/it]\n"
     ]
    },
    {
     "name": "stdout",
     "output_type": "stream",
     "text": [
      "[CV]  model__colsample_bytree=0.7, model__max_depth=5, model__n_estimators=250, model__reg_alpha=0.03, model__subsample=0.6, n_splits=5, total= 9.0min\n",
      "[CV] model__colsample_bytree=0.7, model__max_depth=8, model__n_estimators=150, model__reg_alpha=0.01, model__subsample=0.6, n_splits=2 \n"
     ]
    },
    {
     "name": "stderr",
     "output_type": "stream",
     "text": [
      "100%|██████████| 5/5 [07:50<00:00, 94.19s/it]\n"
     ]
    },
    {
     "name": "stdout",
     "output_type": "stream",
     "text": [
      "[CV]  model__colsample_bytree=0.7, model__max_depth=5, model__n_estimators=250, model__reg_alpha=0.03, model__subsample=0.6, n_splits=5, total= 7.9min\n",
      "[CV] model__colsample_bytree=0.7, model__max_depth=8, model__n_estimators=150, model__reg_alpha=0.01, model__subsample=0.6, n_splits=2 \n"
     ]
    },
    {
     "name": "stderr",
     "output_type": "stream",
     "text": [
      "100%|██████████| 3/3 [05:18<00:00, 106.03s/it]\n"
     ]
    },
    {
     "name": "stdout",
     "output_type": "stream",
     "text": [
      "[CV]  model__colsample_bytree=0.7, model__max_depth=8, model__n_estimators=150, model__reg_alpha=0.01, model__subsample=0.4, n_splits=3, total= 5.3min\n",
      "[CV] model__colsample_bytree=0.7, model__max_depth=8, model__n_estimators=150, model__reg_alpha=0.01, model__subsample=0.6, n_splits=2 \n"
     ]
    },
    {
     "name": "stderr",
     "output_type": "stream",
     "text": [
      "100%|██████████| 3/3 [05:25<00:00, 108.63s/it]\n"
     ]
    },
    {
     "name": "stdout",
     "output_type": "stream",
     "text": [
      "[CV]  model__colsample_bytree=0.7, model__max_depth=8, model__n_estimators=150, model__reg_alpha=0.01, model__subsample=0.4, n_splits=3, total= 5.4min\n",
      "[CV] model__colsample_bytree=0.7, model__max_depth=8, model__n_estimators=150, model__reg_alpha=0.01, model__subsample=0.6, n_splits=3 \n"
     ]
    },
    {
     "name": "stderr",
     "output_type": "stream",
     "text": [
      "100%|██████████| 2/2 [03:30<00:00, 105.28s/it]\n"
     ]
    },
    {
     "name": "stdout",
     "output_type": "stream",
     "text": [
      "[CV]  model__colsample_bytree=0.7, model__max_depth=8, model__n_estimators=150, model__reg_alpha=0.01, model__subsample=0.6, n_splits=2, total= 3.5min\n",
      "[CV] model__colsample_bytree=0.7, model__max_depth=8, model__n_estimators=150, model__reg_alpha=0.01, model__subsample=0.6, n_splits=3 \n"
     ]
    },
    {
     "name": "stderr",
     "output_type": "stream",
     "text": [
      "100%|██████████| 2/2 [03:42<00:00, 111.27s/it]\n"
     ]
    },
    {
     "name": "stdout",
     "output_type": "stream",
     "text": [
      "[CV]  model__colsample_bytree=0.7, model__max_depth=8, model__n_estimators=150, model__reg_alpha=0.01, model__subsample=0.6, n_splits=2, total= 3.7min\n",
      "[CV] model__colsample_bytree=0.7, model__max_depth=8, model__n_estimators=150, model__reg_alpha=0.01, model__subsample=0.6, n_splits=3 \n"
     ]
    },
    {
     "name": "stderr",
     "output_type": "stream",
     "text": [
      "100%|██████████| 2/2 [03:50<00:00, 115.24s/it]\n"
     ]
    },
    {
     "name": "stdout",
     "output_type": "stream",
     "text": [
      "[CV]  model__colsample_bytree=0.7, model__max_depth=8, model__n_estimators=150, model__reg_alpha=0.01, model__subsample=0.6, n_splits=2, total= 3.8min\n",
      "[CV] model__colsample_bytree=0.7, model__max_depth=8, model__n_estimators=150, model__reg_alpha=0.01, model__subsample=0.6, n_splits=4 \n"
     ]
    },
    {
     "name": "stderr",
     "output_type": "stream",
     "text": [
      "100%|██████████| 4/4 [07:27<00:00, 111.78s/it]\n"
     ]
    },
    {
     "name": "stdout",
     "output_type": "stream",
     "text": [
      "[CV]  model__colsample_bytree=0.7, model__max_depth=8, model__n_estimators=150, model__reg_alpha=0.01, model__subsample=0.4, n_splits=4, total= 7.5min\n",
      "[CV] model__colsample_bytree=0.7, model__max_depth=8, model__n_estimators=150, model__reg_alpha=0.01, model__subsample=0.6, n_splits=4 \n"
     ]
    },
    {
     "name": "stderr",
     "output_type": "stream",
     "text": [
      "100%|██████████| 5/5 [08:38<00:00, 103.76s/it]\n"
     ]
    },
    {
     "name": "stdout",
     "output_type": "stream",
     "text": [
      "[CV]  model__colsample_bytree=0.7, model__max_depth=8, model__n_estimators=150, model__reg_alpha=0.01, model__subsample=0.4, n_splits=4, total= 8.7min\n",
      "[CV] model__colsample_bytree=0.7, model__max_depth=8, model__n_estimators=150, model__reg_alpha=0.01, model__subsample=0.6, n_splits=4 \n"
     ]
    },
    {
     "name": "stderr",
     "output_type": "stream",
     "text": [
      "100%|██████████| 6/6 [09:48<00:00, 98.02s/it]]\n"
     ]
    },
    {
     "name": "stdout",
     "output_type": "stream",
     "text": [
      "[CV]  model__colsample_bytree=0.7, model__max_depth=8, model__n_estimators=150, model__reg_alpha=0.01, model__subsample=0.4, n_splits=4, total= 9.8min\n",
      "[CV] model__colsample_bytree=0.7, model__max_depth=8, model__n_estimators=150, model__reg_alpha=0.01, model__subsample=0.6, n_splits=5 \n"
     ]
    },
    {
     "name": "stderr",
     "output_type": "stream",
     "text": [
      "100%|██████████| 3/3 [05:08<00:00, 102.78s/it]\n"
     ]
    },
    {
     "name": "stdout",
     "output_type": "stream",
     "text": [
      "[CV]  model__colsample_bytree=0.7, model__max_depth=8, model__n_estimators=150, model__reg_alpha=0.01, model__subsample=0.6, n_splits=3, total= 5.1min\n",
      "[CV] model__colsample_bytree=0.7, model__max_depth=8, model__n_estimators=150, model__reg_alpha=0.01, model__subsample=0.6, n_splits=5 \n"
     ]
    },
    {
     "name": "stderr",
     "output_type": "stream",
     "text": [
      "100%|██████████| 5/5 [08:44<00:00, 104.94s/it]\n"
     ]
    },
    {
     "name": "stdout",
     "output_type": "stream",
     "text": [
      "[CV]  model__colsample_bytree=0.7, model__max_depth=8, model__n_estimators=150, model__reg_alpha=0.01, model__subsample=0.4, n_splits=5, total= 8.8min\n",
      "[CV] model__colsample_bytree=0.7, model__max_depth=8, model__n_estimators=150, model__reg_alpha=0.01, model__subsample=0.6, n_splits=5 \n"
     ]
    },
    {
     "name": "stderr",
     "output_type": "stream",
     "text": [
      "100%|██████████| 6/6 [09:39<00:00, 96.50s/it]\n"
     ]
    },
    {
     "name": "stdout",
     "output_type": "stream",
     "text": [
      "[CV]  model__colsample_bytree=0.7, model__max_depth=8, model__n_estimators=150, model__reg_alpha=0.01, model__subsample=0.4, n_splits=5, total= 9.7min\n",
      "[CV] model__colsample_bytree=0.7, model__max_depth=8, model__n_estimators=150, model__reg_alpha=0.03, model__subsample=0.4, n_splits=2 \n"
     ]
    },
    {
     "name": "stderr",
     "output_type": "stream",
     "text": [
      "100%|██████████| 3/3 [05:20<00:00, 106.75s/it]\n",
      "100%|██████████| 5/5 [09:11<00:00, 110.21s/it]\n"
     ]
    },
    {
     "name": "stdout",
     "output_type": "stream",
     "text": [
      "[CV]  model__colsample_bytree=0.7, model__max_depth=8, model__n_estimators=150, model__reg_alpha=0.01, model__subsample=0.6, n_splits=3, total= 5.3min\n",
      "[CV] model__colsample_bytree=0.7, model__max_depth=8, model__n_estimators=150, model__reg_alpha=0.03, model__subsample=0.4, n_splits=2 \n"
     ]
    },
    {
     "name": "stderr",
     "output_type": "stream",
     "text": [
      "\r",
      "  0%|          | 0/2 [00:00<?, ?it/s]"
     ]
    },
    {
     "name": "stdout",
     "output_type": "stream",
     "text": [
      "[CV]  model__colsample_bytree=0.7, model__max_depth=8, model__n_estimators=150, model__reg_alpha=0.01, model__subsample=0.4, n_splits=5, total= 9.2min\n",
      "[CV] model__colsample_bytree=0.7, model__max_depth=8, model__n_estimators=150, model__reg_alpha=0.03, model__subsample=0.4, n_splits=2 \n"
     ]
    },
    {
     "name": "stderr",
     "output_type": "stream",
     "text": [
      "100%|██████████| 3/3 [05:36<00:00, 112.02s/it]\n"
     ]
    },
    {
     "name": "stdout",
     "output_type": "stream",
     "text": [
      "[CV]  model__colsample_bytree=0.7, model__max_depth=8, model__n_estimators=150, model__reg_alpha=0.01, model__subsample=0.6, n_splits=3, total= 5.6min\n",
      "[CV] model__colsample_bytree=0.7, model__max_depth=8, model__n_estimators=150, model__reg_alpha=0.03, model__subsample=0.4, n_splits=3 \n"
     ]
    },
    {
     "name": "stderr",
     "output_type": "stream",
     "text": [
      "100%|██████████| 2/2 [03:30<00:00, 105.26s/it]\n",
      " 40%|████      | 2/5 [03:38<05:27, 109.06s/it]"
     ]
    },
    {
     "name": "stdout",
     "output_type": "stream",
     "text": [
      "[CV]  model__colsample_bytree=0.7, model__max_depth=8, model__n_estimators=150, model__reg_alpha=0.03, model__subsample=0.4, n_splits=2, total= 3.5min\n",
      "[CV] model__colsample_bytree=0.7, model__max_depth=8, model__n_estimators=150, model__reg_alpha=0.03, model__subsample=0.4, n_splits=3 \n"
     ]
    },
    {
     "name": "stderr",
     "output_type": "stream",
     "text": [
      "100%|██████████| 2/2 [03:40<00:00, 110.42s/it]\n"
     ]
    },
    {
     "name": "stdout",
     "output_type": "stream",
     "text": [
      "[CV]  model__colsample_bytree=0.7, model__max_depth=8, model__n_estimators=150, model__reg_alpha=0.03, model__subsample=0.4, n_splits=2, total= 3.7min\n",
      "[CV] model__colsample_bytree=0.7, model__max_depth=8, model__n_estimators=150, model__reg_alpha=0.03, model__subsample=0.4, n_splits=3 \n"
     ]
    },
    {
     "name": "stderr",
     "output_type": "stream",
     "text": [
      "100%|██████████| 2/2 [03:49<00:00, 114.73s/it]\n"
     ]
    },
    {
     "name": "stdout",
     "output_type": "stream",
     "text": [
      "[CV]  model__colsample_bytree=0.7, model__max_depth=8, model__n_estimators=150, model__reg_alpha=0.03, model__subsample=0.4, n_splits=2, total= 3.8min\n",
      "[CV] model__colsample_bytree=0.7, model__max_depth=8, model__n_estimators=150, model__reg_alpha=0.03, model__subsample=0.4, n_splits=4 \n"
     ]
    },
    {
     "name": "stderr",
     "output_type": "stream",
     "text": [
      "100%|██████████| 4/4 [07:23<00:00, 110.81s/it]\n"
     ]
    },
    {
     "name": "stdout",
     "output_type": "stream",
     "text": [
      "[CV]  model__colsample_bytree=0.7, model__max_depth=8, model__n_estimators=150, model__reg_alpha=0.01, model__subsample=0.6, n_splits=4, total= 7.4min\n",
      "[CV] model__colsample_bytree=0.7, model__max_depth=8, model__n_estimators=150, model__reg_alpha=0.03, model__subsample=0.4, n_splits=4 \n"
     ]
    },
    {
     "name": "stderr",
     "output_type": "stream",
     "text": [
      "100%|██████████| 3/3 [05:03<00:00, 101.08s/it]\n"
     ]
    },
    {
     "name": "stdout",
     "output_type": "stream",
     "text": [
      "[CV]  model__colsample_bytree=0.7, model__max_depth=8, model__n_estimators=150, model__reg_alpha=0.03, model__subsample=0.4, n_splits=3, total= 5.1min\n",
      "[CV] model__colsample_bytree=0.7, model__max_depth=8, model__n_estimators=150, model__reg_alpha=0.03, model__subsample=0.4, n_splits=4 \n"
     ]
    },
    {
     "name": "stderr",
     "output_type": "stream",
     "text": [
      "100%|██████████| 5/5 [08:55<00:00, 107.18s/it]\n"
     ]
    },
    {
     "name": "stdout",
     "output_type": "stream",
     "text": [
      "[CV]  model__colsample_bytree=0.7, model__max_depth=8, model__n_estimators=150, model__reg_alpha=0.01, model__subsample=0.6, n_splits=4, total= 8.9min\n",
      "[CV] model__colsample_bytree=0.7, model__max_depth=8, model__n_estimators=150, model__reg_alpha=0.03, model__subsample=0.4, n_splits=5 \n"
     ]
    },
    {
     "name": "stderr",
     "output_type": "stream",
     "text": [
      "100%|██████████| 6/6 [09:45<00:00, 97.59s/it]]\n",
      " 33%|███▎      | 2/6 [02:56<05:53, 88.34s/it]"
     ]
    },
    {
     "name": "stdout",
     "output_type": "stream",
     "text": [
      "[CV]  model__colsample_bytree=0.7, model__max_depth=8, model__n_estimators=150, model__reg_alpha=0.01, model__subsample=0.6, n_splits=4, total= 9.8min\n",
      "[CV] model__colsample_bytree=0.7, model__max_depth=8, model__n_estimators=150, model__reg_alpha=0.03, model__subsample=0.4, n_splits=5 \n"
     ]
    },
    {
     "name": "stderr",
     "output_type": "stream",
     "text": [
      "100%|██████████| 5/5 [08:39<00:00, 103.93s/it]\n"
     ]
    },
    {
     "name": "stdout",
     "output_type": "stream",
     "text": [
      "[CV]  model__colsample_bytree=0.7, model__max_depth=8, model__n_estimators=150, model__reg_alpha=0.01, model__subsample=0.6, n_splits=5, total= 8.7min\n"
     ]
    },
    {
     "name": "stderr",
     "output_type": "stream",
     "text": [
      "\r",
      " 25%|██▌       | 1/4 [01:42<05:08, 102.87s/it]"
     ]
    },
    {
     "name": "stdout",
     "output_type": "stream",
     "text": [
      "[CV] model__colsample_bytree=0.7, model__max_depth=8, model__n_estimators=150, model__reg_alpha=0.03, model__subsample=0.4, n_splits=5 \n"
     ]
    },
    {
     "name": "stderr",
     "output_type": "stream",
     "text": [
      "100%|██████████| 3/3 [05:17<00:00, 105.70s/it]\n",
      "100%|██████████| 6/6 [10:04<00:00, 100.70s/it]\n"
     ]
    },
    {
     "name": "stdout",
     "output_type": "stream",
     "text": [
      "[CV]  model__colsample_bytree=0.7, model__max_depth=8, model__n_estimators=150, model__reg_alpha=0.03, model__subsample=0.4, n_splits=3, total= 5.3min\n",
      "[CV] model__colsample_bytree=0.7, model__max_depth=8, model__n_estimators=150, model__reg_alpha=0.03, model__subsample=0.6, n_splits=2 \n"
     ]
    },
    {
     "name": "stderr",
     "output_type": "stream",
     "text": [
      "\r",
      "  0%|          | 0/2 [00:00<?, ?it/s]"
     ]
    },
    {
     "name": "stdout",
     "output_type": "stream",
     "text": [
      "[CV]  model__colsample_bytree=0.7, model__max_depth=8, model__n_estimators=150, model__reg_alpha=0.01, model__subsample=0.6, n_splits=5, total=10.1min\n",
      "[CV] model__colsample_bytree=0.7, model__max_depth=8, model__n_estimators=150, model__reg_alpha=0.03, model__subsample=0.6, n_splits=2 \n"
     ]
    },
    {
     "name": "stderr",
     "output_type": "stream",
     "text": [
      "100%|██████████| 5/5 [09:20<00:00, 112.15s/it]\n"
     ]
    },
    {
     "name": "stdout",
     "output_type": "stream",
     "text": [
      "[CV]  model__colsample_bytree=0.7, model__max_depth=8, model__n_estimators=150, model__reg_alpha=0.01, model__subsample=0.6, n_splits=5, total= 9.4min\n",
      "[CV] model__colsample_bytree=0.7, model__max_depth=8, model__n_estimators=150, model__reg_alpha=0.03, model__subsample=0.6, n_splits=2 \n"
     ]
    },
    {
     "name": "stderr",
     "output_type": "stream",
     "text": [
      "100%|██████████| 3/3 [05:30<00:00, 110.09s/it]\n"
     ]
    },
    {
     "name": "stdout",
     "output_type": "stream",
     "text": [
      "[CV]  model__colsample_bytree=0.7, model__max_depth=8, model__n_estimators=150, model__reg_alpha=0.03, model__subsample=0.4, n_splits=3, total= 5.5min\n",
      "[CV] model__colsample_bytree=0.7, model__max_depth=8, model__n_estimators=150, model__reg_alpha=0.03, model__subsample=0.6, n_splits=3 \n"
     ]
    },
    {
     "name": "stderr",
     "output_type": "stream",
     "text": [
      "100%|██████████| 2/2 [03:30<00:00, 105.06s/it]\n"
     ]
    },
    {
     "name": "stdout",
     "output_type": "stream",
     "text": [
      "[CV]  model__colsample_bytree=0.7, model__max_depth=8, model__n_estimators=150, model__reg_alpha=0.03, model__subsample=0.6, n_splits=2, total= 3.5min\n",
      "[CV] model__colsample_bytree=0.7, model__max_depth=8, model__n_estimators=150, model__reg_alpha=0.03, model__subsample=0.6, n_splits=3 \n"
     ]
    },
    {
     "name": "stderr",
     "output_type": "stream",
     "text": [
      "100%|██████████| 2/2 [03:43<00:00, 111.64s/it]\n"
     ]
    },
    {
     "name": "stdout",
     "output_type": "stream",
     "text": [
      "[CV]  model__colsample_bytree=0.7, model__max_depth=8, model__n_estimators=150, model__reg_alpha=0.03, model__subsample=0.6, n_splits=2, total= 3.7min\n",
      "[CV] model__colsample_bytree=0.7, model__max_depth=8, model__n_estimators=150, model__reg_alpha=0.03, model__subsample=0.6, n_splits=3 \n"
     ]
    },
    {
     "name": "stderr",
     "output_type": "stream",
     "text": [
      "100%|██████████| 2/2 [03:52<00:00, 116.48s/it]\n"
     ]
    },
    {
     "name": "stdout",
     "output_type": "stream",
     "text": [
      "[CV]  model__colsample_bytree=0.7, model__max_depth=8, model__n_estimators=150, model__reg_alpha=0.03, model__subsample=0.6, n_splits=2, total= 3.9min\n",
      "[CV] model__colsample_bytree=0.7, model__max_depth=8, model__n_estimators=150, model__reg_alpha=0.03, model__subsample=0.6, n_splits=4 \n"
     ]
    },
    {
     "name": "stderr",
     "output_type": "stream",
     "text": [
      "100%|██████████| 4/4 [07:23<00:00, 110.89s/it]\n"
     ]
    },
    {
     "name": "stdout",
     "output_type": "stream",
     "text": [
      "[CV]  model__colsample_bytree=0.7, model__max_depth=8, model__n_estimators=150, model__reg_alpha=0.03, model__subsample=0.4, n_splits=4, total= 7.4min\n",
      "[CV] model__colsample_bytree=0.7, model__max_depth=8, model__n_estimators=150, model__reg_alpha=0.03, model__subsample=0.6, n_splits=4 \n"
     ]
    },
    {
     "name": "stderr",
     "output_type": "stream",
     "text": [
      "100%|██████████| 5/5 [08:34<00:00, 102.80s/it]\n"
     ]
    },
    {
     "name": "stdout",
     "output_type": "stream",
     "text": [
      "[CV]  model__colsample_bytree=0.7, model__max_depth=8, model__n_estimators=150, model__reg_alpha=0.03, model__subsample=0.4, n_splits=4, total= 8.6min\n",
      "[CV] model__colsample_bytree=0.7, model__max_depth=8, model__n_estimators=150, model__reg_alpha=0.03, model__subsample=0.6, n_splits=4 \n"
     ]
    },
    {
     "name": "stderr",
     "output_type": "stream",
     "text": [
      "100%|██████████| 6/6 [09:48<00:00, 98.03s/it]]\n"
     ]
    },
    {
     "name": "stdout",
     "output_type": "stream",
     "text": [
      "[CV]  model__colsample_bytree=0.7, model__max_depth=8, model__n_estimators=150, model__reg_alpha=0.03, model__subsample=0.4, n_splits=4, total= 9.8min\n",
      "[CV] model__colsample_bytree=0.7, model__max_depth=8, model__n_estimators=150, model__reg_alpha=0.03, model__subsample=0.6, n_splits=5 \n"
     ]
    },
    {
     "name": "stderr",
     "output_type": "stream",
     "text": [
      "100%|██████████| 3/3 [05:04<00:00, 101.59s/it]\n"
     ]
    },
    {
     "name": "stdout",
     "output_type": "stream",
     "text": [
      "[CV]  model__colsample_bytree=0.7, model__max_depth=8, model__n_estimators=150, model__reg_alpha=0.03, model__subsample=0.6, n_splits=3, total= 5.1min\n",
      "[CV] model__colsample_bytree=0.7, model__max_depth=8, model__n_estimators=150, model__reg_alpha=0.03, model__subsample=0.6, n_splits=5 \n"
     ]
    },
    {
     "name": "stderr",
     "output_type": "stream",
     "text": [
      "100%|██████████| 5/5 [08:38<00:00, 103.66s/it]\n"
     ]
    },
    {
     "name": "stdout",
     "output_type": "stream",
     "text": [
      "[CV]  model__colsample_bytree=0.7, model__max_depth=8, model__n_estimators=150, model__reg_alpha=0.03, model__subsample=0.4, n_splits=5, total= 8.6min\n",
      "[CV] model__colsample_bytree=0.7, model__max_depth=8, model__n_estimators=150, model__reg_alpha=0.03, model__subsample=0.6, n_splits=5 \n"
     ]
    },
    {
     "name": "stderr",
     "output_type": "stream",
     "text": [
      "100%|██████████| 6/6 [09:51<00:00, 98.64s/it]]\n"
     ]
    },
    {
     "name": "stdout",
     "output_type": "stream",
     "text": [
      "[CV]  model__colsample_bytree=0.7, model__max_depth=8, model__n_estimators=150, model__reg_alpha=0.03, model__subsample=0.4, n_splits=5, total= 9.9min\n",
      "[CV] model__colsample_bytree=0.7, model__max_depth=8, model__n_estimators=250, model__reg_alpha=0.01, model__subsample=0.4, n_splits=2 \n"
     ]
    },
    {
     "name": "stderr",
     "output_type": "stream",
     "text": [
      "100%|██████████| 5/5 [08:55<00:00, 107.12s/it]\n"
     ]
    },
    {
     "name": "stdout",
     "output_type": "stream",
     "text": [
      "[CV]  model__colsample_bytree=0.7, model__max_depth=8, model__n_estimators=150, model__reg_alpha=0.03, model__subsample=0.4, n_splits=5, total= 8.9min\n",
      "[CV] model__colsample_bytree=0.7, model__max_depth=8, model__n_estimators=250, model__reg_alpha=0.01, model__subsample=0.4, n_splits=2 \n"
     ]
    },
    {
     "name": "stderr",
     "output_type": "stream",
     "text": [
      "100%|██████████| 3/3 [05:20<00:00, 107.00s/it]\n"
     ]
    },
    {
     "name": "stdout",
     "output_type": "stream",
     "text": [
      "[CV]  model__colsample_bytree=0.7, model__max_depth=8, model__n_estimators=150, model__reg_alpha=0.03, model__subsample=0.6, n_splits=3, total= 5.4min\n",
      "[CV] model__colsample_bytree=0.7, model__max_depth=8, model__n_estimators=250, model__reg_alpha=0.01, model__subsample=0.4, n_splits=2 \n"
     ]
    },
    {
     "name": "stderr",
     "output_type": "stream",
     "text": [
      "100%|██████████| 3/3 [05:42<00:00, 114.25s/it]\n"
     ]
    },
    {
     "name": "stdout",
     "output_type": "stream",
     "text": [
      "[CV]  model__colsample_bytree=0.7, model__max_depth=8, model__n_estimators=150, model__reg_alpha=0.03, model__subsample=0.6, n_splits=3, total= 5.7min\n",
      "[CV] model__colsample_bytree=0.7, model__max_depth=8, model__n_estimators=250, model__reg_alpha=0.01, model__subsample=0.4, n_splits=3 \n"
     ]
    },
    {
     "name": "stderr",
     "output_type": "stream",
     "text": [
      "100%|██████████| 4/4 [07:21<00:00, 110.33s/it]\n"
     ]
    },
    {
     "name": "stdout",
     "output_type": "stream",
     "text": [
      "[CV]  model__colsample_bytree=0.7, model__max_depth=8, model__n_estimators=150, model__reg_alpha=0.03, model__subsample=0.6, n_splits=4, total= 7.4min\n",
      "[CV] model__colsample_bytree=0.7, model__max_depth=8, model__n_estimators=250, model__reg_alpha=0.01, model__subsample=0.4, n_splits=3 \n"
     ]
    },
    {
     "name": "stderr",
     "output_type": "stream",
     "text": [
      "100%|██████████| 2/2 [05:47<00:00, 173.85s/it]\n"
     ]
    },
    {
     "name": "stdout",
     "output_type": "stream",
     "text": [
      "[CV]  model__colsample_bytree=0.7, model__max_depth=8, model__n_estimators=250, model__reg_alpha=0.01, model__subsample=0.4, n_splits=2, total= 5.8min\n",
      "[CV] model__colsample_bytree=0.7, model__max_depth=8, model__n_estimators=250, model__reg_alpha=0.01, model__subsample=0.4, n_splits=3 \n"
     ]
    },
    {
     "name": "stderr",
     "output_type": "stream",
     "text": [
      "100%|██████████| 5/5 [08:43<00:00, 104.76s/it]\n"
     ]
    },
    {
     "name": "stdout",
     "output_type": "stream",
     "text": [
      "[CV]  model__colsample_bytree=0.7, model__max_depth=8, model__n_estimators=150, model__reg_alpha=0.03, model__subsample=0.6, n_splits=4, total= 8.7min\n",
      "[CV] model__colsample_bytree=0.7, model__max_depth=8, model__n_estimators=250, model__reg_alpha=0.01, model__subsample=0.4, n_splits=4 \n"
     ]
    },
    {
     "name": "stderr",
     "output_type": "stream",
     "text": [
      "100%|██████████| 2/2 [05:53<00:00, 176.76s/it]\n"
     ]
    },
    {
     "name": "stdout",
     "output_type": "stream",
     "text": [
      "[CV]  model__colsample_bytree=0.7, model__max_depth=8, model__n_estimators=250, model__reg_alpha=0.01, model__subsample=0.4, n_splits=2, total= 5.9min\n",
      "[CV] model__colsample_bytree=0.7, model__max_depth=8, model__n_estimators=250, model__reg_alpha=0.01, model__subsample=0.4, n_splits=4 \n"
     ]
    },
    {
     "name": "stderr",
     "output_type": "stream",
     "text": [
      "100%|██████████| 6/6 [10:05<00:00, 100.88s/it]\n"
     ]
    },
    {
     "name": "stdout",
     "output_type": "stream",
     "text": [
      "[CV]  model__colsample_bytree=0.7, model__max_depth=8, model__n_estimators=150, model__reg_alpha=0.03, model__subsample=0.6, n_splits=4, total=10.1min\n",
      "[CV] model__colsample_bytree=0.7, model__max_depth=8, model__n_estimators=250, model__reg_alpha=0.01, model__subsample=0.4, n_splits=4 \n"
     ]
    },
    {
     "name": "stderr",
     "output_type": "stream",
     "text": [
      "100%|██████████| 5/5 [08:46<00:00, 105.37s/it]\n"
     ]
    },
    {
     "name": "stdout",
     "output_type": "stream",
     "text": [
      "[CV]  model__colsample_bytree=0.7, model__max_depth=8, model__n_estimators=150, model__reg_alpha=0.03, model__subsample=0.6, n_splits=5, total= 8.8min\n",
      "[CV] model__colsample_bytree=0.7, model__max_depth=8, model__n_estimators=250, model__reg_alpha=0.01, model__subsample=0.4, n_splits=5 \n"
     ]
    },
    {
     "name": "stderr",
     "output_type": "stream",
     "text": [
      "100%|██████████| 2/2 [06:11<00:00, 185.57s/it]\n"
     ]
    },
    {
     "name": "stdout",
     "output_type": "stream",
     "text": [
      "[CV]  model__colsample_bytree=0.7, model__max_depth=8, model__n_estimators=250, model__reg_alpha=0.01, model__subsample=0.4, n_splits=2, total= 6.2min\n",
      "[CV] model__colsample_bytree=0.7, model__max_depth=8, model__n_estimators=250, model__reg_alpha=0.01, model__subsample=0.4, n_splits=5 \n"
     ]
    },
    {
     "name": "stderr",
     "output_type": "stream",
     "text": [
      "100%|██████████| 6/6 [10:05<00:00, 100.91s/it]\n"
     ]
    },
    {
     "name": "stdout",
     "output_type": "stream",
     "text": [
      "[CV]  model__colsample_bytree=0.7, model__max_depth=8, model__n_estimators=150, model__reg_alpha=0.03, model__subsample=0.6, n_splits=5, total=10.1min\n",
      "[CV] model__colsample_bytree=0.7, model__max_depth=8, model__n_estimators=250, model__reg_alpha=0.01, model__subsample=0.4, n_splits=5 \n"
     ]
    },
    {
     "name": "stderr",
     "output_type": "stream",
     "text": [
      "100%|██████████| 5/5 [09:02<00:00, 108.51s/it]\n"
     ]
    },
    {
     "name": "stdout",
     "output_type": "stream",
     "text": [
      "[CV]  model__colsample_bytree=0.7, model__max_depth=8, model__n_estimators=150, model__reg_alpha=0.03, model__subsample=0.6, n_splits=5, total= 9.1min\n",
      "[CV] model__colsample_bytree=0.7, model__max_depth=8, model__n_estimators=250, model__reg_alpha=0.01, model__subsample=0.6, n_splits=2 \n"
     ]
    },
    {
     "name": "stderr",
     "output_type": "stream",
     "text": [
      "100%|██████████| 3/3 [08:25<00:00, 168.55s/it]\n"
     ]
    },
    {
     "name": "stdout",
     "output_type": "stream",
     "text": [
      "[CV]  model__colsample_bytree=0.7, model__max_depth=8, model__n_estimators=250, model__reg_alpha=0.01, model__subsample=0.4, n_splits=3, total= 8.4min\n",
      "[CV] model__colsample_bytree=0.7, model__max_depth=8, model__n_estimators=250, model__reg_alpha=0.01, model__subsample=0.6, n_splits=2 \n"
     ]
    },
    {
     "name": "stderr",
     "output_type": "stream",
     "text": [
      "100%|██████████| 3/3 [08:39<00:00, 173.22s/it]\n"
     ]
    },
    {
     "name": "stdout",
     "output_type": "stream",
     "text": [
      "[CV]  model__colsample_bytree=0.7, model__max_depth=8, model__n_estimators=250, model__reg_alpha=0.01, model__subsample=0.4, n_splits=3, total= 8.7min\n",
      "[CV] model__colsample_bytree=0.7, model__max_depth=8, model__n_estimators=250, model__reg_alpha=0.01, model__subsample=0.6, n_splits=2 \n"
     ]
    },
    {
     "name": "stderr",
     "output_type": "stream",
     "text": [
      "100%|██████████| 2/2 [05:44<00:00, 172.06s/it]\n"
     ]
    },
    {
     "name": "stdout",
     "output_type": "stream",
     "text": [
      "[CV]  model__colsample_bytree=0.7, model__max_depth=8, model__n_estimators=250, model__reg_alpha=0.01, model__subsample=0.6, n_splits=2, total= 5.7min\n",
      "[CV] model__colsample_bytree=0.7, model__max_depth=8, model__n_estimators=250, model__reg_alpha=0.01, model__subsample=0.6, n_splits=3 \n"
     ]
    },
    {
     "name": "stderr",
     "output_type": "stream",
     "text": [
      "100%|██████████| 3/3 [09:04<00:00, 181.40s/it]\n"
     ]
    },
    {
     "name": "stdout",
     "output_type": "stream",
     "text": [
      "[CV]  model__colsample_bytree=0.7, model__max_depth=8, model__n_estimators=250, model__reg_alpha=0.01, model__subsample=0.4, n_splits=3, total= 9.1min\n",
      "[CV] model__colsample_bytree=0.7, model__max_depth=8, model__n_estimators=250, model__reg_alpha=0.01, model__subsample=0.6, n_splits=3 \n"
     ]
    },
    {
     "name": "stderr",
     "output_type": "stream",
     "text": [
      "100%|██████████| 2/2 [06:03<00:00, 181.96s/it]\n"
     ]
    },
    {
     "name": "stdout",
     "output_type": "stream",
     "text": [
      "[CV]  model__colsample_bytree=0.7, model__max_depth=8, model__n_estimators=250, model__reg_alpha=0.01, model__subsample=0.6, n_splits=2, total= 6.1min\n",
      "[CV] model__colsample_bytree=0.7, model__max_depth=8, model__n_estimators=250, model__reg_alpha=0.01, model__subsample=0.6, n_splits=3 \n"
     ]
    },
    {
     "name": "stderr",
     "output_type": "stream",
     "text": [
      "100%|██████████| 4/4 [12:18<00:00, 184.53s/it]\n"
     ]
    },
    {
     "name": "stdout",
     "output_type": "stream",
     "text": [
      "[CV]  model__colsample_bytree=0.7, model__max_depth=8, model__n_estimators=250, model__reg_alpha=0.01, model__subsample=0.4, n_splits=4, total=12.3min\n",
      "[CV] model__colsample_bytree=0.7, model__max_depth=8, model__n_estimators=250, model__reg_alpha=0.01, model__subsample=0.6, n_splits=4 \n"
     ]
    },
    {
     "name": "stderr",
     "output_type": "stream",
     "text": [
      "100%|██████████| 2/2 [06:11<00:00, 185.90s/it]\n",
      " 67%|██████▋   | 2/3 [05:21<02:40, 160.74s/it]"
     ]
    },
    {
     "name": "stdout",
     "output_type": "stream",
     "text": [
      "[CV]  model__colsample_bytree=0.7, model__max_depth=8, model__n_estimators=250, model__reg_alpha=0.01, model__subsample=0.6, n_splits=2, total= 6.2min\n",
      "[CV] model__colsample_bytree=0.7, model__max_depth=8, model__n_estimators=250, model__reg_alpha=0.01, model__subsample=0.6, n_splits=4 \n"
     ]
    },
    {
     "name": "stderr",
     "output_type": "stream",
     "text": [
      "100%|██████████| 5/5 [14:01<00:00, 168.28s/it]\n"
     ]
    },
    {
     "name": "stdout",
     "output_type": "stream",
     "text": [
      "[CV]  model__colsample_bytree=0.7, model__max_depth=8, model__n_estimators=250, model__reg_alpha=0.01, model__subsample=0.4, n_splits=4, total=14.0min\n",
      "[CV] model__colsample_bytree=0.7, model__max_depth=8, model__n_estimators=250, model__reg_alpha=0.01, model__subsample=0.6, n_splits=4 \n"
     ]
    },
    {
     "name": "stderr",
     "output_type": "stream",
     "text": [
      "100%|██████████| 6/6 [15:34<00:00, 155.69s/it]\n"
     ]
    },
    {
     "name": "stdout",
     "output_type": "stream",
     "text": [
      "[CV]  model__colsample_bytree=0.7, model__max_depth=8, model__n_estimators=250, model__reg_alpha=0.01, model__subsample=0.4, n_splits=4, total=15.6min\n",
      "[CV] model__colsample_bytree=0.7, model__max_depth=8, model__n_estimators=250, model__reg_alpha=0.01, model__subsample=0.6, n_splits=5 \n"
     ]
    },
    {
     "name": "stderr",
     "output_type": "stream",
     "text": [
      "100%|██████████| 5/5 [14:08<00:00, 169.70s/it]\n",
      "  0%|          | 0/6 [00:00<?, ?it/s]"
     ]
    },
    {
     "name": "stdout",
     "output_type": "stream",
     "text": [
      "[CV]  model__colsample_bytree=0.7, model__max_depth=8, model__n_estimators=250, model__reg_alpha=0.01, model__subsample=0.4, n_splits=5, total=14.2min\n",
      "[CV] model__colsample_bytree=0.7, model__max_depth=8, model__n_estimators=250, model__reg_alpha=0.01, model__subsample=0.6, n_splits=5 \n"
     ]
    },
    {
     "name": "stderr",
     "output_type": "stream",
     "text": [
      "100%|██████████| 3/3 [08:12<00:00, 164.25s/it]\n"
     ]
    },
    {
     "name": "stdout",
     "output_type": "stream",
     "text": [
      "[CV]  model__colsample_bytree=0.7, model__max_depth=8, model__n_estimators=250, model__reg_alpha=0.01, model__subsample=0.6, n_splits=3, total= 8.2min\n",
      "[CV] model__colsample_bytree=0.7, model__max_depth=8, model__n_estimators=250, model__reg_alpha=0.01, model__subsample=0.6, n_splits=5 \n"
     ]
    },
    {
     "name": "stderr",
     "output_type": "stream",
     "text": [
      "100%|██████████| 6/6 [15:37<00:00, 156.28s/it]\n"
     ]
    },
    {
     "name": "stdout",
     "output_type": "stream",
     "text": [
      "[CV]  model__colsample_bytree=0.7, model__max_depth=8, model__n_estimators=250, model__reg_alpha=0.01, model__subsample=0.4, n_splits=5, total=15.6min\n",
      "[CV] model__colsample_bytree=0.7, model__max_depth=8, model__n_estimators=250, model__reg_alpha=0.03, model__subsample=0.4, n_splits=2 \n"
     ]
    },
    {
     "name": "stderr",
     "output_type": "stream",
     "text": [
      "100%|██████████| 5/5 [15:05<00:00, 181.14s/it]\n"
     ]
    },
    {
     "name": "stdout",
     "output_type": "stream",
     "text": [
      "[CV]  model__colsample_bytree=0.7, model__max_depth=8, model__n_estimators=250, model__reg_alpha=0.01, model__subsample=0.4, n_splits=5, total=15.1min\n",
      "[CV] model__colsample_bytree=0.7, model__max_depth=8, model__n_estimators=250, model__reg_alpha=0.03, model__subsample=0.4, n_splits=2 \n"
     ]
    },
    {
     "name": "stderr",
     "output_type": "stream",
     "text": [
      "100%|██████████| 3/3 [08:55<00:00, 178.46s/it]\n"
     ]
    },
    {
     "name": "stdout",
     "output_type": "stream",
     "text": [
      "[CV]  model__colsample_bytree=0.7, model__max_depth=8, model__n_estimators=250, model__reg_alpha=0.01, model__subsample=0.6, n_splits=3, total= 8.9min\n",
      "[CV] model__colsample_bytree=0.7, model__max_depth=8, model__n_estimators=250, model__reg_alpha=0.03, model__subsample=0.4, n_splits=2 \n"
     ]
    },
    {
     "name": "stderr",
     "output_type": "stream",
     "text": [
      "100%|██████████| 3/3 [09:20<00:00, 186.87s/it]\n"
     ]
    },
    {
     "name": "stdout",
     "output_type": "stream",
     "text": [
      "[CV]  model__colsample_bytree=0.7, model__max_depth=8, model__n_estimators=250, model__reg_alpha=0.01, model__subsample=0.6, n_splits=3, total= 9.4min\n",
      "[CV] model__colsample_bytree=0.7, model__max_depth=8, model__n_estimators=250, model__reg_alpha=0.03, model__subsample=0.4, n_splits=3 \n"
     ]
    },
    {
     "name": "stderr",
     "output_type": "stream",
     "text": [
      "100%|██████████| 2/2 [05:37<00:00, 168.59s/it]\n"
     ]
    },
    {
     "name": "stdout",
     "output_type": "stream",
     "text": [
      "[CV]  model__colsample_bytree=0.7, model__max_depth=8, model__n_estimators=250, model__reg_alpha=0.03, model__subsample=0.4, n_splits=2, total= 5.6min\n",
      "[CV] model__colsample_bytree=0.7, model__max_depth=8, model__n_estimators=250, model__reg_alpha=0.03, model__subsample=0.4, n_splits=3 \n"
     ]
    },
    {
     "name": "stderr",
     "output_type": "stream",
     "text": [
      "100%|██████████| 2/2 [06:07<00:00, 183.57s/it]\n"
     ]
    },
    {
     "name": "stdout",
     "output_type": "stream",
     "text": [
      "[CV]  model__colsample_bytree=0.7, model__max_depth=8, model__n_estimators=250, model__reg_alpha=0.03, model__subsample=0.4, n_splits=2, total= 6.1min\n",
      "[CV] model__colsample_bytree=0.7, model__max_depth=8, model__n_estimators=250, model__reg_alpha=0.03, model__subsample=0.4, n_splits=3 \n"
     ]
    },
    {
     "name": "stderr",
     "output_type": "stream",
     "text": [
      "100%|██████████| 2/2 [06:22<00:00, 191.20s/it]\n"
     ]
    },
    {
     "name": "stdout",
     "output_type": "stream",
     "text": [
      "[CV]  model__colsample_bytree=0.7, model__max_depth=8, model__n_estimators=250, model__reg_alpha=0.03, model__subsample=0.4, n_splits=2, total= 6.4min\n",
      "[CV] model__colsample_bytree=0.7, model__max_depth=8, model__n_estimators=250, model__reg_alpha=0.03, model__subsample=0.4, n_splits=4 \n"
     ]
    },
    {
     "name": "stderr",
     "output_type": "stream",
     "text": [
      "100%|██████████| 4/4 [11:59<00:00, 179.81s/it]\n"
     ]
    },
    {
     "name": "stdout",
     "output_type": "stream",
     "text": [
      "[CV]  model__colsample_bytree=0.7, model__max_depth=8, model__n_estimators=250, model__reg_alpha=0.01, model__subsample=0.6, n_splits=4, total=12.0min\n",
      "[CV] model__colsample_bytree=0.7, model__max_depth=8, model__n_estimators=250, model__reg_alpha=0.03, model__subsample=0.4, n_splits=4 \n"
     ]
    },
    {
     "name": "stderr",
     "output_type": "stream",
     "text": [
      "100%|██████████| 5/5 [14:05<00:00, 169.12s/it]\n"
     ]
    },
    {
     "name": "stdout",
     "output_type": "stream",
     "text": [
      "[CV]  model__colsample_bytree=0.7, model__max_depth=8, model__n_estimators=250, model__reg_alpha=0.01, model__subsample=0.6, n_splits=4, total=14.1min\n",
      "[CV] model__colsample_bytree=0.7, model__max_depth=8, model__n_estimators=250, model__reg_alpha=0.03, model__subsample=0.4, n_splits=4 \n"
     ]
    },
    {
     "name": "stderr",
     "output_type": "stream",
     "text": [
      "100%|██████████| 3/3 [08:28<00:00, 169.46s/it]\n"
     ]
    },
    {
     "name": "stdout",
     "output_type": "stream",
     "text": [
      "[CV]  model__colsample_bytree=0.7, model__max_depth=8, model__n_estimators=250, model__reg_alpha=0.03, model__subsample=0.4, n_splits=3, total= 8.5min\n",
      "[CV] model__colsample_bytree=0.7, model__max_depth=8, model__n_estimators=250, model__reg_alpha=0.03, model__subsample=0.4, n_splits=5 \n"
     ]
    },
    {
     "name": "stderr",
     "output_type": "stream",
     "text": [
      "100%|██████████| 6/6 [16:21<00:00, 163.52s/it]\n"
     ]
    },
    {
     "name": "stdout",
     "output_type": "stream",
     "text": [
      "[CV]  model__colsample_bytree=0.7, model__max_depth=8, model__n_estimators=250, model__reg_alpha=0.01, model__subsample=0.6, n_splits=4, total=16.4min\n",
      "[CV] model__colsample_bytree=0.7, model__max_depth=8, model__n_estimators=250, model__reg_alpha=0.03, model__subsample=0.4, n_splits=5 \n"
     ]
    },
    {
     "name": "stderr",
     "output_type": "stream",
     "text": [
      "100%|██████████| 5/5 [14:09<00:00, 169.88s/it]\n"
     ]
    },
    {
     "name": "stdout",
     "output_type": "stream",
     "text": [
      "[CV]  model__colsample_bytree=0.7, model__max_depth=8, model__n_estimators=250, model__reg_alpha=0.01, model__subsample=0.6, n_splits=5, total=14.2min\n",
      "[CV] model__colsample_bytree=0.7, model__max_depth=8, model__n_estimators=250, model__reg_alpha=0.03, model__subsample=0.4, n_splits=5 \n"
     ]
    },
    {
     "name": "stderr",
     "output_type": "stream",
     "text": [
      "100%|██████████| 3/3 [08:37<00:00, 172.51s/it]\n"
     ]
    },
    {
     "name": "stdout",
     "output_type": "stream",
     "text": [
      "[CV]  model__colsample_bytree=0.7, model__max_depth=8, model__n_estimators=250, model__reg_alpha=0.03, model__subsample=0.4, n_splits=3, total= 8.6min\n",
      "[CV] model__colsample_bytree=0.7, model__max_depth=8, model__n_estimators=250, model__reg_alpha=0.03, model__subsample=0.6, n_splits=2 \n"
     ]
    },
    {
     "name": "stderr",
     "output_type": "stream",
     "text": [
      "100%|██████████| 6/6 [15:48<00:00, 158.08s/it]\n"
     ]
    },
    {
     "name": "stdout",
     "output_type": "stream",
     "text": [
      "[CV]  model__colsample_bytree=0.7, model__max_depth=8, model__n_estimators=250, model__reg_alpha=0.01, model__subsample=0.6, n_splits=5, total=15.8min\n",
      "[CV] model__colsample_bytree=0.7, model__max_depth=8, model__n_estimators=250, model__reg_alpha=0.03, model__subsample=0.6, n_splits=2 \n"
     ]
    },
    {
     "name": "stderr",
     "output_type": "stream",
     "text": [
      "100%|██████████| 5/5 [14:51<00:00, 178.24s/it]\n"
     ]
    },
    {
     "name": "stdout",
     "output_type": "stream",
     "text": [
      "[CV]  model__colsample_bytree=0.7, model__max_depth=8, model__n_estimators=250, model__reg_alpha=0.01, model__subsample=0.6, n_splits=5, total=14.9min\n",
      "[CV] model__colsample_bytree=0.7, model__max_depth=8, model__n_estimators=250, model__reg_alpha=0.03, model__subsample=0.6, n_splits=2 \n"
     ]
    },
    {
     "name": "stderr",
     "output_type": "stream",
     "text": [
      "100%|██████████| 3/3 [09:17<00:00, 185.97s/it]\n"
     ]
    },
    {
     "name": "stdout",
     "output_type": "stream",
     "text": [
      "[CV]  model__colsample_bytree=0.7, model__max_depth=8, model__n_estimators=250, model__reg_alpha=0.03, model__subsample=0.4, n_splits=3, total= 9.3min\n",
      "[CV] model__colsample_bytree=0.7, model__max_depth=8, model__n_estimators=250, model__reg_alpha=0.03, model__subsample=0.6, n_splits=3 \n"
     ]
    },
    {
     "name": "stderr",
     "output_type": "stream",
     "text": [
      "100%|██████████| 2/2 [05:40<00:00, 170.50s/it]\n"
     ]
    },
    {
     "name": "stdout",
     "output_type": "stream",
     "text": [
      "[CV]  model__colsample_bytree=0.7, model__max_depth=8, model__n_estimators=250, model__reg_alpha=0.03, model__subsample=0.6, n_splits=2, total= 5.7min\n",
      "[CV] model__colsample_bytree=0.7, model__max_depth=8, model__n_estimators=250, model__reg_alpha=0.03, model__subsample=0.6, n_splits=3 \n"
     ]
    },
    {
     "name": "stderr",
     "output_type": "stream",
     "text": [
      "100%|██████████| 2/2 [05:56<00:00, 178.17s/it]\n"
     ]
    },
    {
     "name": "stdout",
     "output_type": "stream",
     "text": [
      "[CV]  model__colsample_bytree=0.7, model__max_depth=8, model__n_estimators=250, model__reg_alpha=0.03, model__subsample=0.6, n_splits=2, total= 5.9min\n",
      "[CV] model__colsample_bytree=0.7, model__max_depth=8, model__n_estimators=250, model__reg_alpha=0.03, model__subsample=0.6, n_splits=3 \n"
     ]
    },
    {
     "name": "stderr",
     "output_type": "stream",
     "text": [
      "100%|██████████| 2/2 [06:15<00:00, 187.83s/it]\n"
     ]
    },
    {
     "name": "stdout",
     "output_type": "stream",
     "text": [
      "[CV]  model__colsample_bytree=0.7, model__max_depth=8, model__n_estimators=250, model__reg_alpha=0.03, model__subsample=0.6, n_splits=2, total= 6.3min\n",
      "[CV] model__colsample_bytree=0.7, model__max_depth=8, model__n_estimators=250, model__reg_alpha=0.03, model__subsample=0.6, n_splits=4 \n"
     ]
    },
    {
     "name": "stderr",
     "output_type": "stream",
     "text": [
      "100%|██████████| 4/4 [12:02<00:00, 180.64s/it]\n"
     ]
    },
    {
     "name": "stdout",
     "output_type": "stream",
     "text": [
      "[CV]  model__colsample_bytree=0.7, model__max_depth=8, model__n_estimators=250, model__reg_alpha=0.03, model__subsample=0.4, n_splits=4, total=12.1min\n",
      "[CV] model__colsample_bytree=0.7, model__max_depth=8, model__n_estimators=250, model__reg_alpha=0.03, model__subsample=0.6, n_splits=4 \n"
     ]
    },
    {
     "name": "stderr",
     "output_type": "stream",
     "text": [
      "100%|██████████| 6/6 [16:05<00:00, 160.92s/it]\n"
     ]
    },
    {
     "name": "stdout",
     "output_type": "stream",
     "text": [
      "[CV]  model__colsample_bytree=0.7, model__max_depth=8, model__n_estimators=250, model__reg_alpha=0.03, model__subsample=0.4, n_splits=4, total=16.1min\n",
      "[CV] model__colsample_bytree=0.7, model__max_depth=8, model__n_estimators=250, model__reg_alpha=0.03, model__subsample=0.6, n_splits=4 \n"
     ]
    },
    {
     "name": "stderr",
     "output_type": "stream",
     "text": [
      "100%|██████████| 5/5 [14:06<00:00, 169.25s/it]\n"
     ]
    },
    {
     "name": "stdout",
     "output_type": "stream",
     "text": [
      "[CV]  model__colsample_bytree=0.7, model__max_depth=8, model__n_estimators=250, model__reg_alpha=0.03, model__subsample=0.4, n_splits=4, total=14.1min\n",
      "[CV] model__colsample_bytree=0.7, model__max_depth=8, model__n_estimators=250, model__reg_alpha=0.03, model__subsample=0.6, n_splits=5 \n"
     ]
    },
    {
     "name": "stderr",
     "output_type": "stream",
     "text": [
      "100%|██████████| 3/3 [08:33<00:00, 171.15s/it]\n"
     ]
    },
    {
     "name": "stdout",
     "output_type": "stream",
     "text": [
      "[CV]  model__colsample_bytree=0.7, model__max_depth=8, model__n_estimators=250, model__reg_alpha=0.03, model__subsample=0.6, n_splits=3, total= 8.6min\n",
      "[CV] model__colsample_bytree=0.7, model__max_depth=8, model__n_estimators=250, model__reg_alpha=0.03, model__subsample=0.6, n_splits=5 \n"
     ]
    },
    {
     "name": "stderr",
     "output_type": "stream",
     "text": [
      "100%|██████████| 5/5 [14:24<00:00, 172.95s/it]\n"
     ]
    },
    {
     "name": "stdout",
     "output_type": "stream",
     "text": [
      "[CV]  model__colsample_bytree=0.7, model__max_depth=8, model__n_estimators=250, model__reg_alpha=0.03, model__subsample=0.4, n_splits=5, total=14.4min\n",
      "[CV] model__colsample_bytree=0.7, model__max_depth=8, model__n_estimators=250, model__reg_alpha=0.03, model__subsample=0.6, n_splits=5 \n"
     ]
    },
    {
     "name": "stderr",
     "output_type": "stream",
     "text": [
      "100%|██████████| 6/6 [16:00<00:00, 160.00s/it]\n"
     ]
    },
    {
     "name": "stdout",
     "output_type": "stream",
     "text": [
      "[CV]  model__colsample_bytree=0.7, model__max_depth=8, model__n_estimators=250, model__reg_alpha=0.03, model__subsample=0.4, n_splits=5, total=16.0min\n"
     ]
    },
    {
     "name": "stderr",
     "output_type": "stream",
     "text": [
      "100%|██████████| 5/5 [14:44<00:00, 176.84s/it]\n"
     ]
    },
    {
     "name": "stdout",
     "output_type": "stream",
     "text": [
      "[CV]  model__colsample_bytree=0.7, model__max_depth=8, model__n_estimators=250, model__reg_alpha=0.03, model__subsample=0.4, n_splits=5, total=14.8min\n"
     ]
    },
    {
     "name": "stderr",
     "output_type": "stream",
     "text": [
      "100%|██████████| 3/3 [08:16<00:00, 165.36s/it]\n"
     ]
    },
    {
     "name": "stdout",
     "output_type": "stream",
     "text": [
      "[CV]  model__colsample_bytree=0.7, model__max_depth=8, model__n_estimators=250, model__reg_alpha=0.03, model__subsample=0.6, n_splits=3, total= 8.3min\n"
     ]
    },
    {
     "name": "stderr",
     "output_type": "stream",
     "text": [
      "100%|██████████| 3/3 [07:57<00:00, 159.10s/it]\n"
     ]
    },
    {
     "name": "stdout",
     "output_type": "stream",
     "text": [
      "[CV]  model__colsample_bytree=0.7, model__max_depth=8, model__n_estimators=250, model__reg_alpha=0.03, model__subsample=0.6, n_splits=3, total= 8.0min\n"
     ]
    },
    {
     "name": "stderr",
     "output_type": "stream",
     "text": [
      "100%|██████████| 6/6 [08:12<00:00, 82.16s/it]]\n"
     ]
    },
    {
     "name": "stdout",
     "output_type": "stream",
     "text": [
      "[CV]  model__colsample_bytree=0.7, model__max_depth=8, model__n_estimators=250, model__reg_alpha=0.03, model__subsample=0.6, n_splits=4, total= 8.2min\n"
     ]
    },
    {
     "name": "stderr",
     "output_type": "stream",
     "text": [
      "100%|██████████| 5/5 [06:05<00:00, 73.11s/it]\n"
     ]
    },
    {
     "name": "stdout",
     "output_type": "stream",
     "text": [
      "[CV]  model__colsample_bytree=0.7, model__max_depth=8, model__n_estimators=250, model__reg_alpha=0.03, model__subsample=0.6, n_splits=4, total= 6.1min\n"
     ]
    },
    {
     "name": "stderr",
     "output_type": "stream",
     "text": [
      "100%|██████████| 4/4 [05:39<00:00, 84.77s/it] \n",
      "100%|██████████| 6/6 [05:31<00:00, 55.19s/it]\n"
     ]
    },
    {
     "name": "stdout",
     "output_type": "stream",
     "text": [
      "[CV]  model__colsample_bytree=0.7, model__max_depth=8, model__n_estimators=250, model__reg_alpha=0.03, model__subsample=0.6, n_splits=5, total= 5.5min\n",
      "[CV]  model__colsample_bytree=0.7, model__max_depth=8, model__n_estimators=250, model__reg_alpha=0.03, model__subsample=0.6, n_splits=4, total= 5.7min\n"
     ]
    },
    {
     "name": "stderr",
     "output_type": "stream",
     "text": [
      "100%|██████████| 5/5 [05:04<00:00, 60.93s/it]\n",
      " 80%|████████  | 4/5 [02:12<00:33, 33.17s/it]"
     ]
    },
    {
     "name": "stdout",
     "output_type": "stream",
     "text": [
      "[CV]  model__colsample_bytree=0.7, model__max_depth=8, model__n_estimators=250, model__reg_alpha=0.03, model__subsample=0.6, n_splits=5, total= 5.1min\n"
     ]
    },
    {
     "name": "stderr",
     "output_type": "stream",
     "text": [
      "100%|██████████| 5/5 [02:14<00:00, 26.97s/it]\n"
     ]
    },
    {
     "name": "stdout",
     "output_type": "stream",
     "text": [
      "[CV]  model__colsample_bytree=0.7, model__max_depth=8, model__n_estimators=250, model__reg_alpha=0.03, model__subsample=0.6, n_splits=5, total= 2.3min\n"
     ]
    },
    {
     "name": "stderr",
     "output_type": "stream",
     "text": [
      "[Parallel(n_jobs=10)]: Done 576 out of 576 | elapsed: 297.7min finished\n",
      "100%|██████████| 2/2 [00:03<00:00,  1.58s/it]"
     ]
    },
    {
     "name": "stdout",
     "output_type": "stream",
     "text": [
      "forget_model(balance=None,\n",
      "       model=XGBClassifier(base_score=0.5, booster='gbtree', colsample_bylevel=1,\n",
      "       colsample_bytree=0.7, gamma=0, learning_rate=0.1, max_delta_step=0,\n",
      "       max_depth=5, min_child_weight=1, missing=None, n_estimators=150,\n",
      "       n_jobs=10, nthread=None, objective='binary:logistic',\n",
      "       random_state=0, reg_alpha=0.01, reg_lambda=1, scale_pos_weight=1,\n",
      "       seed=None, silent=True, subsample=0.6),\n",
      "       n_splits=2)\n"
     ]
    },
    {
     "name": "stderr",
     "output_type": "stream",
     "text": [
      "\n"
     ]
    }
   ],
   "source": [
    "print('Model with grid search')\n",
    "# \n",
    "params={\n",
    "    'model__max_depth': [3, 5, 8], \n",
    "    'model__subsample': [0.4, 0.6], \n",
    "    'model__colsample_bytree': [0.5, 0.7], \n",
    "    'model__n_estimators': [150, 250],\n",
    "    'model__reg_alpha': [0.01, 0.03], \n",
    "    'n_splits': [2, 3,4,5] \n",
    "}\n",
    "\n",
    "model = forget_model(model=XGBClassifier(n_jobs=10))\n",
    "rs = GridSearchCV(model,\n",
    "                  params,\n",
    "                  cv=completed_TS_cv,\n",
    "                  scoring=\"neg_log_loss\",\n",
    "                  n_jobs=10,\n",
    "                  verbose=2)\n",
    "\n",
    "rs.fit(X_train_id.values, y_train)\n",
    "best_est = rs.best_estimator_\n",
    "print(best_est)"
   ]
  },
  {
   "cell_type": "markdown",
   "metadata": {},
   "source": [
    "Проверка качества модели на валидации:"
   ]
  },
  {
   "cell_type": "code",
   "execution_count": 261,
   "metadata": {},
   "outputs": [
    {
     "data": {
      "text/plain": [
       "{'base_score': 0.5,\n",
       " 'booster': 'gbtree',\n",
       " 'colsample_bylevel': 1,\n",
       " 'colsample_bytree': 0.7,\n",
       " 'gamma': 0,\n",
       " 'learning_rate': 0.1,\n",
       " 'max_delta_step': 0,\n",
       " 'max_depth': 5,\n",
       " 'min_child_weight': 1,\n",
       " 'missing': None,\n",
       " 'n_estimators': 150,\n",
       " 'n_jobs': 10,\n",
       " 'nthread': None,\n",
       " 'objective': 'binary:logistic',\n",
       " 'random_state': 0,\n",
       " 'reg_alpha': 0.01,\n",
       " 'reg_lambda': 1,\n",
       " 'scale_pos_weight': 1,\n",
       " 'seed': None,\n",
       " 'silent': True,\n",
       " 'subsample': 0.6}"
      ]
     },
     "execution_count": 261,
     "metadata": {},
     "output_type": "execute_result"
    }
   ],
   "source": [
    "best_est.model.get_params()"
   ]
  },
  {
   "cell_type": "code",
   "execution_count": 291,
   "metadata": {},
   "outputs": [
    {
     "data": {
      "text/plain": [
       "{'base_score': 0.5,\n",
       " 'booster': 'gbtree',\n",
       " 'colsample_bylevel': 1,\n",
       " 'colsample_bytree': 0.5,\n",
       " 'gamma': 0,\n",
       " 'learning_rate': 0.1,\n",
       " 'max_delta_step': 0,\n",
       " 'max_depth': 8,\n",
       " 'min_child_weight': 1,\n",
       " 'missing': None,\n",
       " 'n_estimators': 150,\n",
       " 'n_jobs': 10,\n",
       " 'nthread': None,\n",
       " 'objective': 'binary:logistic',\n",
       " 'random_state': 0,\n",
       " 'reg_alpha': 0.01,\n",
       " 'reg_lambda': 1,\n",
       " 'scale_pos_weight': 1,\n",
       " 'seed': None,\n",
       " 'silent': True,\n",
       " 'subsample': 0.6}"
      ]
     },
     "execution_count": 291,
     "metadata": {},
     "output_type": "execute_result"
    }
   ],
   "source": [
    " best_est.named_steps.xgb.get_params()"
   ]
  },
  {
   "cell_type": "code",
   "execution_count": 288,
   "metadata": {},
   "outputs": [
    {
     "name": "stderr",
     "output_type": "stream",
     "text": [
      "100%|██████████| 1/1 [00:04<00:00,  4.30s/it]\n"
     ]
    }
   ],
   "source": [
    "#forg_m = best_est.named_steps.xgb\n",
    "forg_m = forget_model(model=XGBClassifier(), n_splits=1)\n",
    "forg_m.fit(X_train_id.values, y_train)"
   ]
  },
  {
   "cell_type": "code",
   "execution_count": 289,
   "metadata": {},
   "outputs": [
    {
     "name": "stderr",
     "output_type": "stream",
     "text": [
      "/home/alex/anaconda3/lib/python3.6/site-packages/sklearn/preprocessing/label.py:151: DeprecationWarning: The truth value of an empty array is ambiguous. Returning False, but in future this will result in an error. Use `array.size > 0` to check that an array is not empty.\n",
      "  if diff:\n"
     ]
    }
   ],
   "source": [
    "preds_proba = forg_m.predict_proba(X_val)\n",
    "preds = forg_m.predict(X_val)"
   ]
  },
  {
   "cell_type": "code",
   "execution_count": 290,
   "metadata": {},
   "outputs": [
    {
     "data": {
      "image/png": "[encoded data removed]",
      "text/plain": [
       "<matplotlib.figure.Figure at 0x7f2e2dda0a20>"
      ]
     },
     "metadata": {},
     "output_type": "display_data"
    },
    {
     "data": {
      "text/plain": [
       "0.7039903901884286"
      ]
     },
     "execution_count": 290,
     "metadata": {},
     "output_type": "execute_result"
    }
   ],
   "source": [
    "average_precision = average_precision_score(y_val, preds)\n",
    "precision, recall, thresholds = precision_recall_curve(y_val, preds_proba[:, 1])\n",
    "\n",
    "plt.step(recall, precision, color='b', alpha=0.2,\n",
    "         where='post')\n",
    "plt.fill_between(recall, precision, step='post', alpha=0.2,\n",
    "                 color='b')\n",
    "\n",
    "plt.xlabel('Recall')\n",
    "plt.ylabel('Precision')\n",
    "plt.ylim([0.0, 1.05])\n",
    "plt.xlim([0.0, 1.0])\n",
    "plt.title('2-class Precision-Recall curve: AP={0:0.2f}'.format(\n",
    "          average_precision))\n",
    "plt.show()\n",
    "\n",
    "metrics.auc(recall, precision)"
   ]
  },
  {
   "cell_type": "code",
   "execution_count": 241,
   "metadata": {},
   "outputs": [],
   "source": [
    "import shap"
   ]
  },
  {
   "cell_type": "code",
   "execution_count": 293,
   "metadata": {},
   "outputs": [
    {
     "name": "stderr",
     "output_type": "stream",
     "text": [
      "  0%|          | 0/2 [00:00<?, ?it/s]\n"
     ]
    },
    {
     "ename": "TypeError",
     "evalue": "unsupported operand type(s) for -: 'str' and 'str'",
     "output_type": "error",
     "traceback": [
      "\u001b[0;31m---------------------------------------------------------------------------\u001b[0m",
      "\u001b[0;31mTypeError\u001b[0m                                 Traceback (most recent call last)",
      "\u001b[0;32m<ipython-input-293-89d2f25a3b10>\u001b[0m in \u001b[0;36m<module>\u001b[0;34m()\u001b[0m\n\u001b[1;32m      7\u001b[0m                                 )\n\u001b[1;32m      8\u001b[0m \u001b[0;34m\u001b[0m\u001b[0m\n\u001b[0;32m----> 9\u001b[0;31m \u001b[0mshap_values\u001b[0m \u001b[0;34m=\u001b[0m \u001b[0mexplainer\u001b[0m\u001b[0;34m.\u001b[0m\u001b[0mshap_values\u001b[0m\u001b[0;34m(\u001b[0m\u001b[0mX_val\u001b[0m\u001b[0;34m.\u001b[0m\u001b[0miloc\u001b[0m\u001b[0;34m[\u001b[0m\u001b[0;34m[\u001b[0m\u001b[0mfraud_ind\u001b[0m\u001b[0;34m,\u001b[0m \u001b[0mnon_fr\u001b[0m\u001b[0;34m]\u001b[0m\u001b[0;34m,\u001b[0m \u001b[0;34m:\u001b[0m\u001b[0;34m]\u001b[0m\u001b[0;34m,\u001b[0m \u001b[0mnsamples\u001b[0m\u001b[0;34m=\u001b[0m\u001b[0;36m100\u001b[0m\u001b[0;34m)\u001b[0m\u001b[0;34m\u001b[0m\u001b[0m\n\u001b[0m",
      "\u001b[0;32m~/anaconda3/lib/python3.6/site-packages/shap/explainer.py\u001b[0m in \u001b[0;36mshap_values\u001b[0;34m(self, X, **kwargs)\u001b[0m\n\u001b[1;32m    106\u001b[0m             \u001b[0mexplanations\u001b[0m \u001b[0;34m=\u001b[0m \u001b[0;34m[\u001b[0m\u001b[0;34m]\u001b[0m\u001b[0;34m\u001b[0m\u001b[0m\n\u001b[1;32m    107\u001b[0m             \u001b[0;32mfor\u001b[0m \u001b[0mi\u001b[0m \u001b[0;32min\u001b[0m \u001b[0mtqdm\u001b[0m\u001b[0;34m(\u001b[0m\u001b[0mrange\u001b[0m\u001b[0;34m(\u001b[0m\u001b[0mX\u001b[0m\u001b[0;34m.\u001b[0m\u001b[0mshape\u001b[0m\u001b[0;34m[\u001b[0m\u001b[0;36m0\u001b[0m\u001b[0;34m]\u001b[0m\u001b[0;34m)\u001b[0m\u001b[0;34m)\u001b[0m\u001b[0;34m:\u001b[0m\u001b[0;34m\u001b[0m\u001b[0m\n\u001b[0;32m--> 108\u001b[0;31m                 \u001b[0mexplanations\u001b[0m\u001b[0;34m.\u001b[0m\u001b[0mappend\u001b[0m\u001b[0;34m(\u001b[0m\u001b[0mself\u001b[0m\u001b[0;34m.\u001b[0m\u001b[0mexplain\u001b[0m\u001b[0;34m(\u001b[0m\u001b[0mX\u001b[0m\u001b[0;34m[\u001b[0m\u001b[0mi\u001b[0m\u001b[0;34m:\u001b[0m\u001b[0mi\u001b[0m \u001b[0;34m+\u001b[0m \u001b[0;36m1\u001b[0m\u001b[0;34m,\u001b[0m \u001b[0;34m:\u001b[0m\u001b[0;34m]\u001b[0m\u001b[0;34m,\u001b[0m \u001b[0;34m**\u001b[0m\u001b[0mkwargs\u001b[0m\u001b[0;34m)\u001b[0m\u001b[0;34m)\u001b[0m\u001b[0;34m\u001b[0m\u001b[0m\n\u001b[0m\u001b[1;32m    109\u001b[0m \u001b[0;34m\u001b[0m\u001b[0m\n\u001b[1;32m    110\u001b[0m             \u001b[0;31m# vector-output\u001b[0m\u001b[0;34m\u001b[0m\u001b[0;34m\u001b[0m\u001b[0m\n",
      "\u001b[0;32m~/anaconda3/lib/python3.6/site-packages/shap/explainer.py\u001b[0m in \u001b[0;36mexplain\u001b[0;34m(self, incoming_instance, **kwargs)\u001b[0m\n\u001b[1;32m    133\u001b[0m         \u001b[0;31m# find the feature groups we will test. If a feature does not change from its\u001b[0m\u001b[0;34m\u001b[0m\u001b[0;34m\u001b[0m\u001b[0m\n\u001b[1;32m    134\u001b[0m         \u001b[0;31m# current value then we know it doesn't impact the model\u001b[0m\u001b[0;34m\u001b[0m\u001b[0;34m\u001b[0m\u001b[0m\n\u001b[0;32m--> 135\u001b[0;31m         \u001b[0mself\u001b[0m\u001b[0;34m.\u001b[0m\u001b[0mvaryingInds\u001b[0m \u001b[0;34m=\u001b[0m \u001b[0mself\u001b[0m\u001b[0;34m.\u001b[0m\u001b[0mvarying_groups\u001b[0m\u001b[0;34m(\u001b[0m\u001b[0minstance\u001b[0m\u001b[0;34m.\u001b[0m\u001b[0mx\u001b[0m\u001b[0;34m)\u001b[0m\u001b[0;34m\u001b[0m\u001b[0m\n\u001b[0m\u001b[1;32m    136\u001b[0m         \u001b[0mself\u001b[0m\u001b[0;34m.\u001b[0m\u001b[0mvaryingFeatureGroups\u001b[0m \u001b[0;34m=\u001b[0m \u001b[0;34m[\u001b[0m\u001b[0mself\u001b[0m\u001b[0;34m.\u001b[0m\u001b[0mdata\u001b[0m\u001b[0;34m.\u001b[0m\u001b[0mgroups\u001b[0m\u001b[0;34m[\u001b[0m\u001b[0mi\u001b[0m\u001b[0;34m]\u001b[0m \u001b[0;32mfor\u001b[0m \u001b[0mi\u001b[0m \u001b[0;32min\u001b[0m \u001b[0mself\u001b[0m\u001b[0;34m.\u001b[0m\u001b[0mvaryingInds\u001b[0m\u001b[0;34m]\u001b[0m\u001b[0;34m\u001b[0m\u001b[0m\n\u001b[1;32m    137\u001b[0m         \u001b[0mself\u001b[0m\u001b[0;34m.\u001b[0m\u001b[0mM\u001b[0m \u001b[0;34m=\u001b[0m \u001b[0mlen\u001b[0m\u001b[0;34m(\u001b[0m\u001b[0mself\u001b[0m\u001b[0;34m.\u001b[0m\u001b[0mvaryingFeatureGroups\u001b[0m\u001b[0;34m)\u001b[0m\u001b[0;34m\u001b[0m\u001b[0m\n",
      "\u001b[0;32m~/anaconda3/lib/python3.6/site-packages/shap/explainer.py\u001b[0m in \u001b[0;36mvarying_groups\u001b[0;34m(self, x)\u001b[0m\n\u001b[1;32m    289\u001b[0m         \u001b[0;32mfor\u001b[0m \u001b[0mi\u001b[0m \u001b[0;32min\u001b[0m \u001b[0mrange\u001b[0m\u001b[0;34m(\u001b[0m\u001b[0;36m0\u001b[0m\u001b[0;34m,\u001b[0m \u001b[0mlen\u001b[0m\u001b[0;34m(\u001b[0m\u001b[0mself\u001b[0m\u001b[0;34m.\u001b[0m\u001b[0mdata\u001b[0m\u001b[0;34m.\u001b[0m\u001b[0mgroups\u001b[0m\u001b[0;34m)\u001b[0m\u001b[0;34m)\u001b[0m\u001b[0;34m:\u001b[0m\u001b[0;34m\u001b[0m\u001b[0m\n\u001b[1;32m    290\u001b[0m             \u001b[0minds\u001b[0m \u001b[0;34m=\u001b[0m \u001b[0mself\u001b[0m\u001b[0;34m.\u001b[0m\u001b[0mdata\u001b[0m\u001b[0;34m.\u001b[0m\u001b[0mgroups\u001b[0m\u001b[0;34m[\u001b[0m\u001b[0mi\u001b[0m\u001b[0;34m]\u001b[0m\u001b[0;34m\u001b[0m\u001b[0m\n\u001b[0;32m--> 291\u001b[0;31m             \u001b[0mvarying\u001b[0m\u001b[0;34m[\u001b[0m\u001b[0mi\u001b[0m\u001b[0;34m]\u001b[0m \u001b[0;34m=\u001b[0m \u001b[0msum\u001b[0m\u001b[0;34m(\u001b[0m\u001b[0msum\u001b[0m\u001b[0;34m(\u001b[0m\u001b[0mnp\u001b[0m\u001b[0;34m.\u001b[0m\u001b[0mabs\u001b[0m\u001b[0;34m(\u001b[0m\u001b[0mx\u001b[0m\u001b[0;34m[\u001b[0m\u001b[0;36m0\u001b[0m\u001b[0;34m,\u001b[0m \u001b[0minds\u001b[0m\u001b[0;34m]\u001b[0m \u001b[0;34m-\u001b[0m \u001b[0mself\u001b[0m\u001b[0;34m.\u001b[0m\u001b[0mdata\u001b[0m\u001b[0;34m.\u001b[0m\u001b[0mdata\u001b[0m\u001b[0;34m[\u001b[0m\u001b[0;34m:\u001b[0m\u001b[0;34m,\u001b[0m \u001b[0minds\u001b[0m\u001b[0;34m]\u001b[0m\u001b[0;34m)\u001b[0m \u001b[0;34m<\u001b[0m \u001b[0;36m1e-8\u001b[0m\u001b[0;34m)\u001b[0m \u001b[0;34m!=\u001b[0m \u001b[0mlen\u001b[0m\u001b[0;34m(\u001b[0m\u001b[0minds\u001b[0m\u001b[0;34m)\u001b[0m\u001b[0;34m)\u001b[0m\u001b[0;34m\u001b[0m\u001b[0m\n\u001b[0m\u001b[1;32m    292\u001b[0m         \u001b[0;32mreturn\u001b[0m \u001b[0mnp\u001b[0m\u001b[0;34m.\u001b[0m\u001b[0mnonzero\u001b[0m\u001b[0;34m(\u001b[0m\u001b[0mvarying\u001b[0m\u001b[0;34m)\u001b[0m\u001b[0;34m[\u001b[0m\u001b[0;36m0\u001b[0m\u001b[0;34m]\u001b[0m\u001b[0;34m\u001b[0m\u001b[0m\n\u001b[1;32m    293\u001b[0m \u001b[0;34m\u001b[0m\u001b[0m\n",
      "\u001b[0;31mTypeError\u001b[0m: unsupported operand type(s) for -: 'str' and 'str'"
     ]
    }
   ],
   "source": [
    "fraud_ind = np.argmin(y_val)\n",
    "non_fr = np.argmax(y_val)\n",
    "\n",
    "explainer = shap.KernelExplainer(best_est.predict_proba,\n",
    "                                 X_train,\n",
    "                                 link=\"logit\"\n",
    "                                )\n",
    "\n",
    "shap_values = explainer.shap_values(X_val.iloc[[fraud_ind, non_fr], :], nsamples=100)"
   ]
  },
  {
   "cell_type": "code",
   "execution_count": 271,
   "metadata": {},
   "outputs": [
    {
     "data": {
      "text/html": [
       "<div>\n",
       "<style scoped>\n",
       "    .dataframe tbody tr th:only-of-type {\n",
       "        vertical-align: middle;\n",
       "    }\n",
       "\n",
       "    .dataframe tbody tr th {\n",
       "        vertical-align: top;\n",
       "    }\n",
       "\n",
       "    .dataframe thead th {\n",
       "        text-align: right;\n",
       "    }\n",
       "</style>\n",
       "<table border=\"1\" class=\"dataframe\">\n",
       "  <thead>\n",
       "    <tr style=\"text-align: right;\">\n",
       "      <th></th>\n",
       "      <th>user_id</th>\n",
       "      <th>label</th>\n",
       "      <th>amount</th>\n",
       "      <th>client_age</th>\n",
       "      <th>cat_new_ip</th>\n",
       "      <th>cat_new_prov</th>\n",
       "      <th>channel_op</th>\n",
       "      <th>op_type</th>\n",
       "      <th>recip_age</th>\n",
       "      <th>age_diff</th>\n",
       "      <th>...</th>\n",
       "      <th>cdf_s_133</th>\n",
       "      <th>know_recip_card_age</th>\n",
       "      <th>recip_card_age</th>\n",
       "      <th>one_region</th>\n",
       "      <th>krp_pow2</th>\n",
       "      <th>log_amount</th>\n",
       "      <th>ip_isp</th>\n",
       "      <th>amnt2chnls</th>\n",
       "      <th>short_date</th>\n",
       "      <th>TS_indexer</th>\n",
       "    </tr>\n",
       "  </thead>\n",
       "  <tbody>\n",
       "    <tr>\n",
       "      <th>369</th>\n",
       "      <td>10544946</td>\n",
       "      <td>0</td>\n",
       "      <td>70000.0</td>\n",
       "      <td>55.547222</td>\n",
       "      <td>2</td>\n",
       "      <td>2</td>\n",
       "      <td>2</td>\n",
       "      <td>0</td>\n",
       "      <td>0</td>\n",
       "      <td>24.547222</td>\n",
       "      <td>...</td>\n",
       "      <td>0</td>\n",
       "      <td>1</td>\n",
       "      <td>237</td>\n",
       "      <td>1</td>\n",
       "      <td>0</td>\n",
       "      <td>11.156265</td>\n",
       "      <td>40.0</td>\n",
       "      <td>0.499996</td>\n",
       "      <td>2017-11-27</td>\n",
       "      <td>2017-11-27</td>\n",
       "    </tr>\n",
       "    <tr>\n",
       "      <th>5481</th>\n",
       "      <td>14176218</td>\n",
       "      <td>1</td>\n",
       "      <td>7878.0</td>\n",
       "      <td>63.280556</td>\n",
       "      <td>1</td>\n",
       "      <td>1</td>\n",
       "      <td>2</td>\n",
       "      <td>1</td>\n",
       "      <td>1</td>\n",
       "      <td>-936.719444</td>\n",
       "      <td>...</td>\n",
       "      <td>0</td>\n",
       "      <td>1</td>\n",
       "      <td>912321</td>\n",
       "      <td>0</td>\n",
       "      <td>0</td>\n",
       "      <td>8.971956</td>\n",
       "      <td>44.0</td>\n",
       "      <td>0.009804</td>\n",
       "      <td>2017-11-21</td>\n",
       "      <td>2017-11-21</td>\n",
       "    </tr>\n",
       "  </tbody>\n",
       "</table>\n",
       "<p>2 rows × 30 columns</p>\n",
       "</div>"
      ],
      "text/plain": [
       "       user_id  label   amount  client_age  cat_new_ip  cat_new_prov  \\\n",
       "369   10544946      0  70000.0   55.547222           2             2   \n",
       "5481  14176218      1   7878.0   63.280556           1             1   \n",
       "\n",
       "      channel_op  op_type  recip_age    age_diff     ...      cdf_s_133  \\\n",
       "369            2        0          0   24.547222     ...              0   \n",
       "5481           2        1          1 -936.719444     ...              0   \n",
       "\n",
       "      know_recip_card_age  recip_card_age  one_region  krp_pow2  log_amount  \\\n",
       "369                     1             237           1         0   11.156265   \n",
       "5481                    1          912321           0         0    8.971956   \n",
       "\n",
       "      ip_isp  amnt2chnls  short_date  TS_indexer  \n",
       "369     40.0    0.499996  2017-11-27  2017-11-27  \n",
       "5481    44.0    0.009804  2017-11-21  2017-11-21  \n",
       "\n",
       "[2 rows x 30 columns]"
      ]
     },
     "execution_count": 271,
     "metadata": {},
     "output_type": "execute_result"
    }
   ],
   "source": [
    "X_val.iloc[[fraud_ind, non_fr], :]"
   ]
  },
  {
   "cell_type": "code",
   "execution_count": 363,
   "metadata": {},
   "outputs": [
    {
     "data": {
      "text/html": [
       "\n",
       "<div id='i71NRBQ6MIMXLHRI2Q6K8'>\n",
       "<div style='color: #900; text-align: center;'>\n",
       "  <b>Visualization omitted, Javascript library not loaded!</b><br>\n",
       "  Have you run `initjs()` in this notebook? If this notebook was from another\n",
       "  user you must also trust this notebook (File -> Trust notebook). If you are viewing\n",
       "  this notebook on github the Javascript has been stripped for security.\n",
       "</div></div>\n",
       " <script>\n",
       "   if (window.IML) IML.ReactDom.render(\n",
       "    IML.React.createElement(IML.AdditiveForceVisualizer, {\"outNames\": [\"output value\"], \"baseValue\": 1.4475593743796433, \"outValue\": 3.1677982593525225, \"link\": \"logit\", \"featureNames\": [\"amount\", \"client_age\", \"cat_new_ip\", \"cat_new_prov\", \"channel_op\", \"op_type\", \"recip_age\", \"age_diff\", \"cumulative_sum_total\", \"data_i_120\", \"relative\", \"know_recip_power\", \"cdf_s_127\", \"cdf_s_135\", \"cdf_s_130\", \"cdf_s_129\", \"cdf_s_134\", \"data_i_154\", \"cdf_s_133\", \"know_recip_card_age\", \"recip_card_age\", \"one_region\", \"krp_pow2\", \"log_amount\", \"ip_isp\", \"amnt2chnls\"], \"features\": {\"0\": {\"effect\": 0.39844748531916707, \"value\": 70000.0}, \"5\": {\"effect\": 0.2504538030477452, \"value\": 0.0}, \"6\": {\"effect\": 0.24479854161466774, \"value\": 0.0}, \"8\": {\"effect\": 0.34786572772004143, \"value\": 7000.0}, \"12\": {\"effect\": 0.16258519115382275, \"value\": 30.0}, \"13\": {\"effect\": 0.15802102572611765, \"value\": 0.0}, \"17\": {\"effect\": 0.09955197102777846, \"value\": -150.0}, \"21\": {\"effect\": 0.058515139363538804, \"value\": 1.0}}, \"plot_cmap\": \"RdBu\", \"labelMargin\": 20}),\n",
       "    document.getElementById('i71NRBQ6MIMXLHRI2Q6K8')\n",
       "  );\n",
       "</script>"
      ],
      "text/plain": [
       "<IPython.core.display.HTML object>"
      ]
     },
     "execution_count": 363,
     "metadata": {},
     "output_type": "execute_result"
    }
   ],
   "source": [
    "shap.force_plot(shap_values[0][0,:],\n",
    "                X_val.drop(['label', 'short_date','TS_indexer', 'user_id'], axis=1).iloc[[fraud_ind], :],\n",
    "                link=\"logit\")"
   ]
  },
  {
   "cell_type": "code",
   "execution_count": 365,
   "metadata": {},
   "outputs": [
    {
     "data": {
      "text/html": [
       "\n",
       "<div id='iM98VTT1OKKDU9S2ERW7Q'>\n",
       "<div style='color: #900; text-align: center;'>\n",
       "  <b>Visualization omitted, Javascript library not loaded!</b><br>\n",
       "  Have you run `initjs()` in this notebook? If this notebook was from another\n",
       "  user you must also trust this notebook (File -> Trust notebook). If you are viewing\n",
       "  this notebook on github the Javascript has been stripped for security.\n",
       "</div></div>\n",
       " <script>\n",
       "   if (window.IML) IML.ReactDom.render(\n",
       "    IML.React.createElement(IML.AdditiveForceVisualizer, {\"outNames\": [\"output value\"], \"baseValue\": -1.4475593744013933, \"outValue\": -3.1677982233142226, \"link\": \"logit\", \"featureNames\": [\"amount\", \"client_age\", \"cat_new_ip\", \"cat_new_prov\", \"channel_op\", \"op_type\", \"recip_age\", \"age_diff\", \"cumulative_sum_total\", \"data_i_120\", \"relative\", \"know_recip_power\", \"cdf_s_127\", \"cdf_s_135\", \"cdf_s_130\", \"cdf_s_129\", \"cdf_s_134\", \"data_i_154\", \"cdf_s_133\", \"know_recip_card_age\", \"recip_card_age\", \"one_region\", \"krp_pow2\", \"log_amount\", \"ip_isp\", \"amnt2chnls\"], \"features\": {\"0\": {\"effect\": -0.3984474801779261, \"value\": 7878.0}, \"5\": {\"effect\": -0.25045378548894826, \"value\": 1.0}, \"6\": {\"effect\": -0.24479853257747708, \"value\": 1.0}, \"8\": {\"effect\": -0.3478657375165217, \"value\": 787.8}, \"12\": {\"effect\": -0.16258519202566402, \"value\": 0.0}, \"13\": {\"effect\": -0.15802101772532184, \"value\": 0.0}, \"17\": {\"effect\": -0.09955196596919491, \"value\": -150.0}, \"21\": {\"effect\": -0.05851513743177539, \"value\": 0.0}}, \"plot_cmap\": \"RdBu\", \"labelMargin\": 20}),\n",
       "    document.getElementById('iM98VTT1OKKDU9S2ERW7Q')\n",
       "  );\n",
       "</script>"
      ],
      "text/plain": [
       "<IPython.core.display.HTML object>"
      ]
     },
     "execution_count": 365,
     "metadata": {},
     "output_type": "execute_result"
    }
   ],
   "source": [
    "shap.force_plot(shap_values[1][0,:],\n",
    "                X_val.drop(['label', 'short_date','TS_indexer', 'user_id'], axis=1).iloc[[non_fr], :],\n",
    "                link=\"logit\")"
   ]
  },
  {
   "cell_type": "code",
   "execution_count": null,
   "metadata": {
    "collapsed": true
   },
   "outputs": [],
   "source": []
  }
 ],
 "metadata": {
  "kernelspec": {
   "display_name": "Python 3",
   "language": "python",
   "name": "python3"
  },
  "language_info": {
   "codemirror_mode": {
    "name": "ipython",
    "version": 3
   },
   "file_extension": ".py",
   "mimetype": "text/x-python",
   "name": "python",
   "nbconvert_exporter": "python",
   "pygments_lexer": "ipython3",
   "version": "3.6.4"
  }
 },
 "nbformat": 4,
 "nbformat_minor": 2
}
