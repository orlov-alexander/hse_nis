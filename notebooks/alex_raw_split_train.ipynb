{
 "cells": [
  {
   "cell_type": "markdown",
   "metadata": {},
   "source": [
    "в данном ноутбуке мы разбиваем обучающую выборку на много частей чтобы потом было проще загружать"
   ]
  },
  {
   "cell_type": "code",
   "execution_count": 1,
   "metadata": {
    "collapsed": true
   },
   "outputs": [],
   "source": [
    "import pandas as pd\n",
    "import numpy as np\n",
    "import sqlite3\n",
    "import datetime\n",
    "import sklearn\n",
    "import sqlalchemy as sa\n",
    "from tqdm import tqdm, tqdm_notebook\n",
    "import pickle\n",
    "import matplotlib.pyplot as plt\n",
    "import itertools\n",
    "import os"
   ]
  },
  {
   "cell_type": "code",
   "execution_count": 2,
   "metadata": {},
   "outputs": [
    {
     "data": {
      "text/html": [
       "<style>.container { width:100% !important; }</style>"
      ],
      "text/plain": [
       "<IPython.core.display.HTML object>"
      ]
     },
     "metadata": {},
     "output_type": "display_data"
    }
   ],
   "source": [
    "from IPython.core.display import display, HTML\n",
    "display(HTML(\"<style>.container { width:100% !important; }</style>\"))\n",
    "\n",
    "pd.set_option('display.max_rows', 500)\n",
    "pd.set_option('display.max_columns', 500)\n",
    "pd.set_option('display.max_colwidth', -1)"
   ]
  },
  {
   "cell_type": "code",
   "execution_count": 3,
   "metadata": {
    "collapsed": true
   },
   "outputs": [],
   "source": [
    "%matplotlib inline"
   ]
  },
  {
   "cell_type": "code",
   "execution_count": 4,
   "metadata": {
    "collapsed": true
   },
   "outputs": [],
   "source": [
    "# создание коннекта к БД и крурсора для запросов\n",
    "conn = sqlite3.connect('../data/input/hse_sqlite')\n",
    "c = conn.cursor()\n",
    "\n",
    "# создание engine для чтения данных в DataFrame\n",
    "engine = sa.create_engine('sqlite:///../data/input/hse_sqlite.db')"
   ]
  },
  {
   "cell_type": "code",
   "execution_count": 5,
   "metadata": {
    "collapsed": true
   },
   "outputs": [],
   "source": [
    "# Пример форомирования DataFrame из БД с заполнением типа полей\n",
    "\n",
    "def transform_cols (df, dict_col_types = None):\n",
    "    # Расширяйте для необходимых столбцов и их явной типизации\n",
    "    if dict_col_types is None:\n",
    "        dict_col_types = {\n",
    "        'amount_original':(float, 0.0),\n",
    "        'cdf_s_126':(str, u'null'),\n",
    "        'cdf_s_138':(str, u'null'),\n",
    "        'channel_indicator':(str, u'null'),\n",
    "        'event_description':(str, u'null'),\n",
    "        'cdf_s_294':(int, 0),\n",
    "        'cdf_s_140':(float, 0.0),\n",
    "        'data_i_120':(int, 0),\n",
    "        'cdf_s_218':(str, u'null'),\n",
    "        'data_s_65':(int, 0),\n",
    "        'cdf_s_127':(int, 30),\n",
    "        'cdf_s_135':(int, 30),\n",
    "        'cdf_s_130':(int, 30),\n",
    "        'cdf_s_129':(int, 30),\n",
    "        'cdf_s_134':(int, 30),\n",
    "        'data_i_154':(float, np.nan),\n",
    "        'cdf_s_133':(int, 30),\n",
    "        'cdf_s_20':(str, u'null'),\n",
    "        'cdf_s_299':(str, u'null'),\n",
    "        }\n",
    "                \n",
    "    if df.shape[0] > 0:\n",
    "        df.replace(u'null', np.nan, inplace=True)\n",
    "\n",
    "        for i in dict_col_types:\n",
    "            if i in df.columns:\n",
    "                df[i] = df[i].fillna(dict_col_types[i][1]).astype(dict_col_types[i][0])\n",
    "    \n",
    "    return df\n",
    "    \n",
    "\n",
    "def df_from_sql (sql, parse_dates = ['event_time','cdf_s_19', 'cdf_s_123','cdf_s_124'], dict_col_types = None, chunk_size = None, engine=engine):\n",
    "    \"\"\"\n",
    "    Функция вощвращающая df в результате переданного sql-запроса\n",
    "    Также поддерживается приведение столбцов к заданным типам \n",
    "    и чтение по блокам\n",
    "    \"\"\"\n",
    "     \n",
    "    if chunk_size is not None:\n",
    "        df_iter =  [transform_cols(chunk, dict_col_types) for chunk in pd.read_sql_query(sql, engine, parse_dates = parse_dates, chunksize=chunk_size)]\n",
    "    else:\n",
    "        df_iter = transform_cols(pd.read_sql_query(sql, engine, parse_dates = parse_dates), dict_col_types)\n",
    "        #df_iter = pd.read_sql_query(sql, engine, con=conn,  parse_dates = parse_dates)\n",
    "    \n",
    "    return df_iter\n"
   ]
  },
  {
   "cell_type": "markdown",
   "metadata": {},
   "source": [
    "-----"
   ]
  },
  {
   "cell_type": "code",
   "execution_count": 6,
   "metadata": {
    "collapsed": true
   },
   "outputs": [],
   "source": [
    "all_users = df_from_sql('select DISTINCT user_id from rsa_event_log;',\n",
    "                        engine=conn,\n",
    "                        parse_dates=None)"
   ]
  },
  {
   "cell_type": "code",
   "execution_count": 7,
   "metadata": {
    "collapsed": true
   },
   "outputs": [],
   "source": [
    "rng = np.random.RandomState(seed = 1)"
   ]
  },
  {
   "cell_type": "code",
   "execution_count": 8,
   "metadata": {
    "collapsed": true
   },
   "outputs": [],
   "source": [
    "all_users_list = sorted(all_users['user_id'].astype(str).tolist())"
   ]
  },
  {
   "cell_type": "code",
   "execution_count": 9,
   "metadata": {
    "collapsed": true
   },
   "outputs": [],
   "source": [
    "rng.shuffle(all_users_list)"
   ]
  },
  {
   "cell_type": "code",
   "execution_count": 10,
   "metadata": {},
   "outputs": [
    {
     "data": {
      "text/plain": [
       "['MBK7709372', '52141422', '36057180', '20035740', '42404186']"
      ]
     },
     "execution_count": 10,
     "metadata": {},
     "output_type": "execute_result"
    }
   ],
   "source": [
    "all_users_list[:5]"
   ]
  },
  {
   "cell_type": "code",
   "execution_count": 11,
   "metadata": {
    "collapsed": true
   },
   "outputs": [],
   "source": [
    "def chunks(l, n):\n",
    "    \"\"\"Yield successive n-sized chunks from l.\"\"\"\n",
    "    for i in range(0, len(l), n):\n",
    "        yield l[i:i + n]"
   ]
  },
  {
   "cell_type": "code",
   "execution_count": 12,
   "metadata": {},
   "outputs": [
    {
     "data": {
      "text/plain": [
       "194704"
      ]
     },
     "execution_count": 12,
     "metadata": {},
     "output_type": "execute_result"
    }
   ],
   "source": [
    "len(all_users_list)"
   ]
  },
  {
   "cell_type": "code",
   "execution_count": 13,
   "metadata": {
    "collapsed": true
   },
   "outputs": [],
   "source": [
    "user_ids_chunks = list(chunks(all_users_list, len(all_users_list) // 50))"
   ]
  },
  {
   "cell_type": "code",
   "execution_count": 14,
   "metadata": {},
   "outputs": [],
   "source": [
    "with open('../data/raw_splits/train/user_ids_chunks.pkl', 'wb') as f:\n",
    "    pickle.dump(user_ids_chunks, f)"
   ]
  },
  {
   "cell_type": "code",
   "execution_count": null,
   "metadata": {
    "collapsed": true
   },
   "outputs": [],
   "source": [
    "folder = '../data/raw_splits/train/'"
   ]
  },
  {
   "cell_type": "code",
   "execution_count": null,
   "metadata": {},
   "outputs": [
    {
     "data": {
      "application/vnd.jupyter.widget-view+json": {
       "model_id": "6eaeb079cf634fbf9aa7dc03f7597edc"
      }
     },
     "metadata": {},
     "output_type": "display_data"
    }
   ],
   "source": [
    "for n, chunk in tqdm_notebook(list(enumerate(user_ids_chunks))):\n",
    "    sql_query_str = \"select * from rsa_event_log where user_id in ({0});\".format(str(chunk)[1:-1])\n",
    "    data = pd.read_sql_query(sql_query_str, con=conn, \n",
    "                             parse_dates = ['event_time','cdf_s_19', 'cdf_s_123','cdf_s_124'])\n",
    "    fname = os.path.join(folder, f'chunk_{n}.fth')\n",
    "    data.to_feather(fname)"
   ]
  }
 ],
 "metadata": {
  "kernelspec": {
   "display_name": "Python 3",
   "language": "python",
   "name": "python3"
  },
  "language_info": {
   "codemirror_mode": {
    "name": "ipython",
    "version": 3
   },
   "file_extension": ".py",
   "mimetype": "text/x-python",
   "name": "python",
   "nbconvert_exporter": "python",
   "pygments_lexer": "ipython3",
   "version": "3.6.1"
  }
 },
 "nbformat": 4,
 "nbformat_minor": 2
}
