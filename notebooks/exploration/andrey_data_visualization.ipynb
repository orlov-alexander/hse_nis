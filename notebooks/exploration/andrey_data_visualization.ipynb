{
 "cells": [
  {
   "cell_type": "markdown",
   "metadata": {},
   "source": [
    "хочу быстро проверить 3 вещи:<br>\n",
    "- есть ли пересечение по id для train / test\n",
    "- какое у нас пересечение по времени для train / test\n",
    "- для трейна: есть ли такое, что после того как прошла фродовая транзакция - все остальные тоже фродовые"
   ]
  },
  {
   "cell_type": "code",
   "execution_count": 1,
   "metadata": {
    "collapsed": true
   },
   "outputs": [],
   "source": [
    "import pandas as pd\n",
    "import numpy as np\n",
    "import sqlite3\n",
    "import datetime\n",
    "import sklearn\n",
    "import sqlalchemy as sa\n",
    "import multiprocessing"
   ]
  },
  {
   "cell_type": "code",
   "execution_count": null,
   "metadata": {
    "collapsed": true
   },
   "outputs": [],
   "source": []
  },
  {
   "cell_type": "code",
   "execution_count": 2,
   "metadata": {
    "collapsed": true
   },
   "outputs": [],
   "source": [
    "from sklearn.model_selection import TimeSeriesSplit\n",
    "\n",
    "import xgboost as xgb\n",
    "from sklearn.model_selection import GridSearchCV\n",
    "from sklearn.metrics import roc_auc_score\n",
    "\n",
    "import matplotlib.pyplot as plt\n",
    "%matplotlib inline\n",
    "import seaborn as sns\n",
    "from sklearn.metrics import precision_recall_curve, auc\n",
    "\n",
    "import operator"
   ]
  },
  {
   "cell_type": "code",
   "execution_count": 3,
   "metadata": {
    "scrolled": true
   },
   "outputs": [
    {
     "data": {
      "text/html": [
       "<style>.container { width:100% !important; }</style>"
      ],
      "text/plain": [
       "<IPython.core.display.HTML object>"
      ]
     },
     "metadata": {},
     "output_type": "display_data"
    }
   ],
   "source": [
    "from IPython.core.display import display, HTML\n",
    "display(HTML(\"<style>.container { width:100% !important; }</style>\"))\n",
    "\n",
    "pd.set_option('display.max_rows', 500)\n",
    "pd.set_option('display.max_columns', 500)\n",
    "pd.set_option('display.max_colwidth', -1)"
   ]
  },
  {
   "cell_type": "code",
   "execution_count": 40,
   "metadata": {
    "collapsed": true
   },
   "outputs": [],
   "source": [
    "import os\n",
    "import sys\n",
    "import re\n",
    "import networkx as nx\n",
    "from tqdm import tqdm, tqdm_notebook\n",
    "import gc"
   ]
  },
  {
   "cell_type": "code",
   "execution_count": 41,
   "metadata": {
    "collapsed": true
   },
   "outputs": [],
   "source": [
    "sys.path.append('/hse_nis/notebooks/')"
   ]
  },
  {
   "cell_type": "code",
   "execution_count": 42,
   "metadata": {
    "collapsed": true
   },
   "outputs": [],
   "source": [
    "import scripts as scr"
   ]
  },
  {
   "cell_type": "code",
   "execution_count": 5,
   "metadata": {
    "collapsed": true
   },
   "outputs": [],
   "source": [
    "feature_descr = {'cdf_s_178_hashed':'реквизит получателя',\n",
    "                'cdf_s_123': 'региональный признак получателя',\n",
    "                'cdf_s_124':'дата выдачи карты получателя',\n",
    "                'cdf_s_294': 'возраст получателя',\n",
    "                'cdf_s_19': 'ДР клиента',\n",
    "                 'cdf_s_20':' Тер банк клиента',\n",
    "                 'cdf_s_299':'Тер банк получателя',\n",
    "                 'data_i_154':'Признаки устр-ва',\n",
    "                 'data_i_118':'Признаки устр-ва', 'data_i_119':'Признаки устр-ва',\n",
    "                 'data_i_120':'Признаки устр-ва', \n",
    "                 'cdf_s_136':'cusum_web',\n",
    "                 'cdf_s_137':'cusum_МП',\n",
    "                 'cdf_s_140':'cusum_web + МП',\n",
    "                 'data_s_65':'связь отправитель-получатель',\n",
    "                 'cdf_s_218':'предположение о родственной связи',\n",
    "                 'user_acct_number_hashed':' счет отправителя (хэшированный)',\n",
    "                 'ext_acct_number_hashed':'счет получателя (хэшированный)',\n",
    "                 'amount_original':'сумма в рублях',\n",
    "                 'event_description':'описание события',\n",
    "                 'channel_indicator_desc':'канал проведения операции',\n",
    "                 'custom_mark':'результат разбора события',\n",
    "                 'event_id':'уникальный id транзакции',\n",
    "                 'short_date':'дата (для удобства поиска/агрегации)',\n",
    "                 'user_id':'уникальный идентификатор клиента',\n",
    "                 'event_time':'дата и время события'\n",
    "                }\n",
    "risk_events = {key:'дней с рискового события' for key in ['cdf_s_127', 'cdf_s_135', 'cdf_s_130', 'cdf_s_129', 'cdf_s_134', 'cdf_s_128', 'cdf_s_138', 'cdf_s_126']}\n",
    "feature_descr.update(risk_events)"
   ]
  },
  {
   "cell_type": "code",
   "execution_count": 43,
   "metadata": {
    "collapsed": true
   },
   "outputs": [],
   "source": [
    "def get_data(chunk_name):\n",
    "    #del feat_test\n",
    "    feat_test = scr.features_handler(\n",
    "        chunk_names=[chunk_name],\n",
    "        calc_feat = scr.calc_base_features,\n",
    "        query=(\"event_description in {incl}  and short_date > {start} and short_date < {end}\"\n",
    "               .format(incl=include_channels, start=start_date, end=end_date)))\n",
    "    return feat_test"
   ]
  },
  {
   "cell_type": "code",
   "execution_count": 6,
   "metadata": {
    "scrolled": true
   },
   "outputs": [
    {
     "name": "stdout",
     "output_type": "stream",
     "text": [
      "Length of train files is 51\n"
     ]
    },
    {
     "data": {
      "text/plain": [
       "['../../data/raw_splits/train/chunk_0.fth',\n",
       " '../../data/raw_splits/train/chunk_1.fth',\n",
       " '../../data/raw_splits/train/chunk_2.fth',\n",
       " '../../data/raw_splits/train/chunk_3.fth',\n",
       " '../../data/raw_splits/train/chunk_4.fth',\n",
       " '../../data/raw_splits/train/chunk_5.fth',\n",
       " '../../data/raw_splits/train/chunk_6.fth',\n",
       " '../../data/raw_splits/train/chunk_7.fth',\n",
       " '../../data/raw_splits/train/chunk_8.fth',\n",
       " '../../data/raw_splits/train/chunk_9.fth',\n",
       " '../../data/raw_splits/train/chunk_10.fth',\n",
       " '../../data/raw_splits/train/chunk_11.fth',\n",
       " '../../data/raw_splits/train/chunk_12.fth',\n",
       " '../../data/raw_splits/train/chunk_13.fth',\n",
       " '../../data/raw_splits/train/chunk_14.fth',\n",
       " '../../data/raw_splits/train/chunk_15.fth',\n",
       " '../../data/raw_splits/train/chunk_16.fth',\n",
       " '../../data/raw_splits/train/chunk_17.fth',\n",
       " '../../data/raw_splits/train/chunk_18.fth',\n",
       " '../../data/raw_splits/train/chunk_19.fth',\n",
       " '../../data/raw_splits/train/chunk_20.fth',\n",
       " '../../data/raw_splits/train/chunk_21.fth',\n",
       " '../../data/raw_splits/train/chunk_22.fth',\n",
       " '../../data/raw_splits/train/chunk_23.fth',\n",
       " '../../data/raw_splits/train/chunk_24.fth',\n",
       " '../../data/raw_splits/train/chunk_25.fth',\n",
       " '../../data/raw_splits/train/chunk_26.fth',\n",
       " '../../data/raw_splits/train/chunk_27.fth',\n",
       " '../../data/raw_splits/train/chunk_28.fth',\n",
       " '../../data/raw_splits/train/chunk_29.fth',\n",
       " '../../data/raw_splits/train/chunk_30.fth',\n",
       " '../../data/raw_splits/train/chunk_31.fth',\n",
       " '../../data/raw_splits/train/chunk_32.fth',\n",
       " '../../data/raw_splits/train/chunk_33.fth',\n",
       " '../../data/raw_splits/train/chunk_34.fth',\n",
       " '../../data/raw_splits/train/chunk_35.fth',\n",
       " '../../data/raw_splits/train/chunk_36.fth',\n",
       " '../../data/raw_splits/train/chunk_37.fth',\n",
       " '../../data/raw_splits/train/chunk_38.fth',\n",
       " '../../data/raw_splits/train/chunk_39.fth',\n",
       " '../../data/raw_splits/train/chunk_40.fth',\n",
       " '../../data/raw_splits/train/chunk_41.fth',\n",
       " '../../data/raw_splits/train/chunk_42.fth',\n",
       " '../../data/raw_splits/train/chunk_43.fth',\n",
       " '../../data/raw_splits/train/chunk_44.fth',\n",
       " '../../data/raw_splits/train/chunk_45.fth',\n",
       " '../../data/raw_splits/train/chunk_46.fth',\n",
       " '../../data/raw_splits/train/chunk_47.fth',\n",
       " '../../data/raw_splits/train/chunk_48.fth',\n",
       " '../../data/raw_splits/train/chunk_49.fth',\n",
       " '../../data/raw_splits/train/chunk_50.fth']"
      ]
     },
     "execution_count": 6,
     "metadata": {},
     "output_type": "execute_result"
    }
   ],
   "source": [
    "FIRST_N = 100\n",
    "train_folder = '../../data/raw_splits/train/'\n",
    "train_files = sorted([x for x in os.listdir(train_folder) if not '.pkl' in x], key = lambda x: int(re.sub('[^0-9]', '', x)))\n",
    "train_files = [os.path.join(train_folder, x) for x in train_files]\n",
    "print(f'Length of train files is {len(train_files)}')\n",
    "train_files[:FIRST_N]"
   ]
  },
  {
   "cell_type": "code",
   "execution_count": 7,
   "metadata": {
    "scrolled": true
   },
   "outputs": [
    {
     "name": "stdout",
     "output_type": "stream",
     "text": [
      "Length of test files is 26\n"
     ]
    },
    {
     "data": {
      "text/plain": [
       "['../../data/raw_splits/test/chunk_0.fth',\n",
       " '../../data/raw_splits/test/chunk_1.fth',\n",
       " '../../data/raw_splits/test/chunk_2.fth',\n",
       " '../../data/raw_splits/test/chunk_3.fth',\n",
       " '../../data/raw_splits/test/chunk_4.fth',\n",
       " '../../data/raw_splits/test/chunk_5.fth',\n",
       " '../../data/raw_splits/test/chunk_6.fth',\n",
       " '../../data/raw_splits/test/chunk_7.fth',\n",
       " '../../data/raw_splits/test/chunk_8.fth',\n",
       " '../../data/raw_splits/test/chunk_9.fth',\n",
       " '../../data/raw_splits/test/chunk_10.fth',\n",
       " '../../data/raw_splits/test/chunk_11.fth',\n",
       " '../../data/raw_splits/test/chunk_12.fth',\n",
       " '../../data/raw_splits/test/chunk_13.fth',\n",
       " '../../data/raw_splits/test/chunk_14.fth',\n",
       " '../../data/raw_splits/test/chunk_15.fth',\n",
       " '../../data/raw_splits/test/chunk_16.fth',\n",
       " '../../data/raw_splits/test/chunk_17.fth',\n",
       " '../../data/raw_splits/test/chunk_18.fth',\n",
       " '../../data/raw_splits/test/chunk_19.fth',\n",
       " '../../data/raw_splits/test/chunk_20.fth',\n",
       " '../../data/raw_splits/test/chunk_21.fth',\n",
       " '../../data/raw_splits/test/chunk_22.fth',\n",
       " '../../data/raw_splits/test/chunk_23.fth',\n",
       " '../../data/raw_splits/test/chunk_24.fth',\n",
       " '../../data/raw_splits/test/chunk_25.fth']"
      ]
     },
     "execution_count": 7,
     "metadata": {},
     "output_type": "execute_result"
    }
   ],
   "source": [
    "test_folder = '../../data/raw_splits/test/'\n",
    "test_files = sorted([x for x in os.listdir(test_folder) if not '.pkl' in x], key = lambda x: int(re.sub('[^0-9]', '', x)))\n",
    "test_files = [os.path.join(test_folder, x) for x in test_files]\n",
    "print(f'Length of test files is {len(test_files)}')\n",
    "test_files[:FIRST_N]"
   ]
  },
  {
   "cell_type": "code",
   "execution_count": 8,
   "metadata": {
    "collapsed": true
   },
   "outputs": [],
   "source": [
    "# функция получения lable из csutom_mark\n",
    "\n",
    "def cust_mark_to_class(custom_mark):\n",
    "    \"\"\"\n",
    "    Преобразует входящее значение CUSTOM_MARK в класс\n",
    "    return:\n",
    "        1 - фрод\n",
    "        0 - легитимная\n",
    "        -1 - неизвестно\n",
    "    \"\"\"\n",
    "    ret = -1\n",
    "    if custom_mark in ['F','S']:\n",
    "        ret = 1\n",
    "    elif custom_mark in ['A','G', 'null']:\n",
    "        ret = 0\n",
    "    \n",
    "    return ret"
   ]
  },
  {
   "cell_type": "markdown",
   "metadata": {},
   "source": [
    "---"
   ]
  },
  {
   "cell_type": "code",
   "execution_count": 9,
   "metadata": {
    "collapsed": true
   },
   "outputs": [],
   "source": [
    "def load_train(fname):\n",
    "    chunk = pd.read_feather(fname)\n",
    "    return chunk[['user_id', 'short_date', 'custom_mark']].copy()\n",
    "\n",
    "def load_test(fname):\n",
    "    chunk = pd.read_feather(fname)\n",
    "    return chunk[['user_id', 'short_date']].copy()"
   ]
  },
  {
   "cell_type": "code",
   "execution_count": null,
   "metadata": {},
   "outputs": [],
   "source": [
    "%%time\n",
    "with multiprocessing.Pool(processes=5) as pool:\n",
    "    train_chunks = pool.map(load_train, train_files)"
   ]
  },
  {
   "cell_type": "code",
   "execution_count": null,
   "metadata": {
    "collapsed": true
   },
   "outputs": [],
   "source": [
    "%%time\n",
    "with multiprocessing.Pool(processes=5) as pool:\n",
    "    test_chunks = pool.map(load_test, test_files)"
   ]
  },
  {
   "cell_type": "code",
   "execution_count": null,
   "metadata": {
    "collapsed": true
   },
   "outputs": [],
   "source": []
  },
  {
   "cell_type": "code",
   "execution_count": 10,
   "metadata": {
    "collapsed": true
   },
   "outputs": [],
   "source": [
    "chunk = pd.read_feather(train_files[0])"
   ]
  },
  {
   "cell_type": "code",
   "execution_count": 53,
   "metadata": {},
   "outputs": [
    {
     "data": {
      "text/html": [
       "<div>\n",
       "<style>\n",
       "    .dataframe thead tr:only-child th {\n",
       "        text-align: right;\n",
       "    }\n",
       "\n",
       "    .dataframe thead th {\n",
       "        text-align: left;\n",
       "    }\n",
       "\n",
       "    .dataframe tbody tr th {\n",
       "        vertical-align: top;\n",
       "    }\n",
       "</style>\n",
       "<table border=\"1\" class=\"dataframe\">\n",
       "  <thead>\n",
       "    <tr style=\"text-align: right;\">\n",
       "      <th></th>\n",
       "      <th>cdf_s_123</th>\n",
       "      <th>cdf_s_124</th>\n",
       "      <th>cdf_s_127</th>\n",
       "      <th>cdf_s_135</th>\n",
       "      <th>cdf_s_130</th>\n",
       "      <th>cdf_s_129</th>\n",
       "      <th>cdf_s_134</th>\n",
       "      <th>cdf_s_128</th>\n",
       "      <th>cdf_s_138</th>\n",
       "      <th>cdf_s_126</th>\n",
       "      <th>cdf_s_133</th>\n",
       "      <th>cdf_s_136</th>\n",
       "      <th>cdf_s_137</th>\n",
       "      <th>cdf_s_140</th>\n",
       "      <th>cdf_s_178_hashed</th>\n",
       "      <th>cdf_s_19</th>\n",
       "      <th>cdf_s_20</th>\n",
       "      <th>cdf_s_218</th>\n",
       "      <th>cdf_s_294</th>\n",
       "      <th>cdf_s_299</th>\n",
       "      <th>amount_original</th>\n",
       "      <th>channel_indicator_desc</th>\n",
       "      <th>custom_mark</th>\n",
       "      <th>data_i_118</th>\n",
       "      <th>data_i_119</th>\n",
       "      <th>data_i_120</th>\n",
       "      <th>data_i_154</th>\n",
       "      <th>data_s_65</th>\n",
       "      <th>event_description</th>\n",
       "      <th>event_id</th>\n",
       "      <th>event_time</th>\n",
       "      <th>ext_acct_number_hashed</th>\n",
       "      <th>hardwareid</th>\n",
       "      <th>short_date</th>\n",
       "      <th>user_acct_number_hashed</th>\n",
       "      <th>user_agent_string_hash</th>\n",
       "      <th>browser_plugins_hash</th>\n",
       "      <th>screen_hash</th>\n",
       "      <th>user_id</th>\n",
       "      <th>ip_address</th>\n",
       "      <th>ip_country</th>\n",
       "      <th>ip_region</th>\n",
       "      <th>ip_city</th>\n",
       "      <th>ip_isp</th>\n",
       "    </tr>\n",
       "  </thead>\n",
       "  <tbody>\n",
       "    <tr>\n",
       "      <th>0</th>\n",
       "      <td>NaT</td>\n",
       "      <td>NaT</td>\n",
       "      <td>null</td>\n",
       "      <td>null</td>\n",
       "      <td>null</td>\n",
       "      <td>null</td>\n",
       "      <td>null</td>\n",
       "      <td>null</td>\n",
       "      <td>НЕТ</td>\n",
       "      <td>ДА</td>\n",
       "      <td>1</td>\n",
       "      <td>null</td>\n",
       "      <td>1000000</td>\n",
       "      <td>1000000</td>\n",
       "      <td>null</td>\n",
       "      <td>1977-02-15</td>\n",
       "      <td>99</td>\n",
       "      <td>НЕТ</td>\n",
       "      <td>39</td>\n",
       "      <td>99</td>\n",
       "      <td>10000.0</td>\n",
       "      <td>MOBILEAPI</td>\n",
       "      <td>null</td>\n",
       "      <td>1</td>\n",
       "      <td>1</td>\n",
       "      <td>1</td>\n",
       "      <td>86</td>\n",
       "      <td>339</td>\n",
       "      <td>Перевод частному лицу</td>\n",
       "      <td>48d1:85b16da1e51:18ac3165-_TRX</td>\n",
       "      <td>2017-08-25 22:47:42</td>\n",
       "      <td>427a42d0ad91a628ac4645f1e30ceb70172203d8</td>\n",
       "      <td>354021080277617</td>\n",
       "      <td>20170825</td>\n",
       "      <td>4bc31cd95fbac78ee5e4ca131c4cdca9e2b7688e</td>\n",
       "      <td>null</td>\n",
       "      <td>null</td>\n",
       "      <td>null</td>\n",
       "      <td>100197</td>\n",
       "      <td>31.173.86.8</td>\n",
       "      <td>ru</td>\n",
       "      <td>48</td>\n",
       "      <td>Moscow</td>\n",
       "      <td>7255560</td>\n",
       "    </tr>\n",
       "    <tr>\n",
       "      <th>1</th>\n",
       "      <td>NaT</td>\n",
       "      <td>NaT</td>\n",
       "      <td>null</td>\n",
       "      <td>null</td>\n",
       "      <td>null</td>\n",
       "      <td>null</td>\n",
       "      <td>4</td>\n",
       "      <td>null</td>\n",
       "      <td>null</td>\n",
       "      <td>null</td>\n",
       "      <td>null</td>\n",
       "      <td>null</td>\n",
       "      <td>null</td>\n",
       "      <td>null</td>\n",
       "      <td>null</td>\n",
       "      <td>1977-02-15</td>\n",
       "      <td>99</td>\n",
       "      <td>null</td>\n",
       "      <td>null</td>\n",
       "      <td>null</td>\n",
       "      <td>null</td>\n",
       "      <td>MOBILEAPI</td>\n",
       "      <td>null</td>\n",
       "      <td>null</td>\n",
       "      <td>null</td>\n",
       "      <td>null</td>\n",
       "      <td>0</td>\n",
       "      <td>null</td>\n",
       "      <td>Вход в систему с одноразовым паролем</td>\n",
       "      <td>cc83-:56fb8030061:3b046184_TRX</td>\n",
       "      <td>2017-11-28 17:33:56</td>\n",
       "      <td>null</td>\n",
       "      <td>null</td>\n",
       "      <td>20171128</td>\n",
       "      <td>null</td>\n",
       "      <td>null</td>\n",
       "      <td>null</td>\n",
       "      <td>null</td>\n",
       "      <td>100197</td>\n",
       "      <td>31.173.82.117</td>\n",
       "      <td>ru</td>\n",
       "      <td>48</td>\n",
       "      <td>Moscow</td>\n",
       "      <td>7255560</td>\n",
       "    </tr>\n",
       "    <tr>\n",
       "      <th>2</th>\n",
       "      <td>NaT</td>\n",
       "      <td>NaT</td>\n",
       "      <td>null</td>\n",
       "      <td>null</td>\n",
       "      <td>null</td>\n",
       "      <td>null</td>\n",
       "      <td>6</td>\n",
       "      <td>null</td>\n",
       "      <td>НЕТ</td>\n",
       "      <td>ДА</td>\n",
       "      <td>null</td>\n",
       "      <td>null</td>\n",
       "      <td>null</td>\n",
       "      <td>null</td>\n",
       "      <td>null</td>\n",
       "      <td>1977-02-15</td>\n",
       "      <td>99</td>\n",
       "      <td>null</td>\n",
       "      <td>null</td>\n",
       "      <td>null</td>\n",
       "      <td>1600.0</td>\n",
       "      <td>MOBILEAPI</td>\n",
       "      <td>null</td>\n",
       "      <td>1</td>\n",
       "      <td>1</td>\n",
       "      <td>1</td>\n",
       "      <td>8</td>\n",
       "      <td>641</td>\n",
       "      <td>Перевод между своими счетами и картами</td>\n",
       "      <td>05b5-:6e7f4a1eb51:8d9d0951-_TRX</td>\n",
       "      <td>2017-05-07 09:46:44</td>\n",
       "      <td>4bc31cd95fbac78ee5e4ca131c4cdca9e2b7688e</td>\n",
       "      <td>354021080277617</td>\n",
       "      <td>20170507</td>\n",
       "      <td>ba8d3b00c24ad4923f70e1a66f726586823b7899</td>\n",
       "      <td>null</td>\n",
       "      <td>null</td>\n",
       "      <td>null</td>\n",
       "      <td>100197</td>\n",
       "      <td>31.173.85.200</td>\n",
       "      <td>ru</td>\n",
       "      <td>48</td>\n",
       "      <td>Moscow</td>\n",
       "      <td>7255560</td>\n",
       "    </tr>\n",
       "    <tr>\n",
       "      <th>3</th>\n",
       "      <td>NaT</td>\n",
       "      <td>NaT</td>\n",
       "      <td>null</td>\n",
       "      <td>null</td>\n",
       "      <td>null</td>\n",
       "      <td>null</td>\n",
       "      <td>null</td>\n",
       "      <td>null</td>\n",
       "      <td>null</td>\n",
       "      <td>null</td>\n",
       "      <td>null</td>\n",
       "      <td>null</td>\n",
       "      <td>null</td>\n",
       "      <td>null</td>\n",
       "      <td>null</td>\n",
       "      <td>1977-02-15</td>\n",
       "      <td>99</td>\n",
       "      <td>null</td>\n",
       "      <td>null</td>\n",
       "      <td>null</td>\n",
       "      <td>null</td>\n",
       "      <td>MOBILEAPI</td>\n",
       "      <td>null</td>\n",
       "      <td>1</td>\n",
       "      <td>1</td>\n",
       "      <td>1</td>\n",
       "      <td>58</td>\n",
       "      <td>null</td>\n",
       "      <td>Вход в систему с одноразовым паролем</td>\n",
       "      <td>5453-:7167d798d51:c4ea7027-_TRX</td>\n",
       "      <td>2017-07-28 17:03:27</td>\n",
       "      <td>null</td>\n",
       "      <td>354021080277617</td>\n",
       "      <td>20170728</td>\n",
       "      <td>null</td>\n",
       "      <td>null</td>\n",
       "      <td>null</td>\n",
       "      <td>null</td>\n",
       "      <td>100197</td>\n",
       "      <td>31.173.82.110</td>\n",
       "      <td>ru</td>\n",
       "      <td>48</td>\n",
       "      <td>Moscow</td>\n",
       "      <td>7255560</td>\n",
       "    </tr>\n",
       "    <tr>\n",
       "      <th>4</th>\n",
       "      <td>NaT</td>\n",
       "      <td>NaT</td>\n",
       "      <td>null</td>\n",
       "      <td>null</td>\n",
       "      <td>null</td>\n",
       "      <td>null</td>\n",
       "      <td>6</td>\n",
       "      <td>null</td>\n",
       "      <td>НЕТ</td>\n",
       "      <td>ДА</td>\n",
       "      <td>4</td>\n",
       "      <td>null</td>\n",
       "      <td>1820000</td>\n",
       "      <td>1820000</td>\n",
       "      <td>null</td>\n",
       "      <td>1977-02-15</td>\n",
       "      <td>99</td>\n",
       "      <td>НЕТ</td>\n",
       "      <td>null</td>\n",
       "      <td>null</td>\n",
       "      <td>18200.0</td>\n",
       "      <td>MOBILEAPI</td>\n",
       "      <td>null</td>\n",
       "      <td>1</td>\n",
       "      <td>1</td>\n",
       "      <td>1</td>\n",
       "      <td>105</td>\n",
       "      <td>41</td>\n",
       "      <td>Перевод частному лицу</td>\n",
       "      <td>a93-:a666afa7e51:e52e957_TRX</td>\n",
       "      <td>2017-09-13 14:30:56</td>\n",
       "      <td>c433b3d9216eb8da92dde9b23549cbc6606b7638</td>\n",
       "      <td>354021080277617</td>\n",
       "      <td>20170913</td>\n",
       "      <td>4bc31cd95fbac78ee5e4ca131c4cdca9e2b7688e</td>\n",
       "      <td>null</td>\n",
       "      <td>null</td>\n",
       "      <td>null</td>\n",
       "      <td>100197</td>\n",
       "      <td>31.173.81.68</td>\n",
       "      <td>ru</td>\n",
       "      <td>48</td>\n",
       "      <td>Moscow</td>\n",
       "      <td>7255560</td>\n",
       "    </tr>\n",
       "  </tbody>\n",
       "</table>\n",
       "</div>"
      ],
      "text/plain": [
       "  cdf_s_123 cdf_s_124 cdf_s_127 cdf_s_135 cdf_s_130 cdf_s_129 cdf_s_134  \\\n",
       "0 NaT       NaT        null      null      null      null      null       \n",
       "1 NaT       NaT        null      null      null      null      4          \n",
       "2 NaT       NaT        null      null      null      null      6          \n",
       "3 NaT       NaT        null      null      null      null      null       \n",
       "4 NaT       NaT        null      null      null      null      6          \n",
       "\n",
       "  cdf_s_128 cdf_s_138 cdf_s_126 cdf_s_133 cdf_s_136 cdf_s_137 cdf_s_140  \\\n",
       "0  null      НЕТ       ДА        1         null      1000000   1000000    \n",
       "1  null      null      null      null      null      null      null       \n",
       "2  null      НЕТ       ДА        null      null      null      null       \n",
       "3  null      null      null      null      null      null      null       \n",
       "4  null      НЕТ       ДА        4         null      1820000   1820000    \n",
       "\n",
       "  cdf_s_178_hashed   cdf_s_19 cdf_s_20 cdf_s_218 cdf_s_294 cdf_s_299  \\\n",
       "0  null            1977-02-15  99       НЕТ       39        99         \n",
       "1  null            1977-02-15  99       null      null      null       \n",
       "2  null            1977-02-15  99       null      null      null       \n",
       "3  null            1977-02-15  99       null      null      null       \n",
       "4  null            1977-02-15  99       НЕТ       null      null       \n",
       "\n",
       "  amount_original channel_indicator_desc custom_mark data_i_118 data_i_119  \\\n",
       "0  10000.0         MOBILEAPI              null        1          1           \n",
       "1  null            MOBILEAPI              null        null       null        \n",
       "2  1600.0          MOBILEAPI              null        1          1           \n",
       "3  null            MOBILEAPI              null        1          1           \n",
       "4  18200.0         MOBILEAPI              null        1          1           \n",
       "\n",
       "  data_i_120 data_i_154 data_s_65                       event_description  \\\n",
       "0  1          86         339       Перевод частному лицу                    \n",
       "1  null       0          null      Вход в систему с одноразовым паролем     \n",
       "2  1          8          641       Перевод между своими счетами и картами   \n",
       "3  1          58         null      Вход в систему с одноразовым паролем     \n",
       "4  1          105        41        Перевод частному лицу                    \n",
       "\n",
       "                          event_id          event_time  \\\n",
       "0  48d1:85b16da1e51:18ac3165-_TRX  2017-08-25 22:47:42   \n",
       "1  cc83-:56fb8030061:3b046184_TRX  2017-11-28 17:33:56   \n",
       "2  05b5-:6e7f4a1eb51:8d9d0951-_TRX 2017-05-07 09:46:44   \n",
       "3  5453-:7167d798d51:c4ea7027-_TRX 2017-07-28 17:03:27   \n",
       "4  a93-:a666afa7e51:e52e957_TRX    2017-09-13 14:30:56   \n",
       "\n",
       "                     ext_acct_number_hashed       hardwareid  short_date  \\\n",
       "0  427a42d0ad91a628ac4645f1e30ceb70172203d8  354021080277617  20170825     \n",
       "1  null                                      null             20171128     \n",
       "2  4bc31cd95fbac78ee5e4ca131c4cdca9e2b7688e  354021080277617  20170507     \n",
       "3  null                                      354021080277617  20170728     \n",
       "4  c433b3d9216eb8da92dde9b23549cbc6606b7638  354021080277617  20170913     \n",
       "\n",
       "                    user_acct_number_hashed user_agent_string_hash  \\\n",
       "0  4bc31cd95fbac78ee5e4ca131c4cdca9e2b7688e  null                    \n",
       "1  null                                      null                    \n",
       "2  ba8d3b00c24ad4923f70e1a66f726586823b7899  null                    \n",
       "3  null                                      null                    \n",
       "4  4bc31cd95fbac78ee5e4ca131c4cdca9e2b7688e  null                    \n",
       "\n",
       "  browser_plugins_hash screen_hash user_id     ip_address ip_country  \\\n",
       "0  null                 null        100197  31.173.86.8    ru          \n",
       "1  null                 null        100197  31.173.82.117  ru          \n",
       "2  null                 null        100197  31.173.85.200  ru          \n",
       "3  null                 null        100197  31.173.82.110  ru          \n",
       "4  null                 null        100197  31.173.81.68   ru          \n",
       "\n",
       "  ip_region ip_city   ip_isp  \n",
       "0  48        Moscow  7255560  \n",
       "1  48        Moscow  7255560  \n",
       "2  48        Moscow  7255560  \n",
       "3  48        Moscow  7255560  \n",
       "4  48        Moscow  7255560  "
      ]
     },
     "execution_count": 53,
     "metadata": {},
     "output_type": "execute_result"
    }
   ],
   "source": [
    "chunk.head()"
   ]
  },
  {
   "cell_type": "code",
   "execution_count": 11,
   "metadata": {},
   "outputs": [
    {
     "data": {
      "text/plain": [
       "20"
      ]
     },
     "execution_count": 11,
     "metadata": {},
     "output_type": "execute_result"
    }
   ],
   "source": [
    "cdf_cols = [c for c in chunk.columns.values if c.startswith('cdf')]\n",
    "#cdf_cols.remove('cdf_s_19', 'cdf_s_123', 'cdf_s_124')\n",
    "len(cdf_cols)"
   ]
  },
  {
   "cell_type": "code",
   "execution_count": 32,
   "metadata": {},
   "outputs": [
    {
     "data": {
      "text/plain": [
       "array(['1000000', 'null', '1820000', ..., '5089400', '4989400', '1789400'],\n",
       "      dtype=object)"
      ]
     },
     "execution_count": 32,
     "metadata": {},
     "output_type": "execute_result"
    }
   ],
   "source": [
    "chunk['cdf_s_140'].unique()"
   ]
  },
  {
   "cell_type": "code",
   "execution_count": 28,
   "metadata": {
    "scrolled": true
   },
   "outputs": [
    {
     "name": "stdout",
     "output_type": "stream",
     "text": [
      "cdf_s_123 datetime64[ns]\n",
      "cdf_s_124 datetime64[ns]\n",
      "cdf_s_127 object\n",
      "cdf_s_135 object\n",
      "cdf_s_130 object\n",
      "cdf_s_129 object\n",
      "cdf_s_134 object\n",
      "cdf_s_128 object\n",
      "cdf_s_138 object\n",
      "cdf_s_126 object\n",
      "cdf_s_133 object\n",
      "cdf_s_136 object\n",
      "cdf_s_137 object\n",
      "cdf_s_140 object\n",
      "cdf_s_178_hashed object\n",
      "cdf_s_19 datetime64[ns]\n",
      "cdf_s_20 object\n",
      "cdf_s_218 object\n",
      "cdf_s_294 object\n",
      "cdf_s_299 object\n",
      "amount_original object\n",
      "channel_indicator_desc object\n",
      "custom_mark object\n",
      "data_i_118 object\n",
      "data_i_119 object\n",
      "data_i_120 object\n",
      "data_i_154 object\n",
      "data_s_65 object\n",
      "event_description object\n",
      "event_id object\n",
      "event_time datetime64[ns]\n",
      "ext_acct_number_hashed object\n",
      "hardwareid object\n",
      "short_date int64\n",
      "user_acct_number_hashed object\n",
      "user_agent_string_hash object\n",
      "browser_plugins_hash object\n",
      "screen_hash object\n",
      "user_id object\n",
      "ip_address object\n",
      "ip_country object\n",
      "ip_region object\n",
      "ip_city object\n",
      "ip_isp object\n"
     ]
    }
   ],
   "source": [
    "for c in chunk.columns.values:\n",
    "    print(c, chunk[c].dtype)"
   ]
  },
  {
   "cell_type": "code",
   "execution_count": 13,
   "metadata": {
    "collapsed": true
   },
   "outputs": [],
   "source": [
    "for col in chunk.columns.values:\n",
    "    if chunk[col].dtype == object:\n",
    "        try:\n",
    "            chunk[col] = pd.to_numeric(chunk[col], errors='coerce')\n",
    "        except TypeError:\n",
    "            print(col)\n",
    "            pass"
   ]
  },
  {
   "cell_type": "code",
   "execution_count": 77,
   "metadata": {},
   "outputs": [
    {
     "name": "stderr",
     "output_type": "stream",
     "text": [
      "/home/alex/anaconda3/lib/python3.6/site-packages/matplotlib/font_manager.py:1297: UserWarning: findfont: Font family ['sans-serif'] not found. Falling back to DejaVu Sans\n",
      "  (prop.get_family(), self.defaultFamily[fontext]))\n"
     ]
    },
    {
     "data": {
      "image/png": "[encoded data removed]",
      "text/plain": [
       "<matplotlib.figure.Figure at 0x7fe2c918bef0>"
      ]
     },
     "metadata": {},
     "output_type": "display_data"
    }
   ],
   "source": [
    "fig, axes = plt.subplots(4, 5, figsize=(18, 9))\n",
    "#i = 0\n",
    "\n",
    "for i, feature in enumerate(cdf_cols):\n",
    "    #print(feature)\n",
    "    #print(i // 5, i % 5)\n",
    "    ax = axes[i // 5, i % 5]\n",
    "    ax.hist(pd.to_numeric(chunk[feature], errors='coerce').dropna(), bins=20)\n",
    "    #plt.figure()\n",
    "    #plt.hist(pd.to_numeric(chunk[feature], errors='coerce').dropna(), bins=20)\n",
    "    #plt.show()\n",
    "    ax.set_title(feature + '\\n' + feature_descr.get(feature, ''))\n",
    "fig.tight_layout()"
   ]
  },
  {
   "cell_type": "code",
   "execution_count": 16,
   "metadata": {},
   "outputs": [
    {
     "data": {
      "text/plain": [
       "23"
      ]
     },
     "execution_count": 16,
     "metadata": {},
     "output_type": "execute_result"
    }
   ],
   "source": [
    "other_cols = set(chunk.columns.values) - set(cdf_cols) - {'custom_mark'}\n",
    "len(other_cols)"
   ]
  },
  {
   "cell_type": "code",
   "execution_count": 17,
   "metadata": {},
   "outputs": [
    {
     "name": "stderr",
     "output_type": "stream",
     "text": [
      "/home/alex/anaconda3/lib/python3.6/site-packages/matplotlib/font_manager.py:1297: UserWarning: findfont: Font family ['sans-serif'] not found. Falling back to DejaVu Sans\n",
      "  (prop.get_family(), self.defaultFamily[fontext]))\n"
     ]
    },
    {
     "data": {
      "image/png": "[encoded data removed]",
      "text/plain": [
       "<matplotlib.figure.Figure at 0x7f970b3232b0>"
      ]
     },
     "metadata": {},
     "output_type": "display_data"
    }
   ],
   "source": [
    "fig, axes = plt.subplots(4, 6, figsize=(18, 9))\n",
    "#i = 0\n",
    "\n",
    "for i, feature in enumerate(other_cols):\n",
    "    ax = axes[i // 6, i % 6]\n",
    "    ax.hist(pd.to_numeric(chunk[feature], errors='coerce').dropna(), bins=20)\n",
    "    ax.set_title(feature + '\\n' + feature_descr.get(feature, ''))\n",
    "fig.tight_layout()"
   ]
  },
  {
   "cell_type": "code",
   "execution_count": 18,
   "metadata": {},
   "outputs": [
    {
     "name": "stderr",
     "output_type": "stream",
     "text": [
      "/home/alex/anaconda3/lib/python3.6/site-packages/matplotlib/font_manager.py:1297: UserWarning: findfont: Font family ['sans-serif'] not found. Falling back to DejaVu Sans\n",
      "  (prop.get_family(), self.defaultFamily[fontext]))\n"
     ]
    },
    {
     "ename": "UnboundLocalError",
     "evalue": "local variable 'ax' referenced before assignment",
     "output_type": "error",
     "traceback": [
      "\u001b[0;31m---------------------------------------------------------------------------\u001b[0m",
      "\u001b[0;31mUnboundLocalError\u001b[0m                         Traceback (most recent call last)",
      "\u001b[0;32m<ipython-input-18-fa38173ec002>\u001b[0m in \u001b[0;36m<module>\u001b[0;34m()\u001b[0m\n\u001b[1;32m      1\u001b[0m sns.pairplot(chunk, vars=cdf_cols[0:3],\n\u001b[0;32m----> 2\u001b[0;31m     hue=\"custom_mark\", diag_kind=\"kde\", dropna=True)\n\u001b[0m",
      "\u001b[0;32m/home/alex/anaconda3/lib/python3.6/site-packages/seaborn/linearmodels.py\u001b[0m in \u001b[0;36mpairplot\u001b[0;34m(data, hue, hue_order, palette, vars, x_vars, y_vars, kind, diag_kind, markers, size, aspect, dropna, plot_kws, diag_kws, grid_kws)\u001b[0m\n\u001b[1;32m   1620\u001b[0m     \u001b[0;32mif\u001b[0m \u001b[0mkind\u001b[0m \u001b[0;34m==\u001b[0m \u001b[0;34m\"scatter\"\u001b[0m\u001b[0;34m:\u001b[0m\u001b[0;34m\u001b[0m\u001b[0m\n\u001b[1;32m   1621\u001b[0m         \u001b[0mplot_kws\u001b[0m\u001b[0;34m.\u001b[0m\u001b[0msetdefault\u001b[0m\u001b[0;34m(\u001b[0m\u001b[0;34m\"edgecolor\"\u001b[0m\u001b[0;34m,\u001b[0m \u001b[0;34m\"white\"\u001b[0m\u001b[0;34m)\u001b[0m\u001b[0;34m\u001b[0m\u001b[0m\n\u001b[0;32m-> 1622\u001b[0;31m         \u001b[0mplotter\u001b[0m\u001b[0;34m(\u001b[0m\u001b[0mplt\u001b[0m\u001b[0;34m.\u001b[0m\u001b[0mscatter\u001b[0m\u001b[0;34m,\u001b[0m \u001b[0;34m**\u001b[0m\u001b[0mplot_kws\u001b[0m\u001b[0;34m)\u001b[0m\u001b[0;34m\u001b[0m\u001b[0m\n\u001b[0m\u001b[1;32m   1623\u001b[0m     \u001b[0;32melif\u001b[0m \u001b[0mkind\u001b[0m \u001b[0;34m==\u001b[0m \u001b[0;34m\"reg\"\u001b[0m\u001b[0;34m:\u001b[0m\u001b[0;34m\u001b[0m\u001b[0m\n\u001b[1;32m   1624\u001b[0m         \u001b[0mplotter\u001b[0m\u001b[0;34m(\u001b[0m\u001b[0mregplot\u001b[0m\u001b[0;34m,\u001b[0m \u001b[0;34m**\u001b[0m\u001b[0mplot_kws\u001b[0m\u001b[0;34m)\u001b[0m\u001b[0;34m\u001b[0m\u001b[0m\n",
      "\u001b[0;32m/home/alex/anaconda3/lib/python3.6/site-packages/seaborn/axisgrid.py\u001b[0m in \u001b[0;36mmap_offdiag\u001b[0;34m(self, func, **kwargs)\u001b[0m\n\u001b[1;32m   1466\u001b[0m         \"\"\"\n\u001b[1;32m   1467\u001b[0m \u001b[0;34m\u001b[0m\u001b[0m\n\u001b[0;32m-> 1468\u001b[0;31m         \u001b[0mself\u001b[0m\u001b[0;34m.\u001b[0m\u001b[0mmap_lower\u001b[0m\u001b[0;34m(\u001b[0m\u001b[0mfunc\u001b[0m\u001b[0;34m,\u001b[0m \u001b[0;34m**\u001b[0m\u001b[0mkwargs\u001b[0m\u001b[0;34m)\u001b[0m\u001b[0;34m\u001b[0m\u001b[0m\n\u001b[0m\u001b[1;32m   1469\u001b[0m         \u001b[0mself\u001b[0m\u001b[0;34m.\u001b[0m\u001b[0mmap_upper\u001b[0m\u001b[0;34m(\u001b[0m\u001b[0mfunc\u001b[0m\u001b[0;34m,\u001b[0m \u001b[0;34m**\u001b[0m\u001b[0mkwargs\u001b[0m\u001b[0;34m)\u001b[0m\u001b[0;34m\u001b[0m\u001b[0m\n\u001b[1;32m   1470\u001b[0m         \u001b[0;32mreturn\u001b[0m \u001b[0mself\u001b[0m\u001b[0;34m\u001b[0m\u001b[0m\n",
      "\u001b[0;32m/home/alex/anaconda3/lib/python3.6/site-packages/seaborn/axisgrid.py\u001b[0m in \u001b[0;36mmap_lower\u001b[0;34m(self, func, **kwargs)\u001b[0m\n\u001b[1;32m   1400\u001b[0m                      color=color, **kwargs)\n\u001b[1;32m   1401\u001b[0m \u001b[0;34m\u001b[0m\u001b[0m\n\u001b[0;32m-> 1402\u001b[0;31m             \u001b[0mself\u001b[0m\u001b[0;34m.\u001b[0m\u001b[0m_clean_axis\u001b[0m\u001b[0;34m(\u001b[0m\u001b[0max\u001b[0m\u001b[0;34m)\u001b[0m\u001b[0;34m\u001b[0m\u001b[0m\n\u001b[0m\u001b[1;32m   1403\u001b[0m             \u001b[0mself\u001b[0m\u001b[0;34m.\u001b[0m\u001b[0m_update_legend_data\u001b[0m\u001b[0;34m(\u001b[0m\u001b[0max\u001b[0m\u001b[0;34m)\u001b[0m\u001b[0;34m\u001b[0m\u001b[0m\n\u001b[1;32m   1404\u001b[0m \u001b[0;34m\u001b[0m\u001b[0m\n",
      "\u001b[0;31mUnboundLocalError\u001b[0m: local variable 'ax' referenced before assignment"
     ]
    },
    {
     "data": {
      "image/png": "[encoded data removed]",
      "text/plain": [
       "<matplotlib.figure.Figure at 0x7f970b114e80>"
      ]
     },
     "metadata": {},
     "output_type": "display_data"
    }
   ],
   "source": [
    "sns.pairplot(chunk, vars=cdf_cols[0:3],\n",
    "    hue=\"custom_mark\", diag_kind=\"kde\", dropna=True)"
   ]
  },
  {
   "cell_type": "code",
   "execution_count": 20,
   "metadata": {},
   "outputs": [
    {
     "name": "stderr",
     "output_type": "stream",
     "text": [
      "/home/alex/anaconda3/lib/python3.6/site-packages/matplotlib/font_manager.py:1297: UserWarning: findfont: Font family ['sans-serif'] not found. Falling back to DejaVu Sans\n",
      "  (prop.get_family(), self.defaultFamily[fontext]))\n"
     ]
    },
    {
     "data": {
      "image/png": "[encoded data removed]",
      "text/plain": [
       "<matplotlib.figure.Figure at 0x7f970c1f5048>"
      ]
     },
     "metadata": {},
     "output_type": "display_data"
    }
   ],
   "source": [
    "_ = sns.heatmap(chunk[cdf_cols].corr(), square=True)"
   ]
  },
  {
   "cell_type": "code",
   "execution_count": 31,
   "metadata": {},
   "outputs": [
    {
     "name": "stderr",
     "output_type": "stream",
     "text": [
      "/home/alex/anaconda3/lib/python3.6/site-packages/matplotlib/font_manager.py:1297: UserWarning: findfont: Font family ['sans-serif'] not found. Falling back to DejaVu Sans\n",
      "  (prop.get_family(), self.defaultFamily[fontext]))\n"
     ]
    },
    {
     "data": {
      "image/png": "[encoded data removed]",
      "text/plain": [
       "<matplotlib.figure.Figure at 0x7f970c5127b8>"
      ]
     },
     "metadata": {},
     "output_type": "display_data"
    }
   ],
   "source": [
    "labels = [feature_descr.get(c, c) for c in cdf_cols]\n",
    "_ = sns.heatmap(chunk[cdf_cols].corr(), square=True, yticklabels=labels, xticklabels=labels)"
   ]
  },
  {
   "cell_type": "code",
   "execution_count": 33,
   "metadata": {},
   "outputs": [
    {
     "name": "stderr",
     "output_type": "stream",
     "text": [
      "/home/alex/anaconda3/lib/python3.6/site-packages/matplotlib/font_manager.py:1297: UserWarning: findfont: Font family ['sans-serif'] not found. Falling back to DejaVu Sans\n",
      "  (prop.get_family(), self.defaultFamily[fontext]))\n"
     ]
    },
    {
     "data": {
      "image/png": "[encoded data removed]",
      "text/plain": [
       "<matplotlib.figure.Figure at 0x7f96f683dc88>"
      ]
     },
     "metadata": {},
     "output_type": "display_data"
    }
   ],
   "source": [
    "labels = [feature_descr.get(c, c) for c in chunk.columns.values]\n",
    "plt.figure(figsize=(15,15))\n",
    "_ = sns.heatmap(chunk.corr(), square=True, yticklabels=labels, xticklabels=labels)"
   ]
  },
  {
   "cell_type": "code",
   "execution_count": 38,
   "metadata": {},
   "outputs": [
    {
     "data": {
      "text/plain": [
       "array([nan])"
      ]
     },
     "execution_count": 38,
     "metadata": {},
     "output_type": "execute_result"
    }
   ],
   "source": []
  },
  {
   "cell_type": "code",
   "execution_count": 36,
   "metadata": {},
   "outputs": [
    {
     "ename": "ValueError",
     "evalue": "min() arg is an empty sequence",
     "output_type": "error",
     "traceback": [
      "\u001b[0;31m---------------------------------------------------------------------------\u001b[0m",
      "\u001b[0;31mValueError\u001b[0m                                Traceback (most recent call last)",
      "\u001b[0;32m<ipython-input-36-4ea778c12b6c>\u001b[0m in \u001b[0;36m<module>\u001b[0;34m()\u001b[0m\n\u001b[1;32m      4\u001b[0m \u001b[0;32mfor\u001b[0m \u001b[0mi\u001b[0m\u001b[0;34m,\u001b[0m \u001b[0mfeature\u001b[0m \u001b[0;32min\u001b[0m \u001b[0menumerate\u001b[0m\u001b[0;34m(\u001b[0m\u001b[0mchunk\u001b[0m\u001b[0;34m.\u001b[0m\u001b[0mcolumns\u001b[0m\u001b[0;34m.\u001b[0m\u001b[0mvalues\u001b[0m\u001b[0;34m)\u001b[0m\u001b[0;34m:\u001b[0m\u001b[0;34m\u001b[0m\u001b[0m\n\u001b[1;32m      5\u001b[0m     \u001b[0max\u001b[0m \u001b[0;34m=\u001b[0m \u001b[0maxes\u001b[0m\u001b[0;34m[\u001b[0m\u001b[0mi\u001b[0m \u001b[0;34m//\u001b[0m \u001b[0;36m9\u001b[0m\u001b[0;34m,\u001b[0m \u001b[0mi\u001b[0m \u001b[0;34m%\u001b[0m \u001b[0;36m9\u001b[0m\u001b[0;34m]\u001b[0m\u001b[0;34m\u001b[0m\u001b[0m\n\u001b[0;32m----> 6\u001b[0;31m     \u001b[0msns\u001b[0m\u001b[0;34m.\u001b[0m\u001b[0mcountplot\u001b[0m\u001b[0;34m(\u001b[0m\u001b[0mx\u001b[0m\u001b[0;34m=\u001b[0m\u001b[0mfeature\u001b[0m\u001b[0;34m,\u001b[0m \u001b[0mdata\u001b[0m\u001b[0;34m=\u001b[0m\u001b[0mchunk\u001b[0m\u001b[0;34m,\u001b[0m \u001b[0mhue\u001b[0m\u001b[0;34m=\u001b[0m\u001b[0;34m\"custom_mark\"\u001b[0m\u001b[0;34m,\u001b[0m \u001b[0max\u001b[0m\u001b[0;34m=\u001b[0m\u001b[0max\u001b[0m\u001b[0;34m)\u001b[0m\u001b[0;34m\u001b[0m\u001b[0m\n\u001b[0m\u001b[1;32m      7\u001b[0m     \u001b[0max\u001b[0m\u001b[0;34m.\u001b[0m\u001b[0mset_title\u001b[0m\u001b[0;34m(\u001b[0m\u001b[0mfeature\u001b[0m \u001b[0;34m+\u001b[0m \u001b[0;34m'\\n'\u001b[0m \u001b[0;34m+\u001b[0m \u001b[0mfeature_descr\u001b[0m\u001b[0;34m.\u001b[0m\u001b[0mget\u001b[0m\u001b[0;34m(\u001b[0m\u001b[0mfeature\u001b[0m\u001b[0;34m,\u001b[0m \u001b[0;34m''\u001b[0m\u001b[0;34m)\u001b[0m\u001b[0;34m)\u001b[0m\u001b[0;34m\u001b[0m\u001b[0m\n\u001b[1;32m      8\u001b[0m \u001b[0mfig\u001b[0m\u001b[0;34m.\u001b[0m\u001b[0mtight_layout\u001b[0m\u001b[0;34m(\u001b[0m\u001b[0;34m)\u001b[0m\u001b[0;34m\u001b[0m\u001b[0m\n",
      "\u001b[0;32m/home/alex/anaconda3/lib/python3.6/site-packages/seaborn/categorical.py\u001b[0m in \u001b[0;36mcountplot\u001b[0;34m(x, y, hue, data, order, hue_order, orient, color, palette, saturation, ax, **kwargs)\u001b[0m\n\u001b[1;32m   3256\u001b[0m                           \u001b[0mestimator\u001b[0m\u001b[0;34m,\u001b[0m \u001b[0mci\u001b[0m\u001b[0;34m,\u001b[0m \u001b[0mn_boot\u001b[0m\u001b[0;34m,\u001b[0m \u001b[0munits\u001b[0m\u001b[0;34m,\u001b[0m\u001b[0;34m\u001b[0m\u001b[0m\n\u001b[1;32m   3257\u001b[0m                           \u001b[0morient\u001b[0m\u001b[0;34m,\u001b[0m \u001b[0mcolor\u001b[0m\u001b[0;34m,\u001b[0m \u001b[0mpalette\u001b[0m\u001b[0;34m,\u001b[0m \u001b[0msaturation\u001b[0m\u001b[0;34m,\u001b[0m\u001b[0;34m\u001b[0m\u001b[0m\n\u001b[0;32m-> 3258\u001b[0;31m                           errcolor)\n\u001b[0m\u001b[1;32m   3259\u001b[0m \u001b[0;34m\u001b[0m\u001b[0m\n\u001b[1;32m   3260\u001b[0m     \u001b[0mplotter\u001b[0m\u001b[0;34m.\u001b[0m\u001b[0mvalue_label\u001b[0m \u001b[0;34m=\u001b[0m \u001b[0;34m\"count\"\u001b[0m\u001b[0;34m\u001b[0m\u001b[0m\n",
      "\u001b[0;32m/home/alex/anaconda3/lib/python3.6/site-packages/seaborn/categorical.py\u001b[0m in \u001b[0;36m__init__\u001b[0;34m(self, x, y, hue, data, order, hue_order, estimator, ci, n_boot, units, orient, color, palette, saturation, errcolor, errwidth, capsize)\u001b[0m\n\u001b[1;32m   1542\u001b[0m         self.establish_variables(x, y, hue, data, orient,\n\u001b[1;32m   1543\u001b[0m                                  order, hue_order, units)\n\u001b[0;32m-> 1544\u001b[0;31m         \u001b[0mself\u001b[0m\u001b[0;34m.\u001b[0m\u001b[0mestablish_colors\u001b[0m\u001b[0;34m(\u001b[0m\u001b[0mcolor\u001b[0m\u001b[0;34m,\u001b[0m \u001b[0mpalette\u001b[0m\u001b[0;34m,\u001b[0m \u001b[0msaturation\u001b[0m\u001b[0;34m)\u001b[0m\u001b[0;34m\u001b[0m\u001b[0m\n\u001b[0m\u001b[1;32m   1545\u001b[0m         \u001b[0mself\u001b[0m\u001b[0;34m.\u001b[0m\u001b[0mestimate_statistic\u001b[0m\u001b[0;34m(\u001b[0m\u001b[0mestimator\u001b[0m\u001b[0;34m,\u001b[0m \u001b[0mci\u001b[0m\u001b[0;34m,\u001b[0m \u001b[0mn_boot\u001b[0m\u001b[0;34m)\u001b[0m\u001b[0;34m\u001b[0m\u001b[0m\n\u001b[1;32m   1546\u001b[0m \u001b[0;34m\u001b[0m\u001b[0m\n",
      "\u001b[0;32m/home/alex/anaconda3/lib/python3.6/site-packages/seaborn/categorical.py\u001b[0m in \u001b[0;36mestablish_colors\u001b[0;34m(self, color, palette, saturation)\u001b[0m\n\u001b[1;32m    304\u001b[0m         \u001b[0;31m# Determine the gray color to use for the lines framing the plot\u001b[0m\u001b[0;34m\u001b[0m\u001b[0;34m\u001b[0m\u001b[0m\n\u001b[1;32m    305\u001b[0m         \u001b[0mlight_vals\u001b[0m \u001b[0;34m=\u001b[0m \u001b[0;34m[\u001b[0m\u001b[0mcolorsys\u001b[0m\u001b[0;34m.\u001b[0m\u001b[0mrgb_to_hls\u001b[0m\u001b[0;34m(\u001b[0m\u001b[0;34m*\u001b[0m\u001b[0mc\u001b[0m\u001b[0;34m)\u001b[0m\u001b[0;34m[\u001b[0m\u001b[0;36m1\u001b[0m\u001b[0;34m]\u001b[0m \u001b[0;32mfor\u001b[0m \u001b[0mc\u001b[0m \u001b[0;32min\u001b[0m \u001b[0mrgb_colors\u001b[0m\u001b[0;34m]\u001b[0m\u001b[0;34m\u001b[0m\u001b[0m\n\u001b[0;32m--> 306\u001b[0;31m         \u001b[0ml\u001b[0m \u001b[0;34m=\u001b[0m \u001b[0mmin\u001b[0m\u001b[0;34m(\u001b[0m\u001b[0mlight_vals\u001b[0m\u001b[0;34m)\u001b[0m \u001b[0;34m*\u001b[0m \u001b[0;36m.6\u001b[0m\u001b[0;34m\u001b[0m\u001b[0m\n\u001b[0m\u001b[1;32m    307\u001b[0m         \u001b[0mgray\u001b[0m \u001b[0;34m=\u001b[0m \u001b[0mmpl\u001b[0m\u001b[0;34m.\u001b[0m\u001b[0mcolors\u001b[0m\u001b[0;34m.\u001b[0m\u001b[0mrgb2hex\u001b[0m\u001b[0;34m(\u001b[0m\u001b[0;34m(\u001b[0m\u001b[0ml\u001b[0m\u001b[0;34m,\u001b[0m \u001b[0ml\u001b[0m\u001b[0;34m,\u001b[0m \u001b[0ml\u001b[0m\u001b[0;34m)\u001b[0m\u001b[0;34m)\u001b[0m\u001b[0;34m\u001b[0m\u001b[0m\n\u001b[1;32m    308\u001b[0m \u001b[0;34m\u001b[0m\u001b[0m\n",
      "\u001b[0;31mValueError\u001b[0m: min() arg is an empty sequence"
     ]
    },
    {
     "name": "stderr",
     "output_type": "stream",
     "text": [
      "/home/alex/anaconda3/lib/python3.6/site-packages/matplotlib/font_manager.py:1297: UserWarning: findfont: Font family ['sans-serif'] not found. Falling back to DejaVu Sans\n",
      "  (prop.get_family(), self.defaultFamily[fontext]))\n"
     ]
    },
    {
     "data": {
      "image/png": "[encoded data removed]",
      "text/plain": [
       "<matplotlib.figure.Figure at 0x7f96f642d5f8>"
      ]
     },
     "metadata": {},
     "output_type": "display_data"
    }
   ],
   "source": [
    "fig, axes = plt.subplots(5, 9, figsize=(18, 9))\n",
    "#i = 0\n",
    "\n",
    "for i, feature in enumerate(chunk.columns.values):\n",
    "    ax = axes[i // 9, i % 9]\n",
    "    sns.countplot(x=feature, data=chunk, hue=\"custom_mark\", ax=ax)\n",
    "    ax.set_title(feature + '\\n' + feature_descr.get(feature, ''))\n",
    "fig.tight_layout()"
   ]
  },
  {
   "cell_type": "code",
   "execution_count": null,
   "metadata": {
    "collapsed": true
   },
   "outputs": [],
   "source": [
    "seaborn.countplot(x='cf', data=data, hue=\"Response\", ax=axes[0])"
   ]
  },
  {
   "cell_type": "code",
   "execution_count": 11,
   "metadata": {
    "collapsed": true
   },
   "outputs": [],
   "source": [
    "train_chunks, test_chunks = [], []"
   ]
  },
  {
   "cell_type": "code",
   "execution_count": null,
   "metadata": {
    "collapsed": true
   },
   "outputs": [],
   "source": [
    "for fname in tqdm_notebook(train_files[:FIRST_N]):\n",
    "    chunk = pd.read_feather(fname)\n",
    "    train_chunks.append(chunk[['user_id', 'short_date', 'custom_mark']].copy())"
   ]
  },
  {
   "cell_type": "code",
   "execution_count": null,
   "metadata": {
    "collapsed": true
   },
   "outputs": [],
   "source": [
    "for fname in tqdm_notebook(test_files[:FIRST_N]):\n",
    "    chunk = pd.read_feather(fname)\n",
    "    test_chunks.append(chunk[['user_id', 'short_date']].copy())"
   ]
  },
  {
   "cell_type": "code",
   "execution_count": null,
   "metadata": {
    "collapsed": true
   },
   "outputs": [],
   "source": [
    "chunk = pd.read_feather(train_files[0])"
   ]
  },
  {
   "cell_type": "code",
   "execution_count": null,
   "metadata": {
    "collapsed": true
   },
   "outputs": [],
   "source": [
    "chunk.columns"
   ]
  },
  {
   "cell_type": "code",
   "execution_count": null,
   "metadata": {
    "collapsed": true
   },
   "outputs": [],
   "source": [
    "chunk[['user_id', 'short_date']]"
   ]
  },
  {
   "cell_type": "code",
   "execution_count": null,
   "metadata": {
    "collapsed": true
   },
   "outputs": [],
   "source": [
    "chunk"
   ]
  },
  {
   "cell_type": "code",
   "execution_count": null,
   "metadata": {
    "collapsed": true
   },
   "outputs": [],
   "source": [
    "hashed_set = set()"
   ]
  },
  {
   "cell_type": "code",
   "execution_count": null,
   "metadata": {
    "collapsed": true
   },
   "outputs": [],
   "source": [
    "for fname in tqdm_notebook(train_files[:FIRST_N]):\n",
    "    chunk = pd.read_feather(fname)\n",
    "    hashed_set |= set(chunk['user_acct_number_hashed']) | set(chunk['ext_acct_number_hashed'])"
   ]
  },
  {
   "cell_type": "code",
   "execution_count": null,
   "metadata": {
    "collapsed": true,
    "scrolled": true
   },
   "outputs": [],
   "source": [
    "len(hashed_set)"
   ]
  },
  {
   "cell_type": "code",
   "execution_count": null,
   "metadata": {
    "collapsed": true
   },
   "outputs": [],
   "source": [
    "acc_dict = {}"
   ]
  },
  {
   "cell_type": "code",
   "execution_count": null,
   "metadata": {
    "collapsed": true
   },
   "outputs": [],
   "source": [
    "len(acc_dict)"
   ]
  },
  {
   "cell_type": "code",
   "execution_count": null,
   "metadata": {
    "collapsed": true
   },
   "outputs": [],
   "source": [
    "for h in hashed_set:\n",
    "    acc_dict[h] = str(len(acc_dict)) + '@A'"
   ]
  },
  {
   "cell_type": "code",
   "execution_count": null,
   "metadata": {
    "collapsed": true
   },
   "outputs": [],
   "source": [
    "selected_cols = ['user_id', 'short_date', 'user_acct_number_hashed', \n",
    "                 'ext_acct_number_hashed', 'custom_mark', 'channel_indicator_desc', 'amount_original']"
   ]
  },
  {
   "cell_type": "raw",
   "metadata": {},
   "source": [
    "%%time\n",
    "chunk = pd.read_feather(train_files[0])"
   ]
  },
  {
   "cell_type": "raw",
   "metadata": {},
   "source": [
    "c = chunk.copy()\n",
    "c"
   ]
  },
  {
   "cell_type": "raw",
   "metadata": {},
   "source": [
    "c.head(10)[selected_cols]"
   ]
  },
  {
   "cell_type": "code",
   "execution_count": null,
   "metadata": {
    "collapsed": true
   },
   "outputs": [],
   "source": [
    "chunks = []"
   ]
  },
  {
   "cell_type": "code",
   "execution_count": null,
   "metadata": {
    "collapsed": true,
    "scrolled": true
   },
   "outputs": [],
   "source": [
    "for fname in tqdm_notebook(train_files):\n",
    "    chunk = pd.read_feather(fname)\n",
    "    chunk = chunk[selected_cols].copy()\n",
    "    chunk['is_fraud'] = chunk['custom_mark'].apply(cust_mark_to_class)\n",
    "    chunk = chunk.loc[(chunk['user_acct_number_hashed'] != 'null') & (chunk['ext_acct_number_hashed'] != 'null')].copy()\n",
    "\n",
    "    for usr, ext in zip(chunk['user_acct_number_hashed'], chunk['ext_acct_number_hashed']):\n",
    "        if not (usr in acc_dict.keys()):\n",
    "            acc_dict[usr] = str(len(acc_dict)) + '@A'\n",
    "        if not (ext in acc_dict.keys()):\n",
    "            acc_dict[ext] = str(len(acc_dict)) + '@A'\n",
    "\n",
    "    chunk['user_acct_number_hashed'] = [acc_dict[x] for x in chunk['user_acct_number_hashed']]\n",
    "    chunk['ext_acct_number_hashed'] = [acc_dict[x] for x in chunk['ext_acct_number_hashed']]\n",
    "    chunks.append(chunk)"
   ]
  },
  {
   "cell_type": "code",
   "execution_count": null,
   "metadata": {
    "collapsed": true
   },
   "outputs": [],
   "source": [
    "chunks_df = pd.concat(chunks)#.shape"
   ]
  },
  {
   "cell_type": "code",
   "execution_count": null,
   "metadata": {
    "collapsed": true
   },
   "outputs": [],
   "source": [
    "del chunks"
   ]
  },
  {
   "cell_type": "code",
   "execution_count": null,
   "metadata": {
    "collapsed": true
   },
   "outputs": [],
   "source": [
    "gc.collect()"
   ]
  },
  {
   "cell_type": "code",
   "execution_count": null,
   "metadata": {
    "collapsed": true
   },
   "outputs": [],
   "source": [
    "chunks_df.shape"
   ]
  },
  {
   "cell_type": "code",
   "execution_count": null,
   "metadata": {
    "collapsed": true
   },
   "outputs": [],
   "source": [
    "chunks_df.rename(columns = {'user_acct_number_hashed': 'hacc_user', 'ext_acct_number_hashed': 'hacc_ext'}, inplace=True)"
   ]
  },
  {
   "cell_type": "code",
   "execution_count": null,
   "metadata": {
    "collapsed": true
   },
   "outputs": [],
   "source": [
    "chunks_df.head(5)"
   ]
  },
  {
   "cell_type": "code",
   "execution_count": null,
   "metadata": {
    "collapsed": true
   },
   "outputs": [],
   "source": [
    "chunks_df['channel_indicator_desc'].value_counts(dropna=False)"
   ]
  },
  {
   "cell_type": "code",
   "execution_count": null,
   "metadata": {
    "collapsed": true
   },
   "outputs": [],
   "source": [
    "chunks_df['is_fraud'].value_counts()"
   ]
  },
  {
   "cell_type": "code",
   "execution_count": null,
   "metadata": {
    "collapsed": true
   },
   "outputs": [],
   "source": [
    "chunks_df['hacc_user'].value_counts()"
   ]
  },
  {
   "cell_type": "code",
   "execution_count": null,
   "metadata": {
    "collapsed": true
   },
   "outputs": [],
   "source": [
    "chunks_df['hacc_ext'].value_counts()"
   ]
  },
  {
   "cell_type": "code",
   "execution_count": null,
   "metadata": {
    "collapsed": true
   },
   "outputs": [],
   "source": [
    "edges_set = set(zip(chunks_df['hacc_user'], chunks_df['hacc_ext']))"
   ]
  },
  {
   "cell_type": "code",
   "execution_count": null,
   "metadata": {
    "collapsed": true
   },
   "outputs": [],
   "source": [
    "len(edges_set)"
   ]
  },
  {
   "cell_type": "code",
   "execution_count": null,
   "metadata": {
    "collapsed": true
   },
   "outputs": [],
   "source": [
    "g = nx.Graph(directed=False)"
   ]
  },
  {
   "cell_type": "code",
   "execution_count": null,
   "metadata": {
    "collapsed": true
   },
   "outputs": [],
   "source": [
    "list(edges_set)[0]"
   ]
  },
  {
   "cell_type": "raw",
   "metadata": {},
   "source": [
    "%%time\n",
    "g.add_edges_from(edges_set)"
   ]
  },
  {
   "cell_type": "code",
   "execution_count": null,
   "metadata": {
    "collapsed": true
   },
   "outputs": [],
   "source": [
    "for v1, v2 in tqdm_notebook(edges_set):\n",
    "    g.add_edge(v1, v2)"
   ]
  },
  {
   "cell_type": "code",
   "execution_count": null,
   "metadata": {
    "collapsed": true
   },
   "outputs": [],
   "source": [
    "%%time\n",
    "nx.components.number_connected_components(g)"
   ]
  },
  {
   "cell_type": "code",
   "execution_count": null,
   "metadata": {
    "collapsed": true
   },
   "outputs": [],
   "source": [
    "%%time\n",
    "components = [x for x in tqdm_notebook(nx.components.connected_components(g))]"
   ]
  },
  {
   "cell_type": "code",
   "execution_count": null,
   "metadata": {
    "collapsed": true
   },
   "outputs": [],
   "source": [
    "chunks_df.head(5)"
   ]
  },
  {
   "cell_type": "code",
   "execution_count": null,
   "metadata": {
    "collapsed": true
   },
   "outputs": [],
   "source": [
    "fraud_df = chunks_df.loc[chunks_df['is_fraud'] == 1]"
   ]
  },
  {
   "cell_type": "code",
   "execution_count": null,
   "metadata": {
    "collapsed": true
   },
   "outputs": [],
   "source": [
    "fraud_accs_full = set(fraud_df['hacc_user']) | set(fraud_df['hacc_ext'])"
   ]
  },
  {
   "cell_type": "code",
   "execution_count": null,
   "metadata": {
    "collapsed": true
   },
   "outputs": [],
   "source": [
    "components[1] & fraud_accs_full"
   ]
  },
  {
   "cell_type": "code",
   "execution_count": null,
   "metadata": {
    "collapsed": true
   },
   "outputs": [],
   "source": [
    "comp_ratio = pd.DataFrame([(len(x), len(x & fraud_accs_full)) for x in components], columns = ['size', 'n_fraud'])"
   ]
  },
  {
   "cell_type": "code",
   "execution_count": null,
   "metadata": {
    "collapsed": true
   },
   "outputs": [],
   "source": [
    "comp_ratio.groupby('size')['n_fraud'].agg(np.sum)"
   ]
  },
  {
   "cell_type": "code",
   "execution_count": null,
   "metadata": {
    "collapsed": true
   },
   "outputs": [],
   "source": [
    "g_dir = nx.Graph(directed=True)"
   ]
  },
  {
   "cell_type": "code",
   "execution_count": null,
   "metadata": {
    "collapsed": true
   },
   "outputs": [],
   "source": [
    "for v1, v2 in tqdm_notebook(edges_set):\n",
    "    g_dir.add_edge(v1, v2)"
   ]
  },
  {
   "cell_type": "raw",
   "metadata": {},
   "source": [
    "g_dir.to_directed()"
   ]
  },
  {
   "cell_type": "code",
   "execution_count": null,
   "metadata": {
    "collapsed": true
   },
   "outputs": [],
   "source": [
    "gc.collect()"
   ]
  },
  {
   "cell_type": "raw",
   "metadata": {},
   "source": [
    "%%time\n",
    "comm_dir = [x for x in tqdm_notebook(nx.weakly_connected_component_subgraphs(g_dir.to_directed()))]"
   ]
  },
  {
   "cell_type": "code",
   "execution_count": null,
   "metadata": {
    "collapsed": true
   },
   "outputs": [],
   "source": [
    "g_fraud = nx.Graph(directed=False)"
   ]
  },
  {
   "cell_type": "code",
   "execution_count": null,
   "metadata": {
    "collapsed": true
   },
   "outputs": [],
   "source": [
    "for v1, v2 in tqdm_notebook([x for x in edges_set if (x[0] in fraud_accs_full) or (x[1] in fraud_accs_full)]):\n",
    "    g_fraud.add_edge(v1, v2)"
   ]
  },
  {
   "cell_type": "code",
   "execution_count": null,
   "metadata": {
    "collapsed": true
   },
   "outputs": [],
   "source": [
    "comm_fraud = [x for x in tqdm_notebook(nx.components.connected_components(g_fraud))]"
   ]
  },
  {
   "cell_type": "code",
   "execution_count": null,
   "metadata": {
    "collapsed": true,
    "scrolled": true
   },
   "outputs": [],
   "source": [
    "[(len(x), len(x & fraud_accs_full)) for x in comm_fraud]"
   ]
  },
  {
   "cell_type": "code",
   "execution_count": null,
   "metadata": {
    "collapsed": true
   },
   "outputs": [],
   "source": [
    "a =g_fraud.subgraph(comm_fraud)"
   ]
  },
  {
   "cell_type": "code",
   "execution_count": null,
   "metadata": {
    "collapsed": true
   },
   "outputs": [],
   "source": [
    "chunks_df[['']]"
   ]
  },
  {
   "cell_type": "code",
   "execution_count": null,
   "metadata": {
    "collapsed": true
   },
   "outputs": [],
   "source": [
    "chunk"
   ]
  },
  {
   "cell_type": "code",
   "execution_count": null,
   "metadata": {
    "collapsed": true
   },
   "outputs": [],
   "source": [
    "chunk.loc[(chunk['user_acct_number_hashed'] != 'null') & (chunk['ext_acct_number_hashed'] != 'null')]"
   ]
  },
  {
   "cell_type": "code",
   "execution_count": null,
   "metadata": {
    "collapsed": true
   },
   "outputs": [],
   "source": [
    "chunk['user_id'].value_counts()"
   ]
  },
  {
   "cell_type": "code",
   "execution_count": null,
   "metadata": {
    "collapsed": true
   },
   "outputs": [],
   "source": [
    "pd.read_feather()"
   ]
  },
  {
   "cell_type": "code",
   "execution_count": null,
   "metadata": {
    "collapsed": true
   },
   "outputs": [],
   "source": [
    "g.add_edge"
   ]
  },
  {
   "cell_type": "code",
   "execution_count": null,
   "metadata": {
    "collapsed": true
   },
   "outputs": [],
   "source": []
  },
  {
   "cell_type": "markdown",
   "metadata": {},
   "source": [
    "---"
   ]
  },
  {
   "cell_type": "markdown",
   "metadata": {},
   "source": [
    "# подвал ниже"
   ]
  },
  {
   "cell_type": "markdown",
   "metadata": {},
   "source": [
    "## Работа с БД sqlite, создание дополнительных индексов"
   ]
  },
  {
   "cell_type": "code",
   "execution_count": null,
   "metadata": {
    "collapsed": true
   },
   "outputs": [],
   "source": [
    "%matplotlib inline"
   ]
  },
  {
   "cell_type": "code",
   "execution_count": null,
   "metadata": {
    "collapsed": true
   },
   "outputs": [],
   "source": [
    "!cd; cd -"
   ]
  },
  {
   "cell_type": "code",
   "execution_count": null,
   "metadata": {
    "collapsed": true
   },
   "outputs": [],
   "source": [
    "# создание коннекта к БД и крурсора для запросов\n",
    "conn = sqlite3.connect('../data/input/hse_sqlite')\n",
    "c = conn.cursor()\n",
    "\n",
    "# создание engine для чтения данных в DataFrame\n",
    "engine = sa.create_engine('sqlite:///../data/input/hse_sqlite.db')"
   ]
  },
  {
   "cell_type": "code",
   "execution_count": null,
   "metadata": {
    "collapsed": true
   },
   "outputs": [],
   "source": [
    "# пример получения перечня таблиц (в данном случае она будет 1)\n",
    "c.execute(\"SELECT name FROM sqlite_master WHERE type='table';\")\n",
    "print ('Перечень таблиц: {0}\\r\\n\\r\\n'.format(c.fetchall()))\n",
    "\n",
    "# перечень столбцов\n",
    "c.execute(\"SELECT * FROM rsa_event_log LIMIT 1;\")\n",
    "cols = [descr[0] for descr in c.description]\n",
    "print ('Столбцы в таблице: {0}'.format(cols))"
   ]
  },
  {
   "cell_type": "markdown",
   "metadata": {},
   "source": [
    "### Подробнее что есть что\n",
    "\n",
    "'event_id'- уникальный id транзакции\n",
    "\n",
    "'short_date' - дата (для удобства поиска/агрегации)\n",
    "\n",
    "'user_id' - уникальный идентификатор клиента\n",
    "\n",
    "'event_time' - дата и время собятия\n",
    "\n",
    "'custom_mark'- результат разбора события\n",
    "\n",
    "'channel_indicator_desc' - канал проведения операции (web, мобильное приложение, SMS-банк и пр.)\n",
    "\n",
    "'event_description' - описание непосредственно события (например, вход в систему или перевод, оплата услуг)\n",
    "\n",
    "'amount_original' - сумма в рублях\n",
    "\n",
    "'user_agent_string_hash', 'browser_plugins_hash', 'screen_hash' - различные признаки устройства (с определенной степенью точности позволяет понять уникальность устройства в разрезе пользователя)\n",
    "\n",
    "ip_address', 'ip_country', 'ip_region', 'ip_city', 'ip_isp' - данные, связанные с IP (регион, город и интернет-провадйер по БД гео-IP)\n",
    "'hardwareid' - уникальный идентификатор устройства для канала мобильных приложений\n",
    "\n",
    "'user_acct_number_hashed'- счет отправителя (хэшированный)\n",
    "'ext_acct_number_hashed'- счет получателя (хэшированный)\n",
    "\n",
    "\n",
    "'data_s_65' - результат определения связи между отправителем и получателем (чем больше, тем сильнее связь) \n",
    "'data_i_118', 'data_i_119’, 'data_i_120', 'data_i_154' - ряд признаков, которые описывают устройство, с которого проводятся операции\n",
    " \n",
    "\n",
    "\n",
    " 'cdf_s_136','cdf_s_137','cdf_s_140'- кумулятивные суммы операций за сутки в web, МП, web + МП\n",
    " 'cdf_s_218'- предполагаемое наличие родственной связи \n",
    " 'cdf_s_127', 'cdf_s_135', 'cdf_s_130', 'cdf_s_129', 'cdf_s_134', 'cdf_s_128', 'cdf_s_138', 'cdf_s_126' - дней с момента различных рисковых событий\n",
    "\n",
    "\n",
    "\n",
    " 'cdf_s_19'- ДР клиента\n",
    " 'cdf_s_20'- Территориальный банк клиента (региональный признак)\n",
    " 'cdf_s_299'- Тер банк получателя (региональный признак)\n",
    "\n",
    " 'cdf_s_294'- возраст получателя\n",
    "\n",
    " 'cdf_s_123'- региональный признак получателя (более локальный по сравнению с ТБ)\n",
    " 'cdf_s_124'- дата выдачи карты получателя\n",
    "\n",
    " 'cdf_s_178_hashed' - реквизит получателя"
   ]
  },
  {
   "cell_type": "code",
   "execution_count": null,
   "metadata": {
    "collapsed": true
   },
   "outputs": [],
   "source": [
    "# функция получения lable из csutom_mark\n",
    "\n",
    "def cust_mark_to_class(custom_mark):\n",
    "    \"\"\"\n",
    "    Преобразует входящее значение CUSTOM_MARK в класс\n",
    "    return:\n",
    "        1 - фрод\n",
    "        0 - легитимная\n",
    "        -1 - неизвестно\n",
    "    \"\"\"\n",
    "    ret = -1\n",
    "    if custom_mark in ['F','S']:\n",
    "        ret = 1\n",
    "    elif custom_mark in ['A','G', np.NaN]:\n",
    "        ret = 0\n",
    "    \n",
    "    return ret"
   ]
  },
  {
   "cell_type": "code",
   "execution_count": null,
   "metadata": {
    "collapsed": true
   },
   "outputs": [],
   "source": []
  },
  {
   "cell_type": "code",
   "execution_count": null,
   "metadata": {
    "collapsed": true
   },
   "outputs": [],
   "source": [
    "# Пример форомирования DataFrame из БД с заполнением типа полей\n",
    "\n",
    "def transform_cols (df, dict_col_types = None):\n",
    "    # Расширяйте для необходимых столбцов и их явной типизации\n",
    "    if dict_col_types is None:\n",
    "        dict_col_types = {\n",
    "        'amount_original':(float, 0.0),\n",
    "        'cdf_s_126':(str, u'null'),\n",
    "        'cdf_s_138':(str, u'null'),\n",
    "        'channel_indicator':(str, u'null'),\n",
    "        'event_description':(str, u'null'),\n",
    "        'cdf_s_294':(int, 0),\n",
    "        'cdf_s_140':(float, 0.0),\n",
    "        'data_i_120':(int, 0),\n",
    "        'cdf_s_218':(str, u'null'),\n",
    "        'data_s_65':(int, 0),\n",
    "        'cdf_s_127':(int, 30),\n",
    "        'cdf_s_135':(int, 30),\n",
    "        'cdf_s_130':(int, 30),\n",
    "        'cdf_s_129':(int, 30),\n",
    "        'cdf_s_134':(int, 30),\n",
    "        'data_i_154':(float, np.nan),\n",
    "        'cdf_s_133':(int, 30),\n",
    "        'cdf_s_20':(str, u'null'),\n",
    "        'cdf_s_299':(str, u'null'),\n",
    "        }\n",
    "                \n",
    "    if df.shape[0] > 0:\n",
    "        df.replace(u'null', np.nan, inplace=True)\n",
    "\n",
    "        for i in dict_col_types:\n",
    "            if i in df.columns:\n",
    "                df[i] = df[i].fillna(dict_col_types[i][1]).astype(dict_col_types[i][0])\n",
    "    \n",
    "    return df\n",
    "    \n",
    "\n",
    "def df_from_sql (sql, parse_dates = ['event_time','cdf_s_19', 'cdf_s_123','cdf_s_124'], dict_col_types = None, chunk_size = None, engine=engine):\n",
    "    \"\"\"\n",
    "    Функция вощвращающая df в результате переданного sql-запроса\n",
    "    Также поддерживается приведение столбцов к заданным типам \n",
    "    и чтение по блокам\n",
    "    \"\"\"\n",
    "     \n",
    "    if chunk_size is not None:\n",
    "        df_iter =  [transform_cols(chunk, dict_col_types) for chunk in pd.read_sql_query(sql, engine, parse_dates = parse_dates, chunksize=chunk_size)]\n",
    "    else:\n",
    "        df_iter = transform_cols(pd.read_sql_query(sql, engine, parse_dates = parse_dates), dict_col_types)\n",
    "        #df_iter = pd.read_sql_query(sql, engine, con=conn,  parse_dates = parse_dates)\n",
    "    \n",
    "    return df_iter\n"
   ]
  },
  {
   "cell_type": "markdown",
   "metadata": {},
   "source": [
    "Я тут по факту продублировал индексы."
   ]
  },
  {
   "cell_type": "code",
   "execution_count": null,
   "metadata": {
    "collapsed": true
   },
   "outputs": [],
   "source": [
    "# создание индексов для ускорения поиска\n",
    "# описанные здесь уже созданы в предоставленной БД, при необходимотси можете расширить набор\n",
    "cols_to_index = ['user_id', 'custom_mark', 'short_date',  'channel_indicator_desc', 'event_description']\n",
    "\n",
    "for col in cols_to_index:\n",
    "    c.execute('CREATE INDEX {ix} on {tn}({cn})'\\\n",
    "            .format(ix='indx_new_{0}'.format(col), tn='rsa_event_log', cn=col)) # add new index indx_new_{0}\n",
    "\n",
    "c.execute('CREATE INDEX date_user_event on rsa_event_log(short_date, user_id, event_description);')   \n",
    "    \n",
    "conn.commit()"
   ]
  },
  {
   "cell_type": "code",
   "execution_count": null,
   "metadata": {
    "collapsed": true
   },
   "outputs": [],
   "source": [
    "#  Общий срез по данным\n",
    "c.execute(\"select COUNT(*) from rsa_event_log;\")\n",
    "print ('Общее число транзакций: {0}'.format(c.fetchall()))\n",
    "\n",
    "\n",
    "# Число уникальных пользователей\n",
    "c.execute(\"select COUNT(DISTINCT user_id) from rsa_event_log;\")\n",
    "print (\"Уникальных пользователей: {0}\".format(c.fetchall()))\n",
    "\n",
    "# Временной диапазон и количество клиентов\n",
    "c.execute(\"select min(short_date), max(short_date) from rsa_event_log;\")\n",
    "print('Диапазон дат: {0}'.format(c.fetchall()))\n"
   ]
  },
  {
   "cell_type": "code",
   "execution_count": null,
   "metadata": {
    "collapsed": true
   },
   "outputs": [],
   "source": [
    "start_date = \"20171029\"\n",
    "end_date = \"20171128\""
   ]
  },
  {
   "cell_type": "code",
   "execution_count": null,
   "metadata": {
    "collapsed": true
   },
   "outputs": [],
   "source": [
    "sql = \"\"\"select AVG(short_date) from rsa_event_log \n",
    "                        where short_date between {start} and {end};\"\"\".format(start=start_date, end=end_date)"
   ]
  },
  {
   "cell_type": "code",
   "execution_count": null,
   "metadata": {
    "collapsed": true
   },
   "outputs": [],
   "source": [
    "c.execute(sql)\n",
    "print ('Общее число транзакций: {0}'.format(c.fetchall()))"
   ]
  },
  {
   "cell_type": "code",
   "execution_count": null,
   "metadata": {
    "collapsed": true
   },
   "outputs": [],
   "source": [
    "sql"
   ]
  },
  {
   "cell_type": "markdown",
   "metadata": {},
   "source": [
    "###  Summary анализ данных (на примере 5% выборки пользователей)\n",
    "1) Общее число записей и столбцов\n",
    "\n",
    "2) Типы данных, numeric, categorical, распределения, число уникальных типов\n",
    "\n",
    "3) Вариативность и NULL"
   ]
  },
  {
   "cell_type": "code",
   "execution_count": null,
   "metadata": {
    "collapsed": true
   },
   "outputs": [],
   "source": [
    "all_users = df_from_sql('select DISTINCT user_id from rsa_event_log;',\n",
    "                        engine=conn,\n",
    "                        parse_dates=None)"
   ]
  },
  {
   "cell_type": "code",
   "execution_count": null,
   "metadata": {
    "collapsed": true
   },
   "outputs": [],
   "source": [
    "sample_users = all_users.sample(frac=0.05).user_id.astype(str).tolist()"
   ]
  },
  {
   "cell_type": "code",
   "execution_count": null,
   "metadata": {
    "collapsed": true
   },
   "outputs": [],
   "source": [
    "# достаточно долгий запрос\n",
    "data = df_from_sql(\"select * from rsa_event_log where user_id in ({0});\".format(str(sample_users)[1:-1]), engine=conn)"
   ]
  },
  {
   "cell_type": "code",
   "execution_count": null,
   "metadata": {
    "collapsed": true
   },
   "outputs": [],
   "source": [
    "#data.to_csv('../data/data1per.csv')"
   ]
  },
  {
   "cell_type": "code",
   "execution_count": null,
   "metadata": {
    "collapsed": true
   },
   "outputs": [],
   "source": [
    "!ls ../"
   ]
  },
  {
   "cell_type": "code",
   "execution_count": null,
   "metadata": {
    "collapsed": true
   },
   "outputs": [],
   "source": [
    "data = pd.read_csv('../data/data1per.csv', index_col=0)"
   ]
  },
  {
   "cell_type": "code",
   "execution_count": null,
   "metadata": {
    "collapsed": true
   },
   "outputs": [],
   "source": []
  },
  {
   "cell_type": "code",
   "execution_count": null,
   "metadata": {
    "collapsed": true,
    "scrolled": true
   },
   "outputs": [],
   "source": [
    "print ('Shape: {0}'.format(data.shape))\n",
    "data.head(10)"
   ]
  },
  {
   "cell_type": "code",
   "execution_count": null,
   "metadata": {
    "collapsed": true
   },
   "outputs": [],
   "source": [
    "#Сводная статистика по датасету\n",
    "\n",
    "\n",
    "def summary_stats(data):\n",
    "    df_summary_stats = pd.DataFrame(index=data.columns,columns=['type','nunique', 'top_3_values_freq', 'null_rate', 'std','min', 'max', 'mean', 'quantile'])\n",
    "    for col in data.columns:\n",
    "\n",
    "        col_type = data[col].dtype\n",
    "        if col_type in ['object','str']:\n",
    "            df_summary_stats.loc[col][[\n",
    "                'type',\n",
    "                'nunique', \n",
    "                'top_3_values_freq', \n",
    "                'null_rate'\n",
    "            ]] = \\\n",
    "            col_type, \\\n",
    "            data[col].nunique(),\\\n",
    "            dict(data[col].value_counts().head(3)*100.0/data.shape[0]),\\\n",
    "            sum(data[col].isnull())*100.0/data.shape[0]\n",
    "\n",
    "        if col_type in ['int64', 'float64', 'int32', 'float32']:\n",
    "            df_summary_stats.loc[col][[\n",
    "                'type',\n",
    "                'null_rate',\n",
    "                'std',\n",
    "                'min',\n",
    "                'max',\n",
    "                'mean',\n",
    "                'quantile'\n",
    "            ]] = \\\n",
    "            col_type, \\\n",
    "            sum(data[col].isnull())*100.0/data.shape[0],\\\n",
    "            data[col].std(),\\\n",
    "            data[col].min(),\\\n",
    "            data[col].max(),\\\n",
    "            data[col].mean(),\\\n",
    "            dict(data[col].quantile([0.25,0.5,0.75]))\n",
    "\n",
    "        if col_type == 'datetime64[ns]':\n",
    "            df_summary_stats.loc[col][[\n",
    "                'type',\n",
    "                'null_rate',\n",
    "                'min',\n",
    "                'max',\n",
    "            ]] = \\\n",
    "            col_type, \\\n",
    "            sum(data[col].isnull())*100.0/data.shape[0],\\\n",
    "            data[col].min(),\\\n",
    "            data[col].max()\n",
    "        \n",
    "    return df_summary_stats"
   ]
  },
  {
   "cell_type": "code",
   "execution_count": null,
   "metadata": {
    "collapsed": true,
    "scrolled": true
   },
   "outputs": [],
   "source": [
    "# Обратите внимание, что у многих столбцов тип определился как object (исключая заданные нами) - обычно такое бывает когда столбец содержит Nan или же не был определен тип данных (например, для строк)\n",
    "summary_stats(data)"
   ]
  },
  {
   "cell_type": "code",
   "execution_count": null,
   "metadata": {
    "collapsed": true,
    "scrolled": true
   },
   "outputs": [],
   "source": [
    "#Типы операций\n",
    "data.event_description.value_counts(dropna=False)"
   ]
  },
  {
   "cell_type": "markdown",
   "metadata": {},
   "source": [
    "### Постановка задачи - разработка модели, осуществляющей выявление мошенничество в каналах WEBAPI, MOBILEAPI, ATMAPI"
   ]
  },
  {
   "cell_type": "code",
   "execution_count": null,
   "metadata": {
    "collapsed": true,
    "scrolled": true
   },
   "outputs": [],
   "source": [
    "# И тут мы видим лучшую заполненнсоть полей\n",
    "transaction_data = data[data.event_description.isin([u'Перевод частному лицу',u'Оплата услуг',u'Перевод между своими счетами и картами'])]\n",
    "print(transaction_data.shape)\n",
    "summary_stats(transaction_data)"
   ]
  },
  {
   "cell_type": "code",
   "execution_count": null,
   "metadata": {
    "collapsed": true
   },
   "outputs": [],
   "source": [
    "data = transaction_data = None"
   ]
  },
  {
   "cell_type": "code",
   "execution_count": null,
   "metadata": {
    "collapsed": true
   },
   "outputs": [],
   "source": []
  },
  {
   "cell_type": "markdown",
   "metadata": {},
   "source": [
    "## Feature engineering"
   ]
  },
  {
   "cell_type": "markdown",
   "metadata": {},
   "source": [
    "### Поскольку объем данных достаточно существенный и одновременно в память его не прогрузить, то необходимо рассчитывать фичи по \"порциями\". Cплитить будем по пользователям"
   ]
  },
  {
   "cell_type": "code",
   "execution_count": null,
   "metadata": {
    "collapsed": true,
    "scrolled": true
   },
   "outputs": [],
   "source": [
    "# сначала определим временной диапазон, в котором будем тренировать и валидировать модель исходя из распределения фрода\n",
    "fraud_df = df_from_sql(\"select * from rsa_event_log where custom_mark in ('F','S')\", engine=conn)\n",
    "\n",
    "# основная доля сосредоточена в период с 29.10 по 28.11, его и выбираем\n",
    "fraud_df.groupby('short_date').event_id.count()"
   ]
  },
  {
   "cell_type": "code",
   "execution_count": null,
   "metadata": {
    "collapsed": true
   },
   "outputs": [],
   "source": [
    "plt.plot(fraud_df.groupby('short_date').event_id.count())\n",
    "plt.show()"
   ]
  },
  {
   "cell_type": "markdown",
   "metadata": {},
   "source": [
    "## Обратите внимание на выбор диапазона "
   ]
  },
  {
   "cell_type": "code",
   "execution_count": null,
   "metadata": {
    "collapsed": true
   },
   "outputs": [],
   "source": [
    "start_date = \"20171029\"\n",
    "end_date = \"20171128\""
   ]
  },
  {
   "cell_type": "code",
   "execution_count": null,
   "metadata": {
    "collapsed": true
   },
   "outputs": [],
   "source": [
    "# для ускорения проверки корректности расчета фич - используйте sample из 1-2% пользователей\n",
    "all_users = df_from_sql(\"select distinct user_id from rsa_event_log\", engine=conn,parse_dates=None)\n",
    "users_sample = all_users.sample(frac=0.01).user_id.astype(str).tolist()"
   ]
  },
  {
   "cell_type": "code",
   "execution_count": null,
   "metadata": {
    "collapsed": true
   },
   "outputs": [],
   "source": [
    "# Функция рассчет по пачкам, если dataset не помещается в память\n",
    "\n",
    "def features_chunk_handler(sql, calc_feat, chunk_size=5000):\n",
    "    \"\"\"\n",
    "    sql - запрос выбирающий данные и возвращающий df необходимого для calc_feat метода\n",
    "    calc_feat - процедура, осуществляющая расчет фичей на основании входного DF\n",
    "    \"\"\"\n",
    "    rez_df = pd.DataFrame()\n",
    "    for chunk in tqdm_notebook(df_from_sql(sql, engine=conn, chunk_size=chunk_size), total = 72000000 // chunk_size):\n",
    "        \n",
    "        # При необходимости - добавить еще запись в БД sqlite рассчитанных признаков\n",
    "        feat_chunk = calc_feat(chunk)\n",
    "        #feat_chunk = chunk\n",
    "        \n",
    "        rez_df = pd.concat([rez_df, feat_chunk], ignore_index=True)\n",
    "        \n",
    "    return rez_df\n",
    "        "
   ]
  },
  {
   "cell_type": "code",
   "execution_count": null,
   "metadata": {
    "collapsed": true
   },
   "outputs": [],
   "source": [
    "from tqdm import tqdm_notebook"
   ]
  },
  {
   "cell_type": "code",
   "execution_count": null,
   "metadata": {
    "collapsed": true
   },
   "outputs": [],
   "source": [
    "def map_field(data, field_name, target_name, alpha):\n",
    "    global_mean = data[target_name].mean()\n",
    "    counters = data.groupby(field_name)[target_name].mean()\n",
    "    n_counters = data.groupby(field_name)[target_name].count()\n",
    "    out = ((data[field_name].map(counters) + global_mean * alpha)/ \\\n",
    "           (data[field_name].map(n_counters) + alpha))\n",
    "    return out"
   ]
  },
  {
   "cell_type": "code",
   "execution_count": null,
   "metadata": {
    "collapsed": true
   },
   "outputs": [],
   "source": [
    "def calc_base_features (data):\n",
    "    feat_matrix = pd.DataFrame()\n",
    "    # sampling - data = data[data.user_id.isin(users_sample) & data.event_description.isin([u'Перевод частному лицу',u'Оплата услуг',u'Перевод между своими счетами и картами'])]\n",
    "    data = data[data.event_description.isin([u'Перевод частному лицу',u'Оплата услуг',u'Перевод между своими счетами и картами'])]\n",
    "    \n",
    "    if data.shape[0] == 0:\n",
    "        return feat_matrix\n",
    "    \n",
    "    # заполняем ряд пропусков\n",
    "    data.cdf_s_140 = data.cdf_s_140.fillna(0).astype(float)/1000 # кумулятивная сумма опреаций за сутки, если не заполнена, то значит это первая операций, т.е. = 0\n",
    "    data.data_i_120.fillna(1, inplace=True)\n",
    "\n",
    "    \n",
    "    feat_matrix['event_id'] = data.event_id\n",
    "    feat_matrix['user_id'] = data.user_id\n",
    "\n",
    "    feat_matrix['custom_mark'] = data.custom_mark    \n",
    "    feat_matrix['event_time'] = data.event_time\n",
    "\n",
    "    feat_matrix['amount'] = data.amount_original\n",
    "    \n",
    "    feat_matrix['client_age'] = (data.event_time - data.cdf_s_19).apply(lambda x: x.days/360)\n",
    " \n",
    "        \n",
    "    feat_matrix['cat_new_ip'] = data.cdf_s_126.apply(lambda x: 1 if x == u'ДА' else 0 if x == u'НЕТ' else 2)\n",
    "    feat_matrix['cat_new_prov'] = data.cdf_s_138.apply(lambda x: 1 if x == u'ДА' else 0 if x == u'НЕТ' else 2)\n",
    "    feat_matrix['channel_op'] = data.channel_indicator.apply(lambda x: 0 if x == u'MOBILE' else 1 if x == u'WEB' else 2)\n",
    "    feat_matrix['op_type'] = data.event_description.apply(lambda x:\n",
    "            0 if x == u'Перевод частному лицу' else 1 if x==u'Оплата услуг' else 2 if x ==u'Перевод между своими счетами и картами' else 3)\n",
    "\n",
    "\n",
    "    feat_matrix ['recip_age'] = data.cdf_s_294.apply(lambda x: 1 if x == 0 else 0) # бинарный флаг определяющий наличие возраста получателя (полезен для линейных моделей, менее для деревьев с учетом следующего признака)\n",
    "    \n",
    "    \n",
    "    feat_matrix['age_diff'] = feat_matrix.client_age - data.cdf_s_294.apply(lambda x: int(x) if x != 0 else 1000) # разница возорастов получателей и отправителей, если отсутствует/неприменимо, то padding 500    \n",
    "  \n",
    "    \n",
    "    feat_matrix['cumulative_sum_total'] = data.cdf_s_140 # кумулятивная сумма операций за сутки в каналах web и МП\n",
    "    \n",
    "    feat_matrix['data_i_120'] = data.data_i_120 \n",
    "    \n",
    "    \n",
    "    feat_matrix['relative'] = data.cdf_s_218.apply(lambda x: 1 if x == u'ДА' else 0) # перевод родственнику\n",
    "    \n",
    "    feat_matrix['know_recip_power'] = data.data_s_65.apply(lambda x: x if x is not None else 0) # сила связи отправителя и получателя\n",
    "    \n",
    "    \n",
    "    feat_matrix['cdf_s_127'] = data.cdf_s_127#.apply(lambda x: 1 if x is not None else 0)\n",
    "    feat_matrix['cdf_s_135'] = data.cdf_s_135#.apply(lambda x: 1 if x is not None else 0)\n",
    "    feat_matrix['cdf_s_130'] = data.cdf_s_130#.apply(lambda x: 1 if x is not None else 0)\n",
    "    feat_matrix['cdf_s_129'] = data.cdf_s_129#.apply(lambda x: 1 if x is not None else 0)\n",
    "    feat_matrix['cdf_s_134'] = data.cdf_s_134#.apply(lambda x: 1 if x is not None else 0)\n",
    "    feat_matrix['data_i_154'] = data.data_i_154.apply(lambda x: x if x is not None else -150)\n",
    "    feat_matrix['cdf_s_133'] = data.cdf_s_133#.apply(lambda x: 1 if x is not None else 0)\n",
    "    feat_matrix['data_i_120'] = data.data_i_120\n",
    "    feat_matrix['know_recip_card_age'] = data.cdf_s_124.apply(lambda x: 1 if x is not None else 0)\n",
    "    \n",
    "    \n",
    "    \n",
    "    feat_matrix['recip_card_age'] = (data.event_time - data.cdf_s_124).apply(lambda x: x.days if type(x) is not pd.tslib.NaTType else 2000)\n",
    "    \n",
    "    feat_matrix['cat_client_region'] = data.cdf_s_20.astype(str)\n",
    "    feat_matrix['one_region'] = (data.cdf_s_20 == data.cdf_s_299).astype(int) # сравнение регионов\n",
    "    \n",
    "    feat_matrix[\"amntTo136\"] = (data[\"amount_original\"].fillna(0) / \\\n",
    "        (data[\"amount_original\"].fillna(0) + data[\"cdf_s_136\"].fillna(0) + 1))\n",
    "    feat_matrix[\"amtnTo137\"] = (data[\"amount_original\"].fillna(0) / \\\n",
    "        (data[\"amount_original\"].fillna(0) + data[\"cdf_s_137\"].fillna(0) + 1))\n",
    "    feat_matrix[\"amtnTo140\"] = (data[\"amount_original\"].fillna(0) / \\\n",
    "        (data[\"amount_original\"].fillna(0) + data[\"cdf_s_140\"].fillna(0) + 1))\n",
    "\n",
    "    feat_matrix[\"channel_indicator_desc\"] = map_field(data, \"channel_indicator_desc\", \"custom_mark\", alpha=10000)\n",
    "    feat_matrix[\"cdf_s_138\"] = map_field(data, \"cdf_s_138\", \"custom_mark\", alpha=10000)\n",
    "    feat_matrix[\"cdf_s_126\"] = map_field(data, \"cdf_s_126\", \"custom_mark\", alpha=10000)\n",
    "    feat_matrix[\"cdf_s_218\"] = map_field(data, \"cdf_s_218\", \"custom_mark\", alpha=10000)\n",
    "    feat_matrix[\"event_description\"] = map_field(data, \"event_description\", \"custom_mark\", alpha=10000)\n",
    "    \n",
    "    #ADD NEW FEATURES\n",
    "        \n",
    "    return feat_matrix"
   ]
  },
  {
   "cell_type": "markdown",
   "metadata": {},
   "source": [
    "# Задание - реализовать как минимум 7 новых признаков, 3 из которых должны быть обработкой категориальных столбцов\n",
    "\n",
    "Пример:\n",
    "\n",
    "Кортежи регионов отправителя и получателя\n",
    "\n",
    "ISP провайдера\n",
    "\n",
    "Подсети класса B"
   ]
  },
  {
   "cell_type": "markdown",
   "metadata": {},
   "source": [
    "### Расчет фичей"
   ]
  },
  {
   "cell_type": "code",
   "execution_count": null,
   "metadata": {
    "collapsed": true
   },
   "outputs": [],
   "source": [
    "sql = \"\"\"select * from rsa_event_log \n",
    "                        where short_date between {start} and {end};\"\"\".format(start=start_date, end=end_date)"
   ]
  },
  {
   "cell_type": "code",
   "execution_count": null,
   "metadata": {
    "collapsed": true
   },
   "outputs": [],
   "source": [
    "st = datetime.datetime.now()\n",
    "trans_feat = features_chunk_handler(sql, calc_base_features, 100000)\n",
    "end = datetime.datetime.now()\n",
    "print(end - st)"
   ]
  },
  {
   "cell_type": "code",
   "execution_count": null,
   "metadata": {
    "collapsed": true
   },
   "outputs": [],
   "source": [
    "trans_feat.to_csv('./data/feat_matrix_prt1.csv', sep=';', index=False)"
   ]
  },
  {
   "cell_type": "code",
   "execution_count": null,
   "metadata": {
    "collapsed": true
   },
   "outputs": [],
   "source": [
    "trans_feat = pd.read_csv('./data/feat_matrix_prt1.csv',sep=';', parse_dates=['event_time'])"
   ]
  },
  {
   "cell_type": "code",
   "execution_count": null,
   "metadata": {
    "collapsed": true
   },
   "outputs": [],
   "source": [
    "trans_feat.shape"
   ]
  },
  {
   "cell_type": "code",
   "execution_count": null,
   "metadata": {
    "collapsed": true
   },
   "outputs": [],
   "source": [
    "trans_feat.custom_mark.value_counts(dropna=False)"
   ]
  },
  {
   "cell_type": "code",
   "execution_count": null,
   "metadata": {
    "collapsed": true
   },
   "outputs": [],
   "source": [
    "trans_feat.custom_mark.value_counts(dropna=False)"
   ]
  },
  {
   "cell_type": "code",
   "execution_count": null,
   "metadata": {
    "collapsed": true
   },
   "outputs": [],
   "source": []
  },
  {
   "cell_type": "markdown",
   "metadata": {},
   "source": [
    "### Вспомогательные функции для работы с временнЫми данными"
   ]
  },
  {
   "cell_type": "code",
   "execution_count": null,
   "metadata": {
    "collapsed": true,
    "scrolled": true
   },
   "outputs": [],
   "source": [
    "# будем считать данные на ежедневном базисе по квантилям клиента\n",
    "trans_data = df_from_sql(\"select * from rsa_event_log where user_id in ({0})\".format(str(users_sample)[1:-1]))"
   ]
  },
  {
   "cell_type": "code",
   "execution_count": null,
   "metadata": {
    "collapsed": true
   },
   "outputs": [],
   "source": [
    "# как уже говорились при работе с данными, имеющими временной аспект крайне важно отсекать транзакции, \n",
    "# идущие после оцениваемого события\n",
    "\n",
    "# кроме того зачастую бывает полезно создавать фичи не за весь доступный горизонт данных, \n",
    "# а за различные временные окна\n",
    "def timeframe_trans(trans, date_threshold=None, depth=None):\n",
    "    \"\"\"\n",
    "    Функция отбирающая тразакции в заданном временном окне\n",
    "    :param trans: весь массив транзакций\n",
    "    :param date_threshold: дата и время отсечки, если не указан, то datetime.now()\n",
    "    :param depth: глубина периода от даты отсечки, если не указан, то от текущего момента\n",
    "    :return:\n",
    "    \n",
    "    \"\"\"\n",
    "    if date_threshold and depth:\n",
    "        interested_trans = trans[trans.event_time.between(date_threshold - depth, date_threshold)]\n",
    "    elif date_threshold and depth is None:\n",
    "        interested_trans = trans[trans.event_time <= date_threshold]\n",
    "    elif date_threshold is None and depth:\n",
    "        interested_trans = trans[trans.event_time.between(datetime.datetime.now() - depth, datetime.datetime.now())]\n",
    "    else:\n",
    "        interested_trans = trans\n",
    "\n",
    "    return interested_trans\n",
    "\n",
    "\n",
    "def calc_quants_per_user (trans, col_name='amount_original', quants=np.arange(0.1, 1.1, .1), feat_name='amount_q_', depth=None, start_date = datetime.date(2017,10,29), \n",
    "                 end_date = datetime.date(2017,11,29)):\n",
    "    \"\"\"\n",
    "    Функция рассчитывающая квантили для пользователя с округлением до дня\n",
    "    \"\"\"\n",
    "    \n",
    "    time_delta = end_date - start_date\n",
    "    #можно переопределить и выбрать другой временной интервал\n",
    "    list_of_days = [start_date + datetime.timedelta(days=i) for i in range(time_delta.days + 1)]\n",
    "    \n",
    "    rez_df = pd.DataFrame()\n",
    "    \n",
    "    for day in list_of_days:\n",
    "        if depth is None:\n",
    "            cur_cutoff = trans[trans.event_time < day]\n",
    "        else:\n",
    "            cur_cutoff = trans[(trans.event_time < day)&(trans.event_time > (day - depth))]\n",
    "            \n",
    "        if cur_cutoff.shape[0] >= 1:\n",
    "            res = cur_cutoff[col_name].quantile(quants)\n",
    "        else:\n",
    "            res = [0 for i in quants]\n",
    "    \n",
    "        for i in zip(quants, res):\n",
    "            rez_df.loc[day, feat_name + str(i[0])] = i[1]\n",
    "    \n",
    "        \n",
    "    \n",
    "    return rez_df\n",
    "\n",
    "\n",
    "def all_usr_quants(users_list, number_of_splits = 900, col_name = 'amount_original', quants=np.arange(0.1, 1.1, .1), feat_name='amount_q_', depth=None, start_date = datetime.date(2017,10,29), \n",
    "                 end_date = datetime.date(2017,11,29)):\n",
    "    \"\"\"\n",
    "    Расчет квантилей по всем пользователям со сплитованием на подмножества\n",
    "    \"\"\"\n",
    "    rez_df = pd.DataFrame()\n",
    "    usr_chunks = np.array_split(users_list, number_of_splits)\n",
    "    \n",
    "    for chunk in usr_chunks:\n",
    "        \n",
    "        trans_data = df_from_sql(\"select user_id, event_time, {col} from rsa_event_log where user_id in ({users})\".format(col = col_name, users=str(list(chunk))[1:-1]), parse_dates=['event_time'])\n",
    "        chunk_df =  trans_data.groupby('user_id').apply(lambda x: \n",
    "                        # В даннос случае x - dataframe с транзакциями 1ого пользователя\n",
    "                        calc_quants_per_user(x[x[col_name] <> 0], col_name=col_name, feat_name=feat_name, quants=quants, depth = depth, start_date=start_date, end_date=end_date)\n",
    "                    )\n",
    "        rez_df = pd.concat([rez_df, chunk_df])\n",
    "        \n",
    "    return rez_df"
   ]
  },
  {
   "cell_type": "code",
   "execution_count": null,
   "metadata": {
    "collapsed": true
   },
   "outputs": [],
   "source": [
    "# Пример как получить транзакции пользователей за 2 недели до их последней транзакции\n",
    "trans_data[trans_data.user_id.isin(users_sample)].groupby('user_id').apply(lambda x: timeframe_trans(x, x.event_time.max(), depth=datetime.timedelta(days=14))).head(25)"
   ]
  },
  {
   "cell_type": "code",
   "execution_count": null,
   "metadata": {
    "collapsed": true
   },
   "outputs": [],
   "source": [
    "victims = trans_feat[trans_feat.custom_mark.isin(['F','S'])].user_id.sample(frac=1).astype(str).unique().tolist()\n",
    "print len(victims)"
   ]
  },
  {
   "cell_type": "code",
   "execution_count": null,
   "metadata": {
    "collapsed": true
   },
   "outputs": [],
   "source": [
    "# Добавляем квантили по операциям клиента за 30 дней до транзакции и 90 дней\n",
    "\n",
    "# 30 дней\n",
    "df_30_days = all_usr_quants(all_users.user_id.astype(str).unique().tolist(), number_of_splits=20, col_name=\"amount_original\", depth=datetime.timedelta(days=30), feat_name='amnt_30_q_')\n",
    "\n",
    "# 90 дней\n",
    "df_90_days = all_usr_quants(all_users.user_id.astype(str).unique().tolist(), 20, col_name=\"amount_original\", depth=datetime.timedelta(days=90), feat_name='amnt_90_q_')"
   ]
  },
  {
   "cell_type": "code",
   "execution_count": null,
   "metadata": {
    "collapsed": true
   },
   "outputs": [],
   "source": [
    "quant_features = pd.merge(df_30_days, df_90_days, left_index=True, right_index=True)\n",
    "quant_features.reset_index(inplace=True)\n",
    "quant_features.rename(index=str, columns={'level_1':'short_date'}, inplace=True)"
   ]
  },
  {
   "cell_type": "code",
   "execution_count": null,
   "metadata": {
    "collapsed": true
   },
   "outputs": [],
   "source": [
    "quant_features.head()"
   ]
  },
  {
   "cell_type": "code",
   "execution_count": null,
   "metadata": {
    "collapsed": true
   },
   "outputs": [],
   "source": [
    "quant_features.to_csv('quant_features.csv')"
   ]
  },
  {
   "cell_type": "markdown",
   "metadata": {},
   "source": [
    "### Добавляем в матрицу фичей квантили и рассчитываем доп признаки по базовым фичам, которые должны охарактеризовать текущее поведение клиента относительно его предыдущих трат"
   ]
  },
  {
   "cell_type": "code",
   "execution_count": null,
   "metadata": {
    "collapsed": true
   },
   "outputs": [],
   "source": [
    "trans_feat['short_date'] = trans_feat.event_time.apply(lambda x: x.date())"
   ]
  },
  {
   "cell_type": "code",
   "execution_count": null,
   "metadata": {
    "collapsed": true,
    "scrolled": true
   },
   "outputs": [],
   "source": [
    "rez_matrix = trans_feat.merge(quant_features, on=['user_id','short_date'], how = 'inner')\n",
    "rez_matrix.shape"
   ]
  },
  {
   "cell_type": "code",
   "execution_count": null,
   "metadata": {
    "collapsed": true
   },
   "outputs": [],
   "source": [
    "# добавляем отношение кумулятивной суммы операций за сутки к квантилям операций клиента (0.3, 0.5, 1.0)\n",
    "for col in [i for i in rez_matrix.columns if any(col in i for col in ['_q_0.3','_q_0.5','_q_1.0'])]:\n",
    "    rez_matrix['cumulative_sum_to_{0}'.format(col)] = rez_matrix.cumulative_sum_total/rez_matrix[col]\n",
    "\n",
    "# добавляем отнощение суммы операции к максимальным квантилям\n",
    "for col in [i for i in rez_matrix.columns if any(col in i for col in ['_q_1.0'])]:\n",
    "    rez_matrix['amount_to_{0}'.format(col)] = rez_matrix.amount/rez_matrix[col]"
   ]
  },
  {
   "cell_type": "code",
   "execution_count": null,
   "metadata": {
    "collapsed": true
   },
   "outputs": [],
   "source": [
    "#заменяем деления inf от делений на 0\n",
    "rez_matrix.replace(np.inf, 0, inplace=True)\n",
    "\n",
    "rez_matrix['lable'] = rez_matrix.custom_mark.apply(lambda x: cust_mark_to_class(x))"
   ]
  },
  {
   "cell_type": "code",
   "execution_count": null,
   "metadata": {
    "collapsed": true
   },
   "outputs": [],
   "source": [
    "# удаляем неизвестные кейсы\n",
    "rez_matrix = rez_matrix[rez_matrix.lable <> -1]"
   ]
  },
  {
   "cell_type": "code",
   "execution_count": null,
   "metadata": {
    "collapsed": true
   },
   "outputs": [],
   "source": [
    "print rez_matrix.shape\n",
    "rez_matrix.head()"
   ]
  },
  {
   "cell_type": "code",
   "execution_count": null,
   "metadata": {
    "collapsed": true
   },
   "outputs": [],
   "source": [
    "#rez_matrix = pd.to_csv('rez_matrix_full.csv', sep=';')\n",
    "#rez_matrix = pd.read_csv('rez_matrix_full.csv', sep=';', parse_dates=['event_time'])"
   ]
  },
  {
   "cell_type": "markdown",
   "metadata": {},
   "source": [
    "## Задание - расширить квантили, добавив подразбиение по каналам проведения операций"
   ]
  },
  {
   "cell_type": "code",
   "execution_count": null,
   "metadata": {
    "collapsed": true
   },
   "outputs": [],
   "source": [
    "???"
   ]
  },
  {
   "cell_type": "code",
   "execution_count": null,
   "metadata": {
    "collapsed": true
   },
   "outputs": [],
   "source": []
  },
  {
   "cell_type": "code",
   "execution_count": null,
   "metadata": {
    "collapsed": true
   },
   "outputs": [],
   "source": [
    "rez_matrix.lable.value_counts()"
   ]
  },
  {
   "cell_type": "code",
   "execution_count": null,
   "metadata": {
    "collapsed": true
   },
   "outputs": [],
   "source": [
    "rez_matrix.groupby('lable').event_time.agg(['min', 'max'])"
   ]
  },
  {
   "cell_type": "code",
   "execution_count": null,
   "metadata": {
    "collapsed": true
   },
   "outputs": [],
   "source": [
    "rez_matrix[rez_matrix.lable == 1].event_time.quantile([0.25, 0.5,0.75,0.9])"
   ]
  },
  {
   "cell_type": "markdown",
   "metadata": {},
   "source": [
    "## Подготовка split по времени"
   ]
  },
  {
   "cell_type": "code",
   "execution_count": null,
   "metadata": {
    "collapsed": true
   },
   "outputs": [],
   "source": [
    "# подготовим разбиение выборки - будем идти посуточно rolling window\n",
    "rez_matrix['TS_indexer'] = rez_matrix.short_date\n",
    "# оставляем уникальные индексы, по которым и будем строить разбиение через time series\n",
    "unique_TS_split = np.array(sorted(rez_matrix.TS_indexer.unique()))"
   ]
  },
  {
   "cell_type": "code",
   "execution_count": null,
   "metadata": {
    "collapsed": true
   },
   "outputs": [],
   "source": [
    "print len(unique_TS_split)"
   ]
  },
  {
   "cell_type": "code",
   "execution_count": null,
   "metadata": {
    "collapsed": true
   },
   "outputs": [],
   "source": []
  },
  {
   "cell_type": "markdown",
   "metadata": {},
   "source": [
    "## Задание - доработать indexer таким образом, чтобы он работал в парадигме  \"забывающей\" модели из презентации (меньший период легитимных, но фрод сохранять весь) ИЛИ ансамбль моделей"
   ]
  },
  {
   "cell_type": "code",
   "execution_count": null,
   "metadata": {
    "collapsed": true
   },
   "outputs": [],
   "source": [
    "???"
   ]
  },
  {
   "cell_type": "code",
   "execution_count": null,
   "metadata": {
    "collapsed": true
   },
   "outputs": [],
   "source": []
  },
  {
   "cell_type": "code",
   "execution_count": null,
   "metadata": {
    "collapsed": true
   },
   "outputs": [],
   "source": []
  },
  {
   "cell_type": "markdown",
   "metadata": {},
   "source": [
    "## Выбираем максимальный предущий период времени, на котором будем тренироваться и число сплитов"
   ]
  },
  {
   "cell_type": "code",
   "execution_count": null,
   "metadata": {
    "collapsed": true,
    "scrolled": true
   },
   "outputs": [],
   "source": [
    "tscv = TimeSeriesSplit(n_splits=16, max_train_size=21)\n",
    "for train_index, test_index in tscv.split(unique_TS_split):\n",
    "    print(\"TRAIN LEN:\", len(unique_TS_split[train_index]), \"TEST LEN:\", len(unique_TS_split[test_index]))"
   ]
  },
  {
   "cell_type": "code",
   "execution_count": null,
   "metadata": {
    "collapsed": true
   },
   "outputs": [],
   "source": [
    "# а так мы будем получать непосредственно транзакции в данном фолде    \n",
    "rez_matrix[rez_matrix.TS_indexer.isin(unique_TS_split[test_index])]"
   ]
  },
  {
   "cell_type": "code",
   "execution_count": null,
   "metadata": {
    "collapsed": true
   },
   "outputs": [],
   "source": [
    "# мы выбрали, что доступный временно горизонт для модели должен составлять минимум 21 день, \n",
    "# поэтому нам нужно исключить начальные фолды, в которых данное условие не выполняется\n",
    "# также для использования GridSearchCV нам потребуется вернуться непосредственно к индексам rez_matrix\n",
    "\n",
    "#ВАЖНО! для корректной процедуры требуется сбросить индекс\n",
    "rez_matrix.reset_index(drop=True, inplace=True)\n",
    "\n",
    "temp_TS_cv = [\n",
    "    (rez_matrix[rez_matrix.TS_indexer.isin(unique_TS_split[train_index])].index.tolist(), \n",
    "     rez_matrix[rez_matrix.TS_indexer.isin(unique_TS_split[test_index])].index.tolist()) for (train_index, test_index) in tscv.split(unique_TS_split) if len(train_index)>=21]\n",
    "\n",
    "#еще необходимо исключить фолды, в которые не поало ни одного фрода\n",
    "completed_TS_cv = [(train, test) for (train, test) in temp_TS_cv if rez_matrix.iloc[test].lable.sum() >= 1]"
   ]
  },
  {
   "cell_type": "code",
   "execution_count": null,
   "metadata": {
    "collapsed": true
   },
   "outputs": [],
   "source": [
    "print len(temp_TS_cv)\n",
    "print len(completed_TS_cv)"
   ]
  },
  {
   "cell_type": "code",
   "execution_count": null,
   "metadata": {
    "collapsed": true,
    "scrolled": true
   },
   "outputs": [],
   "source": [
    "for i in range(len(completed_TS_cv)):\n",
    "    print \"Train period: \" + str(rez_matrix.loc[completed_TS_cv[i][0]].event_time.min())+' - '+str(rez_matrix.loc[completed_TS_cv[i][0]].event_time.max())\n",
    "    print \"Test period: \" + str(rez_matrix.loc[completed_TS_cv[i][1]].event_time.min())+' - '+str(rez_matrix.loc[completed_TS_cv[i][1]].event_time.max())\n",
    "    print \"\\r\\n\""
   ]
  },
  {
   "cell_type": "code",
   "execution_count": null,
   "metadata": {
    "collapsed": true
   },
   "outputs": [],
   "source": [
    "rez_matrix.columns"
   ]
  },
  {
   "cell_type": "code",
   "execution_count": null,
   "metadata": {
    "collapsed": true
   },
   "outputs": [],
   "source": [
    "X = rez_matrix.drop(['event_id', 'user_id','event_time', 'custom_mark', 'short_date','TS_indexer', 'lable'], axis=1).as_matrix()\n",
    "y = rez_matrix.lable.as_matrix()"
   ]
  },
  {
   "cell_type": "code",
   "execution_count": null,
   "metadata": {
    "collapsed": true
   },
   "outputs": [],
   "source": [
    "len(completed_TS_cv)"
   ]
  },
  {
   "cell_type": "code",
   "execution_count": null,
   "metadata": {
    "collapsed": true
   },
   "outputs": [],
   "source": [
    "train_folds = completed_TS_cv[:6]\n",
    "val_folds = completed_TS_cv[6:]"
   ]
  },
  {
   "cell_type": "code",
   "execution_count": null,
   "metadata": {
    "collapsed": true
   },
   "outputs": [],
   "source": []
  },
  {
   "cell_type": "markdown",
   "metadata": {},
   "source": [
    "# Задание применить один из методов работы с несбалансированными классами, отличный от class_weight"
   ]
  },
  {
   "cell_type": "code",
   "execution_count": null,
   "metadata": {
    "collapsed": true
   },
   "outputs": [],
   "source": []
  },
  {
   "cell_type": "code",
   "execution_count": null,
   "metadata": {
    "collapsed": true
   },
   "outputs": [],
   "source": []
  },
  {
   "cell_type": "code",
   "execution_count": null,
   "metadata": {
    "collapsed": true
   },
   "outputs": [],
   "source": [
    "print('XGBoost with grid search')\n",
    "# \n",
    "params={\n",
    "    'max_depth': [3, 5, 8], \n",
    "    'subsample': [0.4, 0.6], \n",
    "    'colsample_bytree': [0.5, 0.7], \n",
    "    'n_estimators': [150, 250],\n",
    "    'reg_alpha': [0.01, 0.03] \n",
    "}\n",
    "\n",
    "xgb_clf = xgb.XGBClassifier(missing=np.NAN)\n",
    "rs = GridSearchCV(xgb_clf,\n",
    "                  params,\n",
    "                  cv=train_folds,\n",
    "                  scoring=\"neg_log_loss\",\n",
    "                  n_jobs=4,\n",
    "                  verbose=2)\n",
    "rs.fit(X, y)\n",
    "best_est = rs.best_estimator_\n",
    "print(best_est)"
   ]
  },
  {
   "cell_type": "code",
   "execution_count": null,
   "metadata": {
    "collapsed": true
   },
   "outputs": [],
   "source": [
    "predictor = xgb.XGBClassifier(base_score=0.5, colsample_bylevel=1, colsample_bytree=0.5,\n",
    "       gamma=0, learning_rate=0.1, max_delta_step=0, max_depth=8,\n",
    "       min_child_weight=1, missing=None, n_estimators=150, nthread=-1,\n",
    "       objective='binary:logistic', reg_alpha=0.03, reg_lambda=1,\n",
    "       scale_pos_weight=1, seed=0, silent=True, subsample=0.6)"
   ]
  },
  {
   "cell_type": "code",
   "execution_count": null,
   "metadata": {
    "collapsed": true
   },
   "outputs": [],
   "source": [
    "feats_names = rez_matrix.drop(['event_id', 'user_id','event_time', 'custom_mark', 'short_date','TS_indexer', 'lable'], axis=1).columns"
   ]
  },
  {
   "cell_type": "code",
   "execution_count": null,
   "metadata": {
    "collapsed": true
   },
   "outputs": [],
   "source": [
    "rez_matrix.cat_client_region = rez_matrix.cat_client_region.astype(int)"
   ]
  },
  {
   "cell_type": "code",
   "execution_count": null,
   "metadata": {
    "collapsed": true
   },
   "outputs": [],
   "source": [
    "f, axes = plt.subplots(1, 1, figsize=(10, 5))\n",
    "\n",
    "\n",
    "\n",
    "y_real = []\n",
    "y_proba = []\n",
    "for i, (train_index, test_index) in enumerate(val_folds):\n",
    "    print i\n",
    "    #Xtrain, Xtest = X[train_index], X[test_index]\n",
    "    Xtrain, Xtest = rez_matrix[feats_names].reset_index(drop=True).loc[train_index], rez_matrix[feats_names].reset_index(drop=True).loc[test_index]\n",
    "    ytrain, ytest = y[train_index], y[test_index]\n",
    "    predictor.fit(Xtrain, ytrain)\n",
    "    pred_proba = predictor.predict_proba(Xtest)\n",
    "    precision, recall, _ = precision_recall_curve(ytest, pred_proba[:,1])\n",
    "    lab = 'Fold %d AUC=%.4f' % (i+1, auc(recall, precision))\n",
    "    axes.step(recall, precision, label=lab)\n",
    "    y_real.append(ytest)\n",
    "    y_proba.append(pred_proba[:,1])\n",
    "\n",
    "y_real = np.concatenate(y_real)\n",
    "y_proba = np.concatenate(y_proba)\n",
    "precision, recall, _ = precision_recall_curve(y_real, y_proba)\n",
    "lab = 'Overall AUC=%.4f' % (auc(recall, precision))\n",
    "axes.step(recall, precision, label=lab, lw=2, color='black')\n",
    "axes.set_xlabel('Recall')\n",
    "axes.set_ylabel('Precision')\n",
    "axes.legend(loc='lower left', fontsize='small')\n",
    "\n",
    "f.tight_layout()\n",
    "plt.show()\n",
    "f.savefig('result.png')"
   ]
  },
  {
   "cell_type": "code",
   "execution_count": null,
   "metadata": {
    "collapsed": true
   },
   "outputs": [],
   "source": []
  },
  {
   "cell_type": "markdown",
   "metadata": {},
   "source": [
    "# А как нам из PR получить информацию по числу сработок? Откуда взять порого для FP? "
   ]
  },
  {
   "cell_type": "code",
   "execution_count": null,
   "metadata": {
    "collapsed": true
   },
   "outputs": [],
   "source": [
    "???"
   ]
  },
  {
   "cell_type": "code",
   "execution_count": null,
   "metadata": {
    "collapsed": true
   },
   "outputs": [],
   "source": []
  },
  {
   "cell_type": "markdown",
   "metadata": {},
   "source": [
    "## Примеры использования featrue importance, PDP, ICE"
   ]
  },
  {
   "cell_type": "code",
   "execution_count": null,
   "metadata": {
    "collapsed": true
   },
   "outputs": [],
   "source": [
    "feats_names = rez_matrix.drop(['event_id', 'user_id','event_time', 'custom_mark', 'short_date','TS_indexer', 'lable'], axis=1).columns\n",
    "\n",
    "def create_feature_map(features):\n",
    "    outfile = open('xgb.fmap', 'w')\n",
    "    i = 0\n",
    "    for feat in features:\n",
    "        outfile.write('{0}\\t{1}\\tq\\n'.format(i, feat))\n",
    "        i = i + 1\n",
    "\n",
    "    outfile.close()\n",
    "\n",
    "create_feature_map(feats_names)\n",
    "    \n",
    "importance = predictor.booster().get_fscore(fmap='xgb.fmap')\n",
    "importance = sorted(importance.items(), key=operator.itemgetter(1))\n",
    "\n",
    "feat_df = pd.DataFrame(importance, columns=['feature', 'fscore'])\n",
    "\n",
    "plt.figure()\n",
    "feat_df.plot()\n",
    "feat_df.plot(kind='barh', x='feature', y='fscore', legend=False, figsize=(10, 25))\n",
    "plt.gcf().savefig('features_importance.png')"
   ]
  },
  {
   "cell_type": "code",
   "execution_count": null,
   "metadata": {
    "collapsed": true
   },
   "outputs": [],
   "source": []
  },
  {
   "cell_type": "markdown",
   "metadata": {},
   "source": [
    "## ICE experiments"
   ]
  },
  {
   "cell_type": "code",
   "execution_count": null,
   "metadata": {
    "collapsed": true
   },
   "outputs": [],
   "source": [
    "from pdpbox import pdp"
   ]
  },
  {
   "cell_type": "code",
   "execution_count": null,
   "metadata": {
    "collapsed": true
   },
   "outputs": [],
   "source": [
    "pdp.target_plot(rez_matrix, 'age_diff', 'age_diff', 'lable')"
   ]
  },
  {
   "cell_type": "code",
   "execution_count": null,
   "metadata": {
    "collapsed": true
   },
   "outputs": [],
   "source": [
    "pdp_age_diff = pdp.pdp_isolate(predictor, rez_matrix[feats_names].reset_index(), 'age_diff')"
   ]
  },
  {
   "cell_type": "code",
   "execution_count": null,
   "metadata": {
    "collapsed": true
   },
   "outputs": [],
   "source": [
    "pdp.pdp_plot(pdp_age_diff, 'age_diff', plot_org_pts=True, plot_lines=True, frac_to_plot=10000)"
   ]
  },
  {
   "cell_type": "code",
   "execution_count": null,
   "metadata": {
    "collapsed": true
   },
   "outputs": [],
   "source": [
    "pdp.pdp_plot(pdp_age_diff, 'age_diff', plot_org_pts=True, plot_lines=True, frac_to_plot=3500, cluster=True, n_cluster_centers=15, center=True)"
   ]
  },
  {
   "cell_type": "code",
   "execution_count": null,
   "metadata": {
    "collapsed": true
   },
   "outputs": [],
   "source": [
    "age_sum = pdp.pdp_interact(predictor, rez_matrix[rez_matrix.lable == 1][feats_names].reset_index(drop=True), ['client_age','amount'], num_grid_points=[10, 10])"
   ]
  },
  {
   "cell_type": "code",
   "execution_count": null,
   "metadata": {
    "collapsed": true
   },
   "outputs": [],
   "source": [
    "age_sum.pdp_isolate_out1.ice_lines.actual_preds.max()"
   ]
  },
  {
   "cell_type": "code",
   "execution_count": null,
   "metadata": {
    "collapsed": true
   },
   "outputs": [],
   "source": [
    "age_sum.pdp_isolate_out1.ice_lines.actual_preds.describe()"
   ]
  },
  {
   "cell_type": "code",
   "execution_count": null,
   "metadata": {
    "collapsed": true
   },
   "outputs": [],
   "source": [
    "pdp.pdp_interact_plot(age_sum, ['client_age', 'amount'], center=True, plot_org_pts=True, plot_lines=True, frac_to_plot=5000, x_quantile=True)"
   ]
  },
  {
   "cell_type": "code",
   "execution_count": null,
   "metadata": {
    "collapsed": true
   },
   "outputs": [],
   "source": [
    "pdp.pdp_interact_plot(inter_age, ['client_age', 'age_diff'], center=True, plot_org_pts=True, plot_lines=True, frac_to_plot=10000, x_quantile=True)"
   ]
  },
  {
   "cell_type": "code",
   "execution_count": null,
   "metadata": {
    "collapsed": true
   },
   "outputs": [],
   "source": []
  },
  {
   "cell_type": "markdown",
   "metadata": {},
   "source": [
    "# Задание - взять и посмотреть какие главниые фичи выделит SHAP-подход, сравнить взаимное влияние аналогичных признаков, прокомеенитровать 2 конкретных предсказания трназакции"
   ]
  },
  {
   "cell_type": "code",
   "execution_count": null,
   "metadata": {
    "collapsed": true
   },
   "outputs": [],
   "source": []
  }
 ],
 "metadata": {
  "kernelspec": {
   "display_name": "Python 3",
   "language": "python",
   "name": "python3"
  },
  "language_info": {
   "codemirror_mode": {
    "name": "ipython",
    "version": 3
   },
   "file_extension": ".py",
   "mimetype": "text/x-python",
   "name": "python",
   "nbconvert_exporter": "python",
   "pygments_lexer": "ipython3",
   "version": "3.6.1"
  }
 },
 "nbformat": 4,
 "nbformat_minor": 2
}
