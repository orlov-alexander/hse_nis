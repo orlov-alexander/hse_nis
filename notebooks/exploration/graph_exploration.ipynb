{
 "cells": [
  {
   "cell_type": "code",
   "execution_count": 94,
   "metadata": {
    "collapsed": true
   },
   "outputs": [],
   "source": [
    "import multiprocessing"
   ]
  },
  {
   "cell_type": "code",
   "execution_count": 95,
   "metadata": {
    "collapsed": true
   },
   "outputs": [],
   "source": [
    "def foo(x):\n",
    "    return x**2\n",
    "with multiprocessing.Pool(processes=10) as pool:\n",
    "    results = pool.map(foo, list(range(10)))"
   ]
  },
  {
   "cell_type": "code",
   "execution_count": 96,
   "metadata": {},
   "outputs": [
    {
     "data": {
      "text/plain": [
       "[0, 1, 4, 9, 16, 25, 36, 49, 64, 81]"
      ]
     },
     "execution_count": 96,
     "metadata": {},
     "output_type": "execute_result"
    }
   ],
   "source": [
    "results"
   ]
  },
  {
   "cell_type": "code",
   "execution_count": 2,
   "metadata": {
    "collapsed": true
   },
   "outputs": [],
   "source": [
    "import pandas as pd\n",
    "import numpy as np\n",
    "import sqlite3\n",
    "import datetime\n",
    "import sklearn\n",
    "import sqlalchemy as sa"
   ]
  },
  {
   "cell_type": "code",
   "execution_count": 3,
   "metadata": {
    "collapsed": true
   },
   "outputs": [],
   "source": [
    "from sklearn.model_selection import TimeSeriesSplit\n",
    "\n",
    "import xgboost as xgb\n",
    "from sklearn.model_selection import GridSearchCV\n",
    "from sklearn.metrics import roc_auc_score\n",
    "\n",
    "import matplotlib.pyplot as plt\n",
    "from sklearn.metrics import precision_recall_curve, auc\n",
    "\n",
    "import operator"
   ]
  },
  {
   "cell_type": "code",
   "execution_count": 4,
   "metadata": {
    "scrolled": true
   },
   "outputs": [
    {
     "data": {
      "text/html": [
       "<style>.container { width:100% !important; }</style>"
      ],
      "text/plain": [
       "<IPython.core.display.HTML object>"
      ]
     },
     "metadata": {},
     "output_type": "display_data"
    }
   ],
   "source": [
    "from IPython.core.display import display, HTML\n",
    "display(HTML(\"<style>.container { width:100% !important; }</style>\"))\n",
    "\n",
    "pd.set_option('display.max_rows', 500)\n",
    "pd.set_option('display.max_columns', 500)\n",
    "pd.set_option('display.max_colwidth', -1)"
   ]
  },
  {
   "cell_type": "code",
   "execution_count": 29,
   "metadata": {
    "collapsed": true
   },
   "outputs": [],
   "source": [
    "import os\n",
    "import re\n",
    "import networkx as nx\n",
    "from tqdm import tqdm, tqdm_notebook\n",
    "import gc"
   ]
  },
  {
   "cell_type": "code",
   "execution_count": 6,
   "metadata": {
    "scrolled": true
   },
   "outputs": [
    {
     "name": "stdout",
     "output_type": "stream",
     "text": [
      "Length of trainin files is 30\n"
     ]
    },
    {
     "data": {
      "text/plain": [
       "['../data/raw_splits/train/chunk_0.fth',\n",
       " '../data/raw_splits/train/chunk_1.fth',\n",
       " '../data/raw_splits/train/chunk_2.fth',\n",
       " '../data/raw_splits/train/chunk_3.fth',\n",
       " '../data/raw_splits/train/chunk_4.fth']"
      ]
     },
     "execution_count": 6,
     "metadata": {},
     "output_type": "execute_result"
    }
   ],
   "source": [
    "train_folder = '../data/raw_splits/train/'\n",
    "train_files = sorted([x for x in os.listdir(train_folder) if not '.pkl' in x], key = lambda x: int(re.sub('[^0-9]', '', x)))\n",
    "train_files = [os.path.join(train_folder, x) for x in train_files]\n",
    "print(f'Length of trainin files is {len(train_files)}')\n",
    "train_files[:5]"
   ]
  },
  {
   "cell_type": "code",
   "execution_count": 1,
   "metadata": {
    "collapsed": true
   },
   "outputs": [],
   "source": [
    "FIRST_N = 5"
   ]
  },
  {
   "cell_type": "code",
   "execution_count": 7,
   "metadata": {
    "collapsed": true
   },
   "outputs": [],
   "source": [
    "# функция получения lable из csutom_mark\n",
    "\n",
    "def cust_mark_to_class(custom_mark):\n",
    "    \"\"\"\n",
    "    Преобразует входящее значение CUSTOM_MARK в класс\n",
    "    return:\n",
    "        1 - фрод\n",
    "        0 - легитимная\n",
    "        -1 - неизвестно\n",
    "    \"\"\"\n",
    "    ret = -1\n",
    "    if custom_mark in ['F','S']:\n",
    "        ret = 1\n",
    "    elif custom_mark in ['A','G', 'null']:\n",
    "        ret = 0\n",
    "    \n",
    "    return ret"
   ]
  },
  {
   "cell_type": "markdown",
   "metadata": {},
   "source": [
    "---"
   ]
  },
  {
   "cell_type": "code",
   "execution_count": 9,
   "metadata": {
    "collapsed": true
   },
   "outputs": [],
   "source": [
    "hashed_set = set()"
   ]
  },
  {
   "cell_type": "code",
   "execution_count": 10,
   "metadata": {},
   "outputs": [
    {
     "data": {
      "application/vnd.jupyter.widget-view+json": {
       "model_id": "53fc06e004cb4e378f96645e8f1f8eaa"
      }
     },
     "metadata": {},
     "output_type": "display_data"
    },
    {
     "name": "stdout",
     "output_type": "stream",
     "text": [
      "\n"
     ]
    }
   ],
   "source": [
    "for fname in tqdm_notebook(train_files[:FIRST_N]):\n",
    "    chunk = pd.read_feather(fname)\n",
    "    hashed_set |= set(chunk['user_acct_number_hashed']) | set(chunk['ext_acct_number_hashed'])"
   ]
  },
  {
   "cell_type": "code",
   "execution_count": 11,
   "metadata": {
    "scrolled": true
   },
   "outputs": [
    {
     "data": {
      "text/plain": [
       "578826"
      ]
     },
     "execution_count": 11,
     "metadata": {},
     "output_type": "execute_result"
    }
   ],
   "source": [
    "len(hashed_set)"
   ]
  },
  {
   "cell_type": "code",
   "execution_count": 12,
   "metadata": {
    "collapsed": true
   },
   "outputs": [],
   "source": [
    "acc_dict = {}"
   ]
  },
  {
   "cell_type": "code",
   "execution_count": 13,
   "metadata": {},
   "outputs": [
    {
     "data": {
      "text/plain": [
       "0"
      ]
     },
     "execution_count": 13,
     "metadata": {},
     "output_type": "execute_result"
    }
   ],
   "source": [
    "len(acc_dict)"
   ]
  },
  {
   "cell_type": "code",
   "execution_count": 14,
   "metadata": {
    "collapsed": true
   },
   "outputs": [],
   "source": [
    "for h in hashed_set:\n",
    "    acc_dict[h] = str(len(acc_dict)) + '@A'"
   ]
  },
  {
   "cell_type": "code",
   "execution_count": 17,
   "metadata": {
    "collapsed": true
   },
   "outputs": [],
   "source": [
    "selected_cols = ['user_id', 'short_date', 'user_acct_number_hashed', \n",
    "                 'ext_acct_number_hashed', 'custom_mark', 'channel_indicator_desc', 'amount_original']"
   ]
  },
  {
   "cell_type": "raw",
   "metadata": {},
   "source": [
    "%%time\n",
    "chunk = pd.read_feather(train_files[0])"
   ]
  },
  {
   "cell_type": "raw",
   "metadata": {},
   "source": [
    "c = chunk.copy()\n",
    "c"
   ]
  },
  {
   "cell_type": "raw",
   "metadata": {},
   "source": [
    "c.head(10)[selected_cols]"
   ]
  },
  {
   "cell_type": "code",
   "execution_count": 25,
   "metadata": {
    "collapsed": true
   },
   "outputs": [],
   "source": [
    "chunks = []"
   ]
  },
  {
   "cell_type": "code",
   "execution_count": 26,
   "metadata": {
    "scrolled": true
   },
   "outputs": [
    {
     "data": {
      "application/vnd.jupyter.widget-view+json": {
       "model_id": "d71bb358f7994d88801a3ff56a3aa11b"
      }
     },
     "metadata": {},
     "output_type": "display_data"
    },
    {
     "name": "stdout",
     "output_type": "stream",
     "text": [
      "\n"
     ]
    }
   ],
   "source": [
    "for fname in tqdm_notebook(train_files):\n",
    "    chunk = pd.read_feather(fname)\n",
    "    chunk = chunk[selected_cols].copy()\n",
    "    chunk['is_fraud'] = chunk['custom_mark'].apply(cust_mark_to_class)\n",
    "    chunk = chunk.loc[(chunk['user_acct_number_hashed'] != 'null') & (chunk['ext_acct_number_hashed'] != 'null')].copy()\n",
    "\n",
    "    for usr, ext in zip(chunk['user_acct_number_hashed'], chunk['ext_acct_number_hashed']):\n",
    "        if not (usr in acc_dict.keys()):\n",
    "            acc_dict[usr] = str(len(acc_dict)) + '@A'\n",
    "        if not (ext in acc_dict.keys()):\n",
    "            acc_dict[ext] = str(len(acc_dict)) + '@A'\n",
    "\n",
    "    chunk['user_acct_number_hashed'] = [acc_dict[x] for x in chunk['user_acct_number_hashed']]\n",
    "    chunk['ext_acct_number_hashed'] = [acc_dict[x] for x in chunk['ext_acct_number_hashed']]\n",
    "    chunks.append(chunk)"
   ]
  },
  {
   "cell_type": "code",
   "execution_count": 27,
   "metadata": {
    "collapsed": true
   },
   "outputs": [],
   "source": [
    "chunks_df = pd.concat(chunks)#.shape"
   ]
  },
  {
   "cell_type": "code",
   "execution_count": null,
   "metadata": {
    "collapsed": true
   },
   "outputs": [],
   "source": [
    "del chunks"
   ]
  },
  {
   "cell_type": "code",
   "execution_count": 42,
   "metadata": {},
   "outputs": [
    {
     "data": {
      "text/plain": [
       "403"
      ]
     },
     "execution_count": 42,
     "metadata": {},
     "output_type": "execute_result"
    }
   ],
   "source": [
    "gc.collect()"
   ]
  },
  {
   "cell_type": "code",
   "execution_count": 28,
   "metadata": {},
   "outputs": [
    {
     "data": {
      "text/plain": [
       "(14540284, 8)"
      ]
     },
     "execution_count": 28,
     "metadata": {},
     "output_type": "execute_result"
    }
   ],
   "source": [
    "chunks_df.shape"
   ]
  },
  {
   "cell_type": "code",
   "execution_count": 39,
   "metadata": {
    "collapsed": true
   },
   "outputs": [],
   "source": [
    "chunks_df.rename(columns = {'user_acct_number_hashed': 'hacc_user', 'ext_acct_number_hashed': 'hacc_ext'}, inplace=True)"
   ]
  },
  {
   "cell_type": "code",
   "execution_count": 40,
   "metadata": {},
   "outputs": [
    {
     "data": {
      "text/html": [
       "<div>\n",
       "<style>\n",
       "    .dataframe thead tr:only-child th {\n",
       "        text-align: right;\n",
       "    }\n",
       "\n",
       "    .dataframe thead th {\n",
       "        text-align: left;\n",
       "    }\n",
       "\n",
       "    .dataframe tbody tr th {\n",
       "        vertical-align: top;\n",
       "    }\n",
       "</style>\n",
       "<table border=\"1\" class=\"dataframe\">\n",
       "  <thead>\n",
       "    <tr style=\"text-align: right;\">\n",
       "      <th></th>\n",
       "      <th>user_id</th>\n",
       "      <th>short_date</th>\n",
       "      <th>hacc_user</th>\n",
       "      <th>hacc_ext</th>\n",
       "      <th>custom_mark</th>\n",
       "      <th>channel_indicator_desc</th>\n",
       "      <th>amount_original</th>\n",
       "      <th>is_fraud</th>\n",
       "    </tr>\n",
       "  </thead>\n",
       "  <tbody>\n",
       "    <tr>\n",
       "      <th>0</th>\n",
       "      <td>100197</td>\n",
       "      <td>20170825</td>\n",
       "      <td>165497@A</td>\n",
       "      <td>312262@A</td>\n",
       "      <td>null</td>\n",
       "      <td>MOBILEAPI</td>\n",
       "      <td>10000.0</td>\n",
       "      <td>0</td>\n",
       "    </tr>\n",
       "    <tr>\n",
       "      <th>2</th>\n",
       "      <td>100197</td>\n",
       "      <td>20170507</td>\n",
       "      <td>9017@A</td>\n",
       "      <td>165497@A</td>\n",
       "      <td>null</td>\n",
       "      <td>MOBILEAPI</td>\n",
       "      <td>1600.0</td>\n",
       "      <td>0</td>\n",
       "    </tr>\n",
       "    <tr>\n",
       "      <th>4</th>\n",
       "      <td>100197</td>\n",
       "      <td>20170913</td>\n",
       "      <td>165497@A</td>\n",
       "      <td>257440@A</td>\n",
       "      <td>null</td>\n",
       "      <td>MOBILEAPI</td>\n",
       "      <td>18200.0</td>\n",
       "      <td>0</td>\n",
       "    </tr>\n",
       "    <tr>\n",
       "      <th>5</th>\n",
       "      <td>100197</td>\n",
       "      <td>20171007</td>\n",
       "      <td>165497@A</td>\n",
       "      <td>425819@A</td>\n",
       "      <td>null</td>\n",
       "      <td>MOBILEAPI</td>\n",
       "      <td>568.0</td>\n",
       "      <td>0</td>\n",
       "    </tr>\n",
       "    <tr>\n",
       "      <th>6</th>\n",
       "      <td>100197</td>\n",
       "      <td>20170803</td>\n",
       "      <td>165497@A</td>\n",
       "      <td>257440@A</td>\n",
       "      <td>null</td>\n",
       "      <td>MOBILEAPI</td>\n",
       "      <td>8900.0</td>\n",
       "      <td>0</td>\n",
       "    </tr>\n",
       "  </tbody>\n",
       "</table>\n",
       "</div>"
      ],
      "text/plain": [
       "  user_id  short_date hacc_user  hacc_ext custom_mark channel_indicator_desc  \\\n",
       "0  100197  20170825    165497@A  312262@A  null        MOBILEAPI               \n",
       "2  100197  20170507    9017@A    165497@A  null        MOBILEAPI               \n",
       "4  100197  20170913    165497@A  257440@A  null        MOBILEAPI               \n",
       "5  100197  20171007    165497@A  425819@A  null        MOBILEAPI               \n",
       "6  100197  20170803    165497@A  257440@A  null        MOBILEAPI               \n",
       "\n",
       "  amount_original  is_fraud  \n",
       "0  10000.0         0         \n",
       "2  1600.0          0         \n",
       "4  18200.0         0         \n",
       "5  568.0           0         \n",
       "6  8900.0          0         "
      ]
     },
     "execution_count": 40,
     "metadata": {},
     "output_type": "execute_result"
    }
   ],
   "source": [
    "chunks_df.head(5)"
   ]
  },
  {
   "cell_type": "code",
   "execution_count": 31,
   "metadata": {},
   "outputs": [
    {
     "data": {
      "text/plain": [
       "MOBILEAPI    9649100\n",
       "WEBAPI       1979548\n",
       "MBK          1888300\n",
       "ATMAPI       1023336\n",
       "Name: channel_indicator_desc, dtype: int64"
      ]
     },
     "execution_count": 31,
     "metadata": {},
     "output_type": "execute_result"
    }
   ],
   "source": [
    "chunks_df['channel_indicator_desc'].value_counts(dropna=False)"
   ]
  },
  {
   "cell_type": "code",
   "execution_count": 32,
   "metadata": {},
   "outputs": [
    {
     "data": {
      "text/plain": [
       " 0    14522061\n",
       " 1    9656    \n",
       "-1    8567    \n",
       "Name: is_fraud, dtype: int64"
      ]
     },
     "execution_count": 32,
     "metadata": {},
     "output_type": "execute_result"
    }
   ],
   "source": [
    "chunks_df['is_fraud'].value_counts()"
   ]
  },
  {
   "cell_type": "code",
   "execution_count": 43,
   "metadata": {},
   "outputs": [
    {
     "data": {
      "text/plain": [
       "4517700@A    16627\n",
       "4821304@A    15239\n",
       "5657427@A    9367 \n",
       "6721525@A    9033 \n",
       "375083@A     8803 \n",
       "5333292@A    7997 \n",
       "4870888@A    7424 \n",
       "4703792@A    7327 \n",
       "6316043@A    6454 \n",
       "357116@A     5688 \n",
       "4398570@A    5473 \n",
       "5993202@A    5123 \n",
       "4917231@A    4984 \n",
       "6220747@A    4943 \n",
       "5712210@A    4809 \n",
       "6903517@A    4692 \n",
       "6294125@A    4654 \n",
       "4936099@A    4594 \n",
       "5799223@A    4513 \n",
       "4569788@A    4297 \n",
       "416938@A     4186 \n",
       "36530@A      4164 \n",
       "5959836@A    4136 \n",
       "52267@A      4133 \n",
       "4800444@A    4132 \n",
       "5151303@A    4109 \n",
       "5613525@A    4003 \n",
       "237658@A     3728 \n",
       "462349@A     3728 \n",
       "6642463@A    3641 \n",
       "5374149@A    3618 \n",
       "102131@A     3614 \n",
       "97912@A      3613 \n",
       "5975742@A    3608 \n",
       "6150984@A    3571 \n",
       "234989@A     3470 \n",
       "312065@A     3385 \n",
       "577824@A     3382 \n",
       "91136@A      3369 \n",
       "6009653@A    3364 \n",
       "4387446@A    3358 \n",
       "300412@A     3354 \n",
       "6294726@A    3352 \n",
       "376345@A     3290 \n",
       "179290@A     3279 \n",
       "6001001@A    3269 \n",
       "280540@A     3269 \n",
       "5529912@A    3263 \n",
       "6469709@A    3232 \n",
       "545556@A     3210 \n",
       "480110@A     3081 \n",
       "156102@A     3078 \n",
       "4614480@A    3062 \n",
       "4946153@A    3055 \n",
       "6202056@A    3016 \n",
       "5836351@A    2758 \n",
       "169339@A     2755 \n",
       "6782653@A    2713 \n",
       "4721660@A    2634 \n",
       "5395995@A    2623 \n",
       "170540@A     2608 \n",
       "4507487@A    2594 \n",
       "29076@A      2566 \n",
       "6018523@A    2545 \n",
       "5209408@A    2538 \n",
       "355417@A     2510 \n",
       "259460@A     2455 \n",
       "5017083@A    2405 \n",
       "4721658@A    2403 \n",
       "6667847@A    2390 \n",
       "4936503@A    2370 \n",
       "113769@A     2354 \n",
       "5243017@A    2352 \n",
       "5002749@A    2338 \n",
       "4533604@A    2303 \n",
       "4830970@A    2293 \n",
       "5835525@A    2287 \n",
       "305343@A     2283 \n",
       "6569495@A    2268 \n",
       "4826979@A    2248 \n",
       "4415457@A    2247 \n",
       "4748428@A    2222 \n",
       "4946151@A    2222 \n",
       "6420466@A    2222 \n",
       "4460587@A    2221 \n",
       "5499439@A    2200 \n",
       "4274692@A    2178 \n",
       "6909835@A    2178 \n",
       "6216363@A    2161 \n",
       "5373222@A    2155 \n",
       "4564593@A    2150 \n",
       "4685526@A    2142 \n",
       "380956@A     2137 \n",
       "4917229@A    2119 \n",
       "201086@A     2111 \n",
       "4882750@A    2096 \n",
       "5091514@A    2094 \n",
       "4670404@A    2077 \n",
       "4992286@A    2066 \n",
       "5800590@A    2062 \n",
       "6149615@A    2044 \n",
       "136616@A     2044 \n",
       "172750@A     2042 \n",
       "456111@A     2013 \n",
       "546167@A     2003 \n",
       "6037448@A    1996 \n",
       "5613519@A    1989 \n",
       "4701373@A    1982 \n",
       "5749711@A    1979 \n",
       "481312@A     1978 \n",
       "4380492@A    1962 \n",
       "6010054@A    1962 \n",
       "4302942@A    1947 \n",
       "5945071@A    1936 \n",
       "6690003@A    1933 \n",
       "307866@A     1925 \n",
       "5419534@A    1921 \n",
       "53119@A      1918 \n",
       "112117@A     1909 \n",
       "4845421@A    1903 \n",
       "4290268@A    1902 \n",
       "4971580@A    1901 \n",
       "4366636@A    1893 \n",
       "4919402@A    1874 \n",
       "488658@A     1834 \n",
       "6157739@A    1834 \n",
       "562824@A     1828 \n",
       "4821305@A    1820 \n",
       "5554031@A    1817 \n",
       "4941352@A    1806 \n",
       "4912723@A    1801 \n",
       "5223303@A    1792 \n",
       "331259@A     1781 \n",
       "6569497@A    1779 \n",
       "130882@A     1763 \n",
       "522123@A     1754 \n",
       "6885071@A    1754 \n",
       "5180869@A    1750 \n",
       "4463265@A    1739 \n",
       "2955@A       1733 \n",
       "6738470@A    1718 \n",
       "4814079@A    1712 \n",
       "25840@A      1712 \n",
       "5154928@A    1692 \n",
       "4966137@A    1683 \n",
       "6281232@A    1665 \n",
       "248703@A     1663 \n",
       "6538023@A    1656 \n",
       "4859211@A    1655 \n",
       "499158@A     1653 \n",
       "5450009@A    1651 \n",
       "4903454@A    1644 \n",
       "5319274@A    1638 \n",
       "4613402@A    1636 \n",
       "401871@A     1636 \n",
       "266406@A     1620 \n",
       "4560747@A    1610 \n",
       "4969142@A    1609 \n",
       "5379599@A    1609 \n",
       "19217@A      1604 \n",
       "424335@A     1600 \n",
       "4660683@A    1598 \n",
       "6634168@A    1593 \n",
       "4335841@A    1591 \n",
       "563533@A     1590 \n",
       "4789265@A    1590 \n",
       "5404790@A    1579 \n",
       "4387451@A    1570 \n",
       "5104144@A    1560 \n",
       "4350181@A    1554 \n",
       "6391066@A    1542 \n",
       "5235853@A    1541 \n",
       "5085487@A    1523 \n",
       "305467@A     1523 \n",
       "6793404@A    1510 \n",
       "5238091@A    1508 \n",
       "5116227@A    1506 \n",
       "5217615@A    1500 \n",
       "1832@A       1497 \n",
       "4652722@A    1495 \n",
       "204362@A     1495 \n",
       "4838790@A    1481 \n",
       "6141362@A    1469 \n",
       "5725491@A    1466 \n",
       "5092787@A    1466 \n",
       "238759@A     1453 \n",
       "5473400@A    1444 \n",
       "541041@A     1432 \n",
       "4340369@A    1418 \n",
       "4648891@A    1416 \n",
       "6545638@A    1411 \n",
       "57980@A      1406 \n",
       "5137532@A    1398 \n",
       "5244450@A    1396 \n",
       "76865@A      1394 \n",
       "5705063@A    1393 \n",
       "123750@A     1390 \n",
       "137848@A     1386 \n",
       "356716@A     1386 \n",
       "6205497@A    1385 \n",
       "6210585@A    1383 \n",
       "5121768@A    1381 \n",
       "5353068@A    1360 \n",
       "5487250@A    1354 \n",
       "6633540@A    1350 \n",
       "6382504@A    1349 \n",
       "6250142@A    1347 \n",
       "482600@A     1336 \n",
       "5177451@A    1327 \n",
       "4360800@A    1326 \n",
       "533923@A     1325 \n",
       "6464647@A    1322 \n",
       "526629@A     1322 \n",
       "6405574@A    1321 \n",
       "5320628@A    1319 \n",
       "105959@A     1318 \n",
       "4406418@A    1316 \n",
       "286209@A     1310 \n",
       "356038@A     1310 \n",
       "4525183@A    1305 \n",
       "6843143@A    1302 \n",
       "5914151@A    1297 \n",
       "5300995@A    1297 \n",
       "4677041@A    1292 \n",
       "6793403@A    1291 \n",
       "6218041@A    1287 \n",
       "5103634@A    1273 \n",
       "6170501@A    1272 \n",
       "4515297@A    1261 \n",
       "6045198@A    1260 \n",
       "451609@A     1258 \n",
       "4454779@A    1258 \n",
       "264220@A     1257 \n",
       "4664531@A    1255 \n",
       "4979321@A    1252 \n",
       "70418@A      1252 \n",
       "420027@A     1251 \n",
       "6108635@A    1251 \n",
       "4886024@A    1250 \n",
       "388461@A     1244 \n",
       "4501140@A    1237 \n",
       "573706@A     1237 \n",
       "6016162@A    1232 \n",
       "290474@A     1227 \n",
       "4617301@A    1227 \n",
       "227441@A     1225 \n",
       "411415@A     1223 \n",
       "6625310@A    1213 \n",
       "71013@A      1212 \n",
       "6241645@A    1207 \n",
       "             ...  \n",
       "5251167@A    1    \n",
       "4679019@A    1    \n",
       "6098486@A    1    \n",
       "4507671@A    1    \n",
       "4507596@A    1    \n",
       "4337601@A    1    \n",
       "4525957@A    1    \n",
       "5957709@A    1    \n",
       "6828792@A    1    \n",
       "6281734@A    1    \n",
       "6792448@A    1    \n",
       "4448284@A    1    \n",
       "5185008@A    1    \n",
       "5321964@A    1    \n",
       "227998@A     1    \n",
       "6898997@A    1    \n",
       "457938@A     1    \n",
       "6915933@A    1    \n",
       "5638861@A    1    \n",
       "174215@A     1    \n",
       "6314726@A    1    \n",
       "5840066@A    1    \n",
       "6311205@A    1    \n",
       "5305735@A    1    \n",
       "4844231@A    1    \n",
       "6455234@A    1    \n",
       "6088188@A    1    \n",
       "4308081@A    1    \n",
       "4456014@A    1    \n",
       "5932650@A    1    \n",
       "6015664@A    1    \n",
       "6805078@A    1    \n",
       "5784466@A    1    \n",
       "460138@A     1    \n",
       "5864601@A    1    \n",
       "6878903@A    1    \n",
       "5576179@A    1    \n",
       "5563686@A    1    \n",
       "5780136@A    1    \n",
       "4444124@A    1    \n",
       "6599762@A    1    \n",
       "6374023@A    1    \n",
       "6835048@A    1    \n",
       "4468017@A    1    \n",
       "5703283@A    1    \n",
       "4870484@A    1    \n",
       "6469277@A    1    \n",
       "5639275@A    1    \n",
       "5312475@A    1    \n",
       "304976@A     1    \n",
       "6392779@A    1    \n",
       "5882398@A    1    \n",
       "6663811@A    1    \n",
       "6906078@A    1    \n",
       "6015265@A    1    \n",
       "5466315@A    1    \n",
       "5275550@A    1    \n",
       "4392020@A    1    \n",
       "4453628@A    1    \n",
       "6152768@A    1    \n",
       "418668@A     1    \n",
       "6564383@A    1    \n",
       "5053622@A    1    \n",
       "468070@A     1    \n",
       "5130720@A    1    \n",
       "5755979@A    1    \n",
       "4321113@A    1    \n",
       "5625245@A    1    \n",
       "5531928@A    1    \n",
       "6429664@A    1    \n",
       "5431639@A    1    \n",
       "5348378@A    1    \n",
       "6360100@A    1    \n",
       "253197@A     1    \n",
       "4465203@A    1    \n",
       "6768047@A    1    \n",
       "4628011@A    1    \n",
       "4623871@A    1    \n",
       "6920@A       1    \n",
       "4546660@A    1    \n",
       "4948487@A    1    \n",
       "207427@A     1    \n",
       "5187520@A    1    \n",
       "6171512@A    1    \n",
       "6721171@A    1    \n",
       "57264@A      1    \n",
       "6292791@A    1    \n",
       "6774853@A    1    \n",
       "5879975@A    1    \n",
       "259749@A     1    \n",
       "5780451@A    1    \n",
       "6173446@A    1    \n",
       "558327@A     1    \n",
       "6818528@A    1    \n",
       "4886369@A    1    \n",
       "6043408@A    1    \n",
       "45909@A      1    \n",
       "4971818@A    1    \n",
       "4296054@A    1    \n",
       "481888@A     1    \n",
       "4552040@A    1    \n",
       "5441673@A    1    \n",
       "4987474@A    1    \n",
       "6007778@A    1    \n",
       "16450@A      1    \n",
       "5924051@A    1    \n",
       "391126@A     1    \n",
       "5559044@A    1    \n",
       "5230061@A    1    \n",
       "5315218@A    1    \n",
       "5710646@A    1    \n",
       "5273189@A    1    \n",
       "5634489@A    1    \n",
       "502026@A     1    \n",
       "4931062@A    1    \n",
       "433651@A     1    \n",
       "6813450@A    1    \n",
       "5695392@A    1    \n",
       "4836963@A    1    \n",
       "5887142@A    1    \n",
       "312128@A     1    \n",
       "4607529@A    1    \n",
       "4713467@A    1    \n",
       "5355394@A    1    \n",
       "5559394@A    1    \n",
       "5905373@A    1    \n",
       "6822850@A    1    \n",
       "5480103@A    1    \n",
       "6253252@A    1    \n",
       "4274506@A    1    \n",
       "4266788@A    1    \n",
       "34917@A      1    \n",
       "6845419@A    1    \n",
       "6196757@A    1    \n",
       "4471587@A    1    \n",
       "5045328@A    1    \n",
       "5249139@A    1    \n",
       "6306743@A    1    \n",
       "4611914@A    1    \n",
       "25535@A      1    \n",
       "4810797@A    1    \n",
       "192932@A     1    \n",
       "5648095@A    1    \n",
       "6020385@A    1    \n",
       "372392@A     1    \n",
       "4658670@A    1    \n",
       "4685467@A    1    \n",
       "5502064@A    1    \n",
       "4546628@A    1    \n",
       "6408005@A    1    \n",
       "338859@A     1    \n",
       "5026866@A    1    \n",
       "6183271@A    1    \n",
       "5772751@A    1    \n",
       "6443480@A    1    \n",
       "5857223@A    1    \n",
       "480088@A     1    \n",
       "20242@A      1    \n",
       "6189349@A    1    \n",
       "5975205@A    1    \n",
       "4957208@A    1    \n",
       "4308404@A    1    \n",
       "4298321@A    1    \n",
       "6623975@A    1    \n",
       "5257941@A    1    \n",
       "4588654@A    1    \n",
       "4921298@A    1    \n",
       "4466831@A    1    \n",
       "6129594@A    1    \n",
       "4457038@A    1    \n",
       "4937339@A    1    \n",
       "436540@A     1    \n",
       "5287605@A    1    \n",
       "6915063@A    1    \n",
       "4925386@A    1    \n",
       "5972810@A    1    \n",
       "5593833@A    1    \n",
       "6087236@A    1    \n",
       "4803445@A    1    \n",
       "5453111@A    1    \n",
       "6334298@A    1    \n",
       "6679928@A    1    \n",
       "503760@A     1    \n",
       "6731265@A    1    \n",
       "5745246@A    1    \n",
       "6647558@A    1    \n",
       "6443258@A    1    \n",
       "4439758@A    1    \n",
       "4750381@A    1    \n",
       "5476934@A    1    \n",
       "140023@A     1    \n",
       "520663@A     1    \n",
       "5874323@A    1    \n",
       "5886786@A    1    \n",
       "500657@A     1    \n",
       "5913760@A    1    \n",
       "6896681@A    1    \n",
       "5689218@A    1    \n",
       "6850426@A    1    \n",
       "4990340@A    1    \n",
       "5288470@A    1    \n",
       "5398779@A    1    \n",
       "4938087@A    1    \n",
       "5031310@A    1    \n",
       "128345@A     1    \n",
       "4728459@A    1    \n",
       "5436935@A    1    \n",
       "4739478@A    1    \n",
       "5687718@A    1    \n",
       "5550051@A    1    \n",
       "45451@A      1    \n",
       "4296561@A    1    \n",
       "5984064@A    1    \n",
       "384553@A     1    \n",
       "189298@A     1    \n",
       "6778399@A    1    \n",
       "4479662@A    1    \n",
       "6314970@A    1    \n",
       "6034359@A    1    \n",
       "5557426@A    1    \n",
       "6807802@A    1    \n",
       "4658367@A    1    \n",
       "4893229@A    1    \n",
       "6742388@A    1    \n",
       "6828037@A    1    \n",
       "456203@A     1    \n",
       "6221759@A    1    \n",
       "5743639@A    1    \n",
       "4289168@A    1    \n",
       "133504@A     1    \n",
       "4298260@A    1    \n",
       "6340814@A    1    \n",
       "4344891@A    1    \n",
       "4712347@A    1    \n",
       "6585664@A    1    \n",
       "569821@A     1    \n",
       "6547743@A    1    \n",
       "4976368@A    1    \n",
       "5429518@A    1    \n",
       "5299034@A    1    \n",
       "4989623@A    1    \n",
       "4551006@A    1    \n",
       "6276642@A    1    \n",
       "106633@A     1    \n",
       "6321533@A    1    \n",
       "5563385@A    1    \n",
       "5336984@A    1    \n",
       "6771182@A    1    \n",
       "6420293@A    1    \n",
       "6015529@A    1    \n",
       "Name: hacc_user, Length: 284670, dtype: int64"
      ]
     },
     "execution_count": 43,
     "metadata": {},
     "output_type": "execute_result"
    }
   ],
   "source": [
    "chunks_df['hacc_user'].value_counts()"
   ]
  },
  {
   "cell_type": "code",
   "execution_count": 44,
   "metadata": {},
   "outputs": [
    {
     "data": {
      "text/plain": [
       "166193@A     105461\n",
       "350249@A     67893 \n",
       "355920@A     40200 \n",
       "267527@A     39756 \n",
       "6162@A       36551 \n",
       "42363@A      23104 \n",
       "15326@A      22913 \n",
       "464560@A     22171 \n",
       "36778@A      20889 \n",
       "477893@A     19960 \n",
       "538667@A     15738 \n",
       "404115@A     15620 \n",
       "435465@A     15402 \n",
       "263211@A     14491 \n",
       "207977@A     14179 \n",
       "175438@A     11945 \n",
       "246611@A     11148 \n",
       "25956@A      11046 \n",
       "241389@A     10759 \n",
       "57454@A      10101 \n",
       "278971@A     9621  \n",
       "206344@A     9014  \n",
       "137218@A     8588  \n",
       "542019@A     8348  \n",
       "280814@A     7810  \n",
       "320315@A     7269  \n",
       "546491@A     7193  \n",
       "26320@A      7052  \n",
       "319675@A     6583  \n",
       "347406@A     5981  \n",
       "410980@A     5711  \n",
       "215925@A     5684  \n",
       "493729@A     5644  \n",
       "342621@A     5498  \n",
       "200599@A     5430  \n",
       "354173@A     5287  \n",
       "432423@A     5228  \n",
       "272773@A     5072  \n",
       "467905@A     5041  \n",
       "5133@A       5029  \n",
       "222902@A     5004  \n",
       "97274@A      4895  \n",
       "212280@A     4888  \n",
       "411076@A     4767  \n",
       "389281@A     4739  \n",
       "3779@A       4646  \n",
       "76164@A      4641  \n",
       "169966@A     4598  \n",
       "384597@A     4577  \n",
       "546586@A     4441  \n",
       "415649@A     4294  \n",
       "345973@A     4256  \n",
       "331427@A     4208  \n",
       "271777@A     4170  \n",
       "236406@A     4154  \n",
       "212594@A     4125  \n",
       "192765@A     4043  \n",
       "185244@A     4020  \n",
       "458957@A     4014  \n",
       "474601@A     3934  \n",
       "266596@A     3898  \n",
       "195886@A     3843  \n",
       "22235@A      3839  \n",
       "53977@A      3671  \n",
       "461138@A     3650  \n",
       "287524@A     3601  \n",
       "43393@A      3550  \n",
       "571567@A     3506  \n",
       "423031@A     3497  \n",
       "492032@A     3467  \n",
       "162747@A     3457  \n",
       "441800@A     3392  \n",
       "178311@A     3355  \n",
       "355900@A     3322  \n",
       "344547@A     3296  \n",
       "239532@A     3261  \n",
       "514517@A     3208  \n",
       "36087@A      3191  \n",
       "93235@A      3168  \n",
       "404754@A     3147  \n",
       "412421@A     3143  \n",
       "524227@A     3099  \n",
       "518005@A     3064  \n",
       "349399@A     3062  \n",
       "163453@A     2933  \n",
       "389919@A     2929  \n",
       "508148@A     2907  \n",
       "175309@A     2905  \n",
       "271963@A     2881  \n",
       "437726@A     2830  \n",
       "418409@A     2769  \n",
       "412163@A     2768  \n",
       "202382@A     2768  \n",
       "439416@A     2752  \n",
       "399666@A     2710  \n",
       "404491@A     2703  \n",
       "372324@A     2693  \n",
       "380539@A     2649  \n",
       "172027@A     2637  \n",
       "48751@A      2616  \n",
       "79642@A      2588  \n",
       "480045@A     2570  \n",
       "108864@A     2529  \n",
       "166201@A     2441  \n",
       "269806@A     2419  \n",
       "197982@A     2414  \n",
       "40122@A      2387  \n",
       "206648@A     2368  \n",
       "176139@A     2355  \n",
       "535966@A     2352  \n",
       "338571@A     2335  \n",
       "391658@A     2320  \n",
       "91849@A      2317  \n",
       "500363@A     2314  \n",
       "14622@A      2304  \n",
       "433755@A     2261  \n",
       "179841@A     2261  \n",
       "411489@A     2250  \n",
       "191729@A     2237  \n",
       "372526@A     2235  \n",
       "32811@A      2186  \n",
       "379675@A     2178  \n",
       "415211@A     2124  \n",
       "531315@A     2113  \n",
       "538055@A     2103  \n",
       "288270@A     2092  \n",
       "230055@A     2075  \n",
       "423605@A     2028  \n",
       "394346@A     2027  \n",
       "93507@A      2016  \n",
       "210722@A     2011  \n",
       "281313@A     1982  \n",
       "122186@A     1981  \n",
       "98802@A      1959  \n",
       "160288@A     1956  \n",
       "417684@A     1952  \n",
       "34190@A      1939  \n",
       "552427@A     1901  \n",
       "504212@A     1894  \n",
       "321135@A     1892  \n",
       "46833@A      1888  \n",
       "253769@A     1858  \n",
       "312266@A     1837  \n",
       "371202@A     1811  \n",
       "160093@A     1806  \n",
       "551151@A     1796  \n",
       "337188@A     1793  \n",
       "283988@A     1787  \n",
       "437656@A     1751  \n",
       "53299@A      1746  \n",
       "145163@A     1736  \n",
       "195645@A     1729  \n",
       "226050@A     1705  \n",
       "246718@A     1690  \n",
       "424849@A     1686  \n",
       "43985@A      1666  \n",
       "347197@A     1666  \n",
       "223668@A     1646  \n",
       "42797@A      1644  \n",
       "553142@A     1626  \n",
       "56310@A      1624  \n",
       "103148@A     1623  \n",
       "221324@A     1606  \n",
       "60414@A      1606  \n",
       "57738@A      1603  \n",
       "143692@A     1602  \n",
       "485627@A     1578  \n",
       "446470@A     1578  \n",
       "415595@A     1578  \n",
       "457581@A     1567  \n",
       "416908@A     1551  \n",
       "125003@A     1542  \n",
       "189553@A     1533  \n",
       "299361@A     1530  \n",
       "346904@A     1525  \n",
       "104694@A     1522  \n",
       "238896@A     1520  \n",
       "438984@A     1518  \n",
       "209369@A     1515  \n",
       "259170@A     1509  \n",
       "5452@A       1506  \n",
       "196420@A     1497  \n",
       "193161@A     1496  \n",
       "434464@A     1495  \n",
       "231791@A     1493  \n",
       "51102@A      1492  \n",
       "212883@A     1449  \n",
       "5019@A       1442  \n",
       "32691@A      1434  \n",
       "16798@A      1429  \n",
       "162072@A     1428  \n",
       "5705063@A    1421  \n",
       "570859@A     1405  \n",
       "576539@A     1399  \n",
       "308376@A     1380  \n",
       "269450@A     1374  \n",
       "149233@A     1367  \n",
       "349762@A     1356  \n",
       "4340370@A    1354  \n",
       "443086@A     1353  \n",
       "174404@A     1352  \n",
       "81661@A      1351  \n",
       "19082@A      1338  \n",
       "422375@A     1331  \n",
       "67968@A      1329  \n",
       "238492@A     1320  \n",
       "494665@A     1315  \n",
       "21057@A      1312  \n",
       "504069@A     1307  \n",
       "4826981@A    1295  \n",
       "312646@A     1294  \n",
       "504594@A     1293  \n",
       "446177@A     1293  \n",
       "116834@A     1284  \n",
       "484072@A     1280  \n",
       "497389@A     1273  \n",
       "59622@A      1271  \n",
       "4608@A       1265  \n",
       "60150@A      1263  \n",
       "259164@A     1256  \n",
       "262800@A     1251  \n",
       "417168@A     1241  \n",
       "6793404@A    1223  \n",
       "328700@A     1220  \n",
       "254003@A     1217  \n",
       "571671@A     1200  \n",
       "311265@A     1198  \n",
       "429485@A     1195  \n",
       "330898@A     1187  \n",
       "555771@A     1183  \n",
       "329865@A     1181  \n",
       "16914@A      1180  \n",
       "166679@A     1170  \n",
       "454221@A     1170  \n",
       "481063@A     1167  \n",
       "122000@A     1163  \n",
       "474225@A     1161  \n",
       "302627@A     1158  \n",
       "561373@A     1151  \n",
       "153248@A     1147  \n",
       "446156@A     1146  \n",
       "464831@A     1142  \n",
       "281937@A     1132  \n",
       "106899@A     1115  \n",
       "396593@A     1109  \n",
       "59511@A      1098  \n",
       "552601@A     1091  \n",
       "246459@A     1089  \n",
       "439258@A     1085  \n",
       "453798@A     1084  \n",
       "             ...   \n",
       "5630288@A    1     \n",
       "6473518@A    1     \n",
       "6046624@A    1     \n",
       "5460451@A    1     \n",
       "6415519@A    1     \n",
       "4963697@A    1     \n",
       "6130843@A    1     \n",
       "5797382@A    1     \n",
       "6398918@A    1     \n",
       "4538028@A    1     \n",
       "6727716@A    1     \n",
       "6277657@A    1     \n",
       "42115@A      1     \n",
       "5574179@A    1     \n",
       "6138064@A    1     \n",
       "5558567@A    1     \n",
       "6440724@A    1     \n",
       "5729556@A    1     \n",
       "6221503@A    1     \n",
       "5152553@A    1     \n",
       "393673@A     1     \n",
       "6358593@A    1     \n",
       "5270005@A    1     \n",
       "6591703@A    1     \n",
       "6685002@A    1     \n",
       "34211@A      1     \n",
       "5705278@A    1     \n",
       "145420@A     1     \n",
       "6087501@A    1     \n",
       "5884950@A    1     \n",
       "5709053@A    1     \n",
       "369620@A     1     \n",
       "6396859@A    1     \n",
       "4448685@A    1     \n",
       "4950927@A    1     \n",
       "5538934@A    1     \n",
       "6439403@A    1     \n",
       "6314809@A    1     \n",
       "4968188@A    1     \n",
       "6777286@A    1     \n",
       "6331753@A    1     \n",
       "5855303@A    1     \n",
       "6456973@A    1     \n",
       "4963405@A    1     \n",
       "294776@A     1     \n",
       "4420663@A    1     \n",
       "4983438@A    1     \n",
       "5598329@A    1     \n",
       "5820915@A    1     \n",
       "5730367@A    1     \n",
       "5030682@A    1     \n",
       "6030849@A    1     \n",
       "4717835@A    1     \n",
       "9181@A       1     \n",
       "5346349@A    1     \n",
       "5011163@A    1     \n",
       "6735468@A    1     \n",
       "28429@A      1     \n",
       "59135@A      1     \n",
       "6733563@A    1     \n",
       "5329899@A    1     \n",
       "4915002@A    1     \n",
       "6320291@A    1     \n",
       "151653@A     1     \n",
       "6828071@A    1     \n",
       "5528407@A    1     \n",
       "6575343@A    1     \n",
       "5599075@A    1     \n",
       "4989951@A    1     \n",
       "6617307@A    1     \n",
       "231064@A     1     \n",
       "4348003@A    1     \n",
       "5129625@A    1     \n",
       "6239727@A    1     \n",
       "4635335@A    1     \n",
       "6643836@A    1     \n",
       "4937988@A    1     \n",
       "6325254@A    1     \n",
       "5194164@A    1     \n",
       "4572667@A    1     \n",
       "6567609@A    1     \n",
       "428260@A     1     \n",
       "5061030@A    1     \n",
       "451502@A     1     \n",
       "6899463@A    1     \n",
       "6621170@A    1     \n",
       "4300011@A    1     \n",
       "5109941@A    1     \n",
       "5052302@A    1     \n",
       "5314111@A    1     \n",
       "5756220@A    1     \n",
       "201636@A     1     \n",
       "6729245@A    1     \n",
       "5400472@A    1     \n",
       "6678540@A    1     \n",
       "5870323@A    1     \n",
       "4421935@A    1     \n",
       "6333385@A    1     \n",
       "82050@A      1     \n",
       "573174@A     1     \n",
       "545493@A     1     \n",
       "5790004@A    1     \n",
       "6093088@A    1     \n",
       "5434686@A    1     \n",
       "4654048@A    1     \n",
       "6313001@A    1     \n",
       "6376358@A    1     \n",
       "6842466@A    1     \n",
       "6512751@A    1     \n",
       "5162301@A    1     \n",
       "6846074@A    1     \n",
       "254@A        1     \n",
       "6463015@A    1     \n",
       "5658772@A    1     \n",
       "4900260@A    1     \n",
       "509023@A     1     \n",
       "463048@A     1     \n",
       "6109527@A    1     \n",
       "6119783@A    1     \n",
       "4449749@A    1     \n",
       "5559088@A    1     \n",
       "4549429@A    1     \n",
       "5392717@A    1     \n",
       "6110227@A    1     \n",
       "6838760@A    1     \n",
       "4857304@A    1     \n",
       "6186843@A    1     \n",
       "6262577@A    1     \n",
       "6702181@A    1     \n",
       "155592@A     1     \n",
       "280190@A     1     \n",
       "6532121@A    1     \n",
       "5052927@A    1     \n",
       "154534@A     1     \n",
       "571919@A     1     \n",
       "5973092@A    1     \n",
       "6722983@A    1     \n",
       "6418944@A    1     \n",
       "46727@A      1     \n",
       "4459228@A    1     \n",
       "6139656@A    1     \n",
       "6278994@A    1     \n",
       "6647947@A    1     \n",
       "5713992@A    1     \n",
       "4304449@A    1     \n",
       "4311714@A    1     \n",
       "6296085@A    1     \n",
       "5377980@A    1     \n",
       "373036@A     1     \n",
       "4982432@A    1     \n",
       "5389816@A    1     \n",
       "4636934@A    1     \n",
       "5641681@A    1     \n",
       "6550482@A    1     \n",
       "6471867@A    1     \n",
       "6291917@A    1     \n",
       "5578663@A    1     \n",
       "303271@A     1     \n",
       "274303@A     1     \n",
       "5770897@A    1     \n",
       "6040564@A    1     \n",
       "6079386@A    1     \n",
       "462606@A     1     \n",
       "6563875@A    1     \n",
       "6301806@A    1     \n",
       "105406@A     1     \n",
       "6304505@A    1     \n",
       "6536507@A    1     \n",
       "4760449@A    1     \n",
       "6485712@A    1     \n",
       "460276@A     1     \n",
       "6288190@A    1     \n",
       "107214@A     1     \n",
       "6491406@A    1     \n",
       "6491024@A    1     \n",
       "343800@A     1     \n",
       "451272@A     1     \n",
       "4466144@A    1     \n",
       "77168@A      1     \n",
       "4646927@A    1     \n",
       "169595@A     1     \n",
       "6209154@A    1     \n",
       "5444631@A    1     \n",
       "5027691@A    1     \n",
       "343690@A     1     \n",
       "6774800@A    1     \n",
       "6877605@A    1     \n",
       "449256@A     1     \n",
       "4365483@A    1     \n",
       "6488687@A    1     \n",
       "4358755@A    1     \n",
       "5318308@A    1     \n",
       "557051@A     1     \n",
       "6598991@A    1     \n",
       "367297@A     1     \n",
       "5072781@A    1     \n",
       "4800398@A    1     \n",
       "5983914@A    1     \n",
       "6018937@A    1     \n",
       "5545565@A    1     \n",
       "6516288@A    1     \n",
       "447187@A     1     \n",
       "5391168@A    1     \n",
       "6795907@A    1     \n",
       "66285@A      1     \n",
       "6091196@A    1     \n",
       "6043142@A    1     \n",
       "4745802@A    1     \n",
       "4927504@A    1     \n",
       "5806719@A    1     \n",
       "45592@A      1     \n",
       "5183949@A    1     \n",
       "4650811@A    1     \n",
       "6812512@A    1     \n",
       "4580275@A    1     \n",
       "6249837@A    1     \n",
       "5809325@A    1     \n",
       "6685601@A    1     \n",
       "4447104@A    1     \n",
       "6251670@A    1     \n",
       "469555@A     1     \n",
       "383828@A     1     \n",
       "4359917@A    1     \n",
       "5914697@A    1     \n",
       "4734297@A    1     \n",
       "6388674@A    1     \n",
       "527606@A     1     \n",
       "5616166@A    1     \n",
       "6131639@A    1     \n",
       "5754310@A    1     \n",
       "322474@A     1     \n",
       "4819681@A    1     \n",
       "6697568@A    1     \n",
       "6453225@A    1     \n",
       "5747277@A    1     \n",
       "5737109@A    1     \n",
       "4363482@A    1     \n",
       "571416@A     1     \n",
       "6234361@A    1     \n",
       "5464555@A    1     \n",
       "6002219@A    1     \n",
       "289057@A     1     \n",
       "5816296@A    1     \n",
       "5713672@A    1     \n",
       "6477545@A    1     \n",
       "5858676@A    1     \n",
       "6198613@A    1     \n",
       "6505625@A    1     \n",
       "6559978@A    1     \n",
       "4639711@A    1     \n",
       "Name: hacc_ext, Length: 3116623, dtype: int64"
      ]
     },
     "execution_count": 44,
     "metadata": {},
     "output_type": "execute_result"
    }
   ],
   "source": [
    "chunks_df['hacc_ext'].value_counts()"
   ]
  },
  {
   "cell_type": "code",
   "execution_count": 45,
   "metadata": {
    "collapsed": true
   },
   "outputs": [],
   "source": [
    "edges_set = set(zip(chunks_df['hacc_user'], chunks_df['hacc_ext']))"
   ]
  },
  {
   "cell_type": "code",
   "execution_count": 46,
   "metadata": {},
   "outputs": [
    {
     "data": {
      "text/plain": [
       "4341610"
      ]
     },
     "execution_count": 46,
     "metadata": {},
     "output_type": "execute_result"
    }
   ],
   "source": [
    "len(edges_set)"
   ]
  },
  {
   "cell_type": "code",
   "execution_count": 49,
   "metadata": {
    "collapsed": true
   },
   "outputs": [],
   "source": [
    "g = nx.Graph(directed=False)"
   ]
  },
  {
   "cell_type": "code",
   "execution_count": 47,
   "metadata": {},
   "outputs": [
    {
     "data": {
      "text/plain": [
       "('6453055@A', '404115@A')"
      ]
     },
     "execution_count": 47,
     "metadata": {},
     "output_type": "execute_result"
    }
   ],
   "source": [
    "list(edges_set)[0]"
   ]
  },
  {
   "cell_type": "raw",
   "metadata": {},
   "source": [
    "%%time\n",
    "g.add_edges_from(edges_set)"
   ]
  },
  {
   "cell_type": "code",
   "execution_count": 50,
   "metadata": {},
   "outputs": [
    {
     "data": {
      "application/vnd.jupyter.widget-view+json": {
       "model_id": "2e03477a607e4034ad18d437c3de32f9"
      }
     },
     "metadata": {},
     "output_type": "display_data"
    },
    {
     "name": "stdout",
     "output_type": "stream",
     "text": [
      "\n"
     ]
    }
   ],
   "source": [
    "for v1, v2 in tqdm_notebook(edges_set):\n",
    "    g.add_edge(v1, v2)"
   ]
  },
  {
   "cell_type": "code",
   "execution_count": 52,
   "metadata": {},
   "outputs": [
    {
     "name": "stdout",
     "output_type": "stream",
     "text": [
      "CPU times: user 14.3 s, sys: 3.54 s, total: 17.9 s\n",
      "Wall time: 17.9 s\n"
     ]
    },
    {
     "data": {
      "text/plain": [
       "13641"
      ]
     },
     "execution_count": 52,
     "metadata": {},
     "output_type": "execute_result"
    }
   ],
   "source": [
    "%%time\n",
    "nx.components.number_connected_components(g)"
   ]
  },
  {
   "cell_type": "code",
   "execution_count": 55,
   "metadata": {},
   "outputs": [
    {
     "data": {
      "application/vnd.jupyter.widget-view+json": {
       "model_id": "1b82b4f764644e138d03f62bba8714b6"
      }
     },
     "metadata": {},
     "output_type": "display_data"
    },
    {
     "name": "stdout",
     "output_type": "stream",
     "text": [
      "\n",
      "CPU times: user 14 s, sys: 2.6 s, total: 16.6 s\n",
      "Wall time: 16.6 s\n"
     ]
    }
   ],
   "source": [
    "%%time\n",
    "components = [x for x in tqdm_notebook(nx.components.connected_components(g))]"
   ]
  },
  {
   "cell_type": "code",
   "execution_count": 60,
   "metadata": {},
   "outputs": [
    {
     "data": {
      "text/html": [
       "<div>\n",
       "<style>\n",
       "    .dataframe thead tr:only-child th {\n",
       "        text-align: right;\n",
       "    }\n",
       "\n",
       "    .dataframe thead th {\n",
       "        text-align: left;\n",
       "    }\n",
       "\n",
       "    .dataframe tbody tr th {\n",
       "        vertical-align: top;\n",
       "    }\n",
       "</style>\n",
       "<table border=\"1\" class=\"dataframe\">\n",
       "  <thead>\n",
       "    <tr style=\"text-align: right;\">\n",
       "      <th></th>\n",
       "      <th>user_id</th>\n",
       "      <th>short_date</th>\n",
       "      <th>hacc_user</th>\n",
       "      <th>hacc_ext</th>\n",
       "      <th>custom_mark</th>\n",
       "      <th>channel_indicator_desc</th>\n",
       "      <th>amount_original</th>\n",
       "      <th>is_fraud</th>\n",
       "    </tr>\n",
       "  </thead>\n",
       "  <tbody>\n",
       "    <tr>\n",
       "      <th>0</th>\n",
       "      <td>100197</td>\n",
       "      <td>20170825</td>\n",
       "      <td>165497@A</td>\n",
       "      <td>312262@A</td>\n",
       "      <td>null</td>\n",
       "      <td>MOBILEAPI</td>\n",
       "      <td>10000.0</td>\n",
       "      <td>0</td>\n",
       "    </tr>\n",
       "    <tr>\n",
       "      <th>2</th>\n",
       "      <td>100197</td>\n",
       "      <td>20170507</td>\n",
       "      <td>9017@A</td>\n",
       "      <td>165497@A</td>\n",
       "      <td>null</td>\n",
       "      <td>MOBILEAPI</td>\n",
       "      <td>1600.0</td>\n",
       "      <td>0</td>\n",
       "    </tr>\n",
       "    <tr>\n",
       "      <th>4</th>\n",
       "      <td>100197</td>\n",
       "      <td>20170913</td>\n",
       "      <td>165497@A</td>\n",
       "      <td>257440@A</td>\n",
       "      <td>null</td>\n",
       "      <td>MOBILEAPI</td>\n",
       "      <td>18200.0</td>\n",
       "      <td>0</td>\n",
       "    </tr>\n",
       "    <tr>\n",
       "      <th>5</th>\n",
       "      <td>100197</td>\n",
       "      <td>20171007</td>\n",
       "      <td>165497@A</td>\n",
       "      <td>425819@A</td>\n",
       "      <td>null</td>\n",
       "      <td>MOBILEAPI</td>\n",
       "      <td>568.0</td>\n",
       "      <td>0</td>\n",
       "    </tr>\n",
       "    <tr>\n",
       "      <th>6</th>\n",
       "      <td>100197</td>\n",
       "      <td>20170803</td>\n",
       "      <td>165497@A</td>\n",
       "      <td>257440@A</td>\n",
       "      <td>null</td>\n",
       "      <td>MOBILEAPI</td>\n",
       "      <td>8900.0</td>\n",
       "      <td>0</td>\n",
       "    </tr>\n",
       "  </tbody>\n",
       "</table>\n",
       "</div>"
      ],
      "text/plain": [
       "  user_id  short_date hacc_user  hacc_ext custom_mark channel_indicator_desc  \\\n",
       "0  100197  20170825    165497@A  312262@A  null        MOBILEAPI               \n",
       "2  100197  20170507    9017@A    165497@A  null        MOBILEAPI               \n",
       "4  100197  20170913    165497@A  257440@A  null        MOBILEAPI               \n",
       "5  100197  20171007    165497@A  425819@A  null        MOBILEAPI               \n",
       "6  100197  20170803    165497@A  257440@A  null        MOBILEAPI               \n",
       "\n",
       "  amount_original  is_fraud  \n",
       "0  10000.0         0         \n",
       "2  1600.0          0         \n",
       "4  18200.0         0         \n",
       "5  568.0           0         \n",
       "6  8900.0          0         "
      ]
     },
     "execution_count": 60,
     "metadata": {},
     "output_type": "execute_result"
    }
   ],
   "source": [
    "chunks_df.head(5)"
   ]
  },
  {
   "cell_type": "code",
   "execution_count": 61,
   "metadata": {
    "collapsed": true
   },
   "outputs": [],
   "source": [
    "fraud_df = chunks_df.loc[chunks_df['is_fraud'] == 1]"
   ]
  },
  {
   "cell_type": "code",
   "execution_count": 63,
   "metadata": {
    "collapsed": true
   },
   "outputs": [],
   "source": [
    "fraud_accs_full = set(fraud_df['hacc_user']) | set(fraud_df['hacc_ext'])"
   ]
  },
  {
   "cell_type": "code",
   "execution_count": 64,
   "metadata": {},
   "outputs": [
    {
     "data": {
      "text/plain": [
       "set()"
      ]
     },
     "execution_count": 64,
     "metadata": {},
     "output_type": "execute_result"
    }
   ],
   "source": [
    "components[1] & fraud_accs_full"
   ]
  },
  {
   "cell_type": "code",
   "execution_count": 69,
   "metadata": {
    "collapsed": true
   },
   "outputs": [],
   "source": [
    "comp_ratio = pd.DataFrame([(len(x), len(x & fraud_accs_full)) for x in components], columns = ['size', 'n_fraud'])"
   ]
  },
  {
   "cell_type": "code",
   "execution_count": 71,
   "metadata": {},
   "outputs": [
    {
     "data": {
      "text/plain": [
       "size\n",
       "2          360 \n",
       "3          208 \n",
       "4          154 \n",
       "5          127 \n",
       "6          85  \n",
       "7          94  \n",
       "8          68  \n",
       "9          48  \n",
       "10         38  \n",
       "11         25  \n",
       "12         38  \n",
       "13         25  \n",
       "14         12  \n",
       "15         26  \n",
       "16         22  \n",
       "17         12  \n",
       "18         14  \n",
       "19         21  \n",
       "20         8   \n",
       "21         17  \n",
       "22         6   \n",
       "23         4   \n",
       "24         2   \n",
       "25         6   \n",
       "26         0   \n",
       "27         2   \n",
       "28         4   \n",
       "29         12  \n",
       "30         6   \n",
       "31         0   \n",
       "32         0   \n",
       "33         0   \n",
       "34         0   \n",
       "35         0   \n",
       "36         0   \n",
       "37         0   \n",
       "38         0   \n",
       "39         2   \n",
       "40         2   \n",
       "41         0   \n",
       "42         2   \n",
       "43         0   \n",
       "44         0   \n",
       "45         0   \n",
       "46         0   \n",
       "47         3   \n",
       "48         0   \n",
       "49         0   \n",
       "50         2   \n",
       "51         0   \n",
       "52         0   \n",
       "53         0   \n",
       "54         0   \n",
       "55         0   \n",
       "56         0   \n",
       "57         0   \n",
       "59         0   \n",
       "60         0   \n",
       "61         0   \n",
       "62         0   \n",
       "63         0   \n",
       "64         0   \n",
       "66         0   \n",
       "68         0   \n",
       "80         0   \n",
       "85         0   \n",
       "86         0   \n",
       "93         0   \n",
       "224        0   \n",
       "383        0   \n",
       "558        0   \n",
       "3115136    9439\n",
       "Name: n_fraud, dtype: int64"
      ]
     },
     "execution_count": 71,
     "metadata": {},
     "output_type": "execute_result"
    }
   ],
   "source": [
    "comp_ratio.groupby('size')['n_fraud'].agg(np.sum)"
   ]
  },
  {
   "cell_type": "code",
   "execution_count": 73,
   "metadata": {
    "collapsed": true
   },
   "outputs": [],
   "source": [
    "g_dir = nx.Graph(directed=True)"
   ]
  },
  {
   "cell_type": "code",
   "execution_count": 74,
   "metadata": {},
   "outputs": [
    {
     "data": {
      "application/vnd.jupyter.widget-view+json": {
       "model_id": "42e2f2488da749aa9d1d88061f5c32c2"
      }
     },
     "metadata": {},
     "output_type": "display_data"
    },
    {
     "name": "stdout",
     "output_type": "stream",
     "text": [
      "\n"
     ]
    }
   ],
   "source": [
    "for v1, v2 in tqdm_notebook(edges_set):\n",
    "    g_dir.add_edge(v1, v2)"
   ]
  },
  {
   "cell_type": "raw",
   "metadata": {},
   "source": [
    "g_dir.to_directed()"
   ]
  },
  {
   "cell_type": "code",
   "execution_count": 83,
   "metadata": {},
   "outputs": [
    {
     "data": {
      "text/plain": [
       "0"
      ]
     },
     "execution_count": 83,
     "metadata": {},
     "output_type": "execute_result"
    }
   ],
   "source": [
    "gc.collect()"
   ]
  },
  {
   "cell_type": "raw",
   "metadata": {},
   "source": [
    "%%time\n",
    "comm_dir = [x for x in tqdm_notebook(nx.weakly_connected_component_subgraphs(g_dir.to_directed()))]"
   ]
  },
  {
   "cell_type": "code",
   "execution_count": 84,
   "metadata": {
    "collapsed": true
   },
   "outputs": [],
   "source": [
    "g_fraud = nx.Graph(directed=False)"
   ]
  },
  {
   "cell_type": "code",
   "execution_count": 85,
   "metadata": {},
   "outputs": [
    {
     "data": {
      "application/vnd.jupyter.widget-view+json": {
       "model_id": "9e4032e053264ca1be27fb73164a13b9"
      }
     },
     "metadata": {},
     "output_type": "display_data"
    }
   ],
   "source": [
    "for v1, v2 in tqdm_notebook([x for x in edges_set if (x[0] in fraud_accs_full) or (x[1] in fraud_accs_full)]):\n",
    "    g_fraud.add_edge(v1, v2)"
   ]
  },
  {
   "cell_type": "code",
   "execution_count": 87,
   "metadata": {},
   "outputs": [
    {
     "data": {
      "application/vnd.jupyter.widget-view+json": {
       "model_id": "41129969ec3c4d39ade7c471e7561aa8"
      }
     },
     "metadata": {},
     "output_type": "display_data"
    }
   ],
   "source": [
    "comm_fraud = [x for x in tqdm_notebook(nx.components.connected_components(g_fraud))]"
   ]
  },
  {
   "cell_type": "code",
   "execution_count": 88,
   "metadata": {
    "scrolled": true
   },
   "outputs": [
    {
     "data": {
      "text/plain": [
       "[(164826, 8183),\n",
       " (18, 5),\n",
       " (21, 2),\n",
       " (24, 2),\n",
       " (66, 2),\n",
       " (35, 2),\n",
       " (61, 2),\n",
       " (42, 2),\n",
       " (19, 2),\n",
       " (22, 2),\n",
       " (36, 2),\n",
       " (18, 2),\n",
       " (7, 2),\n",
       " (25, 2),\n",
       " (11, 2),\n",
       " (64, 3),\n",
       " (28, 2),\n",
       " (78, 2),\n",
       " (35, 2),\n",
       " (13, 2),\n",
       " (29, 5),\n",
       " (19, 2),\n",
       " (48, 4),\n",
       " (9, 2),\n",
       " (11, 2),\n",
       " (23, 2),\n",
       " (7, 2),\n",
       " (20, 2),\n",
       " (18, 2),\n",
       " (16, 2),\n",
       " (51, 2),\n",
       " (7, 2),\n",
       " (11, 2),\n",
       " (11, 2),\n",
       " (54, 3),\n",
       " (15, 2),\n",
       " (38, 3),\n",
       " (26, 2),\n",
       " (21, 2),\n",
       " (26, 2),\n",
       " (5, 2),\n",
       " (32, 2),\n",
       " (25, 2),\n",
       " (7, 2),\n",
       " (42, 2),\n",
       " (18, 2),\n",
       " (51, 4),\n",
       " (28, 2),\n",
       " (46, 9),\n",
       " (19, 2),\n",
       " (17, 2),\n",
       " (3, 2),\n",
       " (32, 2),\n",
       " (10, 2),\n",
       " (6, 2),\n",
       " (6, 2),\n",
       " (4, 2),\n",
       " (32, 2),\n",
       " (20, 3),\n",
       " (6, 3),\n",
       " (29, 3),\n",
       " (57, 4),\n",
       " (4, 2),\n",
       " (8, 2),\n",
       " (4, 2),\n",
       " (55, 2),\n",
       " (7, 2),\n",
       " (6, 2),\n",
       " (35, 3),\n",
       " (14, 2),\n",
       " (63, 2),\n",
       " (4, 2),\n",
       " (47, 2),\n",
       " (10, 2),\n",
       " (15, 2),\n",
       " (19, 2),\n",
       " (23, 3),\n",
       " (35, 2),\n",
       " (5, 2),\n",
       " (9, 2),\n",
       " (11, 2),\n",
       " (11, 2),\n",
       " (30, 4),\n",
       " (9, 3),\n",
       " (11, 2),\n",
       " (38, 2),\n",
       " (21, 2),\n",
       " (18, 2),\n",
       " (4, 2),\n",
       " (8, 2),\n",
       " (172, 2),\n",
       " (4, 3),\n",
       " (2, 2),\n",
       " (11, 2),\n",
       " (21, 2),\n",
       " (8, 3),\n",
       " (31, 2),\n",
       " (4, 2),\n",
       " (45, 2),\n",
       " (4, 2),\n",
       " (5, 2),\n",
       " (23, 2),\n",
       " (30, 2),\n",
       " (74, 2),\n",
       " (67, 5),\n",
       " (4, 3),\n",
       " (28, 2),\n",
       " (4, 2),\n",
       " (11, 3),\n",
       " (33, 2),\n",
       " (19, 4),\n",
       " (8, 3),\n",
       " (12, 2),\n",
       " (2, 2),\n",
       " (4, 2),\n",
       " (62, 2),\n",
       " (18, 2),\n",
       " (47, 2),\n",
       " (10, 2),\n",
       " (6, 2),\n",
       " (23, 2),\n",
       " (5, 2),\n",
       " (23, 3),\n",
       " (12, 2),\n",
       " (21, 2),\n",
       " (13, 3),\n",
       " (6, 2),\n",
       " (9, 3),\n",
       " (3, 2),\n",
       " (14, 2),\n",
       " (3, 3),\n",
       " (16, 5),\n",
       " (47, 3),\n",
       " (10, 2),\n",
       " (37, 2),\n",
       " (62, 2),\n",
       " (18, 2),\n",
       " (3, 2),\n",
       " (4, 2),\n",
       " (29, 2),\n",
       " (30, 2),\n",
       " (9, 2),\n",
       " (45, 2),\n",
       " (23, 2),\n",
       " (12, 2),\n",
       " (8, 2),\n",
       " (23, 2),\n",
       " (21, 2),\n",
       " (43, 2),\n",
       " (13, 2),\n",
       " (17, 2),\n",
       " (6, 2),\n",
       " (69, 2),\n",
       " (17, 2),\n",
       " (34, 3),\n",
       " (43, 2),\n",
       " (2, 2),\n",
       " (28, 2),\n",
       " (41, 2),\n",
       " (15, 2),\n",
       " (40, 2),\n",
       " (34, 2),\n",
       " (18, 2),\n",
       " (8, 2),\n",
       " (36, 2),\n",
       " (16, 2),\n",
       " (7, 2),\n",
       " (6, 4),\n",
       " (66, 2),\n",
       " (6, 2),\n",
       " (8, 2),\n",
       " (4, 2),\n",
       " (7, 3),\n",
       " (26, 2),\n",
       " (13, 2),\n",
       " (27, 4),\n",
       " (22, 4),\n",
       " (18, 2),\n",
       " (18, 2),\n",
       " (8, 2),\n",
       " (37, 2),\n",
       " (7, 2),\n",
       " (3, 2),\n",
       " (47, 2),\n",
       " (13, 2),\n",
       " (28, 4),\n",
       " (5, 2),\n",
       " (4, 2),\n",
       " (35, 2),\n",
       " (27, 2),\n",
       " (6, 2),\n",
       " (28, 2),\n",
       " (23, 2),\n",
       " (32, 3),\n",
       " (46, 2),\n",
       " (10, 2),\n",
       " (16, 2),\n",
       " (15, 2),\n",
       " (12, 2),\n",
       " (10, 2),\n",
       " (4, 2),\n",
       " (14, 2),\n",
       " (14, 2),\n",
       " (6, 2),\n",
       " (42, 6),\n",
       " (20, 2),\n",
       " (4, 2),\n",
       " (37, 2),\n",
       " (7, 7),\n",
       " (2, 2),\n",
       " (24, 2),\n",
       " (7, 2),\n",
       " (21, 2),\n",
       " (2, 2),\n",
       " (4, 3),\n",
       " (15, 2),\n",
       " (6, 2),\n",
       " (21, 2),\n",
       " (23, 2),\n",
       " (20, 2),\n",
       " (5, 2),\n",
       " (56, 2),\n",
       " (5, 2),\n",
       " (3, 2),\n",
       " (4, 4),\n",
       " (30, 4),\n",
       " (13, 2),\n",
       " (3, 2),\n",
       " (6, 3),\n",
       " (9, 2),\n",
       " (3, 2),\n",
       " (26, 2),\n",
       " (26, 2),\n",
       " (2, 2),\n",
       " (15, 2),\n",
       " (17, 2),\n",
       " (34, 2),\n",
       " (5, 2),\n",
       " (15, 2),\n",
       " (15, 3),\n",
       " (4, 2),\n",
       " (4, 2),\n",
       " (7, 2),\n",
       " (24, 2),\n",
       " (6, 3),\n",
       " (14, 3),\n",
       " (16, 2),\n",
       " (12, 2),\n",
       " (32, 2),\n",
       " (4, 3),\n",
       " (18, 2),\n",
       " (44, 2),\n",
       " (17, 2),\n",
       " (11, 2),\n",
       " (12, 2),\n",
       " (19, 2),\n",
       " (14, 3),\n",
       " (15, 2),\n",
       " (11, 2),\n",
       " (2, 2),\n",
       " (10, 2),\n",
       " (12, 3),\n",
       " (10, 2),\n",
       " (59, 2),\n",
       " (18, 2),\n",
       " (18, 2),\n",
       " (5, 2),\n",
       " (6, 3),\n",
       " (16, 2),\n",
       " (13, 2),\n",
       " (23, 2),\n",
       " (11, 3),\n",
       " (70, 2),\n",
       " (6, 2),\n",
       " (8, 2),\n",
       " (10, 2),\n",
       " (43, 2),\n",
       " (22, 2),\n",
       " (11, 2),\n",
       " (35, 2),\n",
       " (15, 2),\n",
       " (44, 4),\n",
       " (19, 2),\n",
       " (2, 2),\n",
       " (7, 3),\n",
       " (4, 3),\n",
       " (7, 2),\n",
       " (10, 3),\n",
       " (12, 3),\n",
       " (4, 2),\n",
       " (32, 2),\n",
       " (21, 2),\n",
       " (31, 2),\n",
       " (10, 2),\n",
       " (34, 2),\n",
       " (13, 2),\n",
       " (30, 2),\n",
       " (11, 2),\n",
       " (20, 2),\n",
       " (14, 2),\n",
       " (24, 2),\n",
       " (29, 2),\n",
       " (13, 3),\n",
       " (58, 2),\n",
       " (12, 2),\n",
       " (9, 2),\n",
       " (61, 2),\n",
       " (5, 2),\n",
       " (46, 2),\n",
       " (6, 2),\n",
       " (8, 2),\n",
       " (24, 2),\n",
       " (2, 2),\n",
       " (12, 2),\n",
       " (12, 2),\n",
       " (5, 2),\n",
       " (15, 2),\n",
       " (8, 2),\n",
       " (11, 2),\n",
       " (37, 2),\n",
       " (23, 2),\n",
       " (4, 2),\n",
       " (6, 2),\n",
       " (49, 2),\n",
       " (5, 2),\n",
       " (3, 2),\n",
       " (15, 2),\n",
       " (13, 5),\n",
       " (29, 2),\n",
       " (23, 2),\n",
       " (8, 2),\n",
       " (43, 2),\n",
       " (13, 2),\n",
       " (41, 3),\n",
       " (8, 2),\n",
       " (23, 2),\n",
       " (10, 2),\n",
       " (17, 2),\n",
       " (23, 2),\n",
       " (8, 2),\n",
       " (2, 2),\n",
       " (7, 2),\n",
       " (2, 2),\n",
       " (8, 2),\n",
       " (21, 3),\n",
       " (14, 3),\n",
       " (4, 2),\n",
       " (22, 2),\n",
       " (5, 3),\n",
       " (8, 2),\n",
       " (4, 2),\n",
       " (5, 5),\n",
       " (5, 2),\n",
       " (12, 2),\n",
       " (12, 2),\n",
       " (15, 2),\n",
       " (31, 2),\n",
       " (20, 2),\n",
       " (7, 2),\n",
       " (22, 2),\n",
       " (6, 3),\n",
       " (5, 2),\n",
       " (24, 2),\n",
       " (16, 2),\n",
       " (15, 5),\n",
       " (13, 2),\n",
       " (10, 3),\n",
       " (6, 2),\n",
       " (7, 2),\n",
       " (16, 2),\n",
       " (5, 2),\n",
       " (12, 2),\n",
       " (8, 2),\n",
       " (4, 3),\n",
       " (39, 2),\n",
       " (12, 2),\n",
       " (20, 2),\n",
       " (17, 2),\n",
       " (6, 5),\n",
       " (14, 2),\n",
       " (2, 2),\n",
       " (17, 2),\n",
       " (9, 3),\n",
       " (28, 2),\n",
       " (21, 2),\n",
       " (2, 2),\n",
       " (8, 2),\n",
       " (7, 2),\n",
       " (8, 5),\n",
       " (29, 2),\n",
       " (9, 2),\n",
       " (4, 2),\n",
       " (42, 3),\n",
       " (19, 2),\n",
       " (18, 2),\n",
       " (24, 2),\n",
       " (4, 2),\n",
       " (3, 3),\n",
       " (24, 2),\n",
       " (10, 2),\n",
       " (34, 2),\n",
       " (21, 2),\n",
       " (18, 2),\n",
       " (20, 2),\n",
       " (8, 2),\n",
       " (2, 2),\n",
       " (20, 2),\n",
       " (5, 2),\n",
       " (14, 3),\n",
       " (6, 3),\n",
       " (22, 5),\n",
       " (16, 2),\n",
       " (19, 2),\n",
       " (7, 2),\n",
       " (6, 2),\n",
       " (8, 2),\n",
       " (14, 2),\n",
       " (7, 4),\n",
       " (8, 2),\n",
       " (3, 2),\n",
       " (8, 2),\n",
       " (9, 2),\n",
       " (8, 2),\n",
       " (3, 2),\n",
       " (10, 2),\n",
       " (2, 2),\n",
       " (32, 3),\n",
       " (6, 2),\n",
       " (19, 2),\n",
       " (11, 2),\n",
       " (9, 2),\n",
       " (3, 3),\n",
       " (8, 2),\n",
       " (26, 3),\n",
       " (15, 2),\n",
       " (4, 2),\n",
       " (7, 2),\n",
       " (24, 2),\n",
       " (3, 2),\n",
       " (55, 3),\n",
       " (6, 2),\n",
       " (8, 4),\n",
       " (8, 3),\n",
       " (7, 2),\n",
       " (35, 2),\n",
       " (10, 2),\n",
       " (10, 5),\n",
       " (4, 2),\n",
       " (30, 2),\n",
       " (4, 2),\n",
       " (23, 2),\n",
       " (10, 2),\n",
       " (4, 3),\n",
       " (15, 2),\n",
       " (8, 2),\n",
       " (43, 2),\n",
       " (6, 2),\n",
       " (7, 3),\n",
       " (4, 2),\n",
       " (9, 2),\n",
       " (4, 2),\n",
       " (4, 2),\n",
       " (22, 3),\n",
       " (7, 2),\n",
       " (7, 2),\n",
       " (5, 2),\n",
       " (5, 2),\n",
       " (17, 2),\n",
       " (9, 2),\n",
       " (19, 2),\n",
       " (2, 2),\n",
       " (20, 2),\n",
       " (8, 2),\n",
       " (11, 2),\n",
       " (39, 2),\n",
       " (15, 7),\n",
       " (13, 2),\n",
       " (27, 2),\n",
       " (8, 5),\n",
       " (7, 3),\n",
       " (2, 2),\n",
       " (10, 3),\n",
       " (9, 2),\n",
       " (3, 2),\n",
       " (13, 2),\n",
       " (4, 2),\n",
       " (28, 2),\n",
       " (3, 2),\n",
       " (10, 2),\n",
       " (6, 2),\n",
       " (13, 2),\n",
       " (19, 4),\n",
       " (22, 3),\n",
       " (7, 2),\n",
       " (3, 2),\n",
       " (11, 2),\n",
       " (17, 2),\n",
       " (21, 2),\n",
       " (14, 2),\n",
       " (15, 2),\n",
       " (7, 2),\n",
       " (4, 2),\n",
       " (15, 2),\n",
       " (12, 2),\n",
       " (9, 4),\n",
       " (8, 2),\n",
       " (8, 5),\n",
       " (2, 2),\n",
       " (20, 2),\n",
       " (6, 2),\n",
       " (22, 2),\n",
       " (25, 2),\n",
       " (23, 2),\n",
       " (5, 3),\n",
       " (4, 2),\n",
       " (16, 3),\n",
       " (4, 3),\n",
       " (18, 2),\n",
       " (7, 2),\n",
       " (19, 2),\n",
       " (9, 4),\n",
       " (30, 3),\n",
       " (2, 2),\n",
       " (30, 4),\n",
       " (12, 2),\n",
       " (12, 2),\n",
       " (22, 2),\n",
       " (5, 2),\n",
       " (5, 2),\n",
       " (24, 3),\n",
       " (13, 3),\n",
       " (3, 2),\n",
       " (22, 2),\n",
       " (21, 2),\n",
       " (20, 2),\n",
       " (13, 2),\n",
       " (4, 2),\n",
       " (3, 2),\n",
       " (10, 2),\n",
       " (2, 2),\n",
       " (4, 2),\n",
       " (7, 5),\n",
       " (8, 2),\n",
       " (4, 2),\n",
       " (20, 2),\n",
       " (5, 2),\n",
       " (4, 3),\n",
       " (15, 3),\n",
       " (14, 2),\n",
       " (29, 2),\n",
       " (13, 2),\n",
       " (31, 2),\n",
       " (13, 2),\n",
       " (8, 2),\n",
       " (5, 2),\n",
       " (5, 2),\n",
       " (3, 2),\n",
       " (13, 2),\n",
       " (11, 3),\n",
       " (48, 2),\n",
       " (13, 2),\n",
       " (22, 2),\n",
       " (3, 3),\n",
       " (8, 2),\n",
       " (3, 2),\n",
       " (2, 2),\n",
       " (18, 2),\n",
       " (4, 2),\n",
       " (24, 2),\n",
       " (2, 2),\n",
       " (7, 2),\n",
       " (15, 2),\n",
       " (4, 3),\n",
       " (5, 2),\n",
       " (30, 2),\n",
       " (2, 2),\n",
       " (11, 2),\n",
       " (7, 5),\n",
       " (7, 2),\n",
       " (5, 2),\n",
       " (6, 2),\n",
       " (12, 2),\n",
       " (10, 2),\n",
       " (3, 2),\n",
       " (15, 2),\n",
       " (7, 2),\n",
       " (5, 3),\n",
       " (10, 2),\n",
       " (3, 2),\n",
       " (12, 2),\n",
       " (11, 2),\n",
       " (4, 4),\n",
       " (14, 2),\n",
       " (14, 3),\n",
       " (5, 5),\n",
       " (14, 2),\n",
       " (4, 2),\n",
       " (4, 2),\n",
       " (24, 3),\n",
       " (37, 5),\n",
       " (10, 2),\n",
       " (6, 2),\n",
       " (9, 2),\n",
       " (6, 2),\n",
       " (20, 3),\n",
       " (11, 5),\n",
       " (7, 2),\n",
       " (11, 2),\n",
       " (8, 2),\n",
       " (7, 2),\n",
       " (28, 2),\n",
       " (4, 2),\n",
       " (3, 2),\n",
       " (21, 3),\n",
       " (6, 2),\n",
       " (13, 2),\n",
       " (10, 3),\n",
       " (9, 2),\n",
       " (16, 2),\n",
       " (2, 2),\n",
       " (9, 2),\n",
       " (3, 2),\n",
       " (5, 2),\n",
       " (2, 2),\n",
       " (9, 2),\n",
       " (4, 2),\n",
       " (8, 2),\n",
       " (6, 3),\n",
       " (6, 3),\n",
       " (12, 2),\n",
       " (11, 3),\n",
       " (6, 2),\n",
       " (11, 2),\n",
       " (5, 2),\n",
       " (13, 3),\n",
       " (8, 2),\n",
       " (11, 3),\n",
       " (8, 2),\n",
       " (13, 2),\n",
       " (12, 3),\n",
       " (4, 3),\n",
       " (6, 3),\n",
       " (11, 2),\n",
       " (10, 3),\n",
       " (10, 2),\n",
       " (5, 2),\n",
       " (25, 2),\n",
       " (4, 2),\n",
       " (4, 2),\n",
       " (14, 2),\n",
       " (12, 2),\n",
       " (2, 2),\n",
       " (2, 2),\n",
       " (11, 2),\n",
       " (13, 2),\n",
       " (5, 2),\n",
       " (3, 2),\n",
       " (8, 2),\n",
       " (3, 2),\n",
       " (3, 3),\n",
       " (18, 2),\n",
       " (5, 2),\n",
       " (15, 2),\n",
       " (11, 2),\n",
       " (19, 4),\n",
       " (3, 2),\n",
       " (5, 2),\n",
       " (9, 3),\n",
       " (7, 2),\n",
       " (7, 2),\n",
       " (3, 2),\n",
       " (5, 2),\n",
       " (7, 2),\n",
       " (10, 2),\n",
       " (9, 2),\n",
       " (3, 2),\n",
       " (7, 2),\n",
       " (5, 3),\n",
       " (11, 2),\n",
       " (6, 2),\n",
       " (3, 2),\n",
       " (5, 2),\n",
       " (11, 2),\n",
       " (17, 2),\n",
       " (3, 2),\n",
       " (2, 2),\n",
       " (5, 2),\n",
       " (15, 2),\n",
       " (10, 2),\n",
       " (8, 2),\n",
       " (4, 3),\n",
       " (2, 2),\n",
       " (8, 3),\n",
       " (2, 2),\n",
       " (12, 2),\n",
       " (10, 2),\n",
       " (15, 2),\n",
       " (4, 2),\n",
       " (9, 2),\n",
       " (7, 4),\n",
       " (21, 2),\n",
       " (13, 2),\n",
       " (4, 2),\n",
       " (6, 2),\n",
       " (11, 4),\n",
       " (12, 3),\n",
       " (5, 2),\n",
       " (11, 2),\n",
       " (2, 2),\n",
       " (4, 3),\n",
       " (12, 2),\n",
       " (7, 3),\n",
       " (8, 4),\n",
       " (4, 2),\n",
       " (5, 2),\n",
       " (18, 3),\n",
       " (11, 2),\n",
       " (15, 2),\n",
       " (7, 3),\n",
       " (10, 2),\n",
       " (4, 2),\n",
       " (7, 2),\n",
       " (4, 2),\n",
       " (3, 2),\n",
       " (6, 2),\n",
       " (5, 4),\n",
       " (4, 3),\n",
       " (23, 2),\n",
       " (2, 2),\n",
       " (12, 2),\n",
       " (8, 2),\n",
       " (5, 2),\n",
       " (15, 2),\n",
       " (2, 2),\n",
       " (4, 2),\n",
       " (10, 3),\n",
       " (8, 2),\n",
       " (5, 4),\n",
       " (9, 2),\n",
       " (3, 2),\n",
       " (9, 2),\n",
       " (5, 3),\n",
       " (3, 2),\n",
       " (25, 2),\n",
       " (11, 2),\n",
       " (2, 2),\n",
       " (7, 2),\n",
       " (12, 2),\n",
       " (10, 2),\n",
       " (3, 2),\n",
       " (5, 2),\n",
       " (3, 2),\n",
       " (3, 2),\n",
       " (3, 2),\n",
       " (4, 2),\n",
       " (10, 2),\n",
       " (4, 2),\n",
       " (5, 2),\n",
       " (4, 3),\n",
       " (28, 2),\n",
       " (6, 2),\n",
       " (7, 3),\n",
       " (6, 2),\n",
       " (7, 2),\n",
       " (3, 2),\n",
       " (2, 2),\n",
       " (3, 2),\n",
       " (6, 2),\n",
       " (3, 2),\n",
       " (11, 2),\n",
       " (6, 2),\n",
       " (17, 2),\n",
       " (7, 2),\n",
       " (3, 2),\n",
       " (6, 2),\n",
       " (10, 2),\n",
       " (8, 3),\n",
       " (8, 2),\n",
       " (6, 2),\n",
       " (3, 2),\n",
       " (3, 2),\n",
       " (3, 2),\n",
       " (6, 3),\n",
       " (6, 2),\n",
       " (10, 2),\n",
       " (2, 2),\n",
       " (5, 2),\n",
       " (2, 2),\n",
       " (10, 2),\n",
       " (3, 2),\n",
       " (2, 2),\n",
       " (26, 2),\n",
       " (10, 2),\n",
       " (4, 2),\n",
       " (3, 2),\n",
       " (5, 3),\n",
       " (12, 4),\n",
       " (6, 2),\n",
       " (4, 2),\n",
       " (7, 2),\n",
       " (3, 2),\n",
       " (4, 2),\n",
       " (7, 2),\n",
       " (5, 2),\n",
       " (8, 2),\n",
       " (18, 2),\n",
       " (2, 2),\n",
       " (4, 2),\n",
       " (5, 5),\n",
       " (4, 2),\n",
       " (2, 2),\n",
       " (4, 2),\n",
       " (3, 2),\n",
       " (2, 2),\n",
       " (10, 2),\n",
       " (3, 2),\n",
       " (3, 2),\n",
       " (12, 3),\n",
       " (2, 2),\n",
       " (5, 2),\n",
       " (3, 2),\n",
       " (16, 2),\n",
       " (4, 2),\n",
       " (10, 2),\n",
       " (5, 2),\n",
       " (3, 2),\n",
       " (3, 3),\n",
       " (3, 2),\n",
       " (3, 2),\n",
       " (2, 2),\n",
       " (7, 2),\n",
       " (6, 3),\n",
       " (7, 2),\n",
       " (2, 2),\n",
       " (4, 2),\n",
       " (4, 2),\n",
       " (2, 2),\n",
       " (7, 2),\n",
       " (2, 2),\n",
       " (13, 2),\n",
       " (7, 2),\n",
       " (4, 3),\n",
       " (13, 2),\n",
       " (13, 2),\n",
       " (6, 3),\n",
       " (5, 2),\n",
       " (2, 2),\n",
       " (5, 2),\n",
       " (4, 2),\n",
       " (13, 3),\n",
       " (13, 2),\n",
       " (3, 2),\n",
       " (5, 4),\n",
       " (4, 2),\n",
       " (8, 3),\n",
       " (2, 2),\n",
       " (2, 2),\n",
       " (5, 3),\n",
       " (3, 2),\n",
       " (5, 2),\n",
       " (2, 2),\n",
       " (2, 2),\n",
       " (5, 2),\n",
       " (10, 3),\n",
       " (4, 2),\n",
       " (3, 2),\n",
       " (4, 3),\n",
       " (6, 3),\n",
       " (4, 2),\n",
       " (2, 2),\n",
       " (2, 2),\n",
       " (3, 2),\n",
       " (2, 2),\n",
       " (3, 2),\n",
       " (8, 2),\n",
       " (10, 2),\n",
       " (5, 2),\n",
       " (6, 2),\n",
       " (2, 2),\n",
       " (5, 2),\n",
       " (4, 2),\n",
       " (2, 2),\n",
       " (4, 2),\n",
       " (3, 2),\n",
       " (3, 2),\n",
       " (3, 2),\n",
       " (2, 2),\n",
       " (6, 3),\n",
       " (6, 2),\n",
       " (4, 2),\n",
       " (7, 4),\n",
       " (2, 2),\n",
       " (10, 2),\n",
       " (5, 3),\n",
       " (4, 3),\n",
       " (3, 2),\n",
       " (2, 2),\n",
       " (3, 2),\n",
       " (13, 2),\n",
       " (6, 2),\n",
       " (8, 3),\n",
       " (5, 2),\n",
       " (6, 2),\n",
       " (4, 2),\n",
       " (5, 2),\n",
       " (2, 2),\n",
       " (6, 2),\n",
       " (6, 2),\n",
       " (11, 2),\n",
       " (4, 2),\n",
       " (2, 2),\n",
       " (2, 2),\n",
       " (3, 2),\n",
       " (4, 2),\n",
       " (17, 2),\n",
       " (4, 2),\n",
       " (4, 2),\n",
       " (4, 2),\n",
       " (4, 2),\n",
       " (3, 2),\n",
       " (9, 4),\n",
       " (4, 2),\n",
       " (3, 2),\n",
       " (3, 2),\n",
       " (3, 2),\n",
       " (3, 2),\n",
       " (2, 2),\n",
       " (4, 3),\n",
       " (3, 2),\n",
       " (2, 2),\n",
       " (3, 2),\n",
       " (16, 2),\n",
       " (9, 2),\n",
       " (7, 2),\n",
       " (13, 4),\n",
       " (5, 4),\n",
       " (3, 2),\n",
       " (2, 2),\n",
       " (4, 2),\n",
       " (2, 2),\n",
       " (7, 2),\n",
       " (4, 2),\n",
       " (3, 2),\n",
       " (3, 2),\n",
       " (2, 2),\n",
       " (10, 2),\n",
       " (5, 2),\n",
       " (3, 3),\n",
       " (6, 4),\n",
       " (3, 3),\n",
       " (2, 2),\n",
       " (2, 2),\n",
       " (3, 2),\n",
       " (4, 2),\n",
       " (12, 2),\n",
       " (3, 2),\n",
       " (4, 2),\n",
       " (4, 2),\n",
       " (2, 2),\n",
       " (3, 2),\n",
       " (5, 2),\n",
       " (5, 2),\n",
       " (3, 2),\n",
       " (4, 2),\n",
       " (5, 2),\n",
       " (3, 2),\n",
       " (10, 3),\n",
       " (3, 2),\n",
       " (3, 3),\n",
       " (3, 2),\n",
       " (3, 3),\n",
       " (4, 2),\n",
       " (9, 2),\n",
       " (3, 2),\n",
       " (2, 2),\n",
       " (4, 2),\n",
       " (4, 3),\n",
       " (2, 2),\n",
       " (6, 2),\n",
       " (2, 2),\n",
       " (3, 2),\n",
       " (2, 2),\n",
       " (5, 4),\n",
       " (5, 2),\n",
       " (4, 2),\n",
       " (5, 3),\n",
       " (10, 4),\n",
       " (7, 2),\n",
       " (5, 2),\n",
       " (3, 2),\n",
       " (7, 2),\n",
       " (3, 2),\n",
       " (4, 2),\n",
       " (3, 2),\n",
       " (2, 2),\n",
       " (8, 3),\n",
       " (2, 2),\n",
       " (6, 2),\n",
       " (2, 2),\n",
       " (5, 2),\n",
       " ...]"
      ]
     },
     "execution_count": 88,
     "metadata": {},
     "output_type": "execute_result"
    }
   ],
   "source": [
    "[(len(x), len(x & fraud_accs_full)) for x in comm_fraud]"
   ]
  },
  {
   "cell_type": "code",
   "execution_count": null,
   "metadata": {
    "collapsed": true
   },
   "outputs": [],
   "source": [
    "a =g_fraud.subgraph(comm_fraud)"
   ]
  },
  {
   "cell_type": "code",
   "execution_count": null,
   "metadata": {
    "collapsed": true
   },
   "outputs": [],
   "source": [
    "chunks_df[['']]"
   ]
  },
  {
   "cell_type": "code",
   "execution_count": null,
   "metadata": {
    "collapsed": true
   },
   "outputs": [],
   "source": [
    "chunk"
   ]
  },
  {
   "cell_type": "code",
   "execution_count": null,
   "metadata": {
    "collapsed": true
   },
   "outputs": [],
   "source": [
    "chunk.loc[(chunk['user_acct_number_hashed'] != 'null') & (chunk['ext_acct_number_hashed'] != 'null')]"
   ]
  },
  {
   "cell_type": "code",
   "execution_count": null,
   "metadata": {
    "collapsed": true
   },
   "outputs": [],
   "source": [
    "chunk['user_id'].value_counts()"
   ]
  },
  {
   "cell_type": "code",
   "execution_count": null,
   "metadata": {
    "collapsed": true
   },
   "outputs": [],
   "source": [
    "pd.read_feather()"
   ]
  },
  {
   "cell_type": "code",
   "execution_count": null,
   "metadata": {
    "collapsed": true
   },
   "outputs": [],
   "source": [
    "g.add_edge"
   ]
  },
  {
   "cell_type": "code",
   "execution_count": null,
   "metadata": {
    "collapsed": true
   },
   "outputs": [],
   "source": []
  },
  {
   "cell_type": "markdown",
   "metadata": {},
   "source": [
    "---"
   ]
  },
  {
   "cell_type": "markdown",
   "metadata": {},
   "source": [
    "# подвал ниже"
   ]
  },
  {
   "cell_type": "markdown",
   "metadata": {},
   "source": [
    "## Работа с БД sqlite, создание дополнительных индексов"
   ]
  },
  {
   "cell_type": "code",
   "execution_count": null,
   "metadata": {
    "collapsed": true
   },
   "outputs": [],
   "source": [
    "%matplotlib inline"
   ]
  },
  {
   "cell_type": "code",
   "execution_count": null,
   "metadata": {
    "collapsed": true
   },
   "outputs": [],
   "source": [
    "!cd; cd -"
   ]
  },
  {
   "cell_type": "code",
   "execution_count": null,
   "metadata": {
    "collapsed": true
   },
   "outputs": [],
   "source": [
    "# создание коннекта к БД и крурсора для запросов\n",
    "conn = sqlite3.connect('../data/input/hse_sqlite')\n",
    "c = conn.cursor()\n",
    "\n",
    "# создание engine для чтения данных в DataFrame\n",
    "engine = sa.create_engine('sqlite:///../data/input/hse_sqlite.db')"
   ]
  },
  {
   "cell_type": "code",
   "execution_count": null,
   "metadata": {
    "collapsed": true
   },
   "outputs": [],
   "source": [
    "# пример получения перечня таблиц (в данном случае она будет 1)\n",
    "c.execute(\"SELECT name FROM sqlite_master WHERE type='table';\")\n",
    "print ('Перечень таблиц: {0}\\r\\n\\r\\n'.format(c.fetchall()))\n",
    "\n",
    "# перечень столбцов\n",
    "c.execute(\"SELECT * FROM rsa_event_log LIMIT 1;\")\n",
    "cols = [descr[0] for descr in c.description]\n",
    "print ('Столбцы в таблице: {0}'.format(cols))"
   ]
  },
  {
   "cell_type": "markdown",
   "metadata": {},
   "source": [
    "### Подробнее что есть что\n",
    "\n",
    "'event_id'- уникальный id транзакции\n",
    "\n",
    "'short_date' - дата (для удобства поиска/агрегации)\n",
    "\n",
    "'user_id' - уникальный идентификатор клиента\n",
    "\n",
    "'event_time' - дата и время собятия\n",
    "\n",
    "'custom_mark'- результат разбора события\n",
    "\n",
    "'channel_indicator_desc' - канал проведения операции (web, мобильное приложение, SMS-банк и пр.)\n",
    "\n",
    "'event_description' - описание непосредственно события (например, вход в систему или перевод, оплата услуг)\n",
    "\n",
    "'amount_original' - сумма в рублях\n",
    "\n",
    "'user_agent_string_hash', 'browser_plugins_hash', 'screen_hash' - различные признаки устройства (с определенной степенью точности позволяет понять уникальность устройства в разрезе пользователя)\n",
    "\n",
    "ip_address', 'ip_country', 'ip_region', 'ip_city', 'ip_isp' - данные, связанные с IP (регион, город и интернет-провадйер по БД гео-IP)\n",
    "'hardwareid' - уникальный идентификатор устройства для канала мобильных приложений\n",
    "\n",
    "'user_acct_number_hashed'- счет отправителя (хэшированный)\n",
    "'ext_acct_number_hashed'- счет получателя (хэшированный)\n",
    "\n",
    "\n",
    "'data_s_65' - результат определения связи между отправителем и получателем (чем больше, тем сильнее связь) \n",
    "'data_i_118', 'data_i_119’, 'data_i_120', 'data_i_154' - ряд признаков, которые описывают устройство, с которого проводятся операции\n",
    " \n",
    "\n",
    "\n",
    " 'cdf_s_136','cdf_s_137','cdf_s_140'- кумулятивные суммы операций за сутки в web, МП, web + МП\n",
    " 'cdf_s_218'- предполагаемое наличие родственной связи \n",
    " 'cdf_s_127', 'cdf_s_135', 'cdf_s_130', 'cdf_s_129', 'cdf_s_134', 'cdf_s_128', 'cdf_s_138', 'cdf_s_126' - дней с момента различных рисковых событий\n",
    "\n",
    "\n",
    "\n",
    " 'cdf_s_19'- ДР клиента\n",
    " 'cdf_s_20'- Территориальный банк клиента (региональный признак)\n",
    " 'cdf_s_299'- Тер банк получателя (региональный признак)\n",
    "\n",
    " 'cdf_s_294'- возраст получателя\n",
    "\n",
    " 'cdf_s_123'- региональный признак получателя (более локальный по сравнению с ТБ)\n",
    " 'cdf_s_124'- дата выдачи карты получателя\n",
    "\n",
    " 'cdf_s_178_hashed' - реквизит получателя"
   ]
  },
  {
   "cell_type": "code",
   "execution_count": null,
   "metadata": {
    "collapsed": true
   },
   "outputs": [],
   "source": [
    "# функция получения lable из csutom_mark\n",
    "\n",
    "def cust_mark_to_class(custom_mark):\n",
    "    \"\"\"\n",
    "    Преобразует входящее значение CUSTOM_MARK в класс\n",
    "    return:\n",
    "        1 - фрод\n",
    "        0 - легитимная\n",
    "        -1 - неизвестно\n",
    "    \"\"\"\n",
    "    ret = -1\n",
    "    if custom_mark in ['F','S']:\n",
    "        ret = 1\n",
    "    elif custom_mark in ['A','G', np.NaN]:\n",
    "        ret = 0\n",
    "    \n",
    "    return ret"
   ]
  },
  {
   "cell_type": "code",
   "execution_count": null,
   "metadata": {
    "collapsed": true
   },
   "outputs": [],
   "source": []
  },
  {
   "cell_type": "code",
   "execution_count": null,
   "metadata": {
    "collapsed": true
   },
   "outputs": [],
   "source": [
    "# Пример форомирования DataFrame из БД с заполнением типа полей\n",
    "\n",
    "def transform_cols (df, dict_col_types = None):\n",
    "    # Расширяйте для необходимых столбцов и их явной типизации\n",
    "    if dict_col_types is None:\n",
    "        dict_col_types = {\n",
    "        'amount_original':(float, 0.0),\n",
    "        'cdf_s_126':(str, u'null'),\n",
    "        'cdf_s_138':(str, u'null'),\n",
    "        'channel_indicator':(str, u'null'),\n",
    "        'event_description':(str, u'null'),\n",
    "        'cdf_s_294':(int, 0),\n",
    "        'cdf_s_140':(float, 0.0),\n",
    "        'data_i_120':(int, 0),\n",
    "        'cdf_s_218':(str, u'null'),\n",
    "        'data_s_65':(int, 0),\n",
    "        'cdf_s_127':(int, 30),\n",
    "        'cdf_s_135':(int, 30),\n",
    "        'cdf_s_130':(int, 30),\n",
    "        'cdf_s_129':(int, 30),\n",
    "        'cdf_s_134':(int, 30),\n",
    "        'data_i_154':(float, np.nan),\n",
    "        'cdf_s_133':(int, 30),\n",
    "        'cdf_s_20':(str, u'null'),\n",
    "        'cdf_s_299':(str, u'null'),\n",
    "        }\n",
    "                \n",
    "    if df.shape[0] > 0:\n",
    "        df.replace(u'null', np.nan, inplace=True)\n",
    "\n",
    "        for i in dict_col_types:\n",
    "            if i in df.columns:\n",
    "                df[i] = df[i].fillna(dict_col_types[i][1]).astype(dict_col_types[i][0])\n",
    "    \n",
    "    return df\n",
    "    \n",
    "\n",
    "def df_from_sql (sql, parse_dates = ['event_time','cdf_s_19', 'cdf_s_123','cdf_s_124'], dict_col_types = None, chunk_size = None, engine=engine):\n",
    "    \"\"\"\n",
    "    Функция вощвращающая df в результате переданного sql-запроса\n",
    "    Также поддерживается приведение столбцов к заданным типам \n",
    "    и чтение по блокам\n",
    "    \"\"\"\n",
    "     \n",
    "    if chunk_size is not None:\n",
    "        df_iter =  [transform_cols(chunk, dict_col_types) for chunk in pd.read_sql_query(sql, engine, parse_dates = parse_dates, chunksize=chunk_size)]\n",
    "    else:\n",
    "        df_iter = transform_cols(pd.read_sql_query(sql, engine, parse_dates = parse_dates), dict_col_types)\n",
    "        #df_iter = pd.read_sql_query(sql, engine, con=conn,  parse_dates = parse_dates)\n",
    "    \n",
    "    return df_iter\n"
   ]
  },
  {
   "cell_type": "markdown",
   "metadata": {},
   "source": [
    "Я тут по факту продублировал индексы."
   ]
  },
  {
   "cell_type": "code",
   "execution_count": null,
   "metadata": {
    "collapsed": true
   },
   "outputs": [],
   "source": [
    "# создание индексов для ускорения поиска\n",
    "# описанные здесь уже созданы в предоставленной БД, при необходимотси можете расширить набор\n",
    "cols_to_index = ['user_id', 'custom_mark', 'short_date',  'channel_indicator_desc', 'event_description']\n",
    "\n",
    "for col in cols_to_index:\n",
    "    c.execute('CREATE INDEX {ix} on {tn}({cn})'\\\n",
    "            .format(ix='indx_new_{0}'.format(col), tn='rsa_event_log', cn=col)) # add new index indx_new_{0}\n",
    "\n",
    "c.execute('CREATE INDEX date_user_event on rsa_event_log(short_date, user_id, event_description);')   \n",
    "    \n",
    "conn.commit()"
   ]
  },
  {
   "cell_type": "code",
   "execution_count": null,
   "metadata": {
    "collapsed": true
   },
   "outputs": [],
   "source": [
    "#  Общий срез по данным\n",
    "c.execute(\"select COUNT(*) from rsa_event_log;\")\n",
    "print ('Общее число транзакций: {0}'.format(c.fetchall()))\n",
    "\n",
    "\n",
    "# Число уникальных пользователей\n",
    "c.execute(\"select COUNT(DISTINCT user_id) from rsa_event_log;\")\n",
    "print (\"Уникальных пользователей: {0}\".format(c.fetchall()))\n",
    "\n",
    "# Временной диапазон и количество клиентов\n",
    "c.execute(\"select min(short_date), max(short_date) from rsa_event_log;\")\n",
    "print('Диапазон дат: {0}'.format(c.fetchall()))\n"
   ]
  },
  {
   "cell_type": "code",
   "execution_count": null,
   "metadata": {
    "collapsed": true
   },
   "outputs": [],
   "source": [
    "start_date = \"20171029\"\n",
    "end_date = \"20171128\""
   ]
  },
  {
   "cell_type": "code",
   "execution_count": null,
   "metadata": {
    "collapsed": true
   },
   "outputs": [],
   "source": [
    "sql = \"\"\"select AVG(short_date) from rsa_event_log \n",
    "                        where short_date between {start} and {end};\"\"\".format(start=start_date, end=end_date)"
   ]
  },
  {
   "cell_type": "code",
   "execution_count": null,
   "metadata": {
    "collapsed": true
   },
   "outputs": [],
   "source": [
    "c.execute(sql)\n",
    "print ('Общее число транзакций: {0}'.format(c.fetchall()))"
   ]
  },
  {
   "cell_type": "code",
   "execution_count": null,
   "metadata": {
    "collapsed": true
   },
   "outputs": [],
   "source": [
    "sql"
   ]
  },
  {
   "cell_type": "markdown",
   "metadata": {},
   "source": [
    "###  Summary анализ данных (на примере 5% выборки пользователей)\n",
    "1) Общее число записей и столбцов\n",
    "\n",
    "2) Типы данных, numeric, categorical, распределения, число уникальных типов\n",
    "\n",
    "3) Вариативность и NULL"
   ]
  },
  {
   "cell_type": "code",
   "execution_count": null,
   "metadata": {
    "collapsed": true
   },
   "outputs": [],
   "source": [
    "all_users = df_from_sql('select DISTINCT user_id from rsa_event_log;',\n",
    "                        engine=conn,\n",
    "                        parse_dates=None)"
   ]
  },
  {
   "cell_type": "code",
   "execution_count": null,
   "metadata": {
    "collapsed": true
   },
   "outputs": [],
   "source": [
    "sample_users = all_users.sample(frac=0.05).user_id.astype(str).tolist()"
   ]
  },
  {
   "cell_type": "code",
   "execution_count": null,
   "metadata": {
    "collapsed": true
   },
   "outputs": [],
   "source": [
    "# достаточно долгий запрос\n",
    "data = df_from_sql(\"select * from rsa_event_log where user_id in ({0});\".format(str(sample_users)[1:-1]), engine=conn)"
   ]
  },
  {
   "cell_type": "code",
   "execution_count": null,
   "metadata": {
    "collapsed": true
   },
   "outputs": [],
   "source": [
    "#data.to_csv('../data/data1per.csv')"
   ]
  },
  {
   "cell_type": "code",
   "execution_count": null,
   "metadata": {
    "collapsed": true
   },
   "outputs": [],
   "source": [
    "!ls ../"
   ]
  },
  {
   "cell_type": "code",
   "execution_count": null,
   "metadata": {
    "collapsed": true
   },
   "outputs": [],
   "source": [
    "data = pd.read_csv('../data/data1per.csv', index_col=0)"
   ]
  },
  {
   "cell_type": "code",
   "execution_count": null,
   "metadata": {
    "collapsed": true
   },
   "outputs": [],
   "source": []
  },
  {
   "cell_type": "code",
   "execution_count": null,
   "metadata": {
    "collapsed": true,
    "scrolled": true
   },
   "outputs": [],
   "source": [
    "print ('Shape: {0}'.format(data.shape))\n",
    "data.head(10)"
   ]
  },
  {
   "cell_type": "code",
   "execution_count": null,
   "metadata": {
    "collapsed": true
   },
   "outputs": [],
   "source": [
    "#Сводная статистика по датасету\n",
    "\n",
    "\n",
    "def summary_stats(data):\n",
    "    df_summary_stats = pd.DataFrame(index=data.columns,columns=['type','nunique', 'top_3_values_freq', 'null_rate', 'std','min', 'max', 'mean', 'quantile'])\n",
    "    for col in data.columns:\n",
    "\n",
    "        col_type = data[col].dtype\n",
    "        if col_type in ['object','str']:\n",
    "            df_summary_stats.loc[col][[\n",
    "                'type',\n",
    "                'nunique', \n",
    "                'top_3_values_freq', \n",
    "                'null_rate'\n",
    "            ]] = \\\n",
    "            col_type, \\\n",
    "            data[col].nunique(),\\\n",
    "            dict(data[col].value_counts().head(3)*100.0/data.shape[0]),\\\n",
    "            sum(data[col].isnull())*100.0/data.shape[0]\n",
    "\n",
    "        if col_type in ['int64', 'float64', 'int32', 'float32']:\n",
    "            df_summary_stats.loc[col][[\n",
    "                'type',\n",
    "                'null_rate',\n",
    "                'std',\n",
    "                'min',\n",
    "                'max',\n",
    "                'mean',\n",
    "                'quantile'\n",
    "            ]] = \\\n",
    "            col_type, \\\n",
    "            sum(data[col].isnull())*100.0/data.shape[0],\\\n",
    "            data[col].std(),\\\n",
    "            data[col].min(),\\\n",
    "            data[col].max(),\\\n",
    "            data[col].mean(),\\\n",
    "            dict(data[col].quantile([0.25,0.5,0.75]))\n",
    "\n",
    "        if col_type == 'datetime64[ns]':\n",
    "            df_summary_stats.loc[col][[\n",
    "                'type',\n",
    "                'null_rate',\n",
    "                'min',\n",
    "                'max',\n",
    "            ]] = \\\n",
    "            col_type, \\\n",
    "            sum(data[col].isnull())*100.0/data.shape[0],\\\n",
    "            data[col].min(),\\\n",
    "            data[col].max()\n",
    "        \n",
    "    return df_summary_stats"
   ]
  },
  {
   "cell_type": "code",
   "execution_count": null,
   "metadata": {
    "collapsed": true,
    "scrolled": true
   },
   "outputs": [],
   "source": [
    "# Обратите внимание, что у многих столбцов тип определился как object (исключая заданные нами) - обычно такое бывает когда столбец содержит Nan или же не был определен тип данных (например, для строк)\n",
    "summary_stats(data)"
   ]
  },
  {
   "cell_type": "code",
   "execution_count": null,
   "metadata": {
    "collapsed": true,
    "scrolled": true
   },
   "outputs": [],
   "source": [
    "#Типы операций\n",
    "data.event_description.value_counts(dropna=False)"
   ]
  },
  {
   "cell_type": "markdown",
   "metadata": {},
   "source": [
    "### Постановка задачи - разработка модели, осуществляющей выявление мошенничество в каналах WEBAPI, MOBILEAPI, ATMAPI"
   ]
  },
  {
   "cell_type": "code",
   "execution_count": null,
   "metadata": {
    "collapsed": true,
    "scrolled": true
   },
   "outputs": [],
   "source": [
    "# И тут мы видим лучшую заполненнсоть полей\n",
    "transaction_data = data[data.event_description.isin([u'Перевод частному лицу',u'Оплата услуг',u'Перевод между своими счетами и картами'])]\n",
    "print(transaction_data.shape)\n",
    "summary_stats(transaction_data)"
   ]
  },
  {
   "cell_type": "code",
   "execution_count": null,
   "metadata": {
    "collapsed": true
   },
   "outputs": [],
   "source": [
    "data = transaction_data = None"
   ]
  },
  {
   "cell_type": "code",
   "execution_count": null,
   "metadata": {
    "collapsed": true
   },
   "outputs": [],
   "source": []
  },
  {
   "cell_type": "markdown",
   "metadata": {},
   "source": [
    "## Feature engineering"
   ]
  },
  {
   "cell_type": "markdown",
   "metadata": {},
   "source": [
    "### Поскольку объем данных достаточно существенный и одновременно в память его не прогрузить, то необходимо рассчитывать фичи по \"порциями\". Cплитить будем по пользователям"
   ]
  },
  {
   "cell_type": "code",
   "execution_count": null,
   "metadata": {
    "collapsed": true,
    "scrolled": true
   },
   "outputs": [],
   "source": [
    "# сначала определим временной диапазон, в котором будем тренировать и валидировать модель исходя из распределения фрода\n",
    "fraud_df = df_from_sql(\"select * from rsa_event_log where custom_mark in ('F','S')\", engine=conn)\n",
    "\n",
    "# основная доля сосредоточена в период с 29.10 по 28.11, его и выбираем\n",
    "fraud_df.groupby('short_date').event_id.count()"
   ]
  },
  {
   "cell_type": "code",
   "execution_count": null,
   "metadata": {
    "collapsed": true
   },
   "outputs": [],
   "source": [
    "plt.plot(fraud_df.groupby('short_date').event_id.count())\n",
    "plt.show()"
   ]
  },
  {
   "cell_type": "markdown",
   "metadata": {},
   "source": [
    "## Обратите внимание на выбор диапазона "
   ]
  },
  {
   "cell_type": "code",
   "execution_count": null,
   "metadata": {
    "collapsed": true
   },
   "outputs": [],
   "source": [
    "start_date = \"20171029\"\n",
    "end_date = \"20171128\""
   ]
  },
  {
   "cell_type": "code",
   "execution_count": null,
   "metadata": {
    "collapsed": true
   },
   "outputs": [],
   "source": [
    "# для ускорения проверки корректности расчета фич - используйте sample из 1-2% пользователей\n",
    "all_users = df_from_sql(\"select distinct user_id from rsa_event_log\", engine=conn,parse_dates=None)\n",
    "users_sample = all_users.sample(frac=0.01).user_id.astype(str).tolist()"
   ]
  },
  {
   "cell_type": "code",
   "execution_count": null,
   "metadata": {
    "collapsed": true
   },
   "outputs": [],
   "source": [
    "# Функция рассчет по пачкам, если dataset не помещается в память\n",
    "\n",
    "def features_chunk_handler(sql, calc_feat, chunk_size=5000):\n",
    "    \"\"\"\n",
    "    sql - запрос выбирающий данные и возвращающий df необходимого для calc_feat метода\n",
    "    calc_feat - процедура, осуществляющая расчет фичей на основании входного DF\n",
    "    \"\"\"\n",
    "    rez_df = pd.DataFrame()\n",
    "    for chunk in tqdm_notebook(df_from_sql(sql, engine=conn, chunk_size=chunk_size), total = 72000000 // chunk_size):\n",
    "        \n",
    "        # При необходимости - добавить еще запись в БД sqlite рассчитанных признаков\n",
    "        feat_chunk = calc_feat(chunk)\n",
    "        #feat_chunk = chunk\n",
    "        \n",
    "        rez_df = pd.concat([rez_df, feat_chunk], ignore_index=True)\n",
    "        \n",
    "    return rez_df\n",
    "        "
   ]
  },
  {
   "cell_type": "code",
   "execution_count": null,
   "metadata": {
    "collapsed": true
   },
   "outputs": [],
   "source": [
    "from tqdm import tqdm_notebook"
   ]
  },
  {
   "cell_type": "code",
   "execution_count": null,
   "metadata": {
    "collapsed": true
   },
   "outputs": [],
   "source": [
    "def map_field(data, field_name, target_name, alpha):\n",
    "    global_mean = data[target_name].mean()\n",
    "    counters = data.groupby(field_name)[target_name].mean()\n",
    "    n_counters = data.groupby(field_name)[target_name].count()\n",
    "    out = ((data[field_name].map(counters) + global_mean * alpha)/ \\\n",
    "           (data[field_name].map(n_counters) + alpha))\n",
    "    return out"
   ]
  },
  {
   "cell_type": "code",
   "execution_count": null,
   "metadata": {
    "collapsed": true
   },
   "outputs": [],
   "source": [
    "def calc_base_features (data):\n",
    "    feat_matrix = pd.DataFrame()\n",
    "    # sampling - data = data[data.user_id.isin(users_sample) & data.event_description.isin([u'Перевод частному лицу',u'Оплата услуг',u'Перевод между своими счетами и картами'])]\n",
    "    data = data[data.event_description.isin([u'Перевод частному лицу',u'Оплата услуг',u'Перевод между своими счетами и картами'])]\n",
    "    \n",
    "    if data.shape[0] == 0:\n",
    "        return feat_matrix\n",
    "    \n",
    "    # заполняем ряд пропусков\n",
    "    data.cdf_s_140 = data.cdf_s_140.fillna(0).astype(float)/1000 # кумулятивная сумма опреаций за сутки, если не заполнена, то значит это первая операций, т.е. = 0\n",
    "    data.data_i_120.fillna(1, inplace=True)\n",
    "\n",
    "    \n",
    "    feat_matrix['event_id'] = data.event_id\n",
    "    feat_matrix['user_id'] = data.user_id\n",
    "\n",
    "    feat_matrix['custom_mark'] = data.custom_mark    \n",
    "    feat_matrix['event_time'] = data.event_time\n",
    "\n",
    "    feat_matrix['amount'] = data.amount_original\n",
    "    \n",
    "    feat_matrix['client_age'] = (data.event_time - data.cdf_s_19).apply(lambda x: x.days/360)\n",
    " \n",
    "        \n",
    "    feat_matrix['cat_new_ip'] = data.cdf_s_126.apply(lambda x: 1 if x == u'ДА' else 0 if x == u'НЕТ' else 2)\n",
    "    feat_matrix['cat_new_prov'] = data.cdf_s_138.apply(lambda x: 1 if x == u'ДА' else 0 if x == u'НЕТ' else 2)\n",
    "    feat_matrix['channel_op'] = data.channel_indicator.apply(lambda x: 0 if x == u'MOBILE' else 1 if x == u'WEB' else 2)\n",
    "    feat_matrix['op_type'] = data.event_description.apply(lambda x:\n",
    "            0 if x == u'Перевод частному лицу' else 1 if x==u'Оплата услуг' else 2 if x ==u'Перевод между своими счетами и картами' else 3)\n",
    "\n",
    "\n",
    "    feat_matrix ['recip_age'] = data.cdf_s_294.apply(lambda x: 1 if x == 0 else 0) # бинарный флаг определяющий наличие возраста получателя (полезен для линейных моделей, менее для деревьев с учетом следующего признака)\n",
    "    \n",
    "    \n",
    "    feat_matrix['age_diff'] = feat_matrix.client_age - data.cdf_s_294.apply(lambda x: int(x) if x != 0 else 1000) # разница возорастов получателей и отправителей, если отсутствует/неприменимо, то padding 500    \n",
    "  \n",
    "    \n",
    "    feat_matrix['cumulative_sum_total'] = data.cdf_s_140 # кумулятивная сумма операций за сутки в каналах web и МП\n",
    "    \n",
    "    feat_matrix['data_i_120'] = data.data_i_120 \n",
    "    \n",
    "    \n",
    "    feat_matrix['relative'] = data.cdf_s_218.apply(lambda x: 1 if x == u'ДА' else 0) # перевод родственнику\n",
    "    \n",
    "    feat_matrix['know_recip_power'] = data.data_s_65.apply(lambda x: x if x is not None else 0) # сила связи отправителя и получателя\n",
    "    \n",
    "    \n",
    "    feat_matrix['cdf_s_127'] = data.cdf_s_127#.apply(lambda x: 1 if x is not None else 0)\n",
    "    feat_matrix['cdf_s_135'] = data.cdf_s_135#.apply(lambda x: 1 if x is not None else 0)\n",
    "    feat_matrix['cdf_s_130'] = data.cdf_s_130#.apply(lambda x: 1 if x is not None else 0)\n",
    "    feat_matrix['cdf_s_129'] = data.cdf_s_129#.apply(lambda x: 1 if x is not None else 0)\n",
    "    feat_matrix['cdf_s_134'] = data.cdf_s_134#.apply(lambda x: 1 if x is not None else 0)\n",
    "    feat_matrix['data_i_154'] = data.data_i_154.apply(lambda x: x if x is not None else -150)\n",
    "    feat_matrix['cdf_s_133'] = data.cdf_s_133#.apply(lambda x: 1 if x is not None else 0)\n",
    "    feat_matrix['data_i_120'] = data.data_i_120\n",
    "    feat_matrix['know_recip_card_age'] = data.cdf_s_124.apply(lambda x: 1 if x is not None else 0)\n",
    "    \n",
    "    \n",
    "    \n",
    "    feat_matrix['recip_card_age'] = (data.event_time - data.cdf_s_124).apply(lambda x: x.days if type(x) is not pd.tslib.NaTType else 2000)\n",
    "    \n",
    "    feat_matrix['cat_client_region'] = data.cdf_s_20.astype(str)\n",
    "    feat_matrix['one_region'] = (data.cdf_s_20 == data.cdf_s_299).astype(int) # сравнение регионов\n",
    "    \n",
    "    feat_matrix[\"amntTo136\"] = (data[\"amount_original\"].fillna(0) / \\\n",
    "        (data[\"amount_original\"].fillna(0) + data[\"cdf_s_136\"].fillna(0) + 1))\n",
    "    feat_matrix[\"amtnTo137\"] = (data[\"amount_original\"].fillna(0) / \\\n",
    "        (data[\"amount_original\"].fillna(0) + data[\"cdf_s_137\"].fillna(0) + 1))\n",
    "    feat_matrix[\"amtnTo140\"] = (data[\"amount_original\"].fillna(0) / \\\n",
    "        (data[\"amount_original\"].fillna(0) + data[\"cdf_s_140\"].fillna(0) + 1))\n",
    "\n",
    "    feat_matrix[\"channel_indicator_desc\"] = map_field(data, \"channel_indicator_desc\", \"custom_mark\", alpha=10000)\n",
    "    feat_matrix[\"cdf_s_138\"] = map_field(data, \"cdf_s_138\", \"custom_mark\", alpha=10000)\n",
    "    feat_matrix[\"cdf_s_126\"] = map_field(data, \"cdf_s_126\", \"custom_mark\", alpha=10000)\n",
    "    feat_matrix[\"cdf_s_218\"] = map_field(data, \"cdf_s_218\", \"custom_mark\", alpha=10000)\n",
    "    feat_matrix[\"event_description\"] = map_field(data, \"event_description\", \"custom_mark\", alpha=10000)\n",
    "    \n",
    "    #ADD NEW FEATURES\n",
    "        \n",
    "    return feat_matrix"
   ]
  },
  {
   "cell_type": "markdown",
   "metadata": {},
   "source": [
    "# Задание - реализовать как минимум 7 новых признаков, 3 из которых должны быть обработкой категориальных столбцов\n",
    "\n",
    "Пример:\n",
    "\n",
    "Кортежи регионов отправителя и получателя\n",
    "\n",
    "ISP провайдера\n",
    "\n",
    "Подсети класса B"
   ]
  },
  {
   "cell_type": "markdown",
   "metadata": {},
   "source": [
    "### Расчет фичей"
   ]
  },
  {
   "cell_type": "code",
   "execution_count": null,
   "metadata": {
    "collapsed": true
   },
   "outputs": [],
   "source": [
    "sql = \"\"\"select * from rsa_event_log \n",
    "                        where short_date between {start} and {end};\"\"\".format(start=start_date, end=end_date)"
   ]
  },
  {
   "cell_type": "code",
   "execution_count": null,
   "metadata": {
    "collapsed": true
   },
   "outputs": [],
   "source": [
    "st = datetime.datetime.now()\n",
    "trans_feat = features_chunk_handler(sql, calc_base_features, 100000)\n",
    "end = datetime.datetime.now()\n",
    "print(end - st)"
   ]
  },
  {
   "cell_type": "code",
   "execution_count": null,
   "metadata": {
    "collapsed": true
   },
   "outputs": [],
   "source": [
    "trans_feat.to_csv('./data/feat_matrix_prt1.csv', sep=';', index=False)"
   ]
  },
  {
   "cell_type": "code",
   "execution_count": null,
   "metadata": {
    "collapsed": true
   },
   "outputs": [],
   "source": [
    "trans_feat = pd.read_csv('./data/feat_matrix_prt1.csv',sep=';', parse_dates=['event_time'])"
   ]
  },
  {
   "cell_type": "code",
   "execution_count": null,
   "metadata": {
    "collapsed": true
   },
   "outputs": [],
   "source": [
    "trans_feat.shape"
   ]
  },
  {
   "cell_type": "code",
   "execution_count": null,
   "metadata": {
    "collapsed": true
   },
   "outputs": [],
   "source": [
    "trans_feat.custom_mark.value_counts(dropna=False)"
   ]
  },
  {
   "cell_type": "code",
   "execution_count": null,
   "metadata": {
    "collapsed": true
   },
   "outputs": [],
   "source": [
    "trans_feat.custom_mark.value_counts(dropna=False)"
   ]
  },
  {
   "cell_type": "code",
   "execution_count": null,
   "metadata": {
    "collapsed": true
   },
   "outputs": [],
   "source": []
  },
  {
   "cell_type": "markdown",
   "metadata": {},
   "source": [
    "### Вспомогательные функции для работы с временнЫми данными"
   ]
  },
  {
   "cell_type": "code",
   "execution_count": null,
   "metadata": {
    "collapsed": true,
    "scrolled": true
   },
   "outputs": [],
   "source": [
    "# будем считать данные на ежедневном базисе по квантилям клиента\n",
    "trans_data = df_from_sql(\"select * from rsa_event_log where user_id in ({0})\".format(str(users_sample)[1:-1]))"
   ]
  },
  {
   "cell_type": "code",
   "execution_count": null,
   "metadata": {
    "collapsed": true
   },
   "outputs": [],
   "source": [
    "# как уже говорились при работе с данными, имеющими временной аспект крайне важно отсекать транзакции, \n",
    "# идущие после оцениваемого события\n",
    "\n",
    "# кроме того зачастую бывает полезно создавать фичи не за весь доступный горизонт данных, \n",
    "# а за различные временные окна\n",
    "def timeframe_trans(trans, date_threshold=None, depth=None):\n",
    "    \"\"\"\n",
    "    Функция отбирающая тразакции в заданном временном окне\n",
    "    :param trans: весь массив транзакций\n",
    "    :param date_threshold: дата и время отсечки, если не указан, то datetime.now()\n",
    "    :param depth: глубина периода от даты отсечки, если не указан, то от текущего момента\n",
    "    :return:\n",
    "    \n",
    "    \"\"\"\n",
    "    if date_threshold and depth:\n",
    "        interested_trans = trans[trans.event_time.between(date_threshold - depth, date_threshold)]\n",
    "    elif date_threshold and depth is None:\n",
    "        interested_trans = trans[trans.event_time <= date_threshold]\n",
    "    elif date_threshold is None and depth:\n",
    "        interested_trans = trans[trans.event_time.between(datetime.datetime.now() - depth, datetime.datetime.now())]\n",
    "    else:\n",
    "        interested_trans = trans\n",
    "\n",
    "    return interested_trans\n",
    "\n",
    "\n",
    "def calc_quants_per_user (trans, col_name='amount_original', quants=np.arange(0.1, 1.1, .1), feat_name='amount_q_', depth=None, start_date = datetime.date(2017,10,29), \n",
    "                 end_date = datetime.date(2017,11,29)):\n",
    "    \"\"\"\n",
    "    Функция рассчитывающая квантили для пользователя с округлением до дня\n",
    "    \"\"\"\n",
    "    \n",
    "    time_delta = end_date - start_date\n",
    "    #можно переопределить и выбрать другой временной интервал\n",
    "    list_of_days = [start_date + datetime.timedelta(days=i) for i in range(time_delta.days + 1)]\n",
    "    \n",
    "    rez_df = pd.DataFrame()\n",
    "    \n",
    "    for day in list_of_days:\n",
    "        if depth is None:\n",
    "            cur_cutoff = trans[trans.event_time < day]\n",
    "        else:\n",
    "            cur_cutoff = trans[(trans.event_time < day)&(trans.event_time > (day - depth))]\n",
    "            \n",
    "        if cur_cutoff.shape[0] >= 1:\n",
    "            res = cur_cutoff[col_name].quantile(quants)\n",
    "        else:\n",
    "            res = [0 for i in quants]\n",
    "    \n",
    "        for i in zip(quants, res):\n",
    "            rez_df.loc[day, feat_name + str(i[0])] = i[1]\n",
    "    \n",
    "        \n",
    "    \n",
    "    return rez_df\n",
    "\n",
    "\n",
    "def all_usr_quants(users_list, number_of_splits = 900, col_name = 'amount_original', quants=np.arange(0.1, 1.1, .1), feat_name='amount_q_', depth=None, start_date = datetime.date(2017,10,29), \n",
    "                 end_date = datetime.date(2017,11,29)):\n",
    "    \"\"\"\n",
    "    Расчет квантилей по всем пользователям со сплитованием на подмножества\n",
    "    \"\"\"\n",
    "    rez_df = pd.DataFrame()\n",
    "    usr_chunks = np.array_split(users_list, number_of_splits)\n",
    "    \n",
    "    for chunk in usr_chunks:\n",
    "        \n",
    "        trans_data = df_from_sql(\"select user_id, event_time, {col} from rsa_event_log where user_id in ({users})\".format(col = col_name, users=str(list(chunk))[1:-1]), parse_dates=['event_time'])\n",
    "        chunk_df =  trans_data.groupby('user_id').apply(lambda x: \n",
    "                        # В даннос случае x - dataframe с транзакциями 1ого пользователя\n",
    "                        calc_quants_per_user(x[x[col_name] <> 0], col_name=col_name, feat_name=feat_name, quants=quants, depth = depth, start_date=start_date, end_date=end_date)\n",
    "                    )\n",
    "        rez_df = pd.concat([rez_df, chunk_df])\n",
    "        \n",
    "    return rez_df"
   ]
  },
  {
   "cell_type": "code",
   "execution_count": null,
   "metadata": {
    "collapsed": true
   },
   "outputs": [],
   "source": [
    "# Пример как получить транзакции пользователей за 2 недели до их последней транзакции\n",
    "trans_data[trans_data.user_id.isin(users_sample)].groupby('user_id').apply(lambda x: timeframe_trans(x, x.event_time.max(), depth=datetime.timedelta(days=14))).head(25)"
   ]
  },
  {
   "cell_type": "code",
   "execution_count": null,
   "metadata": {
    "collapsed": true
   },
   "outputs": [],
   "source": [
    "victims = trans_feat[trans_feat.custom_mark.isin(['F','S'])].user_id.sample(frac=1).astype(str).unique().tolist()\n",
    "print len(victims)"
   ]
  },
  {
   "cell_type": "code",
   "execution_count": null,
   "metadata": {
    "collapsed": true
   },
   "outputs": [],
   "source": [
    "# Добавляем квантили по операциям клиента за 30 дней до транзакции и 90 дней\n",
    "\n",
    "# 30 дней\n",
    "df_30_days = all_usr_quants(all_users.user_id.astype(str).unique().tolist(), number_of_splits=20, col_name=\"amount_original\", depth=datetime.timedelta(days=30), feat_name='amnt_30_q_')\n",
    "\n",
    "# 90 дней\n",
    "df_90_days = all_usr_quants(all_users.user_id.astype(str).unique().tolist(), 20, col_name=\"amount_original\", depth=datetime.timedelta(days=90), feat_name='amnt_90_q_')"
   ]
  },
  {
   "cell_type": "code",
   "execution_count": null,
   "metadata": {
    "collapsed": true
   },
   "outputs": [],
   "source": [
    "quant_features = pd.merge(df_30_days, df_90_days, left_index=True, right_index=True)\n",
    "quant_features.reset_index(inplace=True)\n",
    "quant_features.rename(index=str, columns={'level_1':'short_date'}, inplace=True)"
   ]
  },
  {
   "cell_type": "code",
   "execution_count": null,
   "metadata": {
    "collapsed": true
   },
   "outputs": [],
   "source": [
    "quant_features.head()"
   ]
  },
  {
   "cell_type": "code",
   "execution_count": null,
   "metadata": {
    "collapsed": true
   },
   "outputs": [],
   "source": [
    "quant_features.to_csv('quant_features.csv')"
   ]
  },
  {
   "cell_type": "markdown",
   "metadata": {},
   "source": [
    "### Добавляем в матрицу фичей квантили и рассчитываем доп признаки по базовым фичам, которые должны охарактеризовать текущее поведение клиента относительно его предыдущих трат"
   ]
  },
  {
   "cell_type": "code",
   "execution_count": null,
   "metadata": {
    "collapsed": true
   },
   "outputs": [],
   "source": [
    "trans_feat['short_date'] = trans_feat.event_time.apply(lambda x: x.date())"
   ]
  },
  {
   "cell_type": "code",
   "execution_count": null,
   "metadata": {
    "collapsed": true,
    "scrolled": true
   },
   "outputs": [],
   "source": [
    "rez_matrix = trans_feat.merge(quant_features, on=['user_id','short_date'], how = 'inner')\n",
    "rez_matrix.shape"
   ]
  },
  {
   "cell_type": "code",
   "execution_count": null,
   "metadata": {
    "collapsed": true
   },
   "outputs": [],
   "source": [
    "# добавляем отношение кумулятивной суммы операций за сутки к квантилям операций клиента (0.3, 0.5, 1.0)\n",
    "for col in [i for i in rez_matrix.columns if any(col in i for col in ['_q_0.3','_q_0.5','_q_1.0'])]:\n",
    "    rez_matrix['cumulative_sum_to_{0}'.format(col)] = rez_matrix.cumulative_sum_total/rez_matrix[col]\n",
    "\n",
    "# добавляем отнощение суммы операции к максимальным квантилям\n",
    "for col in [i for i in rez_matrix.columns if any(col in i for col in ['_q_1.0'])]:\n",
    "    rez_matrix['amount_to_{0}'.format(col)] = rez_matrix.amount/rez_matrix[col]"
   ]
  },
  {
   "cell_type": "code",
   "execution_count": null,
   "metadata": {
    "collapsed": true
   },
   "outputs": [],
   "source": [
    "#заменяем деления inf от делений на 0\n",
    "rez_matrix.replace(np.inf, 0, inplace=True)\n",
    "\n",
    "rez_matrix['lable'] = rez_matrix.custom_mark.apply(lambda x: cust_mark_to_class(x))"
   ]
  },
  {
   "cell_type": "code",
   "execution_count": null,
   "metadata": {
    "collapsed": true
   },
   "outputs": [],
   "source": [
    "# удаляем неизвестные кейсы\n",
    "rez_matrix = rez_matrix[rez_matrix.lable <> -1]"
   ]
  },
  {
   "cell_type": "code",
   "execution_count": null,
   "metadata": {
    "collapsed": true
   },
   "outputs": [],
   "source": [
    "print rez_matrix.shape\n",
    "rez_matrix.head()"
   ]
  },
  {
   "cell_type": "code",
   "execution_count": null,
   "metadata": {
    "collapsed": true
   },
   "outputs": [],
   "source": [
    "#rez_matrix = pd.to_csv('rez_matrix_full.csv', sep=';')\n",
    "#rez_matrix = pd.read_csv('rez_matrix_full.csv', sep=';', parse_dates=['event_time'])"
   ]
  },
  {
   "cell_type": "markdown",
   "metadata": {},
   "source": [
    "## Задание - расширить квантили, добавив подразбиение по каналам проведения операций"
   ]
  },
  {
   "cell_type": "code",
   "execution_count": null,
   "metadata": {
    "collapsed": true
   },
   "outputs": [],
   "source": [
    "???"
   ]
  },
  {
   "cell_type": "code",
   "execution_count": null,
   "metadata": {
    "collapsed": true
   },
   "outputs": [],
   "source": []
  },
  {
   "cell_type": "code",
   "execution_count": null,
   "metadata": {
    "collapsed": true
   },
   "outputs": [],
   "source": [
    "rez_matrix.lable.value_counts()"
   ]
  },
  {
   "cell_type": "code",
   "execution_count": null,
   "metadata": {
    "collapsed": true
   },
   "outputs": [],
   "source": [
    "rez_matrix.groupby('lable').event_time.agg(['min', 'max'])"
   ]
  },
  {
   "cell_type": "code",
   "execution_count": null,
   "metadata": {
    "collapsed": true
   },
   "outputs": [],
   "source": [
    "rez_matrix[rez_matrix.lable == 1].event_time.quantile([0.25, 0.5,0.75,0.9])"
   ]
  },
  {
   "cell_type": "markdown",
   "metadata": {},
   "source": [
    "## Подготовка split по времени"
   ]
  },
  {
   "cell_type": "code",
   "execution_count": null,
   "metadata": {
    "collapsed": true
   },
   "outputs": [],
   "source": [
    "# подготовим разбиение выборки - будем идти посуточно rolling window\n",
    "rez_matrix['TS_indexer'] = rez_matrix.short_date\n",
    "# оставляем уникальные индексы, по которым и будем строить разбиение через time series\n",
    "unique_TS_split = np.array(sorted(rez_matrix.TS_indexer.unique()))"
   ]
  },
  {
   "cell_type": "code",
   "execution_count": null,
   "metadata": {
    "collapsed": true
   },
   "outputs": [],
   "source": [
    "print len(unique_TS_split)"
   ]
  },
  {
   "cell_type": "code",
   "execution_count": null,
   "metadata": {
    "collapsed": true
   },
   "outputs": [],
   "source": []
  },
  {
   "cell_type": "markdown",
   "metadata": {},
   "source": [
    "## Задание - доработать indexer таким образом, чтобы он работал в парадигме  \"забывающей\" модели из презентации (меньший период легитимных, но фрод сохранять весь) ИЛИ ансамбль моделей"
   ]
  },
  {
   "cell_type": "code",
   "execution_count": null,
   "metadata": {
    "collapsed": true
   },
   "outputs": [],
   "source": [
    "???"
   ]
  },
  {
   "cell_type": "code",
   "execution_count": null,
   "metadata": {
    "collapsed": true
   },
   "outputs": [],
   "source": []
  },
  {
   "cell_type": "code",
   "execution_count": null,
   "metadata": {
    "collapsed": true
   },
   "outputs": [],
   "source": []
  },
  {
   "cell_type": "markdown",
   "metadata": {},
   "source": [
    "## Выбираем максимальный предущий период времени, на котором будем тренироваться и число сплитов"
   ]
  },
  {
   "cell_type": "code",
   "execution_count": null,
   "metadata": {
    "collapsed": true,
    "scrolled": true
   },
   "outputs": [],
   "source": [
    "tscv = TimeSeriesSplit(n_splits=16, max_train_size=21)\n",
    "for train_index, test_index in tscv.split(unique_TS_split):\n",
    "    print(\"TRAIN LEN:\", len(unique_TS_split[train_index]), \"TEST LEN:\", len(unique_TS_split[test_index]))"
   ]
  },
  {
   "cell_type": "code",
   "execution_count": null,
   "metadata": {
    "collapsed": true
   },
   "outputs": [],
   "source": [
    "# а так мы будем получать непосредственно транзакции в данном фолде    \n",
    "rez_matrix[rez_matrix.TS_indexer.isin(unique_TS_split[test_index])]"
   ]
  },
  {
   "cell_type": "code",
   "execution_count": null,
   "metadata": {
    "collapsed": true
   },
   "outputs": [],
   "source": [
    "# мы выбрали, что доступный временно горизонт для модели должен составлять минимум 21 день, \n",
    "# поэтому нам нужно исключить начальные фолды, в которых данное условие не выполняется\n",
    "# также для использования GridSearchCV нам потребуется вернуться непосредственно к индексам rez_matrix\n",
    "\n",
    "#ВАЖНО! для корректной процедуры требуется сбросить индекс\n",
    "rez_matrix.reset_index(drop=True, inplace=True)\n",
    "\n",
    "temp_TS_cv = [\n",
    "    (rez_matrix[rez_matrix.TS_indexer.isin(unique_TS_split[train_index])].index.tolist(), \n",
    "     rez_matrix[rez_matrix.TS_indexer.isin(unique_TS_split[test_index])].index.tolist()) for (train_index, test_index) in tscv.split(unique_TS_split) if len(train_index)>=21]\n",
    "\n",
    "#еще необходимо исключить фолды, в которые не поало ни одного фрода\n",
    "completed_TS_cv = [(train, test) for (train, test) in temp_TS_cv if rez_matrix.iloc[test].lable.sum() >= 1]"
   ]
  },
  {
   "cell_type": "code",
   "execution_count": null,
   "metadata": {
    "collapsed": true
   },
   "outputs": [],
   "source": [
    "print len(temp_TS_cv)\n",
    "print len(completed_TS_cv)"
   ]
  },
  {
   "cell_type": "code",
   "execution_count": null,
   "metadata": {
    "collapsed": true,
    "scrolled": true
   },
   "outputs": [],
   "source": [
    "for i in range(len(completed_TS_cv)):\n",
    "    print \"Train period: \" + str(rez_matrix.loc[completed_TS_cv[i][0]].event_time.min())+' - '+str(rez_matrix.loc[completed_TS_cv[i][0]].event_time.max())\n",
    "    print \"Test period: \" + str(rez_matrix.loc[completed_TS_cv[i][1]].event_time.min())+' - '+str(rez_matrix.loc[completed_TS_cv[i][1]].event_time.max())\n",
    "    print \"\\r\\n\""
   ]
  },
  {
   "cell_type": "code",
   "execution_count": null,
   "metadata": {
    "collapsed": true
   },
   "outputs": [],
   "source": [
    "rez_matrix.columns"
   ]
  },
  {
   "cell_type": "code",
   "execution_count": null,
   "metadata": {
    "collapsed": true
   },
   "outputs": [],
   "source": [
    "X = rez_matrix.drop(['event_id', 'user_id','event_time', 'custom_mark', 'short_date','TS_indexer', 'lable'], axis=1).as_matrix()\n",
    "y = rez_matrix.lable.as_matrix()"
   ]
  },
  {
   "cell_type": "code",
   "execution_count": null,
   "metadata": {
    "collapsed": true
   },
   "outputs": [],
   "source": [
    "len(completed_TS_cv)"
   ]
  },
  {
   "cell_type": "code",
   "execution_count": null,
   "metadata": {
    "collapsed": true
   },
   "outputs": [],
   "source": [
    "train_folds = completed_TS_cv[:6]\n",
    "val_folds = completed_TS_cv[6:]"
   ]
  },
  {
   "cell_type": "code",
   "execution_count": null,
   "metadata": {
    "collapsed": true
   },
   "outputs": [],
   "source": []
  },
  {
   "cell_type": "markdown",
   "metadata": {},
   "source": [
    "# Задание применить один из методов работы с несбалансированными классами, отличный от class_weight"
   ]
  },
  {
   "cell_type": "code",
   "execution_count": null,
   "metadata": {
    "collapsed": true
   },
   "outputs": [],
   "source": []
  },
  {
   "cell_type": "code",
   "execution_count": null,
   "metadata": {
    "collapsed": true
   },
   "outputs": [],
   "source": []
  },
  {
   "cell_type": "code",
   "execution_count": null,
   "metadata": {
    "collapsed": true
   },
   "outputs": [],
   "source": [
    "print('XGBoost with grid search')\n",
    "# \n",
    "params={\n",
    "    'max_depth': [3, 5, 8], \n",
    "    'subsample': [0.4, 0.6], \n",
    "    'colsample_bytree': [0.5, 0.7], \n",
    "    'n_estimators': [150, 250],\n",
    "    'reg_alpha': [0.01, 0.03] \n",
    "}\n",
    "\n",
    "xgb_clf = xgb.XGBClassifier(missing=np.NAN)\n",
    "rs = GridSearchCV(xgb_clf,\n",
    "                  params,\n",
    "                  cv=train_folds,\n",
    "                  scoring=\"neg_log_loss\",\n",
    "                  n_jobs=4,\n",
    "                  verbose=2)\n",
    "rs.fit(X, y)\n",
    "best_est = rs.best_estimator_\n",
    "print(best_est)"
   ]
  },
  {
   "cell_type": "code",
   "execution_count": null,
   "metadata": {
    "collapsed": true
   },
   "outputs": [],
   "source": [
    "predictor = xgb.XGBClassifier(base_score=0.5, colsample_bylevel=1, colsample_bytree=0.5,\n",
    "       gamma=0, learning_rate=0.1, max_delta_step=0, max_depth=8,\n",
    "       min_child_weight=1, missing=None, n_estimators=150, nthread=-1,\n",
    "       objective='binary:logistic', reg_alpha=0.03, reg_lambda=1,\n",
    "       scale_pos_weight=1, seed=0, silent=True, subsample=0.6)"
   ]
  },
  {
   "cell_type": "code",
   "execution_count": null,
   "metadata": {
    "collapsed": true
   },
   "outputs": [],
   "source": [
    "feats_names = rez_matrix.drop(['event_id', 'user_id','event_time', 'custom_mark', 'short_date','TS_indexer', 'lable'], axis=1).columns"
   ]
  },
  {
   "cell_type": "code",
   "execution_count": null,
   "metadata": {
    "collapsed": true
   },
   "outputs": [],
   "source": [
    "rez_matrix.cat_client_region = rez_matrix.cat_client_region.astype(int)"
   ]
  },
  {
   "cell_type": "code",
   "execution_count": null,
   "metadata": {
    "collapsed": true
   },
   "outputs": [],
   "source": [
    "f, axes = plt.subplots(1, 1, figsize=(10, 5))\n",
    "\n",
    "\n",
    "\n",
    "y_real = []\n",
    "y_proba = []\n",
    "for i, (train_index, test_index) in enumerate(val_folds):\n",
    "    print i\n",
    "    #Xtrain, Xtest = X[train_index], X[test_index]\n",
    "    Xtrain, Xtest = rez_matrix[feats_names].reset_index(drop=True).loc[train_index], rez_matrix[feats_names].reset_index(drop=True).loc[test_index]\n",
    "    ytrain, ytest = y[train_index], y[test_index]\n",
    "    predictor.fit(Xtrain, ytrain)\n",
    "    pred_proba = predictor.predict_proba(Xtest)\n",
    "    precision, recall, _ = precision_recall_curve(ytest, pred_proba[:,1])\n",
    "    lab = 'Fold %d AUC=%.4f' % (i+1, auc(recall, precision))\n",
    "    axes.step(recall, precision, label=lab)\n",
    "    y_real.append(ytest)\n",
    "    y_proba.append(pred_proba[:,1])\n",
    "\n",
    "y_real = np.concatenate(y_real)\n",
    "y_proba = np.concatenate(y_proba)\n",
    "precision, recall, _ = precision_recall_curve(y_real, y_proba)\n",
    "lab = 'Overall AUC=%.4f' % (auc(recall, precision))\n",
    "axes.step(recall, precision, label=lab, lw=2, color='black')\n",
    "axes.set_xlabel('Recall')\n",
    "axes.set_ylabel('Precision')\n",
    "axes.legend(loc='lower left', fontsize='small')\n",
    "\n",
    "f.tight_layout()\n",
    "plt.show()\n",
    "f.savefig('result.png')"
   ]
  },
  {
   "cell_type": "code",
   "execution_count": null,
   "metadata": {
    "collapsed": true
   },
   "outputs": [],
   "source": []
  },
  {
   "cell_type": "markdown",
   "metadata": {},
   "source": [
    "# А как нам из PR получить информацию по числу сработок? Откуда взять порого для FP? "
   ]
  },
  {
   "cell_type": "code",
   "execution_count": null,
   "metadata": {
    "collapsed": true
   },
   "outputs": [],
   "source": [
    "???"
   ]
  },
  {
   "cell_type": "code",
   "execution_count": null,
   "metadata": {
    "collapsed": true
   },
   "outputs": [],
   "source": []
  },
  {
   "cell_type": "markdown",
   "metadata": {},
   "source": [
    "## Примеры использования featrue importance, PDP, ICE"
   ]
  },
  {
   "cell_type": "code",
   "execution_count": null,
   "metadata": {
    "collapsed": true
   },
   "outputs": [],
   "source": [
    "feats_names = rez_matrix.drop(['event_id', 'user_id','event_time', 'custom_mark', 'short_date','TS_indexer', 'lable'], axis=1).columns\n",
    "\n",
    "def create_feature_map(features):\n",
    "    outfile = open('xgb.fmap', 'w')\n",
    "    i = 0\n",
    "    for feat in features:\n",
    "        outfile.write('{0}\\t{1}\\tq\\n'.format(i, feat))\n",
    "        i = i + 1\n",
    "\n",
    "    outfile.close()\n",
    "\n",
    "create_feature_map(feats_names)\n",
    "    \n",
    "importance = predictor.booster().get_fscore(fmap='xgb.fmap')\n",
    "importance = sorted(importance.items(), key=operator.itemgetter(1))\n",
    "\n",
    "feat_df = pd.DataFrame(importance, columns=['feature', 'fscore'])\n",
    "\n",
    "plt.figure()\n",
    "feat_df.plot()\n",
    "feat_df.plot(kind='barh', x='feature', y='fscore', legend=False, figsize=(10, 25))\n",
    "plt.gcf().savefig('features_importance.png')"
   ]
  },
  {
   "cell_type": "code",
   "execution_count": null,
   "metadata": {
    "collapsed": true
   },
   "outputs": [],
   "source": []
  },
  {
   "cell_type": "markdown",
   "metadata": {},
   "source": [
    "## ICE experiments"
   ]
  },
  {
   "cell_type": "code",
   "execution_count": null,
   "metadata": {
    "collapsed": true
   },
   "outputs": [],
   "source": [
    "from pdpbox import pdp"
   ]
  },
  {
   "cell_type": "code",
   "execution_count": null,
   "metadata": {
    "collapsed": true
   },
   "outputs": [],
   "source": [
    "pdp.target_plot(rez_matrix, 'age_diff', 'age_diff', 'lable')"
   ]
  },
  {
   "cell_type": "code",
   "execution_count": null,
   "metadata": {
    "collapsed": true
   },
   "outputs": [],
   "source": [
    "pdp_age_diff = pdp.pdp_isolate(predictor, rez_matrix[feats_names].reset_index(), 'age_diff')"
   ]
  },
  {
   "cell_type": "code",
   "execution_count": null,
   "metadata": {
    "collapsed": true
   },
   "outputs": [],
   "source": [
    "pdp.pdp_plot(pdp_age_diff, 'age_diff', plot_org_pts=True, plot_lines=True, frac_to_plot=10000)"
   ]
  },
  {
   "cell_type": "code",
   "execution_count": null,
   "metadata": {
    "collapsed": true
   },
   "outputs": [],
   "source": [
    "pdp.pdp_plot(pdp_age_diff, 'age_diff', plot_org_pts=True, plot_lines=True, frac_to_plot=3500, cluster=True, n_cluster_centers=15, center=True)"
   ]
  },
  {
   "cell_type": "code",
   "execution_count": null,
   "metadata": {
    "collapsed": true
   },
   "outputs": [],
   "source": [
    "age_sum = pdp.pdp_interact(predictor, rez_matrix[rez_matrix.lable == 1][feats_names].reset_index(drop=True), ['client_age','amount'], num_grid_points=[10, 10])"
   ]
  },
  {
   "cell_type": "code",
   "execution_count": null,
   "metadata": {
    "collapsed": true
   },
   "outputs": [],
   "source": [
    "age_sum.pdp_isolate_out1.ice_lines.actual_preds.max()"
   ]
  },
  {
   "cell_type": "code",
   "execution_count": null,
   "metadata": {
    "collapsed": true
   },
   "outputs": [],
   "source": [
    "age_sum.pdp_isolate_out1.ice_lines.actual_preds.describe()"
   ]
  },
  {
   "cell_type": "code",
   "execution_count": null,
   "metadata": {
    "collapsed": true
   },
   "outputs": [],
   "source": [
    "pdp.pdp_interact_plot(age_sum, ['client_age', 'amount'], center=True, plot_org_pts=True, plot_lines=True, frac_to_plot=5000, x_quantile=True)"
   ]
  },
  {
   "cell_type": "code",
   "execution_count": null,
   "metadata": {
    "collapsed": true
   },
   "outputs": [],
   "source": [
    "pdp.pdp_interact_plot(inter_age, ['client_age', 'age_diff'], center=True, plot_org_pts=True, plot_lines=True, frac_to_plot=10000, x_quantile=True)"
   ]
  },
  {
   "cell_type": "code",
   "execution_count": null,
   "metadata": {
    "collapsed": true
   },
   "outputs": [],
   "source": []
  },
  {
   "cell_type": "markdown",
   "metadata": {},
   "source": [
    "# Задание - взять и посмотреть какие главниые фичи выделит SHAP-подход, сравнить взаимное влияние аналогичных признаков, прокомеенитровать 2 конкретных предсказания трназакции"
   ]
  },
  {
   "cell_type": "code",
   "execution_count": null,
   "metadata": {
    "collapsed": true
   },
   "outputs": [],
   "source": []
  }
 ],
 "metadata": {
  "kernelspec": {
   "display_name": "Python 3",
   "language": "python",
   "name": "python3"
  },
  "language_info": {
   "codemirror_mode": {
    "name": "ipython",
    "version": 3
   },
   "file_extension": ".py",
   "mimetype": "text/x-python",
   "name": "python",
   "nbconvert_exporter": "python",
   "pygments_lexer": "ipython3",
   "version": "3.6.1"
  }
 },
 "nbformat": 4,
 "nbformat_minor": 2
}
