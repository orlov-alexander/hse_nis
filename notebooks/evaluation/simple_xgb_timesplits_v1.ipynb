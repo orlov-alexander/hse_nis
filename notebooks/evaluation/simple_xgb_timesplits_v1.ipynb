{
 "cells": [
  {
   "cell_type": "code",
   "execution_count": 1,
   "metadata": {},
   "outputs": [],
   "source": [
    "import pandas as pd\n",
    "import numpy as np\n",
    "import sqlite3\n",
    "import datetime\n",
    "import sklearn\n",
    "import sqlalchemy as sa\n",
    "from tqdm import tqdm_notebook\n",
    "import itertools\n",
    "import pickle\n",
    "from sklearn.metrics import average_precision_score\n",
    "from sklearn.metrics import roc_auc_score\n",
    "from sklearn.metrics import precision_recall_curve\n",
    "from sklearn import metrics"
   ]
  },
  {
   "cell_type": "code",
   "execution_count": 2,
   "metadata": {},
   "outputs": [],
   "source": [
    "from sklearn.model_selection import TimeSeriesSplit\n",
    "from sklearn.model_selection import train_test_split\n",
    "import xgboost as xgb\n",
    "from sklearn.model_selection import GridSearchCV\n",
    "from sklearn.metrics import roc_auc_score\n",
    "\n",
    "import matplotlib.pyplot as plt\n",
    "from sklearn.metrics import precision_recall_curve, auc\n",
    "\n",
    "import operator\n",
    "import gc"
   ]
  },
  {
   "cell_type": "code",
   "execution_count": 3,
   "metadata": {},
   "outputs": [
    {
     "data": {
      "text/html": [
       "<style>.container { width:100% !important; }</style>"
      ],
      "text/plain": [
       "<IPython.core.display.HTML object>"
      ]
     },
     "metadata": {},
     "output_type": "display_data"
    }
   ],
   "source": [
    "from IPython.core.display import display, HTML\n",
    "display(HTML(\"<style>.container { width:100% !important; }</style>\"))\n",
    "\n",
    "pd.set_option('display.max_rows', 500)\n",
    "pd.set_option('display.max_columns', 500)\n",
    "pd.set_option('display.max_colwidth', -1)"
   ]
  },
  {
   "cell_type": "code",
   "execution_count": 4,
   "metadata": {},
   "outputs": [],
   "source": [
    "%matplotlib inline"
   ]
  },
  {
   "cell_type": "code",
   "execution_count": 5,
   "metadata": {},
   "outputs": [
    {
     "name": "stdout",
     "output_type": "stream",
     "text": [
      "CPU times: user 1.41 s, sys: 1.02 s, total: 2.43 s\n",
      "Wall time: 2.46 s\n"
     ]
    }
   ],
   "source": [
    "%%time\n",
    "train_raw = pd.read_feather('../../data/prepaired_dataset/train_v2.fth')"
   ]
  },
  {
   "cell_type": "code",
   "execution_count": 6,
   "metadata": {},
   "outputs": [],
   "source": [
    "train_raw = train_raw.loc[train_raw.label != -1].copy()"
   ]
  },
  {
   "cell_type": "code",
   "execution_count": 7,
   "metadata": {},
   "outputs": [],
   "source": [
    "rng = np.random.RandomState(seed=1)"
   ]
  },
  {
   "cell_type": "code",
   "execution_count": 8,
   "metadata": {},
   "outputs": [],
   "source": [
    "uid_train, uid_val = train_test_split(sorted(train_raw['user_id'].unique()), test_size = 0.2, random_state = rng)"
   ]
  },
  {
   "cell_type": "code",
   "execution_count": 9,
   "metadata": {},
   "outputs": [
    {
     "data": {
      "text/plain": [
       "set()"
      ]
     },
     "execution_count": 9,
     "metadata": {},
     "output_type": "execute_result"
    }
   ],
   "source": [
    "set(uid_train) & set(uid_val)"
   ]
  },
  {
   "cell_type": "markdown",
   "metadata": {},
   "source": [
    "говнокод"
   ]
  },
  {
   "cell_type": "code",
   "execution_count": 10,
   "metadata": {},
   "outputs": [],
   "source": [
    "sd = sorted(train_raw['short_date'].unique())"
   ]
  },
  {
   "cell_type": "code",
   "execution_count": 11,
   "metadata": {},
   "outputs": [],
   "source": [
    "dates_chunk = sd[:4], sd[4:8], sd[8:12], sd[12:16], sd[16:20], sd[20:24], sd[24:28], sd[28:32]"
   ]
  },
  {
   "cell_type": "code",
   "execution_count": 12,
   "metadata": {},
   "outputs": [],
   "source": [
    "drop_cols = ['event_id', 'user_id', 'event_time', 'short_date']"
   ]
  },
  {
   "cell_type": "code",
   "execution_count": 13,
   "metadata": {},
   "outputs": [],
   "source": [
    "params = {'colsample_bytree': 0.7,\n",
    " 'max_depth': 5,\n",
    " 'n_estimators': 150,\n",
    " 'reg_alpha': 0.03,\n",
    " 'subsample': 0.6,\n",
    " 'objective': 'binary:logistic',\n",
    " 'njobs': 16}"
   ]
  },
  {
   "cell_type": "code",
   "execution_count": 14,
   "metadata": {
    "scrolled": false
   },
   "outputs": [
    {
     "data": {
      "application/vnd.jupyter.widget-view+json": {
       "model_id": "7b5ac036c878458cadaf1caecf8ffc6a",
       "version_major": 2,
       "version_minor": 0
      },
      "text/html": [
       "<p>Failed to display Jupyter Widget of type <code>HBox</code>.</p>\n",
       "<p>\n",
       "  If you're reading this message in the Jupyter Notebook or JupyterLab Notebook, it may mean\n",
       "  that the widgets JavaScript is still loading. If this message persists, it\n",
       "  likely means that the widgets JavaScript library is either not installed or\n",
       "  not enabled. See the <a href=\"https://ipywidgets.readthedocs.io/en/stable/user_install.html\">Jupyter\n",
       "  Widgets Documentation</a> for setup instructions.\n",
       "</p>\n",
       "<p>\n",
       "  If you're reading this message in another frontend (for example, a static\n",
       "  rendering on GitHub or <a href=\"https://nbviewer.jupyter.org/\">NBViewer</a>),\n",
       "  it may mean that your frontend doesn't currently support widgets.\n",
       "</p>\n"
      ],
      "text/plain": [
       "HBox(children=(IntProgress(value=0, max=7), HTML(value='')))"
      ]
     },
     "metadata": {},
     "output_type": "display_data"
    },
    {
     "name": "stdout",
     "output_type": "stream",
     "text": [
      "\n"
     ]
    }
   ],
   "source": [
    "dtrains, dvals = [], []\n",
    "for dates_train, dates_val in tqdm_notebook(list(zip(dates_chunk[:-1], dates_chunk[1:]))):\n",
    "    t = train_raw.loc[train_raw['user_id'].isin(uid_train)]\n",
    "    t = t.query(f'(short_date >= {dates_train[0]}) and (short_date <= {dates_train[1]})').drop(drop_cols, axis = 1)\n",
    "    dtrain = xgb.DMatrix(t.drop('label', axis = 1), label=t['label'], missing=np.NAN)\n",
    "    t = train_raw.loc[train_raw['user_id'].isin(uid_val)]\n",
    "    t = t.query(f'(short_date >= {dates_val[0]}) and (short_date <= {dates_val[1]})').drop(drop_cols, axis = 1)\n",
    "    dval = xgb.DMatrix(t.drop('label', axis = 1), label=t['label'], missing=np.NAN)\n",
    "    dtrains.append(dtrain)\n",
    "    dvals.append(dval)"
   ]
  },
  {
   "cell_type": "code",
   "execution_count": 15,
   "metadata": {},
   "outputs": [
    {
     "data": {
      "text/plain": [
       "5677"
      ]
     },
     "execution_count": 15,
     "metadata": {},
     "output_type": "execute_result"
    }
   ],
   "source": [
    "del t, train_raw\n",
    "gc.collect()"
   ]
  },
  {
   "cell_type": "code",
   "execution_count": 16,
   "metadata": {
    "scrolled": false
   },
   "outputs": [
    {
     "data": {
      "application/vnd.jupyter.widget-view+json": {
       "model_id": "9ef289dc09a142d198bd4f1174fb6350",
       "version_major": 2,
       "version_minor": 0
      },
      "text/html": [
       "<p>Failed to display Jupyter Widget of type <code>HBox</code>.</p>\n",
       "<p>\n",
       "  If you're reading this message in the Jupyter Notebook or JupyterLab Notebook, it may mean\n",
       "  that the widgets JavaScript is still loading. If this message persists, it\n",
       "  likely means that the widgets JavaScript library is either not installed or\n",
       "  not enabled. See the <a href=\"https://ipywidgets.readthedocs.io/en/stable/user_install.html\">Jupyter\n",
       "  Widgets Documentation</a> for setup instructions.\n",
       "</p>\n",
       "<p>\n",
       "  If you're reading this message in another frontend (for example, a static\n",
       "  rendering on GitHub or <a href=\"https://nbviewer.jupyter.org/\">NBViewer</a>),\n",
       "  it may mean that your frontend doesn't currently support widgets.\n",
       "</p>\n"
      ],
      "text/plain": [
       "HBox(children=(IntProgress(value=0, max=7), HTML(value='')))"
      ]
     },
     "metadata": {},
     "output_type": "display_data"
    },
    {
     "name": "stdout",
     "output_type": "stream",
     "text": [
      "[0]\ttrain-error:0.004299\teval-error:0.003402\n",
      "Multiple eval metrics have been passed: 'eval-error' will be used for early stopping.\n",
      "\n",
      "Will train until eval-error hasn't improved in 20 rounds.\n",
      "Stopping. Best iteration:\n",
      "[7]\ttrain-error:0.003478\teval-error:0.002699\n",
      "\n",
      "Dates train: 20171029-20171101. Auc: 0.9578441454274363\n",
      "[0]\ttrain-error:0.003008\teval-error:0.00427\n",
      "Multiple eval metrics have been passed: 'eval-error' will be used for early stopping.\n",
      "\n",
      "Will train until eval-error hasn't improved in 20 rounds.\n",
      "Stopping. Best iteration:\n",
      "[9]\ttrain-error:0.002623\teval-error:0.003425\n",
      "\n",
      "Dates train: 20171102-20171105. Auc: 0.9399378489676073\n",
      "[0]\ttrain-error:0.003319\teval-error:0.004269\n",
      "Multiple eval metrics have been passed: 'eval-error' will be used for early stopping.\n",
      "\n",
      "Will train until eval-error hasn't improved in 20 rounds.\n",
      "Stopping. Best iteration:\n",
      "[16]\ttrain-error:0.002613\teval-error:0.00357\n",
      "\n",
      "Dates train: 20171106-20171109. Auc: 0.9679426688163885\n",
      "[0]\ttrain-error:0.003009\teval-error:0.003112\n",
      "Multiple eval metrics have been passed: 'eval-error' will be used for early stopping.\n",
      "\n",
      "Will train until eval-error hasn't improved in 20 rounds.\n",
      "Stopping. Best iteration:\n",
      "[23]\ttrain-error:0.002546\teval-error:0.003058\n",
      "\n",
      "Dates train: 20171110-20171113. Auc: 0.9639236632792825\n",
      "[0]\ttrain-error:0.003344\teval-error:0.003964\n",
      "Multiple eval metrics have been passed: 'eval-error' will be used for early stopping.\n",
      "\n",
      "Will train until eval-error hasn't improved in 20 rounds.\n",
      "Stopping. Best iteration:\n",
      "[17]\ttrain-error:0.002917\teval-error:0.003015\n",
      "\n",
      "Dates train: 20171114-20171117. Auc: 0.9697373081405587\n",
      "[0]\ttrain-error:0.004712\teval-error:0.00349\n",
      "Multiple eval metrics have been passed: 'eval-error' will be used for early stopping.\n",
      "\n",
      "Will train until eval-error hasn't improved in 20 rounds.\n",
      "Stopping. Best iteration:\n",
      "[35]\ttrain-error:0.003192\teval-error:0.003035\n",
      "\n",
      "Dates train: 20171118-20171121. Auc: 0.9620412520375465\n",
      "[0]\ttrain-error:0.003392\teval-error:0.003701\n",
      "Multiple eval metrics have been passed: 'eval-error' will be used for early stopping.\n",
      "\n",
      "Will train until eval-error hasn't improved in 20 rounds.\n",
      "Stopping. Best iteration:\n",
      "[21]\ttrain-error:0.002239\teval-error:0.003163\n",
      "\n",
      "Dates train: 20171122-20171125. Auc: 0.9617953259320058\n",
      "\n"
     ]
    }
   ],
   "source": [
    "num_round = 250\n",
    "models = []\n",
    "\n",
    "#for chunk_params in tqdm_notebook([{k:v for k, v in x} for x in cv_params_list]):\n",
    "for n, (dates_train, dates_val, dtrain, dval) in tqdm_notebook(list(enumerate(zip(dates_chunk[:-1], dates_chunk[1:], dtrains, dvals)))):\n",
    "    evallist = [(dtrain, 'train'), (dval, 'eval')]\n",
    "    bst = xgb.train(params, dtrain, num_round, evallist, verbose_eval=100, early_stopping_rounds = 20)\n",
    "    auc = roc_auc_score(dval.get_label(), bst.predict(dval))\n",
    "    print(f'Dates train: {min(dates_train)}-{max(dates_train)}. Auc: {auc}')\n",
    "    models.append((bst, auc))"
   ]
  },
  {
   "cell_type": "code",
   "execution_count": 18,
   "metadata": {},
   "outputs": [
    {
     "name": "stdout",
     "output_type": "stream",
     "text": [
      "0 0.9621926913089598\n",
      "1 0.962568757469725\n",
      "2 0.965530488478024\n",
      "3 0.9655431480121531\n",
      "4 0.9718855746108543\n",
      "5 0.9679323800884128\n",
      "6 0.9617953259320058\n"
     ]
    }
   ],
   "source": [
    "aucs = []\n",
    "for n, (m, _) in enumerate(models):\n",
    "    auc = roc_auc_score(dval.get_label(), m.predict(dval))\n",
    "    aucs.append(auc)\n",
    "    print(n, auc)"
   ]
  },
  {
   "cell_type": "code",
   "execution_count": 20,
   "metadata": {},
   "outputs": [
    {
     "data": {
      "text/plain": [
       "4"
      ]
     },
     "execution_count": 20,
     "metadata": {},
     "output_type": "execute_result"
    }
   ],
   "source": [
    "np.argmax(aucs)"
   ]
  },
  {
   "cell_type": "code",
   "execution_count": 25,
   "metadata": {},
   "outputs": [
    {
     "data": {
      "text/plain": [
       "[('channel_indicator_desc_is_MOBILEAPI', 35.39792),\n",
       " ('cdf_s_127', 32.53760748),\n",
       " ('transfer_know_recip_squared', 25.377529999999997),\n",
       " ('cdf_s_129', 19.001917588235294),\n",
       " ('channel_indicator_desc_is_WEBAPI', 18.512453999999998),\n",
       " ('data_i_154', 13.837689511627902),\n",
       " ('one_region', 12.943455384615387),\n",
       " ('cat_new_prov', 11.419623636363637),\n",
       " ('op_type', 9.396346500000002),\n",
       " ('transfer_recip_age', 8.221985),\n",
       " ('user_id_MBK', 7.922705),\n",
       " ('cat_new_ip', 7.467655368421052),\n",
       " ('cdf_s_133', 7.4574099375000005),\n",
       " ('transfer_for_relative', 7.268498000000001),\n",
       " ('cdf_s_134', 7.209785571428573),\n",
       " ('user_id_digit_only', 6.23708),\n",
       " ('amount', 6.057520814814815),\n",
       " ('client_age', 5.95775619019608),\n",
       " ('ip_isp', 5.849417171428572),\n",
       " ('cdf_s_130', 5.79799375862069),\n",
       " ('log_amount', 5.747212368421053),\n",
       " ('cdf_s_135', 5.700575609090909),\n",
       " ('cumulative_sum_total', 5.598316734374998),\n",
       " ('know_recip_card_age', 5.316865),\n",
       " ('event_hour', 5.28917983122449),\n",
       " ('transfer_age_diff', 5.273763310344827),\n",
       " ('event_day', 5.148228999999999),\n",
       " ('amnt2chnls', 5.106544249552238),\n",
       " ('user_id_VSP', 4.95905),\n",
       " ('client_region', 4.864353299999999),\n",
       " ('data_i_120', 4.719725552352941),\n",
       " ('event_hour_night', 2.1757105),\n",
       " ('recip_card_age', 0.742255)]"
      ]
     },
     "execution_count": 25,
     "metadata": {},
     "output_type": "execute_result"
    }
   ],
   "source": [
    "bst = models[4][0]\n",
    "sorted(bst.get_score(importance_type = 'gain').items(), key = lambda x: x[1], reverse = True)"
   ]
  },
  {
   "cell_type": "code",
   "execution_count": null,
   "metadata": {},
   "outputs": [],
   "source": [
    "folder = '../../data/models/simple_baseline/v1/'\n",
    "!mkdir -p $folder"
   ]
  },
  {
   "cell_type": "code",
   "execution_count": null,
   "metadata": {},
   "outputs": [],
   "source": [
    "with open(folder + 'models.pkl', 'wb') as f:\n",
    "    pickle.dump(models, f)"
   ]
  },
  {
   "cell_type": "code",
   "execution_count": 26,
   "metadata": {},
   "outputs": [
    {
     "data": {
      "image/png": "[encoded data removed]",
      "text/plain": [
       "<matplotlib.figure.Figure at 0x7f1b53f3b470>"
      ]
     },
     "metadata": {},
     "output_type": "display_data"
    },
    {
     "data": {
      "text/plain": [
       "0.33816436414313783"
      ]
     },
     "execution_count": 26,
     "metadata": {},
     "output_type": "execute_result"
    }
   ],
   "source": [
    "y_val = dval.get_label()\n",
    "preds = bst.predict(dval)\n",
    "average_precision = average_precision_score(y_val, preds)\n",
    "precision, recall, thresholds = precision_recall_curve(y_val, preds)\n",
    "\n",
    "plt.step(recall, precision, color='b', alpha=0.2,\n",
    "         where='post')\n",
    "plt.fill_between(recall, precision, step='post', alpha=0.2,\n",
    "                 color='b')\n",
    "\n",
    "plt.xlabel('Recall')\n",
    "plt.ylabel('Precision')\n",
    "plt.ylim([0.0, 1.05])\n",
    "plt.xlim([0.0, 1.0])\n",
    "plt.title('2-class Precision-Recall curve: AP={0:0.2f}'.format(\n",
    "          average_precision))\n",
    "plt.show()\n",
    "\n",
    "metrics.auc(recall, precision)"
   ]
  }
 ],
 "metadata": {
  "kernelspec": {
   "display_name": "Python 3",
   "language": "python",
   "name": "python3"
  },
  "language_info": {
   "codemirror_mode": {
    "name": "ipython",
    "version": 3
   },
   "file_extension": ".py",
   "mimetype": "text/x-python",
   "name": "python",
   "nbconvert_exporter": "python",
   "pygments_lexer": "ipython3",
   "version": "3.6.4"
  }
 },
 "nbformat": 4,
 "nbformat_minor": 2
}
