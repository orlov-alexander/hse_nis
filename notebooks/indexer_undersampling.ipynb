{
 "cells": [
  {
   "cell_type": "code",
   "execution_count": 1,
   "metadata": {},
   "outputs": [],
   "source": [
    "import pandas as pd\n",
    "import numpy as np\n",
    "import datetime\n",
    "import sklearn\n",
    "from sklearn.model_selection import TimeSeriesSplit\n",
    "\n",
    "from collections import Counter\n",
    "from sklearn.base import BaseEstimator\n",
    "from tqdm import trange\n",
    "from imblearn.combine import SMOTETomek\n",
    "from sklearn.linear_model import LogisticRegression\n",
    "import copy\n",
    "\n",
    "from sklearn.metrics import average_precision_score\n",
    "from sklearn.metrics import precision_recall_curve\n",
    "import matplotlib.pyplot as plt\n",
    "%matplotlib inline\n",
    "from sklearn.metrics import precision_recall_curve\n",
    "import matplotlib.pyplot as plt\n",
    "from sklearn import metrics\n",
    "from sklearn.metrics import f1_score\n",
    "from sklearn.model_selection import GridSearchCV\n",
    "from imblearn.pipeline import make_pipeline, Pipeline\n",
    "from imblearn.under_sampling import     OneSidedSelection \n",
    "from xgboost import XGBClassifier\n",
    "from imblearn.under_sampling import ClusterCentroids \n",
    "from sklearn.preprocessing import StandardScaler"
   ]
  },
  {
   "cell_type": "markdown",
   "metadata": {},
   "source": [
    "### Indexer"
   ]
  },
  {
   "cell_type": "markdown",
   "metadata": {},
   "source": [
    "Модификация индексера - ансабль забывающих моделей."
   ]
  },
  {
   "cell_type": "code",
   "execution_count": 2,
   "metadata": {},
   "outputs": [],
   "source": [
    "class forget_model(BaseEstimator):\n",
    "    def __init__(self, model=LogisticRegression(),n_splits=4, balance=None):\n",
    "        self._models = [] # лист, в котором будут храниться обученные модели для каждого сплита\n",
    "        self.n_splits = n_splits # число сплитов\n",
    "        self.balance = balance # должен поддерживать большинство \n",
    "        # методов из imbalanced-learn, которые поддерживают fit_sample\n",
    "        self._model = copy.copy(model) # модели, поддерживающие fit, predict и predict_proba\n",
    "    \n",
    "    # inputs - уникальные значения дат\n",
    "    def _iterate_megabatches(self, inputs, n_splits): # делает разбиение по времени без пересечений\n",
    "        batchsize = len(inputs)//n_splits\n",
    "        for start_idx in trange(0, len(inputs) - batchsize + 1, batchsize):\n",
    "            excerpt = np.arange(start_idx, start_idx + batchsize)\n",
    "            yield inputs[excerpt]\n",
    "    \n",
    "    # X - это весь датафрейм за два месяца ВМЕСТЕ с таргетом\n",
    "    def fit(self, X, y):\n",
    "        models = [] # пустой список моделей\n",
    "        batch_df_i_neg = pd.DataFrame() # заготовки для не фрода в итом сплите\n",
    "        batch_df_pos = pd.DataFrame() #  заготовка для фрода\n",
    "        unique_TS_split = np.array(sorted(X.TS_indexer.unique())) # получаем число уникальных дат\n",
    "        \n",
    "        for train_index in self._iterate_megabatches(inputs=unique_TS_split, n_splits=self.n_splits): \n",
    "            batch_df_i_old_neg = batch_df_i_neg # сохраняем прошлуб базу не фрода\n",
    "            batch_df_i = X[X.TS_indexer.isin(train_index)] # получаем базу данных итого сплита\n",
    "            batch_df_i_pos = batch_df_i[batch_df_i.label==1] #  разбиваем ее на фрод\n",
    "            batch_df_i_neg = batch_df_i[batch_df_i.label==0] #  и не фрод\n",
    "            batch_df_pos = pd.concat([batch_df_pos, batch_df_i_pos]) # получаем данные не фрода для обучения\n",
    "            batch_df_neg = pd.concat([batch_df_i_old_neg, batch_df_i_neg]) # получаем данные фрода для обучения\n",
    "            df_i = pd.concat([batch_df_pos, batch_df_neg]) #  объединяем фрод и не фрод\n",
    "            X_df_i = df_i.drop(['label', 'short_date','TS_indexer', 'user_id'], axis=1) #  выделяем обучение\n",
    "            y_df_i = df_i.label #  и таргет\n",
    "            if self.balance is None: #  без балансировки просто продолжаем\n",
    "                pass\n",
    "            else: \n",
    "                balancing = self.balance \n",
    "                X_df_balanced_i, y_df_balanced_i = balancing.fit_sample(X_df_i.values, y_df_i.values) # делаем перебалансировку\n",
    "                X_df_i = X_df_balanced_i\n",
    "                y_df_i = y_df_balanced_i\n",
    "\n",
    "            model_i = copy.copy(self._model) # итая модель\n",
    "            model_i.fit(X_df_i.values, y_df_i.values) # обучаем итую модель\n",
    "\n",
    "            \n",
    "            models.append(copy.copy(model_i)) #  сохраняем ее в лист\n",
    "        self._models = copy.copy(models) #  возвращаем в селф\n",
    "\n",
    "\n",
    "    def predict(self, X_test): \n",
    "        pr = np.zeros(len(X_test)) # заготовка\n",
    "        if self.n_splits==1:\n",
    "            predictions = self._models[0].predict(X_test)\n",
    "        else:\n",
    "            for model_i in self._models:\n",
    "                pr_i = model_i.predict(X_test) # предсказания итой модели\n",
    "                pr = np.vstack([pr,pr_i]) # объединяем предсказания\n",
    "            predictions = np.array([Counter(x).most_common(1)[0][0] for x in pr[1:].T]) #  простое голосвание\n",
    "        return predictions\n",
    "    \n",
    "    def predict_proba(self, X_test):\n",
    "        pr = np.array([np.zeros(len(X_test))]*2).T #заготовка\n",
    "        if self.n_splits==1:\n",
    "            predictions = self._models[0].predict_proba(X_test)\n",
    "        else:\n",
    "            for model_i in self._models:\n",
    "                pr_i = model_i.predict_proba(X_test) #  получаем вероятности итой модели\n",
    "                pr = np.sum([pr, pr_i], axis = 0) \n",
    "            predictions = pr/len(self._models) #  получаем усредненные вероятности\n",
    "        return predictions"
   ]
  },
  {
   "cell_type": "markdown",
   "metadata": {},
   "source": [
    "Вспомогательная функция для разбиения на трейновую и валидационную выборки."
   ]
  },
  {
   "cell_type": "code",
   "execution_count": 3,
   "metadata": {},
   "outputs": [],
   "source": [
    "def train_val_ts_split(X, th=0.7, split_target=None): # X - датафрейм, в котором есть  TS_indexer\n",
    "    unique_TS_split = np.array(sorted(X.TS_indexer.unique()))\n",
    "    batchsize = int(len(unique_TS_split)*th)\n",
    "    excerpt_train = np.arange(0, batchsize)\n",
    "    excerpt_val =  np.arange(batchsize, len(unique_TS_split))\n",
    "    d_train =  X[X.TS_indexer.isin(unique_TS_split[excerpt_train])]\n",
    "    d_val = X[X.TS_indexer.isin(unique_TS_split[excerpt_val])]\n",
    "    if split_target is None:\n",
    "        return d_train, d_val\n",
    "    else:\n",
    "        return d_train.drop('label', axis=1), d_train.label, d_val.drop('label', axis=1), d_val.label"
   ]
  },
  {
   "cell_type": "markdown",
   "metadata": {},
   "source": [
    "Загружаем данные с фичами и проводим предварительные преобразования."
   ]
  },
  {
   "cell_type": "code",
   "execution_count": 4,
   "metadata": {},
   "outputs": [],
   "source": [
    "data = pd.read_feather(\"../data/combined_dataset/train_v1.fth\")\n",
    "\n",
    "data['TS_indexer'] = data.short_date\n",
    "data.fillna(0, inplace=True)\n",
    "data.drop(['event_id', 'event_time'], axis = 1, inplace=True)"
   ]
  },
  {
   "cell_type": "code",
   "execution_count": 5,
   "metadata": {},
   "outputs": [],
   "source": [
    "data = data[data.label>=0]"
   ]
  },
  {
   "cell_type": "markdown",
   "metadata": {},
   "source": [
    "Разбиваем на трейн и валидацию."
   ]
  },
  {
   "cell_type": "code",
   "execution_count": 6,
   "metadata": {},
   "outputs": [],
   "source": [
    "X_train, X_val = train_val_ts_split(data , th=0.7, split_target=None)\n",
    "y_val = X_val['label'].values\n",
    "y_train = X_train['label']#.values\n",
    "x_train = X_train.drop(['label', 'short_date','TS_indexer', 'user_id'], axis=1)"
   ]
  },
  {
   "cell_type": "markdown",
   "metadata": {},
   "source": [
    "Сбросим индекс."
   ]
  },
  {
   "cell_type": "code",
   "execution_count": 12,
   "metadata": {},
   "outputs": [],
   "source": [
    "X_train_id = X_train.reset_index(drop=True)\n",
    "X = X_train_id.drop(['user_id' ,'short_date','TS_indexer', 'label'], axis=1).as_matrix()"
   ]
  },
  {
   "cell_type": "markdown",
   "metadata": {},
   "source": [
    "Проведем undersampling данных."
   ]
  },
  {
   "cell_type": "code",
   "execution_count": 14,
   "metadata": {},
   "outputs": [],
   "source": [
    "id_leg = X_train[X_train.label==0].user_id.unique()\n",
    "id_leg_f = X_train[X_train.label==1].user_id.unique()\n",
    "sample_leg = np.random.choice(id_leg, len(id_leg)//20)\n",
    "sample = np.append(sample_leg, id_leg_f)\n",
    "X_train_sampled = X_train[X_train.user_id.isin(sample)]\n",
    "y_train_sampled = y_train.loc[X_train_sampled.index].values"
   ]
  },
  {
   "cell_type": "code",
   "execution_count": 15,
   "metadata": {},
   "outputs": [],
   "source": [
    "y_train = y_train.values"
   ]
  },
  {
   "cell_type": "markdown",
   "metadata": {},
   "source": [
    "### Sampling и сравнение результатов"
   ]
  },
  {
   "cell_type": "markdown",
   "metadata": {},
   "source": [
    "Обучим стандартный градиентный бустинг с заранее подобранными параметрами."
   ]
  },
  {
   "cell_type": "code",
   "execution_count": 18,
   "metadata": {},
   "outputs": [],
   "source": [
    "import warnings\n",
    "warnings.filterwarnings('ignore')"
   ]
  },
  {
   "cell_type": "code",
   "execution_count": 19,
   "metadata": {},
   "outputs": [],
   "source": [
    "xgb = XGBClassifier(base_score=0.5, colsample_bylevel=1, colsample_bytree=0.5,\n",
    "       gamma=0, learning_rate=0.1, max_delta_step=0, max_depth=8,\n",
    "       min_child_weight=1, missing=None, n_estimators=200,\n",
    "       objective='binary:logistic', reg_alpha=8, reg_lambda=1,\n",
    "       scale_pos_weight=1, seed=0, silent=True, subsample=0.6, n_jobs=16)\n",
    "xgb.fit(X ,y_train)\n",
    "\n",
    "preds_proba = xgb.predict_proba(X_val.drop(['label', 'short_date','TS_indexer', 'user_id'], axis=1).values\n",
    "                             )\n",
    "preds = xgb.predict(X_val.drop(['label', 'short_date','TS_indexer', 'user_id'], axis=1).values\n",
    "                 )"
   ]
  },
  {
   "cell_type": "code",
   "execution_count": 21,
   "metadata": {},
   "outputs": [
    {
     "data": {
      "image/png": "[encoded data removed]",
      "text/plain": [
       "<matplotlib.figure.Figure at 0x7f3bdb126438>"
      ]
     },
     "metadata": {},
     "output_type": "display_data"
    },
    {
     "name": "stdout",
     "output_type": "stream",
     "text": [
      "Precision-Recall AUC: AP=0.4518\n"
     ]
    }
   ],
   "source": [
    "average_precision = average_precision_score(y_val, preds)\n",
    "precision, recall, thresholds = precision_recall_curve(y_val, preds_proba[:, 1])\n",
    "\n",
    "plt.step(recall, precision, color='b', alpha=0.2,\n",
    "         where='post')\n",
    "plt.fill_between(recall, precision, step='post', alpha=0.2,\n",
    "                 color='b')\n",
    "\n",
    "plt.xlabel('Recall')\n",
    "plt.ylabel('Precision')\n",
    "plt.ylim([0.0, 1.05])\n",
    "plt.xlim([0.0, 1.0])\n",
    "plt.title('2-class Precision-Recall curve: AP={0:0.2f}'.format(\n",
    "          average_precision))\n",
    "plt.show()\n",
    "\n",
    "auc = metrics.auc(recall, precision)\n",
    "print('Precision-Recall AUC: AP={0:0.4f}'.format(\n",
    "          auc))"
   ]
  },
  {
   "cell_type": "markdown",
   "metadata": {},
   "source": [
    "Градиентный бустинг с весами классов:"
   ]
  },
  {
   "cell_type": "code",
   "execution_count": 34,
   "metadata": {},
   "outputs": [
    {
     "data": {
      "image/png": "[encoded data removed]",
      "text/plain": [
       "<matplotlib.figure.Figure at 0x7f3bd784c3c8>"
      ]
     },
     "metadata": {},
     "output_type": "display_data"
    },
    {
     "name": "stdout",
     "output_type": "stream",
     "text": [
      "Precision-Recall AUC: AP=0.4120\n"
     ]
    }
   ],
   "source": [
    "xgb4 = XGBClassifier(base_score=0.5, colsample_bylevel=1, colsample_bytree=0.5,\n",
    "       gamma=0, learning_rate=0.1, max_delta_step=0, max_depth=8,\n",
    "       min_child_weight=1, missing=None, n_estimators=200,\n",
    "       objective='binary:logistic', reg_alpha=8, reg_lambda=1,\n",
    "       scale_pos_weight=sum(y_train==0)/sum(y_train==1),\n",
    "                     seed=0, silent=True, subsample=0.6, n_jobs=16)\n",
    "\n",
    "xgb4.fit(X ,y_train)\n",
    "preds_proba6 = xgb4.predict_proba(X_val.drop(['label', 'short_date','TS_indexer', 'user_id'], axis=1).values\n",
    "                             )\n",
    "preds6 = xgb4.predict(X_val.drop(['label', 'short_date','TS_indexer', 'user_id'], axis=1).values\n",
    "                    )\n",
    "\n",
    "average_precision6 = average_precision_score(y_val, preds6)\n",
    "precision6, recall6, thresholds6 = precision_recall_curve(y_val, preds_proba6[:, 1])\n",
    "\n",
    "plt.step(recall6, precision6, color='b', alpha=0.2,\n",
    "         where='post')\n",
    "plt.fill_between(recall6, precision6, step='post', alpha=0.2,\n",
    "                 color='b')\n",
    "\n",
    "plt.xlabel('Recall')\n",
    "plt.ylabel('Precision')\n",
    "plt.ylim([0.0, 1.05])\n",
    "plt.xlim([0.0, 1.0])\n",
    "plt.title('2-class Precision-Recall curve: AP={0:0.2f}'.format(\n",
    "          average_precision6))\n",
    "plt.show()\n",
    "\n",
    "auc6 = metrics.auc(recall6, precision6)\n",
    "print('Precision-Recall AUC: AP={0:0.4f}'.format(\n",
    "          auc6))"
   ]
  },
  {
   "cell_type": "markdown",
   "metadata": {},
   "source": [
    "Градиентный бустинг при андерсэмплинге:"
   ]
  },
  {
   "cell_type": "code",
   "execution_count": 22,
   "metadata": {},
   "outputs": [],
   "source": [
    "X_sampled = X_train_sampled.drop(['user_id' ,'short_date','TS_indexer', 'label'], axis=1).as_matrix()"
   ]
  },
  {
   "cell_type": "code",
   "execution_count": 23,
   "metadata": {},
   "outputs": [
    {
     "data": {
      "image/png": "[encoded data removed]",
      "text/plain": [
       "<matplotlib.figure.Figure at 0x7f3bd87b4e48>"
      ]
     },
     "metadata": {},
     "output_type": "display_data"
    },
    {
     "name": "stdout",
     "output_type": "stream",
     "text": [
      "Precision-Recall AUC: AP=0.3843\n"
     ]
    }
   ],
   "source": [
    "xgb2 = XGBClassifier(base_score=0.5, colsample_bylevel=1, colsample_bytree=0.5,\n",
    "       gamma=0, learning_rate=0.1, max_delta_step=0, max_depth=8,\n",
    "       min_child_weight=1, missing=None, n_estimators=200,\n",
    "       objective='binary:logistic', reg_alpha=8, reg_lambda=1,\n",
    "       scale_pos_weight=1, seed=0, silent=True, subsample=0.6, n_jobs=16)\n",
    "\n",
    "xgb2.fit(X_sampled ,y_train_sampled)\n",
    "preds_proba2 = xgb2.predict_proba(X_val.drop(['label', 'short_date','TS_indexer', 'user_id'], axis=1).values\n",
    "                             )\n",
    "preds2 = xgb2.predict(X_val.drop(['label', 'short_date','TS_indexer', 'user_id'], axis=1).values\n",
    "                    )\n",
    "\n",
    "average_precision2 = average_precision_score(y_val, preds2)\n",
    "precision2, recall2, thresholds2 = precision_recall_curve(y_val, preds_proba2[:, 1])\n",
    "\n",
    "\n",
    "\n",
    "plt.step(recall2, precision2, color='b', alpha=0.2,\n",
    "         where='post')\n",
    "plt.fill_between(recall2, precision2, step='post', alpha=0.2,\n",
    "                 color='b')\n",
    "\n",
    "plt.xlabel('Recall')\n",
    "plt.ylabel('Precision')\n",
    "plt.ylim([0.0, 1.05])\n",
    "plt.xlim([0.0, 1.0])\n",
    "plt.title('2-class Precision-Recall curve: AP={0:0.2f}'.format(\n",
    "          average_precision2))\n",
    "plt.show()\n",
    "\n",
    "auc2 = metrics.auc(recall2, precision2)\n",
    "print('Precision-Recall AUC: AP={0:0.4f}'.format(\n",
    "          auc2))"
   ]
  },
  {
   "cell_type": "markdown",
   "metadata": {},
   "source": [
    "#### SMOTETomek не работает с очень большими объемами данных, поэтому предварительно был уменьшен размер легитимного класса"
   ]
  },
  {
   "cell_type": "markdown",
   "metadata": {},
   "source": [
    "Градиентный бустинг при андерсэмплинге + SMOTETomek:"
   ]
  },
  {
   "cell_type": "code",
   "execution_count": 24,
   "metadata": {},
   "outputs": [],
   "source": [
    "smotek = SMOTETomek(random_state=42, n_jobs = 10)\n",
    "\n",
    "xgb3 = XGBClassifier(base_score=0.5, colsample_bylevel=1, colsample_bytree=0.5,\n",
    "       gamma=0, learning_rate=0.1, max_delta_step=0, max_depth=8,\n",
    "       min_child_weight=1, missing=None, n_estimators=200,\n",
    "       objective='binary:logistic', reg_alpha=8, reg_lambda=1,\n",
    "       scale_pos_weight=1, seed=0, silent=True, subsample=0.6, n_jobs=16)\n",
    "\n",
    "smotkxgb = Pipeline([('smt', smotek), ('xgb', xgb3)] \n",
    "                    ,memory=\"../data/cashed_gs/\" \n",
    "                   )"
   ]
  },
  {
   "cell_type": "code",
   "execution_count": 25,
   "metadata": {},
   "outputs": [
    {
     "name": "stderr",
     "output_type": "stream",
     "text": [
      "/anaconda3/lib/python3.6/site-packages/imblearn/utils/deprecation.py:50: DeprecationWarning: 'k' is deprecated from 0.2 and will be removed in 0.4. Use 'k_neighbors' instead.\n",
      "  category=DeprecationWarning)\n",
      "/anaconda3/lib/python3.6/site-packages/imblearn/utils/deprecation.py:50: DeprecationWarning: 'm' is deprecated from 0.2 and will be removed in 0.4. Use 'm_neighbors' instead.\n",
      "  category=DeprecationWarning)\n"
     ]
    },
    {
     "data": {
      "text/plain": [
       "Pipeline(memory='../data/cashed_gs/',\n",
       "     steps=[('smt', SMOTETomek(k=5, kind_smote='regular', m=10, n_jobs=10, out_step=0.5,\n",
       "      random_state=42, ratio='auto', smote=None, tomek=None)), ('xgb', XGBClassifier(base_score=0.5, booster='gbtree', colsample_bylevel=1,\n",
       "       colsample_bytree=0.5, gamma=0, learning_rate=0.1, max_delta_step=0,\n",
       " ...state=0, reg_alpha=8, reg_lambda=1, scale_pos_weight=1,\n",
       "       seed=0, silent=True, subsample=0.6))])"
      ]
     },
     "execution_count": 25,
     "metadata": {},
     "output_type": "execute_result"
    }
   ],
   "source": [
    "smotkxgb.fit(X_sampled ,y_train_sampled)"
   ]
  },
  {
   "cell_type": "code",
   "execution_count": 26,
   "metadata": {},
   "outputs": [
    {
     "data": {
      "image/png": "[encoded data removed]",
      "text/plain": [
       "<matplotlib.figure.Figure at 0x7f3bd879f198>"
      ]
     },
     "metadata": {},
     "output_type": "display_data"
    },
    {
     "name": "stdout",
     "output_type": "stream",
     "text": [
      "Precision-Recall AUC: AP=0.3804\n"
     ]
    }
   ],
   "source": [
    "preds_proba3 = smotkxgb.predict_proba(X_val.drop(['label', 'short_date','TS_indexer', 'user_id'], axis=1).values\n",
    "                             )\n",
    "preds3 = smotkxgb.predict(X_val.drop(['label', 'short_date','TS_indexer', 'user_id'], axis=1).values\n",
    "                    )\n",
    "\n",
    "average_precision3 = average_precision_score(y_val, preds3)\n",
    "precision3, recall3, thresholds3 = precision_recall_curve(y_val, preds_proba3[:, 1])\n",
    "\n",
    "\n",
    "\n",
    "plt.step(recall3, precision3, color='b', alpha=0.2,\n",
    "         where='post')\n",
    "plt.fill_between(recall3, precision3, step='post', alpha=0.2,\n",
    "                 color='b')\n",
    "\n",
    "plt.xlabel('Recall')\n",
    "plt.ylabel('Precision')\n",
    "plt.ylim([0.0, 1.05])\n",
    "plt.xlim([0.0, 1.0])\n",
    "plt.title('2-class Precision-Recall curve: AP={0:0.2f}'.format(\n",
    "          average_precision3))\n",
    "plt.show()\n",
    "\n",
    "auc3 = metrics.auc(recall3, precision3)\n",
    "print('Precision-Recall AUC: AP={0:0.4f}'.format(\n",
    "          auc3))"
   ]
  },
  {
   "cell_type": "markdown",
   "metadata": {},
   "source": [
    "Забывающая модель:"
   ]
  },
  {
   "cell_type": "code",
   "execution_count": 27,
   "metadata": {},
   "outputs": [
    {
     "name": "stderr",
     "output_type": "stream",
     "text": [
      "100%|██████████| 2/2 [07:14<00:00, 217.33s/it]\n"
     ]
    },
    {
     "data": {
      "image/png": "[encoded data removed]",
      "text/plain": [
       "<matplotlib.figure.Figure at 0x7f3bd87089b0>"
      ]
     },
     "metadata": {},
     "output_type": "display_data"
    },
    {
     "name": "stdout",
     "output_type": "stream",
     "text": [
      "Precision-Recall AUC: AP=0.4420\n"
     ]
    }
   ],
   "source": [
    "model_f = forget_model(model=XGBClassifier(base_score=0.5, colsample_bylevel=1, colsample_bytree=0.5,\n",
    "       gamma=0, learning_rate=0.1, max_delta_step=0, max_depth=8,\n",
    "       min_child_weight=1, missing=None, n_estimators=200,\n",
    "       objective='binary:logistic', reg_alpha=8, reg_lambda=1,\n",
    "       scale_pos_weight=1, seed=0, silent=True, subsample=0.6, n_jobs=16),\n",
    "                       n_splits=2)\n",
    "\n",
    "model_f.fit(X_train, y_train)\n",
    "preds_proba4 = model_f.predict_proba(X_val.drop(['label', 'short_date','TS_indexer', 'user_id'], axis=1).values\n",
    "                             )\n",
    "preds4 = model_f.predict(X_val.drop(['label', 'short_date','TS_indexer', 'user_id'], axis=1).values\n",
    "                 )\n",
    "average_precision4 = average_precision_score(y_val, preds4)\n",
    "precision4, recall4, thresholds4 = precision_recall_curve(y_val, preds_proba4[:, 1])\n",
    "\n",
    "\n",
    "\n",
    "plt.step(recall4, precision4, color='b', alpha=0.2,\n",
    "         where='post')\n",
    "plt.fill_between(recall4, precision4, step='post', alpha=0.2,\n",
    "                 color='b')\n",
    "\n",
    "plt.xlabel('Recall')\n",
    "plt.ylabel('Precision')\n",
    "plt.ylim([0.0, 1.05])\n",
    "plt.xlim([0.0, 1.0])\n",
    "plt.title('2-class Precision-Recall curve for 2 splits: AP={0:0.2f}'.format(\n",
    "          average_precision4))\n",
    "plt.show()\n",
    "\n",
    "auc4 = metrics.auc(recall4, precision4)\n",
    "print('Precision-Recall AUC: AP={0:0.4f}'.format(\n",
    "          auc4))"
   ]
  },
  {
   "cell_type": "code",
   "execution_count": 29,
   "metadata": {},
   "outputs": [
    {
     "name": "stderr",
     "output_type": "stream",
     "text": [
      "100%|██████████| 5/5 [08:18<00:00, 99.77s/it]\n"
     ]
    },
    {
     "data": {
      "image/png": "[encoded data removed]",
      "text/plain": [
       "<matplotlib.figure.Figure at 0x7f3bd22da6d8>"
      ]
     },
     "metadata": {},
     "output_type": "display_data"
    },
    {
     "name": "stdout",
     "output_type": "stream",
     "text": [
      "Precision-Recall AUC: AP=0.4397\n"
     ]
    }
   ],
   "source": [
    "model_f = forget_model(model=XGBClassifier(base_score=0.5, colsample_bylevel=1, colsample_bytree=0.5,\n",
    "       gamma=0, learning_rate=0.1, max_delta_step=0, max_depth=8,\n",
    "       min_child_weight=1, missing=None, n_estimators=200,\n",
    "       objective='binary:logistic', reg_alpha=8, reg_lambda=1,\n",
    "       scale_pos_weight=1, seed=0, silent=True, subsample=0.6, n_jobs=16),\n",
    "                       n_splits=5)\n",
    "\n",
    "model_f.fit(X_train, y_train)\n",
    "preds_proba5 = model_f.predict_proba(X_val.drop(['label', 'short_date','TS_indexer', 'user_id'], axis=1).values\n",
    "                             )\n",
    "preds5 = model_f.predict(X_val.drop(['label', 'short_date','TS_indexer', 'user_id'], axis=1).values\n",
    "                 )\n",
    "average_precision5 = average_precision_score(y_val, preds5)\n",
    "precision5, recall5, thresholds5 = precision_recall_curve(y_val, preds_proba5[:, 1])\n",
    "\n",
    "\n",
    "\n",
    "plt.step(recall5, precision5, color='b', alpha=0.2,\n",
    "         where='post')\n",
    "plt.fill_between(recall5, precision5, step='post', alpha=0.2,\n",
    "                 color='b')\n",
    "\n",
    "plt.xlabel('Recall')\n",
    "plt.ylabel('Precision')\n",
    "plt.ylim([0.0, 1.05])\n",
    "plt.xlim([0.0, 1.0])\n",
    "plt.title('2-class Precision-Recall curve for 5 splits: AP={0:0.2f}'.format(\n",
    "          average_precision5))\n",
    "plt.show()\n",
    "\n",
    "auc5 = metrics.auc(recall5, precision5)\n",
    "print('Precision-Recall AUC: AP={0:0.4f}'.format(\n",
    "          auc5))"
   ]
  },
  {
   "cell_type": "code",
   "execution_count": 36,
   "metadata": {},
   "outputs": [],
   "source": [
    "result_df = pd.DataFrame(columns=['Average precision', 'Pr-R AUC'],\n",
    "                         index = ['xgb', 'xgb + class weight', 'undersampling xgb',\n",
    "                                  'undersampling + smotek xgb', 'forget model 2 splits', 'forget model 5 splits'])"
   ]
  },
  {
   "cell_type": "code",
   "execution_count": 38,
   "metadata": {},
   "outputs": [],
   "source": [
    "result_df.iloc[0] = [average_precision, auc]\n",
    "result_df.iloc[1] = [average_precision6, auc6]\n",
    "result_df.iloc[2] = [average_precision2, auc2]\n",
    "result_df.iloc[3] = [average_precision3, auc3]\n",
    "result_df.iloc[4] = [average_precision4, auc4]\n",
    "result_df.iloc[5] = [average_precision5, auc5]"
   ]
  },
  {
   "cell_type": "code",
   "execution_count": 39,
   "metadata": {},
   "outputs": [
    {
     "data": {
      "text/html": [
       "<div>\n",
       "<style scoped>\n",
       "    .dataframe tbody tr th:only-of-type {\n",
       "        vertical-align: middle;\n",
       "    }\n",
       "\n",
       "    .dataframe tbody tr th {\n",
       "        vertical-align: top;\n",
       "    }\n",
       "\n",
       "    .dataframe thead th {\n",
       "        text-align: right;\n",
       "    }\n",
       "</style>\n",
       "<table border=\"1\" class=\"dataframe\">\n",
       "  <thead>\n",
       "    <tr style=\"text-align: right;\">\n",
       "      <th></th>\n",
       "      <th>Average precision</th>\n",
       "      <th>Pr-R AUC</th>\n",
       "    </tr>\n",
       "  </thead>\n",
       "  <tbody>\n",
       "    <tr>\n",
       "      <th>xgb</th>\n",
       "      <td>0.227182</td>\n",
       "      <td>0.451754</td>\n",
       "    </tr>\n",
       "    <tr>\n",
       "      <th>xgb + class weight</th>\n",
       "      <td>0.0433926</td>\n",
       "      <td>0.412033</td>\n",
       "    </tr>\n",
       "    <tr>\n",
       "      <th>undersampling xgb</th>\n",
       "      <td>0.152812</td>\n",
       "      <td>0.384326</td>\n",
       "    </tr>\n",
       "    <tr>\n",
       "      <th>undersampling + smotek xgb</th>\n",
       "      <td>0.155021</td>\n",
       "      <td>0.380389</td>\n",
       "    </tr>\n",
       "    <tr>\n",
       "      <th>forget model 2 splits</th>\n",
       "      <td>0.212485</td>\n",
       "      <td>0.441986</td>\n",
       "    </tr>\n",
       "    <tr>\n",
       "      <th>forget model 5 splits</th>\n",
       "      <td>0.231636</td>\n",
       "      <td>0.439691</td>\n",
       "    </tr>\n",
       "  </tbody>\n",
       "</table>\n",
       "</div>"
      ],
      "text/plain": [
       "                           Average precision  Pr-R AUC\n",
       "xgb                                 0.227182  0.451754\n",
       "xgb + class weight                 0.0433926  0.412033\n",
       "undersampling xgb                   0.152812  0.384326\n",
       "undersampling + smotek xgb          0.155021  0.380389\n",
       "forget model 2 splits               0.212485  0.441986\n",
       "forget model 5 splits               0.231636  0.439691"
      ]
     },
     "execution_count": 39,
     "metadata": {},
     "output_type": "execute_result"
    }
   ],
   "source": [
    "result_df"
   ]
  },
  {
   "cell_type": "markdown",
   "metadata": {},
   "source": [
    "Из таблицы с результатами видно, что лучше всего себя показал обычный градиентный бустинг без каких-либо манипуляций с размерами классов."
   ]
  }
 ],
 "metadata": {
  "kernelspec": {
   "display_name": "Python 3",
   "language": "python",
   "name": "python3"
  },
  "language_info": {
   "codemirror_mode": {
    "name": "ipython",
    "version": 3
   },
   "file_extension": ".py",
   "mimetype": "text/x-python",
   "name": "python",
   "nbconvert_exporter": "python",
   "pygments_lexer": "ipython3",
   "version": "3.6.4"
  }
 },
 "nbformat": 4,
 "nbformat_minor": 2
}
